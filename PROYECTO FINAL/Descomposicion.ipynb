{
 "cells": [
  {
   "cell_type": "markdown",
   "metadata": {},
   "source": [
    "# Proyecto Final: Descomposición"
   ]
  },
  {
   "cell_type": "markdown",
   "metadata": {},
   "source": [
    "CallMeMaybe es un servicio de telefonía virtual diseñado para distribuir grandes volúmenes de llamadas entrantes entre operadores, además de gestionar llamadas salientes e internas. Con el propósito de mejorar la eficiencia del servicio y optimizar la experiencia del cliente, este proyecto tiene como objetivo identificar a los operadores menos eficaces.\n",
    "\n",
    "Un operador se considera ineficaz si:\n",
    "\n",
    "* Tiene una alta proporción de llamadas entrantes perdidas (internas y externas).\n",
    "* Muestra tiempos de espera prolongados para llamadas entrantes.\n",
    "* Realiza pocas llamadas salientes (si se supone que debe realizarlas).\n",
    "\n",
    "Para lograr este objetivo, se analizarán datos operativos y se realizarán pruebas estadísticas. Esto permitirá a los supervisores tomar decisiones informadas para mejorar el rendimiento de los operadores."
   ]
  },
  {
   "cell_type": "markdown",
   "metadata": {},
   "source": [
    "# **1. Objetivo principal**"
   ]
  },
  {
   "cell_type": "markdown",
   "metadata": {},
   "source": [
    "Identificar los operadores ineficaces en base a métricas como llamadas perdidas, tiempo de espera prolongado y baja cantidad de llamadas salientes, para mejorar la calidad del servicio."
   ]
  },
  {
   "cell_type": "markdown",
   "metadata": {},
   "source": [
    "**1.1 A quién le interesa**"
   ]
  },
  {
   "cell_type": "markdown",
   "metadata": {},
   "source": [
    "A los supervisores de CallMeMaybe, quienes utilizarán esta información para optimizar el rendimiento de los operadores."
   ]
  },
  {
   "cell_type": "markdown",
   "metadata": {},
   "source": [
    "**1.2 Decisiones se tomarán de acuerdo al análisis**"
   ]
  },
  {
   "cell_type": "markdown",
   "metadata": {},
   "source": [
    "Decidir qué operadores requieren capacitación, cambios de rol, o medidas correctivas."
   ]
  },
  {
   "cell_type": "markdown",
   "metadata": {},
   "source": [
    "# 2. Detalles"
   ]
  },
  {
   "cell_type": "markdown",
   "metadata": {},
   "source": [
    "**Reformulación de la tarea:**\n",
    "\n",
    "Determinar los operadores ineficaces basándote en datos relacionados con llamadas perdidas, tiempos de espera y cantidad de llamadas salientes/internas.\n",
    "\n",
    "Preguntas clave:\n",
    "\n",
    "- ¿Qué define una \"gran cantidad\" de llamadas perdidas o un \"tiempo de espera prolongado\"?\n",
    "\n",
    "- Esto podría requerir establecer umbrales con base en análisis exploratorios o directrices de la empresa.\n",
    "\n",
    "- ¿Cuáles son las diferencias clave entre operadores internos y externos?\n",
    "\n",
    "- ¿Cómo afecta la tarifa del cliente al desempeño de los operadores?"
   ]
  },
  {
   "cell_type": "markdown",
   "metadata": {},
   "source": [
    "# 3. Hipótesis"
   ]
  },
  {
   "cell_type": "markdown",
   "metadata": {},
   "source": [
    "- Los operadores ineficaces tienen un porcentaje más alto de llamadas perdidas (entrantes) en comparación con el promedio.\n",
    "\n",
    "- Los operadores con tiempos de espera más largos tienen tasas de insatisfacción más altas.\n",
    "\n",
    "- Los operadores responsables de llamadas salientes tienen volúmenes significativamente más bajos que el promedio.\n",
    "\n",
    "- Los operadores asignados a clientes con tarifas más altas tienen menores tasas de ineficacia."
   ]
  },
  {
   "cell_type": "markdown",
   "metadata": {},
   "source": [
    "# 4. Convertir las hipótesis en un plan de acción claro"
   ]
  },
  {
   "cell_type": "markdown",
   "metadata": {},
   "source": [
    "**Análisis exploratorio de datos (EDA):**\n",
    "\n",
    "- Inspección inicial de los datasets (telecom_dataset_us.csv y telecom_clients_us.csv).\n",
    "\n",
    "- Limpieza de datos: eliminación de duplicados, tratamiento de valores ausentes, conversión de tipos de datos, etc.\n",
    "\n",
    "- Visualización básica para entender las distribuciones (número de llamadas, duración, porcentaje de llamadas perdidas, etc.).\n",
    "\n",
    "**Identificar operadores ineficaces:**\n",
    "        \n",
    "- Calcular métricas clave para cada operador como el porcentaje de llamadas perdidas (internas y externas), el tiempo promedio de espera, la cantidad de llamadas salientes realizadas, definir umbrales para clasificar a los operadores como ineficaces y comparar estas métricas con el promedio general.\n",
    "\n",
    "**Pruebas estadísticas:**\n",
    "        \n",
    "- Comparar las métricas entre grupos (ineficaces vs. eficaces) para verificar significancia estadística.\n",
    "\n",
    "- Evaluar si la tarifa del cliente (tariff_plan) afecta la probabilidad de ineficacia.\n",
    "\n",
    "**Visualización y Dashboards:**\n",
    "        \n",
    "- Histogramas para analizar la distribución de duración y cantidad de llamadas.\n",
    "\n",
    "- Gráficos circulares para mostrar participación de llamadas internas vs. externas.\n",
    "\n",
    "- Filtros para explorar los datos según dirección y tipo."
   ]
  },
  {
   "cell_type": "markdown",
   "metadata": {},
   "source": [
    "# 5. Añadir etapas obligatorias de análisis\n",
    "\n",
    "**Preprocesamiento de datos:**\n",
    "        \n",
    "- Inspeccionar valores nulos y duplicados.\n",
    "\n",
    "- Validar nombres y tipos de columnas.\n",
    "        \n",
    "- Formatear fechas y calcular métricas necesarias (e.g., tasa de llamadas perdidas).\n",
    "\n",
    "**EDA detallado:**\n",
    "\n",
    "Explorar tendencias por fecha y cliente.\n",
    "\n",
    "Analizar correlaciones entre variables clave.\n",
    "\n",
    "**Preparar métricas finales:**\n",
    "\n",
    "- Generar un resumen de métricas por operador.\n",
    "- Clasificar operadores según niveles de eficacia."
   ]
  }
 ],
 "metadata": {
  "ExecuteTimeLog": [
   {
    "duration": 7,
    "start_time": "2024-12-12T15:45:54.596Z"
   },
   {
    "duration": 4,
    "start_time": "2024-12-12T15:46:54.065Z"
   },
   {
    "duration": 11,
    "start_time": "2024-12-12T15:56:59.541Z"
   }
  ],
  "kernelspec": {
   "display_name": "Python 3 (ipykernel)",
   "language": "python",
   "name": "python3"
  },
  "language_info": {
   "codemirror_mode": {
    "name": "ipython",
    "version": 3
   },
   "file_extension": ".py",
   "mimetype": "text/x-python",
   "name": "python",
   "nbconvert_exporter": "python",
   "pygments_lexer": "ipython3",
   "version": "3.9.19"
  },
  "toc": {
   "base_numbering": 1,
   "nav_menu": {},
   "number_sections": true,
   "sideBar": true,
   "skip_h1_title": true,
   "title_cell": "Table of Contents",
   "title_sidebar": "Contents",
   "toc_cell": false,
   "toc_position": {},
   "toc_section_display": true,
   "toc_window_display": false
  }
 },
 "nbformat": 4,
 "nbformat_minor": 2
}
