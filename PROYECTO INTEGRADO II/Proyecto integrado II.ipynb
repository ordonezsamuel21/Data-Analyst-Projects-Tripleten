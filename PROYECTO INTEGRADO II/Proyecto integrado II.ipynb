{
 "cells": [
  {
   "cell_type": "markdown",
   "metadata": {},
   "source": [
    "# Descripción del proyecto"
   ]
  },
  {
   "cell_type": "markdown",
   "metadata": {},
   "source": [
    "En este proyecto, nos embarcamos en un análisis exhaustivo del comportamiento de usuarios en una aplicación de una empresa emergente dedicada a la venta de productos alimenticios. La meta principal es entender cómo interactúan los usuarios con la app, desde sus primeras interacciones hasta la etapa final de compra, y utilizar estos hallazgos para tomar decisiones fundamentadas sobre el diseño de la plataforma.\n",
    "\n",
    "El proyecto se divide en dos partes clave: el análisis del embudo de ventas y la evaluación de un test A/A/B. En la primera parte, profundizaremos en el embudo de conversión para identificar cuántos usuarios logran llegar a la fase de compra y cuántos se quedan en etapas previas. Esto nos permitirá observar en detalle las etapas del embudo y reconocer dónde se producen las principales caídas, con el objetivo de optimizar el recorrido del usuario.\n",
    "\n",
    "La segunda parte se centra en un test A/A/B implementado para investigar el impacto de un cambio propuesto en la tipografía de la aplicación. La gerencia teme que una nueva fuente pueda intimidar a los usuarios, por lo que realizamos esta prueba con dos grupos de control que reciben la tipografía original y un grupo de prueba que usa la fuente nueva. La inclusión de dos grupos de control nos brinda la ventaja de validar la consistencia y precisión de los resultados, asegurando que cualquier diferencia detectada se deba efectivamente al cambio tipográfico y no a otros factores.\n",
    "\n",
    "Para el análisis, usaremos un conjunto de datos de registros de usuario, donde cada acción o evento queda registrado con detalles como el tipo de evento, el identificador único del usuario y la marca temporal. Además, los datos incluyen un identificador de grupo experimental, permitiéndonos diferenciar entre los grupos de control y el grupo de prueba.\n",
    "\n",
    "Este enfoque integral nos permitirá extraer insights valiosos para mejorar la experiencia del usuario y optimizar los elementos del diseño en función de datos concretos, garantizando que las decisiones sean tanto efectivas como basadas en evidencia.\n"
   ]
  },
  {
   "cell_type": "markdown",
   "metadata": {},
   "source": [
    "# Paso 1. Abrir el archivo de datos y leer la información general"
   ]
  },
  {
   "cell_type": "code",
   "execution_count": 1,
   "metadata": {},
   "outputs": [],
   "source": [
    "#Importar librerías\n",
    "import pandas as pd\n",
    "import numpy as np\n",
    "import matplotlib.pyplot as plt\n",
    "import seaborn as sns\n",
    "from scipy import stats"
   ]
  },
  {
   "cell_type": "code",
   "execution_count": 2,
   "metadata": {},
   "outputs": [],
   "source": [
    "#Cargar el archivo\n",
    "logs_exp_us = pd.read_csv('/datasets/logs_exp_us.csv', sep='\\t')"
   ]
  },
  {
   "cell_type": "code",
   "execution_count": 3,
   "metadata": {},
   "outputs": [
    {
     "data": {
      "text/html": [
       "<div>\n",
       "<style scoped>\n",
       "    .dataframe tbody tr th:only-of-type {\n",
       "        vertical-align: middle;\n",
       "    }\n",
       "\n",
       "    .dataframe tbody tr th {\n",
       "        vertical-align: top;\n",
       "    }\n",
       "\n",
       "    .dataframe thead th {\n",
       "        text-align: right;\n",
       "    }\n",
       "</style>\n",
       "<table border=\"1\" class=\"dataframe\">\n",
       "  <thead>\n",
       "    <tr style=\"text-align: right;\">\n",
       "      <th></th>\n",
       "      <th>EventName</th>\n",
       "      <th>DeviceIDHash</th>\n",
       "      <th>EventTimestamp</th>\n",
       "      <th>ExpId</th>\n",
       "    </tr>\n",
       "  </thead>\n",
       "  <tbody>\n",
       "    <tr>\n",
       "      <th>0</th>\n",
       "      <td>MainScreenAppear</td>\n",
       "      <td>4575588528974610257</td>\n",
       "      <td>1564029816</td>\n",
       "      <td>246</td>\n",
       "    </tr>\n",
       "    <tr>\n",
       "      <th>1</th>\n",
       "      <td>MainScreenAppear</td>\n",
       "      <td>7416695313311560658</td>\n",
       "      <td>1564053102</td>\n",
       "      <td>246</td>\n",
       "    </tr>\n",
       "    <tr>\n",
       "      <th>2</th>\n",
       "      <td>PaymentScreenSuccessful</td>\n",
       "      <td>3518123091307005509</td>\n",
       "      <td>1564054127</td>\n",
       "      <td>248</td>\n",
       "    </tr>\n",
       "    <tr>\n",
       "      <th>3</th>\n",
       "      <td>CartScreenAppear</td>\n",
       "      <td>3518123091307005509</td>\n",
       "      <td>1564054127</td>\n",
       "      <td>248</td>\n",
       "    </tr>\n",
       "    <tr>\n",
       "      <th>4</th>\n",
       "      <td>PaymentScreenSuccessful</td>\n",
       "      <td>6217807653094995999</td>\n",
       "      <td>1564055322</td>\n",
       "      <td>248</td>\n",
       "    </tr>\n",
       "    <tr>\n",
       "      <th>...</th>\n",
       "      <td>...</td>\n",
       "      <td>...</td>\n",
       "      <td>...</td>\n",
       "      <td>...</td>\n",
       "    </tr>\n",
       "    <tr>\n",
       "      <th>244121</th>\n",
       "      <td>MainScreenAppear</td>\n",
       "      <td>4599628364049201812</td>\n",
       "      <td>1565212345</td>\n",
       "      <td>247</td>\n",
       "    </tr>\n",
       "    <tr>\n",
       "      <th>244122</th>\n",
       "      <td>MainScreenAppear</td>\n",
       "      <td>5849806612437486590</td>\n",
       "      <td>1565212439</td>\n",
       "      <td>246</td>\n",
       "    </tr>\n",
       "    <tr>\n",
       "      <th>244123</th>\n",
       "      <td>MainScreenAppear</td>\n",
       "      <td>5746969938801999050</td>\n",
       "      <td>1565212483</td>\n",
       "      <td>246</td>\n",
       "    </tr>\n",
       "    <tr>\n",
       "      <th>244124</th>\n",
       "      <td>MainScreenAppear</td>\n",
       "      <td>5746969938801999050</td>\n",
       "      <td>1565212498</td>\n",
       "      <td>246</td>\n",
       "    </tr>\n",
       "    <tr>\n",
       "      <th>244125</th>\n",
       "      <td>OffersScreenAppear</td>\n",
       "      <td>5746969938801999050</td>\n",
       "      <td>1565212517</td>\n",
       "      <td>246</td>\n",
       "    </tr>\n",
       "  </tbody>\n",
       "</table>\n",
       "<p>244126 rows × 4 columns</p>\n",
       "</div>"
      ],
      "text/plain": [
       "                      EventName         DeviceIDHash  EventTimestamp  ExpId\n",
       "0              MainScreenAppear  4575588528974610257      1564029816    246\n",
       "1              MainScreenAppear  7416695313311560658      1564053102    246\n",
       "2       PaymentScreenSuccessful  3518123091307005509      1564054127    248\n",
       "3              CartScreenAppear  3518123091307005509      1564054127    248\n",
       "4       PaymentScreenSuccessful  6217807653094995999      1564055322    248\n",
       "...                         ...                  ...             ...    ...\n",
       "244121         MainScreenAppear  4599628364049201812      1565212345    247\n",
       "244122         MainScreenAppear  5849806612437486590      1565212439    246\n",
       "244123         MainScreenAppear  5746969938801999050      1565212483    246\n",
       "244124         MainScreenAppear  5746969938801999050      1565212498    246\n",
       "244125       OffersScreenAppear  5746969938801999050      1565212517    246\n",
       "\n",
       "[244126 rows x 4 columns]"
      ]
     },
     "execution_count": 3,
     "metadata": {},
     "output_type": "execute_result"
    }
   ],
   "source": [
    "#Verificar que haya cargado correctamente\n",
    "logs_exp_us"
   ]
  },
  {
   "cell_type": "code",
   "execution_count": 4,
   "metadata": {},
   "outputs": [
    {
     "name": "stdout",
     "output_type": "stream",
     "text": [
      "<class 'pandas.core.frame.DataFrame'>\n",
      "RangeIndex: 244126 entries, 0 to 244125\n",
      "Data columns (total 4 columns):\n",
      " #   Column          Non-Null Count   Dtype \n",
      "---  ------          --------------   ----- \n",
      " 0   EventName       244126 non-null  object\n",
      " 1   DeviceIDHash    244126 non-null  int64 \n",
      " 2   EventTimestamp  244126 non-null  int64 \n",
      " 3   ExpId           244126 non-null  int64 \n",
      "dtypes: int64(3), object(1)\n",
      "memory usage: 7.5+ MB\n"
     ]
    }
   ],
   "source": [
    "#Verificar información general\n",
    "logs_exp_us.info()"
   ]
  },
  {
   "cell_type": "markdown",
   "metadata": {},
   "source": [
    "No hay valores nulos en ninguna columna, lo que facilita el análisis sin necesidad de limpiar los datos por valores faltantes."
   ]
  },
  {
   "cell_type": "markdown",
   "metadata": {},
   "source": [
    "# Paso 2. Preparar los datos para el análisis"
   ]
  },
  {
   "cell_type": "code",
   "execution_count": 5,
   "metadata": {},
   "outputs": [],
   "source": [
    "#Cambiar el nombre de las columnas\n",
    "logs_exp_us.rename(columns={\n",
    "    'EventName': 'event_name',\n",
    "    'DeviceIDHash': 'device_id',\n",
    "    'EventTimestamp': 'event_timestamp',\n",
    "    'ExpId': 'exp_id'\n",
    "}, inplace=True)"
   ]
  },
  {
   "cell_type": "code",
   "execution_count": 6,
   "metadata": {},
   "outputs": [
    {
     "name": "stdout",
     "output_type": "stream",
     "text": [
      "event_name         0\n",
      "device_id          0\n",
      "event_timestamp    0\n",
      "exp_id             0\n",
      "dtype: int64\n"
     ]
    }
   ],
   "source": [
    "#Comprobar si hay valores ausentes\n",
    "missing_values = logs_exp_us.isnull().sum()\n",
    "print(missing_values)"
   ]
  },
  {
   "cell_type": "code",
   "execution_count": 7,
   "metadata": {},
   "outputs": [],
   "source": [
    "#Eliminar valores duplicados\n",
    "logs_exp_us.drop_duplicates(inplace=True)"
   ]
  },
  {
   "cell_type": "code",
   "execution_count": 8,
   "metadata": {},
   "outputs": [],
   "source": [
    "#Agregar columna de fecha y hora\n",
    "logs_exp_us['event_timestamp']=pd.to_datetime(logs_exp_us['event_timestamp'], unit='s')\n",
    "logs_exp_us['event_date'] = logs_exp_us['event_timestamp'].dt.date\n",
    "logs_exp_us['event_time'] = logs_exp_us['event_timestamp'].dt.time"
   ]
  },
  {
   "cell_type": "code",
   "execution_count": 9,
   "metadata": {},
   "outputs": [
    {
     "data": {
      "text/html": [
       "<div>\n",
       "<style scoped>\n",
       "    .dataframe tbody tr th:only-of-type {\n",
       "        vertical-align: middle;\n",
       "    }\n",
       "\n",
       "    .dataframe tbody tr th {\n",
       "        vertical-align: top;\n",
       "    }\n",
       "\n",
       "    .dataframe thead th {\n",
       "        text-align: right;\n",
       "    }\n",
       "</style>\n",
       "<table border=\"1\" class=\"dataframe\">\n",
       "  <thead>\n",
       "    <tr style=\"text-align: right;\">\n",
       "      <th></th>\n",
       "      <th>event_name</th>\n",
       "      <th>device_id</th>\n",
       "      <th>event_timestamp</th>\n",
       "      <th>exp_id</th>\n",
       "      <th>event_date</th>\n",
       "      <th>event_time</th>\n",
       "    </tr>\n",
       "  </thead>\n",
       "  <tbody>\n",
       "    <tr>\n",
       "      <th>0</th>\n",
       "      <td>MainScreenAppear</td>\n",
       "      <td>4575588528974610257</td>\n",
       "      <td>2019-07-25 04:43:36</td>\n",
       "      <td>246</td>\n",
       "      <td>2019-07-25</td>\n",
       "      <td>04:43:36</td>\n",
       "    </tr>\n",
       "    <tr>\n",
       "      <th>1</th>\n",
       "      <td>MainScreenAppear</td>\n",
       "      <td>7416695313311560658</td>\n",
       "      <td>2019-07-25 11:11:42</td>\n",
       "      <td>246</td>\n",
       "      <td>2019-07-25</td>\n",
       "      <td>11:11:42</td>\n",
       "    </tr>\n",
       "    <tr>\n",
       "      <th>2</th>\n",
       "      <td>PaymentScreenSuccessful</td>\n",
       "      <td>3518123091307005509</td>\n",
       "      <td>2019-07-25 11:28:47</td>\n",
       "      <td>248</td>\n",
       "      <td>2019-07-25</td>\n",
       "      <td>11:28:47</td>\n",
       "    </tr>\n",
       "    <tr>\n",
       "      <th>3</th>\n",
       "      <td>CartScreenAppear</td>\n",
       "      <td>3518123091307005509</td>\n",
       "      <td>2019-07-25 11:28:47</td>\n",
       "      <td>248</td>\n",
       "      <td>2019-07-25</td>\n",
       "      <td>11:28:47</td>\n",
       "    </tr>\n",
       "    <tr>\n",
       "      <th>4</th>\n",
       "      <td>PaymentScreenSuccessful</td>\n",
       "      <td>6217807653094995999</td>\n",
       "      <td>2019-07-25 11:48:42</td>\n",
       "      <td>248</td>\n",
       "      <td>2019-07-25</td>\n",
       "      <td>11:48:42</td>\n",
       "    </tr>\n",
       "    <tr>\n",
       "      <th>...</th>\n",
       "      <td>...</td>\n",
       "      <td>...</td>\n",
       "      <td>...</td>\n",
       "      <td>...</td>\n",
       "      <td>...</td>\n",
       "      <td>...</td>\n",
       "    </tr>\n",
       "    <tr>\n",
       "      <th>244121</th>\n",
       "      <td>MainScreenAppear</td>\n",
       "      <td>4599628364049201812</td>\n",
       "      <td>2019-08-07 21:12:25</td>\n",
       "      <td>247</td>\n",
       "      <td>2019-08-07</td>\n",
       "      <td>21:12:25</td>\n",
       "    </tr>\n",
       "    <tr>\n",
       "      <th>244122</th>\n",
       "      <td>MainScreenAppear</td>\n",
       "      <td>5849806612437486590</td>\n",
       "      <td>2019-08-07 21:13:59</td>\n",
       "      <td>246</td>\n",
       "      <td>2019-08-07</td>\n",
       "      <td>21:13:59</td>\n",
       "    </tr>\n",
       "    <tr>\n",
       "      <th>244123</th>\n",
       "      <td>MainScreenAppear</td>\n",
       "      <td>5746969938801999050</td>\n",
       "      <td>2019-08-07 21:14:43</td>\n",
       "      <td>246</td>\n",
       "      <td>2019-08-07</td>\n",
       "      <td>21:14:43</td>\n",
       "    </tr>\n",
       "    <tr>\n",
       "      <th>244124</th>\n",
       "      <td>MainScreenAppear</td>\n",
       "      <td>5746969938801999050</td>\n",
       "      <td>2019-08-07 21:14:58</td>\n",
       "      <td>246</td>\n",
       "      <td>2019-08-07</td>\n",
       "      <td>21:14:58</td>\n",
       "    </tr>\n",
       "    <tr>\n",
       "      <th>244125</th>\n",
       "      <td>OffersScreenAppear</td>\n",
       "      <td>5746969938801999050</td>\n",
       "      <td>2019-08-07 21:15:17</td>\n",
       "      <td>246</td>\n",
       "      <td>2019-08-07</td>\n",
       "      <td>21:15:17</td>\n",
       "    </tr>\n",
       "  </tbody>\n",
       "</table>\n",
       "<p>243713 rows × 6 columns</p>\n",
       "</div>"
      ],
      "text/plain": [
       "                     event_name            device_id     event_timestamp  \\\n",
       "0              MainScreenAppear  4575588528974610257 2019-07-25 04:43:36   \n",
       "1              MainScreenAppear  7416695313311560658 2019-07-25 11:11:42   \n",
       "2       PaymentScreenSuccessful  3518123091307005509 2019-07-25 11:28:47   \n",
       "3              CartScreenAppear  3518123091307005509 2019-07-25 11:28:47   \n",
       "4       PaymentScreenSuccessful  6217807653094995999 2019-07-25 11:48:42   \n",
       "...                         ...                  ...                 ...   \n",
       "244121         MainScreenAppear  4599628364049201812 2019-08-07 21:12:25   \n",
       "244122         MainScreenAppear  5849806612437486590 2019-08-07 21:13:59   \n",
       "244123         MainScreenAppear  5746969938801999050 2019-08-07 21:14:43   \n",
       "244124         MainScreenAppear  5746969938801999050 2019-08-07 21:14:58   \n",
       "244125       OffersScreenAppear  5746969938801999050 2019-08-07 21:15:17   \n",
       "\n",
       "        exp_id  event_date event_time  \n",
       "0          246  2019-07-25   04:43:36  \n",
       "1          246  2019-07-25   11:11:42  \n",
       "2          248  2019-07-25   11:28:47  \n",
       "3          248  2019-07-25   11:28:47  \n",
       "4          248  2019-07-25   11:48:42  \n",
       "...        ...         ...        ...  \n",
       "244121     247  2019-08-07   21:12:25  \n",
       "244122     246  2019-08-07   21:13:59  \n",
       "244123     246  2019-08-07   21:14:43  \n",
       "244124     246  2019-08-07   21:14:58  \n",
       "244125     246  2019-08-07   21:15:17  \n",
       "\n",
       "[243713 rows x 6 columns]"
      ]
     },
     "execution_count": 9,
     "metadata": {},
     "output_type": "execute_result"
    }
   ],
   "source": [
    "#Verificar cambios\n",
    "logs_exp_us"
   ]
  },
  {
   "cell_type": "markdown",
   "metadata": {},
   "source": [
    "Se ha realizado una preparación de datos exhaustiva y adecuada, que incluye la renombración de columnas, verificación de valores ausentes, eliminación de duplicados, y la adición de columnas útiles para análisis temporales."
   ]
  },
  {
   "cell_type": "markdown",
   "metadata": {},
   "source": [
    "# Paso 3. Estudiar y comprobar los datos"
   ]
  },
  {
   "cell_type": "markdown",
   "metadata": {},
   "source": [
    "**¿Cuántos eventos hay en los registros?**"
   ]
  },
  {
   "cell_type": "code",
   "execution_count": 10,
   "metadata": {},
   "outputs": [],
   "source": [
    "total_events = logs_exp_us['event_name'].value_counts().rename_axis('event_name').reset_index(name='count')"
   ]
  },
  {
   "cell_type": "code",
   "execution_count": 11,
   "metadata": {},
   "outputs": [
    {
     "data": {
      "text/html": [
       "<div>\n",
       "<style scoped>\n",
       "    .dataframe tbody tr th:only-of-type {\n",
       "        vertical-align: middle;\n",
       "    }\n",
       "\n",
       "    .dataframe tbody tr th {\n",
       "        vertical-align: top;\n",
       "    }\n",
       "\n",
       "    .dataframe thead th {\n",
       "        text-align: right;\n",
       "    }\n",
       "</style>\n",
       "<table border=\"1\" class=\"dataframe\">\n",
       "  <thead>\n",
       "    <tr style=\"text-align: right;\">\n",
       "      <th></th>\n",
       "      <th>event_name</th>\n",
       "      <th>count</th>\n",
       "    </tr>\n",
       "  </thead>\n",
       "  <tbody>\n",
       "    <tr>\n",
       "      <th>0</th>\n",
       "      <td>MainScreenAppear</td>\n",
       "      <td>119101</td>\n",
       "    </tr>\n",
       "    <tr>\n",
       "      <th>1</th>\n",
       "      <td>OffersScreenAppear</td>\n",
       "      <td>46808</td>\n",
       "    </tr>\n",
       "    <tr>\n",
       "      <th>2</th>\n",
       "      <td>CartScreenAppear</td>\n",
       "      <td>42668</td>\n",
       "    </tr>\n",
       "    <tr>\n",
       "      <th>3</th>\n",
       "      <td>PaymentScreenSuccessful</td>\n",
       "      <td>34118</td>\n",
       "    </tr>\n",
       "    <tr>\n",
       "      <th>4</th>\n",
       "      <td>Tutorial</td>\n",
       "      <td>1018</td>\n",
       "    </tr>\n",
       "  </tbody>\n",
       "</table>\n",
       "</div>"
      ],
      "text/plain": [
       "                event_name   count\n",
       "0         MainScreenAppear  119101\n",
       "1       OffersScreenAppear   46808\n",
       "2         CartScreenAppear   42668\n",
       "3  PaymentScreenSuccessful   34118\n",
       "4                 Tutorial    1018"
      ]
     },
     "execution_count": 11,
     "metadata": {},
     "output_type": "execute_result"
    }
   ],
   "source": [
    "total_events"
   ]
  },
  {
   "cell_type": "code",
   "execution_count": 12,
   "metadata": {},
   "outputs": [
    {
     "name": "stdout",
     "output_type": "stream",
     "text": [
      "Total de tipos únicos de eventos: 5\n"
     ]
    }
   ],
   "source": [
    "# Contar cuántos tipos únicos de eventos hay \n",
    "unique_event_types = logs_exp_us['event_name'].nunique() \n",
    "print(f\"Total de tipos únicos de eventos: {unique_event_types}\")"
   ]
  },
  {
   "cell_type": "markdown",
   "metadata": {},
   "source": [
    "**¿Cuántos usuarios y usuarias hay en los registros?**"
   ]
  },
  {
   "cell_type": "code",
   "execution_count": 13,
   "metadata": {},
   "outputs": [
    {
     "name": "stdout",
     "output_type": "stream",
     "text": [
      "Total de usuarios: 7551\n"
     ]
    }
   ],
   "source": [
    "# ¿Cuántos usuarios y usuarias hay en los registros? \n",
    "unique_users = logs_exp_us['device_id'].nunique() \n",
    "print(f\"Total de usuarios: {unique_users}\")"
   ]
  },
  {
   "cell_type": "markdown",
   "metadata": {},
   "source": [
    "Los registros contienen datos de un total de 7,551 usuarios únicos. Esto nos da una idea del tamaño de la base de usuarios que ha interactuado con la aplicación durante el periodo de tiempo cubierto por los datos."
   ]
  },
  {
   "cell_type": "markdown",
   "metadata": {},
   "source": [
    "**¿Cuál es el promedio de eventos por usuario?**"
   ]
  },
  {
   "cell_type": "code",
   "execution_count": 14,
   "metadata": {},
   "outputs": [
    {
     "name": "stdout",
     "output_type": "stream",
     "text": [
      "Promedio de eventos por usuario: 32.00\n"
     ]
    }
   ],
   "source": [
    "#Calcular el promedio de eventos por usuario\n",
    "avg_events_per_user = (total_events['count'].sum() / unique_users).round() \n",
    "print(f\"Promedio de eventos por usuario: {avg_events_per_user:.2f}\")"
   ]
  },
  {
   "cell_type": "markdown",
   "metadata": {},
   "source": [
    "En promedio, cada usuario ha realizado 32 eventos. Esto sugiere un nivel de interacción moderadamente alto con la aplicación."
   ]
  },
  {
   "cell_type": "markdown",
   "metadata": {},
   "source": [
    "**¿Qué periodo de tiempo cubren los datos?**"
   ]
  },
  {
   "cell_type": "code",
   "execution_count": 15,
   "metadata": {},
   "outputs": [
    {
     "name": "stdout",
     "output_type": "stream",
     "text": [
      "Periodo de datos: de 2019-07-25 a 2019-08-07\n"
     ]
    }
   ],
   "source": [
    "#Encontrar la fecha máxima y mínima\n",
    "date_min = logs_exp_us['event_date'].min() \n",
    "date_max = logs_exp_us['event_date'].max() \n",
    "print(f\"Periodo de datos: de {date_min} a {date_max}\")"
   ]
  },
  {
   "cell_type": "code",
   "execution_count": 16,
   "metadata": {},
   "outputs": [
    {
     "data": {
      "image/png": "[encoded data removed]",
      "text/plain": [
       "<Figure size 1500x900 with 1 Axes>"
      ]
     },
     "metadata": {},
     "output_type": "display_data"
    }
   ],
   "source": [
    "# Contar las fechas únicas y sus frecuencias\n",
    "timePeriod = logs_exp_us['event_date'].value_counts().reset_index(name='count').sort_values(by='index')\n",
    "\n",
    "# Graficar el histograma de frecuencias por fecha\n",
    "plt.figure(figsize=(15, 9))\n",
    "ax = sns.barplot(data=timePeriod, x='index', y='count')\n",
    "\n",
    "# Añadir títulos y etiquetas\n",
    "plt.title('Frecuencia de Eventos por Fecha')\n",
    "plt.xlabel('Fechas')\n",
    "plt.ylabel('Número de Eventos')\n",
    "plt.xticks(rotation=45)\n",
    "\n",
    "# Etiquetar las barras con los datos\n",
    "for p in ax.patches:\n",
    "    ax.annotate(format(p.get_height(), '.2f'), \n",
    "                xy=(p.get_x() + p.get_width() / 2., p.get_height()), \n",
    "                ha='center', \n",
    "                va='center', \n",
    "                xytext=(0, 10), \n",
    "                textcoords='offset points')\n",
    "\n",
    "# Mostrar la gráfica\n",
    "plt.show()"
   ]
  },
  {
   "cell_type": "markdown",
   "metadata": {},
   "source": [
    "La gráfica muestra una distribución de eventos a lo largo del periodo de tiempo cubierto por los datos. Hay un incremento notable de eventos a partir del 31 de julio de 2019, con picos en fechas específicas."
   ]
  },
  {
   "cell_type": "code",
   "execution_count": 17,
   "metadata": {},
   "outputs": [
    {
     "name": "stdout",
     "output_type": "stream",
     "text": [
      "Hemos perdido  17  usuarios y  2610  eventos al eliminar las entradas de datos anteriores a agosto de 2019.\n"
     ]
    },
    {
     "data": {
      "text/html": [
       "<div>\n",
       "<style scoped>\n",
       "    .dataframe tbody tr th:only-of-type {\n",
       "        vertical-align: middle;\n",
       "    }\n",
       "\n",
       "    .dataframe tbody tr th {\n",
       "        vertical-align: top;\n",
       "    }\n",
       "\n",
       "    .dataframe thead th {\n",
       "        text-align: right;\n",
       "    }\n",
       "</style>\n",
       "<table border=\"1\" class=\"dataframe\">\n",
       "  <thead>\n",
       "    <tr style=\"text-align: right;\">\n",
       "      <th></th>\n",
       "      <th>exp_id</th>\n",
       "      <th>unique_users</th>\n",
       "    </tr>\n",
       "  </thead>\n",
       "  <tbody>\n",
       "    <tr>\n",
       "      <th>0</th>\n",
       "      <td>246</td>\n",
       "      <td>2484</td>\n",
       "    </tr>\n",
       "    <tr>\n",
       "      <th>1</th>\n",
       "      <td>247</td>\n",
       "      <td>2513</td>\n",
       "    </tr>\n",
       "    <tr>\n",
       "      <th>2</th>\n",
       "      <td>248</td>\n",
       "      <td>2537</td>\n",
       "    </tr>\n",
       "  </tbody>\n",
       "</table>\n",
       "</div>"
      ],
      "text/plain": [
       "   exp_id  unique_users\n",
       "0     246          2484\n",
       "1     247          2513\n",
       "2     248          2537"
      ]
     },
     "execution_count": 17,
     "metadata": {},
     "output_type": "execute_result"
    }
   ],
   "source": [
    "#Eliminar entradas de fechas anteriores al 1 de agosto de 2019\n",
    "new_data = logs_exp_us[logs_exp_us['event_date'] >= pd.to_datetime('2019-08-01')]\n",
    "\n",
    "# Calcular el número de usuarios y eventos antes de eliminar los datos antiguos\n",
    "oldNumOfUsers = logs_exp_us['device_id'].nunique()\n",
    "oldNumOfEvents = logs_exp_us['event_timestamp'].nunique()\n",
    "\n",
    "#Calcular el número de usuarios y eventos después de eliminar los datos antiguos\n",
    "newNumOfUsers = new_data['device_id'].nunique()\n",
    "newNumOfEvents = new_data['event_timestamp'].nunique()\n",
    "\n",
    "print('Hemos perdido ', (oldNumOfUsers - newNumOfUsers), ' usuarios y ', (oldNumOfEvents - newNumOfEvents), ' eventos al eliminar las entradas de datos anteriores a agosto de 2019.')\n",
    "\n",
    "#Contar usuarios únicos en cada grupo experimental después de filtrar\n",
    "expUsers = new_data.groupby('exp_id')['device_id'].nunique().reset_index()\n",
    "expUsers.columns = ['exp_id', 'unique_users']\n",
    "expUsers"
   ]
  },
  {
   "cell_type": "markdown",
   "metadata": {},
   "source": [
    "La eliminación de entradas anteriores al 1 de agosto de 2019 resultó en una pérdida mínima de usuarios (17) y eventos (2610), lo cual es insignificante considerando el tamaño total de los datos.\n",
    "\n",
    "Los grupos experimentales 246, 247 y 248 mantienen una distribución equilibrada de usuarios después del filtrado, lo cual es positivo para la validez de los resultados del experimento."
   ]
  },
  {
   "cell_type": "markdown",
   "metadata": {},
   "source": [
    "# Paso 4. Estudiar el embudo de eventos"
   ]
  },
  {
   "cell_type": "markdown",
   "metadata": {},
   "source": [
    "**Qué eventos hay en los registros y su frecuencia de suceso**"
   ]
  },
  {
   "cell_type": "code",
   "execution_count": 18,
   "metadata": {},
   "outputs": [
    {
     "data": {
      "text/html": [
       "<div>\n",
       "<style scoped>\n",
       "    .dataframe tbody tr th:only-of-type {\n",
       "        vertical-align: middle;\n",
       "    }\n",
       "\n",
       "    .dataframe tbody tr th {\n",
       "        vertical-align: top;\n",
       "    }\n",
       "\n",
       "    .dataframe thead th {\n",
       "        text-align: right;\n",
       "    }\n",
       "</style>\n",
       "<table border=\"1\" class=\"dataframe\">\n",
       "  <thead>\n",
       "    <tr style=\"text-align: right;\">\n",
       "      <th></th>\n",
       "      <th>event_name</th>\n",
       "      <th>count</th>\n",
       "    </tr>\n",
       "  </thead>\n",
       "  <tbody>\n",
       "    <tr>\n",
       "      <th>0</th>\n",
       "      <td>MainScreenAppear</td>\n",
       "      <td>117328</td>\n",
       "    </tr>\n",
       "    <tr>\n",
       "      <th>1</th>\n",
       "      <td>OffersScreenAppear</td>\n",
       "      <td>46333</td>\n",
       "    </tr>\n",
       "    <tr>\n",
       "      <th>2</th>\n",
       "      <td>CartScreenAppear</td>\n",
       "      <td>42303</td>\n",
       "    </tr>\n",
       "    <tr>\n",
       "      <th>3</th>\n",
       "      <td>PaymentScreenSuccessful</td>\n",
       "      <td>33918</td>\n",
       "    </tr>\n",
       "    <tr>\n",
       "      <th>4</th>\n",
       "      <td>Tutorial</td>\n",
       "      <td>1005</td>\n",
       "    </tr>\n",
       "  </tbody>\n",
       "</table>\n",
       "</div>"
      ],
      "text/plain": [
       "                event_name   count\n",
       "0         MainScreenAppear  117328\n",
       "1       OffersScreenAppear   46333\n",
       "2         CartScreenAppear   42303\n",
       "3  PaymentScreenSuccessful   33918\n",
       "4                 Tutorial    1005"
      ]
     },
     "execution_count": 18,
     "metadata": {},
     "output_type": "execute_result"
    }
   ],
   "source": [
    "#Utilizar value_counts() para encontrar la frecuencia de los eventos\n",
    "eventsFreq = new_data['event_name'].value_counts().rename_axis('event_name').reset_index(name='count')\n",
    "eventsFreq"
   ]
  },
  {
   "cell_type": "markdown",
   "metadata": {},
   "source": [
    "El evento MainScreenAppear es el más frecuente, seguido por OffersScreenAppear, CartScreenAppear, y PaymentScreenSuccessful. El Tutorial es el menos frecuente."
   ]
  },
  {
   "cell_type": "markdown",
   "metadata": {},
   "source": [
    "**Encontrar la cantidad de usuarios que realizaron cada una de estas acciones y calcular la proporción de usuarios que realizaron la acción al menos una vez**"
   ]
  },
  {
   "cell_type": "code",
   "execution_count": 19,
   "metadata": {},
   "outputs": [],
   "source": [
    "# Encontrar la cantidad de usuarios que realizaron cada acción\n",
    "eventUsers = new_data.groupby('event_name')['device_id'].nunique().sort_values(ascending=False)\n",
    "eventUsers = eventUsers.reset_index()\n",
    "eventUsers.columns = ['event_name', 'unique_users']\n",
    "eventUsers['user_percentage'] = (eventUsers['unique_users'] / new_data['device_id'].nunique()) * 100\n",
    "\n",
    "# Calcular la proporción de usuarios que realizaron la acción al menos una vez\n",
    "# Contar la cantidad de eventos por usuario para cada evento\n",
    "at_least_once = new_data.groupby(['device_id', 'event_name'])['event_timestamp'].count().reset_index()\n",
    "\n",
    "# Extraer solo los usuarios que tuvieron más de un evento por acción\n",
    "at_least_once = at_least_once[at_least_once['event_timestamp'] > 1]\n",
    "\n",
    "# Contar cuántos usuarios únicos tuvieron más de una acción por evento en comparación con todos los usuarios únicos\n",
    "at_least_once = at_least_once.groupby('event_name')['device_id'].nunique() / new_data.groupby('event_name')['device_id'].nunique()\n",
    "at_least_once = at_least_once.reset_index()\n",
    "at_least_once.columns = ['event_name', 'at_least_once_percentage']\n",
    "at_least_once['at_least_once_percentage'] = at_least_once['at_least_once_percentage'] * 100\n",
    "\n",
    "# Fusionar las tablas\n",
    "eventUsers = eventUsers.merge(at_least_once, on='event_name')"
   ]
  },
  {
   "cell_type": "code",
   "execution_count": 20,
   "metadata": {},
   "outputs": [
    {
     "data": {
      "text/html": [
       "<div>\n",
       "<style scoped>\n",
       "    .dataframe tbody tr th:only-of-type {\n",
       "        vertical-align: middle;\n",
       "    }\n",
       "\n",
       "    .dataframe tbody tr th {\n",
       "        vertical-align: top;\n",
       "    }\n",
       "\n",
       "    .dataframe thead th {\n",
       "        text-align: right;\n",
       "    }\n",
       "</style>\n",
       "<table border=\"1\" class=\"dataframe\">\n",
       "  <thead>\n",
       "    <tr style=\"text-align: right;\">\n",
       "      <th></th>\n",
       "      <th>event_name</th>\n",
       "      <th>unique_users</th>\n",
       "      <th>user_percentage</th>\n",
       "      <th>at_least_once_percentage</th>\n",
       "    </tr>\n",
       "  </thead>\n",
       "  <tbody>\n",
       "    <tr>\n",
       "      <th>0</th>\n",
       "      <td>MainScreenAppear</td>\n",
       "      <td>7419</td>\n",
       "      <td>98.473586</td>\n",
       "      <td>96.684189</td>\n",
       "    </tr>\n",
       "    <tr>\n",
       "      <th>1</th>\n",
       "      <td>OffersScreenAppear</td>\n",
       "      <td>4593</td>\n",
       "      <td>60.963632</td>\n",
       "      <td>85.173089</td>\n",
       "    </tr>\n",
       "    <tr>\n",
       "      <th>2</th>\n",
       "      <td>CartScreenAppear</td>\n",
       "      <td>3734</td>\n",
       "      <td>49.561986</td>\n",
       "      <td>87.359400</td>\n",
       "    </tr>\n",
       "    <tr>\n",
       "      <th>3</th>\n",
       "      <td>PaymentScreenSuccessful</td>\n",
       "      <td>3539</td>\n",
       "      <td>46.973719</td>\n",
       "      <td>83.780729</td>\n",
       "    </tr>\n",
       "    <tr>\n",
       "      <th>4</th>\n",
       "      <td>Tutorial</td>\n",
       "      <td>840</td>\n",
       "      <td>11.149456</td>\n",
       "      <td>10.000000</td>\n",
       "    </tr>\n",
       "  </tbody>\n",
       "</table>\n",
       "</div>"
      ],
      "text/plain": [
       "                event_name  unique_users  user_percentage  \\\n",
       "0         MainScreenAppear          7419        98.473586   \n",
       "1       OffersScreenAppear          4593        60.963632   \n",
       "2         CartScreenAppear          3734        49.561986   \n",
       "3  PaymentScreenSuccessful          3539        46.973719   \n",
       "4                 Tutorial           840        11.149456   \n",
       "\n",
       "   at_least_once_percentage  \n",
       "0                 96.684189  \n",
       "1                 85.173089  \n",
       "2                 87.359400  \n",
       "3                 83.780729  \n",
       "4                 10.000000  "
      ]
     },
     "execution_count": 20,
     "metadata": {},
     "output_type": "execute_result"
    }
   ],
   "source": [
    "eventUsers"
   ]
  },
  {
   "cell_type": "markdown",
   "metadata": {},
   "source": [
    "* Alta Interacción con MainScreenAppear: La alta proporción de usuarios que ven la pantalla principal (98.47%) muestra una buena atracción inicial de los usuarios a la aplicación.\n",
    "\n",
    "* Caída de Usuarios en las Siguientes Etapas: Solo el 60.96% de los usuarios pasan a la pantalla de ofertas, y menos de la mitad llegan hasta CartScreenAppear.\n",
    "\n",
    "* Conversiones Relativamente Altas: Del 49.56% de los usuarios que llegan a CartScreenAppear, la mayoría completa la compra (46.97% en PaymentScreenSuccessful), mostrando una buena tasa de conversión una vez que los usuarios añaden artículos al carrito.\n",
    "\n",
    "* Tutorial Menos Usado: El bajo porcentaje de uso del Tutorial podría indicar que la mayoría de los usuarios no necesitan guía, o puede sugerir que el tutorial no es fácilmente accesible o visible."
   ]
  },
  {
   "cell_type": "markdown",
   "metadata": {},
   "source": [
    "**¿En qué orden crees que ocurrieron las acciones? ¿Todas son parte de una sola secuencia?**"
   ]
  },
  {
   "cell_type": "markdown",
   "metadata": {},
   "source": [
    "De acuerdo a la frecuencia y naturaleza de los eventos registrados, podemos inferir el siguiente orden lógico para las acciones en la aplicación:\n",
    "\n",
    "1. MainScreenAppear: Los usuarios comienzan por ver la pantalla principal.\n",
    "\n",
    "2. OffersScreenAppear: Después de la pantalla principal, es probable que los usuarios naveguen a la pantalla de ofertas para ver promociones y productos.\n",
    "\n",
    "3. CartScreenAppear: Luego, los usuarios que deciden comprar productos añadirán artículos al carrito y accederán a la pantalla del carrito.\n",
    "\n",
    "4. PaymentScreenSuccessful: Finalmente, los usuarios completan la compra, lo que se refleja en la pantalla de pago exitoso.\n",
    "\n",
    "5. Tutorial: Este evento es menos frecuente y puede ocurrir en diferentes etapas, quizás para nuevos usuarios que necesitan orientación en cualquier momento de su experiencia.\n",
    "\n",
    "No todas estas acciones necesariamente forman una secuencia estricta que todos los usuarios sigan de manera uniforme. Sin embargo, podríamos ver una tendencia general:\n",
    "\n",
    "    Pantalla Principal → Pantalla de Ofertas → Pantalla del Carrito → Pantalla de Pago Exitoso\n",
    "\n",
    "El Tutorial parece ser una acción menos frecuente y no necesariamente parte de una secuencia fija, ya que puede aparecer en cualquier momento, especialmente para nuevos usuarios."
   ]
  },
  {
   "cell_type": "markdown",
   "metadata": {},
   "source": [
    "**Utilizar el embudo de eventos para encontrar la proporción de usuarios y usuarias que pasan de una etapa a la siguiente**"
   ]
  },
  {
   "cell_type": "code",
   "execution_count": 21,
   "metadata": {},
   "outputs": [
    {
     "data": {
      "text/html": [
       "<div>\n",
       "<style scoped>\n",
       "    .dataframe tbody tr th:only-of-type {\n",
       "        vertical-align: middle;\n",
       "    }\n",
       "\n",
       "    .dataframe tbody tr th {\n",
       "        vertical-align: top;\n",
       "    }\n",
       "\n",
       "    .dataframe thead th {\n",
       "        text-align: right;\n",
       "    }\n",
       "</style>\n",
       "<table border=\"1\" class=\"dataframe\">\n",
       "  <thead>\n",
       "    <tr style=\"text-align: right;\">\n",
       "      <th></th>\n",
       "      <th>event_name</th>\n",
       "      <th>unique_users</th>\n",
       "      <th>proportion</th>\n",
       "    </tr>\n",
       "  </thead>\n",
       "  <tbody>\n",
       "    <tr>\n",
       "      <th>0</th>\n",
       "      <td>MainScreenAppear</td>\n",
       "      <td>7419</td>\n",
       "      <td>98.47</td>\n",
       "    </tr>\n",
       "    <tr>\n",
       "      <th>1</th>\n",
       "      <td>OffersScreenAppear</td>\n",
       "      <td>4593</td>\n",
       "      <td>61.91</td>\n",
       "    </tr>\n",
       "    <tr>\n",
       "      <th>2</th>\n",
       "      <td>CartScreenAppear</td>\n",
       "      <td>3734</td>\n",
       "      <td>81.30</td>\n",
       "    </tr>\n",
       "    <tr>\n",
       "      <th>3</th>\n",
       "      <td>PaymentScreenSuccessful</td>\n",
       "      <td>3539</td>\n",
       "      <td>94.78</td>\n",
       "    </tr>\n",
       "  </tbody>\n",
       "</table>\n",
       "</div>"
      ],
      "text/plain": [
       "                event_name unique_users  proportion\n",
       "0         MainScreenAppear         7419       98.47\n",
       "1       OffersScreenAppear         4593       61.91\n",
       "2         CartScreenAppear         3734       81.30\n",
       "3  PaymentScreenSuccessful         3539       94.78"
      ]
     },
     "execution_count": 21,
     "metadata": {},
     "output_type": "execute_result"
    }
   ],
   "source": [
    "# Crear un DataFrame para almacenar las proporciones del embudo de eventos\n",
    "funnel = pd.DataFrame(columns=['event_name', 'unique_users', 'proportion'])\n",
    "\n",
    "# Definir la secuencia de eventos\n",
    "events_sequence = ['MainScreenAppear', 'OffersScreenAppear', 'CartScreenAppear', 'PaymentScreenSuccessful']\n",
    "\n",
    "# Calcular el número de usuarios únicos en cada etapa\n",
    "for i in range(len(events_sequence)):\n",
    "    event = events_sequence[i]\n",
    "    if i == 0:\n",
    "        prev_users = new_data['device_id'].nunique()\n",
    "    else:\n",
    "        prev_event = events_sequence[i-1]\n",
    "        prev_users = new_data[new_data['event_name'] == prev_event]['device_id'].nunique()\n",
    "    \n",
    "    current_users = new_data[new_data['event_name'] == event]['device_id'].nunique()\n",
    "    proportion = current_users / prev_users if prev_users != 0 else 0\n",
    "    \n",
    "    funnel = funnel.append({'event_name': event, 'unique_users': current_users, 'proportion': proportion}, ignore_index=True)\n",
    "\n",
    "# Mostrar el resultado del embudo de eventos\n",
    "funnel['proportion'] = (funnel['proportion'] * 100).round(2)  # Convertir proporciones a porcentaje\n",
    "funnel\n"
   ]
  },
  {
   "cell_type": "markdown",
   "metadata": {},
   "source": [
    "Caída Inicial Significativa: La mayor pérdida de usuarios ocurre entre MainScreenAppear y OffersScreenAppear, con una proporción de retención de solo 61.91%.\n",
    "\n",
    "Buena Retención Posterior: Una vez que los usuarios llegan a OffersScreenAppear, una alta proporción pasa a CartScreenAppear (81.30%) y finalmente a PaymentScreenSuccessful (94.78%)."
   ]
  },
  {
   "cell_type": "markdown",
   "metadata": {},
   "source": [
    "**Utilizar el embudo de eventos para encontrar la proporción de usuarios y usuarias que pasan de una etapa a la siguiente (incluyendo al evento Tutorial)**"
   ]
  },
  {
   "cell_type": "code",
   "execution_count": 22,
   "metadata": {},
   "outputs": [
    {
     "data": {
      "text/html": [
       "<div>\n",
       "<style scoped>\n",
       "    .dataframe tbody tr th:only-of-type {\n",
       "        vertical-align: middle;\n",
       "    }\n",
       "\n",
       "    .dataframe tbody tr th {\n",
       "        vertical-align: top;\n",
       "    }\n",
       "\n",
       "    .dataframe thead th {\n",
       "        text-align: right;\n",
       "    }\n",
       "</style>\n",
       "<table border=\"1\" class=\"dataframe\">\n",
       "  <thead>\n",
       "    <tr style=\"text-align: right;\">\n",
       "      <th></th>\n",
       "      <th>event_name</th>\n",
       "      <th>unique_users</th>\n",
       "      <th>proportion</th>\n",
       "    </tr>\n",
       "  </thead>\n",
       "  <tbody>\n",
       "    <tr>\n",
       "      <th>0</th>\n",
       "      <td>MainScreenAppear</td>\n",
       "      <td>7419</td>\n",
       "      <td>98.47</td>\n",
       "    </tr>\n",
       "    <tr>\n",
       "      <th>1</th>\n",
       "      <td>OffersScreenAppear</td>\n",
       "      <td>4593</td>\n",
       "      <td>61.91</td>\n",
       "    </tr>\n",
       "    <tr>\n",
       "      <th>2</th>\n",
       "      <td>CartScreenAppear</td>\n",
       "      <td>3734</td>\n",
       "      <td>81.30</td>\n",
       "    </tr>\n",
       "    <tr>\n",
       "      <th>3</th>\n",
       "      <td>PaymentScreenSuccessful</td>\n",
       "      <td>3539</td>\n",
       "      <td>94.78</td>\n",
       "    </tr>\n",
       "    <tr>\n",
       "      <th>4</th>\n",
       "      <td>Tutorial</td>\n",
       "      <td>840</td>\n",
       "      <td>23.74</td>\n",
       "    </tr>\n",
       "  </tbody>\n",
       "</table>\n",
       "</div>"
      ],
      "text/plain": [
       "                event_name unique_users  proportion\n",
       "0         MainScreenAppear         7419       98.47\n",
       "1       OffersScreenAppear         4593       61.91\n",
       "2         CartScreenAppear         3734       81.30\n",
       "3  PaymentScreenSuccessful         3539       94.78\n",
       "4                 Tutorial          840       23.74"
      ]
     },
     "execution_count": 22,
     "metadata": {},
     "output_type": "execute_result"
    }
   ],
   "source": [
    "# Crear un DataFrame para almacenar las proporciones del embudo de eventos\n",
    "funnel = pd.DataFrame(columns=['event_name', 'unique_users', 'proportion'])\n",
    "\n",
    "# Definir la secuencia de eventos incluyendo \"Tutorial\"\n",
    "events_sequence = ['MainScreenAppear', 'OffersScreenAppear', 'CartScreenAppear', 'PaymentScreenSuccessful', 'Tutorial']\n",
    "\n",
    "# Calcular el número de usuarios únicos en cada etapa\n",
    "for i in range(len(events_sequence)):\n",
    "    event = events_sequence[i]\n",
    "    if i == 0:\n",
    "        prev_users = new_data['device_id'].nunique()\n",
    "    else:\n",
    "        prev_event = events_sequence[i-1]\n",
    "        prev_users = new_data[new_data['event_name'] == prev_event]['device_id'].nunique()\n",
    "    \n",
    "    current_users = new_data[new_data['event_name'] == event]['device_id'].nunique()\n",
    "    proportion = current_users / prev_users if prev_users != 0 else 0\n",
    "    \n",
    "    funnel = funnel.append({'event_name': event, 'unique_users': current_users, 'proportion': proportion}, ignore_index=True)\n",
    "\n",
    "# Mostrar el resultado del embudo de eventos\n",
    "funnel['proportion'] = (funnel['proportion'] * 100).round(2)  # Convertir proporciones a porcentaje\n",
    "funnel\n"
   ]
  },
  {
   "cell_type": "markdown",
   "metadata": {},
   "source": [
    "La baja proporción del evento Tutorial (23.74%) sugiere que el Tutorial no es parte del flujo principal de navegación de los usuarios y es utilizado solo por una pequeña fracción de los mismos."
   ]
  },
  {
   "cell_type": "markdown",
   "metadata": {},
   "source": [
    "**¿En qué etapa pierdes más usuarios y usuarias?\n",
    "¿Qué porcentaje de usuarios y usuarias hace todo el viaje desde su primer evento hasta el pago?**"
   ]
  },
  {
   "cell_type": "code",
   "execution_count": 23,
   "metadata": {},
   "outputs": [
    {
     "name": "stdout",
     "output_type": "stream",
     "text": [
      "Embudo de eventos:\n"
     ]
    },
    {
     "data": {
      "text/html": [
       "<div>\n",
       "<style scoped>\n",
       "    .dataframe tbody tr th:only-of-type {\n",
       "        vertical-align: middle;\n",
       "    }\n",
       "\n",
       "    .dataframe tbody tr th {\n",
       "        vertical-align: top;\n",
       "    }\n",
       "\n",
       "    .dataframe thead th {\n",
       "        text-align: right;\n",
       "    }\n",
       "</style>\n",
       "<table border=\"1\" class=\"dataframe\">\n",
       "  <thead>\n",
       "    <tr style=\"text-align: right;\">\n",
       "      <th></th>\n",
       "      <th>event_name</th>\n",
       "      <th>unique_users</th>\n",
       "      <th>proportion</th>\n",
       "      <th>drop_off</th>\n",
       "    </tr>\n",
       "  </thead>\n",
       "  <tbody>\n",
       "    <tr>\n",
       "      <th>0</th>\n",
       "      <td>MainScreenAppear</td>\n",
       "      <td>7419</td>\n",
       "      <td>98.47</td>\n",
       "      <td>NaN</td>\n",
       "    </tr>\n",
       "    <tr>\n",
       "      <th>1</th>\n",
       "      <td>OffersScreenAppear</td>\n",
       "      <td>4593</td>\n",
       "      <td>61.91</td>\n",
       "      <td>2826</td>\n",
       "    </tr>\n",
       "    <tr>\n",
       "      <th>2</th>\n",
       "      <td>CartScreenAppear</td>\n",
       "      <td>3734</td>\n",
       "      <td>81.30</td>\n",
       "      <td>859</td>\n",
       "    </tr>\n",
       "    <tr>\n",
       "      <th>3</th>\n",
       "      <td>PaymentScreenSuccessful</td>\n",
       "      <td>3539</td>\n",
       "      <td>94.78</td>\n",
       "      <td>195</td>\n",
       "    </tr>\n",
       "    <tr>\n",
       "      <th>4</th>\n",
       "      <td>Tutorial</td>\n",
       "      <td>840</td>\n",
       "      <td>23.74</td>\n",
       "      <td>2699</td>\n",
       "    </tr>\n",
       "  </tbody>\n",
       "</table>\n",
       "</div>"
      ],
      "text/plain": [
       "                event_name unique_users  proportion drop_off\n",
       "0         MainScreenAppear         7419       98.47      NaN\n",
       "1       OffersScreenAppear         4593       61.91     2826\n",
       "2         CartScreenAppear         3734       81.30      859\n",
       "3  PaymentScreenSuccessful         3539       94.78      195\n",
       "4                 Tutorial          840       23.74     2699"
      ]
     },
     "metadata": {},
     "output_type": "display_data"
    },
    {
     "name": "stdout",
     "output_type": "stream",
     "text": [
      "El porcentaje de usuarios que hace todo el viaje desde el primer evento hasta el pago es: 47.70%\n"
     ]
    }
   ],
   "source": [
    "# Identificar la etapa donde se pierden más usuarios\n",
    "funnel['drop_off'] = funnel['unique_users'].diff().abs()\n",
    "\n",
    "# Calcular el porcentaje de usuarios que completan todo el viaje desde el primer evento hasta el pago\n",
    "total_users_start = funnel.loc[funnel['event_name'] == 'MainScreenAppear', 'unique_users'].values[0]\n",
    "total_users_end = funnel.loc[funnel['event_name'] == 'PaymentScreenSuccessful', 'unique_users'].values[0]\n",
    "completion_rate = (total_users_end / total_users_start) * 100\n",
    "\n",
    "# Mostrar los resultados\n",
    "print(\"Embudo de eventos:\")\n",
    "display(funnel)\n",
    "\n",
    "print(f\"El porcentaje de usuarios que hace todo el viaje desde el primer evento hasta el pago es: {completion_rate:.2f}%\")"
   ]
  },
  {
   "cell_type": "markdown",
   "metadata": {},
   "source": [
    "* Mayor Pérdida de Usuarios: La etapa donde pierdes más usuarios es entre MainScreenAppear y OffersScreenAppear, con una pérdida de 2,826 usuarios.\n",
    "\n",
    "* La segunda mayor pérdida ocurre en el Tutorial, con 2,699 usuarios menos, aunque esto no es parte del flujo principal de conversión.\n",
    "\n",
    "* Alrededor del 47.70% de los usuarios que inician en MainScreenAppear completan el viaje hasta PaymentScreenSuccessful. Este porcentaje es significativo pero también indica que más de la mitad de los usuarios no completan el viaje.\n",
    "\n",
    "* Las mayores caídas en las etapas iniciales (MainScreenAppear a OffersScreenAppear) sugieren áreas donde se pueden enfocar esfuerzos para mejorar la retención y la conversión."
   ]
  },
  {
   "cell_type": "code",
   "execution_count": 24,
   "metadata": {},
   "outputs": [
    {
     "data": {
      "image/png": "[encoded data removed]",
      "text/plain": [
       "<Figure size 1200x800 with 1 Axes>"
      ]
     },
     "metadata": {},
     "output_type": "display_data"
    },
    {
     "data": {
      "image/png": "[encoded data removed]",
      "text/plain": [
       "<Figure size 1200x800 with 1 Axes>"
      ]
     },
     "metadata": {},
     "output_type": "display_data"
    }
   ],
   "source": [
    "# Gráfico de barras para los usuarios únicos en cada etapa\n",
    "plt.figure(figsize=(12, 8))\n",
    "sns.barplot(x='event_name', y='unique_users', data=funnel, palette='viridis')\n",
    "\n",
    "# Añadir títulos y etiquetas\n",
    "plt.title('Usuarios Únicos en Cada Etapa del Embudo de Eventos')\n",
    "plt.xlabel('Nombre del Evento')\n",
    "plt.ylabel('Número de Usuarios Únicos')\n",
    "\n",
    "# Etiquetar las barras con los datos\n",
    "for index, row in funnel.iterrows():\n",
    "    plt.text(index, row.unique_users + 100, round(row.unique_users, 2), color='black', ha=\"center\")\n",
    "plt.show()\n",
    "\n",
    "# Gráfico de línea para las proporciones de usuarios que pasan de una etapa a la siguiente\n",
    "plt.figure(figsize=(12, 8))\n",
    "sns.lineplot(x='event_name', y='proportion', data=funnel, marker='o', color='b')\n",
    "\n",
    "# Añadir títulos y etiquetas\n",
    "plt.title('Proporción de Usuarios que Pasan de una Etapa a la Siguiente')\n",
    "plt.xlabel('Nombre del Evento')\n",
    "plt.ylabel('Proporción de Usuarios (%)')\n",
    "\n",
    "# Etiquetar los puntos con los datos\n",
    "for index, row in funnel.iterrows():\n",
    "    plt.text(index, row.proportion - 5, f\"{round(row.proportion, 2)}%\", color='black', ha=\"center\")\n",
    "plt.show()"
   ]
  },
  {
   "cell_type": "markdown",
   "metadata": {},
   "source": [
    "El gráfico de barras muestra claramente la cantidad de usuarios en cada etapa del embudo, permitiendo una visualización directa de la caída en cada etapa. El gráfico de línea ayuda a visualizar la proporción de usuarios que pasan de una etapa a la siguiente, destacando los puntos críticos donde ocurre la mayor pérdida."
   ]
  },
  {
   "cell_type": "markdown",
   "metadata": {},
   "source": [
    "# Paso 5. Estudiar los resultados del experimento"
   ]
  },
  {
   "cell_type": "markdown",
   "metadata": {},
   "source": [
    "**¿Cuántos usuarios y usuarias hay en cada grupo?**"
   ]
  },
  {
   "cell_type": "code",
   "execution_count": 25,
   "metadata": {},
   "outputs": [
    {
     "name": "stdout",
     "output_type": "stream",
     "text": [
      "   exp_id  unique_users\n",
      "0     246          2484\n",
      "1     247          2513\n",
      "2     248          2537\n"
     ]
    }
   ],
   "source": [
    "# Contar el número de usuarios únicos en cada grupo experimental\n",
    "users_per_group = new_data.groupby('exp_id')['device_id'].nunique().reset_index()\n",
    "users_per_group.columns = ['exp_id', 'unique_users']\n",
    "\n",
    "# Mostrar los resultados\n",
    "print(users_per_group)"
   ]
  },
  {
   "cell_type": "markdown",
   "metadata": {},
   "source": [
    "Los tres grupos experimentales tienen un número similar de usuarios únicos, lo cual es favorable para un análisis comparativo válido. Adicionalmente, se puede decir que un tamaño de muestra similar en cada grupo contribuye a la validez de los resultados del experimento, minimizando posibles sesgos."
   ]
  },
  {
   "cell_type": "markdown",
   "metadata": {},
   "source": [
    "**Observar si hay una diferencia estadísticamente significativa entre las muestras 246 y 247.**"
   ]
  },
  {
   "cell_type": "code",
   "execution_count": 26,
   "metadata": {},
   "outputs": [
    {
     "data": {
      "text/html": [
       "<div>\n",
       "<style scoped>\n",
       "    .dataframe tbody tr th:only-of-type {\n",
       "        vertical-align: middle;\n",
       "    }\n",
       "\n",
       "    .dataframe tbody tr th {\n",
       "        vertical-align: top;\n",
       "    }\n",
       "\n",
       "    .dataframe thead th {\n",
       "        text-align: right;\n",
       "    }\n",
       "</style>\n",
       "<table border=\"1\" class=\"dataframe\">\n",
       "  <thead>\n",
       "    <tr style=\"text-align: right;\">\n",
       "      <th></th>\n",
       "      <th>event_name</th>\n",
       "      <th>246</th>\n",
       "      <th>247</th>\n",
       "      <th>248</th>\n",
       "    </tr>\n",
       "  </thead>\n",
       "  <tbody>\n",
       "    <tr>\n",
       "      <th>1</th>\n",
       "      <td>MainScreenAppear</td>\n",
       "      <td>2450</td>\n",
       "      <td>2476</td>\n",
       "      <td>2493</td>\n",
       "    </tr>\n",
       "    <tr>\n",
       "      <th>2</th>\n",
       "      <td>OffersScreenAppear</td>\n",
       "      <td>1542</td>\n",
       "      <td>1520</td>\n",
       "      <td>1531</td>\n",
       "    </tr>\n",
       "    <tr>\n",
       "      <th>0</th>\n",
       "      <td>CartScreenAppear</td>\n",
       "      <td>1266</td>\n",
       "      <td>1238</td>\n",
       "      <td>1230</td>\n",
       "    </tr>\n",
       "    <tr>\n",
       "      <th>3</th>\n",
       "      <td>PaymentScreenSuccessful</td>\n",
       "      <td>1200</td>\n",
       "      <td>1158</td>\n",
       "      <td>1181</td>\n",
       "    </tr>\n",
       "    <tr>\n",
       "      <th>4</th>\n",
       "      <td>Tutorial</td>\n",
       "      <td>278</td>\n",
       "      <td>283</td>\n",
       "      <td>279</td>\n",
       "    </tr>\n",
       "  </tbody>\n",
       "</table>\n",
       "</div>"
      ],
      "text/plain": [
       "                event_name   246   247   248\n",
       "1         MainScreenAppear  2450  2476  2493\n",
       "2       OffersScreenAppear  1542  1520  1531\n",
       "0         CartScreenAppear  1266  1238  1230\n",
       "3  PaymentScreenSuccessful  1200  1158  1181\n",
       "4                 Tutorial   278   283   279"
      ]
     },
     "execution_count": 26,
     "metadata": {},
     "output_type": "execute_result"
    }
   ],
   "source": [
    "# Crear una tabla dinámica con el número de usuarios únicos en cada grupo de control que pasa por cada acción\n",
    "expGroups = new_data.pivot_table(index='event_name', values='device_id', columns='exp_id', aggfunc=lambda x: x.nunique()).reset_index()\n",
    "expGroups.columns = ['event_name', '246', '247', '248']\n",
    "expGroups = expGroups.sort_values(by='246', ascending=False)\n",
    "expGroups"
   ]
  },
  {
   "cell_type": "code",
   "execution_count": 27,
   "metadata": {},
   "outputs": [
    {
     "data": {
      "text/html": [
       "<div>\n",
       "<style scoped>\n",
       "    .dataframe tbody tr th:only-of-type {\n",
       "        vertical-align: middle;\n",
       "    }\n",
       "\n",
       "    .dataframe tbody tr th {\n",
       "        vertical-align: top;\n",
       "    }\n",
       "\n",
       "    .dataframe thead th {\n",
       "        text-align: right;\n",
       "    }\n",
       "</style>\n",
       "<table border=\"1\" class=\"dataframe\">\n",
       "  <thead>\n",
       "    <tr style=\"text-align: right;\">\n",
       "      <th></th>\n",
       "      <th>event_name</th>\n",
       "      <th>z_stat</th>\n",
       "      <th>p_value</th>\n",
       "    </tr>\n",
       "  </thead>\n",
       "  <tbody>\n",
       "    <tr>\n",
       "      <th>0</th>\n",
       "      <td>MainScreenAppear</td>\n",
       "      <td>-0.867083</td>\n",
       "      <td>0.385897</td>\n",
       "    </tr>\n",
       "    <tr>\n",
       "      <th>1</th>\n",
       "      <td>OffersScreenAppear</td>\n",
       "      <td>0.166070</td>\n",
       "      <td>0.868102</td>\n",
       "    </tr>\n",
       "    <tr>\n",
       "      <th>2</th>\n",
       "      <td>CartScreenAppear</td>\n",
       "      <td>0.368086</td>\n",
       "      <td>0.712809</td>\n",
       "    </tr>\n",
       "    <tr>\n",
       "      <th>3</th>\n",
       "      <td>PaymentScreenSuccessful</td>\n",
       "      <td>0.709439</td>\n",
       "      <td>0.478052</td>\n",
       "    </tr>\n",
       "    <tr>\n",
       "      <th>4</th>\n",
       "      <td>Tutorial</td>\n",
       "      <td>-0.325722</td>\n",
       "      <td>0.744634</td>\n",
       "    </tr>\n",
       "  </tbody>\n",
       "</table>\n",
       "</div>"
      ],
      "text/plain": [
       "                event_name    z_stat   p_value\n",
       "0         MainScreenAppear -0.867083  0.385897\n",
       "1       OffersScreenAppear  0.166070  0.868102\n",
       "2         CartScreenAppear  0.368086  0.712809\n",
       "3  PaymentScreenSuccessful  0.709439  0.478052\n",
       "4                 Tutorial -0.325722  0.744634"
      ]
     },
     "metadata": {},
     "output_type": "display_data"
    },
    {
     "name": "stdout",
     "output_type": "stream",
     "text": [
      "No hay una diferencia estadísticamente significativa en el evento MainScreenAppear entre los grupos 246 y 247.\n",
      "No hay una diferencia estadísticamente significativa en el evento OffersScreenAppear entre los grupos 246 y 247.\n",
      "No hay una diferencia estadísticamente significativa en el evento CartScreenAppear entre los grupos 246 y 247.\n",
      "No hay una diferencia estadísticamente significativa en el evento PaymentScreenSuccessful entre los grupos 246 y 247.\n",
      "No hay una diferencia estadísticamente significativa en el evento Tutorial entre los grupos 246 y 247.\n"
     ]
    }
   ],
   "source": [
    "from statsmodels.stats.proportion import proportions_ztest\n",
    "\n",
    "# Crear un DataFrame para almacenar los resultados de las pruebas estadísticas\n",
    "stat_results = pd.DataFrame(columns=['event_name', 'z_stat', 'p_value'])\n",
    "\n",
    "# Comparar proporciones de usuarios entre los grupos 246 y 247 para cada evento\n",
    "for index, row in expGroups.iterrows():\n",
    "    count = np.array([row['246'], row['247']])\n",
    "    nobs = np.array([expGroups['246'].sum(), expGroups['247'].sum()])\n",
    "    stat, p_value = proportions_ztest(count, nobs)\n",
    "    stat_results = stat_results.append({'event_name': row['event_name'], 'z_stat': stat, 'p_value': p_value}, ignore_index=True)\n",
    "\n",
    "display(stat_results)\n",
    "\n",
    "# Interpretar los resultados\n",
    "for index, row in stat_results.iterrows():\n",
    "    if row['p_value'] < 0.05:\n",
    "        print(f\"Hay una diferencia estadísticamente significativa en el evento {row['event_name']} entre los grupos 246 y 247.\")\n",
    "    else:\n",
    "        print(f\"No hay una diferencia estadísticamente significativa en el evento {row['event_name']} entre los grupos 246 y 247.\")\n"
   ]
  },
  {
   "cell_type": "markdown",
   "metadata": {},
   "source": [
    "No se encontraron diferencias estadísticamente significativas entre los grupos de control 246 y 247 para ninguno de los eventos analizados. La falta de diferencias significativas sugiere que los grupos de control 246 y 247 se dividieron correctamente y de manera equitativa."
   ]
  },
  {
   "cell_type": "markdown",
   "metadata": {},
   "source": [
    "**En cada uno de los grupos de control, encontrar el número de usuarios que realizaron el evento más popular y encontrar su participación.**"
   ]
  },
  {
   "cell_type": "code",
   "execution_count": 28,
   "metadata": {},
   "outputs": [
    {
     "name": "stdout",
     "output_type": "stream",
     "text": [
      "El evento más popular es: MainScreenAppear\n"
     ]
    }
   ],
   "source": [
    "# Encontrar el evento más popular\n",
    "most_popular_event = new_data['event_name'].value_counts().idxmax()\n",
    "print(f\"El evento más popular es: {most_popular_event}\")"
   ]
  },
  {
   "cell_type": "code",
   "execution_count": 29,
   "metadata": {},
   "outputs": [
    {
     "name": "stdout",
     "output_type": "stream",
     "text": [
      "Análisis del evento más popular: {'event_name': 'MainScreenAppear', 'users_246': 2450, 'proportion_246': 0.9863123993558777, 'users_247': 2476, 'proportion_247': 0.9852765618782332, 'z_stat': 0.3093441851418436, 'p_value': 0.7570597232046099}\n"
     ]
    }
   ],
   "source": [
    "from statsmodels.stats.proportion import proportions_ztest\n",
    "\n",
    "# Función para realizar el análisis de cada evento\n",
    "def analyze_event(event):\n",
    "    event_data = new_data[new_data['event_name'] == event]\n",
    "    users_246 = event_data[event_data['exp_id'] == 246]['device_id'].nunique()\n",
    "    users_247 = event_data[event_data['exp_id'] == 247]['device_id'].nunique()\n",
    "    total_246 = new_data[new_data['exp_id'] == 246]['device_id'].nunique()\n",
    "    total_247 = new_data[new_data['exp_id'] == 247]['device_id'].nunique()\n",
    "    \n",
    "    proportion_246 = users_246 / total_246\n",
    "    proportion_247 = users_247 / total_247\n",
    "    \n",
    "    count = np.array([users_246, users_247])\n",
    "    nobs = np.array([total_246, total_247])\n",
    "    stat, p_value = proportions_ztest(count, nobs)\n",
    "    \n",
    "    return {\n",
    "        'event_name': event,\n",
    "        'users_246': users_246,\n",
    "        'proportion_246': proportion_246,\n",
    "        'users_247': users_247,\n",
    "        'proportion_247': proportion_247,\n",
    "        'z_stat': stat,\n",
    "        'p_value': p_value\n",
    "    }\n",
    "\n",
    "# Analizar el evento más popular\n",
    "result = analyze_event(most_popular_event)\n",
    "print(f\"Análisis del evento más popular: {result}\")"
   ]
  },
  {
   "cell_type": "code",
   "execution_count": 30,
   "metadata": {},
   "outputs": [
    {
     "data": {
      "text/html": [
       "<div>\n",
       "<style scoped>\n",
       "    .dataframe tbody tr th:only-of-type {\n",
       "        vertical-align: middle;\n",
       "    }\n",
       "\n",
       "    .dataframe tbody tr th {\n",
       "        vertical-align: top;\n",
       "    }\n",
       "\n",
       "    .dataframe thead th {\n",
       "        text-align: right;\n",
       "    }\n",
       "</style>\n",
       "<table border=\"1\" class=\"dataframe\">\n",
       "  <thead>\n",
       "    <tr style=\"text-align: right;\">\n",
       "      <th></th>\n",
       "      <th>event_name</th>\n",
       "      <th>users_246</th>\n",
       "      <th>proportion_246</th>\n",
       "      <th>users_247</th>\n",
       "      <th>proportion_247</th>\n",
       "      <th>z_stat</th>\n",
       "      <th>p_value</th>\n",
       "      <th>significant</th>\n",
       "    </tr>\n",
       "  </thead>\n",
       "  <tbody>\n",
       "    <tr>\n",
       "      <th>0</th>\n",
       "      <td>Tutorial</td>\n",
       "      <td>278</td>\n",
       "      <td>0.111916</td>\n",
       "      <td>283</td>\n",
       "      <td>0.112614</td>\n",
       "      <td>-0.078161</td>\n",
       "      <td>0.937700</td>\n",
       "      <td>False</td>\n",
       "    </tr>\n",
       "    <tr>\n",
       "      <th>1</th>\n",
       "      <td>MainScreenAppear</td>\n",
       "      <td>2450</td>\n",
       "      <td>0.986312</td>\n",
       "      <td>2476</td>\n",
       "      <td>0.985277</td>\n",
       "      <td>0.309344</td>\n",
       "      <td>0.757060</td>\n",
       "      <td>False</td>\n",
       "    </tr>\n",
       "    <tr>\n",
       "      <th>2</th>\n",
       "      <td>OffersScreenAppear</td>\n",
       "      <td>1542</td>\n",
       "      <td>0.620773</td>\n",
       "      <td>1520</td>\n",
       "      <td>0.604855</td>\n",
       "      <td>1.154988</td>\n",
       "      <td>0.248095</td>\n",
       "      <td>False</td>\n",
       "    </tr>\n",
       "    <tr>\n",
       "      <th>3</th>\n",
       "      <td>CartScreenAppear</td>\n",
       "      <td>1266</td>\n",
       "      <td>0.509662</td>\n",
       "      <td>1238</td>\n",
       "      <td>0.492638</td>\n",
       "      <td>1.203369</td>\n",
       "      <td>0.228834</td>\n",
       "      <td>False</td>\n",
       "    </tr>\n",
       "    <tr>\n",
       "      <th>4</th>\n",
       "      <td>PaymentScreenSuccessful</td>\n",
       "      <td>1200</td>\n",
       "      <td>0.483092</td>\n",
       "      <td>1158</td>\n",
       "      <td>0.460804</td>\n",
       "      <td>1.577995</td>\n",
       "      <td>0.114567</td>\n",
       "      <td>False</td>\n",
       "    </tr>\n",
       "  </tbody>\n",
       "</table>\n",
       "</div>"
      ],
      "text/plain": [
       "                event_name  users_246  proportion_246  users_247  \\\n",
       "0                 Tutorial        278        0.111916        283   \n",
       "1         MainScreenAppear       2450        0.986312       2476   \n",
       "2       OffersScreenAppear       1542        0.620773       1520   \n",
       "3         CartScreenAppear       1266        0.509662       1238   \n",
       "4  PaymentScreenSuccessful       1200        0.483092       1158   \n",
       "\n",
       "   proportion_247    z_stat   p_value  significant  \n",
       "0        0.112614 -0.078161  0.937700        False  \n",
       "1        0.985277  0.309344  0.757060        False  \n",
       "2        0.604855  1.154988  0.248095        False  \n",
       "3        0.492638  1.203369  0.228834        False  \n",
       "4        0.460804  1.577995  0.114567        False  "
      ]
     },
     "metadata": {},
     "output_type": "display_data"
    },
    {
     "name": "stdout",
     "output_type": "stream",
     "text": [
      "Eventos con diferencias estadísticamente significativas:\n"
     ]
    },
    {
     "data": {
      "text/html": [
       "<div>\n",
       "<style scoped>\n",
       "    .dataframe tbody tr th:only-of-type {\n",
       "        vertical-align: middle;\n",
       "    }\n",
       "\n",
       "    .dataframe tbody tr th {\n",
       "        vertical-align: top;\n",
       "    }\n",
       "\n",
       "    .dataframe thead th {\n",
       "        text-align: right;\n",
       "    }\n",
       "</style>\n",
       "<table border=\"1\" class=\"dataframe\">\n",
       "  <thead>\n",
       "    <tr style=\"text-align: right;\">\n",
       "      <th></th>\n",
       "      <th>event_name</th>\n",
       "      <th>users_246</th>\n",
       "      <th>proportion_246</th>\n",
       "      <th>users_247</th>\n",
       "      <th>proportion_247</th>\n",
       "      <th>z_stat</th>\n",
       "      <th>p_value</th>\n",
       "      <th>significant</th>\n",
       "    </tr>\n",
       "  </thead>\n",
       "  <tbody>\n",
       "  </tbody>\n",
       "</table>\n",
       "</div>"
      ],
      "text/plain": [
       "Empty DataFrame\n",
       "Columns: [event_name, users_246, proportion_246, users_247, proportion_247, z_stat, p_value, significant]\n",
       "Index: []"
      ]
     },
     "metadata": {},
     "output_type": "display_data"
    }
   ],
   "source": [
    "# Analizar todos los eventos\n",
    "all_results = []\n",
    "\n",
    "for event in new_data['event_name'].unique():\n",
    "    result = analyze_event(event)\n",
    "    all_results.append(result)\n",
    "\n",
    "results_df = pd.DataFrame(all_results)\n",
    "\n",
    "# Determinar la significancia estadística\n",
    "results_df['significant'] = results_df['p_value'] < 0.05\n",
    "display(results_df)\n",
    "\n",
    "# Mostrar eventos con diferencias significativas\n",
    "significant_events = results_df[results_df['significant']]\n",
    "print(\"Eventos con diferencias estadísticamente significativas:\")\n",
    "display(significant_events)"
   ]
  },
  {
   "cell_type": "markdown",
   "metadata": {},
   "source": [
    "No se encontraron diferencias estadísticamente significativas entre los grupos de control 246 y 247 para ninguno de los eventos analizados."
   ]
  },
  {
   "cell_type": "code",
   "execution_count": 31,
   "metadata": {},
   "outputs": [
    {
     "data": {
      "image/png": "[encoded data removed]",
      "text/plain": [
       "<Figure size 1200x800 with 1 Axes>"
      ]
     },
     "metadata": {},
     "output_type": "display_data"
    }
   ],
   "source": [
    "# Crear una visualización para comparar las proporciones de usuarios en cada evento\n",
    "plt.figure(figsize=(12, 8))\n",
    "sns.barplot(x='event_name', y='proportion_246', data=results_df, color='blue', label='Grupo 246')\n",
    "sns.barplot(x='event_name', y='proportion_247', data=results_df, color='red', alpha=0.5, label='Grupo 247')\n",
    "\n",
    "# Añadir títulos y etiquetas\n",
    "plt.title('Comparación de Proporciones de Usuarios por Evento y Grupo')\n",
    "plt.xlabel('Evento')\n",
    "plt.ylabel('Proporción de Usuarios')\n",
    "plt.legend(title='Grupo')\n",
    "\n",
    "# Rotar etiquetas del eje X para mejor visualización\n",
    "plt.xticks(rotation=45)\n",
    "plt.show()\n"
   ]
  },
  {
   "cell_type": "markdown",
   "metadata": {},
   "source": [
    "El gráfico muestra que las proporciones de usuarios que realizaron cada evento son muy similares entre los grupos 246 y 247, visualizando la ausencia de diferencias significativas."
   ]
  },
  {
   "cell_type": "markdown",
   "metadata": {},
   "source": [
    "Análisis:\n",
    "\n",
    "* Evento más Popular: MainScreenAppear es el evento más popular, con la mayoría de los usuarios en ambos grupos de control realizándolo.\n",
    "\n",
    "* Proporciones Similares: Las proporciones de usuarios que realizan cada evento son muy similares entre los grupos 246 y 247, sin diferencias significativas.\n",
    "\n",
    "* Validación de Grupos de Control: La falta de diferencias significativas refuerza que los grupos de control se dividieron de manera equitativa y comparable."
   ]
  },
  {
   "cell_type": "markdown",
   "metadata": {},
   "source": [
    "**Comparar los resultados con los de cada uno de los grupos de control para cada evento de forma aislada. Comparar los resultados con los resultados combinados de los grupos de control**"
   ]
  },
  {
   "cell_type": "code",
   "execution_count": 32,
   "metadata": {},
   "outputs": [
    {
     "name": "stdout",
     "output_type": "stream",
     "text": [
      "El evento más popular en el grupo 248 es: MainScreenAppear\n"
     ]
    }
   ],
   "source": [
    "# Encontrar el evento más popular en el grupo 248\n",
    "most_popular_event_248 = new_data[new_data['exp_id'] == 248]['event_name'].value_counts().idxmax()\n",
    "print(f\"El evento más popular en el grupo 248 es: {most_popular_event_248}\")"
   ]
  },
  {
   "cell_type": "code",
   "execution_count": 33,
   "metadata": {},
   "outputs": [
    {
     "name": "stdout",
     "output_type": "stream",
     "text": [
      "Análisis del evento más popular en el grupo 248: {'event_name': 'MainScreenAppear', 'users_246': 2450, 'proportion_246': 0.9863123993558777, 'users_247': 2476, 'proportion_247': 0.9852765618782332, 'z_stat': 0.3093441851418436, 'p_value': 0.7570597232046099}\n"
     ]
    }
   ],
   "source": [
    "# Analizar el evento más popular en el grupo 248\n",
    "result_248 = analyze_event(most_popular_event_248)\n",
    "print(f\"Análisis del evento más popular en el grupo 248: {result_248}\")"
   ]
  },
  {
   "cell_type": "code",
   "execution_count": 34,
   "metadata": {},
   "outputs": [
    {
     "data": {
      "text/html": [
       "<div>\n",
       "<style scoped>\n",
       "    .dataframe tbody tr th:only-of-type {\n",
       "        vertical-align: middle;\n",
       "    }\n",
       "\n",
       "    .dataframe tbody tr th {\n",
       "        vertical-align: top;\n",
       "    }\n",
       "\n",
       "    .dataframe thead th {\n",
       "        text-align: right;\n",
       "    }\n",
       "</style>\n",
       "<table border=\"1\" class=\"dataframe\">\n",
       "  <thead>\n",
       "    <tr style=\"text-align: right;\">\n",
       "      <th></th>\n",
       "      <th>event_name</th>\n",
       "      <th>users_246</th>\n",
       "      <th>proportion_246</th>\n",
       "      <th>users_247</th>\n",
       "      <th>proportion_247</th>\n",
       "      <th>users_248</th>\n",
       "      <th>proportion_248</th>\n",
       "      <th>z_stat_control</th>\n",
       "      <th>p_value_control</th>\n",
       "      <th>z_stat_246</th>\n",
       "      <th>p_value_246</th>\n",
       "      <th>z_stat_247</th>\n",
       "      <th>p_value_247</th>\n",
       "      <th>significant_control</th>\n",
       "      <th>significant_246</th>\n",
       "      <th>significant_247</th>\n",
       "    </tr>\n",
       "  </thead>\n",
       "  <tbody>\n",
       "    <tr>\n",
       "      <th>0</th>\n",
       "      <td>Tutorial</td>\n",
       "      <td>278</td>\n",
       "      <td>0.111916</td>\n",
       "      <td>283</td>\n",
       "      <td>0.112614</td>\n",
       "      <td>279</td>\n",
       "      <td>0.109972</td>\n",
       "      <td>0.299102</td>\n",
       "      <td>0.764862</td>\n",
       "      <td>0.219283</td>\n",
       "      <td>0.826429</td>\n",
       "      <td>0.298497</td>\n",
       "      <td>0.765324</td>\n",
       "      <td>False</td>\n",
       "      <td>False</td>\n",
       "      <td>False</td>\n",
       "    </tr>\n",
       "    <tr>\n",
       "      <th>1</th>\n",
       "      <td>MainScreenAppear</td>\n",
       "      <td>2450</td>\n",
       "      <td>0.986312</td>\n",
       "      <td>2476</td>\n",
       "      <td>0.985277</td>\n",
       "      <td>2493</td>\n",
       "      <td>0.982657</td>\n",
       "      <td>1.048854</td>\n",
       "      <td>0.294245</td>\n",
       "      <td>1.047276</td>\n",
       "      <td>0.294972</td>\n",
       "      <td>0.740980</td>\n",
       "      <td>0.458705</td>\n",
       "      <td>False</td>\n",
       "      <td>False</td>\n",
       "      <td>False</td>\n",
       "    </tr>\n",
       "    <tr>\n",
       "      <th>2</th>\n",
       "      <td>OffersScreenAppear</td>\n",
       "      <td>1542</td>\n",
       "      <td>0.620773</td>\n",
       "      <td>1520</td>\n",
       "      <td>0.604855</td>\n",
       "      <td>1531</td>\n",
       "      <td>0.603469</td>\n",
       "      <td>0.781930</td>\n",
       "      <td>0.434255</td>\n",
       "      <td>1.258082</td>\n",
       "      <td>0.208362</td>\n",
       "      <td>0.100709</td>\n",
       "      <td>0.919782</td>\n",
       "      <td>False</td>\n",
       "      <td>False</td>\n",
       "      <td>False</td>\n",
       "    </tr>\n",
       "    <tr>\n",
       "      <th>3</th>\n",
       "      <td>CartScreenAppear</td>\n",
       "      <td>1266</td>\n",
       "      <td>0.509662</td>\n",
       "      <td>1238</td>\n",
       "      <td>0.492638</td>\n",
       "      <td>1230</td>\n",
       "      <td>0.484825</td>\n",
       "      <td>1.335359</td>\n",
       "      <td>0.181759</td>\n",
       "      <td>1.759874</td>\n",
       "      <td>0.078429</td>\n",
       "      <td>0.555402</td>\n",
       "      <td>0.578620</td>\n",
       "      <td>False</td>\n",
       "      <td>False</td>\n",
       "      <td>False</td>\n",
       "    </tr>\n",
       "    <tr>\n",
       "      <th>4</th>\n",
       "      <td>PaymentScreenSuccessful</td>\n",
       "      <td>1200</td>\n",
       "      <td>0.483092</td>\n",
       "      <td>1158</td>\n",
       "      <td>0.460804</td>\n",
       "      <td>1181</td>\n",
       "      <td>0.465510</td>\n",
       "      <td>0.523783</td>\n",
       "      <td>0.600429</td>\n",
       "      <td>1.247388</td>\n",
       "      <td>0.212255</td>\n",
       "      <td>-0.335376</td>\n",
       "      <td>0.737342</td>\n",
       "      <td>False</td>\n",
       "      <td>False</td>\n",
       "      <td>False</td>\n",
       "    </tr>\n",
       "  </tbody>\n",
       "</table>\n",
       "</div>"
      ],
      "text/plain": [
       "                event_name  users_246  proportion_246  users_247  \\\n",
       "0                 Tutorial        278        0.111916        283   \n",
       "1         MainScreenAppear       2450        0.986312       2476   \n",
       "2       OffersScreenAppear       1542        0.620773       1520   \n",
       "3         CartScreenAppear       1266        0.509662       1238   \n",
       "4  PaymentScreenSuccessful       1200        0.483092       1158   \n",
       "\n",
       "   proportion_247  users_248  proportion_248  z_stat_control  p_value_control  \\\n",
       "0        0.112614        279        0.109972        0.299102         0.764862   \n",
       "1        0.985277       2493        0.982657        1.048854         0.294245   \n",
       "2        0.604855       1531        0.603469        0.781930         0.434255   \n",
       "3        0.492638       1230        0.484825        1.335359         0.181759   \n",
       "4        0.460804       1181        0.465510        0.523783         0.600429   \n",
       "\n",
       "   z_stat_246  p_value_246  z_stat_247  p_value_247  significant_control  \\\n",
       "0    0.219283     0.826429    0.298497     0.765324                False   \n",
       "1    1.047276     0.294972    0.740980     0.458705                False   \n",
       "2    1.258082     0.208362    0.100709     0.919782                False   \n",
       "3    1.759874     0.078429    0.555402     0.578620                False   \n",
       "4    1.247388     0.212255   -0.335376     0.737342                False   \n",
       "\n",
       "   significant_246  significant_247  \n",
       "0            False            False  \n",
       "1            False            False  \n",
       "2            False            False  \n",
       "3            False            False  \n",
       "4            False            False  "
      ]
     },
     "metadata": {},
     "output_type": "display_data"
    },
    {
     "name": "stdout",
     "output_type": "stream",
     "text": [
      "Eventos con diferencias estadísticamente significativas (Control combinado):\n"
     ]
    },
    {
     "data": {
      "text/html": [
       "<div>\n",
       "<style scoped>\n",
       "    .dataframe tbody tr th:only-of-type {\n",
       "        vertical-align: middle;\n",
       "    }\n",
       "\n",
       "    .dataframe tbody tr th {\n",
       "        vertical-align: top;\n",
       "    }\n",
       "\n",
       "    .dataframe thead th {\n",
       "        text-align: right;\n",
       "    }\n",
       "</style>\n",
       "<table border=\"1\" class=\"dataframe\">\n",
       "  <thead>\n",
       "    <tr style=\"text-align: right;\">\n",
       "      <th></th>\n",
       "      <th>event_name</th>\n",
       "      <th>users_246</th>\n",
       "      <th>proportion_246</th>\n",
       "      <th>users_247</th>\n",
       "      <th>proportion_247</th>\n",
       "      <th>users_248</th>\n",
       "      <th>proportion_248</th>\n",
       "      <th>z_stat_control</th>\n",
       "      <th>p_value_control</th>\n",
       "      <th>z_stat_246</th>\n",
       "      <th>p_value_246</th>\n",
       "      <th>z_stat_247</th>\n",
       "      <th>p_value_247</th>\n",
       "      <th>significant_control</th>\n",
       "      <th>significant_246</th>\n",
       "      <th>significant_247</th>\n",
       "    </tr>\n",
       "  </thead>\n",
       "  <tbody>\n",
       "  </tbody>\n",
       "</table>\n",
       "</div>"
      ],
      "text/plain": [
       "Empty DataFrame\n",
       "Columns: [event_name, users_246, proportion_246, users_247, proportion_247, users_248, proportion_248, z_stat_control, p_value_control, z_stat_246, p_value_246, z_stat_247, p_value_247, significant_control, significant_246, significant_247]\n",
       "Index: []"
      ]
     },
     "metadata": {},
     "output_type": "display_data"
    },
    {
     "name": "stdout",
     "output_type": "stream",
     "text": [
      "Eventos con diferencias estadísticamente significativas (Grupo 246):\n"
     ]
    },
    {
     "data": {
      "text/html": [
       "<div>\n",
       "<style scoped>\n",
       "    .dataframe tbody tr th:only-of-type {\n",
       "        vertical-align: middle;\n",
       "    }\n",
       "\n",
       "    .dataframe tbody tr th {\n",
       "        vertical-align: top;\n",
       "    }\n",
       "\n",
       "    .dataframe thead th {\n",
       "        text-align: right;\n",
       "    }\n",
       "</style>\n",
       "<table border=\"1\" class=\"dataframe\">\n",
       "  <thead>\n",
       "    <tr style=\"text-align: right;\">\n",
       "      <th></th>\n",
       "      <th>event_name</th>\n",
       "      <th>users_246</th>\n",
       "      <th>proportion_246</th>\n",
       "      <th>users_247</th>\n",
       "      <th>proportion_247</th>\n",
       "      <th>users_248</th>\n",
       "      <th>proportion_248</th>\n",
       "      <th>z_stat_control</th>\n",
       "      <th>p_value_control</th>\n",
       "      <th>z_stat_246</th>\n",
       "      <th>p_value_246</th>\n",
       "      <th>z_stat_247</th>\n",
       "      <th>p_value_247</th>\n",
       "      <th>significant_control</th>\n",
       "      <th>significant_246</th>\n",
       "      <th>significant_247</th>\n",
       "    </tr>\n",
       "  </thead>\n",
       "  <tbody>\n",
       "  </tbody>\n",
       "</table>\n",
       "</div>"
      ],
      "text/plain": [
       "Empty DataFrame\n",
       "Columns: [event_name, users_246, proportion_246, users_247, proportion_247, users_248, proportion_248, z_stat_control, p_value_control, z_stat_246, p_value_246, z_stat_247, p_value_247, significant_control, significant_246, significant_247]\n",
       "Index: []"
      ]
     },
     "metadata": {},
     "output_type": "display_data"
    },
    {
     "name": "stdout",
     "output_type": "stream",
     "text": [
      "Eventos con diferencias estadísticamente significativas (Grupo 247):\n"
     ]
    },
    {
     "data": {
      "text/html": [
       "<div>\n",
       "<style scoped>\n",
       "    .dataframe tbody tr th:only-of-type {\n",
       "        vertical-align: middle;\n",
       "    }\n",
       "\n",
       "    .dataframe tbody tr th {\n",
       "        vertical-align: top;\n",
       "    }\n",
       "\n",
       "    .dataframe thead th {\n",
       "        text-align: right;\n",
       "    }\n",
       "</style>\n",
       "<table border=\"1\" class=\"dataframe\">\n",
       "  <thead>\n",
       "    <tr style=\"text-align: right;\">\n",
       "      <th></th>\n",
       "      <th>event_name</th>\n",
       "      <th>users_246</th>\n",
       "      <th>proportion_246</th>\n",
       "      <th>users_247</th>\n",
       "      <th>proportion_247</th>\n",
       "      <th>users_248</th>\n",
       "      <th>proportion_248</th>\n",
       "      <th>z_stat_control</th>\n",
       "      <th>p_value_control</th>\n",
       "      <th>z_stat_246</th>\n",
       "      <th>p_value_246</th>\n",
       "      <th>z_stat_247</th>\n",
       "      <th>p_value_247</th>\n",
       "      <th>significant_control</th>\n",
       "      <th>significant_246</th>\n",
       "      <th>significant_247</th>\n",
       "    </tr>\n",
       "  </thead>\n",
       "  <tbody>\n",
       "  </tbody>\n",
       "</table>\n",
       "</div>"
      ],
      "text/plain": [
       "Empty DataFrame\n",
       "Columns: [event_name, users_246, proportion_246, users_247, proportion_247, users_248, proportion_248, z_stat_control, p_value_control, z_stat_246, p_value_246, z_stat_247, p_value_247, significant_control, significant_246, significant_247]\n",
       "Index: []"
      ]
     },
     "metadata": {},
     "output_type": "display_data"
    }
   ],
   "source": [
    "# Función para analizar eventos en el grupo 248 y comparar con los grupos de control\n",
    "def analyze_event_248(event):\n",
    "    event_data = new_data[new_data['event_name'] == event]\n",
    "\n",
    "    users_246 = event_data[event_data['exp_id'] == 246]['device_id'].nunique()\n",
    "    users_247 = event_data[event_data['exp_id'] == 247]['device_id'].nunique()\n",
    "    users_248 = event_data[event_data['exp_id'] == 248]['device_id'].nunique()\n",
    "\n",
    "    total_246 = new_data[new_data['exp_id'] == 246]['device_id'].nunique()\n",
    "    total_247 = new_data[new_data['exp_id'] == 247]['device_id'].nunique()\n",
    "    total_248 = new_data[new_data['exp_id'] == 248]['device_id'].nunique()\n",
    "\n",
    "    proportion_246 = users_246 / total_246\n",
    "    proportion_247 = users_247 / total_247\n",
    "    proportion_248 = users_248 / total_248\n",
    "\n",
    "    count_control = np.array([users_246 + users_247, users_248])\n",
    "    nobs_control = np.array([total_246 + total_247, total_248])\n",
    "    stat_control, p_value_control = proportions_ztest(count_control, nobs_control)\n",
    "\n",
    "    count_246 = np.array([users_246, users_248])\n",
    "    nobs_246 = np.array([total_246, total_248])\n",
    "    stat_246, p_value_246 = proportions_ztest(count_246, nobs_246)\n",
    "\n",
    "    count_247 = np.array([users_247, users_248])\n",
    "    nobs_247 = np.array([total_247, total_248])\n",
    "    stat_247, p_value_247 = proportions_ztest(count_247, nobs_247)\n",
    "\n",
    "    return {\n",
    "        'event_name': event,\n",
    "        'users_246': users_246,\n",
    "        'proportion_246': proportion_246,\n",
    "        'users_247': users_247,\n",
    "        'proportion_247': proportion_247,\n",
    "        'users_248': users_248,\n",
    "        'proportion_248': proportion_248,\n",
    "        'z_stat_control': stat_control,\n",
    "        'p_value_control': p_value_control,\n",
    "        'z_stat_246': stat_246,\n",
    "        'p_value_246': p_value_246,\n",
    "        'z_stat_247': stat_247,\n",
    "        'p_value_247': p_value_247\n",
    "    }\n",
    "\n",
    "# Analizar todos los eventos\n",
    "all_results_248 = []\n",
    "\n",
    "for event in new_data['event_name'].unique():\n",
    "    result = analyze_event_248(event)\n",
    "    all_results_248.append(result)\n",
    "\n",
    "results_df_248 = pd.DataFrame(all_results_248)\n",
    "\n",
    "# Determinar la significancia estadística\n",
    "results_df_248['significant_control'] = results_df_248['p_value_control'] < 0.05\n",
    "results_df_248['significant_246'] = results_df_248['p_value_246'] < 0.05\n",
    "results_df_248['significant_247'] = results_df_248['p_value_247'] < 0.05\n",
    "\n",
    "display(results_df_248)\n",
    "\n",
    "# Mostrar eventos con diferencias significativas con los controles combinados y separados\n",
    "significant_events_control = results_df_248[results_df_248['significant_control']]\n",
    "significant_events_246 = results_df_248[results_df_248['significant_246']]\n",
    "significant_events_247 = results_df_248[results_df_248['significant_247']]\n",
    "\n",
    "print(\"Eventos con diferencias estadísticamente significativas (Control combinado):\")\n",
    "display(significant_events_control)\n",
    "\n",
    "print(\"Eventos con diferencias estadísticamente significativas (Grupo 246):\")\n",
    "display(significant_events_246)\n",
    "\n",
    "print(\"Eventos con diferencias estadísticamente significativas (Grupo 247):\")\n",
    "display(significant_events_247)"
   ]
  },
  {
   "cell_type": "code",
   "execution_count": 35,
   "metadata": {},
   "outputs": [
    {
     "data": {
      "image/png": "[encoded data removed]",
      "text/plain": [
       "<Figure size 1400x800 with 1 Axes>"
      ]
     },
     "metadata": {},
     "output_type": "display_data"
    }
   ],
   "source": [
    "# Crear una visualización para comparar las proporciones de usuarios en cada evento\n",
    "plt.figure(figsize=(14, 8))\n",
    "sns.barplot(x='event_name', y='proportion_246', data=results_df_248, color='blue', label='Grupo 246')\n",
    "sns.barplot(x='event_name', y='proportion_247', data=results_df_248, color='red', alpha=0.5, label='Grupo 247')\n",
    "sns.barplot(x='event_name', y='proportion_248', data=results_df_248, color='green', alpha=0.3, label='Grupo 248')\n",
    "\n",
    "# Añadir títulos y etiquetas\n",
    "plt.title('Comparación de Proporciones de Usuarios por Evento y Grupo')\n",
    "plt.xlabel('Evento')\n",
    "plt.ylabel('Proporción de Usuarios')\n",
    "plt.legend(title='Grupo')\n",
    "\n",
    "# Rotar etiquetas del eje X para mejor visualización\n",
    "plt.xticks(rotation=45)\n",
    "plt.show()\n"
   ]
  },
  {
   "cell_type": "markdown",
   "metadata": {},
   "source": [
    "* No hay diferencia estadísticamente significativa en la proporción de usuarios que realizaron MainScreenAppear entre el grupo 248 y los grupos de control (246 y 247).\n",
    "\n",
    "* Para todos los eventos no se encontraron diferencias estadísticamente significativas entre el grupo 248 y los grupos de control, ya sea individualmente (246 vs 248, 247 vs 248) o combinados (246+247 vs 248).\n",
    "\n",
    "* El gráfico muestra que las proporciones de usuarios que realizaron cada evento son muy similares entre los grupos 246, 247 y 248, visualizando la ausencia de diferencias significativas.\n",
    "\n",
    "* MainScreenAppear es el evento más popular en el grupo 248, al igual que en los grupos de control.\n",
    "\n",
    "* Las proporciones de usuarios que realizan cada evento son muy similares entre los grupos 246, 247 y 248, sin diferencias significativas.\n",
    "\n",
    "* La falta de diferencias significativas sugiere que el cambio experimental en el grupo 248 no tuvo un impacto significativo en el comportamiento de los usuarios en comparación con los grupos de control."
   ]
  },
  {
   "cell_type": "markdown",
   "metadata": {},
   "source": [
    "**¿Qué nivel de significación has establecido para probar las hipótesis estadísticas mencionadas anteriormente?**\n",
    "\n",
    "**Nivel de Significación Establecido**\n",
    "\n",
    "Hasta ahora, hemos utilizado un nivel de significación (alpha) de 0.05 para probar las hipótesis estadísticas. Esto es estándar en muchos análisis estadísticos, indicando un 5% de probabilidad de rechazar una hipótesis nula verdadera (falso positivo)."
   ]
  },
  {
   "cell_type": "markdown",
   "metadata": {},
   "source": [
    "Vamos a calcular cuántas pruebas de hipótesis hemos realizado. Cada evento comparado entre los grupos (246 vs 248, 247 vs 248, controles combinados vs 248) cuenta como una prueba.\n",
    "\n",
    "**Número de eventos analizados:** 5 eventos (Tutorial, MainScreenAppear, OffersScreenAppear, CartScreenAppear, PaymentScreenSuccessful).\n",
    "\n",
    "**Comparaciones:** Para cada evento, realizamos 3 comparaciones:\n",
    "\n",
    "Control combinado vs 248\n",
    "\n",
    "Grupo 246 vs 248\n",
    "\n",
    "Grupo 247 vs 248\n",
    "\n",
    "**Número Total de Pruebas**\n",
    "\n",
    "Total de pruebas de hipótesis realizadas = número de eventos × número de comparaciones = 5 eventos × 3 comparaciones = 15 pruebas.\n",
    "\n",
    "**Nivel de Significación y Falsos Positivos**\n",
    "\n",
    "Con un nivel de significación de 0.1, uno de cada 10 resultados podría ser falso. Si realizamos 15 pruebas, podemos esperar aproximadamente:\n",
    "\n",
    "    0.1 × 15 pruebas = 1.5 resultados falsos positivos.\n",
    "\n",
    "**Ajuste del Nivel de Significación**\n",
    "\n",
    "Dado el contexto del experimento y la cantidad de pruebas realizadas, podrías considerar ajustar el nivel de significación usando una corrección de Bonferroni para controlar el error de Tipo I. El nuevo nivel de significación sería:\n",
    "\n",
    "alpha ajustado= alpha original (0.05) / número de pruebas(15) = 0.0033"
   ]
  },
  {
   "cell_type": "code",
   "execution_count": 36,
   "metadata": {},
   "outputs": [
    {
     "data": {
      "text/html": [
       "<div>\n",
       "<style scoped>\n",
       "    .dataframe tbody tr th:only-of-type {\n",
       "        vertical-align: middle;\n",
       "    }\n",
       "\n",
       "    .dataframe tbody tr th {\n",
       "        vertical-align: top;\n",
       "    }\n",
       "\n",
       "    .dataframe thead th {\n",
       "        text-align: right;\n",
       "    }\n",
       "</style>\n",
       "<table border=\"1\" class=\"dataframe\">\n",
       "  <thead>\n",
       "    <tr style=\"text-align: right;\">\n",
       "      <th></th>\n",
       "      <th>event_name</th>\n",
       "      <th>users_246</th>\n",
       "      <th>proportion_246</th>\n",
       "      <th>users_247</th>\n",
       "      <th>proportion_247</th>\n",
       "      <th>users_248</th>\n",
       "      <th>proportion_248</th>\n",
       "      <th>z_stat_control</th>\n",
       "      <th>p_value_control</th>\n",
       "      <th>z_stat_246</th>\n",
       "      <th>p_value_246</th>\n",
       "      <th>z_stat_247</th>\n",
       "      <th>p_value_247</th>\n",
       "      <th>significant_control</th>\n",
       "      <th>significant_246</th>\n",
       "      <th>significant_247</th>\n",
       "    </tr>\n",
       "  </thead>\n",
       "  <tbody>\n",
       "    <tr>\n",
       "      <th>0</th>\n",
       "      <td>Tutorial</td>\n",
       "      <td>278</td>\n",
       "      <td>0.111916</td>\n",
       "      <td>283</td>\n",
       "      <td>0.112614</td>\n",
       "      <td>279</td>\n",
       "      <td>0.109972</td>\n",
       "      <td>0.299102</td>\n",
       "      <td>0.764862</td>\n",
       "      <td>0.219283</td>\n",
       "      <td>0.826429</td>\n",
       "      <td>0.298497</td>\n",
       "      <td>0.765324</td>\n",
       "      <td>False</td>\n",
       "      <td>False</td>\n",
       "      <td>False</td>\n",
       "    </tr>\n",
       "    <tr>\n",
       "      <th>1</th>\n",
       "      <td>MainScreenAppear</td>\n",
       "      <td>2450</td>\n",
       "      <td>0.986312</td>\n",
       "      <td>2476</td>\n",
       "      <td>0.985277</td>\n",
       "      <td>2493</td>\n",
       "      <td>0.982657</td>\n",
       "      <td>1.048854</td>\n",
       "      <td>0.294245</td>\n",
       "      <td>1.047276</td>\n",
       "      <td>0.294972</td>\n",
       "      <td>0.740980</td>\n",
       "      <td>0.458705</td>\n",
       "      <td>False</td>\n",
       "      <td>False</td>\n",
       "      <td>False</td>\n",
       "    </tr>\n",
       "    <tr>\n",
       "      <th>2</th>\n",
       "      <td>OffersScreenAppear</td>\n",
       "      <td>1542</td>\n",
       "      <td>0.620773</td>\n",
       "      <td>1520</td>\n",
       "      <td>0.604855</td>\n",
       "      <td>1531</td>\n",
       "      <td>0.603469</td>\n",
       "      <td>0.781930</td>\n",
       "      <td>0.434255</td>\n",
       "      <td>1.258082</td>\n",
       "      <td>0.208362</td>\n",
       "      <td>0.100709</td>\n",
       "      <td>0.919782</td>\n",
       "      <td>False</td>\n",
       "      <td>False</td>\n",
       "      <td>False</td>\n",
       "    </tr>\n",
       "    <tr>\n",
       "      <th>3</th>\n",
       "      <td>CartScreenAppear</td>\n",
       "      <td>1266</td>\n",
       "      <td>0.509662</td>\n",
       "      <td>1238</td>\n",
       "      <td>0.492638</td>\n",
       "      <td>1230</td>\n",
       "      <td>0.484825</td>\n",
       "      <td>1.335359</td>\n",
       "      <td>0.181759</td>\n",
       "      <td>1.759874</td>\n",
       "      <td>0.078429</td>\n",
       "      <td>0.555402</td>\n",
       "      <td>0.578620</td>\n",
       "      <td>False</td>\n",
       "      <td>False</td>\n",
       "      <td>False</td>\n",
       "    </tr>\n",
       "    <tr>\n",
       "      <th>4</th>\n",
       "      <td>PaymentScreenSuccessful</td>\n",
       "      <td>1200</td>\n",
       "      <td>0.483092</td>\n",
       "      <td>1158</td>\n",
       "      <td>0.460804</td>\n",
       "      <td>1181</td>\n",
       "      <td>0.465510</td>\n",
       "      <td>0.523783</td>\n",
       "      <td>0.600429</td>\n",
       "      <td>1.247388</td>\n",
       "      <td>0.212255</td>\n",
       "      <td>-0.335376</td>\n",
       "      <td>0.737342</td>\n",
       "      <td>False</td>\n",
       "      <td>False</td>\n",
       "      <td>False</td>\n",
       "    </tr>\n",
       "  </tbody>\n",
       "</table>\n",
       "</div>"
      ],
      "text/plain": [
       "                event_name  users_246  proportion_246  users_247  \\\n",
       "0                 Tutorial        278        0.111916        283   \n",
       "1         MainScreenAppear       2450        0.986312       2476   \n",
       "2       OffersScreenAppear       1542        0.620773       1520   \n",
       "3         CartScreenAppear       1266        0.509662       1238   \n",
       "4  PaymentScreenSuccessful       1200        0.483092       1158   \n",
       "\n",
       "   proportion_247  users_248  proportion_248  z_stat_control  p_value_control  \\\n",
       "0        0.112614        279        0.109972        0.299102         0.764862   \n",
       "1        0.985277       2493        0.982657        1.048854         0.294245   \n",
       "2        0.604855       1531        0.603469        0.781930         0.434255   \n",
       "3        0.492638       1230        0.484825        1.335359         0.181759   \n",
       "4        0.460804       1181        0.465510        0.523783         0.600429   \n",
       "\n",
       "   z_stat_246  p_value_246  z_stat_247  p_value_247  significant_control  \\\n",
       "0    0.219283     0.826429    0.298497     0.765324                False   \n",
       "1    1.047276     0.294972    0.740980     0.458705                False   \n",
       "2    1.258082     0.208362    0.100709     0.919782                False   \n",
       "3    1.759874     0.078429    0.555402     0.578620                False   \n",
       "4    1.247388     0.212255   -0.335376     0.737342                False   \n",
       "\n",
       "   significant_246  significant_247  \n",
       "0            False            False  \n",
       "1            False            False  \n",
       "2            False            False  \n",
       "3            False            False  \n",
       "4            False            False  "
      ]
     },
     "metadata": {},
     "output_type": "display_data"
    },
    {
     "name": "stdout",
     "output_type": "stream",
     "text": [
      "Eventos con diferencias estadísticamente significativas (Control combinado) con alpha ajustado:\n"
     ]
    },
    {
     "data": {
      "text/html": [
       "<div>\n",
       "<style scoped>\n",
       "    .dataframe tbody tr th:only-of-type {\n",
       "        vertical-align: middle;\n",
       "    }\n",
       "\n",
       "    .dataframe tbody tr th {\n",
       "        vertical-align: top;\n",
       "    }\n",
       "\n",
       "    .dataframe thead th {\n",
       "        text-align: right;\n",
       "    }\n",
       "</style>\n",
       "<table border=\"1\" class=\"dataframe\">\n",
       "  <thead>\n",
       "    <tr style=\"text-align: right;\">\n",
       "      <th></th>\n",
       "      <th>event_name</th>\n",
       "      <th>users_246</th>\n",
       "      <th>proportion_246</th>\n",
       "      <th>users_247</th>\n",
       "      <th>proportion_247</th>\n",
       "      <th>users_248</th>\n",
       "      <th>proportion_248</th>\n",
       "      <th>z_stat_control</th>\n",
       "      <th>p_value_control</th>\n",
       "      <th>z_stat_246</th>\n",
       "      <th>p_value_246</th>\n",
       "      <th>z_stat_247</th>\n",
       "      <th>p_value_247</th>\n",
       "      <th>significant_control</th>\n",
       "      <th>significant_246</th>\n",
       "      <th>significant_247</th>\n",
       "    </tr>\n",
       "  </thead>\n",
       "  <tbody>\n",
       "  </tbody>\n",
       "</table>\n",
       "</div>"
      ],
      "text/plain": [
       "Empty DataFrame\n",
       "Columns: [event_name, users_246, proportion_246, users_247, proportion_247, users_248, proportion_248, z_stat_control, p_value_control, z_stat_246, p_value_246, z_stat_247, p_value_247, significant_control, significant_246, significant_247]\n",
       "Index: []"
      ]
     },
     "metadata": {},
     "output_type": "display_data"
    },
    {
     "name": "stdout",
     "output_type": "stream",
     "text": [
      "Eventos con diferencias estadísticamente significativas (Grupo 246) con alpha ajustado:\n"
     ]
    },
    {
     "data": {
      "text/html": [
       "<div>\n",
       "<style scoped>\n",
       "    .dataframe tbody tr th:only-of-type {\n",
       "        vertical-align: middle;\n",
       "    }\n",
       "\n",
       "    .dataframe tbody tr th {\n",
       "        vertical-align: top;\n",
       "    }\n",
       "\n",
       "    .dataframe thead th {\n",
       "        text-align: right;\n",
       "    }\n",
       "</style>\n",
       "<table border=\"1\" class=\"dataframe\">\n",
       "  <thead>\n",
       "    <tr style=\"text-align: right;\">\n",
       "      <th></th>\n",
       "      <th>event_name</th>\n",
       "      <th>users_246</th>\n",
       "      <th>proportion_246</th>\n",
       "      <th>users_247</th>\n",
       "      <th>proportion_247</th>\n",
       "      <th>users_248</th>\n",
       "      <th>proportion_248</th>\n",
       "      <th>z_stat_control</th>\n",
       "      <th>p_value_control</th>\n",
       "      <th>z_stat_246</th>\n",
       "      <th>p_value_246</th>\n",
       "      <th>z_stat_247</th>\n",
       "      <th>p_value_247</th>\n",
       "      <th>significant_control</th>\n",
       "      <th>significant_246</th>\n",
       "      <th>significant_247</th>\n",
       "    </tr>\n",
       "  </thead>\n",
       "  <tbody>\n",
       "  </tbody>\n",
       "</table>\n",
       "</div>"
      ],
      "text/plain": [
       "Empty DataFrame\n",
       "Columns: [event_name, users_246, proportion_246, users_247, proportion_247, users_248, proportion_248, z_stat_control, p_value_control, z_stat_246, p_value_246, z_stat_247, p_value_247, significant_control, significant_246, significant_247]\n",
       "Index: []"
      ]
     },
     "metadata": {},
     "output_type": "display_data"
    },
    {
     "name": "stdout",
     "output_type": "stream",
     "text": [
      "Eventos con diferencias estadísticamente significativas (Grupo 247) con alpha ajustado:\n"
     ]
    },
    {
     "data": {
      "text/html": [
       "<div>\n",
       "<style scoped>\n",
       "    .dataframe tbody tr th:only-of-type {\n",
       "        vertical-align: middle;\n",
       "    }\n",
       "\n",
       "    .dataframe tbody tr th {\n",
       "        vertical-align: top;\n",
       "    }\n",
       "\n",
       "    .dataframe thead th {\n",
       "        text-align: right;\n",
       "    }\n",
       "</style>\n",
       "<table border=\"1\" class=\"dataframe\">\n",
       "  <thead>\n",
       "    <tr style=\"text-align: right;\">\n",
       "      <th></th>\n",
       "      <th>event_name</th>\n",
       "      <th>users_246</th>\n",
       "      <th>proportion_246</th>\n",
       "      <th>users_247</th>\n",
       "      <th>proportion_247</th>\n",
       "      <th>users_248</th>\n",
       "      <th>proportion_248</th>\n",
       "      <th>z_stat_control</th>\n",
       "      <th>p_value_control</th>\n",
       "      <th>z_stat_246</th>\n",
       "      <th>p_value_246</th>\n",
       "      <th>z_stat_247</th>\n",
       "      <th>p_value_247</th>\n",
       "      <th>significant_control</th>\n",
       "      <th>significant_246</th>\n",
       "      <th>significant_247</th>\n",
       "    </tr>\n",
       "  </thead>\n",
       "  <tbody>\n",
       "  </tbody>\n",
       "</table>\n",
       "</div>"
      ],
      "text/plain": [
       "Empty DataFrame\n",
       "Columns: [event_name, users_246, proportion_246, users_247, proportion_247, users_248, proportion_248, z_stat_control, p_value_control, z_stat_246, p_value_246, z_stat_247, p_value_247, significant_control, significant_246, significant_247]\n",
       "Index: []"
      ]
     },
     "metadata": {},
     "output_type": "display_data"
    }
   ],
   "source": [
    "# Determinar la significancia estadística con el nuevo nivel de significación\n",
    "results_df_248['significant_control'] = results_df_248['p_value_control'] < 0.0033\n",
    "results_df_248['significant_246'] = results_df_248['p_value_246'] < 0.0033\n",
    "results_df_248['significant_247'] = results_df_248['p_value_247'] < 0.0033\n",
    "\n",
    "display(results_df_248)\n",
    "\n",
    "# Mostrar eventos con diferencias significativas con los controles combinados y separados con el nuevo nivel de significación\n",
    "significant_events_control = results_df_248[results_df_248['significant_control']]\n",
    "significant_events_246 = results_df_248[results_df_248['significant_246']]\n",
    "significant_events_247 = results_df_248[results_df_248['significant_247']]\n",
    "\n",
    "print(\"Eventos con diferencias estadísticamente significativas (Control combinado) con alpha ajustado:\")\n",
    "display(significant_events_control)\n",
    "\n",
    "print(\"Eventos con diferencias estadísticamente significativas (Grupo 246) con alpha ajustado:\")\n",
    "display(significant_events_246)\n",
    "\n",
    "print(\"Eventos con diferencias estadísticamente significativas (Grupo 247) con alpha ajustado:\")\n",
    "display(significant_events_247)\n"
   ]
  },
  {
   "cell_type": "markdown",
   "metadata": {},
   "source": [
    "Conclusión:\n",
    "\n",
    "ncluso con el nivel de significación ajustado, no se encontraron diferencias estadísticamente significativas entre los grupos experimentales y de control.\n",
    "\n",
    "    Control de Error Tipo I: El ajuste usando la corrección de Bonferroni reduce la probabilidad de obtener resultados falsos positivos, confirmando que las conclusiones iniciales sobre la falta de diferencias significativas se mantienen válidas."
   ]
  }
 ],
 "metadata": {
  "ExecuteTimeLog": [
   {
    "duration": 2487,
    "start_time": "2024-11-09T03:46:18.081Z"
   },
   {
    "duration": 212,
    "start_time": "2024-11-09T03:47:14.582Z"
   },
   {
    "duration": 9,
    "start_time": "2024-11-09T03:47:23.168Z"
   },
   {
    "duration": 179,
    "start_time": "2024-11-09T03:47:39.761Z"
   },
   {
    "duration": 7,
    "start_time": "2024-11-09T03:47:42.281Z"
   },
   {
    "duration": 5,
    "start_time": "2024-11-09T03:47:59.059Z"
   },
   {
    "duration": 182,
    "start_time": "2024-11-09T03:48:05.641Z"
   },
   {
    "duration": 7,
    "start_time": "2024-11-09T03:48:06.859Z"
   },
   {
    "duration": 98,
    "start_time": "2024-11-09T03:48:21.691Z"
   },
   {
    "duration": 9,
    "start_time": "2024-11-09T03:48:22.322Z"
   },
   {
    "duration": 819,
    "start_time": "2024-11-09T03:48:29.958Z"
   },
   {
    "duration": 102,
    "start_time": "2024-11-09T03:48:30.779Z"
   },
   {
    "duration": 11,
    "start_time": "2024-11-09T03:48:30.883Z"
   },
   {
    "duration": 16,
    "start_time": "2024-11-09T03:48:56.452Z"
   },
   {
    "duration": 2730,
    "start_time": "2024-11-11T19:57:52.819Z"
   },
   {
    "duration": 214,
    "start_time": "2024-11-11T20:00:45.266Z"
   },
   {
    "duration": 196,
    "start_time": "2024-11-11T20:00:53.107Z"
   },
   {
    "duration": 10,
    "start_time": "2024-11-11T20:00:54.080Z"
   },
   {
    "duration": 831,
    "start_time": "2024-11-11T20:10:07.439Z"
   },
   {
    "duration": 125,
    "start_time": "2024-11-11T20:10:08.273Z"
   },
   {
    "duration": 11,
    "start_time": "2024-11-11T20:10:08.400Z"
   },
   {
    "duration": 15,
    "start_time": "2024-11-11T20:10:08.413Z"
   },
   {
    "duration": 3,
    "start_time": "2024-11-11T20:10:08.430Z"
   },
   {
    "duration": 14,
    "start_time": "2024-11-11T20:10:21.751Z"
   },
   {
    "duration": 74,
    "start_time": "2024-11-11T20:10:31.984Z"
   },
   {
    "duration": 6,
    "start_time": "2024-11-11T20:10:35.525Z"
   },
   {
    "duration": 813,
    "start_time": "2024-11-11T20:15:05.513Z"
   },
   {
    "duration": 102,
    "start_time": "2024-11-11T20:15:06.328Z"
   },
   {
    "duration": 11,
    "start_time": "2024-11-11T20:15:06.432Z"
   },
   {
    "duration": 16,
    "start_time": "2024-11-11T20:15:06.445Z"
   },
   {
    "duration": 3,
    "start_time": "2024-11-11T20:15:06.465Z"
   },
   {
    "duration": 10,
    "start_time": "2024-11-11T20:15:06.487Z"
   },
   {
    "duration": 61,
    "start_time": "2024-11-11T20:15:06.499Z"
   },
   {
    "duration": 81,
    "start_time": "2024-11-11T20:15:06.562Z"
   },
   {
    "duration": 6,
    "start_time": "2024-11-11T20:15:06.645Z"
   },
   {
    "duration": 2560,
    "start_time": "2024-11-13T01:32:50.782Z"
   },
   {
    "duration": 134,
    "start_time": "2024-11-13T01:32:53.345Z"
   },
   {
    "duration": 11,
    "start_time": "2024-11-13T01:32:53.481Z"
   },
   {
    "duration": 25,
    "start_time": "2024-11-13T01:32:53.493Z"
   },
   {
    "duration": 3,
    "start_time": "2024-11-13T01:32:53.520Z"
   },
   {
    "duration": 11,
    "start_time": "2024-11-13T01:32:53.525Z"
   },
   {
    "duration": 48,
    "start_time": "2024-11-13T01:32:53.537Z"
   },
   {
    "duration": 44,
    "start_time": "2024-11-13T01:32:53.610Z"
   },
   {
    "duration": 5,
    "start_time": "2024-11-13T01:32:53.656Z"
   },
   {
    "duration": 11,
    "start_time": "2024-11-13T01:34:42.588Z"
   },
   {
    "duration": 801,
    "start_time": "2024-11-13T01:37:49.395Z"
   },
   {
    "duration": 108,
    "start_time": "2024-11-13T01:37:50.198Z"
   },
   {
    "duration": 11,
    "start_time": "2024-11-13T01:37:50.308Z"
   },
   {
    "duration": 16,
    "start_time": "2024-11-13T01:37:50.322Z"
   },
   {
    "duration": 3,
    "start_time": "2024-11-13T01:37:50.341Z"
   },
   {
    "duration": 11,
    "start_time": "2024-11-13T01:37:50.345Z"
   },
   {
    "duration": 69,
    "start_time": "2024-11-13T01:37:50.358Z"
   },
   {
    "duration": 111,
    "start_time": "2024-11-13T01:37:50.429Z"
   },
   {
    "duration": 11,
    "start_time": "2024-11-13T01:37:50.542Z"
   },
   {
    "duration": 803,
    "start_time": "2024-11-13T01:39:32.192Z"
   },
   {
    "duration": 98,
    "start_time": "2024-11-13T01:39:32.997Z"
   },
   {
    "duration": 16,
    "start_time": "2024-11-13T01:39:33.097Z"
   },
   {
    "duration": 16,
    "start_time": "2024-11-13T01:39:33.114Z"
   },
   {
    "duration": 3,
    "start_time": "2024-11-13T01:39:33.133Z"
   },
   {
    "duration": 10,
    "start_time": "2024-11-13T01:39:33.138Z"
   },
   {
    "duration": 73,
    "start_time": "2024-11-13T01:39:33.150Z"
   },
   {
    "duration": 62,
    "start_time": "2024-11-13T01:39:33.225Z"
   },
   {
    "duration": 25,
    "start_time": "2024-11-13T01:39:33.289Z"
   },
   {
    "duration": 813,
    "start_time": "2024-11-13T01:50:13.617Z"
   },
   {
    "duration": 105,
    "start_time": "2024-11-13T01:50:14.433Z"
   },
   {
    "duration": 11,
    "start_time": "2024-11-13T01:50:14.539Z"
   },
   {
    "duration": 15,
    "start_time": "2024-11-13T01:50:14.552Z"
   },
   {
    "duration": 2,
    "start_time": "2024-11-13T01:50:14.570Z"
   },
   {
    "duration": 10,
    "start_time": "2024-11-13T01:50:14.574Z"
   },
   {
    "duration": 47,
    "start_time": "2024-11-13T01:50:14.609Z"
   },
   {
    "duration": 305,
    "start_time": "2024-11-13T01:50:14.658Z"
   },
   {
    "duration": 0,
    "start_time": "2024-11-13T01:50:14.965Z"
   },
   {
    "duration": 18,
    "start_time": "2024-11-13T01:50:22.552Z"
   },
   {
    "duration": 409,
    "start_time": "2024-11-13T01:50:28.301Z"
   },
   {
    "duration": 112,
    "start_time": "2024-11-13T01:50:56.490Z"
   },
   {
    "duration": 13,
    "start_time": "2024-11-13T01:50:57.729Z"
   },
   {
    "duration": 796,
    "start_time": "2024-11-13T01:51:04.787Z"
   },
   {
    "duration": 102,
    "start_time": "2024-11-13T01:51:05.585Z"
   },
   {
    "duration": 10,
    "start_time": "2024-11-13T01:51:05.689Z"
   },
   {
    "duration": 18,
    "start_time": "2024-11-13T01:51:05.701Z"
   },
   {
    "duration": 4,
    "start_time": "2024-11-13T01:51:05.722Z"
   },
   {
    "duration": 11,
    "start_time": "2024-11-13T01:51:05.728Z"
   },
   {
    "duration": 69,
    "start_time": "2024-11-13T01:51:05.740Z"
   },
   {
    "duration": 109,
    "start_time": "2024-11-13T01:51:05.811Z"
   },
   {
    "duration": 12,
    "start_time": "2024-11-13T01:51:05.922Z"
   },
   {
    "duration": 811,
    "start_time": "2024-11-13T01:52:32.005Z"
   },
   {
    "duration": 106,
    "start_time": "2024-11-13T01:52:32.818Z"
   },
   {
    "duration": 10,
    "start_time": "2024-11-13T01:52:32.926Z"
   },
   {
    "duration": 16,
    "start_time": "2024-11-13T01:52:32.937Z"
   },
   {
    "duration": 2,
    "start_time": "2024-11-13T01:52:32.956Z"
   },
   {
    "duration": 12,
    "start_time": "2024-11-13T01:52:32.960Z"
   },
   {
    "duration": 73,
    "start_time": "2024-11-13T01:52:32.974Z"
   },
   {
    "duration": 113,
    "start_time": "2024-11-13T01:52:33.049Z"
   },
   {
    "duration": 13,
    "start_time": "2024-11-13T01:52:33.164Z"
   },
   {
    "duration": 4,
    "start_time": "2024-11-13T02:02:58.499Z"
   },
   {
    "duration": 4,
    "start_time": "2024-11-13T02:03:18.523Z"
   },
   {
    "duration": 17,
    "start_time": "2024-11-13T02:04:25.286Z"
   },
   {
    "duration": 5,
    "start_time": "2024-11-13T02:04:30.442Z"
   },
   {
    "duration": 832,
    "start_time": "2024-11-13T02:06:57.265Z"
   },
   {
    "duration": 102,
    "start_time": "2024-11-13T02:06:58.099Z"
   },
   {
    "duration": 11,
    "start_time": "2024-11-13T02:06:58.208Z"
   },
   {
    "duration": 15,
    "start_time": "2024-11-13T02:06:58.221Z"
   },
   {
    "duration": 2,
    "start_time": "2024-11-13T02:06:58.239Z"
   },
   {
    "duration": 11,
    "start_time": "2024-11-13T02:06:58.243Z"
   },
   {
    "duration": 72,
    "start_time": "2024-11-13T02:06:58.257Z"
   },
   {
    "duration": 111,
    "start_time": "2024-11-13T02:06:58.330Z"
   },
   {
    "duration": 12,
    "start_time": "2024-11-13T02:06:58.443Z"
   },
   {
    "duration": 18,
    "start_time": "2024-11-13T02:06:58.458Z"
   },
   {
    "duration": 6,
    "start_time": "2024-11-13T02:06:58.477Z"
   },
   {
    "duration": 24,
    "start_time": "2024-11-13T02:11:14.054Z"
   },
   {
    "duration": 6,
    "start_time": "2024-11-13T02:13:02.906Z"
   },
   {
    "duration": 7,
    "start_time": "2024-11-13T02:17:15.378Z"
   },
   {
    "duration": 4,
    "start_time": "2024-11-13T02:17:31.595Z"
   },
   {
    "duration": 271,
    "start_time": "2024-11-13T02:23:41.920Z"
   },
   {
    "duration": 4,
    "start_time": "2024-11-13T02:24:03.594Z"
   },
   {
    "duration": 804,
    "start_time": "2024-11-13T02:24:11.000Z"
   },
   {
    "duration": 107,
    "start_time": "2024-11-13T02:24:11.808Z"
   },
   {
    "duration": 11,
    "start_time": "2024-11-13T02:24:11.916Z"
   },
   {
    "duration": 15,
    "start_time": "2024-11-13T02:24:11.928Z"
   },
   {
    "duration": 3,
    "start_time": "2024-11-13T02:24:11.945Z"
   },
   {
    "duration": 11,
    "start_time": "2024-11-13T02:24:11.949Z"
   },
   {
    "duration": 77,
    "start_time": "2024-11-13T02:24:11.962Z"
   },
   {
    "duration": 108,
    "start_time": "2024-11-13T02:24:12.041Z"
   },
   {
    "duration": 12,
    "start_time": "2024-11-13T02:24:12.151Z"
   },
   {
    "duration": 47,
    "start_time": "2024-11-13T02:24:12.165Z"
   },
   {
    "duration": 23,
    "start_time": "2024-11-13T02:24:12.213Z"
   },
   {
    "duration": 32,
    "start_time": "2024-11-13T02:24:12.238Z"
   },
   {
    "duration": 5,
    "start_time": "2024-11-13T02:24:12.272Z"
   },
   {
    "duration": 10,
    "start_time": "2024-11-13T02:24:12.279Z"
   },
   {
    "duration": 5,
    "start_time": "2024-11-13T02:27:02.459Z"
   },
   {
    "duration": 22,
    "start_time": "2024-11-13T02:27:06.821Z"
   },
   {
    "duration": 686,
    "start_time": "2024-11-13T02:27:51.014Z"
   },
   {
    "duration": 62,
    "start_time": "2024-11-13T02:28:13.628Z"
   },
   {
    "duration": 207,
    "start_time": "2024-11-13T02:29:14.870Z"
   },
   {
    "duration": 218,
    "start_time": "2024-11-13T03:19:07.658Z"
   },
   {
    "duration": 803,
    "start_time": "2024-11-13T03:19:51.086Z"
   },
   {
    "duration": 103,
    "start_time": "2024-11-13T03:19:51.891Z"
   },
   {
    "duration": 14,
    "start_time": "2024-11-13T03:19:51.996Z"
   },
   {
    "duration": 14,
    "start_time": "2024-11-13T03:19:52.011Z"
   },
   {
    "duration": 2,
    "start_time": "2024-11-13T03:19:52.028Z"
   },
   {
    "duration": 11,
    "start_time": "2024-11-13T03:19:52.032Z"
   },
   {
    "duration": 68,
    "start_time": "2024-11-13T03:19:52.045Z"
   },
   {
    "duration": 109,
    "start_time": "2024-11-13T03:19:52.114Z"
   },
   {
    "duration": 12,
    "start_time": "2024-11-13T03:19:52.225Z"
   },
   {
    "duration": 17,
    "start_time": "2024-11-13T03:19:52.239Z"
   },
   {
    "duration": 5,
    "start_time": "2024-11-13T03:19:52.258Z"
   },
   {
    "duration": 47,
    "start_time": "2024-11-13T03:19:52.265Z"
   },
   {
    "duration": 6,
    "start_time": "2024-11-13T03:19:52.313Z"
   },
   {
    "duration": 3,
    "start_time": "2024-11-13T03:19:52.322Z"
   },
   {
    "duration": 484,
    "start_time": "2024-11-13T03:19:52.327Z"
   },
   {
    "duration": 23,
    "start_time": "2024-11-13T03:20:16.275Z"
   },
   {
    "duration": 22,
    "start_time": "2024-11-13T03:20:50.676Z"
   },
   {
    "duration": 4,
    "start_time": "2024-11-13T03:22:27.307Z"
   },
   {
    "duration": 416,
    "start_time": "2024-11-13T03:22:32.472Z"
   },
   {
    "duration": 43,
    "start_time": "2024-11-13T03:22:43.272Z"
   },
   {
    "duration": 717,
    "start_time": "2024-11-13T03:28:15.136Z"
   },
   {
    "duration": 475,
    "start_time": "2024-11-13T03:29:03.334Z"
   },
   {
    "duration": 369,
    "start_time": "2024-11-13T03:29:39.343Z"
   },
   {
    "duration": 357,
    "start_time": "2024-11-13T03:29:48.727Z"
   },
   {
    "duration": 302,
    "start_time": "2024-11-13T03:31:32.907Z"
   },
   {
    "duration": 802,
    "start_time": "2024-11-13T03:32:49.112Z"
   },
   {
    "duration": 103,
    "start_time": "2024-11-13T03:32:49.917Z"
   },
   {
    "duration": 10,
    "start_time": "2024-11-13T03:32:50.022Z"
   },
   {
    "duration": 15,
    "start_time": "2024-11-13T03:32:50.034Z"
   },
   {
    "duration": 3,
    "start_time": "2024-11-13T03:32:50.051Z"
   },
   {
    "duration": 11,
    "start_time": "2024-11-13T03:32:50.055Z"
   },
   {
    "duration": 73,
    "start_time": "2024-11-13T03:32:50.068Z"
   },
   {
    "duration": 108,
    "start_time": "2024-11-13T03:32:50.143Z"
   },
   {
    "duration": 12,
    "start_time": "2024-11-13T03:32:50.253Z"
   },
   {
    "duration": 19,
    "start_time": "2024-11-13T03:32:50.266Z"
   },
   {
    "duration": 23,
    "start_time": "2024-11-13T03:32:50.287Z"
   },
   {
    "duration": 22,
    "start_time": "2024-11-13T03:32:50.311Z"
   },
   {
    "duration": 6,
    "start_time": "2024-11-13T03:32:50.335Z"
   },
   {
    "duration": 2,
    "start_time": "2024-11-13T03:32:50.344Z"
   },
   {
    "duration": 22,
    "start_time": "2024-11-13T03:32:50.348Z"
   },
   {
    "duration": 341,
    "start_time": "2024-11-13T03:32:50.372Z"
   },
   {
    "duration": 244,
    "start_time": "2024-11-13T03:44:17.244Z"
   },
   {
    "duration": 304,
    "start_time": "2024-11-13T03:45:16.689Z"
   },
   {
    "duration": 74,
    "start_time": "2024-11-13T03:46:40.259Z"
   },
   {
    "duration": 60,
    "start_time": "2024-11-13T03:52:55.556Z"
   },
   {
    "duration": 2661,
    "start_time": "2024-11-13T17:22:35.034Z"
   },
   {
    "duration": 161,
    "start_time": "2024-11-13T17:22:37.698Z"
   },
   {
    "duration": 13,
    "start_time": "2024-11-13T17:22:37.864Z"
   },
   {
    "duration": 16,
    "start_time": "2024-11-13T17:22:37.879Z"
   },
   {
    "duration": 3,
    "start_time": "2024-11-13T17:22:37.898Z"
   },
   {
    "duration": 11,
    "start_time": "2024-11-13T17:22:37.902Z"
   },
   {
    "duration": 73,
    "start_time": "2024-11-13T17:22:37.915Z"
   },
   {
    "duration": 116,
    "start_time": "2024-11-13T17:22:37.990Z"
   },
   {
    "duration": 14,
    "start_time": "2024-11-13T17:22:38.108Z"
   },
   {
    "duration": 25,
    "start_time": "2024-11-13T17:22:38.124Z"
   },
   {
    "duration": 20,
    "start_time": "2024-11-13T17:22:38.151Z"
   },
   {
    "duration": 29,
    "start_time": "2024-11-13T17:22:38.172Z"
   },
   {
    "duration": 7,
    "start_time": "2024-11-13T17:22:38.203Z"
   },
   {
    "duration": 3,
    "start_time": "2024-11-13T17:22:38.214Z"
   },
   {
    "duration": 25,
    "start_time": "2024-11-13T17:22:38.219Z"
   },
   {
    "duration": 324,
    "start_time": "2024-11-13T17:22:38.270Z"
   },
   {
    "duration": 74,
    "start_time": "2024-11-13T17:22:38.596Z"
   },
   {
    "duration": 30,
    "start_time": "2024-11-13T17:56:44.251Z"
   },
   {
    "duration": 23,
    "start_time": "2024-11-13T17:58:40.031Z"
   },
   {
    "duration": 69,
    "start_time": "2024-11-13T18:02:17.327Z"
   },
   {
    "duration": 97,
    "start_time": "2024-11-13T18:04:02.107Z"
   },
   {
    "duration": 7,
    "start_time": "2024-11-13T18:04:05.499Z"
   },
   {
    "duration": 789,
    "start_time": "2024-11-13T18:15:32.062Z"
   },
   {
    "duration": 125,
    "start_time": "2024-11-13T18:15:32.854Z"
   },
   {
    "duration": 11,
    "start_time": "2024-11-13T18:15:32.981Z"
   },
   {
    "duration": 15,
    "start_time": "2024-11-13T18:15:32.993Z"
   },
   {
    "duration": 3,
    "start_time": "2024-11-13T18:15:33.010Z"
   },
   {
    "duration": 10,
    "start_time": "2024-11-13T18:15:33.014Z"
   },
   {
    "duration": 73,
    "start_time": "2024-11-13T18:15:33.026Z"
   },
   {
    "duration": 113,
    "start_time": "2024-11-13T18:15:33.101Z"
   },
   {
    "duration": 12,
    "start_time": "2024-11-13T18:15:33.215Z"
   },
   {
    "duration": 16,
    "start_time": "2024-11-13T18:15:33.229Z"
   },
   {
    "duration": 5,
    "start_time": "2024-11-13T18:15:33.247Z"
   },
   {
    "duration": 23,
    "start_time": "2024-11-13T18:15:33.270Z"
   },
   {
    "duration": 6,
    "start_time": "2024-11-13T18:15:33.294Z"
   },
   {
    "duration": 3,
    "start_time": "2024-11-13T18:15:33.303Z"
   },
   {
    "duration": 22,
    "start_time": "2024-11-13T18:15:33.308Z"
   },
   {
    "duration": 314,
    "start_time": "2024-11-13T18:15:33.332Z"
   },
   {
    "duration": 70,
    "start_time": "2024-11-13T18:15:33.648Z"
   },
   {
    "duration": 20,
    "start_time": "2024-11-13T18:15:33.721Z"
   },
   {
    "duration": 108,
    "start_time": "2024-11-13T18:15:33.743Z"
   },
   {
    "duration": 7,
    "start_time": "2024-11-13T18:15:33.853Z"
   },
   {
    "duration": 268,
    "start_time": "2024-11-13T18:18:48.512Z"
   },
   {
    "duration": 125,
    "start_time": "2024-11-13T18:27:32.272Z"
   },
   {
    "duration": 6,
    "start_time": "2024-11-13T18:27:35.176Z"
   },
   {
    "duration": 536,
    "start_time": "2024-11-13T18:32:34.488Z"
   },
   {
    "duration": 126,
    "start_time": "2024-11-13T18:34:05.667Z"
   },
   {
    "duration": 773,
    "start_time": "2024-11-13T18:34:23.834Z"
   },
   {
    "duration": 105,
    "start_time": "2024-11-13T18:34:24.609Z"
   },
   {
    "duration": 11,
    "start_time": "2024-11-13T18:34:24.715Z"
   },
   {
    "duration": 15,
    "start_time": "2024-11-13T18:34:24.728Z"
   },
   {
    "duration": 2,
    "start_time": "2024-11-13T18:34:24.745Z"
   },
   {
    "duration": 31,
    "start_time": "2024-11-13T18:34:24.749Z"
   },
   {
    "duration": 48,
    "start_time": "2024-11-13T18:34:24.781Z"
   },
   {
    "duration": 119,
    "start_time": "2024-11-13T18:34:24.832Z"
   },
   {
    "duration": 19,
    "start_time": "2024-11-13T18:34:24.954Z"
   },
   {
    "duration": 17,
    "start_time": "2024-11-13T18:34:24.977Z"
   },
   {
    "duration": 5,
    "start_time": "2024-11-13T18:34:24.995Z"
   },
   {
    "duration": 23,
    "start_time": "2024-11-13T18:34:25.002Z"
   },
   {
    "duration": 6,
    "start_time": "2024-11-13T18:34:25.026Z"
   },
   {
    "duration": 3,
    "start_time": "2024-11-13T18:34:25.033Z"
   },
   {
    "duration": 53,
    "start_time": "2024-11-13T18:34:25.038Z"
   },
   {
    "duration": 297,
    "start_time": "2024-11-13T18:34:25.093Z"
   },
   {
    "duration": 70,
    "start_time": "2024-11-13T18:34:25.392Z"
   },
   {
    "duration": 24,
    "start_time": "2024-11-13T18:34:25.464Z"
   },
   {
    "duration": 107,
    "start_time": "2024-11-13T18:34:25.489Z"
   },
   {
    "duration": 7,
    "start_time": "2024-11-13T18:34:25.598Z"
   },
   {
    "duration": 154,
    "start_time": "2024-11-13T18:34:25.607Z"
   },
   {
    "duration": 11,
    "start_time": "2024-11-13T18:34:25.763Z"
   },
   {
    "duration": 159,
    "start_time": "2024-11-13T18:35:27.971Z"
   },
   {
    "duration": 4,
    "start_time": "2024-11-13T18:36:59.329Z"
   },
   {
    "duration": 787,
    "start_time": "2024-11-13T18:38:04.972Z"
   },
   {
    "duration": 105,
    "start_time": "2024-11-13T18:38:05.761Z"
   },
   {
    "duration": 11,
    "start_time": "2024-11-13T18:38:05.868Z"
   },
   {
    "duration": 17,
    "start_time": "2024-11-13T18:38:05.882Z"
   },
   {
    "duration": 2,
    "start_time": "2024-11-13T18:38:05.902Z"
   },
   {
    "duration": 13,
    "start_time": "2024-11-13T18:38:05.906Z"
   },
   {
    "duration": 74,
    "start_time": "2024-11-13T18:38:05.920Z"
   },
   {
    "duration": 110,
    "start_time": "2024-11-13T18:38:05.996Z"
   },
   {
    "duration": 12,
    "start_time": "2024-11-13T18:38:06.108Z"
   },
   {
    "duration": 18,
    "start_time": "2024-11-13T18:38:06.121Z"
   },
   {
    "duration": 5,
    "start_time": "2024-11-13T18:38:06.141Z"
   },
   {
    "duration": 43,
    "start_time": "2024-11-13T18:38:06.148Z"
   },
   {
    "duration": 6,
    "start_time": "2024-11-13T18:38:06.193Z"
   },
   {
    "duration": 3,
    "start_time": "2024-11-13T18:38:06.202Z"
   },
   {
    "duration": 22,
    "start_time": "2024-11-13T18:38:06.207Z"
   },
   {
    "duration": 337,
    "start_time": "2024-11-13T18:38:06.230Z"
   },
   {
    "duration": 70,
    "start_time": "2024-11-13T18:38:06.569Z"
   },
   {
    "duration": 32,
    "start_time": "2024-11-13T18:38:06.641Z"
   },
   {
    "duration": 105,
    "start_time": "2024-11-13T18:38:06.676Z"
   },
   {
    "duration": 7,
    "start_time": "2024-11-13T18:38:06.783Z"
   },
   {
    "duration": 151,
    "start_time": "2024-11-13T18:38:06.791Z"
   },
   {
    "duration": 173,
    "start_time": "2024-11-13T18:38:06.944Z"
   },
   {
    "duration": 2471,
    "start_time": "2024-11-13T21:22:32.506Z"
   },
   {
    "duration": 124,
    "start_time": "2024-11-13T21:22:34.979Z"
   },
   {
    "duration": 17,
    "start_time": "2024-11-13T21:22:35.107Z"
   },
   {
    "duration": 15,
    "start_time": "2024-11-13T21:22:35.126Z"
   },
   {
    "duration": 3,
    "start_time": "2024-11-13T21:22:35.144Z"
   },
   {
    "duration": 10,
    "start_time": "2024-11-13T21:22:35.149Z"
   },
   {
    "duration": 68,
    "start_time": "2024-11-13T21:22:35.161Z"
   },
   {
    "duration": 127,
    "start_time": "2024-11-13T21:22:35.231Z"
   },
   {
    "duration": 12,
    "start_time": "2024-11-13T21:22:35.360Z"
   },
   {
    "duration": 17,
    "start_time": "2024-11-13T21:22:35.374Z"
   },
   {
    "duration": 5,
    "start_time": "2024-11-13T21:22:35.393Z"
   },
   {
    "duration": 45,
    "start_time": "2024-11-13T21:22:35.399Z"
   },
   {
    "duration": 6,
    "start_time": "2024-11-13T21:22:35.445Z"
   },
   {
    "duration": 3,
    "start_time": "2024-11-13T21:22:35.454Z"
   },
   {
    "duration": 21,
    "start_time": "2024-11-13T21:22:35.458Z"
   },
   {
    "duration": 352,
    "start_time": "2024-11-13T21:22:35.480Z"
   },
   {
    "duration": 70,
    "start_time": "2024-11-13T21:22:35.835Z"
   },
   {
    "duration": 22,
    "start_time": "2024-11-13T21:22:35.907Z"
   },
   {
    "duration": 114,
    "start_time": "2024-11-13T21:22:35.931Z"
   },
   {
    "duration": 8,
    "start_time": "2024-11-13T21:22:36.046Z"
   },
   {
    "duration": 135,
    "start_time": "2024-11-13T21:22:36.056Z"
   },
   {
    "duration": 172,
    "start_time": "2024-11-13T21:22:36.192Z"
   },
   {
    "duration": 126,
    "start_time": "2024-11-13T21:29:19.538Z"
   },
   {
    "duration": 799,
    "start_time": "2024-11-13T21:30:51.506Z"
   },
   {
    "duration": 100,
    "start_time": "2024-11-13T21:30:52.307Z"
   },
   {
    "duration": 16,
    "start_time": "2024-11-13T21:30:52.409Z"
   },
   {
    "duration": 15,
    "start_time": "2024-11-13T21:30:52.426Z"
   },
   {
    "duration": 3,
    "start_time": "2024-11-13T21:30:52.444Z"
   },
   {
    "duration": 11,
    "start_time": "2024-11-13T21:30:52.449Z"
   },
   {
    "duration": 72,
    "start_time": "2024-11-13T21:30:52.461Z"
   },
   {
    "duration": 109,
    "start_time": "2024-11-13T21:30:52.535Z"
   },
   {
    "duration": 12,
    "start_time": "2024-11-13T21:30:52.646Z"
   },
   {
    "duration": 17,
    "start_time": "2024-11-13T21:30:52.660Z"
   },
   {
    "duration": 6,
    "start_time": "2024-11-13T21:30:52.678Z"
   },
   {
    "duration": 47,
    "start_time": "2024-11-13T21:30:52.685Z"
   },
   {
    "duration": 6,
    "start_time": "2024-11-13T21:30:52.733Z"
   },
   {
    "duration": 3,
    "start_time": "2024-11-13T21:30:52.742Z"
   },
   {
    "duration": 21,
    "start_time": "2024-11-13T21:30:52.747Z"
   },
   {
    "duration": 326,
    "start_time": "2024-11-13T21:30:52.770Z"
   },
   {
    "duration": 76,
    "start_time": "2024-11-13T21:30:53.098Z"
   },
   {
    "duration": 20,
    "start_time": "2024-11-13T21:30:53.176Z"
   },
   {
    "duration": 113,
    "start_time": "2024-11-13T21:30:53.197Z"
   },
   {
    "duration": 7,
    "start_time": "2024-11-13T21:30:53.312Z"
   },
   {
    "duration": 134,
    "start_time": "2024-11-13T21:30:53.325Z"
   },
   {
    "duration": 157,
    "start_time": "2024-11-13T21:30:53.460Z"
   },
   {
    "duration": 13,
    "start_time": "2024-11-13T21:30:53.619Z"
   },
   {
    "duration": 366,
    "start_time": "2024-11-13T21:33:01.270Z"
   },
   {
    "duration": 136,
    "start_time": "2024-11-13T21:34:58.258Z"
   },
   {
    "duration": 390,
    "start_time": "2024-11-13T21:37:30.495Z"
   },
   {
    "duration": 500,
    "start_time": "2024-11-13T21:42:28.204Z"
   },
   {
    "duration": 306,
    "start_time": "2024-11-13T21:44:46.703Z"
   },
   {
    "duration": 24,
    "start_time": "2024-11-13T21:50:35.624Z"
   },
   {
    "duration": 327,
    "start_time": "2024-11-13T21:57:21.139Z"
   },
   {
    "duration": 301,
    "start_time": "2024-11-13T21:57:40.533Z"
   },
   {
    "duration": 63,
    "start_time": "2024-11-13T22:18:50.001Z"
   },
   {
    "duration": 301,
    "start_time": "2024-11-13T22:21:51.723Z"
   },
   {
    "duration": 5,
    "start_time": "2024-11-13T22:22:07.236Z"
   },
   {
    "duration": 45,
    "start_time": "2024-11-13T22:23:34.933Z"
   },
   {
    "duration": 24,
    "start_time": "2024-11-13T22:24:04.384Z"
   },
   {
    "duration": 17,
    "start_time": "2024-11-13T22:30:24.027Z"
   },
   {
    "duration": 798,
    "start_time": "2024-11-13T22:37:59.434Z"
   },
   {
    "duration": 101,
    "start_time": "2024-11-13T22:38:00.234Z"
   },
   {
    "duration": 11,
    "start_time": "2024-11-13T22:38:00.337Z"
   },
   {
    "duration": 18,
    "start_time": "2024-11-13T22:38:00.351Z"
   },
   {
    "duration": 3,
    "start_time": "2024-11-13T22:38:00.370Z"
   },
   {
    "duration": 12,
    "start_time": "2024-11-13T22:38:00.375Z"
   },
   {
    "duration": 75,
    "start_time": "2024-11-13T22:38:00.388Z"
   },
   {
    "duration": 112,
    "start_time": "2024-11-13T22:38:00.464Z"
   },
   {
    "duration": 11,
    "start_time": "2024-11-13T22:38:00.578Z"
   },
   {
    "duration": 31,
    "start_time": "2024-11-13T22:38:00.593Z"
   },
   {
    "duration": 6,
    "start_time": "2024-11-13T22:38:00.626Z"
   },
   {
    "duration": 22,
    "start_time": "2024-11-13T22:38:00.633Z"
   },
   {
    "duration": 6,
    "start_time": "2024-11-13T22:38:00.657Z"
   },
   {
    "duration": 4,
    "start_time": "2024-11-13T22:38:00.664Z"
   },
   {
    "duration": 22,
    "start_time": "2024-11-13T22:38:00.669Z"
   },
   {
    "duration": 289,
    "start_time": "2024-11-13T22:38:00.723Z"
   },
   {
    "duration": 69,
    "start_time": "2024-11-13T22:38:01.015Z"
   },
   {
    "duration": 21,
    "start_time": "2024-11-13T22:38:01.086Z"
   },
   {
    "duration": 115,
    "start_time": "2024-11-13T22:38:01.109Z"
   },
   {
    "duration": 7,
    "start_time": "2024-11-13T22:38:01.225Z"
   },
   {
    "duration": 137,
    "start_time": "2024-11-13T22:38:01.234Z"
   },
   {
    "duration": 168,
    "start_time": "2024-11-13T22:38:01.373Z"
   },
   {
    "duration": 9,
    "start_time": "2024-11-13T22:38:01.543Z"
   },
   {
    "duration": 378,
    "start_time": "2024-11-13T22:38:01.554Z"
   },
   {
    "duration": 22,
    "start_time": "2024-11-13T22:38:01.935Z"
   },
   {
    "duration": 40,
    "start_time": "2024-11-13T22:38:01.959Z"
   },
   {
    "duration": 40,
    "start_time": "2024-11-13T22:38:02.001Z"
   },
   {
    "duration": 17,
    "start_time": "2024-11-13T22:38:02.046Z"
   },
   {
    "duration": 792,
    "start_time": "2024-11-13T22:40:42.921Z"
   },
   {
    "duration": 98,
    "start_time": "2024-11-13T22:40:43.716Z"
   },
   {
    "duration": 16,
    "start_time": "2024-11-13T22:40:43.816Z"
   },
   {
    "duration": 15,
    "start_time": "2024-11-13T22:40:43.833Z"
   },
   {
    "duration": 8,
    "start_time": "2024-11-13T22:40:43.851Z"
   },
   {
    "duration": 13,
    "start_time": "2024-11-13T22:40:43.861Z"
   },
   {
    "duration": 67,
    "start_time": "2024-11-13T22:40:43.877Z"
   },
   {
    "duration": 108,
    "start_time": "2024-11-13T22:40:43.946Z"
   },
   {
    "duration": 12,
    "start_time": "2024-11-13T22:40:44.056Z"
   },
   {
    "duration": 17,
    "start_time": "2024-11-13T22:40:44.069Z"
   },
   {
    "duration": 6,
    "start_time": "2024-11-13T22:40:44.088Z"
   },
   {
    "duration": 38,
    "start_time": "2024-11-13T22:40:44.095Z"
   },
   {
    "duration": 6,
    "start_time": "2024-11-13T22:40:44.135Z"
   },
   {
    "duration": 3,
    "start_time": "2024-11-13T22:40:44.145Z"
   },
   {
    "duration": 22,
    "start_time": "2024-11-13T22:40:44.149Z"
   },
   {
    "duration": 336,
    "start_time": "2024-11-13T22:40:44.173Z"
   },
   {
    "duration": 70,
    "start_time": "2024-11-13T22:40:44.510Z"
   },
   {
    "duration": 20,
    "start_time": "2024-11-13T22:40:44.582Z"
   },
   {
    "duration": 114,
    "start_time": "2024-11-13T22:40:44.604Z"
   },
   {
    "duration": 8,
    "start_time": "2024-11-13T22:40:44.720Z"
   },
   {
    "duration": 135,
    "start_time": "2024-11-13T22:40:44.730Z"
   },
   {
    "duration": 165,
    "start_time": "2024-11-13T22:40:44.867Z"
   },
   {
    "duration": 9,
    "start_time": "2024-11-13T22:40:45.034Z"
   },
   {
    "duration": 393,
    "start_time": "2024-11-13T22:40:45.045Z"
   },
   {
    "duration": 22,
    "start_time": "2024-11-13T22:40:45.439Z"
   },
   {
    "duration": 42,
    "start_time": "2024-11-13T22:40:45.462Z"
   },
   {
    "duration": 40,
    "start_time": "2024-11-13T22:40:45.505Z"
   },
   {
    "duration": 16,
    "start_time": "2024-11-13T22:40:45.547Z"
   },
   {
    "duration": 41,
    "start_time": "2024-11-13T22:41:22.830Z"
   },
   {
    "duration": 176,
    "start_time": "2024-11-13T22:42:20.473Z"
   },
   {
    "duration": 163,
    "start_time": "2024-11-13T22:51:38.780Z"
   },
   {
    "duration": 183,
    "start_time": "2024-11-13T22:55:54.301Z"
   },
   {
    "duration": 19,
    "start_time": "2024-11-13T23:06:20.816Z"
   },
   {
    "duration": 45,
    "start_time": "2024-11-13T23:06:35.463Z"
   },
   {
    "duration": 254,
    "start_time": "2024-11-13T23:06:50.102Z"
   },
   {
    "duration": 239,
    "start_time": "2024-11-13T23:08:32.249Z"
   },
   {
    "duration": 214,
    "start_time": "2024-11-13T23:09:24.937Z"
   },
   {
    "duration": 211,
    "start_time": "2024-11-13T23:09:44.675Z"
   },
   {
    "duration": 216,
    "start_time": "2024-11-13T23:09:59.620Z"
   },
   {
    "duration": 859,
    "start_time": "2024-11-13T23:10:05.343Z"
   },
   {
    "duration": 106,
    "start_time": "2024-11-13T23:10:06.205Z"
   },
   {
    "duration": 15,
    "start_time": "2024-11-13T23:10:06.312Z"
   },
   {
    "duration": 15,
    "start_time": "2024-11-13T23:10:06.329Z"
   },
   {
    "duration": 2,
    "start_time": "2024-11-13T23:10:06.346Z"
   },
   {
    "duration": 11,
    "start_time": "2024-11-13T23:10:06.350Z"
   },
   {
    "duration": 69,
    "start_time": "2024-11-13T23:10:06.362Z"
   },
   {
    "duration": 110,
    "start_time": "2024-11-13T23:10:06.432Z"
   },
   {
    "duration": 14,
    "start_time": "2024-11-13T23:10:06.544Z"
   },
   {
    "duration": 17,
    "start_time": "2024-11-13T23:10:06.560Z"
   },
   {
    "duration": 5,
    "start_time": "2024-11-13T23:10:06.578Z"
   },
   {
    "duration": 46,
    "start_time": "2024-11-13T23:10:06.585Z"
   },
   {
    "duration": 6,
    "start_time": "2024-11-13T23:10:06.633Z"
   },
   {
    "duration": 3,
    "start_time": "2024-11-13T23:10:06.643Z"
   },
   {
    "duration": 21,
    "start_time": "2024-11-13T23:10:06.648Z"
   },
   {
    "duration": 313,
    "start_time": "2024-11-13T23:10:06.671Z"
   },
   {
    "duration": 69,
    "start_time": "2024-11-13T23:10:06.986Z"
   },
   {
    "duration": 20,
    "start_time": "2024-11-13T23:10:07.057Z"
   },
   {
    "duration": 112,
    "start_time": "2024-11-13T23:10:07.079Z"
   },
   {
    "duration": 9,
    "start_time": "2024-11-13T23:10:07.192Z"
   },
   {
    "duration": 138,
    "start_time": "2024-11-13T23:10:07.203Z"
   },
   {
    "duration": 157,
    "start_time": "2024-11-13T23:10:07.342Z"
   },
   {
    "duration": 12,
    "start_time": "2024-11-13T23:10:07.501Z"
   },
   {
    "duration": 401,
    "start_time": "2024-11-13T23:10:07.515Z"
   },
   {
    "duration": 27,
    "start_time": "2024-11-13T23:10:07.918Z"
   },
   {
    "duration": 42,
    "start_time": "2024-11-13T23:10:07.946Z"
   },
   {
    "duration": 41,
    "start_time": "2024-11-13T23:10:07.990Z"
   },
   {
    "duration": 17,
    "start_time": "2024-11-13T23:10:08.033Z"
   },
   {
    "duration": 39,
    "start_time": "2024-11-13T23:10:08.052Z"
   },
   {
    "duration": 189,
    "start_time": "2024-11-13T23:10:08.093Z"
   },
   {
    "duration": 198,
    "start_time": "2024-11-13T23:10:08.283Z"
   },
   {
    "duration": 15,
    "start_time": "2024-11-13T23:10:08.483Z"
   },
   {
    "duration": 51,
    "start_time": "2024-11-13T23:10:08.499Z"
   },
   {
    "duration": 237,
    "start_time": "2024-11-13T23:10:08.552Z"
   },
   {
    "duration": 234,
    "start_time": "2024-11-13T23:10:08.791Z"
   },
   {
    "duration": 34,
    "start_time": "2024-11-13T23:43:27.552Z"
   },
   {
    "duration": 841,
    "start_time": "2024-11-13T23:45:17.272Z"
   },
   {
    "duration": 112,
    "start_time": "2024-11-13T23:45:18.116Z"
   },
   {
    "duration": 11,
    "start_time": "2024-11-13T23:45:18.232Z"
   },
   {
    "duration": 15,
    "start_time": "2024-11-13T23:45:18.245Z"
   },
   {
    "duration": 2,
    "start_time": "2024-11-13T23:45:18.262Z"
   },
   {
    "duration": 10,
    "start_time": "2024-11-13T23:45:18.267Z"
   },
   {
    "duration": 86,
    "start_time": "2024-11-13T23:45:18.279Z"
   },
   {
    "duration": 119,
    "start_time": "2024-11-13T23:45:18.367Z"
   },
   {
    "duration": 13,
    "start_time": "2024-11-13T23:45:18.488Z"
   },
   {
    "duration": 29,
    "start_time": "2024-11-13T23:45:18.503Z"
   },
   {
    "duration": 5,
    "start_time": "2024-11-13T23:45:18.534Z"
   },
   {
    "duration": 22,
    "start_time": "2024-11-13T23:45:18.540Z"
   },
   {
    "duration": 6,
    "start_time": "2024-11-13T23:45:18.564Z"
   },
   {
    "duration": 3,
    "start_time": "2024-11-13T23:45:18.572Z"
   },
   {
    "duration": 51,
    "start_time": "2024-11-13T23:45:18.577Z"
   },
   {
    "duration": 334,
    "start_time": "2024-11-13T23:45:18.630Z"
   },
   {
    "duration": 91,
    "start_time": "2024-11-13T23:45:18.966Z"
   },
   {
    "duration": 23,
    "start_time": "2024-11-13T23:45:19.059Z"
   },
   {
    "duration": 112,
    "start_time": "2024-11-13T23:45:19.084Z"
   },
   {
    "duration": 7,
    "start_time": "2024-11-13T23:45:19.197Z"
   },
   {
    "duration": 136,
    "start_time": "2024-11-13T23:45:19.206Z"
   },
   {
    "duration": 157,
    "start_time": "2024-11-13T23:45:19.344Z"
   },
   {
    "duration": 9,
    "start_time": "2024-11-13T23:45:19.503Z"
   },
   {
    "duration": 384,
    "start_time": "2024-11-13T23:45:19.525Z"
   },
   {
    "duration": 36,
    "start_time": "2024-11-13T23:45:19.912Z"
   },
   {
    "duration": 45,
    "start_time": "2024-11-13T23:45:19.950Z"
   },
   {
    "duration": 36,
    "start_time": "2024-11-13T23:45:19.997Z"
   },
   {
    "duration": 17,
    "start_time": "2024-11-13T23:45:20.037Z"
   },
   {
    "duration": 40,
    "start_time": "2024-11-13T23:45:20.055Z"
   },
   {
    "duration": 176,
    "start_time": "2024-11-13T23:45:20.097Z"
   },
   {
    "duration": 198,
    "start_time": "2024-11-13T23:45:20.275Z"
   },
   {
    "duration": 14,
    "start_time": "2024-11-13T23:45:20.474Z"
   },
   {
    "duration": 48,
    "start_time": "2024-11-13T23:45:20.491Z"
   },
   {
    "duration": 218,
    "start_time": "2024-11-13T23:45:20.540Z"
   },
   {
    "duration": 244,
    "start_time": "2024-11-13T23:45:20.760Z"
   },
   {
    "duration": 35,
    "start_time": "2024-11-13T23:45:21.006Z"
   },
   {
    "duration": 2570,
    "start_time": "2024-11-14T16:35:14.403Z"
   },
   {
    "duration": 126,
    "start_time": "2024-11-14T16:35:16.975Z"
   },
   {
    "duration": 12,
    "start_time": "2024-11-14T16:35:17.103Z"
   },
   {
    "duration": 24,
    "start_time": "2024-11-14T16:35:17.117Z"
   },
   {
    "duration": 3,
    "start_time": "2024-11-14T16:35:17.144Z"
   },
   {
    "duration": 10,
    "start_time": "2024-11-14T16:35:17.149Z"
   },
   {
    "duration": 70,
    "start_time": "2024-11-14T16:35:17.161Z"
   },
   {
    "duration": 112,
    "start_time": "2024-11-14T16:35:17.233Z"
   },
   {
    "duration": 12,
    "start_time": "2024-11-14T16:35:17.346Z"
   },
   {
    "duration": 19,
    "start_time": "2024-11-14T16:35:17.359Z"
   },
   {
    "duration": 6,
    "start_time": "2024-11-14T16:35:17.379Z"
   },
   {
    "duration": 48,
    "start_time": "2024-11-14T16:35:17.387Z"
   },
   {
    "duration": 6,
    "start_time": "2024-11-14T16:35:17.437Z"
   },
   {
    "duration": 4,
    "start_time": "2024-11-14T16:35:17.446Z"
   },
   {
    "duration": 22,
    "start_time": "2024-11-14T16:35:17.452Z"
   },
   {
    "duration": 344,
    "start_time": "2024-11-14T16:35:17.476Z"
   },
   {
    "duration": 75,
    "start_time": "2024-11-14T16:35:17.821Z"
   },
   {
    "duration": 21,
    "start_time": "2024-11-14T16:35:17.898Z"
   },
   {
    "duration": 126,
    "start_time": "2024-11-14T16:35:17.920Z"
   },
   {
    "duration": 8,
    "start_time": "2024-11-14T16:35:18.048Z"
   },
   {
    "duration": 143,
    "start_time": "2024-11-14T16:35:18.058Z"
   },
   {
    "duration": 163,
    "start_time": "2024-11-14T16:35:18.203Z"
   },
   {
    "duration": 10,
    "start_time": "2024-11-14T16:35:18.368Z"
   },
   {
    "duration": 339,
    "start_time": "2024-11-14T16:35:18.379Z"
   },
   {
    "duration": 30,
    "start_time": "2024-11-14T16:35:18.720Z"
   },
   {
    "duration": 44,
    "start_time": "2024-11-14T16:35:18.752Z"
   },
   {
    "duration": 44,
    "start_time": "2024-11-14T16:35:18.798Z"
   },
   {
    "duration": 17,
    "start_time": "2024-11-14T16:35:18.844Z"
   },
   {
    "duration": 42,
    "start_time": "2024-11-14T16:35:18.863Z"
   },
   {
    "duration": 190,
    "start_time": "2024-11-14T16:35:18.907Z"
   },
   {
    "duration": 191,
    "start_time": "2024-11-14T16:35:19.099Z"
   },
   {
    "duration": 14,
    "start_time": "2024-11-14T16:35:19.292Z"
   },
   {
    "duration": 57,
    "start_time": "2024-11-14T16:35:19.308Z"
   },
   {
    "duration": 236,
    "start_time": "2024-11-14T16:35:19.367Z"
   },
   {
    "duration": 250,
    "start_time": "2024-11-14T16:35:19.605Z"
   },
   {
    "duration": 35,
    "start_time": "2024-11-14T16:35:19.857Z"
   },
   {
    "duration": 889,
    "start_time": "2024-11-14T17:45:29.146Z"
   },
   {
    "duration": 108,
    "start_time": "2024-11-14T17:45:30.038Z"
   },
   {
    "duration": 11,
    "start_time": "2024-11-14T17:45:30.147Z"
   },
   {
    "duration": 16,
    "start_time": "2024-11-14T17:45:30.161Z"
   },
   {
    "duration": 3,
    "start_time": "2024-11-14T17:45:30.179Z"
   },
   {
    "duration": 11,
    "start_time": "2024-11-14T17:45:30.184Z"
   },
   {
    "duration": 75,
    "start_time": "2024-11-14T17:45:30.197Z"
   },
   {
    "duration": 114,
    "start_time": "2024-11-14T17:45:30.274Z"
   },
   {
    "duration": 15,
    "start_time": "2024-11-14T17:45:30.390Z"
   },
   {
    "duration": 35,
    "start_time": "2024-11-14T17:45:30.409Z"
   },
   {
    "duration": 7,
    "start_time": "2024-11-14T17:45:30.445Z"
   },
   {
    "duration": 26,
    "start_time": "2024-11-14T17:45:30.453Z"
   },
   {
    "duration": 10,
    "start_time": "2024-11-14T17:45:30.481Z"
   },
   {
    "duration": 3,
    "start_time": "2024-11-14T17:45:30.493Z"
   },
   {
    "duration": 49,
    "start_time": "2024-11-14T17:45:30.498Z"
   },
   {
    "duration": 309,
    "start_time": "2024-11-14T17:45:30.550Z"
   },
   {
    "duration": 71,
    "start_time": "2024-11-14T17:45:30.861Z"
   },
   {
    "duration": 20,
    "start_time": "2024-11-14T17:45:30.934Z"
   },
   {
    "duration": 112,
    "start_time": "2024-11-14T17:45:30.956Z"
   },
   {
    "duration": 7,
    "start_time": "2024-11-14T17:45:31.070Z"
   },
   {
    "duration": 145,
    "start_time": "2024-11-14T17:45:31.079Z"
   },
   {
    "duration": 156,
    "start_time": "2024-11-14T17:45:31.230Z"
   },
   {
    "duration": 9,
    "start_time": "2024-11-14T17:45:31.388Z"
   },
   {
    "duration": 401,
    "start_time": "2024-11-14T17:45:31.399Z"
   },
   {
    "duration": 32,
    "start_time": "2024-11-14T17:45:31.802Z"
   },
   {
    "duration": 43,
    "start_time": "2024-11-14T17:45:31.836Z"
   },
   {
    "duration": 25,
    "start_time": "2024-11-14T17:45:31.880Z"
   },
   {
    "duration": 36,
    "start_time": "2024-11-14T17:45:31.910Z"
   },
   {
    "duration": 46,
    "start_time": "2024-11-14T17:45:31.949Z"
   },
   {
    "duration": 188,
    "start_time": "2024-11-14T17:45:31.997Z"
   },
   {
    "duration": 197,
    "start_time": "2024-11-14T17:45:32.186Z"
   },
   {
    "duration": 14,
    "start_time": "2024-11-14T17:45:32.385Z"
   },
   {
    "duration": 51,
    "start_time": "2024-11-14T17:45:32.401Z"
   },
   {
    "duration": 245,
    "start_time": "2024-11-14T17:45:32.454Z"
   },
   {
    "duration": 232,
    "start_time": "2024-11-14T17:45:32.701Z"
   },
   {
    "duration": 29,
    "start_time": "2024-11-14T17:45:32.935Z"
   },
   {
    "duration": 880,
    "start_time": "2024-11-14T18:25:18.155Z"
   },
   {
    "duration": 108,
    "start_time": "2024-11-14T18:25:19.037Z"
   },
   {
    "duration": 11,
    "start_time": "2024-11-14T18:25:19.146Z"
   },
   {
    "duration": 15,
    "start_time": "2024-11-14T18:25:19.159Z"
   },
   {
    "duration": 3,
    "start_time": "2024-11-14T18:25:19.177Z"
   },
   {
    "duration": 11,
    "start_time": "2024-11-14T18:25:19.182Z"
   },
   {
    "duration": 76,
    "start_time": "2024-11-14T18:25:19.195Z"
   },
   {
    "duration": 116,
    "start_time": "2024-11-14T18:25:19.272Z"
   },
   {
    "duration": 12,
    "start_time": "2024-11-14T18:25:19.390Z"
   },
   {
    "duration": 29,
    "start_time": "2024-11-14T18:25:19.404Z"
   },
   {
    "duration": 6,
    "start_time": "2024-11-14T18:25:19.434Z"
   },
   {
    "duration": 23,
    "start_time": "2024-11-14T18:25:19.441Z"
   },
   {
    "duration": 6,
    "start_time": "2024-11-14T18:25:19.466Z"
   },
   {
    "duration": 3,
    "start_time": "2024-11-14T18:25:19.476Z"
   },
   {
    "duration": 51,
    "start_time": "2024-11-14T18:25:19.481Z"
   },
   {
    "duration": 321,
    "start_time": "2024-11-14T18:25:19.535Z"
   },
   {
    "duration": 78,
    "start_time": "2024-11-14T18:25:19.858Z"
   },
   {
    "duration": 21,
    "start_time": "2024-11-14T18:25:19.938Z"
   },
   {
    "duration": 121,
    "start_time": "2024-11-14T18:25:19.961Z"
   },
   {
    "duration": 7,
    "start_time": "2024-11-14T18:25:20.084Z"
   },
   {
    "duration": 144,
    "start_time": "2024-11-14T18:25:20.093Z"
   },
   {
    "duration": 157,
    "start_time": "2024-11-14T18:25:20.238Z"
   },
   {
    "duration": 12,
    "start_time": "2024-11-14T18:25:20.397Z"
   },
   {
    "duration": 399,
    "start_time": "2024-11-14T18:25:20.411Z"
   },
   {
    "duration": 32,
    "start_time": "2024-11-14T18:25:20.812Z"
   },
   {
    "duration": 43,
    "start_time": "2024-11-14T18:25:20.846Z"
   },
   {
    "duration": 24,
    "start_time": "2024-11-14T18:25:20.890Z"
   },
   {
    "duration": 17,
    "start_time": "2024-11-14T18:25:20.932Z"
   },
   {
    "duration": 43,
    "start_time": "2024-11-14T18:25:20.950Z"
   },
   {
    "duration": 191,
    "start_time": "2024-11-14T18:25:20.995Z"
   },
   {
    "duration": 198,
    "start_time": "2024-11-14T18:25:21.188Z"
   },
   {
    "duration": 15,
    "start_time": "2024-11-14T18:25:21.388Z"
   },
   {
    "duration": 46,
    "start_time": "2024-11-14T18:25:21.405Z"
   },
   {
    "duration": 242,
    "start_time": "2024-11-14T18:25:21.453Z"
   },
   {
    "duration": 238,
    "start_time": "2024-11-14T18:25:21.697Z"
   },
   {
    "duration": 35,
    "start_time": "2024-11-14T18:25:21.937Z"
   }
  ],
  "kernelspec": {
   "display_name": "Python 3 (ipykernel)",
   "language": "python",
   "name": "python3"
  },
  "language_info": {
   "codemirror_mode": {
    "name": "ipython",
    "version": 3
   },
   "file_extension": ".py",
   "mimetype": "text/x-python",
   "name": "python",
   "nbconvert_exporter": "python",
   "pygments_lexer": "ipython3",
   "version": "3.9.19"
  },
  "toc": {
   "base_numbering": 1,
   "nav_menu": {},
   "number_sections": true,
   "sideBar": true,
   "skip_h1_title": true,
   "title_cell": "Table of Contents",
   "title_sidebar": "Contents",
   "toc_cell": false,
   "toc_position": {},
   "toc_section_display": true,
   "toc_window_display": false
  }
 },
 "nbformat": 4,
 "nbformat_minor": 2
}
