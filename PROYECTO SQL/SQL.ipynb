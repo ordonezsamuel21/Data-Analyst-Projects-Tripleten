{
 "cells": [
  {
   "cell_type": "markdown",
   "metadata": {},
   "source": [
    "# Proyecto SQL"
   ]
  },
  {
   "cell_type": "markdown",
   "metadata": {},
   "source": [
    "La pandemia del coronavirus alteró significativamente la vida cotidiana, afectando especialmente las actividades sociales y culturales. Los cafés, centros comerciales y otros puntos de encuentro dejaron de ser la opción para muchas personas, mientras que quedarse en casa y leer libros se convirtió en una de las formas más comunes de entretenimiento. Este cambio en los hábitos de consumo trajo consigo una creciente demanda de aplicaciones dedicadas a los amantes de los libros, lo que llevó a las startups a enfocarse en desarrollar productos innovadores para este nuevo mercado.\n",
    "\n",
    "El proyecto que presentamos aquí se basa en el análisis de una base de datos que contiene información clave sobre libros, autores, editoriales, calificaciones y reseñas de usuarios. A través de consultas SQL, se busca extraer información valiosa de esta base de datos para ayudar a generar una propuesta de valor para un nuevo producto en el mercado editorial. Este análisis se centrará en obtener respuestas a preguntas clave sobre las preferencias de los lectores, el desempeño de los libros en el mercado, y las tendencias en las calificaciones y reseñas de los usuarios.\n",
    "\n",
    "Para llevar a cabo este análisis, se utilizarán las siguientes tablas de datos:\n",
    "\n",
    "* Books: Contiene información sobre los libros, incluyendo el título, autor, número de páginas, fecha de publicación y editorial.\n",
    "    \n",
    "* Authors: Detalles sobre los autores, como su identificación y nombre.\n",
    "    \n",
    "* Publishers: Información sobre las editoriales, identificadas por su ID y nombre.\n",
    "    \n",
    "* Ratings: Contiene las calificaciones que los usuarios asignan a los libros, junto con su nombre de usuario.\n",
    "    \n",
    "* Reviews: Incluye las reseñas textuales realizadas por los usuarios, con su nombre de usuario y el contenido de la reseña.\n",
    "\n",
    "El objetivo de este proyecto es responder a diversas preguntas de análisis mediante el uso de consultas SQL, lo cual permitirá conocer más a fondo las tendencias del mercado editorial en un contexto post-pandemia. A lo largo de este estudio, se realizarán diversas consultas para identificar patrones de publicación, calificación, y reseña que aporten valor al desarrollo de un nuevo producto.\n",
    "\n",
    "Las tareas a realizar incluyen la identificación de libros publicados después de una fecha determinada, la obtención de calificaciones promedio y reseñas de libros, la identificación de la editorial con mayor número de publicaciones relevantes, y el análisis de las calificaciones más altas obtenidas por autores."
   ]
  },
  {
   "cell_type": "markdown",
   "metadata": {},
   "source": [
    "**Objetivos del estudio**\n",
    "\n",
    "* Analizar el comportamiento de publicación de libros después del 1 de enero de 2000.\n",
    "\n",
    "* Determinar el número de reseñas de usuarios y la calificación promedio para cada libro.\n",
    "\n",
    "* Identificar la editorial que ha publicado el mayor número de libros con más de 50 páginas.\n",
    "\n",
    "* Encontrar el autor con la más alta calificación promedio de libros (considerando solo los libros con al menos 50 calificaciones).\n",
    "\n",
    "* Calcular el número promedio de reseñas de texto entre los usuarios que han calificado más de 50 libros."
   ]
  },
  {
   "cell_type": "code",
   "execution_count": 1,
   "metadata": {},
   "outputs": [],
   "source": [
    "#Importar librerías\n",
    "import pandas as pd\n",
    "from sqlalchemy import create_engine"
   ]
  },
  {
   "cell_type": "code",
   "execution_count": 2,
   "metadata": {},
   "outputs": [],
   "source": [
    "#Conectarse a la base de datos\n",
    "db_config = {'user': 'practicum_student',         # nombre de usuario\n",
    "             'pwd': 's65BlTKV3faNIGhmvJVzOqhs', # contraseña\n",
    "             'host': 'rc1b-wcoijxj3yxfsf3fs.mdb.yandexcloud.net',\n",
    "             'port': 6432,              # puerto de conexión\n",
    "             'db': 'data-analyst-final-project-db'}          # nombre de la base de datos\n",
    "\n",
    "connection_string = 'postgresql://{}:{}@{}:{}/{}'.format(db_config['user'],\n",
    "                                                                     db_config['pwd'],\n",
    "                                                                       db_config['host'],\n",
    "                                                                       db_config['port'],\n",
    "                                                                       db_config['db'])\n",
    "\n",
    "engine = create_engine(connection_string, connect_args={'sslmode':'require'})"
   ]
  },
  {
   "cell_type": "code",
   "execution_count": 3,
   "metadata": {},
   "outputs": [
    {
     "name": "stdout",
     "output_type": "stream",
     "text": [
      "   book_id  author_id                                              title  \\\n",
      "0        1        546                                       'Salem's Lot   \n",
      "1        2        465                 1 000 Places to See Before You Die   \n",
      "2        3        407  13 Little Blue Envelopes (Little Blue Envelope...   \n",
      "3        4         82  1491: New Revelations of the Americas Before C...   \n",
      "4        5        125                                               1776   \n",
      "\n",
      "   num_pages publication_date  publisher_id  \n",
      "0        594       2005-11-01            93  \n",
      "1        992       2003-05-22           336  \n",
      "2        322       2010-12-21           135  \n",
      "3        541       2006-10-10           309  \n",
      "4        386       2006-07-04           268  \n",
      "   author_id                          author\n",
      "0          1                      A.S. Byatt\n",
      "1          2  Aesop/Laura Harris/Laura Gibbs\n",
      "2          3                 Agatha Christie\n",
      "3          4                   Alan Brennert\n",
      "4          5        Alan Moore/David   Lloyd\n",
      "   publisher_id                          publisher\n",
      "0             1                                Ace\n",
      "1             2                           Ace Book\n",
      "2             3                          Ace Books\n",
      "3             4                      Ace Hardcover\n",
      "4             5  Addison Wesley Publishing Company\n",
      "   rating_id  book_id       username  rating\n",
      "0          1        1     ryanfranco       4\n",
      "1          2        1  grantpatricia       2\n",
      "2          3        1   brandtandrea       5\n",
      "3          4        2       lorichen       3\n",
      "4          5        2    mariokeller       2\n",
      "   review_id  book_id       username  \\\n",
      "0          1        1   brandtandrea   \n",
      "1          2        1     ryanfranco   \n",
      "2          3        2       lorichen   \n",
      "3          4        3  johnsonamanda   \n",
      "4          5        3    scotttamara   \n",
      "\n",
      "                                                text  \n",
      "0  Mention society tell send professor analysis. ...  \n",
      "1  Foot glass pretty audience hit themselves. Amo...  \n",
      "2  Listen treat keep worry. Miss husband tax but ...  \n",
      "3  Finally month interesting blue could nature cu...  \n",
      "4  Nation purpose heavy give wait song will. List...  \n"
     ]
    }
   ],
   "source": [
    "# Consultas SQL\n",
    "query_books = \"SELECT * FROM books LIMIT 5;\"\n",
    "query_authors = \"SELECT * FROM authors LIMIT 5;\"\n",
    "query_publishers = \"SELECT * FROM publishers LIMIT 5;\"\n",
    "query_ratings = \"SELECT * FROM ratings LIMIT 5;\"\n",
    "query_reviews = \"SELECT * FROM reviews LIMIT 5;\"\n",
    "\n",
    "# Imprimir las primeras filas de cada tabla\n",
    "books = pd.io.sql.read_sql(query_books, con = engine)\n",
    "authors = pd.io.sql.read_sql(query_authors, con = engine)\n",
    "publishers= pd.io.sql.read_sql(query_publishers, con = engine)\n",
    "ratings = pd.io.sql.read_sql(query_ratings, con = engine)\n",
    "reviews = pd.io.sql.read_sql(query_reviews, con = engine)\n",
    "\n",
    "print(books.head())\n",
    "print(authors.head())\n",
    "print(publishers.head())\n",
    "print(ratings.head())\n",
    "print(reviews.head())\n"
   ]
  },
  {
   "cell_type": "code",
   "execution_count": 4,
   "metadata": {},
   "outputs": [
    {
     "name": "stdout",
     "output_type": "stream",
     "text": [
      "   num_books\n",
      "0        819\n"
     ]
    }
   ],
   "source": [
    "#Número de libros publicados después del 1 de enero de 2000\n",
    "query_num_books = \"\"\"\n",
    "SELECT COUNT(*) AS num_books\n",
    "FROM books\n",
    "WHERE publication_date > '2000-01-01';\n",
    "\"\"\"\n",
    "\n",
    "#Ejecutar consulta SQL utilizando pandas\n",
    "num_books = pd.io.sql.read_sql(query_num_books, con = engine)\n",
    "\n",
    "#Mostrar resultados\n",
    "print(num_books.head())"
   ]
  },
  {
   "cell_type": "markdown",
   "metadata": {},
   "source": [
    "Se han publicado 819 libros después del 1 de enero de 2000. Esto indica un nivel considerable de actividad en la publicación de libros en el período reciente."
   ]
  },
  {
   "cell_type": "code",
   "execution_count": 5,
   "metadata": {},
   "outputs": [
    {
     "name": "stdout",
     "output_type": "stream",
     "text": [
      "   book_id                                              title  num_reviews  \\\n",
      "0      652          The Body in the Library (Miss Marple  #3)            4   \n",
      "1      273                                          Galápagos            4   \n",
      "2       51                           A Tree Grows in Brooklyn           60   \n",
      "3      951  Undaunted Courage: The Pioneering First Missio...            4   \n",
      "4      839                                        The Prophet           28   \n",
      "\n",
      "   avg_rating  \n",
      "0    4.500000  \n",
      "1    4.500000  \n",
      "2    4.250000  \n",
      "3    4.000000  \n",
      "4    4.285714  \n"
     ]
    }
   ],
   "source": [
    "#Número de reseñas de usuarios y calificación promedio para cada libro\n",
    "query_reviews_ratings = \"\"\"\n",
    "SELECT books.book_id, books.title, COUNT(reviews.review_id) AS num_reviews, AVG(ratings.rating) AS avg_rating\n",
    "FROM books\n",
    "LEFT JOIN reviews ON books.book_id = reviews.book_id\n",
    "LEFT JOIN ratings ON books.book_id = ratings.book_id\n",
    "GROUP BY books.book_id, books.title;\n",
    "\"\"\"\n",
    "\n",
    "#Ejecutar consulta SQL utilizando pandas\n",
    "reviews_ratings = pd.io.sql.read_sql(query_reviews_ratings, con = engine)\n",
    "\n",
    "#Mostrar resultados\n",
    "print(reviews_ratings.head())\n"
   ]
  },
  {
   "cell_type": "markdown",
   "metadata": {},
   "source": [
    "Cada libro tiene un número variado de reseñas y una calificación promedio diferente. Por ejemplo, el libro \"A Tree Grows in Brooklyn\" tiene 60 reseñas con una calificación promedio de 4.25. Esto proporciona una visión clara de la participación del usuario y la percepción de cada libro."
   ]
  },
  {
   "cell_type": "code",
   "execution_count": 6,
   "metadata": {},
   "outputs": [
    {
     "name": "stdout",
     "output_type": "stream",
     "text": [
      "       publisher  num_books\n",
      "0  Penguin Books         42\n"
     ]
    }
   ],
   "source": [
    "#Editorial que ha publicado el mayor número de libros con más de 50 páginas\n",
    "query_publishers_books = \"\"\"\n",
    "SELECT publishers.publisher, COUNT(books.book_id) AS num_books\n",
    "FROM books\n",
    "JOIN publishers ON books.publisher_id = publishers.publisher_id\n",
    "WHERE books.num_pages > 50\n",
    "GROUP BY publishers.publisher\n",
    "ORDER BY num_books DESC\n",
    "LIMIT 1;\n",
    "\"\"\"\n",
    "\n",
    "#Ejecutar consulta SQL utilizando pandas\n",
    "publishers_books = pd.io.sql.read_sql(query_publishers_books, con = engine)\n",
    "\n",
    "#Mostrar resultados\n",
    "print(publishers_books.head())"
   ]
  },
  {
   "cell_type": "markdown",
   "metadata": {},
   "source": [
    "La editorial \"Penguin Books\" ha publicado el mayor número de libros con más de 50 páginas, con un total de 42 libros. Esta información es útil para identificar a los principales editores en el mercado de libros de mayor contenido."
   ]
  },
  {
   "cell_type": "code",
   "execution_count": 7,
   "metadata": {},
   "outputs": [
    {
     "name": "stdout",
     "output_type": "stream",
     "text": [
      "           author  avg_rating\n",
      "0  Diana Gabaldon         4.3\n"
     ]
    }
   ],
   "source": [
    "#Autor con la más alta calificación promedio del libro (con al menos 50 calificaciones)\n",
    "query_top_author = \"\"\"\n",
    "SELECT authors.author, AVG(ratings.rating) AS avg_rating\n",
    "FROM books\n",
    "JOIN authors ON books.author_id = authors.author_id\n",
    "JOIN ratings ON books.book_id = ratings.book_id\n",
    "GROUP BY authors.author\n",
    "HAVING COUNT(ratings.rating_id) >= 50\n",
    "ORDER BY avg_rating DESC\n",
    "LIMIT 1;\n",
    "\"\"\"\n",
    "\n",
    "#Ejecutar consulta SQL utilizando pandas\n",
    "top_author = pd.io.sql.read_sql(query_top_author, con = engine)\n",
    "\n",
    "#Mostrar resultados\n",
    "print(top_author.head())"
   ]
  },
  {
   "cell_type": "markdown",
   "metadata": {},
   "source": [
    "El autor con la calificación promedio más alta para sus libros (considerando solo aquellos con al menos 50 calificaciones) es Diana Gabaldon, con una calificación promedio de 4.3. Este hallazgo puede ser útil para destacar a los autores más valorados por los lectores."
   ]
  },
  {
   "cell_type": "code",
   "execution_count": 8,
   "metadata": {},
   "outputs": [
    {
     "name": "stdout",
     "output_type": "stream",
     "text": [
      "   avg_text_reviews\n",
      "0         24.333333\n"
     ]
    }
   ],
   "source": [
    "#Número promedio de reseñas de texto entre los usuarios que calificaron más de 50 libros\n",
    "query_avg_text_reviews = \"\"\"\n",
    "WITH user_reviews AS (\n",
    "    SELECT username, COUNT(review_id) AS num_reviews\n",
    "    FROM reviews\n",
    "    GROUP BY username\n",
    "),\n",
    "user_ratings AS (\n",
    "    SELECT username, COUNT(rating_id) AS num_ratings\n",
    "    FROM ratings\n",
    "    GROUP BY username\n",
    ")\n",
    "SELECT AVG(user_reviews.num_reviews) AS avg_text_reviews\n",
    "FROM user_reviews\n",
    "JOIN user_ratings ON user_reviews.username = user_ratings.username\n",
    "WHERE user_ratings.num_ratings > 50;\n",
    "\"\"\"\n",
    "\n",
    "#Ejecutar consulta SQL utilizando pandas\n",
    "avg_text_reviews = pd.io.sql.read_sql(query_avg_text_reviews, con = engine)\n",
    "\n",
    "#Mostrar resultados\n",
    "print(avg_text_reviews.head())"
   ]
  },
  {
   "cell_type": "markdown",
   "metadata": {},
   "source": [
    "En promedio, los usuarios que han calificado más de 50 libros han escrito aproximadamente 24 reseñas de texto. Esto indica un alto nivel de participación de estos usuarios activos en el servicio."
   ]
  }
 ],
 "metadata": {
  "ExecuteTimeLog": [
   {
    "duration": 399,
    "start_time": "2024-12-17T01:23:38.948Z"
   },
   {
    "duration": 26,
    "start_time": "2024-12-17T01:24:11.165Z"
   },
   {
    "duration": 2,
    "start_time": "2024-12-17T01:28:15.629Z"
   },
   {
    "duration": 187,
    "start_time": "2024-12-17T01:28:48.357Z"
   },
   {
    "duration": 2986,
    "start_time": "2024-12-17T01:28:57.378Z"
   },
   {
    "duration": 12,
    "start_time": "2024-12-17T01:29:23.984Z"
   },
   {
    "duration": 355,
    "start_time": "2024-12-17T01:29:30.428Z"
   },
   {
    "duration": 22,
    "start_time": "2024-12-17T01:29:30.785Z"
   },
   {
    "duration": 2,
    "start_time": "2024-12-17T01:29:30.808Z"
   },
   {
    "duration": 2956,
    "start_time": "2024-12-17T01:29:30.812Z"
   },
   {
    "duration": 11,
    "start_time": "2024-12-17T01:29:33.770Z"
   },
   {
    "duration": 370,
    "start_time": "2024-12-17T02:01:00.381Z"
   },
   {
    "duration": 21,
    "start_time": "2024-12-17T02:01:00.754Z"
   },
   {
    "duration": 3,
    "start_time": "2024-12-17T02:01:00.777Z"
   },
   {
    "duration": 2974,
    "start_time": "2024-12-17T02:01:00.782Z"
   },
   {
    "duration": 10,
    "start_time": "2024-12-17T02:01:03.759Z"
   },
   {
    "duration": 384,
    "start_time": "2024-12-17T02:03:42.971Z"
   },
   {
    "duration": 26,
    "start_time": "2024-12-17T02:03:43.357Z"
   },
   {
    "duration": 5634,
    "start_time": "2024-12-17T02:03:43.385Z"
   },
   {
    "duration": 5,
    "start_time": "2024-12-17T02:04:50.663Z"
   },
   {
    "duration": 769,
    "start_time": "2024-12-17T02:07:18.829Z"
   },
   {
    "duration": 1034,
    "start_time": "2024-12-17T02:08:21.617Z"
   },
   {
    "duration": 1034,
    "start_time": "2024-12-17T02:11:19.967Z"
   },
   {
    "duration": 768,
    "start_time": "2024-12-17T02:12:09.273Z"
   },
   {
    "duration": 771,
    "start_time": "2024-12-17T02:13:07.496Z"
   },
   {
    "duration": 777,
    "start_time": "2024-12-17T02:13:37.416Z"
   },
   {
    "duration": 772,
    "start_time": "2024-12-17T02:13:42.619Z"
   },
   {
    "duration": 342,
    "start_time": "2024-12-17T02:22:16.389Z"
   },
   {
    "duration": 23,
    "start_time": "2024-12-17T02:22:16.733Z"
   },
   {
    "duration": 6098,
    "start_time": "2024-12-17T02:22:16.757Z"
   },
   {
    "duration": 815,
    "start_time": "2024-12-17T02:22:22.857Z"
   },
   {
    "duration": 1094,
    "start_time": "2024-12-17T02:22:23.675Z"
   },
   {
    "duration": 817,
    "start_time": "2024-12-17T02:22:24.771Z"
   },
   {
    "duration": 819,
    "start_time": "2024-12-17T02:22:25.590Z"
   },
   {
    "duration": 818,
    "start_time": "2024-12-17T02:22:26.412Z"
   }
  ],
  "kernelspec": {
   "display_name": "Python 3 (ipykernel)",
   "language": "python",
   "name": "python3"
  },
  "language_info": {
   "codemirror_mode": {
    "name": "ipython",
    "version": 3
   },
   "file_extension": ".py",
   "mimetype": "text/x-python",
   "name": "python",
   "nbconvert_exporter": "python",
   "pygments_lexer": "ipython3",
   "version": "3.9.19"
  },
  "toc": {
   "base_numbering": 1,
   "nav_menu": {},
   "number_sections": true,
   "sideBar": true,
   "skip_h1_title": true,
   "title_cell": "Table of Contents",
   "title_sidebar": "Contents",
   "toc_cell": false,
   "toc_position": {},
   "toc_section_display": true,
   "toc_window_display": false
  }
 },
 "nbformat": 4,
 "nbformat_minor": 2
}
