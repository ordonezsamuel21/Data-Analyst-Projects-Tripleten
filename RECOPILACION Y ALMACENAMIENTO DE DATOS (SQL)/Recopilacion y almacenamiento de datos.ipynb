{
 "cells": [
  {
   "cell_type": "markdown",
   "metadata": {},
   "source": [
    "# Descripción del proyecto\n",
    "\n",
    "**Introducción**\n",
    "\n",
    "Zuber, una nueva empresa de viajes compartidos en Chicago, busca identificar patrones en los datos de sus competidores para comprender mejor las preferencias de los pasajeros y el impacto de factores externos, como el clima, en la demanda de servicios. Este análisis es esencial para Zuber, ya que le permitirá optimizar sus operaciones y ofrecer un servicio que se ajuste a las necesidades de los clientes.\n",
    "\n",
    "El objetivo principal de este proyecto es explorar dos aspectos clave:\n",
    "\n",
    "* Preferencias de los pasajeros: Analizando el número de viajes realizados por diferentes compañías de taxi en Chicago, evaluaremos la popularidad y la demanda de cada empresa. Esto permitirá identificar las empresas de taxi con mayor demanda y analizar posibles tendencias en el comportamiento de los usuarios.\n",
    "\n",
    "* Impacto del clima en la frecuencia de los viajes: Al comparar los datos de los viajes con las condiciones climáticas, intentaremos probar una hipótesis sobre cómo las condiciones del tiempo pueden influir en la frecuencia de los viajes. Específicamente, evaluaremos si existe una diferencia en la duración promedio de los viajes entre días con clima bueno y malo.\n",
    "\n",
    "Para llevar a cabo este análisis, utilizaremos dos conjuntos de datos:\n",
    "\n",
    "* /datasets/project_sql_result_01.csv: Contiene el número de viajes realizados por cada compañía de taxis el 15 y 16 de noviembre de 2017, especificando el nombre de la compañía y el total de viajes.\n",
    "\n",
    "* /datasets/project_sql_result_04.csv: Incluye información sobre los barrios de Chicago donde terminaron los viajes y el promedio de viajes que finalizaron en cada barrio durante noviembre de 2017.\n",
    "\n",
    "Este enfoque nos permitirá no solo entender la demanda actual en el sector, sino también formular recomendaciones estratégicas para que Zuber pueda destacarse en el competitivo mercado de los viajes compartidos."
   ]
  },
  {
   "cell_type": "markdown",
   "metadata": {},
   "source": [
    "# Análisis exploratorio de datos"
   ]
  },
  {
   "cell_type": "code",
   "execution_count": 1,
   "metadata": {},
   "outputs": [],
   "source": [
    "#Importar librerías\n",
    "import pandas as pd\n",
    "import matplotlib.pyplot as plt\n",
    "import seaborn as sns"
   ]
  },
  {
   "cell_type": "code",
   "execution_count": 2,
   "metadata": {},
   "outputs": [],
   "source": [
    "#Importar el primer archivo\n",
    "company_trips_df = pd.read_csv('/datasets/project_sql_result_01.csv')\n",
    "#Importar el segundo archivo\n",
    "dropoff_trips_df = pd.read_csv('/datasets/project_sql_result_04.csv')\n",
    "#Importar el archivo para hipótesis\n",
    "data_loop_ohare= pd.read_csv('/datasets/project_sql_result_07.csv')"
   ]
  },
  {
   "cell_type": "code",
   "execution_count": 3,
   "metadata": {},
   "outputs": [
    {
     "data": {
      "text/html": [
       "<div>\n",
       "<style scoped>\n",
       "    .dataframe tbody tr th:only-of-type {\n",
       "        vertical-align: middle;\n",
       "    }\n",
       "\n",
       "    .dataframe tbody tr th {\n",
       "        vertical-align: top;\n",
       "    }\n",
       "\n",
       "    .dataframe thead th {\n",
       "        text-align: right;\n",
       "    }\n",
       "</style>\n",
       "<table border=\"1\" class=\"dataframe\">\n",
       "  <thead>\n",
       "    <tr style=\"text-align: right;\">\n",
       "      <th></th>\n",
       "      <th>company_name</th>\n",
       "      <th>trips_amount</th>\n",
       "    </tr>\n",
       "  </thead>\n",
       "  <tbody>\n",
       "    <tr>\n",
       "      <th>0</th>\n",
       "      <td>Flash Cab</td>\n",
       "      <td>19558</td>\n",
       "    </tr>\n",
       "    <tr>\n",
       "      <th>1</th>\n",
       "      <td>Taxi Affiliation Services</td>\n",
       "      <td>11422</td>\n",
       "    </tr>\n",
       "    <tr>\n",
       "      <th>2</th>\n",
       "      <td>Medallion Leasing</td>\n",
       "      <td>10367</td>\n",
       "    </tr>\n",
       "    <tr>\n",
       "      <th>3</th>\n",
       "      <td>Yellow Cab</td>\n",
       "      <td>9888</td>\n",
       "    </tr>\n",
       "    <tr>\n",
       "      <th>4</th>\n",
       "      <td>Taxi Affiliation Service Yellow</td>\n",
       "      <td>9299</td>\n",
       "    </tr>\n",
       "  </tbody>\n",
       "</table>\n",
       "</div>"
      ],
      "text/plain": [
       "                      company_name  trips_amount\n",
       "0                        Flash Cab         19558\n",
       "1        Taxi Affiliation Services         11422\n",
       "2                Medallion Leasing         10367\n",
       "3                       Yellow Cab          9888\n",
       "4  Taxi Affiliation Service Yellow          9299"
      ]
     },
     "execution_count": 3,
     "metadata": {},
     "output_type": "execute_result"
    }
   ],
   "source": [
    "#Verificar si se cargó correctamente el archivo\n",
    "company_trips_df.head()"
   ]
  },
  {
   "cell_type": "code",
   "execution_count": 4,
   "metadata": {},
   "outputs": [
    {
     "data": {
      "text/html": [
       "<div>\n",
       "<style scoped>\n",
       "    .dataframe tbody tr th:only-of-type {\n",
       "        vertical-align: middle;\n",
       "    }\n",
       "\n",
       "    .dataframe tbody tr th {\n",
       "        vertical-align: top;\n",
       "    }\n",
       "\n",
       "    .dataframe thead th {\n",
       "        text-align: right;\n",
       "    }\n",
       "</style>\n",
       "<table border=\"1\" class=\"dataframe\">\n",
       "  <thead>\n",
       "    <tr style=\"text-align: right;\">\n",
       "      <th></th>\n",
       "      <th>dropoff_location_name</th>\n",
       "      <th>average_trips</th>\n",
       "    </tr>\n",
       "  </thead>\n",
       "  <tbody>\n",
       "    <tr>\n",
       "      <th>0</th>\n",
       "      <td>Loop</td>\n",
       "      <td>10727.466667</td>\n",
       "    </tr>\n",
       "    <tr>\n",
       "      <th>1</th>\n",
       "      <td>River North</td>\n",
       "      <td>9523.666667</td>\n",
       "    </tr>\n",
       "    <tr>\n",
       "      <th>2</th>\n",
       "      <td>Streeterville</td>\n",
       "      <td>6664.666667</td>\n",
       "    </tr>\n",
       "    <tr>\n",
       "      <th>3</th>\n",
       "      <td>West Loop</td>\n",
       "      <td>5163.666667</td>\n",
       "    </tr>\n",
       "    <tr>\n",
       "      <th>4</th>\n",
       "      <td>O'Hare</td>\n",
       "      <td>2546.900000</td>\n",
       "    </tr>\n",
       "  </tbody>\n",
       "</table>\n",
       "</div>"
      ],
      "text/plain": [
       "  dropoff_location_name  average_trips\n",
       "0                  Loop   10727.466667\n",
       "1           River North    9523.666667\n",
       "2         Streeterville    6664.666667\n",
       "3             West Loop    5163.666667\n",
       "4                O'Hare    2546.900000"
      ]
     },
     "execution_count": 4,
     "metadata": {},
     "output_type": "execute_result"
    }
   ],
   "source": [
    "#Verificar si se cargó correctamente el archivo\n",
    "dropoff_trips_df.head()"
   ]
  },
  {
   "cell_type": "code",
   "execution_count": 5,
   "metadata": {},
   "outputs": [
    {
     "name": "stdout",
     "output_type": "stream",
     "text": [
      "<class 'pandas.core.frame.DataFrame'>\n",
      "RangeIndex: 64 entries, 0 to 63\n",
      "Data columns (total 2 columns):\n",
      " #   Column        Non-Null Count  Dtype \n",
      "---  ------        --------------  ----- \n",
      " 0   company_name  64 non-null     object\n",
      " 1   trips_amount  64 non-null     int64 \n",
      "dtypes: int64(1), object(1)\n",
      "memory usage: 1.1+ KB\n"
     ]
    }
   ],
   "source": [
    "#Verificar información general del dataset 'company_trips_df'\n",
    "company_trips_df.info()"
   ]
  },
  {
   "cell_type": "markdown",
   "metadata": {},
   "source": [
    "Este DataFrame es pequeño y contiene 64 filas de datos completos sobre compañías de taxis y el número de viajes realizados por cada una. La estructura y los tipos de datos son apropiados para análisis y visualización sin necesidad de limpieza adicional en términos de valores nulos."
   ]
  },
  {
   "cell_type": "code",
   "execution_count": 6,
   "metadata": {},
   "outputs": [
    {
     "data": {
      "text/html": [
       "<div>\n",
       "<style scoped>\n",
       "    .dataframe tbody tr th:only-of-type {\n",
       "        vertical-align: middle;\n",
       "    }\n",
       "\n",
       "    .dataframe tbody tr th {\n",
       "        vertical-align: top;\n",
       "    }\n",
       "\n",
       "    .dataframe thead th {\n",
       "        text-align: right;\n",
       "    }\n",
       "</style>\n",
       "<table border=\"1\" class=\"dataframe\">\n",
       "  <thead>\n",
       "    <tr style=\"text-align: right;\">\n",
       "      <th></th>\n",
       "      <th>trips_amount</th>\n",
       "    </tr>\n",
       "  </thead>\n",
       "  <tbody>\n",
       "    <tr>\n",
       "      <th>count</th>\n",
       "      <td>64.000000</td>\n",
       "    </tr>\n",
       "    <tr>\n",
       "      <th>mean</th>\n",
       "      <td>2145.484375</td>\n",
       "    </tr>\n",
       "    <tr>\n",
       "      <th>std</th>\n",
       "      <td>3812.310186</td>\n",
       "    </tr>\n",
       "    <tr>\n",
       "      <th>min</th>\n",
       "      <td>2.000000</td>\n",
       "    </tr>\n",
       "    <tr>\n",
       "      <th>25%</th>\n",
       "      <td>20.750000</td>\n",
       "    </tr>\n",
       "    <tr>\n",
       "      <th>50%</th>\n",
       "      <td>178.500000</td>\n",
       "    </tr>\n",
       "    <tr>\n",
       "      <th>75%</th>\n",
       "      <td>2106.500000</td>\n",
       "    </tr>\n",
       "    <tr>\n",
       "      <th>max</th>\n",
       "      <td>19558.000000</td>\n",
       "    </tr>\n",
       "  </tbody>\n",
       "</table>\n",
       "</div>"
      ],
      "text/plain": [
       "       trips_amount\n",
       "count     64.000000\n",
       "mean    2145.484375\n",
       "std     3812.310186\n",
       "min        2.000000\n",
       "25%       20.750000\n",
       "50%      178.500000\n",
       "75%     2106.500000\n",
       "max    19558.000000"
      ]
     },
     "execution_count": 6,
     "metadata": {},
     "output_type": "execute_result"
    }
   ],
   "source": [
    "#Obtener estadísticas descriptivas\n",
    "company_trips_df.describe()"
   ]
  },
  {
   "cell_type": "markdown",
   "metadata": {},
   "source": [
    "* La media o promedio de los viajes es de aproximadamente 2145.48. Esto sugiere que, en promedio, las compañías de taxis realizaron alrededor de 2145 viajes. Sin embargo, dado el alto valor de la desviación estándar, es probable que esta media esté influenciada por algunos valores muy altos.\n",
    "\n",
    "* La desviación estándar es de aproximadamente 3812.31, lo cual es bastante alta en comparación con la media. Esto indica que hay una gran variabilidad en el número de viajes realizados por las compañías. Los datos están bastante dispersos, y es probable que haya compañías que realizaron muchos más o muchos menos viajes que el promedio.\n",
    "\n",
    "* El valor mínimo en esta columna es 2, lo que significa que hay al menos una compañía que solo realizó 2 viajes. Este valor bajo confirma que hay compañías con una cantidad muy baja de viajes, lo cual contribuye a la alta variabilidad en los datos.\n",
    "\n",
    "* El valor máximo es 19,558 viajes, lo cual es muy superior a la media y la mediana. Este valor máximo corresponde a la compañía con mayor cantidad de viajes, y confirma la presencia de valores atípicos que influyen en el promedio general."
   ]
  },
  {
   "cell_type": "code",
   "execution_count": 7,
   "metadata": {},
   "outputs": [
    {
     "name": "stdout",
     "output_type": "stream",
     "text": [
      "<class 'pandas.core.frame.DataFrame'>\n",
      "RangeIndex: 94 entries, 0 to 93\n",
      "Data columns (total 2 columns):\n",
      " #   Column                 Non-Null Count  Dtype  \n",
      "---  ------                 --------------  -----  \n",
      " 0   dropoff_location_name  94 non-null     object \n",
      " 1   average_trips          94 non-null     float64\n",
      "dtypes: float64(1), object(1)\n",
      "memory usage: 1.6+ KB\n"
     ]
    }
   ],
   "source": [
    "#Verificar información general del dataset 'drop_off_trips_df'\n",
    "dropoff_trips_df.info()"
   ]
  },
  {
   "cell_type": "code",
   "execution_count": 8,
   "metadata": {},
   "outputs": [],
   "source": [
    "#Cambiar el tipo de dato de la columna 'average_trips' a entero\n",
    "dropoff_trips_df['average_trips'] = dropoff_trips_df.average_trips.astype('int')"
   ]
  },
  {
   "cell_type": "markdown",
   "metadata": {},
   "source": [
    "Dado que la columna 'average_trips' representa un número de viajes promedio, el valor debería ser un número entero, ya que es poco probable que el número promedio de viajes sea útil en decimales. Un viaje es una unidad discreta, por lo que usar enteros para representarlos es más adecuado."
   ]
  },
  {
   "cell_type": "code",
   "execution_count": 9,
   "metadata": {},
   "outputs": [
    {
     "name": "stdout",
     "output_type": "stream",
     "text": [
      "<class 'pandas.core.frame.DataFrame'>\n",
      "RangeIndex: 94 entries, 0 to 93\n",
      "Data columns (total 2 columns):\n",
      " #   Column                 Non-Null Count  Dtype \n",
      "---  ------                 --------------  ----- \n",
      " 0   dropoff_location_name  94 non-null     object\n",
      " 1   average_trips          94 non-null     int64 \n",
      "dtypes: int64(1), object(1)\n",
      "memory usage: 1.6+ KB\n"
     ]
    }
   ],
   "source": [
    "#Verificar el cambio\n",
    "dropoff_trips_df.info()"
   ]
  },
  {
   "cell_type": "code",
   "execution_count": 10,
   "metadata": {},
   "outputs": [
    {
     "data": {
      "text/html": [
       "<div>\n",
       "<style scoped>\n",
       "    .dataframe tbody tr th:only-of-type {\n",
       "        vertical-align: middle;\n",
       "    }\n",
       "\n",
       "    .dataframe tbody tr th {\n",
       "        vertical-align: top;\n",
       "    }\n",
       "\n",
       "    .dataframe thead th {\n",
       "        text-align: right;\n",
       "    }\n",
       "</style>\n",
       "<table border=\"1\" class=\"dataframe\">\n",
       "  <thead>\n",
       "    <tr style=\"text-align: right;\">\n",
       "      <th></th>\n",
       "      <th>dropoff_location_name</th>\n",
       "      <th>average_trips</th>\n",
       "    </tr>\n",
       "  </thead>\n",
       "  <tbody>\n",
       "    <tr>\n",
       "      <th>0</th>\n",
       "      <td>Loop</td>\n",
       "      <td>10727</td>\n",
       "    </tr>\n",
       "    <tr>\n",
       "      <th>1</th>\n",
       "      <td>River North</td>\n",
       "      <td>9523</td>\n",
       "    </tr>\n",
       "    <tr>\n",
       "      <th>2</th>\n",
       "      <td>Streeterville</td>\n",
       "      <td>6664</td>\n",
       "    </tr>\n",
       "    <tr>\n",
       "      <th>3</th>\n",
       "      <td>West Loop</td>\n",
       "      <td>5163</td>\n",
       "    </tr>\n",
       "    <tr>\n",
       "      <th>4</th>\n",
       "      <td>O'Hare</td>\n",
       "      <td>2546</td>\n",
       "    </tr>\n",
       "  </tbody>\n",
       "</table>\n",
       "</div>"
      ],
      "text/plain": [
       "  dropoff_location_name  average_trips\n",
       "0                  Loop          10727\n",
       "1           River North           9523\n",
       "2         Streeterville           6664\n",
       "3             West Loop           5163\n",
       "4                O'Hare           2546"
      ]
     },
     "execution_count": 10,
     "metadata": {},
     "output_type": "execute_result"
    }
   ],
   "source": [
    "#Verificar el dataset\n",
    "dropoff_trips_df.head()"
   ]
  },
  {
   "cell_type": "code",
   "execution_count": 11,
   "metadata": {},
   "outputs": [
    {
     "data": {
      "text/html": [
       "<div>\n",
       "<style scoped>\n",
       "    .dataframe tbody tr th:only-of-type {\n",
       "        vertical-align: middle;\n",
       "    }\n",
       "\n",
       "    .dataframe tbody tr th {\n",
       "        vertical-align: top;\n",
       "    }\n",
       "\n",
       "    .dataframe thead th {\n",
       "        text-align: right;\n",
       "    }\n",
       "</style>\n",
       "<table border=\"1\" class=\"dataframe\">\n",
       "  <thead>\n",
       "    <tr style=\"text-align: right;\">\n",
       "      <th></th>\n",
       "      <th>average_trips</th>\n",
       "    </tr>\n",
       "  </thead>\n",
       "  <tbody>\n",
       "    <tr>\n",
       "      <th>count</th>\n",
       "      <td>94.000000</td>\n",
       "    </tr>\n",
       "    <tr>\n",
       "      <th>mean</th>\n",
       "      <td>599.478723</td>\n",
       "    </tr>\n",
       "    <tr>\n",
       "      <th>std</th>\n",
       "      <td>1714.555974</td>\n",
       "    </tr>\n",
       "    <tr>\n",
       "      <th>min</th>\n",
       "      <td>1.000000</td>\n",
       "    </tr>\n",
       "    <tr>\n",
       "      <th>25%</th>\n",
       "      <td>14.000000</td>\n",
       "    </tr>\n",
       "    <tr>\n",
       "      <th>50%</th>\n",
       "      <td>51.500000</td>\n",
       "    </tr>\n",
       "    <tr>\n",
       "      <th>75%</th>\n",
       "      <td>298.750000</td>\n",
       "    </tr>\n",
       "    <tr>\n",
       "      <th>max</th>\n",
       "      <td>10727.000000</td>\n",
       "    </tr>\n",
       "  </tbody>\n",
       "</table>\n",
       "</div>"
      ],
      "text/plain": [
       "       average_trips\n",
       "count      94.000000\n",
       "mean      599.478723\n",
       "std      1714.555974\n",
       "min         1.000000\n",
       "25%        14.000000\n",
       "50%        51.500000\n",
       "75%       298.750000\n",
       "max     10727.000000"
      ]
     },
     "execution_count": 11,
     "metadata": {},
     "output_type": "execute_result"
    }
   ],
   "source": [
    "#Obtener estadísticas descriptivas\n",
    "dropoff_trips_df.describe()"
   ]
  },
  {
   "cell_type": "code",
   "execution_count": 12,
   "metadata": {},
   "outputs": [
    {
     "name": "stdout",
     "output_type": "stream",
     "text": [
      "Registros duplicados en 'company_trips_df': 0\n",
      "Registros duplicados en 'dropoff_trips_df': 0\n"
     ]
    }
   ],
   "source": [
    "# Verificar registros duplicados en 'company_trips_df'\n",
    "duplicados_company = company_trips_df.duplicated().sum()\n",
    "print(f\"Registros duplicados en 'company_trips_df': {duplicados_company}\")\n",
    "\n",
    "# Verificar registros duplicados en 'dropoff_trips_df'\n",
    "duplicados_dropoff = dropoff_trips_df.duplicated().sum()\n",
    "print(f\"Registros duplicados en 'dropoff_trips_df': {duplicados_dropoff}\")"
   ]
  },
  {
   "cell_type": "markdown",
   "metadata": {},
   "source": [
    "* La media o promedio es de aproximadamente 599.48 viajes. Esto sugiere que, en promedio, las áreas de destino tienen alrededor de 599 viajes. Sin embargo, este valor medio puede estar sesgado debido a algunos valores muy altos, como se indica por la gran desviación estándar.\n",
    "\n",
    "* La desviación estándar es bastante alta, aproximadamente 1714.56. Esto sugiere que hay una gran variabilidad en el número de viajes promedio en las áreas de destino. Una desviación estándar tan alta indica que los valores están muy dispersos, con algunos valores considerablemente superiores al promedio.\n",
    "\n",
    "* El valor mínimo de average_trips es 1, lo que indica que hay áreas de destino donde se realizaron muy pocos viajes. Esto sugiere que algunas áreas son mucho menos populares o tienen menos demanda.\n",
    "\n",
    "* El valor máximo es 10,727 viajes, lo cual es extremadamente alto en comparación con la media y la mediana. Este valor representa el área de destino con la mayor cantidad de viajes y confirma la presencia de valores atípicos significativos que influyen fuertemente en el promedio.\n",
    "\n",
    "* Adicionalmente, se verificó que no hay registros duplicados en los dos datasets. Con esta verificación, sabemos que los datos utilizados para el análisis son únicos y no están afectados por duplicados"
   ]
  },
  {
   "cell_type": "code",
   "execution_count": 13,
   "metadata": {},
   "outputs": [],
   "source": [
    "#Identificar los 10 principales barrios en términos de finalización del recorrido\n",
    "top_10_neighborhoods= dropoff_trips_df.sort_values('average_trips', ascending=False).head(10)"
   ]
  },
  {
   "cell_type": "code",
   "execution_count": 14,
   "metadata": {},
   "outputs": [
    {
     "data": {
      "text/html": [
       "<div>\n",
       "<style scoped>\n",
       "    .dataframe tbody tr th:only-of-type {\n",
       "        vertical-align: middle;\n",
       "    }\n",
       "\n",
       "    .dataframe tbody tr th {\n",
       "        vertical-align: top;\n",
       "    }\n",
       "\n",
       "    .dataframe thead th {\n",
       "        text-align: right;\n",
       "    }\n",
       "</style>\n",
       "<table border=\"1\" class=\"dataframe\">\n",
       "  <thead>\n",
       "    <tr style=\"text-align: right;\">\n",
       "      <th></th>\n",
       "      <th>dropoff_location_name</th>\n",
       "      <th>average_trips</th>\n",
       "    </tr>\n",
       "  </thead>\n",
       "  <tbody>\n",
       "    <tr>\n",
       "      <th>0</th>\n",
       "      <td>Loop</td>\n",
       "      <td>10727</td>\n",
       "    </tr>\n",
       "    <tr>\n",
       "      <th>1</th>\n",
       "      <td>River North</td>\n",
       "      <td>9523</td>\n",
       "    </tr>\n",
       "    <tr>\n",
       "      <th>2</th>\n",
       "      <td>Streeterville</td>\n",
       "      <td>6664</td>\n",
       "    </tr>\n",
       "    <tr>\n",
       "      <th>3</th>\n",
       "      <td>West Loop</td>\n",
       "      <td>5163</td>\n",
       "    </tr>\n",
       "    <tr>\n",
       "      <th>4</th>\n",
       "      <td>O'Hare</td>\n",
       "      <td>2546</td>\n",
       "    </tr>\n",
       "    <tr>\n",
       "      <th>5</th>\n",
       "      <td>Lake View</td>\n",
       "      <td>2420</td>\n",
       "    </tr>\n",
       "    <tr>\n",
       "      <th>6</th>\n",
       "      <td>Grant Park</td>\n",
       "      <td>2068</td>\n",
       "    </tr>\n",
       "    <tr>\n",
       "      <th>7</th>\n",
       "      <td>Museum Campus</td>\n",
       "      <td>1510</td>\n",
       "    </tr>\n",
       "    <tr>\n",
       "      <th>8</th>\n",
       "      <td>Gold Coast</td>\n",
       "      <td>1364</td>\n",
       "    </tr>\n",
       "    <tr>\n",
       "      <th>9</th>\n",
       "      <td>Sheffield &amp; DePaul</td>\n",
       "      <td>1259</td>\n",
       "    </tr>\n",
       "  </tbody>\n",
       "</table>\n",
       "</div>"
      ],
      "text/plain": [
       "  dropoff_location_name  average_trips\n",
       "0                  Loop          10727\n",
       "1           River North           9523\n",
       "2         Streeterville           6664\n",
       "3             West Loop           5163\n",
       "4                O'Hare           2546\n",
       "5             Lake View           2420\n",
       "6            Grant Park           2068\n",
       "7         Museum Campus           1510\n",
       "8            Gold Coast           1364\n",
       "9    Sheffield & DePaul           1259"
      ]
     },
     "execution_count": 14,
     "metadata": {},
     "output_type": "execute_result"
    }
   ],
   "source": [
    "#Imprimir\n",
    "top_10_neighborhoods"
   ]
  },
  {
   "cell_type": "code",
   "execution_count": 15,
   "metadata": {},
   "outputs": [],
   "source": [
    "# Establecer la columna 'dropoff_location_name' como índice\n",
    "top_10_neighborhoods = top_10_neighborhoods.set_index('dropoff_location_name')"
   ]
  },
  {
   "cell_type": "code",
   "execution_count": 16,
   "metadata": {},
   "outputs": [
    {
     "data": {
      "image/png": "[encoded data removed]",
      "text/plain": [
       "<Figure size 640x480 with 1 Axes>"
      ]
     },
     "metadata": {},
     "output_type": "display_data"
    }
   ],
   "source": [
    "#Graficar los datos\n",
    "top_10_neighborhoods.plot(kind='bar')\n",
    "plt.xlabel('Destino')\n",
    "plt.ylabel('Número de viajes promedio')\n",
    "plt.title('Número promedio de viajes por destino')\n",
    "plt.show()"
   ]
  },
  {
   "cell_type": "markdown",
   "metadata": {},
   "source": [
    "Distribución de Viajes por Destino:\n",
    "\n",
    "* En el gráfico anterior, Loop lidera claramente en cuanto al número promedio de viajes, seguido por River North y Streeterville. Estos barrios parecen ser los destinos más populares para los usuarios de Zuber, lo cual podría estar relacionado con su centralidad y densidad de actividades.\n",
    "\n",
    "* El alto promedio de viajes en estos barrios sugiere que son áreas concurridas y posiblemente céntricas, lo cual es común en zonas comerciales y turísticas.\n",
    "\n",
    "* Barrios como Grant Park, Museum Campus, y Gold Coast también están en el top 10, pero con números significativamente más bajos. Esto sugiere que, si bien son populares, no alcanzan la actividad de las áreas más céntricas como el Loop y River North."
   ]
  },
  {
   "cell_type": "code",
   "execution_count": 17,
   "metadata": {},
   "outputs": [],
   "source": [
    "#Identificar las 10 compañías con mayor número de viajes\n",
    "top_10_companies= company_trips_df.sort_values('trips_amount', ascending=False).head(10)"
   ]
  },
  {
   "cell_type": "code",
   "execution_count": 18,
   "metadata": {},
   "outputs": [
    {
     "data": {
      "text/html": [
       "<div>\n",
       "<style scoped>\n",
       "    .dataframe tbody tr th:only-of-type {\n",
       "        vertical-align: middle;\n",
       "    }\n",
       "\n",
       "    .dataframe tbody tr th {\n",
       "        vertical-align: top;\n",
       "    }\n",
       "\n",
       "    .dataframe thead th {\n",
       "        text-align: right;\n",
       "    }\n",
       "</style>\n",
       "<table border=\"1\" class=\"dataframe\">\n",
       "  <thead>\n",
       "    <tr style=\"text-align: right;\">\n",
       "      <th></th>\n",
       "      <th>company_name</th>\n",
       "      <th>trips_amount</th>\n",
       "    </tr>\n",
       "  </thead>\n",
       "  <tbody>\n",
       "    <tr>\n",
       "      <th>0</th>\n",
       "      <td>Flash Cab</td>\n",
       "      <td>19558</td>\n",
       "    </tr>\n",
       "    <tr>\n",
       "      <th>1</th>\n",
       "      <td>Taxi Affiliation Services</td>\n",
       "      <td>11422</td>\n",
       "    </tr>\n",
       "    <tr>\n",
       "      <th>2</th>\n",
       "      <td>Medallion Leasing</td>\n",
       "      <td>10367</td>\n",
       "    </tr>\n",
       "    <tr>\n",
       "      <th>3</th>\n",
       "      <td>Yellow Cab</td>\n",
       "      <td>9888</td>\n",
       "    </tr>\n",
       "    <tr>\n",
       "      <th>4</th>\n",
       "      <td>Taxi Affiliation Service Yellow</td>\n",
       "      <td>9299</td>\n",
       "    </tr>\n",
       "    <tr>\n",
       "      <th>5</th>\n",
       "      <td>Chicago Carriage Cab Corp</td>\n",
       "      <td>9181</td>\n",
       "    </tr>\n",
       "    <tr>\n",
       "      <th>6</th>\n",
       "      <td>City Service</td>\n",
       "      <td>8448</td>\n",
       "    </tr>\n",
       "    <tr>\n",
       "      <th>7</th>\n",
       "      <td>Sun Taxi</td>\n",
       "      <td>7701</td>\n",
       "    </tr>\n",
       "    <tr>\n",
       "      <th>8</th>\n",
       "      <td>Star North Management LLC</td>\n",
       "      <td>7455</td>\n",
       "    </tr>\n",
       "    <tr>\n",
       "      <th>9</th>\n",
       "      <td>Blue Ribbon Taxi Association Inc.</td>\n",
       "      <td>5953</td>\n",
       "    </tr>\n",
       "  </tbody>\n",
       "</table>\n",
       "</div>"
      ],
      "text/plain": [
       "                        company_name  trips_amount\n",
       "0                          Flash Cab         19558\n",
       "1          Taxi Affiliation Services         11422\n",
       "2                  Medallion Leasing         10367\n",
       "3                         Yellow Cab          9888\n",
       "4    Taxi Affiliation Service Yellow          9299\n",
       "5          Chicago Carriage Cab Corp          9181\n",
       "6                       City Service          8448\n",
       "7                           Sun Taxi          7701\n",
       "8          Star North Management LLC          7455\n",
       "9  Blue Ribbon Taxi Association Inc.          5953"
      ]
     },
     "execution_count": 18,
     "metadata": {},
     "output_type": "execute_result"
    }
   ],
   "source": [
    "#Imprimir\n",
    "top_10_companies"
   ]
  },
  {
   "cell_type": "code",
   "execution_count": 19,
   "metadata": {},
   "outputs": [],
   "source": [
    "#Establecer la columna 'company_name' como índice\n",
    "top_10_companies = top_10_companies.set_index('company_name')"
   ]
  },
  {
   "cell_type": "code",
   "execution_count": 20,
   "metadata": {},
   "outputs": [
    {
     "data": {
      "image/png": "[encoded data removed]",
      "text/plain": [
       "<Figure size 640x480 with 1 Axes>"
      ]
     },
     "metadata": {},
     "output_type": "display_data"
    }
   ],
   "source": [
    "#Graficar los datos\n",
    "top_10_companies.plot(kind='bar', color='red').set_title('Número de viajes por empresa de taxi')\n",
    "plt.xlabel('Empresa')\n",
    "plt.ylabel('Número de viajes')\n",
    "plt.show()"
   ]
  },
  {
   "cell_type": "markdown",
   "metadata": {},
   "source": [
    "Distribución de Viajes por Empresa:\n",
    "\n",
    "* La empresa Flash Cab lidera con una diferencia notable, con casi 20,000 viajes, casi el doble del segundo lugar, Taxi Affiliation Services. Esto puede indicar una fuerte presencia de esta compañía en la ciudad o una estrategia de servicio que ha resonado bien con los clientes.\n",
    "\n",
    "* Las siguientes empresas, como Medallion Leasing y Yellow Cab, muestran una competencia cerrada en términos de viajes, lo cual sugiere un mercado relativamente competitivo.\n",
    "\n",
    "* La diferencia en el número de viajes entre las principales empresas podría estar vinculada a factores como tamaño de la flota, área de servicio, reputación o relación con servicios de viajes compartidos."
   ]
  },
  {
   "cell_type": "markdown",
   "metadata": {},
   "source": [
    "**Conclusiones:**\n",
    "\n",
    "Los destinos más populares y las empresas con mayor número de viajes ofrecen a Zuber una buena referencia para planificar su propio despliegue. La concentración de viajes en el Loop y River North indica que es crucial enfocar recursos en estas áreas para atender la demanda.\n",
    "\n",
    "En cuanto a la competencia, aunque Flash Cab domina el mercado de taxis, hay otras empresas que también tienen una gran participación. Esto podría ser una señal de que el mercado es dinámico y permite la entrada de nuevas opciones, lo cual podría beneficiar a Zuber al encontrar su nicho."
   ]
  },
  {
   "cell_type": "markdown",
   "metadata": {},
   "source": [
    "# Prueba de hipótesis"
   ]
  },
  {
   "cell_type": "markdown",
   "metadata": {},
   "source": [
    "**Hipótesis:**\n",
    "\n",
    "\"La duración promedio de los viajes desde el Loop hasta el Aeropuerto Internacional O'Hare cambia los sábados lluviosos\"."
   ]
  },
  {
   "cell_type": "code",
   "execution_count": 21,
   "metadata": {},
   "outputs": [
    {
     "name": "stdout",
     "output_type": "stream",
     "text": [
      "<class 'pandas.core.frame.DataFrame'>\n",
      "RangeIndex: 1068 entries, 0 to 1067\n",
      "Data columns (total 3 columns):\n",
      " #   Column              Non-Null Count  Dtype  \n",
      "---  ------              --------------  -----  \n",
      " 0   start_ts            1068 non-null   object \n",
      " 1   weather_conditions  1068 non-null   object \n",
      " 2   duration_seconds    1068 non-null   float64\n",
      "dtypes: float64(1), object(2)\n",
      "memory usage: 25.2+ KB\n"
     ]
    }
   ],
   "source": [
    "#Verificar información general\n",
    "data_loop_ohare.info()"
   ]
  },
  {
   "cell_type": "code",
   "execution_count": 22,
   "metadata": {},
   "outputs": [
    {
     "data": {
      "image/png": "[encoded data removed]",
      "text/plain": [
       "<Figure size 640x480 with 1 Axes>"
      ]
     },
     "metadata": {},
     "output_type": "display_data"
    }
   ],
   "source": [
    "#Crear un diagrama de caja\n",
    "sns.boxplot(x='duration_seconds', y='weather_conditions', data=data_loop_ohare).set_title('Duración (s) por condición climática')\n",
    "plt.xlabel('Duración en segundos')\n",
    "plt.ylabel('Condiciones climáticas')\n",
    "plt.show()"
   ]
  },
  {
   "cell_type": "markdown",
   "metadata": {},
   "source": [
    "Vamos a quitar lo outliers, porque pueden distorsionar la representación gráfica de los datos. Al eliminarlos, el diagrama se vuelve más claro y fácil de interpretar, mostrando mejor la tendencia central y la dispersión del conjunto de datos."
   ]
  },
  {
   "cell_type": "code",
   "execution_count": 23,
   "metadata": {},
   "outputs": [],
   "source": [
    "Q1 = data_loop_ohare['duration_seconds'].quantile(0.25)"
   ]
  },
  {
   "cell_type": "code",
   "execution_count": 24,
   "metadata": {},
   "outputs": [
    {
     "data": {
      "text/plain": [
       "1438.25"
      ]
     },
     "execution_count": 24,
     "metadata": {},
     "output_type": "execute_result"
    }
   ],
   "source": [
    "Q1"
   ]
  },
  {
   "cell_type": "code",
   "execution_count": 25,
   "metadata": {},
   "outputs": [],
   "source": [
    "Q3 = data_loop_ohare['duration_seconds'].quantile(0.75)"
   ]
  },
  {
   "cell_type": "code",
   "execution_count": 26,
   "metadata": {},
   "outputs": [
    {
     "data": {
      "text/plain": [
       "2580.0"
      ]
     },
     "execution_count": 26,
     "metadata": {},
     "output_type": "execute_result"
    }
   ],
   "source": [
    "Q3"
   ]
  },
  {
   "cell_type": "code",
   "execution_count": 27,
   "metadata": {},
   "outputs": [],
   "source": [
    "IQR = Q3-Q1"
   ]
  },
  {
   "cell_type": "code",
   "execution_count": 28,
   "metadata": {},
   "outputs": [
    {
     "data": {
      "text/plain": [
       "1141.75"
      ]
     },
     "execution_count": 28,
     "metadata": {},
     "output_type": "execute_result"
    }
   ],
   "source": [
    "IQR"
   ]
  },
  {
   "cell_type": "code",
   "execution_count": 29,
   "metadata": {},
   "outputs": [],
   "source": [
    "lower_limit = Q1-(1.5*IQR)"
   ]
  },
  {
   "cell_type": "code",
   "execution_count": 30,
   "metadata": {},
   "outputs": [],
   "source": [
    "upper_limit = Q3+(1.5*IQR)"
   ]
  },
  {
   "cell_type": "code",
   "execution_count": 31,
   "metadata": {},
   "outputs": [],
   "source": [
    "data_without_outliers = data_loop_ohare.query('duration_seconds <= @upper_limit')\n",
    "data_without_outliers = data_without_outliers.query('duration_seconds >= @lower_limit')"
   ]
  },
  {
   "cell_type": "code",
   "execution_count": 32,
   "metadata": {},
   "outputs": [
    {
     "data": {
      "image/png": "[encoded data removed]",
      "text/plain": [
       "<Figure size 640x480 with 1 Axes>"
      ]
     },
     "metadata": {},
     "output_type": "display_data"
    }
   ],
   "source": [
    "#Graficar diagrama de caja sin outliers\n",
    "sns.boxplot(x='duration_seconds', data=data_without_outliers).set_title('Boxplot de duración')\n",
    "plt.xlabel('Duración en segundos')\n",
    "plt.show()"
   ]
  },
  {
   "cell_type": "code",
   "execution_count": 33,
   "metadata": {},
   "outputs": [
    {
     "data": {
      "image/png": "[encoded data removed]",
      "text/plain": [
       "<Figure size 640x480 with 1 Axes>"
      ]
     },
     "metadata": {},
     "output_type": "display_data"
    }
   ],
   "source": [
    "#Graficar diagrama de caja sin outliers según condición climática\n",
    "sns.boxplot(x='duration_seconds', y='weather_conditions', data=data_without_outliers).set_title('Duración (s) por condición climática')\n",
    "plt.xlabel('Duración en segundos')\n",
    "plt.ylabel('Condiciones climáticas')\n",
    "plt.show()"
   ]
  },
  {
   "cell_type": "code",
   "execution_count": 34,
   "metadata": {},
   "outputs": [],
   "source": [
    "#Importar librerías estadísticas\n",
    "from scipy import stats as st"
   ]
  },
  {
   "cell_type": "code",
   "execution_count": 35,
   "metadata": {},
   "outputs": [],
   "source": [
    "#Asignar el valor alpha\n",
    "alpha = 0.5"
   ]
  },
  {
   "cell_type": "code",
   "execution_count": 36,
   "metadata": {},
   "outputs": [],
   "source": [
    "condición_buena = data_without_outliers.query('weather_conditions == \"Good\"')['duration_seconds']"
   ]
  },
  {
   "cell_type": "code",
   "execution_count": 37,
   "metadata": {},
   "outputs": [],
   "source": [
    "condición_mala = data_without_outliers.query('weather_conditions == \"Bad\"')['duration_seconds']"
   ]
  },
  {
   "cell_type": "markdown",
   "metadata": {},
   "source": [
    "H0 = Los promedios de duración del viaje son iguales para las dos condicones climáticas\n",
    "\n",
    "H1 = Los promedios de duración del viaje son diferentes entre condiciones climáticas"
   ]
  },
  {
   "cell_type": "code",
   "execution_count": 38,
   "metadata": {},
   "outputs": [],
   "source": [
    "#Realizar prueba ttest\n",
    "results = st.ttest_ind(condición_buena, condición_mala)"
   ]
  },
  {
   "cell_type": "code",
   "execution_count": 39,
   "metadata": {},
   "outputs": [
    {
     "name": "stdout",
     "output_type": "stream",
     "text": [
      "p_value 1.2430038032744411e-13\n"
     ]
    }
   ],
   "source": [
    "#Imprimir re\n",
    "print('p_value', results.pvalue)"
   ]
  },
  {
   "cell_type": "code",
   "execution_count": 40,
   "metadata": {},
   "outputs": [
    {
     "name": "stdout",
     "output_type": "stream",
     "text": [
      "Rechazamos la hipótesis nula\n"
     ]
    }
   ],
   "source": [
    "if results.pvalue < alpha:\n",
    "    print('Rechazamos la hipótesis nula')\n",
    "else:\n",
    "    print('No podemos rechazar la hipótesis nula')"
   ]
  },
  {
   "cell_type": "code",
   "execution_count": 41,
   "metadata": {},
   "outputs": [],
   "source": [
    "results_v = st.levene(condición_buena, condición_mala)"
   ]
  },
  {
   "cell_type": "markdown",
   "metadata": {},
   "source": [
    "H0 = Las varianzas de duración del viaje son iguales para las dos condicones climáticas\n",
    "\n",
    "H1 = Las varianzas de duración del viaje son diferentes entre condiciones climáticas"
   ]
  },
  {
   "cell_type": "code",
   "execution_count": 42,
   "metadata": {},
   "outputs": [
    {
     "name": "stdout",
     "output_type": "stream",
     "text": [
      "No podemos rechazar la hipótesis nula\n"
     ]
    }
   ],
   "source": [
    "if results_v.pvalue < alpha:\n",
    "    print('Rechazamos la hipótesis nula')\n",
    "else:\n",
    "    print('No podemos rechazar la hipótesis nula')"
   ]
  },
  {
   "cell_type": "code",
   "execution_count": 44,
   "metadata": {},
   "outputs": [
    {
     "name": "stdout",
     "output_type": "stream",
     "text": [
      "p_value de la prueba de Levene: 0.6196707782686355\n",
      "No podemos rechazar la hipótesis nula de varianzas iguales: Las varianzas de duración del viaje son iguales para las dos condiciones climáticas\n",
      "p_value de la prueba t: 1.2430038032744411e-13\n",
      "Rechazamos la hipótesis nula: Los promedios de duración del viaje son diferentes entre condiciones climáticas\n"
     ]
    }
   ],
   "source": [
    "# Importar librerías estadísticas\n",
    "from scipy import stats as st\n",
    "\n",
    "# Asignar el valor alpha\n",
    "alpha = 0.05\n",
    "\n",
    "# Filtrar los datos por condición climática\n",
    "condición_buena = data_without_outliers.query('weather_conditions == \"Good\"')['duration_seconds']\n",
    "condición_mala = data_without_outliers.query('weather_conditions == \"Bad\"')['duration_seconds']\n",
    "\n",
    "# Hipótesis\n",
    "H0_var = \"Las varianzas de duración del viaje son iguales para las dos condiciones climáticas\"\n",
    "H1_var = \"Las varianzas de duración del viaje son diferentes entre condiciones climáticas\"\n",
    "H0 = \"Los promedios de duración del viaje son iguales para las dos condiciones climáticas\"\n",
    "H1 = \"Los promedios de duración del viaje son diferentes entre condiciones climáticas\"\n",
    "\n",
    "# Realizar prueba de Levene para igualdad de varianzas\n",
    "results_v = st.levene(condición_buena, condición_mala)\n",
    "print(\"p_value de la prueba de Levene:\", results_v.pvalue)\n",
    "\n",
    "# Interpretar resultado de la prueba de Levene\n",
    "if results_v.pvalue < alpha:\n",
    "    print(\"Rechazamos la hipótesis nula de varianzas iguales:\", H1_var)\n",
    "    equal_var = False\n",
    "else:\n",
    "    print(\"No podemos rechazar la hipótesis nula de varianzas iguales:\", H0_var)\n",
    "    equal_var = True\n",
    "\n",
    "# Realizar prueba t-test con el valor determinado de equal_var\n",
    "results = st.ttest_ind(condición_buena, condición_mala, equal_var=equal_var)\n",
    "print(\"p_value de la prueba t:\", results.pvalue)\n",
    "\n",
    "# Interpretar resultado de la prueba t\n",
    "if results.pvalue < alpha:\n",
    "    print(\"Rechazamos la hipótesis nula:\", H1)\n",
    "else:\n",
    "    print(\"No podemos rechazar la hipótesis nula:\", H0)\n"
   ]
  },
  {
   "cell_type": "markdown",
   "metadata": {},
   "source": [
    "Con los resultados obtenidos, podemos concluir lo siguiente:\n",
    "\n",
    "Prueba de Levene: El valor p fue de 0.62, que es mayor que el nivel de significancia de 0.05. Esto indica que no tenemos suficiente evidencia para rechazar la hipótesis nula de igualdad de varianzas. Por lo tanto, asumimos que las varianzas de duración del viaje son iguales entre las condiciones climáticas.\n",
    "\n",
    "Prueba t: Con el valor p bajo, que está muy por debajo de 0.05, rechazamos la hipótesis nula de igualdad de medias. Esto sugiere que hay una diferencia significativa en la duración promedio del viaje entre condiciones climáticas buenas y malas.\n",
    "\n",
    "**Interpretación**\n",
    "\n",
    "La diferencia en los promedios de duración del viaje entre condiciones climáticas buenas y malas es estadísticamente significativa. Esto implica que las condiciones climáticas pueden influir en la duración promedio de los viajes desde el Loop hasta el Aeropuerto Internacional O'Hare, con una duración significativamente distinta en días con mal tiempo."
   ]
  },
  {
   "cell_type": "markdown",
   "metadata": {},
   "source": [
    "* Para probar las hipótesis, utilicé la prueba t de Student (t-test) para muestras independientes. Elegí esta prueba porque me permite comparar las medias de dos grupos (en este caso, los tiempos de viaje bajo condiciones climáticas \"Good\" y \"Bad\").\n",
    "\n",
    "* El criterio que utilicé fue un nivel de significancia (alpha) de 0.05. Esto significa que si el valor p obtenido es menor que 0.05, rechazaré la hipótesis nula, sugiriendo que hay una diferencia significativa en las duraciones de los viajes entre las dos condiciones climáticas.\n",
    "\n",
    "* Después de realizar la prueba, obtuve un p-value de aproximadamente 1.2430038032744411e-13, que es significativamente menor que 0.05. Por lo tanto, rechazo la hipótesis nula, lo que indica que las duraciones promedio de los viajes son diferentes entre las condiciones climáticas \"Good\" y \"Bad\".\n",
    "\n",
    "* También realicé una prueba de Levene para evaluar la igualdad de varianzas entre los grupos. La hipótesis nula para esta prueba establece que las varianzas son iguales. Sin embargo, en este caso, no rechacé la hipótesis nula de igualdad de varianzas, lo que indica que, aunque las medias son diferentes, las varianzas no presentan una diferencia significativa entre las condiciones climáticas.\n",
    "\n",
    "**Conclusión:**\n",
    "El boxplot que generé antes de calcular el p-valor, me ayudó a visualizar la distribución de las duraciones de los viajes bajo las diferentes condiciones climáticas, lo que puede corroborar los resultados de la prueba t al mostrar la diferencia en las medianas y rangos intercuartílicos.\n",
    "\n",
    "En conclusión, los resultados indican que la duración promedio de los viajes sí varía significativamente según las condiciones climáticas, mientras que las varianzas parecen ser similares."
   ]
  }
 ],
 "metadata": {
  "ExecuteTimeLog": [
   {
    "duration": 2117,
    "start_time": "2024-10-07T03:06:52.152Z"
   },
   {
    "duration": 3,
    "start_time": "2024-10-07T03:11:36.179Z"
   },
   {
    "duration": 420,
    "start_time": "2024-10-07T03:11:43.002Z"
   },
   {
    "duration": 42,
    "start_time": "2024-10-07T03:16:34.340Z"
   },
   {
    "duration": 9,
    "start_time": "2024-10-07T03:17:01.158Z"
   },
   {
    "duration": 7,
    "start_time": "2024-10-07T03:19:44.916Z"
   },
   {
    "duration": 7,
    "start_time": "2024-10-07T03:19:55.446Z"
   },
   {
    "duration": 156,
    "start_time": "2024-10-07T16:24:11.088Z"
   },
   {
    "duration": 2120,
    "start_time": "2024-10-07T16:24:19.079Z"
   },
   {
    "duration": 8,
    "start_time": "2024-10-07T16:24:21.201Z"
   },
   {
    "duration": 7,
    "start_time": "2024-10-07T16:24:21.211Z"
   },
   {
    "duration": 7,
    "start_time": "2024-10-07T16:24:21.220Z"
   },
   {
    "duration": 5,
    "start_time": "2024-10-07T16:24:21.229Z"
   },
   {
    "duration": 9,
    "start_time": "2024-10-07T16:24:21.236Z"
   },
   {
    "duration": 9,
    "start_time": "2024-10-07T16:24:37.693Z"
   },
   {
    "duration": 9,
    "start_time": "2024-10-07T16:25:29.238Z"
   },
   {
    "duration": 9,
    "start_time": "2024-10-07T16:25:38.336Z"
   },
   {
    "duration": 3,
    "start_time": "2024-10-07T16:39:49.928Z"
   },
   {
    "duration": 189,
    "start_time": "2024-10-07T16:40:06.059Z"
   },
   {
    "duration": 429,
    "start_time": "2024-10-07T16:40:13.226Z"
   },
   {
    "duration": 49,
    "start_time": "2024-10-07T16:40:13.659Z"
   },
   {
    "duration": 8,
    "start_time": "2024-10-07T16:40:13.710Z"
   },
   {
    "duration": 5,
    "start_time": "2024-10-07T16:40:13.720Z"
   },
   {
    "duration": 6,
    "start_time": "2024-10-07T16:40:13.727Z"
   },
   {
    "duration": 9,
    "start_time": "2024-10-07T16:40:13.734Z"
   },
   {
    "duration": 8,
    "start_time": "2024-10-07T16:40:13.744Z"
   },
   {
    "duration": 37,
    "start_time": "2024-10-07T16:40:13.754Z"
   },
   {
    "duration": 9,
    "start_time": "2024-10-07T16:40:13.793Z"
   },
   {
    "duration": 4,
    "start_time": "2024-10-07T16:40:13.803Z"
   },
   {
    "duration": 7,
    "start_time": "2024-10-07T16:40:13.808Z"
   },
   {
    "duration": 9,
    "start_time": "2024-10-07T17:10:37.282Z"
   },
   {
    "duration": 4,
    "start_time": "2024-10-07T17:14:25.516Z"
   },
   {
    "duration": 11,
    "start_time": "2024-10-07T17:14:43.100Z"
   },
   {
    "duration": 456,
    "start_time": "2024-10-07T17:14:52.791Z"
   },
   {
    "duration": 48,
    "start_time": "2024-10-07T17:14:53.249Z"
   },
   {
    "duration": 9,
    "start_time": "2024-10-07T17:14:53.298Z"
   },
   {
    "duration": 5,
    "start_time": "2024-10-07T17:14:53.308Z"
   },
   {
    "duration": 6,
    "start_time": "2024-10-07T17:14:53.315Z"
   },
   {
    "duration": 9,
    "start_time": "2024-10-07T17:14:53.322Z"
   },
   {
    "duration": 9,
    "start_time": "2024-10-07T17:14:53.333Z"
   },
   {
    "duration": 8,
    "start_time": "2024-10-07T17:14:53.343Z"
   },
   {
    "duration": 3,
    "start_time": "2024-10-07T17:14:53.387Z"
   },
   {
    "duration": 10,
    "start_time": "2024-10-07T17:14:53.392Z"
   },
   {
    "duration": 3,
    "start_time": "2024-10-07T17:14:53.404Z"
   },
   {
    "duration": 5,
    "start_time": "2024-10-07T17:14:53.408Z"
   },
   {
    "duration": 5,
    "start_time": "2024-10-07T17:50:18.883Z"
   },
   {
    "duration": 4,
    "start_time": "2024-10-07T17:52:20.806Z"
   },
   {
    "duration": 7,
    "start_time": "2024-10-07T17:52:34.578Z"
   },
   {
    "duration": 8,
    "start_time": "2024-10-07T17:55:41.918Z"
   },
   {
    "duration": 403,
    "start_time": "2024-10-07T17:55:48.647Z"
   },
   {
    "duration": 50,
    "start_time": "2024-10-07T17:55:49.052Z"
   },
   {
    "duration": 7,
    "start_time": "2024-10-07T17:55:49.104Z"
   },
   {
    "duration": 5,
    "start_time": "2024-10-07T17:55:49.113Z"
   },
   {
    "duration": 5,
    "start_time": "2024-10-07T17:55:49.121Z"
   },
   {
    "duration": 10,
    "start_time": "2024-10-07T17:55:49.128Z"
   },
   {
    "duration": 9,
    "start_time": "2024-10-07T17:55:49.140Z"
   },
   {
    "duration": 36,
    "start_time": "2024-10-07T17:55:49.151Z"
   },
   {
    "duration": 187,
    "start_time": "2024-10-07T17:55:49.188Z"
   },
   {
    "duration": 0,
    "start_time": "2024-10-07T17:55:49.377Z"
   },
   {
    "duration": 0,
    "start_time": "2024-10-07T17:55:49.379Z"
   },
   {
    "duration": 0,
    "start_time": "2024-10-07T17:55:49.380Z"
   },
   {
    "duration": 0,
    "start_time": "2024-10-07T17:55:49.386Z"
   },
   {
    "duration": 0,
    "start_time": "2024-10-07T17:55:49.387Z"
   },
   {
    "duration": 0,
    "start_time": "2024-10-07T17:55:49.389Z"
   },
   {
    "duration": 0,
    "start_time": "2024-10-07T17:55:49.389Z"
   },
   {
    "duration": 3,
    "start_time": "2024-10-07T17:56:00.266Z"
   },
   {
    "duration": 452,
    "start_time": "2024-10-07T17:56:23.696Z"
   },
   {
    "duration": 53,
    "start_time": "2024-10-07T17:56:24.151Z"
   },
   {
    "duration": 9,
    "start_time": "2024-10-07T17:56:24.206Z"
   },
   {
    "duration": 4,
    "start_time": "2024-10-07T17:56:24.218Z"
   },
   {
    "duration": 7,
    "start_time": "2024-10-07T17:56:24.224Z"
   },
   {
    "duration": 8,
    "start_time": "2024-10-07T17:56:24.232Z"
   },
   {
    "duration": 9,
    "start_time": "2024-10-07T17:56:24.241Z"
   },
   {
    "duration": 38,
    "start_time": "2024-10-07T17:56:24.252Z"
   },
   {
    "duration": 3,
    "start_time": "2024-10-07T17:56:24.292Z"
   },
   {
    "duration": 7,
    "start_time": "2024-10-07T17:56:24.297Z"
   },
   {
    "duration": 6,
    "start_time": "2024-10-07T17:56:24.306Z"
   },
   {
    "duration": 9,
    "start_time": "2024-10-07T17:56:24.313Z"
   },
   {
    "duration": 4,
    "start_time": "2024-10-07T17:56:24.323Z"
   },
   {
    "duration": 5,
    "start_time": "2024-10-07T17:56:24.329Z"
   },
   {
    "duration": 3,
    "start_time": "2024-10-07T17:56:24.336Z"
   },
   {
    "duration": 50,
    "start_time": "2024-10-07T17:56:24.341Z"
   },
   {
    "duration": 3,
    "start_time": "2024-10-07T19:07:23.074Z"
   },
   {
    "duration": 449,
    "start_time": "2024-10-07T19:07:28.702Z"
   },
   {
    "duration": 45,
    "start_time": "2024-10-07T19:07:29.154Z"
   },
   {
    "duration": 8,
    "start_time": "2024-10-07T19:07:29.200Z"
   },
   {
    "duration": 5,
    "start_time": "2024-10-07T19:07:29.210Z"
   },
   {
    "duration": 5,
    "start_time": "2024-10-07T19:07:29.218Z"
   },
   {
    "duration": 9,
    "start_time": "2024-10-07T19:07:29.225Z"
   },
   {
    "duration": 8,
    "start_time": "2024-10-07T19:07:29.236Z"
   },
   {
    "duration": 41,
    "start_time": "2024-10-07T19:07:29.246Z"
   },
   {
    "duration": 3,
    "start_time": "2024-10-07T19:07:29.289Z"
   },
   {
    "duration": 8,
    "start_time": "2024-10-07T19:07:29.294Z"
   },
   {
    "duration": 6,
    "start_time": "2024-10-07T19:07:29.303Z"
   },
   {
    "duration": 8,
    "start_time": "2024-10-07T19:07:29.311Z"
   },
   {
    "duration": 3,
    "start_time": "2024-10-07T19:07:29.322Z"
   },
   {
    "duration": 5,
    "start_time": "2024-10-07T19:07:29.328Z"
   },
   {
    "duration": 3,
    "start_time": "2024-10-07T19:07:29.335Z"
   },
   {
    "duration": 3,
    "start_time": "2024-10-07T19:07:29.339Z"
   },
   {
    "duration": 6,
    "start_time": "2024-10-07T19:07:29.387Z"
   },
   {
    "duration": 327,
    "start_time": "2024-10-07T19:14:50.261Z"
   },
   {
    "duration": 143,
    "start_time": "2024-10-07T19:15:19.539Z"
   },
   {
    "duration": 3,
    "start_time": "2024-10-07T19:25:03.575Z"
   },
   {
    "duration": 408,
    "start_time": "2024-10-07T19:25:11.261Z"
   },
   {
    "duration": 47,
    "start_time": "2024-10-07T19:25:11.671Z"
   },
   {
    "duration": 8,
    "start_time": "2024-10-07T19:25:11.719Z"
   },
   {
    "duration": 5,
    "start_time": "2024-10-07T19:25:11.729Z"
   },
   {
    "duration": 5,
    "start_time": "2024-10-07T19:25:11.737Z"
   },
   {
    "duration": 8,
    "start_time": "2024-10-07T19:25:11.744Z"
   },
   {
    "duration": 8,
    "start_time": "2024-10-07T19:25:11.754Z"
   },
   {
    "duration": 8,
    "start_time": "2024-10-07T19:25:11.786Z"
   },
   {
    "duration": 3,
    "start_time": "2024-10-07T19:25:11.797Z"
   },
   {
    "duration": 9,
    "start_time": "2024-10-07T19:25:11.801Z"
   },
   {
    "duration": 7,
    "start_time": "2024-10-07T19:25:11.812Z"
   },
   {
    "duration": 8,
    "start_time": "2024-10-07T19:25:11.821Z"
   },
   {
    "duration": 3,
    "start_time": "2024-10-07T19:25:11.831Z"
   },
   {
    "duration": 5,
    "start_time": "2024-10-07T19:25:11.837Z"
   },
   {
    "duration": 3,
    "start_time": "2024-10-07T19:25:11.843Z"
   },
   {
    "duration": 160,
    "start_time": "2024-10-07T19:25:11.887Z"
   },
   {
    "duration": 3,
    "start_time": "2024-10-07T19:25:12.048Z"
   },
   {
    "duration": 7,
    "start_time": "2024-10-07T19:25:12.053Z"
   },
   {
    "duration": 3,
    "start_time": "2024-10-07T19:25:12.062Z"
   },
   {
    "duration": 174,
    "start_time": "2024-10-07T19:28:08.465Z"
   },
   {
    "duration": 142,
    "start_time": "2024-10-07T19:28:19.154Z"
   },
   {
    "duration": 140,
    "start_time": "2024-10-07T19:28:40.878Z"
   },
   {
    "duration": 161,
    "start_time": "2024-10-07T19:28:51.898Z"
   },
   {
    "duration": 429,
    "start_time": "2024-10-07T19:30:05.729Z"
   },
   {
    "duration": 54,
    "start_time": "2024-10-07T19:30:06.161Z"
   },
   {
    "duration": 8,
    "start_time": "2024-10-07T19:30:06.217Z"
   },
   {
    "duration": 6,
    "start_time": "2024-10-07T19:30:06.228Z"
   },
   {
    "duration": 6,
    "start_time": "2024-10-07T19:30:06.236Z"
   },
   {
    "duration": 9,
    "start_time": "2024-10-07T19:30:06.244Z"
   },
   {
    "duration": 33,
    "start_time": "2024-10-07T19:30:06.255Z"
   },
   {
    "duration": 8,
    "start_time": "2024-10-07T19:30:06.289Z"
   },
   {
    "duration": 3,
    "start_time": "2024-10-07T19:30:06.298Z"
   },
   {
    "duration": 7,
    "start_time": "2024-10-07T19:30:06.303Z"
   },
   {
    "duration": 5,
    "start_time": "2024-10-07T19:30:06.312Z"
   },
   {
    "duration": 10,
    "start_time": "2024-10-07T19:30:06.319Z"
   },
   {
    "duration": 3,
    "start_time": "2024-10-07T19:30:06.330Z"
   },
   {
    "duration": 5,
    "start_time": "2024-10-07T19:30:06.336Z"
   },
   {
    "duration": 4,
    "start_time": "2024-10-07T19:30:06.387Z"
   },
   {
    "duration": 161,
    "start_time": "2024-10-07T19:30:06.393Z"
   },
   {
    "duration": 3,
    "start_time": "2024-10-07T19:30:06.556Z"
   },
   {
    "duration": 6,
    "start_time": "2024-10-07T19:30:06.561Z"
   },
   {
    "duration": 19,
    "start_time": "2024-10-07T19:30:06.569Z"
   },
   {
    "duration": 193,
    "start_time": "2024-10-07T19:30:06.590Z"
   },
   {
    "duration": 7,
    "start_time": "2024-10-07T19:43:26.065Z"
   },
   {
    "duration": 8,
    "start_time": "2024-10-07T19:45:07.423Z"
   },
   {
    "duration": 807,
    "start_time": "2024-10-07T19:45:52.874Z"
   },
   {
    "duration": 10,
    "start_time": "2024-10-07T19:45:53.684Z"
   },
   {
    "duration": 8,
    "start_time": "2024-10-07T19:45:53.695Z"
   },
   {
    "duration": 5,
    "start_time": "2024-10-07T19:45:53.705Z"
   },
   {
    "duration": 6,
    "start_time": "2024-10-07T19:45:53.712Z"
   },
   {
    "duration": 9,
    "start_time": "2024-10-07T19:45:53.720Z"
   },
   {
    "duration": 9,
    "start_time": "2024-10-07T19:45:53.731Z"
   },
   {
    "duration": 7,
    "start_time": "2024-10-07T19:45:53.742Z"
   },
   {
    "duration": 38,
    "start_time": "2024-10-07T19:45:53.750Z"
   },
   {
    "duration": 9,
    "start_time": "2024-10-07T19:45:53.791Z"
   },
   {
    "duration": 6,
    "start_time": "2024-10-07T19:45:53.802Z"
   },
   {
    "duration": 8,
    "start_time": "2024-10-07T19:45:53.810Z"
   },
   {
    "duration": 3,
    "start_time": "2024-10-07T19:45:53.820Z"
   },
   {
    "duration": 5,
    "start_time": "2024-10-07T19:45:53.826Z"
   },
   {
    "duration": 3,
    "start_time": "2024-10-07T19:45:53.833Z"
   },
   {
    "duration": 199,
    "start_time": "2024-10-07T19:45:53.838Z"
   },
   {
    "duration": 3,
    "start_time": "2024-10-07T19:45:54.040Z"
   },
   {
    "duration": 8,
    "start_time": "2024-10-07T19:45:54.045Z"
   },
   {
    "duration": 3,
    "start_time": "2024-10-07T19:45:54.055Z"
   },
   {
    "duration": 209,
    "start_time": "2024-10-07T19:45:54.062Z"
   },
   {
    "duration": 6,
    "start_time": "2024-10-07T19:45:54.273Z"
   },
   {
    "duration": 8,
    "start_time": "2024-10-07T19:45:54.281Z"
   },
   {
    "duration": 155,
    "start_time": "2024-10-07T19:51:16.519Z"
   },
   {
    "duration": 4,
    "start_time": "2024-10-07T20:04:42.630Z"
   },
   {
    "duration": 3,
    "start_time": "2024-10-07T20:04:48.304Z"
   },
   {
    "duration": 834,
    "start_time": "2024-10-07T20:04:56.244Z"
   },
   {
    "duration": 7,
    "start_time": "2024-10-07T20:04:57.080Z"
   },
   {
    "duration": 9,
    "start_time": "2024-10-07T20:04:57.088Z"
   },
   {
    "duration": 6,
    "start_time": "2024-10-07T20:04:57.098Z"
   },
   {
    "duration": 6,
    "start_time": "2024-10-07T20:04:57.107Z"
   },
   {
    "duration": 9,
    "start_time": "2024-10-07T20:04:57.114Z"
   },
   {
    "duration": 9,
    "start_time": "2024-10-07T20:04:57.125Z"
   },
   {
    "duration": 7,
    "start_time": "2024-10-07T20:04:57.136Z"
   },
   {
    "duration": 42,
    "start_time": "2024-10-07T20:04:57.145Z"
   },
   {
    "duration": 8,
    "start_time": "2024-10-07T20:04:57.189Z"
   },
   {
    "duration": 7,
    "start_time": "2024-10-07T20:04:57.199Z"
   },
   {
    "duration": 9,
    "start_time": "2024-10-07T20:04:57.207Z"
   },
   {
    "duration": 3,
    "start_time": "2024-10-07T20:04:57.217Z"
   },
   {
    "duration": 5,
    "start_time": "2024-10-07T20:04:57.225Z"
   },
   {
    "duration": 4,
    "start_time": "2024-10-07T20:04:57.232Z"
   },
   {
    "duration": 196,
    "start_time": "2024-10-07T20:04:57.237Z"
   },
   {
    "duration": 3,
    "start_time": "2024-10-07T20:04:57.435Z"
   },
   {
    "duration": 6,
    "start_time": "2024-10-07T20:04:57.440Z"
   },
   {
    "duration": 4,
    "start_time": "2024-10-07T20:04:57.447Z"
   },
   {
    "duration": 223,
    "start_time": "2024-10-07T20:04:57.452Z"
   },
   {
    "duration": 6,
    "start_time": "2024-10-07T20:04:57.677Z"
   },
   {
    "duration": 9,
    "start_time": "2024-10-07T20:04:57.684Z"
   },
   {
    "duration": 164,
    "start_time": "2024-10-07T20:04:57.695Z"
   },
   {
    "duration": 5,
    "start_time": "2024-10-07T20:04:57.869Z"
   },
   {
    "duration": 3,
    "start_time": "2024-10-07T20:04:57.877Z"
   },
   {
    "duration": 3,
    "start_time": "2024-10-07T20:10:40.837Z"
   },
   {
    "duration": 3,
    "start_time": "2024-10-07T20:10:45.294Z"
   },
   {
    "duration": 2,
    "start_time": "2024-10-07T20:11:28.937Z"
   },
   {
    "duration": 3,
    "start_time": "2024-10-07T20:11:33.359Z"
   },
   {
    "duration": 3,
    "start_time": "2024-10-07T20:12:46.817Z"
   },
   {
    "duration": 4,
    "start_time": "2024-10-07T20:13:49.312Z"
   },
   {
    "duration": 294,
    "start_time": "2024-10-07T20:17:14.251Z"
   },
   {
    "duration": 16,
    "start_time": "2024-10-07T20:17:36.419Z"
   },
   {
    "duration": 899,
    "start_time": "2024-10-07T20:18:42.871Z"
   },
   {
    "duration": 15,
    "start_time": "2024-10-07T20:18:43.772Z"
   },
   {
    "duration": 11,
    "start_time": "2024-10-07T20:18:43.788Z"
   },
   {
    "duration": 6,
    "start_time": "2024-10-07T20:18:43.801Z"
   },
   {
    "duration": 6,
    "start_time": "2024-10-07T20:18:43.810Z"
   },
   {
    "duration": 10,
    "start_time": "2024-10-07T20:18:43.817Z"
   },
   {
    "duration": 10,
    "start_time": "2024-10-07T20:18:43.828Z"
   },
   {
    "duration": 9,
    "start_time": "2024-10-07T20:18:43.840Z"
   },
   {
    "duration": 36,
    "start_time": "2024-10-07T20:18:43.851Z"
   },
   {
    "duration": 11,
    "start_time": "2024-10-07T20:18:43.889Z"
   },
   {
    "duration": 7,
    "start_time": "2024-10-07T20:18:43.902Z"
   },
   {
    "duration": 9,
    "start_time": "2024-10-07T20:18:43.912Z"
   },
   {
    "duration": 8,
    "start_time": "2024-10-07T20:18:43.923Z"
   },
   {
    "duration": 7,
    "start_time": "2024-10-07T20:18:43.934Z"
   },
   {
    "duration": 3,
    "start_time": "2024-10-07T20:18:43.942Z"
   },
   {
    "duration": 205,
    "start_time": "2024-10-07T20:18:43.947Z"
   },
   {
    "duration": 3,
    "start_time": "2024-10-07T20:18:44.154Z"
   },
   {
    "duration": 7,
    "start_time": "2024-10-07T20:18:44.159Z"
   },
   {
    "duration": 3,
    "start_time": "2024-10-07T20:18:44.169Z"
   },
   {
    "duration": 192,
    "start_time": "2024-10-07T20:18:44.187Z"
   },
   {
    "duration": 5,
    "start_time": "2024-10-07T20:18:44.381Z"
   },
   {
    "duration": 11,
    "start_time": "2024-10-07T20:18:44.387Z"
   },
   {
    "duration": 189,
    "start_time": "2024-10-07T20:18:44.399Z"
   },
   {
    "duration": 4,
    "start_time": "2024-10-07T20:18:44.590Z"
   },
   {
    "duration": 4,
    "start_time": "2024-10-07T20:18:44.596Z"
   },
   {
    "duration": 4,
    "start_time": "2024-10-07T20:18:44.602Z"
   },
   {
    "duration": 6,
    "start_time": "2024-10-07T20:18:44.608Z"
   },
   {
    "duration": 4,
    "start_time": "2024-10-07T20:18:44.617Z"
   },
   {
    "duration": 3,
    "start_time": "2024-10-07T20:18:44.622Z"
   },
   {
    "duration": 3,
    "start_time": "2024-10-07T20:18:44.626Z"
   },
   {
    "duration": 3,
    "start_time": "2024-10-07T20:18:44.631Z"
   },
   {
    "duration": 283,
    "start_time": "2024-10-07T20:18:44.635Z"
   },
   {
    "duration": 855,
    "start_time": "2024-10-07T20:19:50.610Z"
   },
   {
    "duration": 7,
    "start_time": "2024-10-07T20:19:51.467Z"
   },
   {
    "duration": 14,
    "start_time": "2024-10-07T20:19:51.475Z"
   },
   {
    "duration": 9,
    "start_time": "2024-10-07T20:19:51.492Z"
   },
   {
    "duration": 9,
    "start_time": "2024-10-07T20:19:51.503Z"
   },
   {
    "duration": 11,
    "start_time": "2024-10-07T20:19:51.514Z"
   },
   {
    "duration": 9,
    "start_time": "2024-10-07T20:19:51.527Z"
   },
   {
    "duration": 10,
    "start_time": "2024-10-07T20:19:51.538Z"
   },
   {
    "duration": 3,
    "start_time": "2024-10-07T20:19:51.551Z"
   },
   {
    "duration": 37,
    "start_time": "2024-10-07T20:19:51.556Z"
   },
   {
    "duration": 7,
    "start_time": "2024-10-07T20:19:51.596Z"
   },
   {
    "duration": 9,
    "start_time": "2024-10-07T20:19:51.605Z"
   },
   {
    "duration": 3,
    "start_time": "2024-10-07T20:19:51.615Z"
   },
   {
    "duration": 7,
    "start_time": "2024-10-07T20:19:51.623Z"
   },
   {
    "duration": 4,
    "start_time": "2024-10-07T20:19:51.631Z"
   },
   {
    "duration": 182,
    "start_time": "2024-10-07T20:19:51.636Z"
   },
   {
    "duration": 3,
    "start_time": "2024-10-07T20:19:51.819Z"
   },
   {
    "duration": 7,
    "start_time": "2024-10-07T20:19:51.824Z"
   },
   {
    "duration": 3,
    "start_time": "2024-10-07T20:19:51.833Z"
   },
   {
    "duration": 210,
    "start_time": "2024-10-07T20:19:51.837Z"
   },
   {
    "duration": 6,
    "start_time": "2024-10-07T20:19:52.049Z"
   },
   {
    "duration": 10,
    "start_time": "2024-10-07T20:19:52.056Z"
   },
   {
    "duration": 154,
    "start_time": "2024-10-07T20:19:52.068Z"
   },
   {
    "duration": 5,
    "start_time": "2024-10-07T20:19:52.224Z"
   },
   {
    "duration": 3,
    "start_time": "2024-10-07T20:19:52.230Z"
   },
   {
    "duration": 3,
    "start_time": "2024-10-07T20:19:52.235Z"
   },
   {
    "duration": 4,
    "start_time": "2024-10-07T20:19:52.240Z"
   },
   {
    "duration": 3,
    "start_time": "2024-10-07T20:19:52.245Z"
   },
   {
    "duration": 4,
    "start_time": "2024-10-07T20:19:52.250Z"
   },
   {
    "duration": 31,
    "start_time": "2024-10-07T20:19:52.255Z"
   },
   {
    "duration": 2,
    "start_time": "2024-10-07T20:19:52.288Z"
   },
   {
    "duration": 5,
    "start_time": "2024-10-07T20:19:52.292Z"
   },
   {
    "duration": 234,
    "start_time": "2024-10-07T20:19:52.298Z"
   },
   {
    "duration": 4,
    "start_time": "2024-10-07T20:20:18.035Z"
   },
   {
    "duration": 8,
    "start_time": "2024-10-07T20:20:26.964Z"
   },
   {
    "duration": 848,
    "start_time": "2024-10-07T20:20:33.634Z"
   },
   {
    "duration": 6,
    "start_time": "2024-10-07T20:20:34.484Z"
   },
   {
    "duration": 8,
    "start_time": "2024-10-07T20:20:34.491Z"
   },
   {
    "duration": 5,
    "start_time": "2024-10-07T20:20:34.501Z"
   },
   {
    "duration": 6,
    "start_time": "2024-10-07T20:20:34.509Z"
   },
   {
    "duration": 9,
    "start_time": "2024-10-07T20:20:34.518Z"
   },
   {
    "duration": 9,
    "start_time": "2024-10-07T20:20:34.529Z"
   },
   {
    "duration": 8,
    "start_time": "2024-10-07T20:20:34.540Z"
   },
   {
    "duration": 4,
    "start_time": "2024-10-07T20:20:34.549Z"
   },
   {
    "duration": 10,
    "start_time": "2024-10-07T20:20:34.586Z"
   },
   {
    "duration": 6,
    "start_time": "2024-10-07T20:20:34.598Z"
   },
   {
    "duration": 9,
    "start_time": "2024-10-07T20:20:34.606Z"
   },
   {
    "duration": 3,
    "start_time": "2024-10-07T20:20:34.617Z"
   },
   {
    "duration": 7,
    "start_time": "2024-10-07T20:20:34.624Z"
   },
   {
    "duration": 3,
    "start_time": "2024-10-07T20:20:34.632Z"
   },
   {
    "duration": 202,
    "start_time": "2024-10-07T20:20:34.637Z"
   },
   {
    "duration": 3,
    "start_time": "2024-10-07T20:20:34.842Z"
   },
   {
    "duration": 7,
    "start_time": "2024-10-07T20:20:34.846Z"
   },
   {
    "duration": 3,
    "start_time": "2024-10-07T20:20:34.854Z"
   },
   {
    "duration": 204,
    "start_time": "2024-10-07T20:20:34.859Z"
   },
   {
    "duration": 5,
    "start_time": "2024-10-07T20:20:35.065Z"
   },
   {
    "duration": 10,
    "start_time": "2024-10-07T20:20:35.072Z"
   },
   {
    "duration": 157,
    "start_time": "2024-10-07T20:20:35.084Z"
   },
   {
    "duration": 4,
    "start_time": "2024-10-07T20:20:35.244Z"
   },
   {
    "duration": 4,
    "start_time": "2024-10-07T20:20:35.249Z"
   },
   {
    "duration": 22,
    "start_time": "2024-10-07T20:20:35.255Z"
   },
   {
    "duration": 5,
    "start_time": "2024-10-07T20:20:35.280Z"
   },
   {
    "duration": 3,
    "start_time": "2024-10-07T20:20:35.287Z"
   },
   {
    "duration": 4,
    "start_time": "2024-10-07T20:20:35.291Z"
   },
   {
    "duration": 3,
    "start_time": "2024-10-07T20:20:35.297Z"
   },
   {
    "duration": 3,
    "start_time": "2024-10-07T20:20:35.302Z"
   },
   {
    "duration": 6,
    "start_time": "2024-10-07T20:20:35.307Z"
   },
   {
    "duration": 78,
    "start_time": "2024-10-07T20:22:05.245Z"
   },
   {
    "duration": 96,
    "start_time": "2024-10-07T20:23:00.593Z"
   },
   {
    "duration": 4,
    "start_time": "2024-10-07T20:26:00.967Z"
   },
   {
    "duration": 3,
    "start_time": "2024-10-07T20:26:15.709Z"
   },
   {
    "duration": 806,
    "start_time": "2024-10-07T20:27:46.857Z"
   },
   {
    "duration": 7,
    "start_time": "2024-10-07T20:28:00.362Z"
   },
   {
    "duration": 5,
    "start_time": "2024-10-07T20:28:22.658Z"
   },
   {
    "duration": 5,
    "start_time": "2024-10-07T20:34:13.811Z"
   },
   {
    "duration": 402,
    "start_time": "2024-10-07T20:35:40.530Z"
   },
   {
    "duration": 804,
    "start_time": "2024-10-07T20:37:09.567Z"
   },
   {
    "duration": 6,
    "start_time": "2024-10-07T20:37:10.374Z"
   },
   {
    "duration": 13,
    "start_time": "2024-10-07T20:37:10.381Z"
   },
   {
    "duration": 5,
    "start_time": "2024-10-07T20:37:10.395Z"
   },
   {
    "duration": 5,
    "start_time": "2024-10-07T20:37:10.402Z"
   },
   {
    "duration": 8,
    "start_time": "2024-10-07T20:37:10.409Z"
   },
   {
    "duration": 8,
    "start_time": "2024-10-07T20:37:10.419Z"
   },
   {
    "duration": 9,
    "start_time": "2024-10-07T20:37:10.429Z"
   },
   {
    "duration": 3,
    "start_time": "2024-10-07T20:37:10.440Z"
   },
   {
    "duration": 45,
    "start_time": "2024-10-07T20:37:10.444Z"
   },
   {
    "duration": 6,
    "start_time": "2024-10-07T20:37:10.491Z"
   },
   {
    "duration": 9,
    "start_time": "2024-10-07T20:37:10.499Z"
   },
   {
    "duration": 3,
    "start_time": "2024-10-07T20:37:10.509Z"
   },
   {
    "duration": 5,
    "start_time": "2024-10-07T20:37:10.516Z"
   },
   {
    "duration": 2,
    "start_time": "2024-10-07T20:37:10.523Z"
   },
   {
    "duration": 197,
    "start_time": "2024-10-07T20:37:10.527Z"
   },
   {
    "duration": 6,
    "start_time": "2024-10-07T20:37:10.726Z"
   },
   {
    "duration": 6,
    "start_time": "2024-10-07T20:37:10.734Z"
   },
   {
    "duration": 3,
    "start_time": "2024-10-07T20:37:10.742Z"
   },
   {
    "duration": 212,
    "start_time": "2024-10-07T20:37:10.747Z"
   },
   {
    "duration": 8,
    "start_time": "2024-10-07T20:37:10.961Z"
   },
   {
    "duration": 8,
    "start_time": "2024-10-07T20:37:10.971Z"
   },
   {
    "duration": 194,
    "start_time": "2024-10-07T20:37:10.981Z"
   },
   {
    "duration": 3,
    "start_time": "2024-10-07T20:37:11.177Z"
   },
   {
    "duration": 4,
    "start_time": "2024-10-07T20:37:11.187Z"
   },
   {
    "duration": 4,
    "start_time": "2024-10-07T20:37:11.193Z"
   },
   {
    "duration": 4,
    "start_time": "2024-10-07T20:37:11.200Z"
   },
   {
    "duration": 3,
    "start_time": "2024-10-07T20:37:11.205Z"
   },
   {
    "duration": 5,
    "start_time": "2024-10-07T20:37:11.210Z"
   },
   {
    "duration": 2,
    "start_time": "2024-10-07T20:37:11.217Z"
   },
   {
    "duration": 2,
    "start_time": "2024-10-07T20:37:11.221Z"
   },
   {
    "duration": 6,
    "start_time": "2024-10-07T20:37:11.225Z"
   },
   {
    "duration": 121,
    "start_time": "2024-10-07T20:37:11.233Z"
   },
   {
    "duration": 129,
    "start_time": "2024-10-07T20:37:11.356Z"
   },
   {
    "duration": 3,
    "start_time": "2024-10-07T20:37:11.487Z"
   },
   {
    "duration": 2,
    "start_time": "2024-10-07T20:37:11.493Z"
   },
   {
    "duration": 4,
    "start_time": "2024-10-07T20:37:11.497Z"
   },
   {
    "duration": 4,
    "start_time": "2024-10-07T20:37:11.503Z"
   },
   {
    "duration": 3,
    "start_time": "2024-10-07T20:37:11.508Z"
   },
   {
    "duration": 2,
    "start_time": "2024-10-07T20:38:01.186Z"
   },
   {
    "duration": 3,
    "start_time": "2024-10-07T20:39:49.569Z"
   },
   {
    "duration": 3,
    "start_time": "2024-10-07T20:49:23.851Z"
   },
   {
    "duration": 806,
    "start_time": "2024-10-07T20:52:10.173Z"
   },
   {
    "duration": 9,
    "start_time": "2024-10-07T20:52:10.981Z"
   },
   {
    "duration": 9,
    "start_time": "2024-10-07T20:52:10.991Z"
   },
   {
    "duration": 4,
    "start_time": "2024-10-07T20:52:11.002Z"
   },
   {
    "duration": 5,
    "start_time": "2024-10-07T20:52:11.008Z"
   },
   {
    "duration": 8,
    "start_time": "2024-10-07T20:52:11.015Z"
   },
   {
    "duration": 9,
    "start_time": "2024-10-07T20:52:11.025Z"
   },
   {
    "duration": 8,
    "start_time": "2024-10-07T20:52:11.035Z"
   },
   {
    "duration": 4,
    "start_time": "2024-10-07T20:52:11.044Z"
   },
   {
    "duration": 41,
    "start_time": "2024-10-07T20:52:11.052Z"
   },
   {
    "duration": 5,
    "start_time": "2024-10-07T20:52:11.095Z"
   },
   {
    "duration": 8,
    "start_time": "2024-10-07T20:52:11.102Z"
   },
   {
    "duration": 3,
    "start_time": "2024-10-07T20:52:11.113Z"
   },
   {
    "duration": 6,
    "start_time": "2024-10-07T20:52:11.118Z"
   },
   {
    "duration": 3,
    "start_time": "2024-10-07T20:52:11.126Z"
   },
   {
    "duration": 197,
    "start_time": "2024-10-07T20:52:11.131Z"
   },
   {
    "duration": 3,
    "start_time": "2024-10-07T20:52:11.330Z"
   },
   {
    "duration": 5,
    "start_time": "2024-10-07T20:52:11.335Z"
   },
   {
    "duration": 3,
    "start_time": "2024-10-07T20:52:11.342Z"
   },
   {
    "duration": 205,
    "start_time": "2024-10-07T20:52:11.346Z"
   },
   {
    "duration": 6,
    "start_time": "2024-10-07T20:52:11.552Z"
   },
   {
    "duration": 9,
    "start_time": "2024-10-07T20:52:11.559Z"
   },
   {
    "duration": 154,
    "start_time": "2024-10-07T20:52:11.571Z"
   },
   {
    "duration": 3,
    "start_time": "2024-10-07T20:52:11.727Z"
   },
   {
    "duration": 4,
    "start_time": "2024-10-07T20:52:11.732Z"
   },
   {
    "duration": 3,
    "start_time": "2024-10-07T20:52:11.738Z"
   },
   {
    "duration": 3,
    "start_time": "2024-10-07T20:52:11.743Z"
   },
   {
    "duration": 2,
    "start_time": "2024-10-07T20:52:11.751Z"
   },
   {
    "duration": 33,
    "start_time": "2024-10-07T20:52:11.755Z"
   },
   {
    "duration": 3,
    "start_time": "2024-10-07T20:52:11.790Z"
   },
   {
    "duration": 3,
    "start_time": "2024-10-07T20:52:11.794Z"
   },
   {
    "duration": 6,
    "start_time": "2024-10-07T20:52:11.798Z"
   },
   {
    "duration": 95,
    "start_time": "2024-10-07T20:52:11.806Z"
   },
   {
    "duration": 105,
    "start_time": "2024-10-07T20:52:11.903Z"
   },
   {
    "duration": 2,
    "start_time": "2024-10-07T20:52:12.010Z"
   },
   {
    "duration": 2,
    "start_time": "2024-10-07T20:52:12.014Z"
   },
   {
    "duration": 5,
    "start_time": "2024-10-07T20:52:12.018Z"
   },
   {
    "duration": 3,
    "start_time": "2024-10-07T20:52:12.025Z"
   },
   {
    "duration": 4,
    "start_time": "2024-10-07T20:52:12.029Z"
   },
   {
    "duration": 3,
    "start_time": "2024-10-07T20:52:12.034Z"
   },
   {
    "duration": 3,
    "start_time": "2024-10-07T20:52:12.040Z"
   },
   {
    "duration": 42,
    "start_time": "2024-10-07T20:52:12.045Z"
   },
   {
    "duration": 2,
    "start_time": "2024-10-07T20:52:12.089Z"
   },
   {
    "duration": 156,
    "start_time": "2024-10-08T03:38:43.649Z"
   },
   {
    "duration": 2578,
    "start_time": "2024-10-08T03:38:48.543Z"
   },
   {
    "duration": 9,
    "start_time": "2024-10-08T03:38:51.123Z"
   },
   {
    "duration": 7,
    "start_time": "2024-10-08T03:38:51.133Z"
   },
   {
    "duration": 9,
    "start_time": "2024-10-08T03:38:51.142Z"
   },
   {
    "duration": 5,
    "start_time": "2024-10-08T03:38:51.153Z"
   },
   {
    "duration": 8,
    "start_time": "2024-10-08T03:38:51.160Z"
   },
   {
    "duration": 9,
    "start_time": "2024-10-08T03:38:51.170Z"
   },
   {
    "duration": 31,
    "start_time": "2024-10-08T03:38:51.181Z"
   },
   {
    "duration": 3,
    "start_time": "2024-10-08T03:38:51.214Z"
   },
   {
    "duration": 8,
    "start_time": "2024-10-08T03:38:51.218Z"
   },
   {
    "duration": 5,
    "start_time": "2024-10-08T03:38:51.228Z"
   },
   {
    "duration": 8,
    "start_time": "2024-10-08T03:38:51.234Z"
   },
   {
    "duration": 3,
    "start_time": "2024-10-08T03:38:51.243Z"
   },
   {
    "duration": 5,
    "start_time": "2024-10-08T03:38:51.251Z"
   },
   {
    "duration": 3,
    "start_time": "2024-10-08T03:38:51.258Z"
   },
   {
    "duration": 199,
    "start_time": "2024-10-08T03:38:51.262Z"
   },
   {
    "duration": 3,
    "start_time": "2024-10-08T03:38:51.463Z"
   },
   {
    "duration": 6,
    "start_time": "2024-10-08T03:38:51.468Z"
   },
   {
    "duration": 3,
    "start_time": "2024-10-08T03:38:51.476Z"
   },
   {
    "duration": 203,
    "start_time": "2024-10-08T03:38:51.481Z"
   },
   {
    "duration": 8,
    "start_time": "2024-10-08T03:38:51.687Z"
   },
   {
    "duration": 8,
    "start_time": "2024-10-08T03:38:51.696Z"
   },
   {
    "duration": 100,
    "start_time": "2024-10-08T03:38:51.706Z"
   },
   {
    "duration": 4,
    "start_time": "2024-10-08T03:38:51.811Z"
   },
   {
    "duration": 5,
    "start_time": "2024-10-08T03:38:51.816Z"
   },
   {
    "duration": 4,
    "start_time": "2024-10-08T03:38:51.823Z"
   },
   {
    "duration": 4,
    "start_time": "2024-10-08T03:38:51.828Z"
   },
   {
    "duration": 2,
    "start_time": "2024-10-08T03:38:51.834Z"
   },
   {
    "duration": 4,
    "start_time": "2024-10-08T03:38:51.838Z"
   },
   {
    "duration": 2,
    "start_time": "2024-10-08T03:38:51.844Z"
   },
   {
    "duration": 2,
    "start_time": "2024-10-08T03:38:51.848Z"
   },
   {
    "duration": 6,
    "start_time": "2024-10-08T03:38:51.852Z"
   },
   {
    "duration": 124,
    "start_time": "2024-10-08T03:38:51.860Z"
   },
   {
    "duration": 106,
    "start_time": "2024-10-08T03:38:51.986Z"
   },
   {
    "duration": 3,
    "start_time": "2024-10-08T03:38:52.094Z"
   },
   {
    "duration": 3,
    "start_time": "2024-10-08T03:38:52.098Z"
   },
   {
    "duration": 4,
    "start_time": "2024-10-08T03:38:52.113Z"
   },
   {
    "duration": 4,
    "start_time": "2024-10-08T03:38:52.119Z"
   },
   {
    "duration": 3,
    "start_time": "2024-10-08T03:38:52.125Z"
   },
   {
    "duration": 3,
    "start_time": "2024-10-08T03:38:52.130Z"
   },
   {
    "duration": 2,
    "start_time": "2024-10-08T03:38:52.137Z"
   },
   {
    "duration": 3,
    "start_time": "2024-10-08T03:38:52.141Z"
   },
   {
    "duration": 3,
    "start_time": "2024-10-08T03:38:52.146Z"
   },
   {
    "duration": 9,
    "start_time": "2024-10-08T03:39:16.895Z"
   },
   {
    "duration": 798,
    "start_time": "2024-10-08T03:45:57.997Z"
   },
   {
    "duration": 6,
    "start_time": "2024-10-08T03:45:58.797Z"
   },
   {
    "duration": 13,
    "start_time": "2024-10-08T03:45:58.805Z"
   },
   {
    "duration": 5,
    "start_time": "2024-10-08T03:45:58.820Z"
   },
   {
    "duration": 7,
    "start_time": "2024-10-08T03:45:58.827Z"
   },
   {
    "duration": 13,
    "start_time": "2024-10-08T03:45:58.836Z"
   },
   {
    "duration": 13,
    "start_time": "2024-10-08T03:45:58.850Z"
   },
   {
    "duration": 9,
    "start_time": "2024-10-08T03:45:58.864Z"
   },
   {
    "duration": 3,
    "start_time": "2024-10-08T03:45:58.875Z"
   },
   {
    "duration": 32,
    "start_time": "2024-10-08T03:45:58.880Z"
   },
   {
    "duration": 6,
    "start_time": "2024-10-08T03:45:58.914Z"
   },
   {
    "duration": 8,
    "start_time": "2024-10-08T03:45:58.921Z"
   },
   {
    "duration": 3,
    "start_time": "2024-10-08T03:45:58.931Z"
   },
   {
    "duration": 4,
    "start_time": "2024-10-08T03:45:58.939Z"
   },
   {
    "duration": 4,
    "start_time": "2024-10-08T03:45:58.945Z"
   },
   {
    "duration": 178,
    "start_time": "2024-10-08T03:45:58.950Z"
   },
   {
    "duration": 5,
    "start_time": "2024-10-08T03:45:59.130Z"
   },
   {
    "duration": 6,
    "start_time": "2024-10-08T03:45:59.136Z"
   },
   {
    "duration": 4,
    "start_time": "2024-10-08T03:45:59.144Z"
   },
   {
    "duration": 211,
    "start_time": "2024-10-08T03:45:59.149Z"
   },
   {
    "duration": 6,
    "start_time": "2024-10-08T03:45:59.362Z"
   },
   {
    "duration": 8,
    "start_time": "2024-10-08T03:45:59.369Z"
   },
   {
    "duration": 147,
    "start_time": "2024-10-08T03:45:59.379Z"
   },
   {
    "duration": 3,
    "start_time": "2024-10-08T03:45:59.528Z"
   },
   {
    "duration": 4,
    "start_time": "2024-10-08T03:45:59.533Z"
   },
   {
    "duration": 4,
    "start_time": "2024-10-08T03:45:59.538Z"
   },
   {
    "duration": 4,
    "start_time": "2024-10-08T03:45:59.543Z"
   },
   {
    "duration": 3,
    "start_time": "2024-10-08T03:45:59.548Z"
   },
   {
    "duration": 3,
    "start_time": "2024-10-08T03:45:59.553Z"
   },
   {
    "duration": 2,
    "start_time": "2024-10-08T03:45:59.558Z"
   },
   {
    "duration": 3,
    "start_time": "2024-10-08T03:45:59.562Z"
   },
   {
    "duration": 47,
    "start_time": "2024-10-08T03:45:59.566Z"
   },
   {
    "duration": 71,
    "start_time": "2024-10-08T03:45:59.614Z"
   },
   {
    "duration": 111,
    "start_time": "2024-10-08T03:45:59.687Z"
   },
   {
    "duration": 2,
    "start_time": "2024-10-08T03:45:59.800Z"
   },
   {
    "duration": 9,
    "start_time": "2024-10-08T03:45:59.804Z"
   },
   {
    "duration": 4,
    "start_time": "2024-10-08T03:45:59.815Z"
   },
   {
    "duration": 3,
    "start_time": "2024-10-08T03:45:59.821Z"
   },
   {
    "duration": 3,
    "start_time": "2024-10-08T03:45:59.826Z"
   },
   {
    "duration": 3,
    "start_time": "2024-10-08T03:45:59.831Z"
   },
   {
    "duration": 3,
    "start_time": "2024-10-08T03:45:59.838Z"
   },
   {
    "duration": 3,
    "start_time": "2024-10-08T03:45:59.843Z"
   },
   {
    "duration": 4,
    "start_time": "2024-10-08T03:45:59.848Z"
   },
   {
    "duration": 2641,
    "start_time": "2024-10-09T02:32:24.579Z"
   },
   {
    "duration": 15,
    "start_time": "2024-10-09T02:32:27.222Z"
   },
   {
    "duration": 20,
    "start_time": "2024-10-09T02:32:27.239Z"
   },
   {
    "duration": 7,
    "start_time": "2024-10-09T02:32:27.261Z"
   },
   {
    "duration": 9,
    "start_time": "2024-10-09T02:32:27.270Z"
   },
   {
    "duration": 10,
    "start_time": "2024-10-09T02:32:27.281Z"
   },
   {
    "duration": 9,
    "start_time": "2024-10-09T02:32:27.292Z"
   },
   {
    "duration": 3,
    "start_time": "2024-10-09T02:32:27.303Z"
   },
   {
    "duration": 8,
    "start_time": "2024-10-09T02:32:27.308Z"
   },
   {
    "duration": 7,
    "start_time": "2024-10-09T02:32:27.344Z"
   },
   {
    "duration": 11,
    "start_time": "2024-10-09T02:32:27.353Z"
   },
   {
    "duration": 4,
    "start_time": "2024-10-09T02:32:27.366Z"
   },
   {
    "duration": 5,
    "start_time": "2024-10-09T02:32:27.373Z"
   },
   {
    "duration": 3,
    "start_time": "2024-10-09T02:32:27.383Z"
   },
   {
    "duration": 186,
    "start_time": "2024-10-09T02:32:27.388Z"
   },
   {
    "duration": 6,
    "start_time": "2024-10-09T02:32:27.576Z"
   },
   {
    "duration": 7,
    "start_time": "2024-10-09T02:32:27.583Z"
   },
   {
    "duration": 3,
    "start_time": "2024-10-09T02:32:27.592Z"
   },
   {
    "duration": 206,
    "start_time": "2024-10-09T02:32:27.597Z"
   },
   {
    "duration": 9,
    "start_time": "2024-10-09T02:32:27.805Z"
   },
   {
    "duration": 9,
    "start_time": "2024-10-09T02:32:27.816Z"
   },
   {
    "duration": 123,
    "start_time": "2024-10-09T02:32:27.826Z"
   },
   {
    "duration": 5,
    "start_time": "2024-10-09T02:32:27.951Z"
   },
   {
    "duration": 4,
    "start_time": "2024-10-09T02:32:27.958Z"
   },
   {
    "duration": 4,
    "start_time": "2024-10-09T02:32:27.964Z"
   },
   {
    "duration": 4,
    "start_time": "2024-10-09T02:32:27.970Z"
   },
   {
    "duration": 2,
    "start_time": "2024-10-09T02:32:27.976Z"
   },
   {
    "duration": 4,
    "start_time": "2024-10-09T02:32:27.980Z"
   },
   {
    "duration": 3,
    "start_time": "2024-10-09T02:32:27.986Z"
   },
   {
    "duration": 3,
    "start_time": "2024-10-09T02:32:27.990Z"
   },
   {
    "duration": 52,
    "start_time": "2024-10-09T02:32:27.994Z"
   },
   {
    "duration": 101,
    "start_time": "2024-10-09T02:32:28.048Z"
   },
   {
    "duration": 122,
    "start_time": "2024-10-09T02:32:28.153Z"
   },
   {
    "duration": 3,
    "start_time": "2024-10-09T02:32:28.276Z"
   },
   {
    "duration": 2,
    "start_time": "2024-10-09T02:32:28.281Z"
   },
   {
    "duration": 4,
    "start_time": "2024-10-09T02:32:28.285Z"
   },
   {
    "duration": 6,
    "start_time": "2024-10-09T02:32:28.291Z"
   },
   {
    "duration": 3,
    "start_time": "2024-10-09T02:32:28.298Z"
   },
   {
    "duration": 3,
    "start_time": "2024-10-09T02:32:28.303Z"
   },
   {
    "duration": 2,
    "start_time": "2024-10-09T02:32:28.308Z"
   },
   {
    "duration": 6,
    "start_time": "2024-10-09T02:32:28.344Z"
   },
   {
    "duration": 3,
    "start_time": "2024-10-09T02:32:28.351Z"
   },
   {
    "duration": 857,
    "start_time": "2024-10-09T02:35:51.746Z"
   },
   {
    "duration": 15,
    "start_time": "2024-10-09T02:35:52.605Z"
   },
   {
    "duration": 7,
    "start_time": "2024-10-09T02:35:52.621Z"
   },
   {
    "duration": 12,
    "start_time": "2024-10-09T02:35:52.630Z"
   },
   {
    "duration": 9,
    "start_time": "2024-10-09T02:35:52.644Z"
   },
   {
    "duration": 10,
    "start_time": "2024-10-09T02:35:52.655Z"
   },
   {
    "duration": 10,
    "start_time": "2024-10-09T02:35:52.666Z"
   },
   {
    "duration": 2,
    "start_time": "2024-10-09T02:35:52.680Z"
   },
   {
    "duration": 8,
    "start_time": "2024-10-09T02:35:52.684Z"
   },
   {
    "duration": 4,
    "start_time": "2024-10-09T02:35:52.696Z"
   },
   {
    "duration": 41,
    "start_time": "2024-10-09T02:35:52.702Z"
   },
   {
    "duration": 3,
    "start_time": "2024-10-09T02:35:52.745Z"
   },
   {
    "duration": 7,
    "start_time": "2024-10-09T02:35:52.749Z"
   },
   {
    "duration": 6,
    "start_time": "2024-10-09T02:35:52.757Z"
   },
   {
    "duration": 186,
    "start_time": "2024-10-09T02:35:52.764Z"
   },
   {
    "duration": 9,
    "start_time": "2024-10-09T02:35:52.952Z"
   },
   {
    "duration": 10,
    "start_time": "2024-10-09T02:35:52.971Z"
   },
   {
    "duration": 4,
    "start_time": "2024-10-09T02:35:52.983Z"
   },
   {
    "duration": 190,
    "start_time": "2024-10-09T02:35:52.989Z"
   },
   {
    "duration": 14,
    "start_time": "2024-10-09T02:35:53.182Z"
   },
   {
    "duration": 172,
    "start_time": "2024-10-09T02:35:53.200Z"
   },
   {
    "duration": 4,
    "start_time": "2024-10-09T02:35:53.374Z"
   },
   {
    "duration": 4,
    "start_time": "2024-10-09T02:35:53.379Z"
   },
   {
    "duration": 3,
    "start_time": "2024-10-09T02:35:53.385Z"
   },
   {
    "duration": 5,
    "start_time": "2024-10-09T02:35:53.390Z"
   },
   {
    "duration": 3,
    "start_time": "2024-10-09T02:35:53.396Z"
   },
   {
    "duration": 3,
    "start_time": "2024-10-09T02:35:53.401Z"
   },
   {
    "duration": 3,
    "start_time": "2024-10-09T02:35:53.409Z"
   },
   {
    "duration": 2,
    "start_time": "2024-10-09T02:35:53.442Z"
   },
   {
    "duration": 7,
    "start_time": "2024-10-09T02:35:53.446Z"
   },
   {
    "duration": 74,
    "start_time": "2024-10-09T02:35:53.454Z"
   },
   {
    "duration": 116,
    "start_time": "2024-10-09T02:35:53.543Z"
   },
   {
    "duration": 3,
    "start_time": "2024-10-09T02:35:53.661Z"
   },
   {
    "duration": 2,
    "start_time": "2024-10-09T02:35:53.666Z"
   },
   {
    "duration": 4,
    "start_time": "2024-10-09T02:35:53.670Z"
   },
   {
    "duration": 4,
    "start_time": "2024-10-09T02:35:53.675Z"
   },
   {
    "duration": 3,
    "start_time": "2024-10-09T02:35:53.681Z"
   },
   {
    "duration": 3,
    "start_time": "2024-10-09T02:35:53.686Z"
   },
   {
    "duration": 3,
    "start_time": "2024-10-09T02:35:53.691Z"
   },
   {
    "duration": 3,
    "start_time": "2024-10-09T02:35:53.696Z"
   },
   {
    "duration": 41,
    "start_time": "2024-10-09T02:35:53.701Z"
   },
   {
    "duration": 5,
    "start_time": "2024-10-09T02:58:59.864Z"
   },
   {
    "duration": 5,
    "start_time": "2024-10-09T03:16:02.843Z"
   },
   {
    "duration": 565,
    "start_time": "2024-10-09T03:26:36.402Z"
   },
   {
    "duration": 834,
    "start_time": "2024-10-09T03:26:45.463Z"
   },
   {
    "duration": 14,
    "start_time": "2024-10-09T03:26:46.299Z"
   },
   {
    "duration": 8,
    "start_time": "2024-10-09T03:26:46.315Z"
   },
   {
    "duration": 5,
    "start_time": "2024-10-09T03:26:46.325Z"
   },
   {
    "duration": 8,
    "start_time": "2024-10-09T03:26:46.344Z"
   },
   {
    "duration": 9,
    "start_time": "2024-10-09T03:26:46.353Z"
   },
   {
    "duration": 8,
    "start_time": "2024-10-09T03:26:46.363Z"
   },
   {
    "duration": 2,
    "start_time": "2024-10-09T03:26:46.372Z"
   },
   {
    "duration": 7,
    "start_time": "2024-10-09T03:26:46.376Z"
   },
   {
    "duration": 5,
    "start_time": "2024-10-09T03:26:46.385Z"
   },
   {
    "duration": 8,
    "start_time": "2024-10-09T03:26:46.391Z"
   },
   {
    "duration": 44,
    "start_time": "2024-10-09T03:26:46.401Z"
   },
   {
    "duration": 3,
    "start_time": "2024-10-09T03:26:46.447Z"
   },
   {
    "duration": 5,
    "start_time": "2024-10-09T03:26:46.455Z"
   },
   {
    "duration": 3,
    "start_time": "2024-10-09T03:26:46.462Z"
   },
   {
    "duration": 185,
    "start_time": "2024-10-09T03:26:46.467Z"
   },
   {
    "duration": 5,
    "start_time": "2024-10-09T03:26:46.653Z"
   },
   {
    "duration": 6,
    "start_time": "2024-10-09T03:26:46.660Z"
   },
   {
    "duration": 3,
    "start_time": "2024-10-09T03:26:46.667Z"
   },
   {
    "duration": 195,
    "start_time": "2024-10-09T03:26:46.672Z"
   },
   {
    "duration": 9,
    "start_time": "2024-10-09T03:26:46.869Z"
   },
   {
    "duration": 148,
    "start_time": "2024-10-09T03:26:46.880Z"
   },
   {
    "duration": 3,
    "start_time": "2024-10-09T03:26:47.030Z"
   },
   {
    "duration": 5,
    "start_time": "2024-10-09T03:26:47.042Z"
   },
   {
    "duration": 3,
    "start_time": "2024-10-09T03:26:47.049Z"
   },
   {
    "duration": 4,
    "start_time": "2024-10-09T03:26:47.054Z"
   },
   {
    "duration": 2,
    "start_time": "2024-10-09T03:26:47.060Z"
   },
   {
    "duration": 4,
    "start_time": "2024-10-09T03:26:47.063Z"
   },
   {
    "duration": 3,
    "start_time": "2024-10-09T03:26:47.068Z"
   },
   {
    "duration": 3,
    "start_time": "2024-10-09T03:26:47.072Z"
   },
   {
    "duration": 6,
    "start_time": "2024-10-09T03:26:47.077Z"
   },
   {
    "duration": 118,
    "start_time": "2024-10-09T03:26:47.085Z"
   },
   {
    "duration": 103,
    "start_time": "2024-10-09T03:26:47.205Z"
   },
   {
    "duration": 8,
    "start_time": "2024-10-09T03:26:47.310Z"
   },
   {
    "duration": 3,
    "start_time": "2024-10-09T03:26:47.319Z"
   },
   {
    "duration": 4,
    "start_time": "2024-10-09T03:26:47.324Z"
   },
   {
    "duration": 15,
    "start_time": "2024-10-09T03:26:47.330Z"
   },
   {
    "duration": 3,
    "start_time": "2024-10-09T03:26:47.347Z"
   },
   {
    "duration": 3,
    "start_time": "2024-10-09T03:26:47.352Z"
   },
   {
    "duration": 4,
    "start_time": "2024-10-09T03:26:47.356Z"
   },
   {
    "duration": 3,
    "start_time": "2024-10-09T03:26:47.364Z"
   },
   {
    "duration": 3,
    "start_time": "2024-10-09T03:26:47.369Z"
   },
   {
    "duration": 574,
    "start_time": "2024-10-09T03:26:47.374Z"
   },
   {
    "duration": 0,
    "start_time": "2024-10-09T03:26:47.950Z"
   },
   {
    "duration": 13,
    "start_time": "2024-10-09T03:28:43.125Z"
   },
   {
    "duration": 6,
    "start_time": "2024-10-09T03:28:49.284Z"
   },
   {
    "duration": 5,
    "start_time": "2024-10-09T03:36:23.097Z"
   }
  ],
  "kernelspec": {
   "display_name": "Python 3 (ipykernel)",
   "language": "python",
   "name": "python3"
  },
  "language_info": {
   "codemirror_mode": {
    "name": "ipython",
    "version": 3
   },
   "file_extension": ".py",
   "mimetype": "text/x-python",
   "name": "python",
   "nbconvert_exporter": "python",
   "pygments_lexer": "ipython3",
   "version": "3.9.19"
  },
  "toc": {
   "base_numbering": 1,
   "nav_menu": {},
   "number_sections": true,
   "sideBar": true,
   "skip_h1_title": true,
   "title_cell": "Table of Contents",
   "title_sidebar": "Contents",
   "toc_cell": false,
   "toc_position": {},
   "toc_section_display": true,
   "toc_window_display": false
  }
 },
 "nbformat": 4,
 "nbformat_minor": 2
}
