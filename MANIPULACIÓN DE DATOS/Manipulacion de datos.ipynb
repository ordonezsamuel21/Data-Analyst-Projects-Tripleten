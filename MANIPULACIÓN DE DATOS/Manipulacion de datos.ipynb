{
 "cells": [
  {
   "cell_type": "markdown",
   "id": "3Xg_RQfnafXz",
   "metadata": {
    "id": "3Xg_RQfnafXz"
   },
   "source": [
    "# ¡Llena ese carrito!"
   ]
  },
  {
   "cell_type": "markdown",
   "id": "mhIvmmkW414q",
   "metadata": {
    "id": "mhIvmmkW414q"
   },
   "source": [
    "# Introducción\n",
    "\n",
    "Instacart es una plataforma de entregas de comestibles donde la clientela puede registrar un pedido y hacer que se lo entreguen, similar a Uber Eats y Door Dash.\n",
    "El conjunto de datos que te hemos proporcionado tiene modificaciones del original. Redujimos el tamaño del conjunto para que tus cálculos se hicieran más rápido e introdujimos valores ausentes y duplicados. Tuvimos cuidado de conservar las distribuciones de los datos originales cuando hicimos los cambios.\n",
    "\n",
    "Debes completar tres pasos. Para cada uno de ellos, escribe una breve introducción que refleje con claridad cómo pretendes resolver cada paso, y escribe párrafos explicatorios que justifiquen tus decisiones al tiempo que avanzas en tu solución.  También escribe una conclusión que resuma tus hallazgos y elecciones.\n"
   ]
  },
  {
   "cell_type": "markdown",
   "id": "3MbyzpOQZ5Or",
   "metadata": {
    "id": "3MbyzpOQZ5Or"
   },
   "source": [
    "## Diccionario de datos\n",
    "\n",
    "Hay cinco tablas en el conjunto de datos, y tendrás que usarlas todas para hacer el preprocesamiento de datos y el análisis exploratorio de datos. A continuación se muestra un diccionario de datos que enumera las columnas de cada tabla y describe los datos que contienen.\n",
    "\n",
    "- `instacart_orders.csv`: cada fila corresponde a un pedido en la aplicación Instacart.\n",
    "    - `'order_id'`: número de ID que identifica de manera única cada pedido.\n",
    "    - `'user_id'`: número de ID que identifica de manera única la cuenta de cada cliente.\n",
    "    - `'order_number'`: el número de veces que este cliente ha hecho un pedido.\n",
    "    - `'order_dow'`: día de la semana en que se hizo el pedido (0 si es domingo).\n",
    "    - `'order_hour_of_day'`: hora del día en que se hizo el pedido.\n",
    "    - `'days_since_prior_order'`: número de días transcurridos desde que este cliente hizo su pedido anterior.\n",
    "- `products.csv`: cada fila corresponde a un producto único que pueden comprar los clientes.\n",
    "    - `'product_id'`: número ID que identifica de manera única cada producto.\n",
    "    - `'product_name'`: nombre del producto.\n",
    "    - `'aisle_id'`: número ID que identifica de manera única cada categoría de pasillo de víveres.\n",
    "    - `'department_id'`: número ID que identifica de manera única cada departamento de víveres.\n",
    "- `order_products.csv`: cada fila corresponde a un artículo pedido en un pedido.\n",
    "    - `'order_id'`: número de ID que identifica de manera única cada pedido.\n",
    "    - `'product_id'`: número ID que identifica de manera única cada producto.\n",
    "    - `'add_to_cart_order'`: el orden secuencial en el que se añadió cada artículo en el carrito.\n",
    "    - `'reordered'`: 0 si el cliente nunca ha pedido este producto antes, 1 si lo ha pedido.\n",
    "- `aisles.csv`\n",
    "    - `'aisle_id'`: número ID que identifica de manera única cada categoría de pasillo de víveres.\n",
    "    - `'aisle'`: nombre del pasillo.\n",
    "- `departments.csv`\n",
    "    - `'department_id'`: número ID que identifica de manera única cada departamento de víveres.\n",
    "    - `'department'`: nombre del departamento."
   ]
  },
  {
   "cell_type": "markdown",
   "id": "n3Ha_cNSZ8lK",
   "metadata": {
    "id": "n3Ha_cNSZ8lK"
   },
   "source": [
    "# Paso 1. Descripción de los datos\n",
    "\n",
    "Lee los archivos de datos (`/datasets/instacart_orders.csv`, `/datasets/products.csv`, `/datasets/aisles.csv`, `/datasets/departments.csv` y `/datasets/order_products.csv`) con `pd.read_csv()` usando los parámetros adecuados para leer los datos correctamente. Verifica la información para cada DataFrame creado.\n"
   ]
  },
  {
   "cell_type": "markdown",
   "id": "OmlQPLlyaAfR",
   "metadata": {
    "id": "OmlQPLlyaAfR"
   },
   "source": [
    "## Plan de solución\n",
    "\n",
    "Escribe aquí tu plan de solución para el Paso 1. Descripción de los datos.\n",
    "\n",
    "Primero debemos importar pandas para poder leer cada archivo csv. Luego crearemos variables para cada lectura de cada archivo, al leer los archivos, hay que verificar si es necesario el armento sep= para determinar el delimitador entre los valores de cada columna. Posteriormente, se usará info() para conocer información general de cada DataFrame. Finalmente, se mostrarán las primeras filas de cada DataFrame para verificar que se leyeron correctamente los archivos."
   ]
  },
  {
   "cell_type": "code",
   "execution_count": 1,
   "id": "fbf1adab",
   "metadata": {
    "id": "fbf1adab"
   },
   "outputs": [],
   "source": [
    "# importar librerías\n",
    "import pandas as pd"
   ]
  },
  {
   "cell_type": "code",
   "execution_count": 2,
   "id": "ad36396d",
   "metadata": {
    "id": "ad36396d"
   },
   "outputs": [],
   "source": [
    "# leer conjuntos de datos en los DataFrames\n",
    "instacart_orders= pd.read_csv('/datasets/instacart_orders.csv',sep=\";\")\n",
    "products= pd.read_csv('/datasets/products.csv',sep=\";\")\n",
    "order_products= pd.read_csv('/datasets/order_products.csv',sep=\";\")\n",
    "aisles= pd.read_csv('/datasets/aisles.csv',sep=\";\")\n",
    "departments= pd.read_csv('/datasets/departments.csv',sep=\";\")"
   ]
  },
  {
   "cell_type": "code",
   "execution_count": 3,
   "id": "ad6a1efa",
   "metadata": {
    "id": "ad6a1efa"
   },
   "outputs": [
    {
     "name": "stdout",
     "output_type": "stream",
     "text": [
      "<class 'pandas.core.frame.DataFrame'>\n",
      "RangeIndex: 478967 entries, 0 to 478966\n",
      "Data columns (total 6 columns):\n",
      " #   Column                  Non-Null Count   Dtype  \n",
      "---  ------                  --------------   -----  \n",
      " 0   order_id                478967 non-null  int64  \n",
      " 1   user_id                 478967 non-null  int64  \n",
      " 2   order_number            478967 non-null  int64  \n",
      " 3   order_dow               478967 non-null  int64  \n",
      " 4   order_hour_of_day       478967 non-null  int64  \n",
      " 5   days_since_prior_order  450148 non-null  float64\n",
      "dtypes: float64(1), int64(5)\n",
      "memory usage: 21.9 MB\n",
      "\n",
      "   order_id  user_id  order_number  order_dow  order_hour_of_day  \\\n",
      "0   1515936   183418            11          6                 13   \n",
      "1   1690866   163593             5          5                 12   \n",
      "2   1454967    39980             4          5                 19   \n",
      "3   1768857    82516            56          0                 20   \n",
      "4   3007858   196724             2          4                 12   \n",
      "\n",
      "   days_since_prior_order  \n",
      "0                    30.0  \n",
      "1                     9.0  \n",
      "2                     2.0  \n",
      "3                    10.0  \n",
      "4                    17.0  \n"
     ]
    }
   ],
   "source": [
    "# mostrar información del DataFrame\n",
    "instacart_orders.info()\n",
    "print()\n",
    "print(instacart_orders.head())"
   ]
  },
  {
   "cell_type": "code",
   "execution_count": 4,
   "id": "5130e05e",
   "metadata": {
    "id": "5130e05e"
   },
   "outputs": [
    {
     "name": "stdout",
     "output_type": "stream",
     "text": [
      "<class 'pandas.core.frame.DataFrame'>\n",
      "RangeIndex: 49694 entries, 0 to 49693\n",
      "Data columns (total 4 columns):\n",
      " #   Column         Non-Null Count  Dtype \n",
      "---  ------         --------------  ----- \n",
      " 0   product_id     49694 non-null  int64 \n",
      " 1   product_name   48436 non-null  object\n",
      " 2   aisle_id       49694 non-null  int64 \n",
      " 3   department_id  49694 non-null  int64 \n",
      "dtypes: int64(3), object(1)\n",
      "memory usage: 1.5+ MB\n",
      "\n",
      "   product_id                                       product_name  aisle_id  \\\n",
      "0           1                         Chocolate Sandwich Cookies        61   \n",
      "1           2                                   All-Seasons Salt       104   \n",
      "2           3               Robust Golden Unsweetened Oolong Tea        94   \n",
      "3           4  Smart Ones Classic Favorites Mini Rigatoni Wit...        38   \n",
      "4           5                          Green Chile Anytime Sauce         5   \n",
      "\n",
      "   department_id  \n",
      "0             19  \n",
      "1             13  \n",
      "2              7  \n",
      "3              1  \n",
      "4             13  \n"
     ]
    }
   ],
   "source": [
    "# mostrar información del DataFrame\n",
    "products.info()\n",
    "print()\n",
    "print(products.head())"
   ]
  },
  {
   "cell_type": "code",
   "execution_count": 5,
   "id": "d8370c05",
   "metadata": {
    "id": "d8370c05"
   },
   "outputs": [
    {
     "name": "stdout",
     "output_type": "stream",
     "text": [
      "<class 'pandas.core.frame.DataFrame'>\n",
      "RangeIndex: 4545007 entries, 0 to 4545006\n",
      "Data columns (total 4 columns):\n",
      " #   Column             Non-Null Count    Dtype  \n",
      "---  ------             --------------    -----  \n",
      " 0   order_id           4545007 non-null  int64  \n",
      " 1   product_id         4545007 non-null  int64  \n",
      " 2   add_to_cart_order  4544171 non-null  float64\n",
      " 3   reordered          4545007 non-null  int64  \n",
      "dtypes: float64(1), int64(3)\n",
      "memory usage: 138.7 MB\n",
      "\n",
      "   order_id  product_id  add_to_cart_order  reordered\n",
      "0   2141543       11440               17.0          0\n",
      "1    567889        1560                1.0          1\n",
      "2   2261212       26683                1.0          1\n",
      "3    491251        8670               35.0          1\n",
      "4   2571142        1940                5.0          1\n"
     ]
    }
   ],
   "source": [
    "# mostrar información del DataFrame\n",
    "order_products.info(show_counts=True)\n",
    "print()\n",
    "print(order_products.head())"
   ]
  },
  {
   "cell_type": "code",
   "execution_count": 6,
   "id": "59e2090f",
   "metadata": {
    "id": "59e2090f"
   },
   "outputs": [
    {
     "name": "stdout",
     "output_type": "stream",
     "text": [
      "<class 'pandas.core.frame.DataFrame'>\n",
      "RangeIndex: 134 entries, 0 to 133\n",
      "Data columns (total 2 columns):\n",
      " #   Column    Non-Null Count  Dtype \n",
      "---  ------    --------------  ----- \n",
      " 0   aisle_id  134 non-null    int64 \n",
      " 1   aisle     134 non-null    object\n",
      "dtypes: int64(1), object(1)\n",
      "memory usage: 2.2+ KB\n",
      "\n",
      "   aisle_id                       aisle\n",
      "0         1       prepared soups salads\n",
      "1         2           specialty cheeses\n",
      "2         3         energy granola bars\n",
      "3         4               instant foods\n",
      "4         5  marinades meat preparation\n"
     ]
    }
   ],
   "source": [
    "# mostrar información del DataFrame\n",
    "aisles.info()\n",
    "print()\n",
    "print(aisles.head())"
   ]
  },
  {
   "cell_type": "code",
   "execution_count": 7,
   "id": "6fc81694",
   "metadata": {
    "id": "6fc81694"
   },
   "outputs": [
    {
     "name": "stdout",
     "output_type": "stream",
     "text": [
      "<class 'pandas.core.frame.DataFrame'>\n",
      "RangeIndex: 21 entries, 0 to 20\n",
      "Data columns (total 2 columns):\n",
      " #   Column         Non-Null Count  Dtype \n",
      "---  ------         --------------  ----- \n",
      " 0   department_id  21 non-null     int64 \n",
      " 1   department     21 non-null     object\n",
      "dtypes: int64(1), object(1)\n",
      "memory usage: 464.0+ bytes\n",
      "\n",
      "   department_id department\n",
      "0              1     frozen\n",
      "1              2      other\n",
      "2              3     bakery\n",
      "3              4    produce\n",
      "4              5    alcohol\n"
     ]
    }
   ],
   "source": [
    "# mostrar información del DataFrame\n",
    "departments.info()\n",
    "print()\n",
    "print(departments.head())"
   ]
  },
  {
   "cell_type": "markdown",
   "id": "t75BD19oaR5f",
   "metadata": {
    "id": "t75BD19oaR5f"
   },
   "source": [
    "## Conclusiones\n",
    "\n",
    "Escribe aquí tus conclusiones intermedias sobre el Paso 1. Descripción de los datos.\n",
    "\n",
    "\n",
    "Al mostrar la información general para cada DataFrame con el método info(), sin especificar un delimitador de columnas en la lectura de cada dataframe,  se pudo observar que no estaban específicadas. Por lo tanto, se usó el parámetro sep= \";\" para especificar cada columna. El elemento separador \";\" lo proporcionó el método info() inicialmente, cuando no estaba el parámetro sep=. También se puede observar que hay datos ausentes en los DataFrames de instacart_orders, products y order_products. En este último, al tener demasiadas filas, se utilizó el parámetro show_counts=True para que mostrara los elementos no nulos, debido a que info() no los imprime por defecto cuando se tienen muchas filas. Finalmente, se mostraron las primeras filas de cada DataFrame para tener una visión de los datos."
   ]
  },
  {
   "cell_type": "markdown",
   "id": "8RJHqxVmaVsF",
   "metadata": {
    "id": "8RJHqxVmaVsF"
   },
   "source": [
    "# Paso 2. Preprocesamiento de los datos\n",
    "\n",
    "Preprocesa los datos de la siguiente manera:\n",
    "\n",
    "- Verifica y corrige los tipos de datos (por ejemplo, asegúrate de que las columnas de ID sean números enteros).\n",
    "- Identifica y completa los valores ausentes.\n",
    "- Identifica y elimina los valores duplicados.\n",
    "\n",
    "Asegúrate de explicar qué tipos de valores ausentes y duplicados encontraste, cómo los completaste o eliminaste y por qué usaste esos métodos. ¿Por qué crees que estos valores ausentes y duplicados pueden haber estado presentes en el conjunto de datos?"
   ]
  },
  {
   "cell_type": "markdown",
   "id": "p6poABZQaZYb",
   "metadata": {
    "id": "p6poABZQaZYb"
   },
   "source": [
    "## Plan de solución\n",
    "\n",
    "Escribe aquí tu plan para el Paso 2. Preprocesamiento de los datos.\n",
    "\n",
    "Para verificar y corregir los tipos de datos se debe:\n",
    "- Revisar cada DataFrame para asegurarse de que los tipos de datos de las columnas sean los adecuados.\n",
    "- Específicamente, asegurarse de que las columnas de ID sean del tipo entero para facilitar su manipulación.\n",
    "- Utilizar el método astype() para convertir las columnas al tipo correcto si es necesario.\n",
    "\n",
    "Se puede omitir este paso, poque previamente cuando llamamos a info() ya todas las columnas de ID estaban en entero (int64)\n",
    "\n",
    "Para la identificación y tratamiento de valores ausentes:\n",
    "\n",
    "- Examinar cada DataFrame para identificar columnas con valores ausentes.\n",
    "- Determinar la mejor estrategia para tratar los valores ausentes.\n",
    "- Utilizar métodos como isnull(), fillna() y dropna() para manejar los valores ausentes de manera adecuada.\n",
    "\n",
    "Para la identificar y eliminar valores duplicados:\n",
    "\n",
    "- Revisar cada DataFrame en busca de filas totalmente duplicadas o IDs duplicados.\n",
    "- Utilizar los métodos duplicated() y drop_duplicates() para eliminar los valores duplicados según sea necesario."
   ]
  },
  {
   "cell_type": "markdown",
   "id": "07357848-dc64-4156-9cc3-01ff4365226d",
   "metadata": {
    "id": "07357848-dc64-4156-9cc3-01ff4365226d"
   },
   "source": [
    "## Encuentra y elimina los valores duplicados (y describe cómo tomaste tus decisiones)."
   ]
  },
  {
   "cell_type": "markdown",
   "id": "f179f0a9",
   "metadata": {
    "id": "f179f0a9"
   },
   "source": [
    "### `orders` data frame"
   ]
  },
  {
   "cell_type": "code",
   "execution_count": 8,
   "id": "b99297a5-405a-463d-8535-9adc3da4ad74",
   "metadata": {
    "id": "b99297a5-405a-463d-8535-9adc3da4ad74"
   },
   "outputs": [
    {
     "name": "stdout",
     "output_type": "stream",
     "text": [
      "        order_id  user_id  order_number  order_dow  order_hour_of_day  \\\n",
      "145574    794638    50898            24          3                  2   \n",
      "223105   2160484   107525            16          3                  2   \n",
      "230807   1918001   188546            14          3                  2   \n",
      "266232   1782114   106752             1          3                  2   \n",
      "273805   1112182   202304            84          3                  2   \n",
      "284038   2845099    31189            11          3                  2   \n",
      "311713   1021560    53767             3          3                  2   \n",
      "321100    408114    68324             4          3                  2   \n",
      "323900   1919531   191501            32          3                  2   \n",
      "345917   2232988    82565             1          3                  2   \n",
      "371905    391768    57671            19          3                  2   \n",
      "394347    467134    63189            21          3                  2   \n",
      "411408   1286742   183220            48          3                  2   \n",
      "415163   2282673    86751            49          3                  2   \n",
      "441599   2125197    14050            48          3                  2   \n",
      "\n",
      "        days_since_prior_order  \n",
      "145574                     2.0  \n",
      "223105                    30.0  \n",
      "230807                    16.0  \n",
      "266232                     NaN  \n",
      "273805                     6.0  \n",
      "284038                     7.0  \n",
      "311713                     9.0  \n",
      "321100                    18.0  \n",
      "323900                     7.0  \n",
      "345917                     NaN  \n",
      "371905                    10.0  \n",
      "394347                     2.0  \n",
      "411408                     4.0  \n",
      "415163                     2.0  \n",
      "441599                     3.0  \n"
     ]
    }
   ],
   "source": [
    "# Revisa si hay pedidos duplicados\n",
    "print(instacart_orders[instacart_orders.duplicated()])"
   ]
  },
  {
   "cell_type": "markdown",
   "id": "PEkwUX_gvt5A",
   "metadata": {
    "id": "PEkwUX_gvt5A"
   },
   "source": [
    "¿Tienes líneas duplicadas? Si sí, ¿qué tienen en común?\n",
    "\n",
    "Sí hay líneas duplicadas, lo que tienen en común es que son pedidos que fueron realizados el miércoles a las 2:00 a.m."
   ]
  },
  {
   "cell_type": "code",
   "execution_count": 9,
   "id": "0d44de5d",
   "metadata": {
    "id": "0d44de5d"
   },
   "outputs": [
    {
     "name": "stdout",
     "output_type": "stream",
     "text": [
      "        order_id  user_id  order_number  order_dow  order_hour_of_day  \\\n",
      "4838     2766110   162084            41          3                  2   \n",
      "5156     2190225   138285            18          3                  2   \n",
      "15506     553049    58599            13          3                  2   \n",
      "18420     382357   120200            19          3                  2   \n",
      "24691     690242    77357             2          3                  2   \n",
      "...          ...      ...           ...        ...                ...   \n",
      "457013   3384021    14881             6          3                  2   \n",
      "458816    910166   164782            18          3                  2   \n",
      "459635   1680532   106435             6          3                  2   \n",
      "468324    222962    54979            59          3                  2   \n",
      "477526   2592344    46860            38          3                  2   \n",
      "\n",
      "        days_since_prior_order  \n",
      "4838                      16.0  \n",
      "5156                      11.0  \n",
      "15506                      7.0  \n",
      "18420                     11.0  \n",
      "24691                      9.0  \n",
      "...                        ...  \n",
      "457013                    30.0  \n",
      "458816                     4.0  \n",
      "459635                    21.0  \n",
      "468324                     3.0  \n",
      "477526                     3.0  \n",
      "\n",
      "[121 rows x 6 columns]\n"
     ]
    }
   ],
   "source": [
    "# Basándote en tus hallazgos,\n",
    "# Verifica todos los pedidos que se hicieron el miércoles a las 2:00 a.m.\n",
    "print(instacart_orders[(instacart_orders['order_dow'] == 3) & (instacart_orders['order_hour_of_day'] == 2)])"
   ]
  },
  {
   "cell_type": "markdown",
   "id": "vu2OWyoqwOx5",
   "metadata": {
    "id": "vu2OWyoqwOx5"
   },
   "source": [
    "¿Qué sugiere este resultado?\n",
    "\n",
    "Este resultado sugiere que hay múltiples pedidos realizados el miércoles a las 2:00 a.m., lo que podría indicar que este es un horario de actividad común para los clientes en la plataforma Instacart. Sin embargo, también es posible que estos pedidos sean parte de algún patrón específico de clientes o que haya alguna razón operativa detrás de este fenómeno. Se podrían eliminar aquellos pedidos duplicados."
   ]
  },
  {
   "cell_type": "code",
   "execution_count": 10,
   "id": "480563c7",
   "metadata": {
    "id": "480563c7"
   },
   "outputs": [],
   "source": [
    "# Elimina los pedidos duplicados\n",
    "instacart_orders.drop_duplicates(inplace=True)"
   ]
  },
  {
   "cell_type": "code",
   "execution_count": 11,
   "id": "0b2396a2",
   "metadata": {
    "id": "0b2396a2"
   },
   "outputs": [
    {
     "name": "stdout",
     "output_type": "stream",
     "text": [
      "Empty DataFrame\n",
      "Columns: [order_id, user_id, order_number, order_dow, order_hour_of_day, days_since_prior_order]\n",
      "Index: []\n",
      "0\n"
     ]
    }
   ],
   "source": [
    "# Vuelve a verificar si hay filas duplicadas\n",
    "print(instacart_orders[instacart_orders.duplicated()])\n",
    "print(instacart_orders.duplicated().sum())"
   ]
  },
  {
   "cell_type": "code",
   "execution_count": 12,
   "id": "f6113ef1",
   "metadata": {
    "id": "f6113ef1"
   },
   "outputs": [
    {
     "name": "stdout",
     "output_type": "stream",
     "text": [
      "Empty DataFrame\n",
      "Columns: [order_id, user_id, order_number, order_dow, order_hour_of_day, days_since_prior_order]\n",
      "Index: []\n"
     ]
    }
   ],
   "source": [
    "# Vuelve a verificar únicamente si hay IDs duplicados de pedidos\n",
    "print(instacart_orders[instacart_orders['order_id'].duplicated()])"
   ]
  },
  {
   "cell_type": "markdown",
   "id": "5e8905ae",
   "metadata": {
    "id": "5e8905ae"
   },
   "source": [
    "Describe brevemente tus hallazgos y lo que hiciste con ellos\n",
    "\n",
    "Lo que encontré inicialmente, en la revisión de duplicados del DataFrame instacart_orders con el método duplicated().sum() fue que habían 15 filas duplicadas, basado en ello, con ayuda de la verificación de aquellos pedidos que se realizaron el miércoles a las 2:00 a.m., se pudo observar las 15 filas que posteriormente, eliminamos con el método drop_duplicates. Por último, se verificó que no exisitieran filas duplicadas y IDs de pedidos con filtrado y con el método duplicated().sum()."
   ]
  },
  {
   "cell_type": "markdown",
   "id": "45e6bc46",
   "metadata": {
    "id": "45e6bc46"
   },
   "source": [
    "### `products` data frame"
   ]
  },
  {
   "cell_type": "code",
   "execution_count": 13,
   "id": "5f526b5b-8175-46fa-a0fd-441767d50e64",
   "metadata": {
    "id": "5f526b5b-8175-46fa-a0fd-441767d50e64"
   },
   "outputs": [
    {
     "name": "stdout",
     "output_type": "stream",
     "text": [
      "Empty DataFrame\n",
      "Columns: [product_id, product_name, aisle_id, department_id]\n",
      "Index: []\n"
     ]
    }
   ],
   "source": [
    "# Verifica si hay filas totalmente duplicadas\n",
    "print(products[products.duplicated()])"
   ]
  },
  {
   "cell_type": "code",
   "execution_count": 14,
   "id": "88daa4f4",
   "metadata": {
    "id": "88daa4f4"
   },
   "outputs": [
    {
     "name": "stdout",
     "output_type": "stream",
     "text": [
      "       product_id                                     product_name  aisle_id  \\\n",
      "4               5                        Green Chile Anytime Sauce         5   \n",
      "6               7                   Pure Coconut Water With Orange        98   \n",
      "7               8                Cut Russet Potatoes Steam N' Mash       116   \n",
      "9              10   Sparkling Orange Juice & Prickly Pear Beverage       115   \n",
      "10             11                                Peach Mango Juice        31   \n",
      "...           ...                                              ...       ...   \n",
      "49689       49690                    HIGH PERFORMANCE ENERGY DRINK        64   \n",
      "49690       49691                    ORIGINAL PANCAKE & WAFFLE MIX       130   \n",
      "49691       49692  ORGANIC INSTANT OATMEAL LIGHT MAPLE BROWN SUGAR       130   \n",
      "49692       49693                           SPRING WATER BODY WASH       127   \n",
      "49693       49694                          BURRITO- STEAK & CHEESE        38   \n",
      "\n",
      "       department_id  \n",
      "4                 13  \n",
      "6                  7  \n",
      "7                  1  \n",
      "9                  7  \n",
      "10                 7  \n",
      "...              ...  \n",
      "49689              7  \n",
      "49690             14  \n",
      "49691             14  \n",
      "49692             11  \n",
      "49693              1  \n",
      "\n",
      "[49673 rows x 4 columns]\n"
     ]
    }
   ],
   "source": [
    "# Revisa únicamente si hay ID de departamentos duplicados\n",
    "print(products[products['department_id'].duplicated()])"
   ]
  },
  {
   "cell_type": "code",
   "execution_count": 15,
   "id": "c773f0bf",
   "metadata": {
    "id": "c773f0bf"
   },
   "outputs": [
    {
     "name": "stdout",
     "output_type": "stream",
     "text": [
      "71                                                   NaN\n",
      "109                                                  NaN\n",
      "296                                                  NaN\n",
      "416                                                  NaN\n",
      "436                                                  NaN\n",
      "                              ...                       \n",
      "49689                      HIGH PERFORMANCE ENERGY DRINK\n",
      "49690                      ORIGINAL PANCAKE & WAFFLE MIX\n",
      "49691    ORGANIC INSTANT OATMEAL LIGHT MAPLE BROWN SUGAR\n",
      "49692                             SPRING WATER BODY WASH\n",
      "49693                            BURRITO- STEAK & CHEESE\n",
      "Name: product_name, Length: 1361, dtype: object\n"
     ]
    }
   ],
   "source": [
    "# Revisa únicamente si hay nombres duplicados de productos (convierte los nombres a letras mayúsculas para compararlos mejor)\n",
    "products['product_name'] = products['product_name'].str.upper()\n",
    "print(products['product_name'][products['product_name'].duplicated()])"
   ]
  },
  {
   "cell_type": "code",
   "execution_count": 16,
   "id": "01efd02e",
   "metadata": {
    "id": "01efd02e"
   },
   "outputs": [
    {
     "data": {
      "text/html": [
       "<div>\n",
       "<style scoped>\n",
       "    .dataframe tbody tr th:only-of-type {\n",
       "        vertical-align: middle;\n",
       "    }\n",
       "\n",
       "    .dataframe tbody tr th {\n",
       "        vertical-align: top;\n",
       "    }\n",
       "\n",
       "    .dataframe thead th {\n",
       "        text-align: right;\n",
       "    }\n",
       "</style>\n",
       "<table border=\"1\" class=\"dataframe\">\n",
       "  <thead>\n",
       "    <tr style=\"text-align: right;\">\n",
       "      <th></th>\n",
       "      <th>product_id</th>\n",
       "      <th>product_name</th>\n",
       "      <th>aisle_id</th>\n",
       "      <th>department_id</th>\n",
       "    </tr>\n",
       "  </thead>\n",
       "  <tbody>\n",
       "    <tr>\n",
       "      <th>41</th>\n",
       "      <td>42</td>\n",
       "      <td>BIOTIN 1000 MCG</td>\n",
       "      <td>47</td>\n",
       "      <td>11</td>\n",
       "    </tr>\n",
       "    <tr>\n",
       "      <th>185</th>\n",
       "      <td>186</td>\n",
       "      <td>FRESH SCENT DISHWASHER DETERGENT WITH DAWN</td>\n",
       "      <td>74</td>\n",
       "      <td>17</td>\n",
       "    </tr>\n",
       "    <tr>\n",
       "      <th>515</th>\n",
       "      <td>516</td>\n",
       "      <td>AMERICAN CHEESE SLICES</td>\n",
       "      <td>21</td>\n",
       "      <td>16</td>\n",
       "    </tr>\n",
       "    <tr>\n",
       "      <th>1538</th>\n",
       "      <td>1539</td>\n",
       "      <td>CAULIFLOWER HEAD</td>\n",
       "      <td>83</td>\n",
       "      <td>4</td>\n",
       "    </tr>\n",
       "    <tr>\n",
       "      <th>1783</th>\n",
       "      <td>1784</td>\n",
       "      <td>NUTRITION PROTEIN MIX BLUEBERRY NUT</td>\n",
       "      <td>117</td>\n",
       "      <td>19</td>\n",
       "    </tr>\n",
       "    <tr>\n",
       "      <th>...</th>\n",
       "      <td>...</td>\n",
       "      <td>...</td>\n",
       "      <td>...</td>\n",
       "      <td>...</td>\n",
       "    </tr>\n",
       "    <tr>\n",
       "      <th>49689</th>\n",
       "      <td>49690</td>\n",
       "      <td>HIGH PERFORMANCE ENERGY DRINK</td>\n",
       "      <td>64</td>\n",
       "      <td>7</td>\n",
       "    </tr>\n",
       "    <tr>\n",
       "      <th>49690</th>\n",
       "      <td>49691</td>\n",
       "      <td>ORIGINAL PANCAKE &amp; WAFFLE MIX</td>\n",
       "      <td>130</td>\n",
       "      <td>14</td>\n",
       "    </tr>\n",
       "    <tr>\n",
       "      <th>49691</th>\n",
       "      <td>49692</td>\n",
       "      <td>ORGANIC INSTANT OATMEAL LIGHT MAPLE BROWN SUGAR</td>\n",
       "      <td>130</td>\n",
       "      <td>14</td>\n",
       "    </tr>\n",
       "    <tr>\n",
       "      <th>49692</th>\n",
       "      <td>49693</td>\n",
       "      <td>SPRING WATER BODY WASH</td>\n",
       "      <td>127</td>\n",
       "      <td>11</td>\n",
       "    </tr>\n",
       "    <tr>\n",
       "      <th>49693</th>\n",
       "      <td>49694</td>\n",
       "      <td>BURRITO- STEAK &amp; CHEESE</td>\n",
       "      <td>38</td>\n",
       "      <td>1</td>\n",
       "    </tr>\n",
       "  </tbody>\n",
       "</table>\n",
       "<p>207 rows × 4 columns</p>\n",
       "</div>"
      ],
      "text/plain": [
       "       product_id                                     product_name  aisle_id  \\\n",
       "41             42                                  BIOTIN 1000 MCG        47   \n",
       "185           186       FRESH SCENT DISHWASHER DETERGENT WITH DAWN        74   \n",
       "515           516                           AMERICAN CHEESE SLICES        21   \n",
       "1538         1539                                 CAULIFLOWER HEAD        83   \n",
       "1783         1784              NUTRITION PROTEIN MIX BLUEBERRY NUT       117   \n",
       "...           ...                                              ...       ...   \n",
       "49689       49690                    HIGH PERFORMANCE ENERGY DRINK        64   \n",
       "49690       49691                    ORIGINAL PANCAKE & WAFFLE MIX       130   \n",
       "49691       49692  ORGANIC INSTANT OATMEAL LIGHT MAPLE BROWN SUGAR       130   \n",
       "49692       49693                           SPRING WATER BODY WASH       127   \n",
       "49693       49694                          BURRITO- STEAK & CHEESE        38   \n",
       "\n",
       "       department_id  \n",
       "41                11  \n",
       "185               17  \n",
       "515               16  \n",
       "1538               4  \n",
       "1783              19  \n",
       "...              ...  \n",
       "49689              7  \n",
       "49690             14  \n",
       "49691             14  \n",
       "49692             11  \n",
       "49693              1  \n",
       "\n",
       "[207 rows x 4 columns]"
      ]
     },
     "execution_count": 16,
     "metadata": {},
     "output_type": "execute_result"
    }
   ],
   "source": [
    "# Revisa si hay nombres duplicados de productos no faltantes\n",
    "products[products.duplicated(subset=['product_name'], keep=False) & ~products['product_name'].isna()]"
   ]
  },
  {
   "cell_type": "markdown",
   "id": "9da8d293",
   "metadata": {
    "id": "9da8d293"
   },
   "source": [
    "Describe brevemente tus hallazgos y lo que hiciste con ellos.\n",
    "\n",
    "Esto me permitió identificar los nombres de productos duplicados para considerar combinarlos o eliminar algunos de ellos, según considere apropiado.\n",
    "Después de investigar y decidir cómo tratar los nombres de productos duplicados, completaré los valores ausentes, si es necesario, y verificaré la presencia de valores duplicados en los demás DataFrames."
   ]
  },
  {
   "cell_type": "markdown",
   "id": "60f30db1",
   "metadata": {
    "id": "60f30db1"
   },
   "source": [
    "### `departments` data frame"
   ]
  },
  {
   "cell_type": "code",
   "execution_count": 17,
   "id": "fb410ad4-0fbf-4b80-bb09-23fdea79afe3",
   "metadata": {
    "id": "fb410ad4-0fbf-4b80-bb09-23fdea79afe3"
   },
   "outputs": [
    {
     "name": "stdout",
     "output_type": "stream",
     "text": [
      "Empty DataFrame\n",
      "Columns: [department_id, department]\n",
      "Index: []\n"
     ]
    }
   ],
   "source": [
    "# Revisa si hay filas totalmente duplicadas\n",
    "print(departments[departments.duplicated()])"
   ]
  },
  {
   "cell_type": "code",
   "execution_count": 18,
   "id": "332b12bb",
   "metadata": {
    "id": "332b12bb"
   },
   "outputs": [
    {
     "name": "stdout",
     "output_type": "stream",
     "text": [
      "Empty DataFrame\n",
      "Columns: [department_id, department]\n",
      "Index: []\n"
     ]
    }
   ],
   "source": [
    "# Revisa únicamente si hay IDs duplicadas de productos\n",
    "print(departments[departments['department_id'].duplicated()])"
   ]
  },
  {
   "cell_type": "markdown",
   "id": "bd30d78e",
   "metadata": {
    "id": "bd30d78e"
   },
   "source": [
    "Describe brevemente tus hallazgos y lo que hiciste con ellos.\n",
    "\n",
    "En el DataFrame de departments, no se encontraron filas totalmente duplicadas ni IDs duplicados de departamentos. Esto significa que no hay problemas de duplicados que necesiten ser tratados en este conjunto de datos. Por lo tanto, no fue necesario tomar ninguna acción adicional para manejar duplicados en este DataFrame."
   ]
  },
  {
   "cell_type": "markdown",
   "id": "889349c1",
   "metadata": {
    "id": "889349c1"
   },
   "source": [
    "### `aisles` data frame"
   ]
  },
  {
   "cell_type": "code",
   "execution_count": 19,
   "id": "9da89fb9-4679-40f5-ad0d-c34df753a3f8",
   "metadata": {
    "id": "9da89fb9-4679-40f5-ad0d-c34df753a3f8"
   },
   "outputs": [
    {
     "name": "stdout",
     "output_type": "stream",
     "text": [
      "Empty DataFrame\n",
      "Columns: [aisle_id, aisle]\n",
      "Index: []\n"
     ]
    }
   ],
   "source": [
    "# Revisa si hay filas totalmente duplicadas\n",
    "print(aisles[aisles.duplicated()])"
   ]
  },
  {
   "cell_type": "code",
   "execution_count": 20,
   "id": "da7c2822",
   "metadata": {
    "id": "da7c2822"
   },
   "outputs": [
    {
     "name": "stdout",
     "output_type": "stream",
     "text": [
      "Empty DataFrame\n",
      "Columns: [aisle_id, aisle]\n",
      "Index: []\n"
     ]
    }
   ],
   "source": [
    "# Revisa únicamente si hay IDs duplicadas de productos\n",
    "print(aisles[aisles['aisle_id'].duplicated()])"
   ]
  },
  {
   "cell_type": "markdown",
   "id": "ac63826f",
   "metadata": {
    "id": "ac63826f"
   },
   "source": [
    "Describe brevemente tus hallazgos y lo que hiciste con ellos.\n",
    "\n",
    "En el DataFrame de aisles, no se encontraron filas totalmente duplicadas ni IDs duplicados de pasillos. Esto indica que el conjunto de datos está limpio en términos de duplicados y no requiere ningún ajuste adicional en este aspecto. Por lo tanto, no fue necesario tomar ninguna acción para manejar duplicados en este DataFrame."
   ]
  },
  {
   "cell_type": "markdown",
   "id": "274cd06a",
   "metadata": {
    "id": "274cd06a"
   },
   "source": [
    "### `order_products` data frame"
   ]
  },
  {
   "cell_type": "code",
   "execution_count": 21,
   "id": "52326689-84a8-4b8f-a881-7c68780f62c9",
   "metadata": {
    "id": "52326689-84a8-4b8f-a881-7c68780f62c9"
   },
   "outputs": [
    {
     "name": "stdout",
     "output_type": "stream",
     "text": [
      "Empty DataFrame\n",
      "Columns: [order_id, product_id, add_to_cart_order, reordered]\n",
      "Index: []\n"
     ]
    }
   ],
   "source": [
    "# Revisa si hay filas totalmente duplicadas\n",
    "print(order_products[order_products.duplicated()])"
   ]
  },
  {
   "cell_type": "code",
   "execution_count": 22,
   "id": "7b861391",
   "metadata": {
    "id": "7b861391"
   },
   "outputs": [
    {
     "name": "stdout",
     "output_type": "stream",
     "text": [
      "Empty DataFrame\n",
      "Columns: [order_id, product_id, add_to_cart_order, reordered]\n",
      "Index: []\n"
     ]
    }
   ],
   "source": [
    "# Vuelve a verificar si hay cualquier otro duplicado engañoso\n",
    "print(order_products[order_products.duplicated()])"
   ]
  },
  {
   "cell_type": "markdown",
   "id": "0b890492",
   "metadata": {
    "id": "0b890492"
   },
   "source": [
    "Describe brevemente tus hallazgos y lo que hiciste con ellos.\n",
    "\n",
    "No se encontraron filas totalmente duplicadas en el DataFrame. Ambas verificaciones con el método duplicated() no devolvieron ninguna fila duplicada, lo que indica que el conjunto de datos está limpio en términos de duplicados. Además, al volver a verificar si hay cualquier otro duplicado engañoso, nuevamente se encontró que el DataFrame está vacío, lo que confirma que no hay duplicados adicionales ocultos."
   ]
  },
  {
   "cell_type": "markdown",
   "id": "1e46de76",
   "metadata": {
    "id": "1e46de76"
   },
   "source": [
    "## Encuentra y elimina los valores ausentes\n",
    "\n",
    "Al trabajar con valores duplicados, pudimos observar que también nos falta investigar valores ausentes:\n",
    "\n",
    "* La columna `'product_name'` de la tabla products.\n",
    "* La columna `'days_since_prior_order'` de la tabla orders.\n",
    "* La columna `'add_to_cart_order'` de la tabla order_productos."
   ]
  },
  {
   "cell_type": "markdown",
   "id": "c0aebd78",
   "metadata": {
    "id": "c0aebd78"
   },
   "source": [
    "### `products` data frame"
   ]
  },
  {
   "cell_type": "code",
   "execution_count": 23,
   "id": "fe4a8b0f",
   "metadata": {
    "id": "fe4a8b0f"
   },
   "outputs": [
    {
     "name": "stdout",
     "output_type": "stream",
     "text": [
      "       product_id product_name  aisle_id  department_id\n",
      "37             38          NaN       100             21\n",
      "71             72          NaN       100             21\n",
      "109           110          NaN       100             21\n",
      "296           297          NaN       100             21\n",
      "416           417          NaN       100             21\n",
      "...           ...          ...       ...            ...\n",
      "49552       49553          NaN       100             21\n",
      "49574       49575          NaN       100             21\n",
      "49640       49641          NaN       100             21\n",
      "49663       49664          NaN       100             21\n",
      "49668       49669          NaN       100             21\n",
      "\n",
      "[1258 rows x 4 columns]\n"
     ]
    }
   ],
   "source": [
    "# Encuentra los valores ausentes en la columna 'product_name'\n",
    "print(products[products['product_name'].isna()])"
   ]
  },
  {
   "cell_type": "markdown",
   "id": "-A6x1AbJhjkp",
   "metadata": {
    "id": "-A6x1AbJhjkp"
   },
   "source": [
    "Describe brevemente cuáles son tus hallazgos.\n",
    "\n",
    "Hay 1258 datos ausentes en la columna, esto puede indicar que hubo algún problema en la captura de datos o en la entrada de los nombres de los productos en esas filas."
   ]
  },
  {
   "cell_type": "code",
   "execution_count": 24,
   "id": "e96167bc",
   "metadata": {
    "id": "e96167bc"
   },
   "outputs": [
    {
     "name": "stdout",
     "output_type": "stream",
     "text": [
      "True\n"
     ]
    }
   ],
   "source": [
    "#  ¿Todos los nombres de productos ausentes están relacionados con el pasillo con ID 100?\n",
    "print(products[products['product_name'].isna()]['aisle_id'].isin([100]).all())"
   ]
  },
  {
   "cell_type": "markdown",
   "id": "WRpIfXRphpSL",
   "metadata": {
    "id": "WRpIfXRphpSL"
   },
   "source": [
    "Describe brevemente cuáles son tus hallazgos.\n",
    "\n",
    "El resultado True indica que todos los nombres de productos ausentes están asociados con el pasillo con ID 100. Esto sugiere que los productos faltantes podrían pertenecer a una categoría específica."
   ]
  },
  {
   "cell_type": "code",
   "execution_count": 25,
   "id": "8fd0a541",
   "metadata": {
    "id": "8fd0a541"
   },
   "outputs": [
    {
     "name": "stdout",
     "output_type": "stream",
     "text": [
      "True\n"
     ]
    }
   ],
   "source": [
    "# ¿Todos los nombres de productos ausentes están relacionados con el departamento con ID 21?\n",
    "print((products[products['product_name'].isna()]['department_id'] == 21).all()) "
   ]
  },
  {
   "cell_type": "markdown",
   "id": "qDpdYn1Fht_I",
   "metadata": {
    "id": "qDpdYn1Fht_I"
   },
   "source": [
    "Describe brevemente cuáles son tus hallazgos.\n",
    "\n",
    "El resultado True indica que todos los nombres de productos ausentes están asociados con el departamento con ID 21. Esto sugiere que los productos faltantes están exclusivamente relacionados con ese departamento en particular."
   ]
  },
  {
   "cell_type": "code",
   "execution_count": 26,
   "id": "325c3464",
   "metadata": {
    "id": "325c3464"
   },
   "outputs": [
    {
     "name": "stdout",
     "output_type": "stream",
     "text": [
      "    aisle_id    aisle\n",
      "99       100  missing\n",
      "    department_id department\n",
      "20             21    missing\n"
     ]
    }
   ],
   "source": [
    "# Usa las tablas department y aisle para revisar los datos del pasillo con ID 100 y el departamento con ID 21.\n",
    "aisle_100 = aisles[aisles['aisle_id'] == 100]\n",
    "print(aisle_100)\n",
    "department_21 = departments[departments['department_id'] == 21]\n",
    "print(department_21)"
   ]
  },
  {
   "cell_type": "markdown",
   "id": "nqhSTUPhhvEJ",
   "metadata": {
    "id": "nqhSTUPhhvEJ"
   },
   "source": [
    "Describe brevemente cuáles son tus hallazgos.\n",
    "\n",
    "El resultado \"missing\" sugiere que no se encontraron registros correspondientes en las tablas aisles y departments para el pasillo con ID 100 y el departamento con ID 21"
   ]
  },
  {
   "cell_type": "code",
   "execution_count": 27,
   "id": "6b295120",
   "metadata": {
    "id": "6b295120"
   },
   "outputs": [
    {
     "name": "stdout",
     "output_type": "stream",
     "text": [
      "<class 'pandas.core.frame.DataFrame'>\n",
      "RangeIndex: 49694 entries, 0 to 49693\n",
      "Data columns (total 4 columns):\n",
      " #   Column         Non-Null Count  Dtype \n",
      "---  ------         --------------  ----- \n",
      " 0   product_id     49694 non-null  int64 \n",
      " 1   product_name   49694 non-null  object\n",
      " 2   aisle_id       49694 non-null  int64 \n",
      " 3   department_id  49694 non-null  int64 \n",
      "dtypes: int64(3), object(1)\n",
      "memory usage: 1.5+ MB\n"
     ]
    }
   ],
   "source": [
    "# Completa los nombres de productos ausentes con 'Unknown'\n",
    "products['product_name'].fillna('Unknown', inplace=True)\n",
    "products.info()"
   ]
  },
  {
   "cell_type": "markdown",
   "id": "fc70e5ad",
   "metadata": {
    "id": "fc70e5ad"
   },
   "source": [
    "Describe brevemente tus hallazgos y lo que hiciste con ellos.\n",
    "\n",
    "Ahora no hay valores ausentes en la columna product_name al rellenar con 'Unknown' y verificando con info() nos damos cuenta del cambio."
   ]
  },
  {
   "cell_type": "markdown",
   "id": "7eb45c86",
   "metadata": {
    "id": "7eb45c86"
   },
   "source": [
    "### `orders` data frame"
   ]
  },
  {
   "cell_type": "code",
   "execution_count": 28,
   "id": "93e41d96",
   "metadata": {
    "id": "93e41d96"
   },
   "outputs": [
    {
     "name": "stdout",
     "output_type": "stream",
     "text": [
      "        order_id  user_id  order_number  order_dow  order_hour_of_day  \\\n",
      "28        133707   182261             1          3                 10   \n",
      "96        787445    25685             1          6                 18   \n",
      "100       294410   111449             1          0                 19   \n",
      "103      2869915   123958             1          4                 16   \n",
      "104      2521921    42286             1          3                 18   \n",
      "...          ...      ...           ...        ...                ...   \n",
      "478895   2589657   205028             1          0                 16   \n",
      "478896   2222353   141211             1          2                 13   \n",
      "478922   2272807   204154             1          1                 15   \n",
      "478926   2499542    68810             1          4                 19   \n",
      "478945   1387033    22496             1          5                 14   \n",
      "\n",
      "        days_since_prior_order  \n",
      "28                         NaN  \n",
      "96                         NaN  \n",
      "100                        NaN  \n",
      "103                        NaN  \n",
      "104                        NaN  \n",
      "...                        ...  \n",
      "478895                     NaN  \n",
      "478896                     NaN  \n",
      "478922                     NaN  \n",
      "478926                     NaN  \n",
      "478945                     NaN  \n",
      "\n",
      "[28817 rows x 6 columns]\n"
     ]
    }
   ],
   "source": [
    "# Encuentra los valores ausentes\n",
    "print(instacart_orders[instacart_orders['days_since_prior_order'].isna()])"
   ]
  },
  {
   "cell_type": "code",
   "execution_count": 29,
   "id": "166e5a86",
   "metadata": {
    "id": "166e5a86"
   },
   "outputs": [
    {
     "name": "stdout",
     "output_type": "stream",
     "text": [
      "Empty DataFrame\n",
      "Columns: [order_id, user_id, order_number, order_dow, order_hour_of_day, days_since_prior_order]\n",
      "Index: []\n"
     ]
    }
   ],
   "source": [
    "# ¿Hay algún valor ausente que no sea el primer pedido del cliente?\n",
    "print(instacart_orders[(instacart_orders['days_since_prior_order'].isna()) & (instacart_orders['order_number'] != 1)])"
   ]
  },
  {
   "cell_type": "markdown",
   "id": "4e23d089",
   "metadata": {
    "id": "4e23d089"
   },
   "source": [
    "Describe brevemente tus hallazgos y lo que hiciste con ellos.\n",
    "\n",
    "El resultado indica que no hay ningún valor ausente en la columna 'days_since_prior_order' que no corresponda al primer pedido del cliente. Esto sugiere que los valores ausentes en esa columna son en su mayoría para el primer pedido de cada cliente, lo cual tiene sentido ya que no hay ningún pedido previo del cual calcular la duración desde el pedido anterior."
   ]
  },
  {
   "cell_type": "markdown",
   "id": "69dc9ca4",
   "metadata": {
    "id": "69dc9ca4"
   },
   "source": [
    "### `order_products` data frame"
   ]
  },
  {
   "cell_type": "code",
   "execution_count": 30,
   "id": "b8240253",
   "metadata": {
    "id": "b8240253"
   },
   "outputs": [
    {
     "name": "stdout",
     "output_type": "stream",
     "text": [
      "         order_id  product_id  add_to_cart_order  reordered\n",
      "737       2449164        5068                NaN          0\n",
      "9926      1968313       43867                NaN          0\n",
      "14394     2926893       11688                NaN          0\n",
      "16418     1717990        4142                NaN          0\n",
      "30114     1959075       42828                NaN          1\n",
      "...           ...         ...                ...        ...\n",
      "4505662   1800005        7411                NaN          0\n",
      "4511400   1633337         260                NaN          0\n",
      "4517562    404157        9517                NaN          0\n",
      "4534112   1673227       17835                NaN          0\n",
      "4535739   1832957       17949                NaN          1\n",
      "\n",
      "[836 rows x 4 columns]\n"
     ]
    }
   ],
   "source": [
    "# Encuentra los valores ausentes\n",
    "print(order_products[order_products['add_to_cart_order'].isna()])"
   ]
  },
  {
   "cell_type": "code",
   "execution_count": 31,
   "id": "9a78e5ee",
   "metadata": {
    "id": "9a78e5ee"
   },
   "outputs": [
    {
     "name": "stdout",
     "output_type": "stream",
     "text": [
      "1.0 64.0\n"
     ]
    }
   ],
   "source": [
    "# ¿Cuáles son los valores mínimos y máximos en esta columna?\n",
    "print(order_products['add_to_cart_order'].min(),order_products['add_to_cart_order'].max())"
   ]
  },
  {
   "cell_type": "markdown",
   "id": "-Z2Ja215jW78",
   "metadata": {
    "id": "-Z2Ja215jW78"
   },
   "source": [
    "Describe brevemente cuáles son tus hallazgos.\n",
    "\n",
    "Se encontraron 836 valores ausentes en la columna 'add_to_cart_order' del DataFrame 'order_products'. Estos valores representan casos en los que no se especificó el orden en el que se agregaron productos al carrito en un pedido.\n",
    "Los valores mínimos y máximos en esta columna son 1.0 y 64.0, respectivamente. Esto indica que el producto con el menor número de orden de agregado al carrito tiene el valor 1, mientras que el producto con el mayor número de orden tiene el valor 64. Esto es consistente con el proceso de agregar productos secuencialmente al carrito durante un pedido."
   ]
  },
  {
   "cell_type": "code",
   "execution_count": 32,
   "id": "ab9d0c2b",
   "metadata": {
    "id": "ab9d0c2b"
   },
   "outputs": [
    {
     "name": "stdout",
     "output_type": "stream",
     "text": [
      "[2449164 1968313 2926893 1717990 1959075  844733   61355  936852  264710\n",
      " 1564093  129627  293169 2849370 1386261 3308010  903110 2136777 3347453\n",
      " 1888628  165801 2094761 1038146 2997021  813364 2256933  171934 2409109\n",
      " 1730767 1169835  733526  404157 3125735  747668 1800005 1961723  871281\n",
      "  388234 1648217 1477139  102236 1021563 1832957 2721963  678116 1220886\n",
      " 1673227 2999801 1633337 2470674 2625444 1677118 2479011 3383594 1183255\n",
      " 1713430 2652650 1598369 1916118  854647 1302315  888470  180546 2621907\n",
      " 1308785 2729254    9310 2170451 2979697 1625713 1529171]\n"
     ]
    }
   ],
   "source": [
    "# Guarda todas las IDs de pedidos que tengan un valor ausente en 'add_to_cart_order'\n",
    "print(order_products[order_products['add_to_cart_order'].isna()]['order_id'].unique())"
   ]
  },
  {
   "cell_type": "code",
   "execution_count": 33,
   "id": "54c31695",
   "metadata": {
    "id": "54c31695"
   },
   "outputs": [
    {
     "name": "stdout",
     "output_type": "stream",
     "text": [
      "False\n",
      "1\n"
     ]
    }
   ],
   "source": [
    "# ¿Todos los pedidos con valores ausentes tienen más de 64 productos?\n",
    "print((order_products[order_products['add_to_cart_order'].isna()]\n",
    "                  .groupby('order_id')['add_to_cart_order']\n",
    "                  .max()\n",
    "                  .max() <= 64))\n",
    "# Agrupa todos los pedidos con datos ausentes por su ID de pedido.\n",
    "grouped_orders=order_products[order_products['add_to_cart_order'].isna()].groupby('order_id')\n",
    "# Cuenta el número de 'product_id' en cada pedido y revisa el valor mínimo del conteo.\n",
    "count_orders = grouped_orders['product_id'].count()\n",
    "min_count = count_orders.min()\n",
    "print(min_count)"
   ]
  },
  {
   "cell_type": "markdown",
   "id": "p9V6pddtjglj",
   "metadata": {
    "id": "p9V6pddtjglj"
   },
   "source": [
    "Describe brevemente cuáles son tus hallazgos.\n",
    "\n",
    "El resultado False indica que no todos los pedidos con valores ausentes tienen más de 64 productos. Esto sugiere que al menos uno de los pedidos con valores ausentes tiene 64 o menos productos.\n",
    "\n",
    "Al agrupar todos los pedidos con datos ausentes por su ID de pedido, el resultado indica que se ha realizado la agrupación de los pedidos con datos ausentes por su ID de pedido. Sin embargo, no se muestra el resultado específico de la agrupación.\n",
    "\n",
    "El valor 1 como mínimo conteo de productos en un pedido con datos ausentes en 'add_to_cart_order' sugiere que al menos un pedido con valores ausentes tiene solo un producto. Esto puede ser útil para comprender la distribución de la cantidad de productos en los pedidos con valores ausentes."
   ]
  },
  {
   "cell_type": "code",
   "execution_count": 34,
   "id": "7a987d08",
   "metadata": {
    "id": "7a987d08"
   },
   "outputs": [
    {
     "name": "stdout",
     "output_type": "stream",
     "text": [
      "<class 'pandas.core.frame.DataFrame'>\n",
      "RangeIndex: 4545007 entries, 0 to 4545006\n",
      "Data columns (total 4 columns):\n",
      " #   Column             Non-Null Count    Dtype\n",
      "---  ------             --------------    -----\n",
      " 0   order_id           4545007 non-null  int64\n",
      " 1   product_id         4545007 non-null  int64\n",
      " 2   add_to_cart_order  4545007 non-null  int64\n",
      " 3   reordered          4545007 non-null  int64\n",
      "dtypes: int64(4)\n",
      "memory usage: 138.7 MB\n"
     ]
    }
   ],
   "source": [
    "# Remplaza los valores ausentes en la columna 'add_to_cart? con 999 y convierte la columna al tipo entero.\n",
    "order_products['add_to_cart_order'].fillna(999, inplace=True)\n",
    "order_products['add_to_cart_order'] = order_products['add_to_cart_order'].astype(int)\n",
    "order_products.info(show_counts=True)"
   ]
  },
  {
   "cell_type": "markdown",
   "id": "fea4bcc7",
   "metadata": {
    "id": "fea4bcc7"
   },
   "source": [
    "Describe brevemente tus hallazgos y lo que hiciste con ellos.\n",
    "\n",
    "Ahora no hay valores ausentes en la columna 'add_to_cart_order' al reemplazar con 999 y vemos que ahora la columna es un tipo entero al llamar info()."
   ]
  },
  {
   "cell_type": "markdown",
   "id": "RnplPFY1gSrb",
   "metadata": {
    "id": "RnplPFY1gSrb"
   },
   "source": [
    "## Conclusiones\n",
    "\n",
    "Escribe aquí tus conclusiones intermedias sobre el Paso 2. Preprocesamiento de los datos\n",
    "\n",
    "\n",
    "El Paso 2 de preprocesamiento de datos ha sido fundamental para asegurar la calidad y la integridad de los datos antes de comenzar cualquier análisis adicional. Aquí están mis conclusiones intermedias:\n",
    "\n",
    "Hemos identificado y eliminado los valores duplicados en las tablas relevantes, lo que garantiza la precisión de nuestros análisis posteriores.\n",
    "Para el manejo de valores ausentes hemos investigado y manejado los valores ausentes en las columnas críticas de nuestras tablas. Esto incluye rellenar los valores ausentes con información relevante, como 'Unknown' para los nombres de productos faltantes, y asignar un valor de reemplazo como 999 para los casos de 'add_to_cart_order' faltantes.\n",
    "\n",
    "También se ha investigado las relaciones entre los datos ausentes y otras variables, como los IDs de pasillo y departamento. Esto nos brinda información sobre posibles patrones o tendencias en los datos faltantes.\n",
    "Por último se ha verificado la integridad de los datos después de realizar los cambios necesarios, asegurándonos de que nuestras manipulaciones de datos se hayan aplicado correctamente.\n",
    "En conjunto, estos pasos nos han preparado para análisis posteriores más avanzados al garantizar que nuestros datos estén limpios, completos y listos para su uso. Esto nos permite tener mayor confianza en la calidad de nuestros datos y en las conclusiones que extraigamos de ellos."
   ]
  },
  {
   "cell_type": "markdown",
   "id": "UjrOIwTcz3ri",
   "metadata": {
    "id": "UjrOIwTcz3ri"
   },
   "source": [
    "# Paso 3. Análisis de los datos\n",
    "\n",
    "Una vez los datos estén procesados y listos, haz el siguiente análisis:"
   ]
  },
  {
   "cell_type": "markdown",
   "id": "turkish-kidney",
   "metadata": {
    "id": "turkish-kidney"
   },
   "source": [
    "# [A] Fácil (deben completarse todos para aprobar)\n",
    "\n",
    "1. Verifica que los valores en las columnas `'order_hour_of_day'` y `'order_dow'` en la tabla orders sean razonables (es decir, `'order_hour_of_day'` oscile entre 0 y 23 y `'order_dow'` oscile entre 0 y 6).\n",
    "2. Crea un gráfico que muestre el número de personas que hacen pedidos dependiendo de la hora del día.\n",
    "3. Crea un gráfico que muestre qué día de la semana la gente hace sus compras.\n",
    "4. Crea un gráfico que muestre el tiempo que la gente espera hasta hacer su siguiente pedido, y comenta sobre los valores mínimos y máximos."
   ]
  },
  {
   "cell_type": "markdown",
   "id": "short-capability",
   "metadata": {
    "id": "short-capability"
   },
   "source": [
    "### [A1] Verifica que los valores sean sensibles"
   ]
  },
  {
   "cell_type": "code",
   "execution_count": 35,
   "id": "growing-fruit",
   "metadata": {
    "id": "growing-fruit"
   },
   "outputs": [
    {
     "name": "stdout",
     "output_type": "stream",
     "text": [
      "0 23\n"
     ]
    }
   ],
   "source": [
    "print(instacart_orders['order_hour_of_day'].min(),instacart_orders['order_hour_of_day'].max())"
   ]
  },
  {
   "cell_type": "code",
   "execution_count": 36,
   "id": "accessory-malaysia",
   "metadata": {
    "id": "accessory-malaysia"
   },
   "outputs": [
    {
     "name": "stdout",
     "output_type": "stream",
     "text": [
      "0 6\n"
     ]
    }
   ],
   "source": [
    "print(instacart_orders['order_dow'].min(),instacart_orders['order_dow'].max())"
   ]
  },
  {
   "cell_type": "markdown",
   "id": "hmR2GNQ6lCsX",
   "metadata": {
    "id": "hmR2GNQ6lCsX"
   },
   "source": [
    "Escribe aquí tus conclusiones\n",
    "\n",
    "Los resultados confirman que, la columna 'order_hour_of_day' es razonable al ver que sus valores oscilan entre 0 y 23. Asimismo, la columna 'order_dow' también es razonable al observar que sus valores oscilan entre 0 y 6."
   ]
  },
  {
   "cell_type": "markdown",
   "id": "a6743a70",
   "metadata": {
    "id": "a6743a70"
   },
   "source": [
    "### [A2] Para cada hora del día, ¿cuántas personas hacen órdenes?"
   ]
  },
  {
   "cell_type": "code",
   "execution_count": 37,
   "id": "a36cca27",
   "metadata": {
    "id": "a36cca27"
   },
   "outputs": [
    {
     "data": {
      "image/png": "[encoded data removed]",
      "text/plain": [
       "<Figure size 432x288 with 1 Axes>"
      ]
     },
     "metadata": {
      "needs_background": "light"
     },
     "output_type": "display_data"
    }
   ],
   "source": [
    "from matplotlib import pyplot as plt\n",
    "instacart_orders.hist(column='order_hour_of_day', bins=24)\n",
    "plt.show()"
   ]
  },
  {
   "cell_type": "markdown",
   "id": "11270eed",
   "metadata": {
    "id": "11270eed"
   },
   "source": [
    "Escribe aquí tus conclusiones\n",
    "\n",
    "Al parecer, a partir de las 9 horas es donde se evidencia una tendencia mayor a 35000 personas hasta las 16 horas. El pico más grande es a las 10, es decir, donde las personas realizan más órdenes y la horas en donde las personas hacen menos órdenes es entre las 4 y 5."
   ]
  },
  {
   "cell_type": "markdown",
   "id": "documented-command",
   "metadata": {
    "id": "documented-command"
   },
   "source": [
    "### [A3] ¿Qué día de la semana compran víveres las personas?"
   ]
  },
  {
   "cell_type": "code",
   "execution_count": 38,
   "id": "chief-digit",
   "metadata": {
    "id": "chief-digit"
   },
   "outputs": [
    {
     "data": {
      "image/png": "[encoded data removed]",
      "text/plain": [
       "<Figure size 432x288 with 1 Axes>"
      ]
     },
     "metadata": {
      "needs_background": "light"
     },
     "output_type": "display_data"
    }
   ],
   "source": [
    "instacart_orders.hist(column='order_dow')\n",
    "plt.show()"
   ]
  },
  {
   "cell_type": "markdown",
   "id": "dominant-lightning",
   "metadata": {
    "id": "dominant-lightning"
   },
   "source": [
    "Escribe aquí tus conclusiones\n",
    "\n",
    "Según la gráfica, los días de la semana en donde más compran víveres son los domingos."
   ]
  },
  {
   "cell_type": "markdown",
   "id": "cutting-concert",
   "metadata": {
    "id": "cutting-concert"
   },
   "source": [
    "### [A4] ¿Cuánto tiempo esperan las personas hasta hacer otro pedido? Comenta sobre los valores mínimos y máximos."
   ]
  },
  {
   "cell_type": "code",
   "execution_count": 39,
   "id": "c231f523",
   "metadata": {
    "id": "c231f523"
   },
   "outputs": [
    {
     "data": {
      "image/png": "[encoded data removed]",
      "text/plain": [
       "<Figure size 432x288 with 1 Axes>"
      ]
     },
     "metadata": {
      "needs_background": "light"
     },
     "output_type": "display_data"
    },
    {
     "name": "stdout",
     "output_type": "stream",
     "text": [
      "Valor mínimo de días hasta el próximo pedido: 0.0\n",
      "Valor máximo de días hasta el próximo pedido: 30.0\n"
     ]
    }
   ],
   "source": [
    "instacart_orders.hist(column='days_since_prior_order',bins=30)\n",
    "plt.show()\n",
    "orders_no_nan = instacart_orders.dropna(subset=['days_since_prior_order'])\n",
    "min_days = orders_no_nan['days_since_prior_order'].min()\n",
    "max_days = orders_no_nan['days_since_prior_order'].max()\n",
    "\n",
    "print(\"Valor mínimo de días hasta el próximo pedido:\", min_days)\n",
    "print(\"Valor máximo de días hasta el próximo pedido:\", max_days)"
   ]
  },
  {
   "cell_type": "markdown",
   "id": "discrete-vertex",
   "metadata": {
    "id": "discrete-vertex"
   },
   "source": [
    "Escribe aquí tus conclusiones\n",
    "\n",
    "Se podría decir que las personas esperan alrededor de 30 días en realizar nuevamente un pedido.Sin embargo al séptimo día también hay un pico, habría que mirar si esto ocurre los fines de semana, debido a que muchas personas descansan y solicitan muchos pedidos."
   ]
  },
  {
   "cell_type": "markdown",
   "id": "tight-staff",
   "metadata": {
    "id": "tight-staff"
   },
   "source": [
    "# [B] Intermedio (deben completarse todos para aprobar)\n",
    "\n",
    "1. ¿Existe alguna diferencia entre las distribuciones `'order_hour_of_day'` de los miércoles y los sábados? Traza gráficos de barra de `'order_hour_of_day'` para ambos días en la misma figura y describe las diferencias que observes.\n",
    "2. Grafica la distribución para el número de órdenes que hacen los clientes (es decir, cuántos clientes hicieron solo 1 pedido, cuántos hicieron 2, cuántos 3, y así sucesivamente...).\n",
    "3. ¿Cuáles son los 20 principales productos que se piden con más frecuencia (muestra su identificación y nombre)?"
   ]
  },
  {
   "cell_type": "markdown",
   "id": "packed-classic",
   "metadata": {
    "id": "packed-classic"
   },
   "source": [
    "### [B1] Diferencia entre miércoles y sábados para  `'order_hour_of_day'`. Traza gráficos de barra para los dos días y describe las diferencias que veas."
   ]
  },
  {
   "cell_type": "code",
   "execution_count": 40,
   "id": "d89b8403",
   "metadata": {
    "id": "d89b8403",
    "scrolled": false
   },
   "outputs": [
    {
     "data": {
      "image/png": "[encoded data removed]",
      "text/plain": [
       "<Figure size 720x432 with 1 Axes>"
      ]
     },
     "metadata": {
      "needs_background": "light"
     },
     "output_type": "display_data"
    }
   ],
   "source": [
    "# Filtrar los datos para obtener solo los pedidos realizados los miércoles\n",
    "wednesday_orders = instacart_orders[instacart_orders['order_dow'] == 3]\n",
    "\n",
    "# Filtrar los datos para obtener solo los pedidos realizados los sábados\n",
    "saturday_orders = instacart_orders[instacart_orders['order_dow'] == 6]\n",
    "\n",
    "# Contar el número de pedidos para cada hora del día en miércoles y sábados\n",
    "wednesday_hour_counts = wednesday_orders['order_hour_of_day'].value_counts().sort_index()\n",
    "saturday_hour_counts = saturday_orders['order_hour_of_day'].value_counts().sort_index()\n",
    "# Crear gráfico de barras comparando las distribuciones de horas del día para miércoles y sábados\n",
    "plt.figure(figsize=(10, 6))\n",
    "plt.bar(wednesday_hour_counts.index, wednesday_hour_counts.values, color='skyblue', label='Miércoles')\n",
    "plt.bar(saturday_hour_counts.index, saturday_hour_counts.values, color='salmon', label='Sábado',alpha=0.2)\n",
    "plt.title('Comparación de distribuciones de horas del día entre Miércoles y Sábado')\n",
    "plt.xlabel('Hora del día')\n",
    "plt.ylabel('Número de pedidos')\n",
    "plt.xticks(range(24))\n",
    "plt.legend()\n",
    "plt.grid(True)\n",
    "plt.show()"
   ]
  },
  {
   "cell_type": "markdown",
   "id": "charitable-congo",
   "metadata": {
    "id": "charitable-congo"
   },
   "source": [
    "Escribe aquí tus conclusiones\n",
    "\n",
    "Se puede decir que los días Sábado se realizan más pedidos entre las 11 y 17 horas en comparación a los pedidos realizados los miércoles. También se puede decir que entre la hora 1 y 5 es el punto en donde menos pedidos se solicitan para ambos días. Adicionalmente, hay una tendencia en ambos días y es que a partir de las 17 horas hasta las 23 horas, disminuye considerablemente el número de pedidos."
   ]
  },
  {
   "cell_type": "markdown",
   "id": "e3891143",
   "metadata": {
    "id": "e3891143"
   },
   "source": [
    "### [B2] ¿Cuál es la distribución para el número de pedidos por cliente?"
   ]
  },
  {
   "cell_type": "code",
   "execution_count": 41,
   "id": "d8c26c23",
   "metadata": {
    "id": "d8c26c23"
   },
   "outputs": [],
   "source": [
    "pedidos_por_cliente = instacart_orders.groupby('user_id')['order_id'].count()"
   ]
  },
  {
   "cell_type": "code",
   "execution_count": 42,
   "id": "00e69a66",
   "metadata": {
    "id": "00e69a66"
   },
   "outputs": [
    {
     "data": {
      "image/png": "[encoded data removed]",
      "text/plain": [
       "<Figure size 432x288 with 1 Axes>"
      ]
     },
     "metadata": {
      "needs_background": "light"
     },
     "output_type": "display_data"
    }
   ],
   "source": [
    "pedidos_por_cliente.hist(bins=50)\n",
    "plt.xlabel('Número de pedidos por cliente')\n",
    "plt.ylabel('Frecuencia')\n",
    "plt.title('Distribución del número de pedidos por cliente')\n",
    "plt.show()"
   ]
  },
  {
   "cell_type": "markdown",
   "id": "d2eff7d5",
   "metadata": {
    "id": "d2eff7d5"
   },
   "source": [
    "Escribe aquí tus conclusiones\n",
    "\n",
    "Aquí se puede ver que la mayoria de clientes solicitan menos de 5 productos, solicitan en mayor medida de 1 a 3 productos."
   ]
  },
  {
   "cell_type": "markdown",
   "id": "54a0319c",
   "metadata": {
    "id": "54a0319c"
   },
   "source": [
    "### [B3] ¿Cuáles son los 20 productos más populares (muestra su ID y nombre)?"
   ]
  },
  {
   "cell_type": "code",
   "execution_count": 43,
   "id": "0a66746b",
   "metadata": {},
   "outputs": [
    {
     "name": "stdout",
     "output_type": "stream",
     "text": [
      "    product_id              product_name  popularity_count\n",
      "0        24852                    BANANA             66050\n",
      "1        13176    BAG OF ORGANIC BANANAS             53297\n",
      "2        21137      ORGANIC STRAWBERRIES             37039\n",
      "3        21903      ORGANIC BABY SPINACH             33971\n",
      "4        47209      ORGANIC HASS AVOCADO             29773\n",
      "5        47766           ORGANIC AVOCADO             24689\n",
      "6        47626               LARGE LEMON             21495\n",
      "7        16797              STRAWBERRIES             20018\n",
      "8        26209                     LIMES             19690\n",
      "9        27845        ORGANIC WHOLE MILK             19600\n",
      "10       27966       ORGANIC RASPBERRIES             19197\n",
      "11       22935      ORGANIC YELLOW ONION             15898\n",
      "12       24964            ORGANIC GARLIC             15292\n",
      "13       45007          ORGANIC ZUCCHINI             14584\n",
      "14       39275       ORGANIC BLUEBERRIES             13879\n",
      "15       49683            CUCUMBER KIRBY             13675\n",
      "16       28204        ORGANIC FUJI APPLE             12544\n",
      "17        5876             ORGANIC LEMON             12232\n",
      "18        8277  APPLE HONEYCRISP ORGANIC             11993\n",
      "19       40706    ORGANIC GRAPE TOMATOES             11781\n"
     ]
    }
   ],
   "source": [
    "# Fusionar los DataFrames para obtener los nombres de los productos\n",
    "merged_df = pd.merge(order_products, products, on='product_id')\n",
    "\n",
    "# Calcular la frecuencia de cada producto añadido al carrito\n",
    "product_popularity = merged_df['product_id'].value_counts()\n",
    "\n",
    "# Obtener los 20 productos más populares (ID y nombre)\n",
    "top_20_popular_products = product_popularity.head(20)\n",
    "top_20_popular_products = pd.DataFrame(top_20_popular_products).reset_index()\n",
    "top_20_popular_products.columns = ['product_id', 'popularity_count']\n",
    "\n",
    "# Fusionar con el DataFrame de productos para obtener los nombres de los productos\n",
    "top_20_popular_products = pd.merge(top_20_popular_products, products, on='product_id')[['product_id', 'product_name', 'popularity_count']]\n",
    "\n",
    "# Mostrar los resultados\n",
    "print(top_20_popular_products)"
   ]
  },
  {
   "cell_type": "markdown",
   "id": "7df00f47",
   "metadata": {
    "id": "7df00f47"
   },
   "source": [
    "Escribe aquí tus conclusiones\n",
    "\n",
    "Aquí se creó la variable 'popularity_count' para almacenar el conteo para cada producto y saber cuáles son los 20 productos más populares, donde se puede observar que los productos orgánicos son los más solicitados por los clientes, esto quiere decir que hay una gran parte de clientes que están consumiendo productos saludables."
   ]
  },
  {
   "cell_type": "markdown",
   "id": "gross-theme",
   "metadata": {
    "id": "gross-theme"
   },
   "source": [
    "# [C] Difícil (deben completarse todos para aprobar)\n",
    "\n",
    "1. ¿Cuántos artículos suelen comprar las personas en un pedido? ¿Cómo es la distribución?\n",
    "2. ¿Cuáles son los 20 principales artículos que vuelven a pedirse con mayor frecuencia (muestra sus nombres e IDs de los productos)?\n",
    "3. Para cada producto, ¿cuál es la tasa de repetición del pedido (número de repeticiones de pedido/total de pedidos?\n",
    "4. Para cada cliente, ¿qué proporción de los productos que pidió ya los había pedido? Calcula la tasa de repetición de pedido para cada usuario en lugar de para cada producto.\n",
    "5. ¿Cuáles son los 20 principales artículos que la gente pone primero en sus carritos (muestra las IDs de los productos, sus nombres, y el número de veces en que fueron el primer artículo en añadirse al carrito)?"
   ]
  },
  {
   "cell_type": "markdown",
   "id": "romantic-deposit",
   "metadata": {
    "id": "romantic-deposit"
   },
   "source": [
    "### [C1] ¿Cuántos artículos compran normalmente las personas en un pedido? ¿Cómo es la distribución?"
   ]
  },
  {
   "cell_type": "code",
   "execution_count": 44,
   "id": "virtual-punch",
   "metadata": {
    "id": "virtual-punch"
   },
   "outputs": [],
   "source": [
    "# Fusionar los DataFrames para obtener los datos necesarios\n",
    "merged_df = pd.merge(order_products, instacart_orders, on='order_id')"
   ]
  },
  {
   "cell_type": "code",
   "execution_count": 45,
   "id": "sensitive-breathing",
   "metadata": {
    "id": "sensitive-breathing"
   },
   "outputs": [],
   "source": [
    "# Agrupar los datos por 'order_id' y contar el número de artículos en cada orden\n",
    "articulos_por_pedido = merged_df.groupby('order_id')['product_id'].count()"
   ]
  },
  {
   "cell_type": "code",
   "execution_count": 46,
   "id": "completed-frank",
   "metadata": {
    "id": "completed-frank",
    "scrolled": false
   },
   "outputs": [
    {
     "data": {
      "image/png": "[encoded data removed]",
      "text/plain": [
       "<Figure size 720x432 with 1 Axes>"
      ]
     },
     "metadata": {
      "needs_background": "light"
     },
     "output_type": "display_data"
    }
   ],
   "source": [
    "# Graficar la distribución del número de artículos por pedido\n",
    "plt.figure(figsize=(10, 6))\n",
    "plt.hist(articulos_por_pedido, bins=50)\n",
    "plt.title('Distribución del número de artículos por pedido')\n",
    "plt.xlabel('Número de artículos por pedido')\n",
    "plt.ylabel('Frecuencia')\n",
    "plt.grid(True)\n",
    "plt.xlim(0, max(articulos_por_pedido))\n",
    "plt.show()"
   ]
  },
  {
   "cell_type": "markdown",
   "id": "designed-mortality",
   "metadata": {
    "id": "designed-mortality"
   },
   "source": [
    "Escribe aquí tus conclusiones\n",
    "\n",
    "Aquí se puede observar que los clientes compran en mayor proporción menos de 10 productos, el mayor pico se sitúa entre 0 y 10.\n"
   ]
  },
  {
   "cell_type": "markdown",
   "id": "5e6b5537",
   "metadata": {
    "id": "5e6b5537"
   },
   "source": [
    "### [C2] ¿Cuáles son los 20 principales artículos que vuelven a pedirse con mayor frecuencia (muestra sus nombres e IDs de los productos)?"
   ]
  },
  {
   "cell_type": "code",
   "execution_count": 47,
   "id": "9374e55a",
   "metadata": {
    "id": "9374e55a"
   },
   "outputs": [],
   "source": [
    "# Fusionar los DataFrames para obtener los nombres de los productos\n",
    "merged_df = pd.merge(order_products, products, on='product_id')"
   ]
  },
  {
   "cell_type": "code",
   "execution_count": 48,
   "id": "possible-change",
   "metadata": {
    "id": "possible-change",
    "scrolled": true
   },
   "outputs": [],
   "source": [
    "# Calcular la frecuencia de cada producto que ha sido reordenado\n",
    "reordered_product_frequency = merged_df[merged_df['reordered'] == 1]['product_id'].value_counts()"
   ]
  },
  {
   "cell_type": "code",
   "execution_count": 49,
   "id": "professional-surfing",
   "metadata": {
    "id": "professional-surfing",
    "scrolled": true
   },
   "outputs": [],
   "source": [
    "# Obtener los 20 productos que se vuelven a pedir con mayor frecuencia\n",
    "top_20_reordered_products = reordered_product_frequency.head(20)"
   ]
  },
  {
   "cell_type": "code",
   "execution_count": 50,
   "id": "48dd3658",
   "metadata": {
    "id": "48dd3658"
   },
   "outputs": [
    {
     "name": "stdout",
     "output_type": "stream",
     "text": [
      "    product_id              product_name  reorder_frequency\n",
      "0        24852                    BANANA              55763\n",
      "1        13176    BAG OF ORGANIC BANANAS              44450\n",
      "2        21137      ORGANIC STRAWBERRIES              28639\n",
      "3        21903      ORGANIC BABY SPINACH              26233\n",
      "4        47209      ORGANIC HASS AVOCADO              23629\n",
      "5        47766           ORGANIC AVOCADO              18743\n",
      "6        27845        ORGANIC WHOLE MILK              16251\n",
      "7        47626               LARGE LEMON              15044\n",
      "8        27966       ORGANIC RASPBERRIES              14748\n",
      "9        16797              STRAWBERRIES              13945\n",
      "10       26209                     LIMES              13327\n",
      "11       22935      ORGANIC YELLOW ONION              11145\n",
      "12       24964            ORGANIC GARLIC              10411\n",
      "13       45007          ORGANIC ZUCCHINI              10076\n",
      "14       49683            CUCUMBER KIRBY               9538\n",
      "15       28204        ORGANIC FUJI APPLE               8989\n",
      "16        8277  APPLE HONEYCRISP ORGANIC               8836\n",
      "17       39275       ORGANIC BLUEBERRIES               8799\n",
      "18        5876             ORGANIC LEMON               8412\n",
      "19       49235       ORGANIC HALF & HALF               8389\n"
     ]
    }
   ],
   "source": [
    "# Fusionar con el DataFrame de productos para obtener los nombres de los productos\n",
    "top_20_reordered_products = pd.DataFrame(top_20_reordered_products).reset_index()\n",
    "top_20_reordered_products.columns = ['product_id', 'reorder_frequency']\n",
    "top_20_reordered_products = pd.merge(top_20_reordered_products, products, on='product_id')[['product_id', 'product_name', 'reorder_frequency']]\n",
    "\n",
    "# Mostrar los resultados\n",
    "print(top_20_reordered_products)"
   ]
  },
  {
   "cell_type": "markdown",
   "id": "80e70c74",
   "metadata": {
    "id": "80e70c74"
   },
   "source": [
    "Escribe aquí tus conclusiones\n",
    "\n",
    "Muchos de los productos en la lista son orgánicos, como bananas orgánicas, aguacates orgánicos, espinacas orgánicas para bebés, etc. Esto puede indicar una preferencia creciente de los clientes por productos orgánicos y saludables. Lo anterior sugiere que hay una alta demanda de productos saludables."
   ]
  },
  {
   "cell_type": "markdown",
   "id": "9d312b14",
   "metadata": {
    "id": "9d312b14"
   },
   "source": [
    "### [C3] Para cada producto, ¿cuál es la proporción de las veces que se pide y que se vuelve a pedir?"
   ]
  },
  {
   "cell_type": "code",
   "execution_count": 51,
   "id": "8ae9f4b1",
   "metadata": {
    "id": "8ae9f4b1"
   },
   "outputs": [
    {
     "name": "stdout",
     "output_type": "stream",
     "text": [
      "    product_id              product_name  reorder_proportion\n",
      "0        24852                    BANANA            0.844254\n",
      "1        13176    BAG OF ORGANIC BANANAS            0.834006\n",
      "2        21137      ORGANIC STRAWBERRIES            0.773212\n",
      "3        21903      ORGANIC BABY SPINACH            0.772217\n",
      "4        47209      ORGANIC HASS AVOCADO            0.793639\n",
      "5        47766           ORGANIC AVOCADO            0.759164\n",
      "6        27845        ORGANIC WHOLE MILK            0.829133\n",
      "7        47626               LARGE LEMON            0.699884\n",
      "8        27966       ORGANIC RASPBERRIES            0.768245\n",
      "9        16797              STRAWBERRIES            0.696623\n",
      "10       26209                     LIMES            0.676841\n",
      "11       22935      ORGANIC YELLOW ONION            0.701032\n",
      "12       24964            ORGANIC GARLIC            0.680813\n",
      "13       45007          ORGANIC ZUCCHINI            0.690894\n",
      "14       49683            CUCUMBER KIRBY            0.697477\n",
      "15       28204        ORGANIC FUJI APPLE            0.716598\n",
      "16        8277  APPLE HONEYCRISP ORGANIC            0.736763\n",
      "17       39275       ORGANIC BLUEBERRIES            0.633979\n",
      "18        5876             ORGANIC LEMON            0.687704\n",
      "19       49235       ORGANIC HALF & HALF            0.780227\n"
     ]
    }
   ],
   "source": [
    "# Calcular el número total de veces que se pide cada producto\n",
    "total_ordered_product_frequency = merged_df['product_id'].value_counts()\n",
    "\n",
    "# Calcular el número de veces que se vuelve a pedir para los 20 productos más solicitados\n",
    "reordered_products = top_20_reordered_products['product_id'].tolist()\n",
    "reorder_frequency = merged_df[merged_df['product_id'].isin(reordered_products) & merged_df['reordered'] == 1]['product_id'].value_counts()\n",
    "\n",
    "# Calcular la proporción de las veces que se pide y que se vuelve a pedir para cada producto\n",
    "reorder_proportions = reorder_frequency / total_ordered_product_frequency.loc[reorder_frequency.index]\n",
    "\n",
    "# Fusionar con el DataFrame de productos para obtener los nombres de los productos\n",
    "reorder_proportions_df = pd.DataFrame(reorder_proportions).reset_index()\n",
    "reorder_proportions_df.columns = ['product_id', 'reorder_proportion']\n",
    "reorder_proportions_df = pd.merge(reorder_proportions_df, products, on='product_id')[['product_id', 'product_name', 'reorder_proportion']]\n",
    "\n",
    "# Mostrar los resultados\n",
    "print(reorder_proportions_df)"
   ]
  },
  {
   "cell_type": "code",
   "execution_count": 52,
   "id": "103e7fe1",
   "metadata": {
    "id": "103e7fe1"
   },
   "outputs": [
    {
     "name": "stdout",
     "output_type": "stream",
     "text": [
      "    product_id                                       product_name  \\\n",
      "0            1                         CHOCOLATE SANDWICH COOKIES   \n",
      "1            2                                   ALL-SEASONS SALT   \n",
      "2            3               ROBUST GOLDEN UNSWEETENED OOLONG TEA   \n",
      "3            4  SMART ONES CLASSIC FAVORITES MINI RIGATONI WIT...   \n",
      "4            7                     PURE COCONUT WATER WITH ORANGE   \n",
      "5            8                  CUT RUSSET POTATOES STEAM N' MASH   \n",
      "6            9                  LIGHT STRAWBERRY BLUEBERRY YOGURT   \n",
      "7           10     SPARKLING ORANGE JUICE & PRICKLY PEAR BEVERAGE   \n",
      "8           11                                  PEACH MANGO JUICE   \n",
      "9           12                         CHOCOLATE FUDGE LAYER CAKE   \n",
      "10          13                                  SALINE NASAL MIST   \n",
      "11          14                     FRESH SCENT DISHWASHER CLEANER   \n",
      "12          17                                  RENDERED DUCK FAT   \n",
      "13          18                PIZZA FOR ONE SUPREMA  FROZEN PIZZA   \n",
      "14          19   GLUTEN FREE QUINOA THREE CHEESE & MUSHROOM BLEND   \n",
      "15          21                   SMALL & MEDIUM DENTAL DOG TREATS   \n",
      "16          22                  FRESH BREATH ORAL RINSE MILD MINT   \n",
      "17          23                             ORGANIC TURKEY BURGERS   \n",
      "18          24  TRI-VI-SOL® VITAMINS A-C-AND D SUPPLEMENT DROP...   \n",
      "19          25            SALTED CARAMEL LEAN PROTEIN & FIBER BAR   \n",
      "\n",
      "    reorder_rate  \n",
      "0       0.564286  \n",
      "1       0.000000  \n",
      "2       0.738095  \n",
      "3       0.510204  \n",
      "4       0.500000  \n",
      "5       0.315789  \n",
      "6       0.761905  \n",
      "7       0.448071  \n",
      "8       0.625000  \n",
      "9       0.390244  \n",
      "10      0.500000  \n",
      "11      0.000000  \n",
      "12      0.000000  \n",
      "13      0.533333  \n",
      "14      0.000000  \n",
      "15      0.000000  \n",
      "16      0.500000  \n",
      "17      0.380952  \n",
      "18      0.000000  \n",
      "19      0.674576  \n"
     ]
    }
   ],
   "source": [
    "# Contar el número total de pedidos para cada producto\n",
    "total_orders_per_product = merged_df.groupby('product_id')['order_id'].nunique()\n",
    "\n",
    "# Contar el número de repeticiones de pedidos para cada producto\n",
    "reordered_orders_per_product = merged_df.groupby('product_id')['reordered'].sum()\n",
    "\n",
    "# Calcular la tasa de repetición del pedido para cada producto\n",
    "reorder_rate_per_product = reordered_orders_per_product / total_orders_per_product\n",
    "\n",
    "# Combinar con el DataFrame de productos para obtener los nombres de los productos\n",
    "reorder_rate_df = pd.DataFrame({'product_id': reorder_rate_per_product.index, 'reorder_rate': reorder_rate_per_product.values})\n",
    "reorder_rate_df = pd.merge(reorder_rate_df, products, on='product_id')[['product_id', 'product_name', 'reorder_rate']]\n",
    "\n",
    "# Mostrar los resultados\n",
    "print(reorder_rate_df.head(20))"
   ]
  },
  {
   "cell_type": "markdown",
   "id": "I10dEIAyldcO",
   "metadata": {
    "id": "I10dEIAyldcO"
   },
   "source": [
    "Escribe aquí tus conclusiones\n",
    "\n",
    "Aquí hice la proporción de las veces que se pide y que se vuelve a pedir para los 20 productos que se piden con mayor frecuencia y los productos en del DataFrame en general. Para los 20 productos que se piden con mayor frecuencua los productos como bananas, bolsa de plátanos orgánicos, fresas orgánicas, aguacates orgánicos y leche entera orgánica tienen proporciones de reorden relativamente altas, lo que sugiere una alta fidelidad del cliente hacia estos productos. Los clientes tienden a comprarlos repetidamente. Algunos productos, como arándanos orgánicos, limones orgánicos y arándanos orgánicos, tienen proporciones de reorden relativamente más bajas en comparación con otros en la lista. Esto podría indicar que los clientes no los compran con tanta frecuencia como otros productos."
   ]
  },
  {
   "cell_type": "markdown",
   "id": "subject-boxing",
   "metadata": {
    "id": "subject-boxing"
   },
   "source": [
    "### [C4] Para cada cliente, ¿qué proporción de sus productos ya los había pedido?"
   ]
  },
  {
   "cell_type": "code",
   "execution_count": 53,
   "id": "medical-couple",
   "metadata": {
    "id": "medical-couple",
    "scrolled": false
   },
   "outputs": [
    {
     "name": "stdout",
     "output_type": "stream",
     "text": [
      "user_id\n",
      "2         0.040000\n",
      "4              NaN\n",
      "5         0.666667\n",
      "6              NaN\n",
      "7         0.923077\n",
      "            ...   \n",
      "206203    0.222222\n",
      "206206    0.705882\n",
      "206207    0.848485\n",
      "206208    0.612500\n",
      "206209    0.320000\n",
      "Name: product_id, Length: 149626, dtype: float64\n"
     ]
    }
   ],
   "source": [
    "# Fusionar los DataFrames para obtener los datos necesarios\n",
    "merged_df = pd.merge(order_products, instacart_orders, on='order_id')\n",
    "\n",
    "# Filtrar los datos para incluir solo productos que se han vuelto a pedir\n",
    "productos_reordenados = merged_df[merged_df['reordered'] == 1]\n",
    "\n",
    "# Agrupar los datos por cliente y calcular la cantidad total de productos únicos pedidos por cada cliente\n",
    "productos_totales_por_cliente = merged_df.groupby('user_id')['product_id'].nunique()\n",
    "\n",
    "# Agrupar los datos filtrados por productos reordenados por cliente y calcular la cantidad de productos únicos reordenados por cliente\n",
    "productos_reordenados_por_cliente = productos_reordenados.groupby('user_id')['product_id'].nunique()\n",
    "\n",
    "# Calcular la proporción dividiendo la cantidad de productos reordenados entre la cantidad total de productos\n",
    "proporcion_repetidos_por_cliente = productos_reordenados_por_cliente / productos_totales_por_cliente\n",
    "\n",
    "# Mostrar los resultados\n",
    "print(proporcion_repetidos_por_cliente)"
   ]
  },
  {
   "cell_type": "markdown",
   "id": "BgJSvXDsleXz",
   "metadata": {
    "id": "BgJSvXDsleXz"
   },
   "source": [
    "Escribe aquí tus conclusiones\n",
    "\n",
    "El resultado muestra la proporción de productos que cada cliente ha vuelto a pedir, donde NaN indica que no hay datos disponibles para ese usuario. Aquí hay algunas conclusiones que se pueden extraer:\n",
    "\n",
    "Hay una variabilidad en la proporción de productos que los clientes vuelven a pedir. Algunos clientes tienen una alta proporción de productos repetidos, mientras que otros tienen una proporción más baja. Los clientes con una proporción alta tienden a volver a pedir una gran cantidad de productos que ya han comprado antes. Esto podría indicar una mayor lealtad del cliente hacia ciertos productos. Identificar los productos que los clientes suelen volver a pedir podría ayudar a desarrollar estrategias de retención de clientes, como promociones específicas para esos productos o sugerencias personalizadas en la aplicación para fomentar la repetición de pedidos. La presencia de valores NaN indica que no hay suficientes datos disponibles para algunos usuarios. Esto podría ser debido a que son nuevos clientes que aún no han realizado suficientes pedidos para calcular la proporción o a problemas de integridad de los datos que requieren una mayor limpieza y validación. Es importante abordar estos casos para obtener una imagen completa de la repetición de pedidos entre todos los clientes."
   ]
  },
  {
   "cell_type": "markdown",
   "id": "92d35137",
   "metadata": {
    "id": "92d35137"
   },
   "source": [
    "### [C5] ¿Cuáles son los 20 principales artículos que las personas ponen primero en sus carritos?"
   ]
  },
  {
   "cell_type": "code",
   "execution_count": 54,
   "id": "0ae57274",
   "metadata": {
    "id": "0ae57274",
    "scrolled": true
   },
   "outputs": [],
   "source": [
    "# Fusionar los DataFrames para obtener los nombres de los productos\n",
    "merged_df = pd.merge(order_products, products, on='product_id')"
   ]
  },
  {
   "cell_type": "code",
   "execution_count": 55,
   "id": "forty-netherlands",
   "metadata": {
    "id": "forty-netherlands",
    "scrolled": true
   },
   "outputs": [],
   "source": [
    "# Filtrar los productos que se agregaron primero al carrito (add_to_cart_order == 1)\n",
    "first_in_cart = merged_df[merged_df['add_to_cart_order'] == 1]"
   ]
  },
  {
   "cell_type": "code",
   "execution_count": 56,
   "id": "08e41ec2",
   "metadata": {
    "id": "08e41ec2"
   },
   "outputs": [
    {
     "name": "stdout",
     "output_type": "stream",
     "text": [
      "BANANA                         15562\n",
      "BAG OF ORGANIC BANANAS         11026\n",
      "ORGANIC WHOLE MILK              4363\n",
      "ORGANIC STRAWBERRIES            3946\n",
      "ORGANIC HASS AVOCADO            3390\n",
      "ORGANIC BABY SPINACH            3336\n",
      "ORGANIC AVOCADO                 3044\n",
      "SPRING WATER                    2336\n",
      "STRAWBERRIES                    2308\n",
      "ORGANIC RASPBERRIES             2024\n",
      "SPARKLING WATER GRAPEFRUIT      1914\n",
      "ORGANIC HALF & HALF             1797\n",
      "LARGE LEMON                     1737\n",
      "SODA                            1733\n",
      "ORGANIC REDUCED FAT MILK        1397\n",
      "LIMES                           1370\n",
      "HASS AVOCADOS                   1340\n",
      "ORGANIC REDUCED FAT 2% MILK     1310\n",
      "HALF & HALF                     1309\n",
      "ORGANIC YELLOW ONION            1246\n",
      "Name: product_name, dtype: int64\n"
     ]
    }
   ],
   "source": [
    "# Contar la frecuencia de cada producto agregado primero al carrito\n",
    "top_20_first_in_cart = first_in_cart['product_name'].value_counts().head(20)\n",
    "\n",
    "# Mostrar los resultados\n",
    "print(top_20_first_in_cart)"
   ]
  },
  {
   "cell_type": "markdown",
   "id": "28ce9872",
   "metadata": {
    "id": "28ce9872"
   },
   "source": [
    "Escribe aquí tus conclusiones\n",
    "\n",
    "Basado en los resultados, podemos observar que los productos más comunes que las personas suelen poner primero en sus carritos son principalmente alimentos frescos y básicos, como frutas y verduras orgánicas (como plátanos, aguacates, fresas y espinacas), así como productos lácteos como leche orgánica y mitad y mitad. También se observan elementos de conveniencia, como agua embotellada y refrescos. Esto sugiere que los usuarios tienden a priorizar alimentos frescos y productos esenciales al iniciar sus compras."
   ]
  },
  {
   "cell_type": "markdown",
   "id": "uITbFCEoDosC",
   "metadata": {
    "id": "uITbFCEoDosC"
   },
   "source": [
    "### Conclusion general del proyecto:"
   ]
  },
  {
   "cell_type": "markdown",
   "id": "dbcf795b",
   "metadata": {},
   "source": [
    "La conclusión general del proyecto es que, mediante el análisis de los datos proporcionados por Instacart, hemos obtenido una comprensión profunda de los patrones de compra de los clientes, las tendencias de pedido y la popularidad de los productos. Algunas de las conclusiones clave que podemos extraer del proyecto incluyen:\n",
    "\n",
    "- Patrones de compra por hora y día: Hemos identificado las horas del día y los días de la semana en que los clientes tienden a realizar más pedidos, lo que puede ser útil para la planificación de inventario y la asignación de recursos.\n",
    "- Comportamiento de repetición de pedidos: Analizamos la frecuencia con la que los clientes vuelven a pedir ciertos productos, lo que sugiere lealtad hacia ciertos artículos y podría ayudar en estrategias de marketing y promoción.\n",
    "- Popularidad de productos: Identificamos los productos más populares entre los clientes, lo que puede guiar las decisiones de inventario y las estrategias de marketing.\n",
    "- Número de artículos por pedido: Observamos la distribución del número de artículos por pedido, lo que proporciona información sobre el tamaño típico de los pedidos de los clientes.\n",
    "- Comportamiento al agregar productos al carrito: Identificamos los productos que los clientes suelen agregar primero a su carrito de compras, lo que puede ser útil para optimizar la presentación de productos en la aplicación o sitio web.\n",
    "\n",
    "En resumen, el proyecto nos ha permitido comprender mejor el comportamiento de compra de los clientes de Instacart, lo que puede ser valioso para tomar decisiones comerciales informadas y mejorar la experiencia del cliente."
   ]
  }
 ],
 "metadata": {
  "colab": {
   "provenance": []
  },
  "kernelspec": {
   "display_name": "Python 3 (ipykernel)",
   "language": "python",
   "name": "python3"
  },
  "language_info": {
   "codemirror_mode": {
    "name": "ipython",
    "version": 3
   },
   "file_extension": ".py",
   "mimetype": "text/x-python",
   "name": "python",
   "nbconvert_exporter": "python",
   "pygments_lexer": "ipython3",
   "version": "3.9.19"
  },
  "toc": {
   "base_numbering": 1,
   "nav_menu": {},
   "number_sections": true,
   "sideBar": true,
   "skip_h1_title": true,
   "title_cell": "Table of Contents",
   "title_sidebar": "Contents",
   "toc_cell": false,
   "toc_position": {},
   "toc_section_display": true,
   "toc_window_display": false
  },
  "vscode": {
   "interpreter": {
    "hash": "01a7be9ec63e704a62cefc5fe7a4756944464ee731be31632bdf42a4cb4688cf"
   }
  }
 },
 "nbformat": 4,
 "nbformat_minor": 5
}
