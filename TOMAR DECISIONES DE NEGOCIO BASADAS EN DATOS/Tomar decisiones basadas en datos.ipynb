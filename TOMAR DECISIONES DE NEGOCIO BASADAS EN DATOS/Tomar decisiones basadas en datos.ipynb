{
 "cells": [
  {
   "cell_type": "markdown",
   "metadata": {},
   "source": [
    "# Descripción del proyecto"
   ]
  },
  {
   "cell_type": "markdown",
   "metadata": {},
   "source": [
    "Este proyecto tiene el propósito de maximizar los ingresos de nuestra tienda online mediante un análisis detallado de diversas hipótesis de mejora. En colaboración con el departamento de marketing, hemos recopilado un conjunto de hipótesis que se enfocan en optimizar la experiencia del usuario y las estrategias de conversión.\n",
    "\n",
    "La primera parte del proyecto se centrará en la priorización de estas hipótesis utilizando los marcos de trabajo ICE (Impacto, Confianza, Esfuerzo) y RICE (Alcance, Impacto, Confianza, Esfuerzo). A través de este proceso, clasificaremos las hipótesis según su potencial para influir en los ingresos y el esfuerzo requerido para implementarlas.\n",
    "\n",
    "En la segunda parte, realizaremos un análisis del test A/B para evaluar el rendimiento de cada hipótesis a través de datos de transacciones y visitas. Esto incluirá la comparación de métricas clave como ingresos acumulados, tamaño promedio de pedido y tasas de conversión. También aplicaremos métodos estadísticos para determinar la significancia de las diferencias observadas, lo que nos permitirá tomar decisiones informadas sobre la efectividad de las hipótesis probadas.\n",
    "\n",
    "El objetivo final de este proyecto es no solo incrementar los ingresos, sino también sentar las bases para futuras estrategias de marketing y desarrollo, mejorando así la experiencia general del cliente en nuestra tienda online."
   ]
  },
  {
   "cell_type": "markdown",
   "metadata": {},
   "source": [
    "# Parte 1. Priorizar hipótesis"
   ]
  },
  {
   "cell_type": "code",
   "execution_count": 1,
   "metadata": {},
   "outputs": [],
   "source": [
    "#Importar librerías\n",
    "import pandas as pd\n",
    "import numpy as np\n",
    "import matplotlib.pyplot as plt\n",
    "import datetime as dt\n",
    "from scipy import stats"
   ]
  },
  {
   "cell_type": "code",
   "execution_count": 2,
   "metadata": {},
   "outputs": [],
   "source": [
    "#Cargar el archivo de hipótesis\n",
    "hipotesis = pd.read_csv('/datasets/hypotheses_us.csv', sep=';')"
   ]
  },
  {
   "cell_type": "code",
   "execution_count": 3,
   "metadata": {},
   "outputs": [
    {
     "data": {
      "text/html": [
       "<div>\n",
       "<style scoped>\n",
       "    .dataframe tbody tr th:only-of-type {\n",
       "        vertical-align: middle;\n",
       "    }\n",
       "\n",
       "    .dataframe tbody tr th {\n",
       "        vertical-align: top;\n",
       "    }\n",
       "\n",
       "    .dataframe thead th {\n",
       "        text-align: right;\n",
       "    }\n",
       "</style>\n",
       "<table border=\"1\" class=\"dataframe\">\n",
       "  <thead>\n",
       "    <tr style=\"text-align: right;\">\n",
       "      <th></th>\n",
       "      <th>Hypothesis</th>\n",
       "      <th>Reach</th>\n",
       "      <th>Impact</th>\n",
       "      <th>Confidence</th>\n",
       "      <th>Effort</th>\n",
       "    </tr>\n",
       "  </thead>\n",
       "  <tbody>\n",
       "    <tr>\n",
       "      <th>0</th>\n",
       "      <td>Add two new channels for attracting traffic. T...</td>\n",
       "      <td>3</td>\n",
       "      <td>10</td>\n",
       "      <td>8</td>\n",
       "      <td>6</td>\n",
       "    </tr>\n",
       "    <tr>\n",
       "      <th>1</th>\n",
       "      <td>Launch your own delivery service. This will sh...</td>\n",
       "      <td>2</td>\n",
       "      <td>5</td>\n",
       "      <td>4</td>\n",
       "      <td>10</td>\n",
       "    </tr>\n",
       "    <tr>\n",
       "      <th>2</th>\n",
       "      <td>Add product recommendation blocks to the store...</td>\n",
       "      <td>8</td>\n",
       "      <td>3</td>\n",
       "      <td>7</td>\n",
       "      <td>3</td>\n",
       "    </tr>\n",
       "    <tr>\n",
       "      <th>3</th>\n",
       "      <td>Change the category structure. This will incre...</td>\n",
       "      <td>8</td>\n",
       "      <td>3</td>\n",
       "      <td>3</td>\n",
       "      <td>8</td>\n",
       "    </tr>\n",
       "    <tr>\n",
       "      <th>4</th>\n",
       "      <td>Change the background color on the main page. ...</td>\n",
       "      <td>3</td>\n",
       "      <td>1</td>\n",
       "      <td>1</td>\n",
       "      <td>1</td>\n",
       "    </tr>\n",
       "    <tr>\n",
       "      <th>5</th>\n",
       "      <td>Add a customer review page. This will increase...</td>\n",
       "      <td>3</td>\n",
       "      <td>2</td>\n",
       "      <td>2</td>\n",
       "      <td>3</td>\n",
       "    </tr>\n",
       "    <tr>\n",
       "      <th>6</th>\n",
       "      <td>Show banners with current offers and sales on ...</td>\n",
       "      <td>5</td>\n",
       "      <td>3</td>\n",
       "      <td>8</td>\n",
       "      <td>3</td>\n",
       "    </tr>\n",
       "    <tr>\n",
       "      <th>7</th>\n",
       "      <td>Add a subscription form to all the main pages....</td>\n",
       "      <td>10</td>\n",
       "      <td>7</td>\n",
       "      <td>8</td>\n",
       "      <td>5</td>\n",
       "    </tr>\n",
       "    <tr>\n",
       "      <th>8</th>\n",
       "      <td>Launch a promotion that gives users discounts ...</td>\n",
       "      <td>1</td>\n",
       "      <td>9</td>\n",
       "      <td>9</td>\n",
       "      <td>5</td>\n",
       "    </tr>\n",
       "  </tbody>\n",
       "</table>\n",
       "</div>"
      ],
      "text/plain": [
       "                                          Hypothesis  Reach  Impact  \\\n",
       "0  Add two new channels for attracting traffic. T...      3      10   \n",
       "1  Launch your own delivery service. This will sh...      2       5   \n",
       "2  Add product recommendation blocks to the store...      8       3   \n",
       "3  Change the category structure. This will incre...      8       3   \n",
       "4  Change the background color on the main page. ...      3       1   \n",
       "5  Add a customer review page. This will increase...      3       2   \n",
       "6  Show banners with current offers and sales on ...      5       3   \n",
       "7  Add a subscription form to all the main pages....     10       7   \n",
       "8  Launch a promotion that gives users discounts ...      1       9   \n",
       "\n",
       "   Confidence  Effort  \n",
       "0           8       6  \n",
       "1           4      10  \n",
       "2           7       3  \n",
       "3           3       8  \n",
       "4           1       1  \n",
       "5           2       3  \n",
       "6           8       3  \n",
       "7           8       5  \n",
       "8           9       5  "
      ]
     },
     "execution_count": 3,
     "metadata": {},
     "output_type": "execute_result"
    }
   ],
   "source": [
    "#Verificar que se haya cargado correctamente\n",
    "hipotesis"
   ]
  },
  {
   "cell_type": "code",
   "execution_count": 4,
   "metadata": {},
   "outputs": [
    {
     "name": "stdout",
     "output_type": "stream",
     "text": [
      "<class 'pandas.core.frame.DataFrame'>\n",
      "RangeIndex: 9 entries, 0 to 8\n",
      "Data columns (total 5 columns):\n",
      " #   Column      Non-Null Count  Dtype \n",
      "---  ------      --------------  ----- \n",
      " 0   Hypothesis  9 non-null      object\n",
      " 1   Reach       9 non-null      int64 \n",
      " 2   Impact      9 non-null      int64 \n",
      " 3   Confidence  9 non-null      int64 \n",
      " 4   Effort      9 non-null      int64 \n",
      "dtypes: int64(4), object(1)\n",
      "memory usage: 488.0+ bytes\n"
     ]
    }
   ],
   "source": [
    "#Verificar información general\n",
    "hipotesis.info()"
   ]
  },
  {
   "cell_type": "code",
   "execution_count": 5,
   "metadata": {},
   "outputs": [],
   "source": [
    "#Calcular el ICE\n",
    "hipotesis['ICE'] = hipotesis['Impact'] * hipotesis['Confidence'] / hipotesis['Effort']"
   ]
  },
  {
   "cell_type": "code",
   "execution_count": 6,
   "metadata": {},
   "outputs": [
    {
     "data": {
      "text/html": [
       "<div>\n",
       "<style scoped>\n",
       "    .dataframe tbody tr th:only-of-type {\n",
       "        vertical-align: middle;\n",
       "    }\n",
       "\n",
       "    .dataframe tbody tr th {\n",
       "        vertical-align: top;\n",
       "    }\n",
       "\n",
       "    .dataframe thead th {\n",
       "        text-align: right;\n",
       "    }\n",
       "</style>\n",
       "<table border=\"1\" class=\"dataframe\">\n",
       "  <thead>\n",
       "    <tr style=\"text-align: right;\">\n",
       "      <th></th>\n",
       "      <th>Hypothesis</th>\n",
       "      <th>Reach</th>\n",
       "      <th>Impact</th>\n",
       "      <th>Confidence</th>\n",
       "      <th>Effort</th>\n",
       "      <th>ICE</th>\n",
       "    </tr>\n",
       "  </thead>\n",
       "  <tbody>\n",
       "    <tr>\n",
       "      <th>8</th>\n",
       "      <td>Launch a promotion that gives users discounts ...</td>\n",
       "      <td>1</td>\n",
       "      <td>9</td>\n",
       "      <td>9</td>\n",
       "      <td>5</td>\n",
       "      <td>16.200000</td>\n",
       "    </tr>\n",
       "    <tr>\n",
       "      <th>0</th>\n",
       "      <td>Add two new channels for attracting traffic. T...</td>\n",
       "      <td>3</td>\n",
       "      <td>10</td>\n",
       "      <td>8</td>\n",
       "      <td>6</td>\n",
       "      <td>13.333333</td>\n",
       "    </tr>\n",
       "    <tr>\n",
       "      <th>7</th>\n",
       "      <td>Add a subscription form to all the main pages....</td>\n",
       "      <td>10</td>\n",
       "      <td>7</td>\n",
       "      <td>8</td>\n",
       "      <td>5</td>\n",
       "      <td>11.200000</td>\n",
       "    </tr>\n",
       "    <tr>\n",
       "      <th>6</th>\n",
       "      <td>Show banners with current offers and sales on ...</td>\n",
       "      <td>5</td>\n",
       "      <td>3</td>\n",
       "      <td>8</td>\n",
       "      <td>3</td>\n",
       "      <td>8.000000</td>\n",
       "    </tr>\n",
       "    <tr>\n",
       "      <th>2</th>\n",
       "      <td>Add product recommendation blocks to the store...</td>\n",
       "      <td>8</td>\n",
       "      <td>3</td>\n",
       "      <td>7</td>\n",
       "      <td>3</td>\n",
       "      <td>7.000000</td>\n",
       "    </tr>\n",
       "    <tr>\n",
       "      <th>1</th>\n",
       "      <td>Launch your own delivery service. This will sh...</td>\n",
       "      <td>2</td>\n",
       "      <td>5</td>\n",
       "      <td>4</td>\n",
       "      <td>10</td>\n",
       "      <td>2.000000</td>\n",
       "    </tr>\n",
       "    <tr>\n",
       "      <th>5</th>\n",
       "      <td>Add a customer review page. This will increase...</td>\n",
       "      <td>3</td>\n",
       "      <td>2</td>\n",
       "      <td>2</td>\n",
       "      <td>3</td>\n",
       "      <td>1.333333</td>\n",
       "    </tr>\n",
       "    <tr>\n",
       "      <th>3</th>\n",
       "      <td>Change the category structure. This will incre...</td>\n",
       "      <td>8</td>\n",
       "      <td>3</td>\n",
       "      <td>3</td>\n",
       "      <td>8</td>\n",
       "      <td>1.125000</td>\n",
       "    </tr>\n",
       "    <tr>\n",
       "      <th>4</th>\n",
       "      <td>Change the background color on the main page. ...</td>\n",
       "      <td>3</td>\n",
       "      <td>1</td>\n",
       "      <td>1</td>\n",
       "      <td>1</td>\n",
       "      <td>1.000000</td>\n",
       "    </tr>\n",
       "  </tbody>\n",
       "</table>\n",
       "</div>"
      ],
      "text/plain": [
       "                                          Hypothesis  Reach  Impact  \\\n",
       "8  Launch a promotion that gives users discounts ...      1       9   \n",
       "0  Add two new channels for attracting traffic. T...      3      10   \n",
       "7  Add a subscription form to all the main pages....     10       7   \n",
       "6  Show banners with current offers and sales on ...      5       3   \n",
       "2  Add product recommendation blocks to the store...      8       3   \n",
       "1  Launch your own delivery service. This will sh...      2       5   \n",
       "5  Add a customer review page. This will increase...      3       2   \n",
       "3  Change the category structure. This will incre...      8       3   \n",
       "4  Change the background color on the main page. ...      3       1   \n",
       "\n",
       "   Confidence  Effort        ICE  \n",
       "8           9       5  16.200000  \n",
       "0           8       6  13.333333  \n",
       "7           8       5  11.200000  \n",
       "6           8       3   8.000000  \n",
       "2           7       3   7.000000  \n",
       "1           4      10   2.000000  \n",
       "5           2       3   1.333333  \n",
       "3           3       8   1.125000  \n",
       "4           1       1   1.000000  "
      ]
     },
     "execution_count": 6,
     "metadata": {},
     "output_type": "execute_result"
    }
   ],
   "source": [
    "#Mostrar los resultados del ICE de forma descendente\n",
    "hipotesis.sort_values(by='ICE', ascending=False)"
   ]
  },
  {
   "cell_type": "code",
   "execution_count": 7,
   "metadata": {},
   "outputs": [],
   "source": [
    "#Calular el RICE\n",
    "hipotesis['RICE'] = hipotesis['Reach'] * hipotesis['Impact'] * hipotesis['Confidence'] / hipotesis['Effort']"
   ]
  },
  {
   "cell_type": "code",
   "execution_count": 8,
   "metadata": {},
   "outputs": [
    {
     "data": {
      "text/html": [
       "<div>\n",
       "<style scoped>\n",
       "    .dataframe tbody tr th:only-of-type {\n",
       "        vertical-align: middle;\n",
       "    }\n",
       "\n",
       "    .dataframe tbody tr th {\n",
       "        vertical-align: top;\n",
       "    }\n",
       "\n",
       "    .dataframe thead th {\n",
       "        text-align: right;\n",
       "    }\n",
       "</style>\n",
       "<table border=\"1\" class=\"dataframe\">\n",
       "  <thead>\n",
       "    <tr style=\"text-align: right;\">\n",
       "      <th></th>\n",
       "      <th>Hypothesis</th>\n",
       "      <th>Reach</th>\n",
       "      <th>Impact</th>\n",
       "      <th>Confidence</th>\n",
       "      <th>Effort</th>\n",
       "      <th>ICE</th>\n",
       "      <th>RICE</th>\n",
       "    </tr>\n",
       "  </thead>\n",
       "  <tbody>\n",
       "    <tr>\n",
       "      <th>7</th>\n",
       "      <td>Add a subscription form to all the main pages....</td>\n",
       "      <td>10</td>\n",
       "      <td>7</td>\n",
       "      <td>8</td>\n",
       "      <td>5</td>\n",
       "      <td>11.200000</td>\n",
       "      <td>112.0</td>\n",
       "    </tr>\n",
       "    <tr>\n",
       "      <th>2</th>\n",
       "      <td>Add product recommendation blocks to the store...</td>\n",
       "      <td>8</td>\n",
       "      <td>3</td>\n",
       "      <td>7</td>\n",
       "      <td>3</td>\n",
       "      <td>7.000000</td>\n",
       "      <td>56.0</td>\n",
       "    </tr>\n",
       "    <tr>\n",
       "      <th>0</th>\n",
       "      <td>Add two new channels for attracting traffic. T...</td>\n",
       "      <td>3</td>\n",
       "      <td>10</td>\n",
       "      <td>8</td>\n",
       "      <td>6</td>\n",
       "      <td>13.333333</td>\n",
       "      <td>40.0</td>\n",
       "    </tr>\n",
       "    <tr>\n",
       "      <th>6</th>\n",
       "      <td>Show banners with current offers and sales on ...</td>\n",
       "      <td>5</td>\n",
       "      <td>3</td>\n",
       "      <td>8</td>\n",
       "      <td>3</td>\n",
       "      <td>8.000000</td>\n",
       "      <td>40.0</td>\n",
       "    </tr>\n",
       "    <tr>\n",
       "      <th>8</th>\n",
       "      <td>Launch a promotion that gives users discounts ...</td>\n",
       "      <td>1</td>\n",
       "      <td>9</td>\n",
       "      <td>9</td>\n",
       "      <td>5</td>\n",
       "      <td>16.200000</td>\n",
       "      <td>16.2</td>\n",
       "    </tr>\n",
       "    <tr>\n",
       "      <th>3</th>\n",
       "      <td>Change the category structure. This will incre...</td>\n",
       "      <td>8</td>\n",
       "      <td>3</td>\n",
       "      <td>3</td>\n",
       "      <td>8</td>\n",
       "      <td>1.125000</td>\n",
       "      <td>9.0</td>\n",
       "    </tr>\n",
       "    <tr>\n",
       "      <th>1</th>\n",
       "      <td>Launch your own delivery service. This will sh...</td>\n",
       "      <td>2</td>\n",
       "      <td>5</td>\n",
       "      <td>4</td>\n",
       "      <td>10</td>\n",
       "      <td>2.000000</td>\n",
       "      <td>4.0</td>\n",
       "    </tr>\n",
       "    <tr>\n",
       "      <th>5</th>\n",
       "      <td>Add a customer review page. This will increase...</td>\n",
       "      <td>3</td>\n",
       "      <td>2</td>\n",
       "      <td>2</td>\n",
       "      <td>3</td>\n",
       "      <td>1.333333</td>\n",
       "      <td>4.0</td>\n",
       "    </tr>\n",
       "    <tr>\n",
       "      <th>4</th>\n",
       "      <td>Change the background color on the main page. ...</td>\n",
       "      <td>3</td>\n",
       "      <td>1</td>\n",
       "      <td>1</td>\n",
       "      <td>1</td>\n",
       "      <td>1.000000</td>\n",
       "      <td>3.0</td>\n",
       "    </tr>\n",
       "  </tbody>\n",
       "</table>\n",
       "</div>"
      ],
      "text/plain": [
       "                                          Hypothesis  Reach  Impact  \\\n",
       "7  Add a subscription form to all the main pages....     10       7   \n",
       "2  Add product recommendation blocks to the store...      8       3   \n",
       "0  Add two new channels for attracting traffic. T...      3      10   \n",
       "6  Show banners with current offers and sales on ...      5       3   \n",
       "8  Launch a promotion that gives users discounts ...      1       9   \n",
       "3  Change the category structure. This will incre...      8       3   \n",
       "1  Launch your own delivery service. This will sh...      2       5   \n",
       "5  Add a customer review page. This will increase...      3       2   \n",
       "4  Change the background color on the main page. ...      3       1   \n",
       "\n",
       "   Confidence  Effort        ICE   RICE  \n",
       "7           8       5  11.200000  112.0  \n",
       "2           7       3   7.000000   56.0  \n",
       "0           8       6  13.333333   40.0  \n",
       "6           8       3   8.000000   40.0  \n",
       "8           9       5  16.200000   16.2  \n",
       "3           3       8   1.125000    9.0  \n",
       "1           4      10   2.000000    4.0  \n",
       "5           2       3   1.333333    4.0  \n",
       "4           1       1   1.000000    3.0  "
      ]
     },
     "execution_count": 8,
     "metadata": {},
     "output_type": "execute_result"
    }
   ],
   "source": [
    "#Mostrar los resultados del RICE de forma descendente\n",
    "hipotesis.sort_values(by='RICE', ascending=False)"
   ]
  },
  {
   "cell_type": "markdown",
   "metadata": {},
   "source": [
    "**Cambio en la priorización de hipótesis cuando se utiliza RICE en lugar de ICE.**"
   ]
  },
  {
   "cell_type": "code",
   "execution_count": 9,
   "metadata": {
    "scrolled": true
   },
   "outputs": [
    {
     "data": {
      "image/png": "[encoded data removed]",
      "text/plain": [
       "<Figure size 1400x800 with 1 Axes>"
      ]
     },
     "metadata": {},
     "output_type": "display_data"
    }
   ],
   "source": [
    "#Ordenar las hipótesis por valores de ICE y RICE para observar la priorización\n",
    "hipotesis_ice_sorted = hipotesis.sort_values(by='ICE', ascending=False)\n",
    "hipotesis_rice_sorted = hipotesis.sort_values(by='RICE', ascending=False)\n",
    "\n",
    "#Crear un gráfico de barras para comparar ICE y RICE\n",
    "plt.figure(figsize=(14, 8))\n",
    "\n",
    "#Graficar valores ICE\n",
    "plt.barh(hipotesis_ice_sorted['Hypothesis'], hipotesis_ice_sorted['ICE'], color='skyblue', label='ICE')\n",
    "\n",
    "#Graficar valores RICE\n",
    "plt.barh(hipotesis_rice_sorted['Hypothesis'], hipotesis_rice_sorted['RICE'], color='salmon', alpha=0.6, label='RICE')\n",
    "\n",
    "#Personalización del gráfico\n",
    "plt.xlabel('Valor de Prioridad')\n",
    "plt.title('Comparación de Prioridades de Hipótesis: ICE vs RICE')\n",
    "plt.legend()\n",
    "plt.gca().invert_yaxis()  # Invertir eje para mostrar la mayor prioridad arriba\n",
    "\n",
    "plt.show()"
   ]
  },
  {
   "cell_type": "markdown",
   "metadata": {},
   "source": [
    "Al comparar los resultados de priorización de hipótesis entre los frameworks ICE y RICE, se observa un cambio significativo en la clasificación de algunas hipótesis. En particular, al aplicar RICE, las hipótesis que tienen un alto valor de alcance (Reach) ganan más peso en la priorización, debido a que este framework toma en cuenta no solo el impacto y la facilidad de implementación, sino también el alcance potencial.\n",
    "\n",
    "Por ejemplo, la hipótesis \"Add a subscription form to all the main pages. This will help you compile a mailing list\" tiene una posición más alta en el ranking con RICE en comparación con ICE. Esto se debe a que su alcance es mucho mayor, lo cual incrementa su prioridad cuando se considera el potencial de llegar a más usuarios.\n",
    "\n",
    "En general, al usar el framework RICE, las hipótesis enfocadas en mejorar el alcance de las acciones (como aquellas relacionadas con formularios de suscripción y nuevos canales de tráfico) tienden a ser priorizadas sobre las que tienen un impacto directo pero limitado en términos de usuarios alcanzados. Esto refleja la importancia de considerar el tamaño de la audiencia objetivo en la priorización, especialmente en estrategias de marketing y crecimiento donde maximizar el alcance es crucial."
   ]
  },
  {
   "cell_type": "markdown",
   "metadata": {},
   "source": [
    "# Parte 2. Análisis del test A/B"
   ]
  },
  {
   "cell_type": "code",
   "execution_count": 10,
   "metadata": {},
   "outputs": [],
   "source": [
    "#Leer archivos de orders y visits\n",
    "ordenes = pd.read_csv('/datasets/orders_us.csv')\n",
    "visitas = pd.read_csv('/datasets/visits_us.csv')"
   ]
  },
  {
   "cell_type": "code",
   "execution_count": 11,
   "metadata": {},
   "outputs": [
    {
     "data": {
      "text/html": [
       "<div>\n",
       "<style scoped>\n",
       "    .dataframe tbody tr th:only-of-type {\n",
       "        vertical-align: middle;\n",
       "    }\n",
       "\n",
       "    .dataframe tbody tr th {\n",
       "        vertical-align: top;\n",
       "    }\n",
       "\n",
       "    .dataframe thead th {\n",
       "        text-align: right;\n",
       "    }\n",
       "</style>\n",
       "<table border=\"1\" class=\"dataframe\">\n",
       "  <thead>\n",
       "    <tr style=\"text-align: right;\">\n",
       "      <th></th>\n",
       "      <th>transactionId</th>\n",
       "      <th>visitorId</th>\n",
       "      <th>date</th>\n",
       "      <th>revenue</th>\n",
       "      <th>group</th>\n",
       "    </tr>\n",
       "  </thead>\n",
       "  <tbody>\n",
       "    <tr>\n",
       "      <th>0</th>\n",
       "      <td>3667963787</td>\n",
       "      <td>3312258926</td>\n",
       "      <td>2019-08-15</td>\n",
       "      <td>30.4</td>\n",
       "      <td>B</td>\n",
       "    </tr>\n",
       "    <tr>\n",
       "      <th>1</th>\n",
       "      <td>2804400009</td>\n",
       "      <td>3642806036</td>\n",
       "      <td>2019-08-15</td>\n",
       "      <td>15.2</td>\n",
       "      <td>B</td>\n",
       "    </tr>\n",
       "    <tr>\n",
       "      <th>2</th>\n",
       "      <td>2961555356</td>\n",
       "      <td>4069496402</td>\n",
       "      <td>2019-08-15</td>\n",
       "      <td>10.2</td>\n",
       "      <td>A</td>\n",
       "    </tr>\n",
       "    <tr>\n",
       "      <th>3</th>\n",
       "      <td>3797467345</td>\n",
       "      <td>1196621759</td>\n",
       "      <td>2019-08-15</td>\n",
       "      <td>155.1</td>\n",
       "      <td>B</td>\n",
       "    </tr>\n",
       "    <tr>\n",
       "      <th>4</th>\n",
       "      <td>2282983706</td>\n",
       "      <td>2322279887</td>\n",
       "      <td>2019-08-15</td>\n",
       "      <td>40.5</td>\n",
       "      <td>B</td>\n",
       "    </tr>\n",
       "    <tr>\n",
       "      <th>...</th>\n",
       "      <td>...</td>\n",
       "      <td>...</td>\n",
       "      <td>...</td>\n",
       "      <td>...</td>\n",
       "      <td>...</td>\n",
       "    </tr>\n",
       "    <tr>\n",
       "      <th>1192</th>\n",
       "      <td>2662137336</td>\n",
       "      <td>3733762160</td>\n",
       "      <td>2019-08-14</td>\n",
       "      <td>100.8</td>\n",
       "      <td>B</td>\n",
       "    </tr>\n",
       "    <tr>\n",
       "      <th>1193</th>\n",
       "      <td>2203539145</td>\n",
       "      <td>370388673</td>\n",
       "      <td>2019-08-14</td>\n",
       "      <td>50.1</td>\n",
       "      <td>A</td>\n",
       "    </tr>\n",
       "    <tr>\n",
       "      <th>1194</th>\n",
       "      <td>1807773912</td>\n",
       "      <td>573423106</td>\n",
       "      <td>2019-08-14</td>\n",
       "      <td>165.3</td>\n",
       "      <td>A</td>\n",
       "    </tr>\n",
       "    <tr>\n",
       "      <th>1195</th>\n",
       "      <td>1947021204</td>\n",
       "      <td>1614305549</td>\n",
       "      <td>2019-08-14</td>\n",
       "      <td>5.5</td>\n",
       "      <td>A</td>\n",
       "    </tr>\n",
       "    <tr>\n",
       "      <th>1196</th>\n",
       "      <td>3936777065</td>\n",
       "      <td>2108080724</td>\n",
       "      <td>2019-08-15</td>\n",
       "      <td>3120.1</td>\n",
       "      <td>B</td>\n",
       "    </tr>\n",
       "  </tbody>\n",
       "</table>\n",
       "<p>1197 rows × 5 columns</p>\n",
       "</div>"
      ],
      "text/plain": [
       "      transactionId   visitorId        date  revenue group\n",
       "0        3667963787  3312258926  2019-08-15     30.4     B\n",
       "1        2804400009  3642806036  2019-08-15     15.2     B\n",
       "2        2961555356  4069496402  2019-08-15     10.2     A\n",
       "3        3797467345  1196621759  2019-08-15    155.1     B\n",
       "4        2282983706  2322279887  2019-08-15     40.5     B\n",
       "...             ...         ...         ...      ...   ...\n",
       "1192     2662137336  3733762160  2019-08-14    100.8     B\n",
       "1193     2203539145   370388673  2019-08-14     50.1     A\n",
       "1194     1807773912   573423106  2019-08-14    165.3     A\n",
       "1195     1947021204  1614305549  2019-08-14      5.5     A\n",
       "1196     3936777065  2108080724  2019-08-15   3120.1     B\n",
       "\n",
       "[1197 rows x 5 columns]"
      ]
     },
     "execution_count": 11,
     "metadata": {},
     "output_type": "execute_result"
    }
   ],
   "source": [
    "#Verficar que se haya cargado correctamente el archivo orders\n",
    "ordenes"
   ]
  },
  {
   "cell_type": "code",
   "execution_count": 12,
   "metadata": {},
   "outputs": [
    {
     "name": "stdout",
     "output_type": "stream",
     "text": [
      "<class 'pandas.core.frame.DataFrame'>\n",
      "RangeIndex: 1197 entries, 0 to 1196\n",
      "Data columns (total 5 columns):\n",
      " #   Column         Non-Null Count  Dtype  \n",
      "---  ------         --------------  -----  \n",
      " 0   transactionId  1197 non-null   int64  \n",
      " 1   visitorId      1197 non-null   int64  \n",
      " 2   date           1197 non-null   object \n",
      " 3   revenue        1197 non-null   float64\n",
      " 4   group          1197 non-null   object \n",
      "dtypes: float64(1), int64(2), object(2)\n",
      "memory usage: 46.9+ KB\n"
     ]
    }
   ],
   "source": [
    "#Verificar inforamción general\n",
    "ordenes.info()"
   ]
  },
  {
   "cell_type": "code",
   "execution_count": 13,
   "metadata": {},
   "outputs": [],
   "source": [
    "#Crear una funcion para obtener valores duplicados y ausentes \n",
    "def analisis_exploratorio(data):\n",
    "    valores_duplicados = data.duplicated().sum()\n",
    "    valores_ausentes = data.isna().sum()\n",
    "    print(f'Valores duplicados: {valores_duplicados}')\n",
    "    print(f'Valores ausentes: {valores_ausentes}')"
   ]
  },
  {
   "cell_type": "code",
   "execution_count": 14,
   "metadata": {},
   "outputs": [
    {
     "name": "stdout",
     "output_type": "stream",
     "text": [
      "Valores duplicados: 0\n",
      "Valores ausentes: transactionId    0\n",
      "visitorId        0\n",
      "date             0\n",
      "revenue          0\n",
      "group            0\n",
      "dtype: int64\n"
     ]
    }
   ],
   "source": [
    "#Hacer uso de la función\n",
    "analisis_exploratorio(ordenes)"
   ]
  },
  {
   "cell_type": "code",
   "execution_count": 15,
   "metadata": {},
   "outputs": [],
   "source": [
    "#Cambiar el tipo de dato de la columna 'date' de object a datetime\n",
    "ordenes['date'] = ordenes['date'].map(lambda fila: dt.datetime.strptime(fila, '%Y-%m-%d'))"
   ]
  },
  {
   "cell_type": "code",
   "execution_count": 16,
   "metadata": {},
   "outputs": [],
   "source": [
    "# Identificar usuarios en ambos grupos\n",
    "visitantes_duplicados = ordenes.groupby('visitorId')['group'].nunique()\n",
    "# Filtrar usuarios que están en ambos grupos\n",
    "visitantes_multi_grupo = visitantes_duplicados[visitantes_duplicados > 1].index\n",
    "\n",
    "# Remover pedidos de usuarios que están en ambos grupos\n",
    "ordenes = ordenes[~ordenes['visitorId'].isin(visitantes_multi_grupo)]"
   ]
  },
  {
   "cell_type": "code",
   "execution_count": 17,
   "metadata": {},
   "outputs": [
    {
     "name": "stdout",
     "output_type": "stream",
     "text": [
      "<class 'pandas.core.frame.DataFrame'>\n",
      "Int64Index: 1016 entries, 0 to 1196\n",
      "Data columns (total 5 columns):\n",
      " #   Column         Non-Null Count  Dtype         \n",
      "---  ------         --------------  -----         \n",
      " 0   transactionId  1016 non-null   int64         \n",
      " 1   visitorId      1016 non-null   int64         \n",
      " 2   date           1016 non-null   datetime64[ns]\n",
      " 3   revenue        1016 non-null   float64       \n",
      " 4   group          1016 non-null   object        \n",
      "dtypes: datetime64[ns](1), float64(1), int64(2), object(1)\n",
      "memory usage: 47.6+ KB\n"
     ]
    }
   ],
   "source": [
    "#Verificar cambios\n",
    "ordenes.info()"
   ]
  },
  {
   "cell_type": "code",
   "execution_count": 18,
   "metadata": {
    "scrolled": true
   },
   "outputs": [
    {
     "data": {
      "text/html": [
       "<div>\n",
       "<style scoped>\n",
       "    .dataframe tbody tr th:only-of-type {\n",
       "        vertical-align: middle;\n",
       "    }\n",
       "\n",
       "    .dataframe tbody tr th {\n",
       "        vertical-align: top;\n",
       "    }\n",
       "\n",
       "    .dataframe thead th {\n",
       "        text-align: right;\n",
       "    }\n",
       "</style>\n",
       "<table border=\"1\" class=\"dataframe\">\n",
       "  <thead>\n",
       "    <tr style=\"text-align: right;\">\n",
       "      <th></th>\n",
       "      <th>date</th>\n",
       "      <th>group</th>\n",
       "      <th>visits</th>\n",
       "    </tr>\n",
       "  </thead>\n",
       "  <tbody>\n",
       "    <tr>\n",
       "      <th>0</th>\n",
       "      <td>2019-08-01</td>\n",
       "      <td>A</td>\n",
       "      <td>719</td>\n",
       "    </tr>\n",
       "    <tr>\n",
       "      <th>1</th>\n",
       "      <td>2019-08-02</td>\n",
       "      <td>A</td>\n",
       "      <td>619</td>\n",
       "    </tr>\n",
       "    <tr>\n",
       "      <th>2</th>\n",
       "      <td>2019-08-03</td>\n",
       "      <td>A</td>\n",
       "      <td>507</td>\n",
       "    </tr>\n",
       "    <tr>\n",
       "      <th>3</th>\n",
       "      <td>2019-08-04</td>\n",
       "      <td>A</td>\n",
       "      <td>717</td>\n",
       "    </tr>\n",
       "    <tr>\n",
       "      <th>4</th>\n",
       "      <td>2019-08-05</td>\n",
       "      <td>A</td>\n",
       "      <td>756</td>\n",
       "    </tr>\n",
       "    <tr>\n",
       "      <th>...</th>\n",
       "      <td>...</td>\n",
       "      <td>...</td>\n",
       "      <td>...</td>\n",
       "    </tr>\n",
       "    <tr>\n",
       "      <th>57</th>\n",
       "      <td>2019-08-27</td>\n",
       "      <td>B</td>\n",
       "      <td>720</td>\n",
       "    </tr>\n",
       "    <tr>\n",
       "      <th>58</th>\n",
       "      <td>2019-08-28</td>\n",
       "      <td>B</td>\n",
       "      <td>654</td>\n",
       "    </tr>\n",
       "    <tr>\n",
       "      <th>59</th>\n",
       "      <td>2019-08-29</td>\n",
       "      <td>B</td>\n",
       "      <td>531</td>\n",
       "    </tr>\n",
       "    <tr>\n",
       "      <th>60</th>\n",
       "      <td>2019-08-30</td>\n",
       "      <td>B</td>\n",
       "      <td>490</td>\n",
       "    </tr>\n",
       "    <tr>\n",
       "      <th>61</th>\n",
       "      <td>2019-08-31</td>\n",
       "      <td>B</td>\n",
       "      <td>718</td>\n",
       "    </tr>\n",
       "  </tbody>\n",
       "</table>\n",
       "<p>62 rows × 3 columns</p>\n",
       "</div>"
      ],
      "text/plain": [
       "          date group  visits\n",
       "0   2019-08-01     A     719\n",
       "1   2019-08-02     A     619\n",
       "2   2019-08-03     A     507\n",
       "3   2019-08-04     A     717\n",
       "4   2019-08-05     A     756\n",
       "..         ...   ...     ...\n",
       "57  2019-08-27     B     720\n",
       "58  2019-08-28     B     654\n",
       "59  2019-08-29     B     531\n",
       "60  2019-08-30     B     490\n",
       "61  2019-08-31     B     718\n",
       "\n",
       "[62 rows x 3 columns]"
      ]
     },
     "execution_count": 18,
     "metadata": {},
     "output_type": "execute_result"
    }
   ],
   "source": [
    "#Verificar que el archivo visits se haya cargado correctamente\n",
    "visitas"
   ]
  },
  {
   "cell_type": "code",
   "execution_count": 19,
   "metadata": {},
   "outputs": [
    {
     "name": "stdout",
     "output_type": "stream",
     "text": [
      "Valores duplicados: 0\n",
      "Valores ausentes: date      0\n",
      "group     0\n",
      "visits    0\n",
      "dtype: int64\n"
     ]
    }
   ],
   "source": [
    "#Hacer uso de la función anteriormente creada\n",
    "analisis_exploratorio(visitas)"
   ]
  },
  {
   "cell_type": "code",
   "execution_count": 20,
   "metadata": {},
   "outputs": [],
   "source": [
    "#Cambiar el tipo de dato de la columna 'date' de object a datetime\n",
    "visitas['date'] = visitas['date'].map(lambda fila: dt.datetime.strptime(fila, '%Y-%m-%d'))"
   ]
  },
  {
   "cell_type": "code",
   "execution_count": 21,
   "metadata": {},
   "outputs": [
    {
     "name": "stdout",
     "output_type": "stream",
     "text": [
      "<class 'pandas.core.frame.DataFrame'>\n",
      "RangeIndex: 62 entries, 0 to 61\n",
      "Data columns (total 3 columns):\n",
      " #   Column  Non-Null Count  Dtype         \n",
      "---  ------  --------------  -----         \n",
      " 0   date    62 non-null     datetime64[ns]\n",
      " 1   group   62 non-null     object        \n",
      " 2   visits  62 non-null     int64         \n",
      "dtypes: datetime64[ns](1), int64(1), object(1)\n",
      "memory usage: 1.6+ KB\n"
     ]
    }
   ],
   "source": [
    "#Verificar cambios\n",
    "visitas.info()"
   ]
  },
  {
   "cell_type": "markdown",
   "metadata": {},
   "source": [
    "**1. Ingreso acumulado por grupo**"
   ]
  },
  {
   "cell_type": "code",
   "execution_count": 22,
   "metadata": {},
   "outputs": [],
   "source": [
    "# Organizar datos en grupos por fecha\n",
    "agrupacion_fecha_visitas = ordenes[['date','group']].drop_duplicates()"
   ]
  },
  {
   "cell_type": "code",
   "execution_count": 23,
   "metadata": {},
   "outputs": [],
   "source": [
    "# Agregar datos de órdenes por fecha y grupo: número de transacciones, clientes y ventas totales\n",
    "agregacion_ordenes = agrupacion_fecha_visitas.apply(\n",
    "    lambda x: ordenes[np.logical_and(ordenes['date'] <= x['date'], ordenes['group'] == x['group'])]\n",
    "    .agg({'date' : 'max', 'group' : 'max', 'transactionId' : pd.Series.nunique, 'visitorId' : pd.Series.nunique, \n",
    "          'revenue' : 'sum'}), axis=1).sort_values(by=['date','group'])"
   ]
  },
  {
   "cell_type": "code",
   "execution_count": 24,
   "metadata": {},
   "outputs": [],
   "source": [
    "# Renombrar las columnas\n",
    "agregacion_ordenes.columns = ['fecha', 'grupo', 'numero_facturas', 'numero_clientes', 'total_ventas']"
   ]
  },
  {
   "cell_type": "code",
   "execution_count": 25,
   "metadata": {},
   "outputs": [],
   "source": [
    "# Agregar datos de visitas por fecha y grupo: total de visitas\n",
    "visitas_agregadas = agrupacion_fecha_visitas.apply(\n",
    "    lambda x: visitas[np.logical_and(visitas['date'] <= x['date'], visitas['group'] == x['group'])]\n",
    "    .agg({'date' : 'max', 'group' : 'max', 'visits' : 'sum'}), axis=1).sort_values(by=['date','group'])"
   ]
  },
  {
   "cell_type": "code",
   "execution_count": 26,
   "metadata": {},
   "outputs": [],
   "source": [
    "# Renombrar las columnas\n",
    "visitas_agregadas.columns = ['fecha', 'grupo', 'total_visitas']"
   ]
  },
  {
   "cell_type": "code",
   "execution_count": 27,
   "metadata": {},
   "outputs": [],
   "source": [
    "# Combinar las tablas de órdenes y visitas\n",
    "fct_sales = agregacion_ordenes.merge(visitas_agregadas, on=['fecha', 'grupo'])"
   ]
  },
  {
   "cell_type": "code",
   "execution_count": 28,
   "metadata": {},
   "outputs": [
    {
     "name": "stdout",
     "output_type": "stream",
     "text": [
      "        fecha grupo  numero_facturas  numero_clientes  total_ventas  \\\n",
      "0  2019-08-01     A               23               19        2266.6   \n",
      "1  2019-08-01     B               17               17         967.2   \n",
      "2  2019-08-02     A               42               36        3734.9   \n",
      "3  2019-08-02     B               40               39        3535.3   \n",
      "4  2019-08-03     A               66               60        5550.1   \n",
      "..        ...   ...              ...              ...           ...   \n",
      "57 2019-08-29     B              510              490       74576.7   \n",
      "58 2019-08-30     A              460              437       52363.7   \n",
      "59 2019-08-30     B              531              511       77863.5   \n",
      "60 2019-08-31     A              468              445       53212.0   \n",
      "61 2019-08-31     B              548              528       79651.2   \n",
      "\n",
      "    total_visitas  \n",
      "0             719  \n",
      "1             713  \n",
      "2            1338  \n",
      "3            1294  \n",
      "4            1845  \n",
      "..            ...  \n",
      "57          17708  \n",
      "58          18037  \n",
      "59          18198  \n",
      "60          18736  \n",
      "61          18916  \n",
      "\n",
      "[62 rows x 6 columns]\n"
     ]
    }
   ],
   "source": [
    "# Verificar los cambios\n",
    "print(fct_sales)"
   ]
  },
  {
   "cell_type": "code",
   "execution_count": 29,
   "metadata": {},
   "outputs": [],
   "source": [
    "# Filtrar datos para cada grupo (A y B)\n",
    "ventas_acumuladas_A = fct_sales.query('grupo == \"A\"')[['fecha', 'total_ventas']]\n",
    "ventas_acumuladas_B = fct_sales.query('grupo == \"B\"')[['fecha', 'total_ventas']]"
   ]
  },
  {
   "cell_type": "code",
   "execution_count": 30,
   "metadata": {},
   "outputs": [
    {
     "data": {
      "image/png": "[encoded data removed]",
      "text/plain": [
       "<Figure size 640x480 with 1 Axes>"
      ]
     },
     "metadata": {},
     "output_type": "display_data"
    }
   ],
   "source": [
    "# Graficar ingresos acumulados por grupo\n",
    "plt.plot(ventas_acumuladas_A['fecha'], ventas_acumuladas_A['total_ventas'], label='A')\n",
    "plt.plot(ventas_acumuladas_B['fecha'], ventas_acumuladas_B['total_ventas'], label='B')\n",
    "plt.legend()\n",
    "plt.title('Ingresos acumulados por grupo')\n",
    "plt.xlabel('Tiempo')\n",
    "plt.ylabel('Ingresos acumulados')\n",
    "plt.xticks(rotation=90)\n",
    "plt.show()"
   ]
  },
  {
   "cell_type": "markdown",
   "metadata": {},
   "source": [
    "**Observaciones:**\n",
    "\n",
    "* Ambos grupos, A y B, comienzan con ingresos acumulados similares al inicio del periodo (1 de agosto de 2019).\n",
    "* Grupo B muestra un rendimiento consistentemente superior a Grupo A en términos de ingresos acumulados.\n",
    "\n",
    "* Alrededor del 17 de agosto de 2019, el Grupo B experimenta un aumento notable en los ingresos acumulados, creando una brecha significativa entre los dos grupos.\n",
    "\n",
    "* Para el 31 de agosto de 2019, el Grupo B alcanza ingresos acumulados cercanos a los 80,000, mientras que el Grupo A se queda alrededor de los 60,000.\n",
    "\n",
    "* Las estrategias o intervenciones aplicadas al Grupo B parecen ser más efectivas para aumentar los ingresos. Esto sugiere que la promoción, campaña de marketing, o cambios específicos implementados en este grupo tuvieron un impacto positivo significativo.\n",
    "\n",
    "* El incremento drástico alrededor del 17 de agosto indica que hubo un evento o acción específica en esa fecha que impulsó las ventas en el Grupo B. Es importante investigar qué ocurrió en ese momento para entender qué causó ese aumento.\n",
    "\n",
    "* Los ingresos acumulados de los Grupos A y B muestra que las mejoras en el Grupo B no solo fueron efectivas, sino que también se mantuvieron consistentes durante el tiempo. Esto puede sugerir una implementación continua o sostenida de estrategias exitosas.\n",
    "\n",
    "* Es probable que el Grupo B se haya beneficiado de una promoción o descuento especial que no fue ofrecido al Grupo A. Esta promoción pudo haber comenzado alrededor del 17 de agosto, coincidiendo con el aumento significativo en los ingresos.\n",
    "\n",
    "* El Grupo B podría haber implementado mejoras en la experiencia de usuario que facilitaron las compras, como una navegación mejorada en el sitio web, recomendaciones personalizadas de productos o una mayor eficiencia en el proceso de pago."
   ]
  },
  {
   "cell_type": "markdown",
   "metadata": {},
   "source": [
    "**2. Tamaño de pedido promedio acumulado por grupo**"
   ]
  },
  {
   "cell_type": "code",
   "execution_count": 31,
   "metadata": {},
   "outputs": [],
   "source": [
    "# Calcular el tamaño de pedido promedio acumulado\n",
    "fct_sales['tamaño_pedido_promedio'] = fct_sales['total_ventas'] / fct_sales['numero_facturas']"
   ]
  },
  {
   "cell_type": "code",
   "execution_count": 32,
   "metadata": {},
   "outputs": [],
   "source": [
    "# Filtrar datos para cada grupo (A y B)\n",
    "pedido_promedio_A = fct_sales.query('grupo == \"A\"')[['fecha', 'tamaño_pedido_promedio']]\n",
    "pedido_promedio_B = fct_sales.query('grupo == \"B\"')[['fecha', 'tamaño_pedido_promedio']]"
   ]
  },
  {
   "cell_type": "code",
   "execution_count": 33,
   "metadata": {},
   "outputs": [
    {
     "data": {
      "image/png": "[encoded data removed]",
      "text/plain": [
       "<Figure size 1000x600 with 1 Axes>"
      ]
     },
     "metadata": {},
     "output_type": "display_data"
    }
   ],
   "source": [
    "# Graficar tamaño de pedido promedio acumulado por grupo\n",
    "plt.figure(figsize=(10, 6))\n",
    "plt.plot(pedido_promedio_A['fecha'], pedido_promedio_A['tamaño_pedido_promedio'], label='A')\n",
    "plt.plot(pedido_promedio_B['fecha'], pedido_promedio_B['tamaño_pedido_promedio'], label='B')\n",
    "plt.legend()\n",
    "plt.title('Tamaño de pedido promedio acumulado por grupo')\n",
    "plt.xlabel('Fecha')\n",
    "plt.ylabel('Tamaño de pedido promedio acumulado')\n",
    "plt.xticks(rotation=90)\n",
    "plt.axhline(y=100, color='black', linestyle='--')\n",
    "plt.show()"
   ]
  },
  {
   "cell_type": "markdown",
   "metadata": {},
   "source": [
    "* El Grupo B generalmente tiene un tamaño de pedido promedio acumulado más alto en comparación con el Grupo A.\n",
    "\n",
    "* El tamaño de pedido promedio en el Grupo B muestra más fluctuaciones en comparación con el Grupo A.\n",
    "\n",
    "* Las estrategias implementadas en el Grupo B parecen ser más efectivas para aumentar el tamaño del pedido promedio. Esto puede indicar que las promociones o campañas dirigidas a este grupo incentivaron a los clientes a realizar pedidos de mayor valor.\n",
    "\n",
    "* Los clientes del Grupo B parecen estar realizando compras de mayor valor en comparación con los clientes del Grupo A. Esto sugiere una diferencia en el comportamiento de compra entre los dos grupos.\n",
    "\n",
    "* El Grupo B pudo haber ofrecido promociones y descuentos que incentivaron a los clientes a agregar más productos a sus carritos, resultando en un tamaño de pedido promedio mayor.\n",
    "\n",
    "* Es posible que el Grupo B haya sido segmentado para incluir a clientes con una mayor disposición a gastar, lo que explicaría el tamaño de pedido promedio más alto."
   ]
  },
  {
   "cell_type": "markdown",
   "metadata": {},
   "source": [
    "**3. Diferencia relativa en el tamaño de pedido promedio acumulado para el grupo B en comparación con el grupo A**"
   ]
  },
  {
   "cell_type": "code",
   "execution_count": 34,
   "metadata": {},
   "outputs": [],
   "source": [
    "# Calcular el tamaño de pedido promedio acumulado\n",
    "fct_sales['tamaño_pedido_promedio'] = fct_sales['total_ventas'] / fct_sales['numero_facturas']"
   ]
  },
  {
   "cell_type": "code",
   "execution_count": 35,
   "metadata": {},
   "outputs": [],
   "source": [
    "# Filtrar datos para cada grupo (A y B)\n",
    "pedido_promedio_A = fct_sales.query('grupo == \"A\"')[['fecha', 'tamaño_pedido_promedio']].set_index('fecha')\n",
    "pedido_promedio_B = fct_sales.query('grupo == \"B\"')[['fecha', 'tamaño_pedido_promedio']].set_index('fecha')"
   ]
  },
  {
   "cell_type": "code",
   "execution_count": 36,
   "metadata": {},
   "outputs": [],
   "source": [
    "# Calcular la diferencia relativa\n",
    "diferencia_relativa = (pedido_promedio_B['tamaño_pedido_promedio'] / pedido_promedio_A['tamaño_pedido_promedio'] - 1) * 100"
   ]
  },
  {
   "cell_type": "code",
   "execution_count": 37,
   "metadata": {},
   "outputs": [
    {
     "data": {
      "image/png": "[encoded data removed]",
      "text/plain": [
       "<Figure size 1000x600 with 1 Axes>"
      ]
     },
     "metadata": {},
     "output_type": "display_data"
    }
   ],
   "source": [
    "# Graficar la diferencia relativa\n",
    "plt.figure(figsize=(10, 6))\n",
    "plt.plot(diferencia_relativa.index, diferencia_relativa, label='Diferencia Relativa')\n",
    "plt.legend()\n",
    "plt.title('Diferencia relativa en el tamaño de pedido promedio acumulado Grupo B vs Grupo A')\n",
    "plt.xlabel('Fecha')\n",
    "plt.ylabel('Diferencia Relativa (%)')\n",
    "plt.xticks(rotation=90)\n",
    "plt.axhline(y=0, color='black', linestyle='--')\n",
    "plt.show()"
   ]
  },
  {
   "cell_type": "markdown",
   "metadata": {},
   "source": [
    "* Hay momentos en los que el Grupo B supera significativamente al Grupo A en el tamaño de pedido promedio, mientras que en otros momentos, la diferencia relativa disminuye.\n",
    "\n",
    "* La variación en la diferencia relativa sugiere que las estrategias implementadas en el Grupo B tuvieron distintos niveles de éxito en diferentes periodos.\n",
    "\n",
    "* Los picos en la diferencia relativa indican periodos en los que las promociones o campañas del Grupo B fueron particularmente efectivas, resultando en un tamaño de pedido promedio mayor. Los picos en la diferencia relativa podrían estar correlacionados con eventos específicos, como promociones especiales, lanzamientos de productos o descuentos temporales.\n",
    "\n",
    "* Es posible que el Grupo B haya recibido ofertas segmentadas o descuentos por volumen, lo que podría haber incentivado a los clientes a realizar pedidos más grandes en ciertos periodos."
   ]
  },
  {
   "cell_type": "markdown",
   "metadata": {},
   "source": [
    "**4. Tasa de conversión de cada grupo y relación entre los pedidos y el número de visitas de cada día**"
   ]
  },
  {
   "cell_type": "code",
   "execution_count": 38,
   "metadata": {},
   "outputs": [],
   "source": [
    "# Calcular la tasa de conversión diaria\n",
    "fct_sales['tasa_conversion'] = fct_sales['numero_facturas'] / fct_sales['total_visitas']"
   ]
  },
  {
   "cell_type": "code",
   "execution_count": 39,
   "metadata": {},
   "outputs": [],
   "source": [
    "# Filtrar datos para cada grupo (A y B)\n",
    "conversion_A = fct_sales.query('grupo == \"A\"')[['fecha', 'tasa_conversion']]\n",
    "conversion_B = fct_sales.query('grupo == \"B\"')[['fecha', 'tasa_conversion']]"
   ]
  },
  {
   "cell_type": "code",
   "execution_count": 40,
   "metadata": {},
   "outputs": [
    {
     "data": {
      "image/png": "[encoded data removed]",
      "text/plain": [
       "<Figure size 1000x600 with 1 Axes>"
      ]
     },
     "metadata": {},
     "output_type": "display_data"
    }
   ],
   "source": [
    "# Graficar tasas de conversión diarias por grupo\n",
    "plt.figure(figsize=(10, 6))\n",
    "plt.plot(conversion_A['fecha'], conversion_A['tasa_conversion'], label='A')\n",
    "plt.plot(conversion_B['fecha'], conversion_B['tasa_conversion'], label='B')\n",
    "plt.legend()\n",
    "plt.title('Tasa de conversión diaria por grupo')\n",
    "plt.xlabel('Fecha')\n",
    "plt.ylabel('Tasa de Conversión')\n",
    "plt.xticks(rotation=90)\n",
    "plt.show()"
   ]
  },
  {
   "cell_type": "markdown",
   "metadata": {},
   "source": [
    "* El Grupo B generalmente muestra una tasa de conversión más alta que el Grupo A durante la mayor parte del período observado. También, se puede observar que ambos grupos experimentan fluctuaciones en sus tasas de conversión diaria, con el Grupo B mostrando variaciones más significativas.\n",
    "\n",
    "* Las estrategias o campañas aplicadas al Grupo B parecen ser más efectivas para convertir visitas en pedidos, ya que su tasa de conversión es consistentemente más alta.\n",
    "\n",
    "* Las fluctuaciones en las tasas de conversión sugieren que hay factores específicos que afectan el comportamiento de los usuarios en ambos grupos, como promociones temporales, cambios en la experiencia del usuario o variaciones en la demanda.\n",
    "\n",
    "* Los picos en la tasa de conversión del Grupo B podrían estar correlacionados con promociones específicas o descuentos que incentivaron a los usuarios a completar sus compras.\n",
    "\n",
    "* Es posible que el Grupo B haya implementado mejoras en la experiencia del usuario que hicieron que fuera más fácil y atractivo para los visitantes completar una compra.\n",
    "\n",
    "* El Grupo B puede haber sido segmentado de manera más efectiva, dirigiendo las promociones y campañas a usuarios con una mayor probabilidad de conversión."
   ]
  },
  {
   "cell_type": "markdown",
   "metadata": {},
   "source": [
    "**5. Dispersión del número de pedidos por usuario**"
   ]
  },
  {
   "cell_type": "code",
   "execution_count": 41,
   "metadata": {},
   "outputs": [],
   "source": [
    "# Calcular el número de pedidos por usuario\n",
    "pedidos_por_usuario = ordenes.groupby(['visitorId', 'group'])['transactionId'].count().reset_index()\n",
    "\n",
    "# Renombrar las columnas\n",
    "pedidos_por_usuario.columns = ['usuario', 'grupo', 'numero_pedidos']"
   ]
  },
  {
   "cell_type": "code",
   "execution_count": 42,
   "metadata": {},
   "outputs": [
    {
     "data": {
      "image/png": "[encoded data removed]",
      "text/plain": [
       "<Figure size 1000x600 with 1 Axes>"
      ]
     },
     "metadata": {},
     "output_type": "display_data"
    }
   ],
   "source": [
    "# Graficar el número de pedidos por usuario\n",
    "plt.figure(figsize=(10, 6))\n",
    "plt.scatter(pedidos_por_usuario.query('grupo == \"A\"')['usuario'], pedidos_por_usuario.query('grupo == \"A\"')['numero_pedidos'], alpha=0.5, label='A')\n",
    "plt.scatter(pedidos_por_usuario.query('grupo == \"B\"')['usuario'], pedidos_por_usuario.query('grupo == \"B\"')['numero_pedidos'], alpha=0.5, label='B')\n",
    "plt.legend()\n",
    "plt.title('Número de pedidos por usuario')\n",
    "plt.xlabel('Usuario')\n",
    "plt.ylabel('Número de pedidos')\n",
    "plt.grid(True)\n",
    "plt.show()"
   ]
  },
  {
   "cell_type": "markdown",
   "metadata": {},
   "source": [
    "* La mayoría de los usuarios en ambos grupos han realizado entre 1 y 3 pedidos. Los puntos están concentrados en estos valores en el eje y.\n",
    "\n",
    "* Tanto el Grupo A como el Grupo B muestran una distribución similar en términos del número de pedidos por usuario.\n",
    "\n",
    "* Hay pocos usuarios que han realizado más de 2 pedidos, lo cual podría indicar un comportamiento de compra más leal o frecuente.\n",
    "\n",
    "* La mayoría de los usuarios tienden a realizar solo uno o dos pedidos, lo que sugiere que la tienda tiene una alta rotación de clientes o que los clientes no están volviendo a comprar con frecuencia.\n",
    "\n",
    "* Los pocos usuarios que han realizado 3 pedidos podrían ser considerados clientes leales. Estos usuarios podrían ser el foco de futuras estrategias de retención de clientes.\n",
    "\n",
    "* Dado que la distribución de los pedidos por usuario es similar en ambos grupos, las estrategias aplicadas no parecen haber influido significativamente en la frecuencia de pedidos por usuario."
   ]
  },
  {
   "cell_type": "markdown",
   "metadata": {},
   "source": [
    "**6. Calcular los percentiles 95 y 99 del número de pedidos por usuario**"
   ]
  },
  {
   "cell_type": "code",
   "execution_count": 43,
   "metadata": {},
   "outputs": [],
   "source": [
    "# Calcular el número de pedidos por usuario\n",
    "pedidos_por_usuario = ordenes.groupby('visitorId')['transactionId'].count().reset_index()\n",
    "\n",
    "# Renombrar las columnas\n",
    "pedidos_por_usuario.columns = ['usuario', 'numero_pedidos']"
   ]
  },
  {
   "cell_type": "code",
   "execution_count": 44,
   "metadata": {},
   "outputs": [
    {
     "name": "stdout",
     "output_type": "stream",
     "text": [
      "Percentil 95: 1.0\n",
      "Percentil 99: 2.0\n",
      "Anomalías:\n",
      "         usuario  numero_pedidos\n",
      "55    249864742               3\n",
      "138   611059232               3\n",
      "478  2108163459               3\n",
      "632  2742574263               3\n",
      "687  2988190573               3\n",
      "890  3908431265               3\n",
      "908  3967698036               3\n"
     ]
    }
   ],
   "source": [
    "# Calcular los percentiles 95 y 99\n",
    "percentil_95 = pedidos_por_usuario['numero_pedidos'].quantile(0.95)\n",
    "percentil_99 = pedidos_por_usuario['numero_pedidos'].quantile(0.99)\n",
    "\n",
    "print(f\"Percentil 95: {percentil_95}\")\n",
    "print(f\"Percentil 99: {percentil_99}\")\n",
    "\n",
    "# Definir anomalías como puntos de datos por encima del percentil 99\n",
    "anomalies = pedidos_por_usuario[pedidos_por_usuario['numero_pedidos'] > percentil_99]\n",
    "print(f\"Anomalías:\\n {anomalies}\")"
   ]
  },
  {
   "cell_type": "markdown",
   "metadata": {},
   "source": [
    "Observaciones:\n",
    "\n",
    "* Percentil 95: El 95% de los usuarios han realizado 1 pedido o menos.\n",
    "\n",
    "* Percentil 99: El 99% de los usuarios han realizado 2 pedidos o menos.\n",
    "\n",
    "* Anomalías: Los usuarios que han realizado más de 2 pedidos se consideran anomalías. En este caso, hay 7 usuarios que han realizado 3 pedidos.\n",
    "\n",
    "Dado lo anterior, se puede decir que la mayoría de los usuarios realizan solo 1 pedido, lo que sugiere que la tienda tiene una alta rotación de clientes o que los clientes no están volviendo a comprar con frecuencia. También los usuarios que han realizado 3 pedidos representan un pequeño porcentaje de la base de clientes, indicando un comportamiento de compra más leal o frecuente. Finalmente, los usuarios que realizan más de 2 pedidos son excepcionales y pueden considerarse clientes valiosos, ya que su comportamiento difiere significativamente del promedio."
   ]
  },
  {
   "cell_type": "markdown",
   "metadata": {},
   "source": [
    "**7. Dispersión de los precios de los pedidos**"
   ]
  },
  {
   "cell_type": "code",
   "execution_count": 45,
   "metadata": {},
   "outputs": [],
   "source": [
    "# Extraer los datos de los precios de los pedidos\n",
    "precios_pedidos = ordenes[['visitorId', 'revenue']]"
   ]
  },
  {
   "cell_type": "code",
   "execution_count": 46,
   "metadata": {},
   "outputs": [
    {
     "data": {
      "image/png": "[encoded data removed]",
      "text/plain": [
       "<Figure size 1000x600 with 1 Axes>"
      ]
     },
     "metadata": {},
     "output_type": "display_data"
    }
   ],
   "source": [
    "# Graficar el número de pedidos por usuario\n",
    "plt.figure(figsize=(10, 6))\n",
    "plt.scatter(precios_pedidos['visitorId'], precios_pedidos['revenue'], alpha=0.5)\n",
    "plt.title('Dispersión de los precios de los pedidos')\n",
    "plt.xlabel('Usuario')\n",
    "plt.ylabel('Precio del pedido')\n",
    "plt.show()"
   ]
  },
  {
   "cell_type": "markdown",
   "metadata": {},
   "source": [
    "* La mayoría de los pedidos tienen precios bajos, lo que sugiere que los usuarios están comprando productos de menor costo o en menor cantidad.\n",
    "\n",
    "* Hay algunos puntos de datos que se destacan significativamente, con precios de pedidos que alcanzan hasta 20,000. Estos representan pedidos excepcionales con precios mucho más altos que el promedio.\n",
    "\n",
    "* La mayoría de los usuarios realizan pedidos que se mantienen en un rango de precios relativamente bajo, con una pequeña proporción de pedidos costosos.\n",
    "\n",
    "* La tendencia general muestra que la mayoría de los pedidos tienen un precio moderado, lo que puede indicar que los productos más comprados son asequibles y de bajo costo.\n",
    "\n",
    "* Los outliers con precios altos representan clientes que realizan compras significativamente mayores. Estos clientes pueden ser considerados de alto valor y podrían ser el objetivo de estrategias de marketing personalizadas.\n",
    "\n",
    "* La dispersión de precios sugiere una diversidad en la cartera de productos, donde hay tanto productos de bajo costo como productos premium."
   ]
  },
  {
   "cell_type": "markdown",
   "metadata": {},
   "source": [
    "**8. Calcular los percentiles 95 y 99 de los precios de los pedidos**"
   ]
  },
  {
   "cell_type": "code",
   "execution_count": 47,
   "metadata": {},
   "outputs": [],
   "source": [
    "# Extraer los datos de los precios de los pedidos\n",
    "precios_pedidos = ordenes['revenue']"
   ]
  },
  {
   "cell_type": "code",
   "execution_count": 48,
   "metadata": {},
   "outputs": [
    {
     "name": "stdout",
     "output_type": "stream",
     "text": [
      "Percentil 95: 414.275\n",
      "Percentil 99: 830.3\n",
      "Anomalías:\n",
      "       transactionId   visitorId       date  revenue group\n",
      "425       590470918  1920142716 2019-08-19  19920.4     B\n",
      "743      3603576309  4133034833 2019-08-09   1050.0     A\n",
      "744      3668308183   888512513 2019-08-27   1335.6     B\n",
      "940      2420050534  4003628586 2019-08-08    905.8     B\n",
      "949      1347999392   887908475 2019-08-21    930.0     A\n",
      "1099      316924019   148427295 2019-08-12   1015.9     A\n",
      "1103     1348774318  1164614297 2019-08-12   1025.8     A\n",
      "1136      666610489  1307669133 2019-08-13   1425.8     A\n",
      "1196     3936777065  2108080724 2019-08-15   3120.1     B\n"
     ]
    }
   ],
   "source": [
    "# Calcular los percentiles 95 y 99\n",
    "percentil_95 = precios_pedidos.quantile(0.95)\n",
    "percentil_99 = precios_pedidos.quantile(0.99)\n",
    "\n",
    "print(f\"Percentil 95: {percentil_95}\")\n",
    "print(f\"Percentil 99: {percentil_99}\")\n",
    "\n",
    "# Definir anomalías como puntos de datos por encima del percentil 99\n",
    "anomalies = ordenes[ordenes['revenue'] > percentil_99]\n",
    "print(f\"Anomalías:\\n {anomalies}\")"
   ]
  },
  {
   "cell_type": "markdown",
   "metadata": {},
   "source": [
    "Observaciones:\n",
    "\n",
    "* Percentil 95: El 95% de los pedidos tienen un precio igual o inferior a 414.275.\n",
    "\n",
    "* Percentil 99: El 99% de los pedidos tienen un precio igual o inferior a 830.3.\n",
    "\n",
    "* Anomalías: Los pedidos con precios superiores a 830.3 se consideran anomalías. En este caso, hay 9 pedidos que se destacan como anomalías.\n",
    "\n",
    "Dado lo anterior, se puede decir que la mayoría de los pedidos tienen un precio moderado, lo que sugiere que los productos comprados son principalmente de bajo a mediano costo. También los pedidos que se destacan como anomalías representan una pequeña proporción de la base total, indicando que hay clientes que realizan compras significativamente mayores que el promedio. Identificar y entender estos pedidos de alto valor puede proporcionar información valiosa sobre los productos premium y las tácticas que mejor funcionan para atraer a estos clientes."
   ]
  },
  {
   "cell_type": "markdown",
   "metadata": {},
   "source": [
    "**9. Significancia estadística de la diferencia en la conversión entre los grupos utilizando los datos en bruto**"
   ]
  },
  {
   "cell_type": "code",
   "execution_count": 49,
   "metadata": {},
   "outputs": [],
   "source": [
    "# Crear variables con las órdenes por usuario de acuerdo al grupo\n",
    "ordersA = ordenes[ordenes['group'] == 'A'].groupby('visitorId', as_index=False).agg({'transactionId': pd.Series.nunique})\n",
    "# Renombrar las columnas \n",
    "ordersA.columns = ['userId', 'orders']\n",
    "\n",
    "ordersB = ordenes[ordenes['group'] == 'B'].groupby('visitorId', as_index=False).agg({'transactionId': pd.Series.nunique})\n",
    "# Renombrar las columnas \n",
    "ordersB.columns = ['userId', 'orders']"
   ]
  },
  {
   "cell_type": "code",
   "execution_count": 50,
   "metadata": {},
   "outputs": [],
   "source": [
    "# Crear variables Sample para crear una serie con puntaje 0 si es que no tuvieron pedidos, necesario para la prueba U de Mann-Whitney\n",
    "sampleA = pd.concat(\n",
    "    [\n",
    "        ordersA['orders'],\n",
    "        pd.Series(0,\n",
    "                  index=np.arange(visitas[visitas['group'] == 'A']['visits'].sum() - len(ordersA['orders'])),\n",
    "                  name='orders')\n",
    "    ],\n",
    "    axis=0\n",
    ")\n",
    "\n",
    "sampleB = pd.concat(\n",
    "    [\n",
    "        ordersB['orders'],\n",
    "        pd.Series(0,\n",
    "                  index=np.arange(visitas[visitas['group'] == 'B']['visits'].sum() - len(ordersB['orders'])),\n",
    "                  name='orders')\n",
    "    ],\n",
    "    axis=0\n",
    ")"
   ]
  },
  {
   "cell_type": "code",
   "execution_count": 51,
   "metadata": {},
   "outputs": [
    {
     "name": "stdout",
     "output_type": "stream",
     "text": [
      "P-valor: 0.011\n",
      "Ganancia relativa en la conversión: 0.160\n"
     ]
    }
   ],
   "source": [
    "# Realizar la prueba U de Mann-Whitney\n",
    "p_valor = stats.mannwhitneyu(sampleA, sampleB)[1]\n",
    "ganancia_relativa_conversion = sampleB.mean() / sampleA.mean() - 1\n",
    "\n",
    "print(f\"P-valor: {p_valor:.3f}\")\n",
    "print(f\"Ganancia relativa en la conversión: {ganancia_relativa_conversion:.3f}\")"
   ]
  },
  {
   "cell_type": "markdown",
   "metadata": {},
   "source": [
    "* El valor p de 0.011 es significativamente menor que el umbral comúnmente utilizado de 0.05. Esto indica que la diferencia en la tasa de conversión entre los grupos A y B es estadísticamente significativa.\n",
    "\n",
    "* La ganancia relativa en la conversión es del 16%, lo que significa que el grupo B tiene una tasa de conversión un 16% mayor que el grupo A.\n",
    "\n",
    "* La diferencia significativa en la tasa de conversión sugiere que las estrategias implementadas para el grupo B, como promociones, descuentos o mejoras en la experiencia del usuario, son efectivas y resultan en una mayor conversión.\n",
    "\n",
    "* Una ganancia relativa del 16% en la conversión es considerable y puede tener un impacto significativo en los ingresos totales. Esto muestra que incluso pequeños cambios en las estrategias pueden producir mejoras notables en el rendimiento."
   ]
  },
  {
   "cell_type": "markdown",
   "metadata": {},
   "source": [
    "**10. Significancia estadística de la diferencia en el tamaño promedio de pedido entre los grupos utilizando los datos en bruto**"
   ]
  },
  {
   "cell_type": "code",
   "execution_count": 52,
   "metadata": {},
   "outputs": [
    {
     "name": "stdout",
     "output_type": "stream",
     "text": [
      "P-valor: 0.862\n",
      "Ganancia relativa en el tamaño promedio de pedidos: 0.278\n"
     ]
    }
   ],
   "source": [
    "# Realizar la prueba U de Mann-Whitney para comparar el tamaño promedio de pedido entre los grupos A y B\n",
    "p_valor = stats.mannwhitneyu(ordenes[ordenes['group'] == 'A']['revenue'],\n",
    "                             ordenes[ordenes['group'] == 'B']['revenue'])[1]\n",
    "\n",
    "ganancia_relativa_tamaño_pedido = ordenes[ordenes['group'] == 'B']['revenue'].mean() / \\\n",
    "                                   ordenes[ordenes['group'] == 'A']['revenue'].mean() - 1\n",
    "\n",
    "print(f\"P-valor: {p_valor:.3f}\")\n",
    "print(f\"Ganancia relativa en el tamaño promedio de pedidos: {ganancia_relativa_tamaño_pedido:.3f}\")\n"
   ]
  },
  {
   "cell_type": "markdown",
   "metadata": {},
   "source": [
    "* El p-valor de 0.862 es significativamente mayor que el umbral comúnmente utilizado de 0.05. Esto indica que no hay evidencia suficiente para afirmar que existe una diferencia estadísticamente significativa en el tamaño promedio de pedido entre los grupos A y B.\n",
    "\n",
    "* La ganancia relativa en el tamaño promedio de pedido es del 27.8%. Aunque esto puede parecer considerable, el alto p-valor sugiere que esta diferencia no es estadísticamente significativa.\n",
    "\n",
    "* Dado el alto p-valor, no podemos concluir que las diferencias observadas en el tamaño promedio de pedido entre los grupos A y B sean significativas desde el punto de vista estadístico. Esto sugiere que las estrategias o condiciones aplicadas a los grupos no han tenido un impacto significativo en el tamaño del pedido.\n",
    "\n",
    "* La diferencia en la ganancia relativa podría ser atribuida a la variabilidad aleatoria en los datos y no a un efecto real de las intervenciones o estrategias implementadas."
   ]
  },
  {
   "cell_type": "markdown",
   "metadata": {},
   "source": [
    "**11. Significancia estadística de la diferencia en la conversión entre los grupos utilizando los datos filtrados**"
   ]
  },
  {
   "cell_type": "code",
   "execution_count": 53,
   "metadata": {},
   "outputs": [],
   "source": [
    "# Filtrar las órdenes eliminando las anomalías basadas en el percentil 99 de los precios de los pedidos\n",
    "percentil_99 = ordenes['revenue'].quantile(0.99)\n",
    "ordenes_filtradas = ordenes[ordenes['revenue'] <= percentil_99]"
   ]
  },
  {
   "cell_type": "code",
   "execution_count": 54,
   "metadata": {},
   "outputs": [],
   "source": [
    "# Crear variables con las órdenes por usuario de acuerdo al grupo para datos filtrados\n",
    "ordersA_filtradas = ordenes_filtradas[ordenes_filtradas['group'] == 'A'].groupby('visitorId', as_index=False).agg({'transactionId': pd.Series.nunique})\n",
    "ordersA_filtradas.columns = ['userId', 'orders']\n",
    "\n",
    "ordersB_filtradas = ordenes_filtradas[ordenes_filtradas['group'] == 'B'].groupby('visitorId', as_index=False).agg({'transactionId': pd.Series.nunique})\n",
    "ordersB_filtradas.columns = ['userId', 'orders']\n"
   ]
  },
  {
   "cell_type": "code",
   "execution_count": 55,
   "metadata": {},
   "outputs": [],
   "source": [
    "# Crear variables Sample para crear una serie con puntaje 0 si es que no tuvieron pedidos, necesario para la prueba U de Mann-Whitney\n",
    "sampleA_filtradas = pd.concat(\n",
    "    [\n",
    "        ordersA_filtradas['orders'],\n",
    "        pd.Series(0,\n",
    "                  index=np.arange(visitas[visitas['group'] == 'A']['visits'].sum() - len(ordersA_filtradas['orders'])),\n",
    "                  name='orders')\n",
    "    ],\n",
    "    axis=0\n",
    ")\n",
    "\n",
    "sampleB_filtradas = pd.concat(\n",
    "    [\n",
    "        ordersB_filtradas['orders'],\n",
    "        pd.Series(0,\n",
    "                  index=np.arange(visitas[visitas['group'] == 'B']['visits'].sum() - len(ordersB_filtradas['orders'])),\n",
    "                  name='orders')\n",
    "    ],\n",
    "    axis=0\n",
    ")"
   ]
  },
  {
   "cell_type": "code",
   "execution_count": 56,
   "metadata": {},
   "outputs": [
    {
     "name": "stdout",
     "output_type": "stream",
     "text": [
      "P-valor (Datos Filtrados): 0.010\n",
      "Ganancia relativa en la conversión (Datos Filtrados): 0.164\n"
     ]
    }
   ],
   "source": [
    "# Realizar la prueba U de Mann-Whitney con datos filtrados\n",
    "p_valor_filtradas = stats.mannwhitneyu(sampleA_filtradas, sampleB_filtradas)[1]\n",
    "ganancia_relativa_conversion_filtradas = sampleB_filtradas.mean() / sampleA_filtradas.mean() - 1\n",
    "\n",
    "print(f\"P-valor (Datos Filtrados): {p_valor_filtradas:.3f}\")\n",
    "print(f\"Ganancia relativa en la conversión (Datos Filtrados): {ganancia_relativa_conversion_filtradas:.3f}\")"
   ]
  },
  {
   "cell_type": "markdown",
   "metadata": {},
   "source": [
    "* El valor p de 0.010 es significativamente menor que el umbral comúnmente utilizado de 0.05. Esto indica que la diferencia en la tasa de conversión entre los grupos A y B es estadísticamente significativa, incluso después de filtrar los datos.\n",
    "\n",
    "* La ganancia relativa en la conversión es del 16.4%, lo que significa que el grupo B tiene una tasa de conversión un 16.4% mayor que el grupo A.\n",
    "\n",
    "* La diferencia significativa en la tasa de conversión se mantiene incluso después de filtrar los datos, lo que refuerza la conclusión de que las estrategias implementadas para el grupo B son efectivas para aumentar la conversión.\n",
    "\n",
    "* La ganancia relativa del 16.4% en la conversión sugiere un impacto sostenido de las intervenciones aplicadas al grupo B, lo que es considerablemente beneficioso para los ingresos y la efectividad global de las estrategias."
   ]
  },
  {
   "cell_type": "markdown",
   "metadata": {},
   "source": [
    "**12. Significancia estadística de la diferencia en el tamaño promedio de pedido entre los grupos utilizando los datos filtrados**"
   ]
  },
  {
   "cell_type": "code",
   "execution_count": 57,
   "metadata": {},
   "outputs": [
    {
     "name": "stdout",
     "output_type": "stream",
     "text": [
      "P-valor (Datos Filtrados): 0.934\n",
      "Ganancia relativa en el tamaño promedio de pedidos (Datos Filtrados): -0.031\n"
     ]
    }
   ],
   "source": [
    "# Filtrar las órdenes eliminando las anomalías basadas en el percentil 99 de los precios de los pedidos\n",
    "percentil_99 = ordenes['revenue'].quantile(0.99)\n",
    "ordenes_filtradas = ordenes[ordenes['revenue'] <= percentil_99]\n",
    "\n",
    "# Realizar la prueba U de Mann-Whitney para comparar el tamaño promedio de pedido entre los grupos A y B con datos filtrados\n",
    "p_valor_filtradas = stats.mannwhitneyu(ordenes_filtradas[ordenes_filtradas['group'] == 'A']['revenue'],\n",
    "                                       ordenes_filtradas[ordenes_filtradas['group'] == 'B']['revenue'])[1]\n",
    "\n",
    "ganancia_relativa_tamaño_pedido_filtradas = ordenes_filtradas[ordenes_filtradas['group'] == 'B']['revenue'].mean() / \\\n",
    "                                             ordenes_filtradas[ordenes_filtradas['group'] == 'A']['revenue'].mean() - 1\n",
    "\n",
    "print(f\"P-valor (Datos Filtrados): {p_valor_filtradas:.3f}\")\n",
    "print(f\"Ganancia relativa en el tamaño promedio de pedidos (Datos Filtrados): {ganancia_relativa_tamaño_pedido_filtradas:.3f}\")\n"
   ]
  },
  {
   "cell_type": "markdown",
   "metadata": {},
   "source": [
    "* El p-valor de 0.934 es significativamente mayor que el umbral comúnmente utilizado de 0.05. Esto indica que no hay evidencia suficiente para afirmar que existe una diferencia estadísticamente significativa en el tamaño promedio de pedido entre los grupos A y B, incluso después de filtrar los datos.\n",
    "\n",
    "* La ganancia relativa en el tamaño promedio de pedido es de -3.1%, lo que significa que el grupo B tiene un tamaño promedio de pedido ligeramente menor que el grupo A.\n",
    "\n",
    "* Dado el alto p-valor, no podemos concluir que las diferencias observadas en el tamaño promedio de pedido entre los grupos A y B sean significativas desde el punto de vista estadístico. Esto sugiere que las estrategias o condiciones aplicadas a los grupos no han tenido un impacto significativo en el tamaño del pedido, incluso después de filtrar las anomalías.\n",
    "\n",
    "* Los resultados filtrados son consistentes con los datos brutos, lo que refuerza la conclusión de que no hay una diferencia significativa en el tamaño promedio de pedido entre los dos grupos."
   ]
  },
  {
   "cell_type": "markdown",
   "metadata": {},
   "source": [
    "**13. Toma una decisión basada en los resultados de la prueba**"
   ]
  },
  {
   "cell_type": "markdown",
   "metadata": {},
   "source": [
    "Con base en los resultados obtenidos de los puntos anteriores, podemos tomar una decisión informada:\n",
    "\n",
    "**Conversión (Punto 9 y Punto 11):**\n",
    "\n",
    "* Datos en bruto: El grupo B mostró una ganancia relativa en la conversión del 16%, con un p-valor de 0.011, indicando una diferencia estadísticamente significativa.\n",
    "\n",
    "* Datos filtrados: El grupo B mantuvo una ganancia relativa en la conversión del 16.4%, con un p-valor de 0.010, reforzando la significancia estadística de la diferencia en la tasa de conversión entre los grupos A y B.\n",
    "\n",
    "**Tamaño promedio de pedido (Punto 10 y Punto 12):**\n",
    "\n",
    "* Datos en bruto: No se encontró una diferencia estadísticamente significativa en el tamaño promedio de pedido entre los grupos A y B (p-valor de 0.862). La ganancia relativa fue del 27.8%, pero no es estadísticamente significativa.\n",
    "\n",
    "* Datos filtrados: De nuevo, no se encontró una diferencia estadísticamente significativa en el tamaño promedio de pedido entre los grupos A y B (p-valor de 0.934). La ganancia relativa fue de -3.1%, lo que indica que el tamaño promedio de pedido del grupo B es ligeramente menor que el del grupo A, pero no es estadísticamente significativo.\n",
    "\n",
    "Conclusiones:\n",
    "\n",
    "* Conversión: La conversión es significativamente mayor en el grupo B, tanto con datos en bruto como con datos filtrados. Esto sugiere que las estrategias aplicadas al grupo B son efectivas para aumentar la tasa de conversión.\n",
    "\n",
    "* Tamaño promedio de pedido: No hay evidencia suficiente para concluir que existe una diferencia significativa en el tamaño promedio de pedido entre los grupos A y B.\n",
    "\n",
    "**Decisión recomendada:**\n",
    "\n",
    "* Parar la prueba y considerar al grupo B como líder: Dado que el grupo B ha mostrado consistentemente una tasa de conversión significativamente mayor, se recomienda adoptar las estrategias implementadas en el grupo B como las más efectivas para mejorar la conversión. Aunque no haya una diferencia significativa en el tamaño promedio de pedido, el aumento en la tasa de conversión es un indicador positivo y valioso para el negocio."
   ]
  }
 ],
 "metadata": {
  "ExecuteTimeLog": [
   {
    "duration": 2208,
    "start_time": "2024-11-03T22:08:48.483Z"
   },
   {
    "duration": 9,
    "start_time": "2024-11-03T22:09:20.279Z"
   },
   {
    "duration": 8,
    "start_time": "2024-11-03T22:12:30.187Z"
   },
   {
    "duration": 6,
    "start_time": "2024-11-03T22:12:42.923Z"
   },
   {
    "duration": 6,
    "start_time": "2024-11-03T22:13:00.362Z"
   },
   {
    "duration": 7,
    "start_time": "2024-11-03T22:13:01.252Z"
   },
   {
    "duration": 11,
    "start_time": "2024-11-03T22:14:06.530Z"
   },
   {
    "duration": 4,
    "start_time": "2024-11-03T22:14:24.175Z"
   },
   {
    "duration": 13,
    "start_time": "2024-11-03T23:14:36.894Z"
   },
   {
    "duration": 192,
    "start_time": "2024-11-03T23:15:34.749Z"
   },
   {
    "duration": 8,
    "start_time": "2024-11-03T23:15:53.485Z"
   },
   {
    "duration": 389,
    "start_time": "2024-11-03T23:16:00.540Z"
   },
   {
    "duration": 42,
    "start_time": "2024-11-03T23:16:00.931Z"
   },
   {
    "duration": 9,
    "start_time": "2024-11-03T23:16:00.975Z"
   },
   {
    "duration": 9,
    "start_time": "2024-11-03T23:16:00.985Z"
   },
   {
    "duration": 4,
    "start_time": "2024-11-03T23:16:00.996Z"
   },
   {
    "duration": 8,
    "start_time": "2024-11-03T23:16:01.001Z"
   },
   {
    "duration": 4,
    "start_time": "2024-11-03T23:18:50.149Z"
   },
   {
    "duration": 9,
    "start_time": "2024-11-03T23:19:07.986Z"
   },
   {
    "duration": 4,
    "start_time": "2024-11-04T00:20:30.740Z"
   },
   {
    "duration": 4,
    "start_time": "2024-11-04T00:21:17.851Z"
   },
   {
    "duration": 184,
    "start_time": "2024-11-04T00:30:38.844Z"
   },
   {
    "duration": 7,
    "start_time": "2024-11-04T00:31:11.328Z"
   },
   {
    "duration": 272,
    "start_time": "2024-11-04T00:31:41.052Z"
   },
   {
    "duration": 555,
    "start_time": "2024-11-04T00:32:03.310Z"
   },
   {
    "duration": 40,
    "start_time": "2024-11-04T00:32:50.146Z"
   },
   {
    "duration": 321,
    "start_time": "2024-11-04T00:33:03.087Z"
   },
   {
    "duration": 580,
    "start_time": "2024-11-04T00:33:08.580Z"
   },
   {
    "duration": 9,
    "start_time": "2024-11-04T00:33:21.185Z"
   },
   {
    "duration": 328,
    "start_time": "2024-11-04T00:33:28.090Z"
   },
   {
    "duration": 454,
    "start_time": "2024-11-04T00:33:30.850Z"
   },
   {
    "duration": 31,
    "start_time": "2024-11-04T00:33:58.068Z"
   },
   {
    "duration": 7,
    "start_time": "2024-11-04T00:34:28.755Z"
   },
   {
    "duration": 308,
    "start_time": "2024-11-04T00:34:44.772Z"
   },
   {
    "duration": 8,
    "start_time": "2024-11-04T00:34:45.875Z"
   },
   {
    "duration": 471,
    "start_time": "2024-11-04T00:35:14.900Z"
   },
   {
    "duration": 7,
    "start_time": "2024-11-04T00:35:21.853Z"
   },
   {
    "duration": 310,
    "start_time": "2024-11-04T00:35:51.517Z"
   },
   {
    "duration": 4,
    "start_time": "2024-11-04T00:35:52.455Z"
   },
   {
    "duration": 8,
    "start_time": "2024-11-04T00:36:02.476Z"
   },
   {
    "duration": 7,
    "start_time": "2024-11-04T00:36:07.852Z"
   },
   {
    "duration": 6,
    "start_time": "2024-11-04T00:36:28.423Z"
   },
   {
    "duration": 411,
    "start_time": "2024-11-04T00:39:19.016Z"
   },
   {
    "duration": 41,
    "start_time": "2024-11-04T00:39:19.429Z"
   },
   {
    "duration": 9,
    "start_time": "2024-11-04T00:39:19.472Z"
   },
   {
    "duration": 9,
    "start_time": "2024-11-04T00:39:19.482Z"
   },
   {
    "duration": 4,
    "start_time": "2024-11-04T00:39:19.493Z"
   },
   {
    "duration": 9,
    "start_time": "2024-11-04T00:39:19.498Z"
   },
   {
    "duration": 3,
    "start_time": "2024-11-04T00:39:19.508Z"
   },
   {
    "duration": 9,
    "start_time": "2024-11-04T00:39:19.513Z"
   },
   {
    "duration": 4,
    "start_time": "2024-11-04T00:39:19.523Z"
   },
   {
    "duration": 47,
    "start_time": "2024-11-04T00:39:19.528Z"
   },
   {
    "duration": 390,
    "start_time": "2024-11-04T00:39:31.946Z"
   },
   {
    "duration": 38,
    "start_time": "2024-11-04T00:39:32.339Z"
   },
   {
    "duration": 10,
    "start_time": "2024-11-04T00:39:32.379Z"
   },
   {
    "duration": 8,
    "start_time": "2024-11-04T00:39:32.391Z"
   },
   {
    "duration": 4,
    "start_time": "2024-11-04T00:39:32.401Z"
   },
   {
    "duration": 9,
    "start_time": "2024-11-04T00:39:32.406Z"
   },
   {
    "duration": 4,
    "start_time": "2024-11-04T00:39:32.416Z"
   },
   {
    "duration": 8,
    "start_time": "2024-11-04T00:39:32.421Z"
   },
   {
    "duration": 4,
    "start_time": "2024-11-04T00:39:32.431Z"
   },
   {
    "duration": 7,
    "start_time": "2024-11-04T01:28:12.563Z"
   },
   {
    "duration": 14,
    "start_time": "2024-11-04T01:28:38.619Z"
   },
   {
    "duration": 403,
    "start_time": "2024-11-04T01:28:44.221Z"
   },
   {
    "duration": 35,
    "start_time": "2024-11-04T01:28:44.627Z"
   },
   {
    "duration": 13,
    "start_time": "2024-11-04T01:28:44.663Z"
   },
   {
    "duration": 8,
    "start_time": "2024-11-04T01:28:44.678Z"
   },
   {
    "duration": 5,
    "start_time": "2024-11-04T01:28:44.688Z"
   },
   {
    "duration": 9,
    "start_time": "2024-11-04T01:28:44.696Z"
   },
   {
    "duration": 4,
    "start_time": "2024-11-04T01:28:44.706Z"
   },
   {
    "duration": 9,
    "start_time": "2024-11-04T01:28:44.711Z"
   },
   {
    "duration": 4,
    "start_time": "2024-11-04T01:28:44.721Z"
   },
   {
    "duration": 43,
    "start_time": "2024-11-04T01:28:44.727Z"
   },
   {
    "duration": 11,
    "start_time": "2024-11-04T01:29:05.405Z"
   },
   {
    "duration": 8,
    "start_time": "2024-11-04T01:29:20.019Z"
   },
   {
    "duration": 10,
    "start_time": "2024-11-04T01:33:53.163Z"
   },
   {
    "duration": 9,
    "start_time": "2024-11-04T01:34:04.667Z"
   },
   {
    "duration": 435,
    "start_time": "2024-11-04T01:34:51.975Z"
   },
   {
    "duration": 38,
    "start_time": "2024-11-04T01:34:52.412Z"
   },
   {
    "duration": 8,
    "start_time": "2024-11-04T01:34:52.451Z"
   },
   {
    "duration": 16,
    "start_time": "2024-11-04T01:34:52.460Z"
   },
   {
    "duration": 4,
    "start_time": "2024-11-04T01:34:52.479Z"
   },
   {
    "duration": 8,
    "start_time": "2024-11-04T01:34:52.484Z"
   },
   {
    "duration": 4,
    "start_time": "2024-11-04T01:34:52.493Z"
   },
   {
    "duration": 10,
    "start_time": "2024-11-04T01:34:52.498Z"
   },
   {
    "duration": 3,
    "start_time": "2024-11-04T01:34:52.510Z"
   },
   {
    "duration": 9,
    "start_time": "2024-11-04T01:34:52.514Z"
   },
   {
    "duration": 46,
    "start_time": "2024-11-04T01:34:52.525Z"
   },
   {
    "duration": 11,
    "start_time": "2024-11-04T01:34:52.573Z"
   },
   {
    "duration": 9,
    "start_time": "2024-11-04T01:34:52.586Z"
   },
   {
    "duration": 9,
    "start_time": "2024-11-04T01:34:52.599Z"
   },
   {
    "duration": 8,
    "start_time": "2024-11-04T01:34:52.610Z"
   },
   {
    "duration": 3,
    "start_time": "2024-11-04T01:40:59.252Z"
   },
   {
    "duration": 8,
    "start_time": "2024-11-04T01:41:07.822Z"
   },
   {
    "duration": 5,
    "start_time": "2024-11-04T01:47:03.216Z"
   },
   {
    "duration": 8,
    "start_time": "2024-11-04T01:47:07.596Z"
   },
   {
    "duration": 184,
    "start_time": "2024-11-04T01:57:42.537Z"
   },
   {
    "duration": 14,
    "start_time": "2024-11-04T01:58:23.287Z"
   },
   {
    "duration": 438,
    "start_time": "2024-11-04T01:58:41.479Z"
   },
   {
    "duration": 42,
    "start_time": "2024-11-04T01:58:41.919Z"
   },
   {
    "duration": 13,
    "start_time": "2024-11-04T01:58:41.963Z"
   },
   {
    "duration": 8,
    "start_time": "2024-11-04T01:58:41.977Z"
   },
   {
    "duration": 4,
    "start_time": "2024-11-04T01:58:41.988Z"
   },
   {
    "duration": 8,
    "start_time": "2024-11-04T01:58:41.993Z"
   },
   {
    "duration": 3,
    "start_time": "2024-11-04T01:58:42.003Z"
   },
   {
    "duration": 8,
    "start_time": "2024-11-04T01:58:42.008Z"
   },
   {
    "duration": 3,
    "start_time": "2024-11-04T01:58:42.018Z"
   },
   {
    "duration": 50,
    "start_time": "2024-11-04T01:58:42.023Z"
   },
   {
    "duration": 10,
    "start_time": "2024-11-04T01:58:42.075Z"
   },
   {
    "duration": 8,
    "start_time": "2024-11-04T01:58:42.087Z"
   },
   {
    "duration": 10,
    "start_time": "2024-11-04T01:58:42.096Z"
   },
   {
    "duration": 7,
    "start_time": "2024-11-04T01:58:42.110Z"
   },
   {
    "duration": 7,
    "start_time": "2024-11-04T01:58:42.119Z"
   },
   {
    "duration": 3,
    "start_time": "2024-11-04T01:58:42.128Z"
   },
   {
    "duration": 41,
    "start_time": "2024-11-04T01:58:42.134Z"
   },
   {
    "duration": 4,
    "start_time": "2024-11-04T01:58:42.177Z"
   },
   {
    "duration": 8,
    "start_time": "2024-11-04T01:58:42.182Z"
   },
   {
    "duration": 410,
    "start_time": "2024-11-04T01:58:42.192Z"
   },
   {
    "duration": 118,
    "start_time": "2024-11-04T01:59:13.130Z"
   },
   {
    "duration": 12,
    "start_time": "2024-11-04T01:59:21.419Z"
   },
   {
    "duration": 440,
    "start_time": "2024-11-04T01:59:38.589Z"
   },
   {
    "duration": 39,
    "start_time": "2024-11-04T01:59:39.031Z"
   },
   {
    "duration": 8,
    "start_time": "2024-11-04T01:59:39.072Z"
   },
   {
    "duration": 8,
    "start_time": "2024-11-04T01:59:39.082Z"
   },
   {
    "duration": 4,
    "start_time": "2024-11-04T01:59:39.092Z"
   },
   {
    "duration": 8,
    "start_time": "2024-11-04T01:59:39.098Z"
   },
   {
    "duration": 4,
    "start_time": "2024-11-04T01:59:39.107Z"
   },
   {
    "duration": 8,
    "start_time": "2024-11-04T01:59:39.113Z"
   },
   {
    "duration": 4,
    "start_time": "2024-11-04T01:59:39.122Z"
   },
   {
    "duration": 49,
    "start_time": "2024-11-04T01:59:39.128Z"
   },
   {
    "duration": 11,
    "start_time": "2024-11-04T01:59:39.178Z"
   },
   {
    "duration": 7,
    "start_time": "2024-11-04T01:59:39.191Z"
   },
   {
    "duration": 9,
    "start_time": "2024-11-04T01:59:39.200Z"
   },
   {
    "duration": 8,
    "start_time": "2024-11-04T01:59:39.212Z"
   },
   {
    "duration": 8,
    "start_time": "2024-11-04T01:59:39.221Z"
   },
   {
    "duration": 39,
    "start_time": "2024-11-04T01:59:39.231Z"
   },
   {
    "duration": 8,
    "start_time": "2024-11-04T01:59:39.272Z"
   },
   {
    "duration": 4,
    "start_time": "2024-11-04T01:59:39.282Z"
   },
   {
    "duration": 9,
    "start_time": "2024-11-04T01:59:39.288Z"
   },
   {
    "duration": 137,
    "start_time": "2024-11-04T01:59:39.300Z"
   },
   {
    "duration": 10,
    "start_time": "2024-11-04T01:59:39.439Z"
   },
   {
    "duration": 129,
    "start_time": "2024-11-04T02:02:01.874Z"
   },
   {
    "duration": 10,
    "start_time": "2024-11-04T02:02:02.716Z"
   },
   {
    "duration": 131,
    "start_time": "2024-11-04T02:02:40.770Z"
   },
   {
    "duration": 10,
    "start_time": "2024-11-04T02:02:41.364Z"
   },
   {
    "duration": 420,
    "start_time": "2024-11-04T02:02:47.926Z"
   },
   {
    "duration": 47,
    "start_time": "2024-11-04T02:02:48.349Z"
   },
   {
    "duration": 10,
    "start_time": "2024-11-04T02:02:48.397Z"
   },
   {
    "duration": 8,
    "start_time": "2024-11-04T02:02:48.409Z"
   },
   {
    "duration": 4,
    "start_time": "2024-11-04T02:02:48.419Z"
   },
   {
    "duration": 7,
    "start_time": "2024-11-04T02:02:48.425Z"
   },
   {
    "duration": 3,
    "start_time": "2024-11-04T02:02:48.434Z"
   },
   {
    "duration": 33,
    "start_time": "2024-11-04T02:02:48.439Z"
   },
   {
    "duration": 3,
    "start_time": "2024-11-04T02:02:48.473Z"
   },
   {
    "duration": 8,
    "start_time": "2024-11-04T02:02:48.478Z"
   },
   {
    "duration": 9,
    "start_time": "2024-11-04T02:02:48.488Z"
   },
   {
    "duration": 8,
    "start_time": "2024-11-04T02:02:48.499Z"
   },
   {
    "duration": 10,
    "start_time": "2024-11-04T02:02:48.508Z"
   },
   {
    "duration": 7,
    "start_time": "2024-11-04T02:02:48.521Z"
   },
   {
    "duration": 46,
    "start_time": "2024-11-04T02:02:48.530Z"
   },
   {
    "duration": 4,
    "start_time": "2024-11-04T02:02:48.577Z"
   },
   {
    "duration": 8,
    "start_time": "2024-11-04T02:02:48.583Z"
   },
   {
    "duration": 5,
    "start_time": "2024-11-04T02:02:48.593Z"
   },
   {
    "duration": 7,
    "start_time": "2024-11-04T02:02:48.600Z"
   },
   {
    "duration": 161,
    "start_time": "2024-11-04T02:02:48.609Z"
   },
   {
    "duration": 9,
    "start_time": "2024-11-04T02:02:48.772Z"
   },
   {
    "duration": 3,
    "start_time": "2024-11-04T02:09:36.885Z"
   },
   {
    "duration": 10,
    "start_time": "2024-11-04T02:09:40.993Z"
   },
   {
    "duration": 4,
    "start_time": "2024-11-04T02:19:21.682Z"
   },
   {
    "duration": 4,
    "start_time": "2024-11-04T02:21:50.560Z"
   },
   {
    "duration": 717,
    "start_time": "2024-11-04T02:21:59.644Z"
   },
   {
    "duration": 4,
    "start_time": "2024-11-04T02:22:32.174Z"
   },
   {
    "duration": 3,
    "start_time": "2024-11-04T02:23:53.825Z"
   },
   {
    "duration": 4,
    "start_time": "2024-11-04T02:26:38.845Z"
   },
   {
    "duration": 4,
    "start_time": "2024-11-04T02:27:09.355Z"
   },
   {
    "duration": 4,
    "start_time": "2024-11-04T02:27:56.314Z"
   },
   {
    "duration": 4,
    "start_time": "2024-11-04T02:28:01.636Z"
   },
   {
    "duration": 141,
    "start_time": "2024-11-04T02:29:03.340Z"
   },
   {
    "duration": 107,
    "start_time": "2024-11-04T02:29:15.979Z"
   },
   {
    "duration": 433,
    "start_time": "2024-11-04T02:29:25.043Z"
   },
   {
    "duration": 43,
    "start_time": "2024-11-04T02:29:25.480Z"
   },
   {
    "duration": 9,
    "start_time": "2024-11-04T02:29:25.525Z"
   },
   {
    "duration": 8,
    "start_time": "2024-11-04T02:29:25.536Z"
   },
   {
    "duration": 24,
    "start_time": "2024-11-04T02:29:25.548Z"
   },
   {
    "duration": 8,
    "start_time": "2024-11-04T02:29:25.574Z"
   },
   {
    "duration": 4,
    "start_time": "2024-11-04T02:29:25.584Z"
   },
   {
    "duration": 8,
    "start_time": "2024-11-04T02:29:25.590Z"
   },
   {
    "duration": 4,
    "start_time": "2024-11-04T02:29:25.600Z"
   },
   {
    "duration": 11,
    "start_time": "2024-11-04T02:29:25.606Z"
   },
   {
    "duration": 13,
    "start_time": "2024-11-04T02:29:25.618Z"
   },
   {
    "duration": 44,
    "start_time": "2024-11-04T02:29:25.632Z"
   },
   {
    "duration": 9,
    "start_time": "2024-11-04T02:29:25.678Z"
   },
   {
    "duration": 9,
    "start_time": "2024-11-04T02:29:25.690Z"
   },
   {
    "duration": 10,
    "start_time": "2024-11-04T02:29:25.701Z"
   },
   {
    "duration": 5,
    "start_time": "2024-11-04T02:29:25.713Z"
   },
   {
    "duration": 9,
    "start_time": "2024-11-04T02:29:25.721Z"
   },
   {
    "duration": 39,
    "start_time": "2024-11-04T02:29:25.732Z"
   },
   {
    "duration": 10,
    "start_time": "2024-11-04T02:29:25.773Z"
   },
   {
    "duration": 145,
    "start_time": "2024-11-04T02:29:25.784Z"
   },
   {
    "duration": 3,
    "start_time": "2024-11-04T02:29:25.931Z"
   },
   {
    "duration": 11,
    "start_time": "2024-11-04T02:29:25.935Z"
   },
   {
    "duration": 96,
    "start_time": "2024-11-04T02:29:25.948Z"
   },
   {
    "duration": 12,
    "start_time": "2024-11-04T02:29:39.438Z"
   },
   {
    "duration": 6,
    "start_time": "2024-11-04T02:32:42.013Z"
   },
   {
    "duration": 21,
    "start_time": "2024-11-04T02:32:46.333Z"
   },
   {
    "duration": 6,
    "start_time": "2024-11-04T02:33:54.383Z"
   },
   {
    "duration": 12,
    "start_time": "2024-11-04T02:33:54.872Z"
   },
   {
    "duration": 454,
    "start_time": "2024-11-04T02:34:04.709Z"
   },
   {
    "duration": 59,
    "start_time": "2024-11-04T02:34:05.165Z"
   },
   {
    "duration": 12,
    "start_time": "2024-11-04T02:34:05.226Z"
   },
   {
    "duration": 11,
    "start_time": "2024-11-04T02:34:05.241Z"
   },
   {
    "duration": 20,
    "start_time": "2024-11-04T02:34:05.254Z"
   },
   {
    "duration": 10,
    "start_time": "2024-11-04T02:34:05.276Z"
   },
   {
    "duration": 3,
    "start_time": "2024-11-04T02:34:05.290Z"
   },
   {
    "duration": 11,
    "start_time": "2024-11-04T02:34:05.295Z"
   },
   {
    "duration": 4,
    "start_time": "2024-11-04T02:34:05.307Z"
   },
   {
    "duration": 8,
    "start_time": "2024-11-04T02:34:05.315Z"
   },
   {
    "duration": 49,
    "start_time": "2024-11-04T02:34:05.325Z"
   },
   {
    "duration": 12,
    "start_time": "2024-11-04T02:34:05.376Z"
   },
   {
    "duration": 10,
    "start_time": "2024-11-04T02:34:05.390Z"
   },
   {
    "duration": 11,
    "start_time": "2024-11-04T02:34:05.402Z"
   },
   {
    "duration": 11,
    "start_time": "2024-11-04T02:34:05.415Z"
   },
   {
    "duration": 4,
    "start_time": "2024-11-04T02:34:05.427Z"
   },
   {
    "duration": 41,
    "start_time": "2024-11-04T02:34:05.433Z"
   },
   {
    "duration": 5,
    "start_time": "2024-11-04T02:34:05.476Z"
   },
   {
    "duration": 8,
    "start_time": "2024-11-04T02:34:05.483Z"
   },
   {
    "duration": 165,
    "start_time": "2024-11-04T02:34:05.492Z"
   },
   {
    "duration": 12,
    "start_time": "2024-11-04T02:34:05.659Z"
   },
   {
    "duration": 13,
    "start_time": "2024-11-04T02:34:05.673Z"
   },
   {
    "duration": 136,
    "start_time": "2024-11-04T02:34:05.688Z"
   },
   {
    "duration": 11,
    "start_time": "2024-11-04T02:34:05.826Z"
   },
   {
    "duration": 6,
    "start_time": "2024-11-04T02:34:05.839Z"
   },
   {
    "duration": 35,
    "start_time": "2024-11-04T02:34:05.847Z"
   },
   {
    "duration": 3,
    "start_time": "2024-11-04T02:35:18.486Z"
   },
   {
    "duration": 12,
    "start_time": "2024-11-04T02:35:23.085Z"
   },
   {
    "duration": 3,
    "start_time": "2024-11-04T02:37:50.890Z"
   },
   {
    "duration": 15,
    "start_time": "2024-11-04T02:37:52.074Z"
   },
   {
    "duration": 771,
    "start_time": "2024-11-04T02:37:53.138Z"
   },
   {
    "duration": 120,
    "start_time": "2024-11-04T02:38:07.866Z"
   },
   {
    "duration": 121,
    "start_time": "2024-11-04T02:38:21.059Z"
   },
   {
    "duration": 5,
    "start_time": "2024-11-04T02:38:28.341Z"
   },
   {
    "duration": 136,
    "start_time": "2024-11-04T02:41:10.672Z"
   },
   {
    "duration": 7,
    "start_time": "2024-11-04T02:41:32.616Z"
   },
   {
    "duration": 129,
    "start_time": "2024-11-04T02:41:33.489Z"
   },
   {
    "duration": 388,
    "start_time": "2024-11-04T02:41:40.153Z"
   },
   {
    "duration": 52,
    "start_time": "2024-11-04T02:41:40.543Z"
   },
   {
    "duration": 9,
    "start_time": "2024-11-04T02:41:40.596Z"
   },
   {
    "duration": 8,
    "start_time": "2024-11-04T02:41:40.606Z"
   },
   {
    "duration": 4,
    "start_time": "2024-11-04T02:41:40.617Z"
   },
   {
    "duration": 7,
    "start_time": "2024-11-04T02:41:40.623Z"
   },
   {
    "duration": 3,
    "start_time": "2024-11-04T02:41:40.632Z"
   },
   {
    "duration": 34,
    "start_time": "2024-11-04T02:41:40.637Z"
   },
   {
    "duration": 7,
    "start_time": "2024-11-04T02:41:40.673Z"
   },
   {
    "duration": 8,
    "start_time": "2024-11-04T02:41:40.681Z"
   },
   {
    "duration": 10,
    "start_time": "2024-11-04T02:41:40.691Z"
   },
   {
    "duration": 8,
    "start_time": "2024-11-04T02:41:40.703Z"
   },
   {
    "duration": 10,
    "start_time": "2024-11-04T02:41:40.712Z"
   },
   {
    "duration": 8,
    "start_time": "2024-11-04T02:41:40.725Z"
   },
   {
    "duration": 7,
    "start_time": "2024-11-04T02:41:40.771Z"
   },
   {
    "duration": 3,
    "start_time": "2024-11-04T02:41:40.780Z"
   },
   {
    "duration": 7,
    "start_time": "2024-11-04T02:41:40.785Z"
   },
   {
    "duration": 4,
    "start_time": "2024-11-04T02:41:40.794Z"
   },
   {
    "duration": 8,
    "start_time": "2024-11-04T02:41:40.799Z"
   },
   {
    "duration": 167,
    "start_time": "2024-11-04T02:41:40.808Z"
   },
   {
    "duration": 3,
    "start_time": "2024-11-04T02:41:40.977Z"
   },
   {
    "duration": 10,
    "start_time": "2024-11-04T02:41:40.981Z"
   },
   {
    "duration": 100,
    "start_time": "2024-11-04T02:41:40.992Z"
   },
   {
    "duration": 10,
    "start_time": "2024-11-04T02:41:41.093Z"
   },
   {
    "duration": 5,
    "start_time": "2024-11-04T02:41:41.105Z"
   },
   {
    "duration": 12,
    "start_time": "2024-11-04T02:41:41.112Z"
   },
   {
    "duration": 3,
    "start_time": "2024-11-04T02:41:41.126Z"
   },
   {
    "duration": 41,
    "start_time": "2024-11-04T02:41:41.131Z"
   },
   {
    "duration": 9,
    "start_time": "2024-11-04T02:41:41.174Z"
   },
   {
    "duration": 151,
    "start_time": "2024-11-04T02:41:41.184Z"
   },
   {
    "duration": 130,
    "start_time": "2024-11-04T02:42:15.482Z"
   },
   {
    "duration": 140,
    "start_time": "2024-11-04T02:45:06.205Z"
   },
   {
    "duration": 2183,
    "start_time": "2024-11-04T17:38:34.007Z"
   },
   {
    "duration": 10,
    "start_time": "2024-11-04T17:38:36.192Z"
   },
   {
    "duration": 12,
    "start_time": "2024-11-04T17:38:36.203Z"
   },
   {
    "duration": 9,
    "start_time": "2024-11-04T17:38:36.217Z"
   },
   {
    "duration": 4,
    "start_time": "2024-11-04T17:38:36.227Z"
   },
   {
    "duration": 8,
    "start_time": "2024-11-04T17:38:36.232Z"
   },
   {
    "duration": 3,
    "start_time": "2024-11-04T17:38:36.242Z"
   },
   {
    "duration": 8,
    "start_time": "2024-11-04T17:38:36.246Z"
   },
   {
    "duration": 5,
    "start_time": "2024-11-04T17:38:36.256Z"
   },
   {
    "duration": 45,
    "start_time": "2024-11-04T17:38:36.264Z"
   },
   {
    "duration": 9,
    "start_time": "2024-11-04T17:38:36.311Z"
   },
   {
    "duration": 8,
    "start_time": "2024-11-04T17:38:36.322Z"
   },
   {
    "duration": 9,
    "start_time": "2024-11-04T17:38:36.331Z"
   },
   {
    "duration": 8,
    "start_time": "2024-11-04T17:38:36.342Z"
   },
   {
    "duration": 8,
    "start_time": "2024-11-04T17:38:36.351Z"
   },
   {
    "duration": 3,
    "start_time": "2024-11-04T17:38:36.361Z"
   },
   {
    "duration": 48,
    "start_time": "2024-11-04T17:38:36.366Z"
   },
   {
    "duration": 5,
    "start_time": "2024-11-04T17:38:36.416Z"
   },
   {
    "duration": 8,
    "start_time": "2024-11-04T17:38:36.422Z"
   },
   {
    "duration": 149,
    "start_time": "2024-11-04T17:38:36.432Z"
   },
   {
    "duration": 2,
    "start_time": "2024-11-04T17:38:36.583Z"
   },
   {
    "duration": 22,
    "start_time": "2024-11-04T17:38:36.587Z"
   },
   {
    "duration": 99,
    "start_time": "2024-11-04T17:38:36.611Z"
   },
   {
    "duration": 9,
    "start_time": "2024-11-04T17:38:36.712Z"
   },
   {
    "duration": 7,
    "start_time": "2024-11-04T17:38:36.723Z"
   },
   {
    "duration": 20,
    "start_time": "2024-11-04T17:38:36.732Z"
   },
   {
    "duration": 5,
    "start_time": "2024-11-04T17:38:36.755Z"
   },
   {
    "duration": 13,
    "start_time": "2024-11-04T17:38:36.764Z"
   },
   {
    "duration": 34,
    "start_time": "2024-11-04T17:38:36.779Z"
   },
   {
    "duration": 151,
    "start_time": "2024-11-04T17:38:36.817Z"
   },
   {
    "duration": 145,
    "start_time": "2024-11-04T17:38:36.970Z"
   },
   {
    "duration": 3,
    "start_time": "2024-11-04T17:45:27.178Z"
   },
   {
    "duration": 7,
    "start_time": "2024-11-04T17:45:42.917Z"
   },
   {
    "duration": 439,
    "start_time": "2024-11-04T17:46:15.050Z"
   },
   {
    "duration": 38,
    "start_time": "2024-11-04T17:46:15.492Z"
   },
   {
    "duration": 9,
    "start_time": "2024-11-04T17:46:15.532Z"
   },
   {
    "duration": 8,
    "start_time": "2024-11-04T17:46:15.543Z"
   },
   {
    "duration": 4,
    "start_time": "2024-11-04T17:46:15.554Z"
   },
   {
    "duration": 8,
    "start_time": "2024-11-04T17:46:15.559Z"
   },
   {
    "duration": 3,
    "start_time": "2024-11-04T17:46:15.570Z"
   },
   {
    "duration": 40,
    "start_time": "2024-11-04T17:46:15.575Z"
   },
   {
    "duration": 4,
    "start_time": "2024-11-04T17:46:15.616Z"
   },
   {
    "duration": 9,
    "start_time": "2024-11-04T17:46:15.622Z"
   },
   {
    "duration": 10,
    "start_time": "2024-11-04T17:46:15.632Z"
   },
   {
    "duration": 8,
    "start_time": "2024-11-04T17:46:15.643Z"
   },
   {
    "duration": 3,
    "start_time": "2024-11-04T17:46:15.653Z"
   },
   {
    "duration": 6,
    "start_time": "2024-11-04T17:46:15.659Z"
   },
   {
    "duration": 43,
    "start_time": "2024-11-04T17:46:15.666Z"
   },
   {
    "duration": 8,
    "start_time": "2024-11-04T17:46:15.711Z"
   },
   {
    "duration": 7,
    "start_time": "2024-11-04T17:46:15.721Z"
   },
   {
    "duration": 3,
    "start_time": "2024-11-04T17:46:15.730Z"
   },
   {
    "duration": 7,
    "start_time": "2024-11-04T17:46:15.735Z"
   },
   {
    "duration": 5,
    "start_time": "2024-11-04T17:46:15.744Z"
   },
   {
    "duration": 7,
    "start_time": "2024-11-04T17:46:15.751Z"
   },
   {
    "duration": 177,
    "start_time": "2024-11-04T17:46:15.760Z"
   },
   {
    "duration": 3,
    "start_time": "2024-11-04T17:46:15.938Z"
   },
   {
    "duration": 10,
    "start_time": "2024-11-04T17:46:15.943Z"
   },
   {
    "duration": 109,
    "start_time": "2024-11-04T17:46:15.954Z"
   },
   {
    "duration": 10,
    "start_time": "2024-11-04T17:46:16.065Z"
   },
   {
    "duration": 5,
    "start_time": "2024-11-04T17:46:16.077Z"
   },
   {
    "duration": 27,
    "start_time": "2024-11-04T17:46:16.084Z"
   },
   {
    "duration": 3,
    "start_time": "2024-11-04T17:46:16.113Z"
   },
   {
    "duration": 10,
    "start_time": "2024-11-04T17:46:16.119Z"
   },
   {
    "duration": 8,
    "start_time": "2024-11-04T17:46:16.131Z"
   },
   {
    "duration": 167,
    "start_time": "2024-11-04T17:46:16.141Z"
   },
   {
    "duration": 144,
    "start_time": "2024-11-04T17:46:16.310Z"
   },
   {
    "duration": 3,
    "start_time": "2024-11-04T17:47:05.077Z"
   },
   {
    "duration": 7,
    "start_time": "2024-11-04T17:47:06.633Z"
   },
   {
    "duration": 397,
    "start_time": "2024-11-04T17:47:22.479Z"
   },
   {
    "duration": 44,
    "start_time": "2024-11-04T17:47:22.878Z"
   },
   {
    "duration": 10,
    "start_time": "2024-11-04T17:47:22.923Z"
   },
   {
    "duration": 10,
    "start_time": "2024-11-04T17:47:22.934Z"
   },
   {
    "duration": 4,
    "start_time": "2024-11-04T17:47:22.946Z"
   },
   {
    "duration": 8,
    "start_time": "2024-11-04T17:47:22.952Z"
   },
   {
    "duration": 4,
    "start_time": "2024-11-04T17:47:22.961Z"
   },
   {
    "duration": 45,
    "start_time": "2024-11-04T17:47:22.967Z"
   },
   {
    "duration": 4,
    "start_time": "2024-11-04T17:47:23.014Z"
   },
   {
    "duration": 10,
    "start_time": "2024-11-04T17:47:23.020Z"
   },
   {
    "duration": 10,
    "start_time": "2024-11-04T17:47:23.032Z"
   },
   {
    "duration": 8,
    "start_time": "2024-11-04T17:47:23.043Z"
   },
   {
    "duration": 3,
    "start_time": "2024-11-04T17:47:23.053Z"
   },
   {
    "duration": 4,
    "start_time": "2024-11-04T17:47:23.060Z"
   },
   {
    "duration": 9,
    "start_time": "2024-11-04T17:47:23.066Z"
   },
   {
    "duration": 39,
    "start_time": "2024-11-04T17:47:23.077Z"
   },
   {
    "duration": 8,
    "start_time": "2024-11-04T17:47:23.118Z"
   },
   {
    "duration": 4,
    "start_time": "2024-11-04T17:47:23.128Z"
   },
   {
    "duration": 9,
    "start_time": "2024-11-04T17:47:23.134Z"
   },
   {
    "duration": 4,
    "start_time": "2024-11-04T17:47:23.145Z"
   },
   {
    "duration": 8,
    "start_time": "2024-11-04T17:47:23.151Z"
   },
   {
    "duration": 175,
    "start_time": "2024-11-04T17:47:23.161Z"
   },
   {
    "duration": 3,
    "start_time": "2024-11-04T17:47:23.338Z"
   },
   {
    "duration": 10,
    "start_time": "2024-11-04T17:47:23.342Z"
   },
   {
    "duration": 99,
    "start_time": "2024-11-04T17:47:23.354Z"
   },
   {
    "duration": 8,
    "start_time": "2024-11-04T17:47:23.455Z"
   },
   {
    "duration": 6,
    "start_time": "2024-11-04T17:47:23.465Z"
   },
   {
    "duration": 11,
    "start_time": "2024-11-04T17:47:23.473Z"
   },
   {
    "duration": 24,
    "start_time": "2024-11-04T17:47:23.486Z"
   },
   {
    "duration": 11,
    "start_time": "2024-11-04T17:47:23.511Z"
   },
   {
    "duration": 8,
    "start_time": "2024-11-04T17:47:23.523Z"
   },
   {
    "duration": 156,
    "start_time": "2024-11-04T17:47:23.533Z"
   },
   {
    "duration": 148,
    "start_time": "2024-11-04T17:47:23.691Z"
   },
   {
    "duration": 5,
    "start_time": "2024-11-04T17:48:05.217Z"
   },
   {
    "duration": 427,
    "start_time": "2024-11-04T17:48:17.365Z"
   },
   {
    "duration": 47,
    "start_time": "2024-11-04T17:48:17.794Z"
   },
   {
    "duration": 9,
    "start_time": "2024-11-04T17:48:17.843Z"
   },
   {
    "duration": 9,
    "start_time": "2024-11-04T17:48:17.854Z"
   },
   {
    "duration": 4,
    "start_time": "2024-11-04T17:48:17.864Z"
   },
   {
    "duration": 8,
    "start_time": "2024-11-04T17:48:17.870Z"
   },
   {
    "duration": 31,
    "start_time": "2024-11-04T17:48:17.880Z"
   },
   {
    "duration": 9,
    "start_time": "2024-11-04T17:48:17.913Z"
   },
   {
    "duration": 5,
    "start_time": "2024-11-04T17:48:17.923Z"
   },
   {
    "duration": 8,
    "start_time": "2024-11-04T17:48:17.932Z"
   },
   {
    "duration": 9,
    "start_time": "2024-11-04T17:48:17.942Z"
   },
   {
    "duration": 8,
    "start_time": "2024-11-04T17:48:17.953Z"
   },
   {
    "duration": 3,
    "start_time": "2024-11-04T17:48:17.962Z"
   },
   {
    "duration": 42,
    "start_time": "2024-11-04T17:48:17.967Z"
   },
   {
    "duration": 10,
    "start_time": "2024-11-04T17:48:18.011Z"
   },
   {
    "duration": 8,
    "start_time": "2024-11-04T17:48:18.023Z"
   },
   {
    "duration": 8,
    "start_time": "2024-11-04T17:48:18.033Z"
   },
   {
    "duration": 5,
    "start_time": "2024-11-04T17:48:18.043Z"
   },
   {
    "duration": 3,
    "start_time": "2024-11-04T17:48:18.050Z"
   },
   {
    "duration": 9,
    "start_time": "2024-11-04T17:48:18.055Z"
   },
   {
    "duration": 46,
    "start_time": "2024-11-04T17:48:18.065Z"
   },
   {
    "duration": 8,
    "start_time": "2024-11-04T17:48:18.113Z"
   },
   {
    "duration": 166,
    "start_time": "2024-11-04T17:48:18.123Z"
   },
   {
    "duration": 3,
    "start_time": "2024-11-04T17:48:18.290Z"
   },
   {
    "duration": 19,
    "start_time": "2024-11-04T17:48:18.295Z"
   },
   {
    "duration": 100,
    "start_time": "2024-11-04T17:48:18.316Z"
   },
   {
    "duration": 9,
    "start_time": "2024-11-04T17:48:18.417Z"
   },
   {
    "duration": 5,
    "start_time": "2024-11-04T17:48:18.430Z"
   },
   {
    "duration": 10,
    "start_time": "2024-11-04T17:48:18.437Z"
   },
   {
    "duration": 3,
    "start_time": "2024-11-04T17:48:18.449Z"
   },
   {
    "duration": 10,
    "start_time": "2024-11-04T17:48:18.454Z"
   },
   {
    "duration": 7,
    "start_time": "2024-11-04T17:48:18.465Z"
   },
   {
    "duration": 185,
    "start_time": "2024-11-04T17:48:18.474Z"
   },
   {
    "duration": 144,
    "start_time": "2024-11-04T17:48:18.660Z"
   },
   {
    "duration": 138,
    "start_time": "2024-11-04T17:53:53.047Z"
   },
   {
    "duration": 144,
    "start_time": "2024-11-04T17:57:33.208Z"
   },
   {
    "duration": 580,
    "start_time": "2024-11-04T18:02:38.716Z"
   },
   {
    "duration": 313,
    "start_time": "2024-11-04T18:41:17.265Z"
   },
   {
    "duration": 414,
    "start_time": "2024-11-04T18:45:28.391Z"
   },
   {
    "duration": 56,
    "start_time": "2024-11-04T18:45:28.807Z"
   },
   {
    "duration": 10,
    "start_time": "2024-11-04T18:45:28.865Z"
   },
   {
    "duration": 9,
    "start_time": "2024-11-04T18:45:28.877Z"
   },
   {
    "duration": 4,
    "start_time": "2024-11-04T18:45:28.912Z"
   },
   {
    "duration": 8,
    "start_time": "2024-11-04T18:45:28.918Z"
   },
   {
    "duration": 4,
    "start_time": "2024-11-04T18:45:28.929Z"
   },
   {
    "duration": 13,
    "start_time": "2024-11-04T18:45:28.934Z"
   },
   {
    "duration": 4,
    "start_time": "2024-11-04T18:45:28.949Z"
   },
   {
    "duration": 329,
    "start_time": "2024-11-04T18:45:28.956Z"
   },
   {
    "duration": 11,
    "start_time": "2024-11-04T18:45:29.288Z"
   },
   {
    "duration": 11,
    "start_time": "2024-11-04T18:45:29.300Z"
   },
   {
    "duration": 9,
    "start_time": "2024-11-04T18:45:29.313Z"
   },
   {
    "duration": 2,
    "start_time": "2024-11-04T18:45:29.326Z"
   },
   {
    "duration": 5,
    "start_time": "2024-11-04T18:45:29.330Z"
   },
   {
    "duration": 12,
    "start_time": "2024-11-04T18:45:29.337Z"
   },
   {
    "duration": 9,
    "start_time": "2024-11-04T18:45:29.352Z"
   },
   {
    "duration": 10,
    "start_time": "2024-11-04T18:45:29.362Z"
   },
   {
    "duration": 5,
    "start_time": "2024-11-04T18:45:29.408Z"
   },
   {
    "duration": 3,
    "start_time": "2024-11-04T18:45:29.415Z"
   },
   {
    "duration": 8,
    "start_time": "2024-11-04T18:45:29.420Z"
   },
   {
    "duration": 5,
    "start_time": "2024-11-04T18:45:29.429Z"
   },
   {
    "duration": 9,
    "start_time": "2024-11-04T18:45:29.436Z"
   },
   {
    "duration": 179,
    "start_time": "2024-11-04T18:45:29.447Z"
   },
   {
    "duration": 3,
    "start_time": "2024-11-04T18:45:29.627Z"
   },
   {
    "duration": 10,
    "start_time": "2024-11-04T18:45:29.632Z"
   },
   {
    "duration": 115,
    "start_time": "2024-11-04T18:45:29.646Z"
   },
   {
    "duration": 18,
    "start_time": "2024-11-04T18:45:29.763Z"
   },
   {
    "duration": 6,
    "start_time": "2024-11-04T18:45:29.783Z"
   },
   {
    "duration": 26,
    "start_time": "2024-11-04T18:45:29.791Z"
   },
   {
    "duration": 2,
    "start_time": "2024-11-04T18:45:29.819Z"
   },
   {
    "duration": 12,
    "start_time": "2024-11-04T18:45:29.823Z"
   },
   {
    "duration": 8,
    "start_time": "2024-11-04T18:45:29.837Z"
   },
   {
    "duration": 191,
    "start_time": "2024-11-04T18:45:29.847Z"
   },
   {
    "duration": 192,
    "start_time": "2024-11-04T18:45:30.040Z"
   },
   {
    "duration": 607,
    "start_time": "2024-11-04T18:45:30.234Z"
   },
   {
    "duration": 2139,
    "start_time": "2024-11-04T22:44:47.098Z"
   },
   {
    "duration": 10,
    "start_time": "2024-11-04T22:44:49.242Z"
   },
   {
    "duration": 9,
    "start_time": "2024-11-04T22:44:49.253Z"
   },
   {
    "duration": 9,
    "start_time": "2024-11-04T22:44:49.264Z"
   },
   {
    "duration": 4,
    "start_time": "2024-11-04T22:44:49.275Z"
   },
   {
    "duration": 8,
    "start_time": "2024-11-04T22:44:49.280Z"
   },
   {
    "duration": 3,
    "start_time": "2024-11-04T22:44:49.290Z"
   },
   {
    "duration": 8,
    "start_time": "2024-11-04T22:44:49.295Z"
   },
   {
    "duration": 38,
    "start_time": "2024-11-04T22:44:49.304Z"
   },
   {
    "duration": 291,
    "start_time": "2024-11-04T22:44:49.344Z"
   },
   {
    "duration": 15,
    "start_time": "2024-11-04T22:44:49.637Z"
   },
   {
    "duration": 11,
    "start_time": "2024-11-04T22:44:49.653Z"
   },
   {
    "duration": 8,
    "start_time": "2024-11-04T22:44:49.666Z"
   },
   {
    "duration": 3,
    "start_time": "2024-11-04T22:44:49.678Z"
   },
   {
    "duration": 6,
    "start_time": "2024-11-04T22:44:49.682Z"
   },
   {
    "duration": 9,
    "start_time": "2024-11-04T22:44:49.690Z"
   },
   {
    "duration": 7,
    "start_time": "2024-11-04T22:44:49.701Z"
   },
   {
    "duration": 8,
    "start_time": "2024-11-04T22:44:49.743Z"
   },
   {
    "duration": 4,
    "start_time": "2024-11-04T22:44:49.753Z"
   },
   {
    "duration": 3,
    "start_time": "2024-11-04T22:44:49.762Z"
   },
   {
    "duration": 8,
    "start_time": "2024-11-04T22:44:49.767Z"
   },
   {
    "duration": 4,
    "start_time": "2024-11-04T22:44:49.777Z"
   },
   {
    "duration": 8,
    "start_time": "2024-11-04T22:44:49.784Z"
   },
   {
    "duration": 172,
    "start_time": "2024-11-04T22:44:49.793Z"
   },
   {
    "duration": 3,
    "start_time": "2024-11-04T22:44:49.967Z"
   },
   {
    "duration": 10,
    "start_time": "2024-11-04T22:44:49.972Z"
   },
   {
    "duration": 104,
    "start_time": "2024-11-04T22:44:49.984Z"
   },
   {
    "duration": 12,
    "start_time": "2024-11-04T22:44:50.090Z"
   },
   {
    "duration": 6,
    "start_time": "2024-11-04T22:44:50.104Z"
   },
   {
    "duration": 11,
    "start_time": "2024-11-04T22:44:50.112Z"
   },
   {
    "duration": 20,
    "start_time": "2024-11-04T22:44:50.124Z"
   },
   {
    "duration": 11,
    "start_time": "2024-11-04T22:44:50.145Z"
   },
   {
    "duration": 8,
    "start_time": "2024-11-04T22:44:50.158Z"
   },
   {
    "duration": 196,
    "start_time": "2024-11-04T22:44:50.167Z"
   },
   {
    "duration": 157,
    "start_time": "2024-11-04T22:44:50.365Z"
   },
   {
    "duration": 622,
    "start_time": "2024-11-04T22:44:50.524Z"
   },
   {
    "duration": 454,
    "start_time": "2024-11-04T23:23:53.988Z"
   },
   {
    "duration": 39,
    "start_time": "2024-11-04T23:23:54.445Z"
   },
   {
    "duration": 9,
    "start_time": "2024-11-04T23:23:54.485Z"
   },
   {
    "duration": 8,
    "start_time": "2024-11-04T23:23:54.496Z"
   },
   {
    "duration": 11,
    "start_time": "2024-11-04T23:23:54.508Z"
   },
   {
    "duration": 31,
    "start_time": "2024-11-04T23:23:54.520Z"
   },
   {
    "duration": 4,
    "start_time": "2024-11-04T23:23:54.553Z"
   },
   {
    "duration": 10,
    "start_time": "2024-11-04T23:23:54.559Z"
   },
   {
    "duration": 5,
    "start_time": "2024-11-04T23:23:54.571Z"
   },
   {
    "duration": 317,
    "start_time": "2024-11-04T23:23:54.578Z"
   },
   {
    "duration": 11,
    "start_time": "2024-11-04T23:23:54.897Z"
   },
   {
    "duration": 11,
    "start_time": "2024-11-04T23:23:54.909Z"
   },
   {
    "duration": 8,
    "start_time": "2024-11-04T23:23:54.921Z"
   },
   {
    "duration": 3,
    "start_time": "2024-11-04T23:23:54.933Z"
   },
   {
    "duration": 6,
    "start_time": "2024-11-04T23:23:54.944Z"
   },
   {
    "duration": 13,
    "start_time": "2024-11-04T23:23:54.952Z"
   },
   {
    "duration": 10,
    "start_time": "2024-11-04T23:23:54.967Z"
   },
   {
    "duration": 11,
    "start_time": "2024-11-04T23:23:54.979Z"
   },
   {
    "duration": 5,
    "start_time": "2024-11-04T23:23:54.992Z"
   },
   {
    "duration": 4,
    "start_time": "2024-11-04T23:23:54.999Z"
   },
   {
    "duration": 44,
    "start_time": "2024-11-04T23:23:55.005Z"
   },
   {
    "duration": 6,
    "start_time": "2024-11-04T23:23:55.051Z"
   },
   {
    "duration": 9,
    "start_time": "2024-11-04T23:23:55.058Z"
   },
   {
    "duration": 179,
    "start_time": "2024-11-04T23:23:55.068Z"
   },
   {
    "duration": 3,
    "start_time": "2024-11-04T23:23:55.249Z"
   },
   {
    "duration": 14,
    "start_time": "2024-11-04T23:23:55.254Z"
   },
   {
    "duration": 110,
    "start_time": "2024-11-04T23:23:55.270Z"
   },
   {
    "duration": 9,
    "start_time": "2024-11-04T23:23:55.381Z"
   },
   {
    "duration": 7,
    "start_time": "2024-11-04T23:23:55.392Z"
   },
   {
    "duration": 12,
    "start_time": "2024-11-04T23:23:55.401Z"
   },
   {
    "duration": 3,
    "start_time": "2024-11-04T23:23:55.415Z"
   },
   {
    "duration": 16,
    "start_time": "2024-11-04T23:23:55.443Z"
   },
   {
    "duration": 7,
    "start_time": "2024-11-04T23:23:55.461Z"
   },
   {
    "duration": 169,
    "start_time": "2024-11-04T23:23:55.471Z"
   },
   {
    "duration": 164,
    "start_time": "2024-11-04T23:23:55.643Z"
   },
   {
    "duration": 605,
    "start_time": "2024-11-04T23:23:55.809Z"
   },
   {
    "duration": 428,
    "start_time": "2024-11-04T23:28:48.645Z"
   },
   {
    "duration": 47,
    "start_time": "2024-11-04T23:28:49.075Z"
   },
   {
    "duration": 20,
    "start_time": "2024-11-04T23:28:49.123Z"
   },
   {
    "duration": 9,
    "start_time": "2024-11-04T23:28:49.144Z"
   },
   {
    "duration": 4,
    "start_time": "2024-11-04T23:28:49.156Z"
   },
   {
    "duration": 8,
    "start_time": "2024-11-04T23:28:49.162Z"
   },
   {
    "duration": 4,
    "start_time": "2024-11-04T23:28:49.171Z"
   },
   {
    "duration": 9,
    "start_time": "2024-11-04T23:28:49.176Z"
   },
   {
    "duration": 316,
    "start_time": "2024-11-04T23:28:49.187Z"
   },
   {
    "duration": 9,
    "start_time": "2024-11-04T23:28:49.505Z"
   },
   {
    "duration": 11,
    "start_time": "2024-11-04T23:28:49.515Z"
   },
   {
    "duration": 18,
    "start_time": "2024-11-04T23:28:49.527Z"
   },
   {
    "duration": 3,
    "start_time": "2024-11-04T23:28:49.546Z"
   },
   {
    "duration": 4,
    "start_time": "2024-11-04T23:28:49.553Z"
   },
   {
    "duration": 9,
    "start_time": "2024-11-04T23:28:49.559Z"
   },
   {
    "duration": 7,
    "start_time": "2024-11-04T23:28:49.570Z"
   },
   {
    "duration": 7,
    "start_time": "2024-11-04T23:28:49.579Z"
   },
   {
    "duration": 3,
    "start_time": "2024-11-04T23:28:49.588Z"
   },
   {
    "duration": 4,
    "start_time": "2024-11-04T23:28:49.593Z"
   },
   {
    "duration": 49,
    "start_time": "2024-11-04T23:28:49.598Z"
   },
   {
    "duration": 4,
    "start_time": "2024-11-04T23:28:49.649Z"
   },
   {
    "duration": 8,
    "start_time": "2024-11-04T23:28:49.654Z"
   },
   {
    "duration": 152,
    "start_time": "2024-11-04T23:28:49.664Z"
   },
   {
    "duration": 2,
    "start_time": "2024-11-04T23:28:49.818Z"
   },
   {
    "duration": 21,
    "start_time": "2024-11-04T23:28:49.822Z"
   },
   {
    "duration": 88,
    "start_time": "2024-11-04T23:28:49.844Z"
   },
   {
    "duration": 8,
    "start_time": "2024-11-04T23:28:49.943Z"
   },
   {
    "duration": 5,
    "start_time": "2024-11-04T23:28:49.953Z"
   },
   {
    "duration": 10,
    "start_time": "2024-11-04T23:28:49.959Z"
   },
   {
    "duration": 3,
    "start_time": "2024-11-04T23:28:49.971Z"
   },
   {
    "duration": 11,
    "start_time": "2024-11-04T23:28:49.976Z"
   },
   {
    "duration": 8,
    "start_time": "2024-11-04T23:28:49.988Z"
   },
   {
    "duration": 189,
    "start_time": "2024-11-04T23:28:49.998Z"
   },
   {
    "duration": 154,
    "start_time": "2024-11-04T23:28:50.189Z"
   },
   {
    "duration": 625,
    "start_time": "2024-11-04T23:28:50.344Z"
   },
   {
    "duration": 405,
    "start_time": "2024-11-05T01:45:34.104Z"
   },
   {
    "duration": 40,
    "start_time": "2024-11-05T01:45:34.511Z"
   },
   {
    "duration": 8,
    "start_time": "2024-11-05T01:45:34.553Z"
   },
   {
    "duration": 27,
    "start_time": "2024-11-05T01:45:34.562Z"
   },
   {
    "duration": 5,
    "start_time": "2024-11-05T01:45:34.591Z"
   },
   {
    "duration": 9,
    "start_time": "2024-11-05T01:45:34.597Z"
   },
   {
    "duration": 4,
    "start_time": "2024-11-05T01:45:34.607Z"
   },
   {
    "duration": 10,
    "start_time": "2024-11-05T01:45:34.612Z"
   },
   {
    "duration": 300,
    "start_time": "2024-11-05T01:45:34.623Z"
   },
   {
    "duration": 10,
    "start_time": "2024-11-05T01:45:34.925Z"
   },
   {
    "duration": 9,
    "start_time": "2024-11-05T01:45:34.937Z"
   },
   {
    "duration": 8,
    "start_time": "2024-11-05T01:45:34.948Z"
   },
   {
    "duration": 3,
    "start_time": "2024-11-05T01:45:34.958Z"
   },
   {
    "duration": 5,
    "start_time": "2024-11-05T01:45:34.964Z"
   },
   {
    "duration": 9,
    "start_time": "2024-11-05T01:45:34.970Z"
   },
   {
    "duration": 9,
    "start_time": "2024-11-05T01:45:34.980Z"
   },
   {
    "duration": 8,
    "start_time": "2024-11-05T01:45:34.991Z"
   },
   {
    "duration": 43,
    "start_time": "2024-11-05T01:45:35.001Z"
   },
   {
    "duration": 3,
    "start_time": "2024-11-05T01:45:35.046Z"
   },
   {
    "duration": 8,
    "start_time": "2024-11-05T01:45:35.051Z"
   },
   {
    "duration": 6,
    "start_time": "2024-11-05T01:45:35.061Z"
   },
   {
    "duration": 8,
    "start_time": "2024-11-05T01:45:35.068Z"
   },
   {
    "duration": 161,
    "start_time": "2024-11-05T01:45:35.078Z"
   },
   {
    "duration": 2,
    "start_time": "2024-11-05T01:45:35.242Z"
   },
   {
    "duration": 10,
    "start_time": "2024-11-05T01:45:35.246Z"
   },
   {
    "duration": 107,
    "start_time": "2024-11-05T01:45:35.258Z"
   },
   {
    "duration": 9,
    "start_time": "2024-11-05T01:45:35.367Z"
   },
   {
    "duration": 5,
    "start_time": "2024-11-05T01:45:35.378Z"
   },
   {
    "duration": 11,
    "start_time": "2024-11-05T01:45:35.385Z"
   },
   {
    "duration": 2,
    "start_time": "2024-11-05T01:45:35.397Z"
   },
   {
    "duration": 12,
    "start_time": "2024-11-05T01:45:35.401Z"
   },
   {
    "duration": 8,
    "start_time": "2024-11-05T01:45:35.443Z"
   },
   {
    "duration": 151,
    "start_time": "2024-11-05T01:45:35.453Z"
   },
   {
    "duration": 153,
    "start_time": "2024-11-05T01:45:35.605Z"
   },
   {
    "duration": 600,
    "start_time": "2024-11-05T01:45:35.759Z"
   },
   {
    "duration": 639,
    "start_time": "2024-11-05T02:01:45.265Z"
   },
   {
    "duration": 452,
    "start_time": "2024-11-05T02:01:55.648Z"
   },
   {
    "duration": 34,
    "start_time": "2024-11-05T02:01:56.102Z"
   },
   {
    "duration": 11,
    "start_time": "2024-11-05T02:01:56.138Z"
   },
   {
    "duration": 9,
    "start_time": "2024-11-05T02:01:56.150Z"
   },
   {
    "duration": 3,
    "start_time": "2024-11-05T02:01:56.163Z"
   },
   {
    "duration": 7,
    "start_time": "2024-11-05T02:01:56.168Z"
   },
   {
    "duration": 3,
    "start_time": "2024-11-05T02:01:56.177Z"
   },
   {
    "duration": 9,
    "start_time": "2024-11-05T02:01:56.181Z"
   },
   {
    "duration": 324,
    "start_time": "2024-11-05T02:01:56.191Z"
   },
   {
    "duration": 11,
    "start_time": "2024-11-05T02:01:56.517Z"
   },
   {
    "duration": 10,
    "start_time": "2024-11-05T02:01:56.529Z"
   },
   {
    "duration": 8,
    "start_time": "2024-11-05T02:01:56.540Z"
   },
   {
    "duration": 3,
    "start_time": "2024-11-05T02:01:56.550Z"
   },
   {
    "duration": 5,
    "start_time": "2024-11-05T02:01:56.557Z"
   },
   {
    "duration": 12,
    "start_time": "2024-11-05T02:01:56.564Z"
   },
   {
    "duration": 9,
    "start_time": "2024-11-05T02:01:56.577Z"
   },
   {
    "duration": 8,
    "start_time": "2024-11-05T02:01:56.587Z"
   },
   {
    "duration": 5,
    "start_time": "2024-11-05T02:01:56.596Z"
   },
   {
    "duration": 43,
    "start_time": "2024-11-05T02:01:56.603Z"
   },
   {
    "duration": 8,
    "start_time": "2024-11-05T02:01:56.647Z"
   },
   {
    "duration": 5,
    "start_time": "2024-11-05T02:01:56.656Z"
   },
   {
    "duration": 9,
    "start_time": "2024-11-05T02:01:56.663Z"
   },
   {
    "duration": 164,
    "start_time": "2024-11-05T02:01:56.673Z"
   },
   {
    "duration": 3,
    "start_time": "2024-11-05T02:01:56.842Z"
   },
   {
    "duration": 10,
    "start_time": "2024-11-05T02:01:56.846Z"
   },
   {
    "duration": 97,
    "start_time": "2024-11-05T02:01:56.858Z"
   },
   {
    "duration": 9,
    "start_time": "2024-11-05T02:01:56.957Z"
   },
   {
    "duration": 5,
    "start_time": "2024-11-05T02:01:56.969Z"
   },
   {
    "duration": 11,
    "start_time": "2024-11-05T02:01:56.976Z"
   },
   {
    "duration": 2,
    "start_time": "2024-11-05T02:01:56.990Z"
   },
   {
    "duration": 11,
    "start_time": "2024-11-05T02:01:56.994Z"
   },
   {
    "duration": 36,
    "start_time": "2024-11-05T02:01:57.007Z"
   },
   {
    "duration": 175,
    "start_time": "2024-11-05T02:01:57.046Z"
   },
   {
    "duration": 154,
    "start_time": "2024-11-05T02:01:57.223Z"
   },
   {
    "duration": 888,
    "start_time": "2024-11-05T02:01:57.379Z"
   },
   {
    "duration": 9,
    "start_time": "2024-11-05T02:03:53.755Z"
   },
   {
    "duration": 8,
    "start_time": "2024-11-05T02:04:03.267Z"
   },
   {
    "duration": 407,
    "start_time": "2024-11-05T02:04:47.295Z"
   },
   {
    "duration": 33,
    "start_time": "2024-11-05T02:04:47.704Z"
   },
   {
    "duration": 10,
    "start_time": "2024-11-05T02:04:47.739Z"
   },
   {
    "duration": 8,
    "start_time": "2024-11-05T02:04:47.752Z"
   },
   {
    "duration": 3,
    "start_time": "2024-11-05T02:04:47.762Z"
   },
   {
    "duration": 7,
    "start_time": "2024-11-05T02:04:47.767Z"
   },
   {
    "duration": 3,
    "start_time": "2024-11-05T02:04:47.776Z"
   },
   {
    "duration": 9,
    "start_time": "2024-11-05T02:04:47.781Z"
   },
   {
    "duration": 324,
    "start_time": "2024-11-05T02:04:47.791Z"
   },
   {
    "duration": 8,
    "start_time": "2024-11-05T02:04:48.120Z"
   },
   {
    "duration": 11,
    "start_time": "2024-11-05T02:04:48.129Z"
   },
   {
    "duration": 8,
    "start_time": "2024-11-05T02:04:48.142Z"
   },
   {
    "duration": 3,
    "start_time": "2024-11-05T02:04:48.152Z"
   },
   {
    "duration": 5,
    "start_time": "2024-11-05T02:04:48.156Z"
   },
   {
    "duration": 9,
    "start_time": "2024-11-05T02:04:48.163Z"
   },
   {
    "duration": 9,
    "start_time": "2024-11-05T02:04:48.173Z"
   },
   {
    "duration": 8,
    "start_time": "2024-11-05T02:04:48.183Z"
   },
   {
    "duration": 4,
    "start_time": "2024-11-05T02:04:48.192Z"
   },
   {
    "duration": 3,
    "start_time": "2024-11-05T02:04:48.198Z"
   },
   {
    "duration": 7,
    "start_time": "2024-11-05T02:04:48.243Z"
   },
   {
    "duration": 4,
    "start_time": "2024-11-05T02:04:48.252Z"
   },
   {
    "duration": 9,
    "start_time": "2024-11-05T02:04:48.257Z"
   },
   {
    "duration": 158,
    "start_time": "2024-11-05T02:04:48.268Z"
   },
   {
    "duration": 2,
    "start_time": "2024-11-05T02:04:48.428Z"
   },
   {
    "duration": 9,
    "start_time": "2024-11-05T02:04:48.443Z"
   },
   {
    "duration": 110,
    "start_time": "2024-11-05T02:04:48.453Z"
   },
   {
    "duration": 16,
    "start_time": "2024-11-05T02:04:48.565Z"
   },
   {
    "duration": 6,
    "start_time": "2024-11-05T02:04:48.585Z"
   },
   {
    "duration": 10,
    "start_time": "2024-11-05T02:04:48.593Z"
   },
   {
    "duration": 2,
    "start_time": "2024-11-05T02:04:48.605Z"
   },
   {
    "duration": 38,
    "start_time": "2024-11-05T02:04:48.609Z"
   },
   {
    "duration": 10,
    "start_time": "2024-11-05T02:04:48.649Z"
   },
   {
    "duration": 158,
    "start_time": "2024-11-05T02:04:48.661Z"
   },
   {
    "duration": 159,
    "start_time": "2024-11-05T02:04:48.821Z"
   },
   {
    "duration": 860,
    "start_time": "2024-11-05T02:04:48.984Z"
   },
   {
    "duration": 0,
    "start_time": "2024-11-05T02:04:49.845Z"
   },
   {
    "duration": 0,
    "start_time": "2024-11-05T02:04:49.846Z"
   },
   {
    "duration": 249,
    "start_time": "2024-11-05T02:05:46.897Z"
   },
   {
    "duration": 258,
    "start_time": "2024-11-05T02:06:16.077Z"
   },
   {
    "duration": 389,
    "start_time": "2024-11-05T02:06:25.628Z"
   },
   {
    "duration": 40,
    "start_time": "2024-11-05T02:06:26.019Z"
   },
   {
    "duration": 9,
    "start_time": "2024-11-05T02:06:26.061Z"
   },
   {
    "duration": 9,
    "start_time": "2024-11-05T02:06:26.071Z"
   },
   {
    "duration": 3,
    "start_time": "2024-11-05T02:06:26.083Z"
   },
   {
    "duration": 8,
    "start_time": "2024-11-05T02:06:26.088Z"
   },
   {
    "duration": 4,
    "start_time": "2024-11-05T02:06:26.097Z"
   },
   {
    "duration": 46,
    "start_time": "2024-11-05T02:06:26.102Z"
   },
   {
    "duration": 310,
    "start_time": "2024-11-05T02:06:26.149Z"
   },
   {
    "duration": 8,
    "start_time": "2024-11-05T02:06:26.462Z"
   },
   {
    "duration": 10,
    "start_time": "2024-11-05T02:06:26.471Z"
   },
   {
    "duration": 8,
    "start_time": "2024-11-05T02:06:26.482Z"
   },
   {
    "duration": 3,
    "start_time": "2024-11-05T02:06:26.492Z"
   },
   {
    "duration": 4,
    "start_time": "2024-11-05T02:06:26.499Z"
   },
   {
    "duration": 9,
    "start_time": "2024-11-05T02:06:26.505Z"
   },
   {
    "duration": 29,
    "start_time": "2024-11-05T02:06:26.515Z"
   },
   {
    "duration": 9,
    "start_time": "2024-11-05T02:06:26.546Z"
   },
   {
    "duration": 4,
    "start_time": "2024-11-05T02:06:26.557Z"
   },
   {
    "duration": 4,
    "start_time": "2024-11-05T02:06:26.563Z"
   },
   {
    "duration": 11,
    "start_time": "2024-11-05T02:06:26.569Z"
   },
   {
    "duration": 5,
    "start_time": "2024-11-05T02:06:26.581Z"
   },
   {
    "duration": 9,
    "start_time": "2024-11-05T02:06:26.588Z"
   },
   {
    "duration": 172,
    "start_time": "2024-11-05T02:06:26.599Z"
   },
   {
    "duration": 3,
    "start_time": "2024-11-05T02:06:26.773Z"
   },
   {
    "duration": 9,
    "start_time": "2024-11-05T02:06:26.778Z"
   },
   {
    "duration": 99,
    "start_time": "2024-11-05T02:06:26.788Z"
   },
   {
    "duration": 8,
    "start_time": "2024-11-05T02:06:26.888Z"
   },
   {
    "duration": 5,
    "start_time": "2024-11-05T02:06:26.898Z"
   },
   {
    "duration": 11,
    "start_time": "2024-11-05T02:06:26.904Z"
   },
   {
    "duration": 27,
    "start_time": "2024-11-05T02:06:26.916Z"
   },
   {
    "duration": 10,
    "start_time": "2024-11-05T02:06:26.944Z"
   },
   {
    "duration": 7,
    "start_time": "2024-11-05T02:06:26.955Z"
   },
   {
    "duration": 157,
    "start_time": "2024-11-05T02:06:26.965Z"
   },
   {
    "duration": 149,
    "start_time": "2024-11-05T02:06:27.124Z"
   },
   {
    "duration": 196,
    "start_time": "2024-11-05T02:06:27.275Z"
   },
   {
    "duration": 677,
    "start_time": "2024-11-05T02:07:00.178Z"
   },
   {
    "duration": 421,
    "start_time": "2024-11-05T02:08:01.081Z"
   },
   {
    "duration": 45,
    "start_time": "2024-11-05T02:08:01.504Z"
   },
   {
    "duration": 9,
    "start_time": "2024-11-05T02:08:01.551Z"
   },
   {
    "duration": 9,
    "start_time": "2024-11-05T02:08:01.562Z"
   },
   {
    "duration": 4,
    "start_time": "2024-11-05T02:08:01.574Z"
   },
   {
    "duration": 10,
    "start_time": "2024-11-05T02:08:01.580Z"
   },
   {
    "duration": 6,
    "start_time": "2024-11-05T02:08:01.592Z"
   },
   {
    "duration": 44,
    "start_time": "2024-11-05T02:08:01.599Z"
   },
   {
    "duration": 296,
    "start_time": "2024-11-05T02:08:01.644Z"
   },
   {
    "duration": 8,
    "start_time": "2024-11-05T02:08:01.941Z"
   },
   {
    "duration": 10,
    "start_time": "2024-11-05T02:08:01.951Z"
   },
   {
    "duration": 14,
    "start_time": "2024-11-05T02:08:01.963Z"
   },
   {
    "duration": 3,
    "start_time": "2024-11-05T02:08:01.979Z"
   },
   {
    "duration": 5,
    "start_time": "2024-11-05T02:08:01.986Z"
   },
   {
    "duration": 10,
    "start_time": "2024-11-05T02:08:01.993Z"
   },
   {
    "duration": 9,
    "start_time": "2024-11-05T02:08:02.004Z"
   },
   {
    "duration": 33,
    "start_time": "2024-11-05T02:08:02.014Z"
   },
   {
    "duration": 5,
    "start_time": "2024-11-05T02:08:02.049Z"
   },
   {
    "duration": 4,
    "start_time": "2024-11-05T02:08:02.056Z"
   },
   {
    "duration": 8,
    "start_time": "2024-11-05T02:08:02.062Z"
   },
   {
    "duration": 4,
    "start_time": "2024-11-05T02:08:02.072Z"
   },
   {
    "duration": 8,
    "start_time": "2024-11-05T02:08:02.077Z"
   },
   {
    "duration": 175,
    "start_time": "2024-11-05T02:08:02.087Z"
   },
   {
    "duration": 3,
    "start_time": "2024-11-05T02:08:02.264Z"
   },
   {
    "duration": 9,
    "start_time": "2024-11-05T02:08:02.268Z"
   },
   {
    "duration": 107,
    "start_time": "2024-11-05T02:08:02.279Z"
   },
   {
    "duration": 8,
    "start_time": "2024-11-05T02:08:02.388Z"
   },
   {
    "duration": 6,
    "start_time": "2024-11-05T02:08:02.397Z"
   },
   {
    "duration": 11,
    "start_time": "2024-11-05T02:08:02.405Z"
   },
   {
    "duration": 28,
    "start_time": "2024-11-05T02:08:02.417Z"
   },
   {
    "duration": 11,
    "start_time": "2024-11-05T02:08:02.447Z"
   },
   {
    "duration": 7,
    "start_time": "2024-11-05T02:08:02.462Z"
   },
   {
    "duration": 158,
    "start_time": "2024-11-05T02:08:02.471Z"
   },
   {
    "duration": 152,
    "start_time": "2024-11-05T02:08:02.633Z"
   },
   {
    "duration": 267,
    "start_time": "2024-11-05T02:08:02.787Z"
   },
   {
    "duration": 4,
    "start_time": "2024-11-05T02:15:01.502Z"
   },
   {
    "duration": 14,
    "start_time": "2024-11-05T02:15:07.769Z"
   },
   {
    "duration": 137,
    "start_time": "2024-11-05T02:18:24.768Z"
   },
   {
    "duration": 7,
    "start_time": "2024-11-05T02:18:34.372Z"
   },
   {
    "duration": 445,
    "start_time": "2024-11-05T02:18:44.143Z"
   },
   {
    "duration": 37,
    "start_time": "2024-11-05T02:18:44.590Z"
   },
   {
    "duration": 20,
    "start_time": "2024-11-05T02:18:44.629Z"
   },
   {
    "duration": 10,
    "start_time": "2024-11-05T02:18:44.650Z"
   },
   {
    "duration": 5,
    "start_time": "2024-11-05T02:18:44.663Z"
   },
   {
    "duration": 8,
    "start_time": "2024-11-05T02:18:44.669Z"
   },
   {
    "duration": 3,
    "start_time": "2024-11-05T02:18:44.679Z"
   },
   {
    "duration": 9,
    "start_time": "2024-11-05T02:18:44.685Z"
   },
   {
    "duration": 314,
    "start_time": "2024-11-05T02:18:44.697Z"
   },
   {
    "duration": 10,
    "start_time": "2024-11-05T02:18:45.013Z"
   },
   {
    "duration": 10,
    "start_time": "2024-11-05T02:18:45.025Z"
   },
   {
    "duration": 12,
    "start_time": "2024-11-05T02:18:45.037Z"
   },
   {
    "duration": 4,
    "start_time": "2024-11-05T02:18:45.050Z"
   },
   {
    "duration": 5,
    "start_time": "2024-11-05T02:18:45.058Z"
   },
   {
    "duration": 9,
    "start_time": "2024-11-05T02:18:45.064Z"
   },
   {
    "duration": 7,
    "start_time": "2024-11-05T02:18:45.075Z"
   },
   {
    "duration": 7,
    "start_time": "2024-11-05T02:18:45.084Z"
   },
   {
    "duration": 4,
    "start_time": "2024-11-05T02:18:45.093Z"
   },
   {
    "duration": 43,
    "start_time": "2024-11-05T02:18:45.099Z"
   },
   {
    "duration": 7,
    "start_time": "2024-11-05T02:18:45.144Z"
   },
   {
    "duration": 5,
    "start_time": "2024-11-05T02:18:45.153Z"
   },
   {
    "duration": 8,
    "start_time": "2024-11-05T02:18:45.160Z"
   },
   {
    "duration": 179,
    "start_time": "2024-11-05T02:18:45.171Z"
   },
   {
    "duration": 3,
    "start_time": "2024-11-05T02:18:45.352Z"
   },
   {
    "duration": 9,
    "start_time": "2024-11-05T02:18:45.357Z"
   },
   {
    "duration": 109,
    "start_time": "2024-11-05T02:18:45.368Z"
   },
   {
    "duration": 10,
    "start_time": "2024-11-05T02:18:45.479Z"
   },
   {
    "duration": 5,
    "start_time": "2024-11-05T02:18:45.491Z"
   },
   {
    "duration": 11,
    "start_time": "2024-11-05T02:18:45.498Z"
   },
   {
    "duration": 2,
    "start_time": "2024-11-05T02:18:45.511Z"
   },
   {
    "duration": 37,
    "start_time": "2024-11-05T02:18:45.515Z"
   },
   {
    "duration": 8,
    "start_time": "2024-11-05T02:18:45.553Z"
   },
   {
    "duration": 158,
    "start_time": "2024-11-05T02:18:45.562Z"
   },
   {
    "duration": 154,
    "start_time": "2024-11-05T02:18:45.722Z"
   },
   {
    "duration": 269,
    "start_time": "2024-11-05T02:18:45.877Z"
   },
   {
    "duration": 3,
    "start_time": "2024-11-05T02:18:46.149Z"
   },
   {
    "duration": 12,
    "start_time": "2024-11-05T02:18:46.154Z"
   },
   {
    "duration": 6,
    "start_time": "2024-11-05T02:18:46.168Z"
   },
   {
    "duration": 145,
    "start_time": "2024-11-05T02:19:13.626Z"
   },
   {
    "duration": 171,
    "start_time": "2024-11-05T02:20:29.263Z"
   },
   {
    "duration": 144,
    "start_time": "2024-11-05T02:20:34.935Z"
   },
   {
    "duration": 2209,
    "start_time": "2024-11-05T16:38:12.074Z"
   },
   {
    "duration": 10,
    "start_time": "2024-11-05T16:38:14.286Z"
   },
   {
    "duration": 11,
    "start_time": "2024-11-05T16:38:14.298Z"
   },
   {
    "duration": 26,
    "start_time": "2024-11-05T16:38:14.311Z"
   },
   {
    "duration": 4,
    "start_time": "2024-11-05T16:38:14.340Z"
   },
   {
    "duration": 8,
    "start_time": "2024-11-05T16:38:14.346Z"
   },
   {
    "duration": 3,
    "start_time": "2024-11-05T16:38:14.356Z"
   },
   {
    "duration": 9,
    "start_time": "2024-11-05T16:38:14.360Z"
   },
   {
    "duration": 322,
    "start_time": "2024-11-05T16:38:14.370Z"
   },
   {
    "duration": 15,
    "start_time": "2024-11-05T16:38:14.694Z"
   },
   {
    "duration": 9,
    "start_time": "2024-11-05T16:38:14.711Z"
   },
   {
    "duration": 9,
    "start_time": "2024-11-05T16:38:14.722Z"
   },
   {
    "duration": 3,
    "start_time": "2024-11-05T16:38:14.732Z"
   },
   {
    "duration": 6,
    "start_time": "2024-11-05T16:38:14.740Z"
   },
   {
    "duration": 10,
    "start_time": "2024-11-05T16:38:14.748Z"
   },
   {
    "duration": 9,
    "start_time": "2024-11-05T16:38:14.759Z"
   },
   {
    "duration": 10,
    "start_time": "2024-11-05T16:38:14.770Z"
   },
   {
    "duration": 4,
    "start_time": "2024-11-05T16:38:14.783Z"
   },
   {
    "duration": 4,
    "start_time": "2024-11-05T16:38:14.789Z"
   },
   {
    "duration": 9,
    "start_time": "2024-11-05T16:38:14.831Z"
   },
   {
    "duration": 4,
    "start_time": "2024-11-05T16:38:14.842Z"
   },
   {
    "duration": 10,
    "start_time": "2024-11-05T16:38:14.847Z"
   },
   {
    "duration": 159,
    "start_time": "2024-11-05T16:38:14.859Z"
   },
   {
    "duration": 2,
    "start_time": "2024-11-05T16:38:15.020Z"
   },
   {
    "duration": 14,
    "start_time": "2024-11-05T16:38:15.024Z"
   },
   {
    "duration": 101,
    "start_time": "2024-11-05T16:38:15.040Z"
   },
   {
    "duration": 9,
    "start_time": "2024-11-05T16:38:15.142Z"
   },
   {
    "duration": 4,
    "start_time": "2024-11-05T16:38:15.153Z"
   },
   {
    "duration": 11,
    "start_time": "2024-11-05T16:38:15.159Z"
   },
   {
    "duration": 2,
    "start_time": "2024-11-05T16:38:15.171Z"
   },
   {
    "duration": 11,
    "start_time": "2024-11-05T16:38:15.175Z"
   },
   {
    "duration": 7,
    "start_time": "2024-11-05T16:38:15.188Z"
   },
   {
    "duration": 176,
    "start_time": "2024-11-05T16:38:15.197Z"
   },
   {
    "duration": 165,
    "start_time": "2024-11-05T16:38:15.375Z"
   },
   {
    "duration": 306,
    "start_time": "2024-11-05T16:38:15.543Z"
   },
   {
    "duration": 4,
    "start_time": "2024-11-05T16:38:15.850Z"
   },
   {
    "duration": 13,
    "start_time": "2024-11-05T16:38:15.855Z"
   },
   {
    "duration": 6,
    "start_time": "2024-11-05T16:38:15.870Z"
   },
   {
    "duration": 166,
    "start_time": "2024-11-05T16:38:15.878Z"
   },
   {
    "duration": 2645,
    "start_time": "2024-11-06T04:21:16.053Z"
   },
   {
    "duration": 10,
    "start_time": "2024-11-06T04:21:18.701Z"
   },
   {
    "duration": 15,
    "start_time": "2024-11-06T04:21:18.712Z"
   },
   {
    "duration": 13,
    "start_time": "2024-11-06T04:21:18.729Z"
   },
   {
    "duration": 4,
    "start_time": "2024-11-06T04:21:18.746Z"
   },
   {
    "duration": 10,
    "start_time": "2024-11-06T04:21:18.752Z"
   },
   {
    "duration": 3,
    "start_time": "2024-11-06T04:21:18.765Z"
   },
   {
    "duration": 10,
    "start_time": "2024-11-06T04:21:18.770Z"
   },
   {
    "duration": 369,
    "start_time": "2024-11-06T04:21:18.782Z"
   },
   {
    "duration": 17,
    "start_time": "2024-11-06T04:21:19.153Z"
   },
   {
    "duration": 13,
    "start_time": "2024-11-06T04:21:19.171Z"
   },
   {
    "duration": 9,
    "start_time": "2024-11-06T04:21:19.185Z"
   },
   {
    "duration": 3,
    "start_time": "2024-11-06T04:21:19.195Z"
   },
   {
    "duration": 5,
    "start_time": "2024-11-06T04:21:19.202Z"
   },
   {
    "duration": 17,
    "start_time": "2024-11-06T04:21:19.208Z"
   },
   {
    "duration": 11,
    "start_time": "2024-11-06T04:21:19.227Z"
   },
   {
    "duration": 10,
    "start_time": "2024-11-06T04:21:19.242Z"
   },
   {
    "duration": 5,
    "start_time": "2024-11-06T04:21:19.253Z"
   },
   {
    "duration": 4,
    "start_time": "2024-11-06T04:21:19.260Z"
   },
   {
    "duration": 9,
    "start_time": "2024-11-06T04:21:19.266Z"
   },
   {
    "duration": 5,
    "start_time": "2024-11-06T04:21:19.276Z"
   },
   {
    "duration": 8,
    "start_time": "2024-11-06T04:21:19.282Z"
   },
   {
    "duration": 169,
    "start_time": "2024-11-06T04:21:19.324Z"
   },
   {
    "duration": 3,
    "start_time": "2024-11-06T04:21:19.495Z"
   },
   {
    "duration": 10,
    "start_time": "2024-11-06T04:21:19.499Z"
   },
   {
    "duration": 117,
    "start_time": "2024-11-06T04:21:19.510Z"
   },
   {
    "duration": 12,
    "start_time": "2024-11-06T04:21:19.629Z"
   },
   {
    "duration": 7,
    "start_time": "2024-11-06T04:21:19.643Z"
   },
   {
    "duration": 12,
    "start_time": "2024-11-06T04:21:19.652Z"
   },
   {
    "duration": 3,
    "start_time": "2024-11-06T04:21:19.666Z"
   },
   {
    "duration": 13,
    "start_time": "2024-11-06T04:21:19.671Z"
   },
   {
    "duration": 40,
    "start_time": "2024-11-06T04:21:19.685Z"
   },
   {
    "duration": 194,
    "start_time": "2024-11-06T04:21:19.727Z"
   },
   {
    "duration": 173,
    "start_time": "2024-11-06T04:21:19.927Z"
   },
   {
    "duration": 310,
    "start_time": "2024-11-06T04:21:20.101Z"
   },
   {
    "duration": 5,
    "start_time": "2024-11-06T04:21:20.413Z"
   },
   {
    "duration": 16,
    "start_time": "2024-11-06T04:21:20.419Z"
   },
   {
    "duration": 9,
    "start_time": "2024-11-06T04:21:20.437Z"
   },
   {
    "duration": 193,
    "start_time": "2024-11-06T04:21:20.448Z"
   },
   {
    "duration": 174,
    "start_time": "2024-11-06T04:40:32.334Z"
   },
   {
    "duration": 9,
    "start_time": "2024-11-06T05:01:15.963Z"
   },
   {
    "duration": 1030,
    "start_time": "2024-11-06T05:08:20.996Z"
   },
   {
    "duration": 329,
    "start_time": "2024-11-06T05:09:13.476Z"
   },
   {
    "duration": 686,
    "start_time": "2024-11-06T05:09:34.517Z"
   },
   {
    "duration": 16,
    "start_time": "2024-11-06T05:09:57.377Z"
   },
   {
    "duration": 18,
    "start_time": "2024-11-06T05:10:18.990Z"
   },
   {
    "duration": 360,
    "start_time": "2024-11-06T05:10:43.639Z"
   },
   {
    "duration": 223,
    "start_time": "2024-11-06T05:10:46.378Z"
   },
   {
    "duration": 18,
    "start_time": "2024-11-06T05:11:16.899Z"
   },
   {
    "duration": 403,
    "start_time": "2024-11-06T05:11:49.083Z"
   },
   {
    "duration": 203,
    "start_time": "2024-11-06T05:12:16.842Z"
   },
   {
    "duration": 309,
    "start_time": "2024-11-06T05:12:26.921Z"
   },
   {
    "duration": 10,
    "start_time": "2024-11-06T05:12:29.426Z"
   },
   {
    "duration": 595,
    "start_time": "2024-11-06T05:12:36.593Z"
   },
   {
    "duration": 12,
    "start_time": "2024-11-06T05:12:53.377Z"
   },
   {
    "duration": 483,
    "start_time": "2024-11-06T05:15:38.544Z"
   },
   {
    "duration": 433,
    "start_time": "2024-11-06T05:19:42.420Z"
   },
   {
    "duration": 55,
    "start_time": "2024-11-06T05:19:43.588Z"
   },
   {
    "duration": 9,
    "start_time": "2024-11-06T05:19:44.316Z"
   },
   {
    "duration": 9,
    "start_time": "2024-11-06T05:19:45.012Z"
   },
   {
    "duration": 5,
    "start_time": "2024-11-06T05:19:45.737Z"
   },
   {
    "duration": 9,
    "start_time": "2024-11-06T05:19:46.414Z"
   },
   {
    "duration": 4,
    "start_time": "2024-11-06T05:19:49.779Z"
   },
   {
    "duration": 9,
    "start_time": "2024-11-06T05:19:50.892Z"
   },
   {
    "duration": 348,
    "start_time": "2024-11-06T05:19:54.812Z"
   },
   {
    "duration": 8,
    "start_time": "2024-11-06T05:20:00.286Z"
   },
   {
    "duration": 11,
    "start_time": "2024-11-06T05:20:01.084Z"
   },
   {
    "duration": 9,
    "start_time": "2024-11-06T05:20:03.780Z"
   },
   {
    "duration": 3,
    "start_time": "2024-11-06T05:20:04.580Z"
   },
   {
    "duration": 8,
    "start_time": "2024-11-06T05:20:05.939Z"
   },
   {
    "duration": 9,
    "start_time": "2024-11-06T05:20:08.307Z"
   },
   {
    "duration": 6,
    "start_time": "2024-11-06T05:20:10.828Z"
   },
   {
    "duration": 9,
    "start_time": "2024-11-06T05:20:12.876Z"
   },
   {
    "duration": 12,
    "start_time": "2024-11-06T05:20:27.662Z"
   },
   {
    "duration": 7,
    "start_time": "2024-11-06T05:20:28.845Z"
   },
   {
    "duration": 5,
    "start_time": "2024-11-06T05:20:29.366Z"
   },
   {
    "duration": 10,
    "start_time": "2024-11-06T05:20:29.845Z"
   },
   {
    "duration": 5,
    "start_time": "2024-11-06T05:20:30.773Z"
   },
   {
    "duration": 11,
    "start_time": "2024-11-06T05:20:31.230Z"
   },
   {
    "duration": 161,
    "start_time": "2024-11-06T05:20:31.711Z"
   },
   {
    "duration": 4,
    "start_time": "2024-11-06T05:20:32.279Z"
   },
   {
    "duration": 11,
    "start_time": "2024-11-06T05:20:32.798Z"
   },
   {
    "duration": 98,
    "start_time": "2024-11-06T05:20:33.297Z"
   },
   {
    "duration": 16,
    "start_time": "2024-11-06T05:20:33.854Z"
   },
   {
    "duration": 5,
    "start_time": "2024-11-06T05:20:34.336Z"
   },
   {
    "duration": 12,
    "start_time": "2024-11-06T05:20:34.813Z"
   },
   {
    "duration": 3,
    "start_time": "2024-11-06T05:20:35.270Z"
   },
   {
    "duration": 14,
    "start_time": "2024-11-06T05:20:35.710Z"
   },
   {
    "duration": 9,
    "start_time": "2024-11-06T05:20:36.134Z"
   },
   {
    "duration": 355,
    "start_time": "2024-11-06T05:24:51.920Z"
   },
   {
    "duration": 9,
    "start_time": "2024-11-06T05:24:52.278Z"
   },
   {
    "duration": 11,
    "start_time": "2024-11-06T05:24:52.289Z"
   },
   {
    "duration": 441,
    "start_time": "2024-11-06T05:24:52.302Z"
   },
   {
    "duration": 3,
    "start_time": "2024-11-06T05:24:52.746Z"
   },
   {
    "duration": 7,
    "start_time": "2024-11-06T05:24:52.751Z"
   },
   {
    "duration": 11,
    "start_time": "2024-11-06T05:24:52.760Z"
   },
   {
    "duration": 8,
    "start_time": "2024-11-06T05:24:52.772Z"
   },
   {
    "duration": 3,
    "start_time": "2024-11-06T05:24:52.782Z"
   },
   {
    "duration": 8,
    "start_time": "2024-11-06T05:24:52.787Z"
   },
   {
    "duration": 31,
    "start_time": "2024-11-06T05:24:52.796Z"
   },
   {
    "duration": 17,
    "start_time": "2024-11-06T05:24:52.830Z"
   },
   {
    "duration": 326,
    "start_time": "2024-11-06T05:24:52.850Z"
   },
   {
    "duration": 8,
    "start_time": "2024-11-06T05:24:53.181Z"
   },
   {
    "duration": 11,
    "start_time": "2024-11-06T05:24:53.191Z"
   },
   {
    "duration": 9,
    "start_time": "2024-11-06T05:24:53.203Z"
   },
   {
    "duration": 9,
    "start_time": "2024-11-06T05:24:53.215Z"
   },
   {
    "duration": 6,
    "start_time": "2024-11-06T05:24:53.225Z"
   },
   {
    "duration": 11,
    "start_time": "2024-11-06T05:24:53.233Z"
   },
   {
    "duration": 6,
    "start_time": "2024-11-06T05:24:53.248Z"
   },
   {
    "duration": 10,
    "start_time": "2024-11-06T05:24:53.256Z"
   },
   {
    "duration": 9,
    "start_time": "2024-11-06T05:24:53.268Z"
   },
   {
    "duration": 5,
    "start_time": "2024-11-06T05:24:53.278Z"
   },
   {
    "duration": 4,
    "start_time": "2024-11-06T05:24:53.284Z"
   },
   {
    "duration": 14,
    "start_time": "2024-11-06T05:24:53.324Z"
   },
   {
    "duration": 7,
    "start_time": "2024-11-06T05:24:53.340Z"
   },
   {
    "duration": 11,
    "start_time": "2024-11-06T05:24:53.349Z"
   },
   {
    "duration": 151,
    "start_time": "2024-11-06T05:24:53.363Z"
   },
   {
    "duration": 3,
    "start_time": "2024-11-06T05:24:53.515Z"
   },
   {
    "duration": 12,
    "start_time": "2024-11-06T05:24:53.533Z"
   },
   {
    "duration": 94,
    "start_time": "2024-11-06T05:24:53.548Z"
   },
   {
    "duration": 11,
    "start_time": "2024-11-06T05:24:53.644Z"
   },
   {
    "duration": 7,
    "start_time": "2024-11-06T05:24:53.657Z"
   },
   {
    "duration": 12,
    "start_time": "2024-11-06T05:24:53.666Z"
   },
   {
    "duration": 3,
    "start_time": "2024-11-06T05:24:53.680Z"
   },
   {
    "duration": 41,
    "start_time": "2024-11-06T05:24:53.685Z"
   },
   {
    "duration": 12,
    "start_time": "2024-11-06T05:24:53.728Z"
   },
   {
    "duration": 163,
    "start_time": "2024-11-06T05:24:53.743Z"
   },
   {
    "duration": 147,
    "start_time": "2024-11-06T05:24:53.908Z"
   },
   {
    "duration": 292,
    "start_time": "2024-11-06T05:24:54.058Z"
   },
   {
    "duration": 3,
    "start_time": "2024-11-06T05:24:54.356Z"
   },
   {
    "duration": 17,
    "start_time": "2024-11-06T05:24:54.361Z"
   },
   {
    "duration": 8,
    "start_time": "2024-11-06T05:24:54.379Z"
   },
   {
    "duration": 194,
    "start_time": "2024-11-06T05:24:54.389Z"
   },
   {
    "duration": 171,
    "start_time": "2024-11-06T05:24:54.585Z"
   },
   {
    "duration": 9,
    "start_time": "2024-11-06T05:24:54.758Z"
   },
   {
    "duration": 488,
    "start_time": "2024-11-06T05:25:36.713Z"
   },
   {
    "duration": 47,
    "start_time": "2024-11-06T05:25:37.211Z"
   },
   {
    "duration": 9,
    "start_time": "2024-11-06T05:25:37.698Z"
   },
   {
    "duration": 11,
    "start_time": "2024-11-06T05:25:38.360Z"
   },
   {
    "duration": 4,
    "start_time": "2024-11-06T05:25:38.976Z"
   },
   {
    "duration": 9,
    "start_time": "2024-11-06T05:25:39.617Z"
   },
   {
    "duration": 4,
    "start_time": "2024-11-06T05:25:40.216Z"
   },
   {
    "duration": 9,
    "start_time": "2024-11-06T05:25:40.680Z"
   },
   {
    "duration": 360,
    "start_time": "2024-11-06T05:25:41.680Z"
   },
   {
    "duration": 10,
    "start_time": "2024-11-06T05:25:45.731Z"
   },
   {
    "duration": 15,
    "start_time": "2024-11-06T05:25:46.244Z"
   },
   {
    "duration": 8,
    "start_time": "2024-11-06T05:25:47.017Z"
   },
   {
    "duration": 3,
    "start_time": "2024-11-06T05:25:48.281Z"
   },
   {
    "duration": 6,
    "start_time": "2024-11-06T05:25:49.153Z"
   },
   {
    "duration": 13,
    "start_time": "2024-11-06T05:25:51.453Z"
   },
   {
    "duration": 5,
    "start_time": "2024-11-06T05:25:53.377Z"
   },
   {
    "duration": 9,
    "start_time": "2024-11-06T05:25:59.279Z"
   },
   {
    "duration": 12,
    "start_time": "2024-11-06T05:26:00.937Z"
   },
   {
    "duration": 7,
    "start_time": "2024-11-06T05:26:05.938Z"
   },
   {
    "duration": 4,
    "start_time": "2024-11-06T05:26:06.604Z"
   },
   {
    "duration": 9,
    "start_time": "2024-11-06T05:26:07.453Z"
   },
   {
    "duration": 240,
    "start_time": "2024-11-06T05:26:19.034Z"
   },
   {
    "duration": 221,
    "start_time": "2024-11-06T05:26:27.835Z"
   },
   {
    "duration": 329,
    "start_time": "2024-11-06T05:37:52.603Z"
   },
   {
    "duration": 14,
    "start_time": "2024-11-06T05:37:52.934Z"
   },
   {
    "duration": 18,
    "start_time": "2024-11-06T05:37:52.951Z"
   },
   {
    "duration": 440,
    "start_time": "2024-11-06T05:37:52.972Z"
   },
   {
    "duration": 9,
    "start_time": "2024-11-06T05:37:53.415Z"
   },
   {
    "duration": 6,
    "start_time": "2024-11-06T05:37:53.426Z"
   },
   {
    "duration": 8,
    "start_time": "2024-11-06T05:37:53.434Z"
   },
   {
    "duration": 11,
    "start_time": "2024-11-06T05:37:53.443Z"
   },
   {
    "duration": 4,
    "start_time": "2024-11-06T05:37:53.456Z"
   },
   {
    "duration": 8,
    "start_time": "2024-11-06T05:37:53.464Z"
   },
   {
    "duration": 3,
    "start_time": "2024-11-06T05:37:53.474Z"
   },
   {
    "duration": 13,
    "start_time": "2024-11-06T05:37:53.479Z"
   },
   {
    "duration": 345,
    "start_time": "2024-11-06T05:37:53.525Z"
   },
   {
    "duration": 14,
    "start_time": "2024-11-06T05:37:53.872Z"
   },
   {
    "duration": 12,
    "start_time": "2024-11-06T05:37:53.888Z"
   },
   {
    "duration": 9,
    "start_time": "2024-11-06T05:37:53.902Z"
   },
   {
    "duration": 3,
    "start_time": "2024-11-06T05:37:53.913Z"
   },
   {
    "duration": 13,
    "start_time": "2024-11-06T05:37:53.918Z"
   },
   {
    "duration": 14,
    "start_time": "2024-11-06T05:37:53.936Z"
   },
   {
    "duration": 5,
    "start_time": "2024-11-06T05:37:53.952Z"
   },
   {
    "duration": 13,
    "start_time": "2024-11-06T05:37:53.959Z"
   },
   {
    "duration": 8,
    "start_time": "2024-11-06T05:37:53.974Z"
   },
   {
    "duration": 5,
    "start_time": "2024-11-06T05:37:53.985Z"
   },
   {
    "duration": 3,
    "start_time": "2024-11-06T05:37:53.992Z"
   },
   {
    "duration": 34,
    "start_time": "2024-11-06T05:37:53.996Z"
   },
   {
    "duration": 239,
    "start_time": "2024-11-06T05:37:54.032Z"
   },
   {
    "duration": 4,
    "start_time": "2024-11-06T05:37:54.274Z"
   },
   {
    "duration": 8,
    "start_time": "2024-11-06T05:37:54.282Z"
   },
   {
    "duration": 151,
    "start_time": "2024-11-06T05:37:54.292Z"
   },
   {
    "duration": 5,
    "start_time": "2024-11-06T05:37:54.447Z"
   },
   {
    "duration": 11,
    "start_time": "2024-11-06T05:37:54.455Z"
   },
   {
    "duration": 95,
    "start_time": "2024-11-06T05:37:54.468Z"
   },
   {
    "duration": 12,
    "start_time": "2024-11-06T05:37:54.566Z"
   },
   {
    "duration": 6,
    "start_time": "2024-11-06T05:37:54.580Z"
   },
   {
    "duration": 11,
    "start_time": "2024-11-06T05:37:54.587Z"
   },
   {
    "duration": 3,
    "start_time": "2024-11-06T05:37:54.599Z"
   },
   {
    "duration": 32,
    "start_time": "2024-11-06T05:37:54.603Z"
   },
   {
    "duration": 9,
    "start_time": "2024-11-06T05:37:54.637Z"
   },
   {
    "duration": 167,
    "start_time": "2024-11-06T05:37:54.650Z"
   },
   {
    "duration": 156,
    "start_time": "2024-11-06T05:37:54.819Z"
   },
   {
    "duration": 254,
    "start_time": "2024-11-06T05:37:54.977Z"
   },
   {
    "duration": 7,
    "start_time": "2024-11-06T05:37:55.232Z"
   },
   {
    "duration": 15,
    "start_time": "2024-11-06T05:37:55.241Z"
   },
   {
    "duration": 9,
    "start_time": "2024-11-06T05:37:55.258Z"
   },
   {
    "duration": 186,
    "start_time": "2024-11-06T05:37:55.269Z"
   },
   {
    "duration": 203,
    "start_time": "2024-11-06T05:37:55.457Z"
   },
   {
    "duration": 8,
    "start_time": "2024-11-06T05:37:55.662Z"
   },
   {
    "duration": 379,
    "start_time": "2024-11-06T16:15:27.317Z"
   },
   {
    "duration": 2287,
    "start_time": "2024-11-06T16:15:52.362Z"
   },
   {
    "duration": 208,
    "start_time": "2024-11-06T16:16:06.494Z"
   },
   {
    "duration": 478,
    "start_time": "2024-11-06T16:21:42.418Z"
   },
   {
    "duration": 52,
    "start_time": "2024-11-06T16:21:42.898Z"
   },
   {
    "duration": 15,
    "start_time": "2024-11-06T16:21:42.952Z"
   },
   {
    "duration": 8,
    "start_time": "2024-11-06T16:21:42.969Z"
   },
   {
    "duration": 5,
    "start_time": "2024-11-06T16:21:42.980Z"
   },
   {
    "duration": 9,
    "start_time": "2024-11-06T16:21:42.986Z"
   },
   {
    "duration": 29,
    "start_time": "2024-11-06T16:21:42.996Z"
   },
   {
    "duration": 12,
    "start_time": "2024-11-06T16:21:43.026Z"
   },
   {
    "duration": 320,
    "start_time": "2024-11-06T16:21:43.040Z"
   },
   {
    "duration": 11,
    "start_time": "2024-11-06T16:21:43.362Z"
   },
   {
    "duration": 9,
    "start_time": "2024-11-06T16:21:43.375Z"
   },
   {
    "duration": 7,
    "start_time": "2024-11-06T16:21:43.386Z"
   },
   {
    "duration": 3,
    "start_time": "2024-11-06T16:21:43.395Z"
   },
   {
    "duration": 5,
    "start_time": "2024-11-06T16:21:43.401Z"
   },
   {
    "duration": 10,
    "start_time": "2024-11-06T16:21:43.423Z"
   },
   {
    "duration": 6,
    "start_time": "2024-11-06T16:21:43.435Z"
   },
   {
    "duration": 9,
    "start_time": "2024-11-06T16:21:43.443Z"
   },
   {
    "duration": 8,
    "start_time": "2024-11-06T16:21:43.455Z"
   },
   {
    "duration": 5,
    "start_time": "2024-11-06T16:21:43.465Z"
   },
   {
    "duration": 4,
    "start_time": "2024-11-06T16:21:43.472Z"
   },
   {
    "duration": 9,
    "start_time": "2024-11-06T16:21:43.477Z"
   },
   {
    "duration": 6,
    "start_time": "2024-11-06T16:21:43.530Z"
   },
   {
    "duration": 13,
    "start_time": "2024-11-06T16:21:43.539Z"
   },
   {
    "duration": 152,
    "start_time": "2024-11-06T16:21:43.556Z"
   },
   {
    "duration": 3,
    "start_time": "2024-11-06T16:21:43.710Z"
   },
   {
    "duration": 56,
    "start_time": "2024-11-06T16:21:43.716Z"
   },
   {
    "duration": 101,
    "start_time": "2024-11-06T16:21:43.774Z"
   },
   {
    "duration": 11,
    "start_time": "2024-11-06T16:21:43.877Z"
   },
   {
    "duration": 6,
    "start_time": "2024-11-06T16:21:43.889Z"
   },
   {
    "duration": 11,
    "start_time": "2024-11-06T16:21:43.897Z"
   },
   {
    "duration": 3,
    "start_time": "2024-11-06T16:21:43.924Z"
   },
   {
    "duration": 13,
    "start_time": "2024-11-06T16:21:43.929Z"
   },
   {
    "duration": 8,
    "start_time": "2024-11-06T16:21:43.944Z"
   },
   {
    "duration": 181,
    "start_time": "2024-11-06T16:21:43.954Z"
   },
   {
    "duration": 165,
    "start_time": "2024-11-06T16:21:44.137Z"
   },
   {
    "duration": 291,
    "start_time": "2024-11-06T16:21:44.304Z"
   },
   {
    "duration": 4,
    "start_time": "2024-11-06T16:21:44.596Z"
   },
   {
    "duration": 27,
    "start_time": "2024-11-06T16:21:44.601Z"
   },
   {
    "duration": 9,
    "start_time": "2024-11-06T16:21:44.630Z"
   },
   {
    "duration": 184,
    "start_time": "2024-11-06T16:21:44.640Z"
   },
   {
    "duration": 204,
    "start_time": "2024-11-06T16:21:44.830Z"
   },
   {
    "duration": 11,
    "start_time": "2024-11-06T16:21:45.037Z"
   },
   {
    "duration": 510,
    "start_time": "2024-11-06T16:40:01.162Z"
   },
   {
    "duration": 37,
    "start_time": "2024-11-06T16:40:01.674Z"
   },
   {
    "duration": 11,
    "start_time": "2024-11-06T16:40:01.930Z"
   },
   {
    "duration": 8,
    "start_time": "2024-11-06T16:40:02.314Z"
   },
   {
    "duration": 5,
    "start_time": "2024-11-06T16:40:02.679Z"
   },
   {
    "duration": 8,
    "start_time": "2024-11-06T16:40:02.993Z"
   },
   {
    "duration": 4,
    "start_time": "2024-11-06T16:40:03.451Z"
   },
   {
    "duration": 12,
    "start_time": "2024-11-06T16:40:03.752Z"
   },
   {
    "duration": 349,
    "start_time": "2024-11-06T16:40:04.328Z"
   },
   {
    "duration": 9,
    "start_time": "2024-11-06T16:40:05.398Z"
   },
   {
    "duration": 11,
    "start_time": "2024-11-06T16:40:05.617Z"
   },
   {
    "duration": 8,
    "start_time": "2024-11-06T16:40:05.889Z"
   },
   {
    "duration": 3,
    "start_time": "2024-11-06T16:40:06.124Z"
   },
   {
    "duration": 7,
    "start_time": "2024-11-06T16:40:06.363Z"
   },
   {
    "duration": 14,
    "start_time": "2024-11-06T16:40:06.626Z"
   },
   {
    "duration": 5,
    "start_time": "2024-11-06T16:40:06.930Z"
   },
   {
    "duration": 8,
    "start_time": "2024-11-06T16:40:07.388Z"
   },
   {
    "duration": 11,
    "start_time": "2024-11-06T16:40:07.889Z"
   },
   {
    "duration": 6,
    "start_time": "2024-11-06T16:40:08.530Z"
   },
   {
    "duration": 4,
    "start_time": "2024-11-06T16:40:09.812Z"
   },
   {
    "duration": 10,
    "start_time": "2024-11-06T16:40:10.441Z"
   },
   {
    "duration": 224,
    "start_time": "2024-11-06T16:40:27.327Z"
   },
   {
    "duration": 463,
    "start_time": "2024-11-06T16:50:53.496Z"
   },
   {
    "duration": 37,
    "start_time": "2024-11-06T16:50:53.964Z"
   },
   {
    "duration": 9,
    "start_time": "2024-11-06T16:50:54.613Z"
   },
   {
    "duration": 11,
    "start_time": "2024-11-06T16:50:55.061Z"
   },
   {
    "duration": 5,
    "start_time": "2024-11-06T16:50:55.389Z"
   },
   {
    "duration": 8,
    "start_time": "2024-11-06T16:50:55.705Z"
   },
   {
    "duration": 3,
    "start_time": "2024-11-06T16:50:56.109Z"
   },
   {
    "duration": 11,
    "start_time": "2024-11-06T16:50:56.442Z"
   },
   {
    "duration": 338,
    "start_time": "2024-11-06T16:50:57.114Z"
   },
   {
    "duration": 12,
    "start_time": "2024-11-06T16:50:58.432Z"
   },
   {
    "duration": 10,
    "start_time": "2024-11-06T16:50:58.871Z"
   },
   {
    "duration": 11,
    "start_time": "2024-11-06T16:50:59.261Z"
   },
   {
    "duration": 6,
    "start_time": "2024-11-06T16:50:59.550Z"
   },
   {
    "duration": 9,
    "start_time": "2024-11-06T16:50:59.856Z"
   },
   {
    "duration": 15,
    "start_time": "2024-11-06T16:51:00.133Z"
   },
   {
    "duration": 6,
    "start_time": "2024-11-06T16:51:00.375Z"
   },
   {
    "duration": 11,
    "start_time": "2024-11-06T16:51:00.630Z"
   },
   {
    "duration": 9,
    "start_time": "2024-11-06T16:51:01.071Z"
   },
   {
    "duration": 5,
    "start_time": "2024-11-06T16:51:01.509Z"
   },
   {
    "duration": 3,
    "start_time": "2024-11-06T16:51:02.302Z"
   },
   {
    "duration": 10,
    "start_time": "2024-11-06T16:51:02.936Z"
   },
   {
    "duration": 455,
    "start_time": "2024-11-06T16:51:21.188Z"
   },
   {
    "duration": 433,
    "start_time": "2024-11-06T16:58:18.361Z"
   },
   {
    "duration": 493,
    "start_time": "2024-11-06T17:03:16.631Z"
   },
   {
    "duration": 56,
    "start_time": "2024-11-06T17:03:17.314Z"
   },
   {
    "duration": 9,
    "start_time": "2024-11-06T17:03:18.100Z"
   },
   {
    "duration": 13,
    "start_time": "2024-11-06T17:03:18.747Z"
   },
   {
    "duration": 5,
    "start_time": "2024-11-06T17:03:19.222Z"
   },
   {
    "duration": 8,
    "start_time": "2024-11-06T17:03:19.810Z"
   },
   {
    "duration": 4,
    "start_time": "2024-11-06T17:03:20.300Z"
   },
   {
    "duration": 11,
    "start_time": "2024-11-06T17:03:20.838Z"
   },
   {
    "duration": 348,
    "start_time": "2024-11-06T17:03:22.068Z"
   },
   {
    "duration": 9,
    "start_time": "2024-11-06T17:03:24.092Z"
   },
   {
    "duration": 10,
    "start_time": "2024-11-06T17:03:24.606Z"
   },
   {
    "duration": 9,
    "start_time": "2024-11-06T17:03:25.204Z"
   },
   {
    "duration": 5,
    "start_time": "2024-11-06T17:03:25.933Z"
   },
   {
    "duration": 7,
    "start_time": "2024-11-06T17:03:26.451Z"
   },
   {
    "duration": 14,
    "start_time": "2024-11-06T17:03:27.506Z"
   },
   {
    "duration": 6,
    "start_time": "2024-11-06T17:03:28.590Z"
   },
   {
    "duration": 9,
    "start_time": "2024-11-06T17:03:31.387Z"
   },
   {
    "duration": 10,
    "start_time": "2024-11-06T17:03:34.884Z"
   },
   {
    "duration": 9,
    "start_time": "2024-11-06T17:03:43.735Z"
   },
   {
    "duration": 7,
    "start_time": "2024-11-06T17:03:48.532Z"
   },
   {
    "duration": 11,
    "start_time": "2024-11-06T17:03:49.552Z"
   },
   {
    "duration": 446,
    "start_time": "2024-11-06T17:10:14.529Z"
   },
   {
    "duration": 42,
    "start_time": "2024-11-06T17:10:14.978Z"
   },
   {
    "duration": 9,
    "start_time": "2024-11-06T17:10:15.644Z"
   },
   {
    "duration": 11,
    "start_time": "2024-11-06T17:10:16.100Z"
   },
   {
    "duration": 5,
    "start_time": "2024-11-06T17:10:16.522Z"
   },
   {
    "duration": 11,
    "start_time": "2024-11-06T17:10:16.977Z"
   },
   {
    "duration": 7,
    "start_time": "2024-11-06T17:10:17.449Z"
   },
   {
    "duration": 10,
    "start_time": "2024-11-06T17:10:17.986Z"
   },
   {
    "duration": 283,
    "start_time": "2024-11-06T17:10:20.273Z"
   },
   {
    "duration": 9,
    "start_time": "2024-11-06T17:10:24.278Z"
   },
   {
    "duration": 14,
    "start_time": "2024-11-06T17:10:24.850Z"
   },
   {
    "duration": 10,
    "start_time": "2024-11-06T17:10:26.938Z"
   },
   {
    "duration": 3,
    "start_time": "2024-11-06T17:10:29.130Z"
   },
   {
    "duration": 6,
    "start_time": "2024-11-06T17:10:30.028Z"
   },
   {
    "duration": 12,
    "start_time": "2024-11-06T17:10:32.927Z"
   },
   {
    "duration": 5,
    "start_time": "2024-11-06T17:10:38.363Z"
   },
   {
    "duration": 11,
    "start_time": "2024-11-06T17:10:39.747Z"
   },
   {
    "duration": 10,
    "start_time": "2024-11-06T17:10:42.493Z"
   },
   {
    "duration": 8,
    "start_time": "2024-11-06T17:10:44.637Z"
   },
   {
    "duration": 4,
    "start_time": "2024-11-06T17:10:45.922Z"
   },
   {
    "duration": 10,
    "start_time": "2024-11-06T17:10:47.987Z"
   },
   {
    "duration": 429,
    "start_time": "2024-11-06T17:11:05.669Z"
   },
   {
    "duration": 252,
    "start_time": "2024-11-06T17:12:37.607Z"
   },
   {
    "duration": 406,
    "start_time": "2024-11-06T17:13:22.553Z"
   },
   {
    "duration": 368,
    "start_time": "2024-11-06T17:13:42.357Z"
   },
   {
    "duration": 366,
    "start_time": "2024-11-06T17:14:34.420Z"
   },
   {
    "duration": 401,
    "start_time": "2024-11-06T17:15:21.477Z"
   },
   {
    "duration": 42,
    "start_time": "2024-11-06T17:15:21.979Z"
   },
   {
    "duration": 9,
    "start_time": "2024-11-06T17:15:22.439Z"
   },
   {
    "duration": 8,
    "start_time": "2024-11-06T17:15:22.817Z"
   },
   {
    "duration": 5,
    "start_time": "2024-11-06T17:15:23.131Z"
   },
   {
    "duration": 8,
    "start_time": "2024-11-06T17:15:23.428Z"
   },
   {
    "duration": 4,
    "start_time": "2024-11-06T17:15:23.859Z"
   },
   {
    "duration": 9,
    "start_time": "2024-11-06T17:15:24.284Z"
   },
   {
    "duration": 285,
    "start_time": "2024-11-06T17:15:25.348Z"
   },
   {
    "duration": 9,
    "start_time": "2024-11-06T17:15:27.060Z"
   },
   {
    "duration": 12,
    "start_time": "2024-11-06T17:15:27.610Z"
   },
   {
    "duration": 11,
    "start_time": "2024-11-06T17:15:28.258Z"
   },
   {
    "duration": 3,
    "start_time": "2024-11-06T17:15:28.831Z"
   },
   {
    "duration": 6,
    "start_time": "2024-11-06T17:15:29.235Z"
   },
   {
    "duration": 9,
    "start_time": "2024-11-06T17:15:29.683Z"
   },
   {
    "duration": 6,
    "start_time": "2024-11-06T17:15:30.218Z"
   },
   {
    "duration": 9,
    "start_time": "2024-11-06T17:15:30.956Z"
   },
   {
    "duration": 8,
    "start_time": "2024-11-06T17:15:32.589Z"
   },
   {
    "duration": 5,
    "start_time": "2024-11-06T17:15:33.439Z"
   },
   {
    "duration": 4,
    "start_time": "2024-11-06T17:15:34.658Z"
   },
   {
    "duration": 9,
    "start_time": "2024-11-06T17:15:35.404Z"
   },
   {
    "duration": 375,
    "start_time": "2024-11-06T17:15:36.620Z"
   },
   {
    "duration": 391,
    "start_time": "2024-11-06T17:18:12.356Z"
   },
   {
    "duration": 445,
    "start_time": "2024-11-06T17:26:25.411Z"
   },
   {
    "duration": 500,
    "start_time": "2024-11-06T17:28:29.442Z"
   },
   {
    "duration": 49,
    "start_time": "2024-11-06T17:28:29.944Z"
   },
   {
    "duration": 12,
    "start_time": "2024-11-06T17:28:30.256Z"
   },
   {
    "duration": 13,
    "start_time": "2024-11-06T17:28:30.542Z"
   },
   {
    "duration": 4,
    "start_time": "2024-11-06T17:28:30.802Z"
   },
   {
    "duration": 11,
    "start_time": "2024-11-06T17:28:31.063Z"
   },
   {
    "duration": 4,
    "start_time": "2024-11-06T17:28:31.310Z"
   },
   {
    "duration": 13,
    "start_time": "2024-11-06T17:28:31.543Z"
   },
   {
    "duration": 344,
    "start_time": "2024-11-06T17:28:32.024Z"
   },
   {
    "duration": 11,
    "start_time": "2024-11-06T17:28:32.776Z"
   },
   {
    "duration": 13,
    "start_time": "2024-11-06T17:28:34.051Z"
   },
   {
    "duration": 11,
    "start_time": "2024-11-06T17:28:34.832Z"
   },
   {
    "duration": 3,
    "start_time": "2024-11-06T17:28:35.360Z"
   },
   {
    "duration": 9,
    "start_time": "2024-11-06T17:28:35.636Z"
   },
   {
    "duration": 14,
    "start_time": "2024-11-06T17:28:35.952Z"
   },
   {
    "duration": 5,
    "start_time": "2024-11-06T17:28:36.229Z"
   },
   {
    "duration": 9,
    "start_time": "2024-11-06T17:28:36.712Z"
   },
   {
    "duration": 10,
    "start_time": "2024-11-06T17:28:37.345Z"
   },
   {
    "duration": 5,
    "start_time": "2024-11-06T17:28:37.991Z"
   },
   {
    "duration": 3,
    "start_time": "2024-11-06T17:28:39.317Z"
   },
   {
    "duration": 10,
    "start_time": "2024-11-06T17:28:39.960Z"
   },
   {
    "duration": 5,
    "start_time": "2024-11-06T17:28:42.816Z"
   },
   {
    "duration": 10,
    "start_time": "2024-11-06T17:29:08.046Z"
   },
   {
    "duration": 156,
    "start_time": "2024-11-06T17:31:07.679Z"
   },
   {
    "duration": 3,
    "start_time": "2024-11-06T17:31:18.733Z"
   },
   {
    "duration": 11,
    "start_time": "2024-11-06T17:31:41.295Z"
   },
   {
    "duration": 220,
    "start_time": "2024-11-06T17:33:46.571Z"
   },
   {
    "duration": 19,
    "start_time": "2024-11-06T17:33:51.956Z"
   },
   {
    "duration": 101,
    "start_time": "2024-11-06T17:34:43.288Z"
   },
   {
    "duration": 9,
    "start_time": "2024-11-06T17:34:45.566Z"
   },
   {
    "duration": 500,
    "start_time": "2024-11-06T17:35:10.135Z"
   },
   {
    "duration": 49,
    "start_time": "2024-11-06T17:35:10.637Z"
   },
   {
    "duration": 11,
    "start_time": "2024-11-06T17:35:10.937Z"
   },
   {
    "duration": 10,
    "start_time": "2024-11-06T17:35:11.345Z"
   },
   {
    "duration": 4,
    "start_time": "2024-11-06T17:35:11.616Z"
   },
   {
    "duration": 9,
    "start_time": "2024-11-06T17:35:11.944Z"
   },
   {
    "duration": 4,
    "start_time": "2024-11-06T17:35:12.282Z"
   },
   {
    "duration": 9,
    "start_time": "2024-11-06T17:35:12.592Z"
   },
   {
    "duration": 318,
    "start_time": "2024-11-06T17:35:13.282Z"
   },
   {
    "duration": 8,
    "start_time": "2024-11-06T17:35:14.600Z"
   },
   {
    "duration": 14,
    "start_time": "2024-11-06T17:35:15.151Z"
   },
   {
    "duration": 11,
    "start_time": "2024-11-06T17:35:15.822Z"
   },
   {
    "duration": 3,
    "start_time": "2024-11-06T17:35:16.649Z"
   },
   {
    "duration": 6,
    "start_time": "2024-11-06T17:35:17.465Z"
   },
   {
    "duration": 15,
    "start_time": "2024-11-06T17:35:18.136Z"
   },
   {
    "duration": 5,
    "start_time": "2024-11-06T17:35:18.602Z"
   },
   {
    "duration": 11,
    "start_time": "2024-11-06T17:35:19.164Z"
   },
   {
    "duration": 9,
    "start_time": "2024-11-06T17:38:42.872Z"
   },
   {
    "duration": 6,
    "start_time": "2024-11-06T17:38:44.634Z"
   },
   {
    "duration": 6,
    "start_time": "2024-11-06T17:38:46.745Z"
   },
   {
    "duration": 8,
    "start_time": "2024-11-06T17:38:47.208Z"
   },
   {
    "duration": 5,
    "start_time": "2024-11-06T17:38:50.193Z"
   },
   {
    "duration": 15,
    "start_time": "2024-11-06T17:38:50.950Z"
   },
   {
    "duration": 156,
    "start_time": "2024-11-06T17:38:55.136Z"
   },
   {
    "duration": 2,
    "start_time": "2024-11-06T17:38:57.311Z"
   },
   {
    "duration": 16,
    "start_time": "2024-11-06T17:38:58.553Z"
   },
   {
    "duration": 468,
    "start_time": "2024-11-06T17:40:15.557Z"
   },
   {
    "duration": 49,
    "start_time": "2024-11-06T17:40:16.028Z"
   },
   {
    "duration": 9,
    "start_time": "2024-11-06T17:40:16.080Z"
   },
   {
    "duration": 10,
    "start_time": "2024-11-06T17:40:16.134Z"
   },
   {
    "duration": 15,
    "start_time": "2024-11-06T17:40:16.356Z"
   },
   {
    "duration": 9,
    "start_time": "2024-11-06T17:40:16.570Z"
   },
   {
    "duration": 4,
    "start_time": "2024-11-06T17:40:16.779Z"
   },
   {
    "duration": 9,
    "start_time": "2024-11-06T17:40:16.981Z"
   },
   {
    "duration": 351,
    "start_time": "2024-11-06T17:40:17.373Z"
   },
   {
    "duration": 9,
    "start_time": "2024-11-06T17:40:17.981Z"
   },
   {
    "duration": 10,
    "start_time": "2024-11-06T17:40:18.205Z"
   },
   {
    "duration": 9,
    "start_time": "2024-11-06T17:40:18.412Z"
   },
   {
    "duration": 3,
    "start_time": "2024-11-06T17:40:18.619Z"
   },
   {
    "duration": 6,
    "start_time": "2024-11-06T17:40:18.815Z"
   },
   {
    "duration": 13,
    "start_time": "2024-11-06T17:40:19.037Z"
   },
   {
    "duration": 6,
    "start_time": "2024-11-06T17:40:19.246Z"
   },
   {
    "duration": 11,
    "start_time": "2024-11-06T17:40:19.461Z"
   },
   {
    "duration": 8,
    "start_time": "2024-11-06T17:40:19.693Z"
   },
   {
    "duration": 5,
    "start_time": "2024-11-06T17:40:19.972Z"
   },
   {
    "duration": 4,
    "start_time": "2024-11-06T17:40:20.192Z"
   },
   {
    "duration": 11,
    "start_time": "2024-11-06T17:40:20.662Z"
   },
   {
    "duration": 5,
    "start_time": "2024-11-06T17:40:21.693Z"
   },
   {
    "duration": 8,
    "start_time": "2024-11-06T17:40:22.177Z"
   },
   {
    "duration": 153,
    "start_time": "2024-11-06T17:40:22.675Z"
   },
   {
    "duration": 3,
    "start_time": "2024-11-06T17:40:24.909Z"
   },
   {
    "duration": 11,
    "start_time": "2024-11-06T17:40:25.701Z"
   },
   {
    "duration": 95,
    "start_time": "2024-11-06T17:40:28.717Z"
   },
   {
    "duration": 11,
    "start_time": "2024-11-06T17:40:32.119Z"
   },
   {
    "duration": 232,
    "start_time": "2024-11-06T17:42:51.493Z"
   },
   {
    "duration": 23,
    "start_time": "2024-11-06T17:43:09.774Z"
   },
   {
    "duration": 31,
    "start_time": "2024-11-06T17:43:21.828Z"
   },
   {
    "duration": 22,
    "start_time": "2024-11-06T17:43:29.007Z"
   },
   {
    "duration": 18,
    "start_time": "2024-11-06T17:43:48.705Z"
   },
   {
    "duration": 23,
    "start_time": "2024-11-06T17:44:51.360Z"
   },
   {
    "duration": 23,
    "start_time": "2024-11-06T17:45:00.456Z"
   },
   {
    "duration": 16,
    "start_time": "2024-11-06T17:45:06.361Z"
   },
   {
    "duration": 20,
    "start_time": "2024-11-06T17:45:13.184Z"
   },
   {
    "duration": 19,
    "start_time": "2024-11-06T17:45:38.597Z"
   },
   {
    "duration": 445,
    "start_time": "2024-11-06T17:45:55.874Z"
   },
   {
    "duration": 6,
    "start_time": "2024-11-06T17:46:38.157Z"
   },
   {
    "duration": 18,
    "start_time": "2024-11-06T17:46:39.028Z"
   },
   {
    "duration": 6,
    "start_time": "2024-11-06T17:47:37.902Z"
   },
   {
    "duration": 15,
    "start_time": "2024-11-06T17:47:39.102Z"
   },
   {
    "duration": 458,
    "start_time": "2024-11-06T17:48:07.875Z"
   },
   {
    "duration": 50,
    "start_time": "2024-11-06T17:48:08.337Z"
   },
   {
    "duration": 9,
    "start_time": "2024-11-06T17:48:08.597Z"
   },
   {
    "duration": 10,
    "start_time": "2024-11-06T17:48:08.991Z"
   },
   {
    "duration": 5,
    "start_time": "2024-11-06T17:48:09.261Z"
   },
   {
    "duration": 8,
    "start_time": "2024-11-06T17:48:09.476Z"
   },
   {
    "duration": 4,
    "start_time": "2024-11-06T17:48:09.684Z"
   },
   {
    "duration": 8,
    "start_time": "2024-11-06T17:48:09.883Z"
   },
   {
    "duration": 345,
    "start_time": "2024-11-06T17:48:10.359Z"
   },
   {
    "duration": 9,
    "start_time": "2024-11-06T17:48:11.099Z"
   },
   {
    "duration": 10,
    "start_time": "2024-11-06T17:48:11.382Z"
   },
   {
    "duration": 9,
    "start_time": "2024-11-06T17:48:11.709Z"
   },
   {
    "duration": 3,
    "start_time": "2024-11-06T17:48:12.004Z"
   },
   {
    "duration": 6,
    "start_time": "2024-11-06T17:48:12.309Z"
   },
   {
    "duration": 16,
    "start_time": "2024-11-06T17:48:12.627Z"
   },
   {
    "duration": 11,
    "start_time": "2024-11-06T17:48:13.140Z"
   },
   {
    "duration": 11,
    "start_time": "2024-11-06T17:48:13.467Z"
   },
   {
    "duration": 9,
    "start_time": "2024-11-06T17:48:13.885Z"
   },
   {
    "duration": 5,
    "start_time": "2024-11-06T17:48:14.403Z"
   },
   {
    "duration": 4,
    "start_time": "2024-11-06T17:48:15.387Z"
   },
   {
    "duration": 10,
    "start_time": "2024-11-06T17:48:15.848Z"
   },
   {
    "duration": 5,
    "start_time": "2024-11-06T17:48:17.047Z"
   },
   {
    "duration": 10,
    "start_time": "2024-11-06T17:48:17.925Z"
   },
   {
    "duration": 147,
    "start_time": "2024-11-06T17:48:21.677Z"
   },
   {
    "duration": 2,
    "start_time": "2024-11-06T17:48:23.700Z"
   },
   {
    "duration": 12,
    "start_time": "2024-11-06T17:48:24.753Z"
   },
   {
    "duration": 95,
    "start_time": "2024-11-06T17:48:26.208Z"
   },
   {
    "duration": 12,
    "start_time": "2024-11-06T17:48:27.509Z"
   },
   {
    "duration": 11,
    "start_time": "2024-11-06T17:48:28.756Z"
   },
   {
    "duration": 14,
    "start_time": "2024-11-06T17:48:29.390Z"
   },
   {
    "duration": 1579,
    "start_time": "2024-11-06T17:51:10.505Z"
   },
   {
    "duration": 93,
    "start_time": "2024-11-06T17:53:21.760Z"
   },
   {
    "duration": 92,
    "start_time": "2024-11-06T17:53:30.450Z"
   },
   {
    "duration": 122,
    "start_time": "2024-11-06T17:54:25.888Z"
   },
   {
    "duration": 13,
    "start_time": "2024-11-06T17:54:43.244Z"
   },
   {
    "duration": 204,
    "start_time": "2024-11-06T17:55:04.779Z"
   },
   {
    "duration": 165,
    "start_time": "2024-11-06T17:55:35.351Z"
   },
   {
    "duration": 32,
    "start_time": "2024-11-06T17:55:46.518Z"
   },
   {
    "duration": 204,
    "start_time": "2024-11-06T17:55:53.280Z"
   },
   {
    "duration": 195,
    "start_time": "2024-11-06T17:56:09.698Z"
   },
   {
    "duration": 19,
    "start_time": "2024-11-06T17:56:25.150Z"
   },
   {
    "duration": 196,
    "start_time": "2024-11-06T17:56:38.702Z"
   },
   {
    "duration": 448,
    "start_time": "2024-11-06T17:58:51.332Z"
   },
   {
    "duration": 46,
    "start_time": "2024-11-06T17:58:51.782Z"
   },
   {
    "duration": 10,
    "start_time": "2024-11-06T17:58:51.830Z"
   },
   {
    "duration": 11,
    "start_time": "2024-11-06T17:58:51.841Z"
   },
   {
    "duration": 5,
    "start_time": "2024-11-06T17:58:51.855Z"
   },
   {
    "duration": 13,
    "start_time": "2024-11-06T17:58:51.861Z"
   },
   {
    "duration": 6,
    "start_time": "2024-11-06T17:58:51.876Z"
   },
   {
    "duration": 37,
    "start_time": "2024-11-06T17:58:51.888Z"
   },
   {
    "duration": 314,
    "start_time": "2024-11-06T17:58:51.927Z"
   },
   {
    "duration": 12,
    "start_time": "2024-11-06T17:58:52.244Z"
   },
   {
    "duration": 16,
    "start_time": "2024-11-06T17:58:52.259Z"
   },
   {
    "duration": 11,
    "start_time": "2024-11-06T17:58:52.278Z"
   },
   {
    "duration": 3,
    "start_time": "2024-11-06T17:58:52.291Z"
   },
   {
    "duration": 5,
    "start_time": "2024-11-06T17:58:52.300Z"
   },
   {
    "duration": 9,
    "start_time": "2024-11-06T17:58:52.313Z"
   },
   {
    "duration": 5,
    "start_time": "2024-11-06T17:58:52.325Z"
   },
   {
    "duration": 10,
    "start_time": "2024-11-06T17:58:52.332Z"
   },
   {
    "duration": 9,
    "start_time": "2024-11-06T17:58:52.345Z"
   },
   {
    "duration": 6,
    "start_time": "2024-11-06T17:58:52.355Z"
   },
   {
    "duration": 5,
    "start_time": "2024-11-06T17:58:52.363Z"
   },
   {
    "duration": 9,
    "start_time": "2024-11-06T17:58:52.369Z"
   },
   {
    "duration": 44,
    "start_time": "2024-11-06T17:58:52.380Z"
   },
   {
    "duration": 11,
    "start_time": "2024-11-06T17:58:52.426Z"
   },
   {
    "duration": 148,
    "start_time": "2024-11-06T17:58:52.439Z"
   },
   {
    "duration": 3,
    "start_time": "2024-11-06T17:58:52.589Z"
   },
   {
    "duration": 11,
    "start_time": "2024-11-06T17:58:52.594Z"
   },
   {
    "duration": 127,
    "start_time": "2024-11-06T17:58:52.606Z"
   },
   {
    "duration": 10,
    "start_time": "2024-11-06T17:58:52.735Z"
   },
   {
    "duration": 6,
    "start_time": "2024-11-06T17:58:52.747Z"
   },
   {
    "duration": 17,
    "start_time": "2024-11-06T17:58:52.755Z"
   },
   {
    "duration": 11,
    "start_time": "2024-11-06T17:58:52.774Z"
   },
   {
    "duration": 227,
    "start_time": "2024-11-06T17:58:52.787Z"
   },
   {
    "duration": 11,
    "start_time": "2024-11-06T17:58:53.016Z"
   },
   {
    "duration": 8,
    "start_time": "2024-11-06T17:58:53.028Z"
   },
   {
    "duration": 167,
    "start_time": "2024-11-06T17:58:53.038Z"
   },
   {
    "duration": 3,
    "start_time": "2024-11-06T17:58:53.207Z"
   },
   {
    "duration": 20,
    "start_time": "2024-11-06T17:58:53.211Z"
   },
   {
    "duration": 103,
    "start_time": "2024-11-06T17:58:53.233Z"
   },
   {
    "duration": 11,
    "start_time": "2024-11-06T17:58:53.340Z"
   },
   {
    "duration": 7,
    "start_time": "2024-11-06T17:58:53.353Z"
   },
   {
    "duration": 13,
    "start_time": "2024-11-06T17:58:53.367Z"
   },
   {
    "duration": 3,
    "start_time": "2024-11-06T17:58:53.381Z"
   },
   {
    "duration": 40,
    "start_time": "2024-11-06T17:58:53.385Z"
   },
   {
    "duration": 9,
    "start_time": "2024-11-06T17:58:53.427Z"
   },
   {
    "duration": 179,
    "start_time": "2024-11-06T17:58:53.437Z"
   },
   {
    "duration": 160,
    "start_time": "2024-11-06T17:58:53.624Z"
   },
   {
    "duration": 308,
    "start_time": "2024-11-06T17:58:53.785Z"
   },
   {
    "duration": 5,
    "start_time": "2024-11-06T17:58:54.095Z"
   },
   {
    "duration": 14,
    "start_time": "2024-11-06T17:58:54.102Z"
   },
   {
    "duration": 9,
    "start_time": "2024-11-06T17:58:54.125Z"
   },
   {
    "duration": 168,
    "start_time": "2024-11-06T17:58:54.136Z"
   },
   {
    "duration": 213,
    "start_time": "2024-11-06T17:58:54.306Z"
   },
   {
    "duration": 7,
    "start_time": "2024-11-06T17:58:54.524Z"
   },
   {
    "duration": 6,
    "start_time": "2024-11-06T18:00:02.114Z"
   },
   {
    "duration": 430,
    "start_time": "2024-11-06T18:00:12.418Z"
   },
   {
    "duration": 52,
    "start_time": "2024-11-06T18:00:12.850Z"
   },
   {
    "duration": 11,
    "start_time": "2024-11-06T18:00:13.418Z"
   },
   {
    "duration": 12,
    "start_time": "2024-11-06T18:00:13.857Z"
   },
   {
    "duration": 5,
    "start_time": "2024-11-06T18:00:14.283Z"
   },
   {
    "duration": 10,
    "start_time": "2024-11-06T18:00:14.657Z"
   },
   {
    "duration": 4,
    "start_time": "2024-11-06T18:00:15.058Z"
   },
   {
    "duration": 14,
    "start_time": "2024-11-06T18:00:15.506Z"
   },
   {
    "duration": 327,
    "start_time": "2024-11-06T18:00:16.517Z"
   },
   {
    "duration": 9,
    "start_time": "2024-11-06T18:00:18.048Z"
   },
   {
    "duration": 11,
    "start_time": "2024-11-06T18:00:18.546Z"
   },
   {
    "duration": 9,
    "start_time": "2024-11-06T18:00:18.967Z"
   },
   {
    "duration": 3,
    "start_time": "2024-11-06T18:00:19.425Z"
   },
   {
    "duration": 7,
    "start_time": "2024-11-06T18:00:19.951Z"
   },
   {
    "duration": 11,
    "start_time": "2024-11-06T18:00:20.456Z"
   },
   {
    "duration": 6,
    "start_time": "2024-11-06T18:00:21.067Z"
   },
   {
    "duration": 11,
    "start_time": "2024-11-06T18:00:21.594Z"
   },
   {
    "duration": 9,
    "start_time": "2024-11-06T18:00:22.417Z"
   },
   {
    "duration": 6,
    "start_time": "2024-11-06T18:00:22.988Z"
   },
   {
    "duration": 6,
    "start_time": "2024-11-06T18:00:23.817Z"
   },
   {
    "duration": 8,
    "start_time": "2024-11-06T18:00:24.545Z"
   },
   {
    "duration": 7,
    "start_time": "2024-11-06T18:00:26.174Z"
   },
   {
    "duration": 9,
    "start_time": "2024-11-06T18:00:26.805Z"
   },
   {
    "duration": 148,
    "start_time": "2024-11-06T18:00:27.605Z"
   },
   {
    "duration": 3,
    "start_time": "2024-11-06T18:00:28.477Z"
   },
   {
    "duration": 11,
    "start_time": "2024-11-06T18:00:29.365Z"
   },
   {
    "duration": 98,
    "start_time": "2024-11-06T18:00:30.249Z"
   },
   {
    "duration": 13,
    "start_time": "2024-11-06T18:00:31.133Z"
   },
   {
    "duration": 6,
    "start_time": "2024-11-06T18:00:34.433Z"
   },
   {
    "duration": 16,
    "start_time": "2024-11-06T18:00:35.499Z"
   },
   {
    "duration": 469,
    "start_time": "2024-11-06T18:01:32.164Z"
   },
   {
    "duration": 49,
    "start_time": "2024-11-06T18:01:32.635Z"
   },
   {
    "duration": 10,
    "start_time": "2024-11-06T18:01:32.817Z"
   },
   {
    "duration": 11,
    "start_time": "2024-11-06T18:01:33.127Z"
   },
   {
    "duration": 4,
    "start_time": "2024-11-06T18:01:33.339Z"
   },
   {
    "duration": 8,
    "start_time": "2024-11-06T18:01:33.571Z"
   },
   {
    "duration": 4,
    "start_time": "2024-11-06T18:01:33.819Z"
   },
   {
    "duration": 10,
    "start_time": "2024-11-06T18:01:34.077Z"
   },
   {
    "duration": 321,
    "start_time": "2024-11-06T18:01:34.583Z"
   },
   {
    "duration": 10,
    "start_time": "2024-11-06T18:01:35.373Z"
   },
   {
    "duration": 13,
    "start_time": "2024-11-06T18:01:35.666Z"
   },
   {
    "duration": 11,
    "start_time": "2024-11-06T18:01:36.091Z"
   },
   {
    "duration": 5,
    "start_time": "2024-11-06T18:01:36.542Z"
   },
   {
    "duration": 7,
    "start_time": "2024-11-06T18:01:37.234Z"
   },
   {
    "duration": 11,
    "start_time": "2024-11-06T18:01:37.694Z"
   },
   {
    "duration": 7,
    "start_time": "2024-11-06T18:01:38.189Z"
   },
   {
    "duration": 11,
    "start_time": "2024-11-06T18:01:38.677Z"
   },
   {
    "duration": 9,
    "start_time": "2024-11-06T18:01:39.447Z"
   },
   {
    "duration": 5,
    "start_time": "2024-11-06T18:01:42.868Z"
   },
   {
    "duration": 4,
    "start_time": "2024-11-06T18:01:43.536Z"
   },
   {
    "duration": 8,
    "start_time": "2024-11-06T18:01:44.068Z"
   },
   {
    "duration": 398,
    "start_time": "2024-11-06T18:02:04.688Z"
   },
   {
    "duration": 457,
    "start_time": "2024-11-06T18:04:54.076Z"
   },
   {
    "duration": 53,
    "start_time": "2024-11-06T18:04:54.535Z"
   },
   {
    "duration": 11,
    "start_time": "2024-11-06T18:04:54.645Z"
   },
   {
    "duration": 8,
    "start_time": "2024-11-06T18:04:55.091Z"
   },
   {
    "duration": 4,
    "start_time": "2024-11-06T18:04:55.369Z"
   },
   {
    "duration": 9,
    "start_time": "2024-11-06T18:04:55.638Z"
   },
   {
    "duration": 4,
    "start_time": "2024-11-06T18:04:55.908Z"
   },
   {
    "duration": 9,
    "start_time": "2024-11-06T18:04:56.196Z"
   },
   {
    "duration": 328,
    "start_time": "2024-11-06T18:04:56.747Z"
   },
   {
    "duration": 16,
    "start_time": "2024-11-06T18:04:57.922Z"
   },
   {
    "duration": 11,
    "start_time": "2024-11-06T18:04:58.901Z"
   },
   {
    "duration": 9,
    "start_time": "2024-11-06T18:05:00.221Z"
   },
   {
    "duration": 2,
    "start_time": "2024-11-06T18:05:01.517Z"
   },
   {
    "duration": 13,
    "start_time": "2024-11-06T18:05:01.841Z"
   },
   {
    "duration": 15,
    "start_time": "2024-11-06T18:05:02.123Z"
   },
   {
    "duration": 6,
    "start_time": "2024-11-06T18:05:02.457Z"
   },
   {
    "duration": 10,
    "start_time": "2024-11-06T18:05:02.994Z"
   },
   {
    "duration": 8,
    "start_time": "2024-11-06T18:05:03.578Z"
   },
   {
    "duration": 5,
    "start_time": "2024-11-06T18:05:04.181Z"
   },
   {
    "duration": 7,
    "start_time": "2024-11-06T18:05:04.887Z"
   },
   {
    "duration": 9,
    "start_time": "2024-11-06T18:05:05.386Z"
   },
   {
    "duration": 5,
    "start_time": "2024-11-06T18:05:09.800Z"
   },
   {
    "duration": 152,
    "start_time": "2024-11-06T18:05:11.203Z"
   },
   {
    "duration": 3,
    "start_time": "2024-11-06T18:05:12.356Z"
   },
   {
    "duration": 91,
    "start_time": "2024-11-06T18:05:13.253Z"
   },
   {
    "duration": 3,
    "start_time": "2024-11-06T18:05:14.043Z"
   },
   {
    "duration": 6,
    "start_time": "2024-11-06T18:05:14.764Z"
   },
   {
    "duration": 8,
    "start_time": "2024-11-06T18:05:15.394Z"
   },
   {
    "duration": 8,
    "start_time": "2024-11-06T18:05:17.947Z"
   },
   {
    "duration": 160,
    "start_time": "2024-11-06T18:05:19.172Z"
   },
   {
    "duration": 579,
    "start_time": "2024-11-06T18:15:23.148Z"
   },
   {
    "duration": 42,
    "start_time": "2024-11-06T18:17:43.246Z"
   },
   {
    "duration": 45,
    "start_time": "2024-11-06T18:18:03.104Z"
   },
   {
    "duration": 41,
    "start_time": "2024-11-06T18:18:12.063Z"
   },
   {
    "duration": 42,
    "start_time": "2024-11-06T18:18:35.512Z"
   },
   {
    "duration": 446,
    "start_time": "2024-11-06T18:18:47.433Z"
   },
   {
    "duration": 45,
    "start_time": "2024-11-06T18:18:47.882Z"
   },
   {
    "duration": 10,
    "start_time": "2024-11-06T18:18:47.930Z"
   },
   {
    "duration": 8,
    "start_time": "2024-11-06T18:18:47.943Z"
   },
   {
    "duration": 4,
    "start_time": "2024-11-06T18:18:47.953Z"
   },
   {
    "duration": 10,
    "start_time": "2024-11-06T18:18:47.958Z"
   },
   {
    "duration": 4,
    "start_time": "2024-11-06T18:18:47.970Z"
   },
   {
    "duration": 9,
    "start_time": "2024-11-06T18:18:47.976Z"
   },
   {
    "duration": 333,
    "start_time": "2024-11-06T18:18:47.987Z"
   },
   {
    "duration": 8,
    "start_time": "2024-11-06T18:18:48.325Z"
   },
   {
    "duration": 10,
    "start_time": "2024-11-06T18:18:48.335Z"
   },
   {
    "duration": 9,
    "start_time": "2024-11-06T18:18:48.346Z"
   },
   {
    "duration": 3,
    "start_time": "2024-11-06T18:18:48.357Z"
   },
   {
    "duration": 6,
    "start_time": "2024-11-06T18:18:48.361Z"
   },
   {
    "duration": 9,
    "start_time": "2024-11-06T18:18:48.370Z"
   },
   {
    "duration": 4,
    "start_time": "2024-11-06T18:18:48.382Z"
   },
   {
    "duration": 38,
    "start_time": "2024-11-06T18:18:48.388Z"
   },
   {
    "duration": 7,
    "start_time": "2024-11-06T18:18:48.429Z"
   },
   {
    "duration": 5,
    "start_time": "2024-11-06T18:18:48.437Z"
   },
   {
    "duration": 4,
    "start_time": "2024-11-06T18:18:48.443Z"
   },
   {
    "duration": 8,
    "start_time": "2024-11-06T18:18:48.449Z"
   },
   {
    "duration": 5,
    "start_time": "2024-11-06T18:18:48.458Z"
   },
   {
    "duration": 172,
    "start_time": "2024-11-06T18:18:48.464Z"
   },
   {
    "duration": 3,
    "start_time": "2024-11-06T18:18:48.637Z"
   },
   {
    "duration": 96,
    "start_time": "2024-11-06T18:18:48.642Z"
   },
   {
    "duration": 3,
    "start_time": "2024-11-06T18:18:48.739Z"
   },
   {
    "duration": 6,
    "start_time": "2024-11-06T18:18:48.743Z"
   },
   {
    "duration": 7,
    "start_time": "2024-11-06T18:18:48.752Z"
   },
   {
    "duration": 7,
    "start_time": "2024-11-06T18:18:48.761Z"
   },
   {
    "duration": 182,
    "start_time": "2024-11-06T18:18:48.770Z"
   },
   {
    "duration": 604,
    "start_time": "2024-11-06T18:18:48.954Z"
   },
   {
    "duration": 0,
    "start_time": "2024-11-06T18:18:49.560Z"
   },
   {
    "duration": 0,
    "start_time": "2024-11-06T18:18:49.561Z"
   },
   {
    "duration": 0,
    "start_time": "2024-11-06T18:18:49.562Z"
   },
   {
    "duration": 0,
    "start_time": "2024-11-06T18:18:49.563Z"
   },
   {
    "duration": 0,
    "start_time": "2024-11-06T18:18:49.564Z"
   },
   {
    "duration": 0,
    "start_time": "2024-11-06T18:18:49.565Z"
   },
   {
    "duration": 0,
    "start_time": "2024-11-06T18:18:49.566Z"
   },
   {
    "duration": 41,
    "start_time": "2024-11-06T18:19:32.291Z"
   },
   {
    "duration": 175,
    "start_time": "2024-11-06T18:21:18.378Z"
   },
   {
    "duration": 202,
    "start_time": "2024-11-06T18:21:31.960Z"
   },
   {
    "duration": 248,
    "start_time": "2024-11-06T18:22:13.460Z"
   },
   {
    "duration": 229,
    "start_time": "2024-11-06T18:32:12.703Z"
   },
   {
    "duration": 258,
    "start_time": "2024-11-06T18:33:10.445Z"
   },
   {
    "duration": 40,
    "start_time": "2024-11-06T18:37:37.326Z"
   },
   {
    "duration": 191,
    "start_time": "2024-11-06T18:38:36.245Z"
   },
   {
    "duration": 3,
    "start_time": "2024-11-06T18:39:36.719Z"
   },
   {
    "duration": 437,
    "start_time": "2024-11-06T18:40:50.358Z"
   },
   {
    "duration": 46,
    "start_time": "2024-11-06T18:40:50.797Z"
   },
   {
    "duration": 8,
    "start_time": "2024-11-06T18:40:50.845Z"
   },
   {
    "duration": 9,
    "start_time": "2024-11-06T18:40:50.855Z"
   },
   {
    "duration": 3,
    "start_time": "2024-11-06T18:40:50.866Z"
   },
   {
    "duration": 9,
    "start_time": "2024-11-06T18:40:50.870Z"
   },
   {
    "duration": 2,
    "start_time": "2024-11-06T18:40:50.882Z"
   },
   {
    "duration": 41,
    "start_time": "2024-11-06T18:40:50.886Z"
   },
   {
    "duration": 299,
    "start_time": "2024-11-06T18:40:50.929Z"
   },
   {
    "duration": 9,
    "start_time": "2024-11-06T18:40:51.230Z"
   },
   {
    "duration": 10,
    "start_time": "2024-11-06T18:40:51.240Z"
   },
   {
    "duration": 8,
    "start_time": "2024-11-06T18:40:51.252Z"
   },
   {
    "duration": 2,
    "start_time": "2024-11-06T18:40:51.262Z"
   },
   {
    "duration": 5,
    "start_time": "2024-11-06T18:40:51.268Z"
   },
   {
    "duration": 9,
    "start_time": "2024-11-06T18:40:51.274Z"
   },
   {
    "duration": 5,
    "start_time": "2024-11-06T18:40:51.284Z"
   },
   {
    "duration": 39,
    "start_time": "2024-11-06T18:40:51.291Z"
   },
   {
    "duration": 8,
    "start_time": "2024-11-06T18:40:51.332Z"
   },
   {
    "duration": 5,
    "start_time": "2024-11-06T18:40:51.342Z"
   },
   {
    "duration": 4,
    "start_time": "2024-11-06T18:40:51.348Z"
   },
   {
    "duration": 8,
    "start_time": "2024-11-06T18:40:51.353Z"
   },
   {
    "duration": 4,
    "start_time": "2024-11-06T18:40:51.362Z"
   },
   {
    "duration": 171,
    "start_time": "2024-11-06T18:40:51.368Z"
   },
   {
    "duration": 2,
    "start_time": "2024-11-06T18:40:51.541Z"
   },
   {
    "duration": 101,
    "start_time": "2024-11-06T18:40:51.545Z"
   },
   {
    "duration": 3,
    "start_time": "2024-11-06T18:40:51.648Z"
   },
   {
    "duration": 6,
    "start_time": "2024-11-06T18:40:51.652Z"
   },
   {
    "duration": 8,
    "start_time": "2024-11-06T18:40:51.659Z"
   },
   {
    "duration": 7,
    "start_time": "2024-11-06T18:40:51.668Z"
   },
   {
    "duration": 184,
    "start_time": "2024-11-06T18:40:51.678Z"
   },
   {
    "duration": 284,
    "start_time": "2024-11-06T18:40:51.864Z"
   },
   {
    "duration": 282,
    "start_time": "2024-11-06T18:40:52.150Z"
   },
   {
    "duration": 4,
    "start_time": "2024-11-06T18:40:52.433Z"
   },
   {
    "duration": 7,
    "start_time": "2024-11-06T18:40:52.438Z"
   },
   {
    "duration": 200,
    "start_time": "2024-11-06T18:40:52.447Z"
   },
   {
    "duration": 562,
    "start_time": "2024-11-06T18:40:52.649Z"
   },
   {
    "duration": 0,
    "start_time": "2024-11-06T18:40:53.212Z"
   },
   {
    "duration": 0,
    "start_time": "2024-11-06T18:40:53.213Z"
   },
   {
    "duration": 0,
    "start_time": "2024-11-06T18:40:53.214Z"
   },
   {
    "duration": 0,
    "start_time": "2024-11-06T18:40:53.217Z"
   },
   {
    "duration": 0,
    "start_time": "2024-11-06T18:40:53.217Z"
   },
   {
    "duration": 171,
    "start_time": "2024-11-06T18:40:59.576Z"
   },
   {
    "duration": 415,
    "start_time": "2024-11-06T18:43:56.687Z"
   },
   {
    "duration": 42,
    "start_time": "2024-11-06T18:43:57.104Z"
   },
   {
    "duration": 9,
    "start_time": "2024-11-06T18:43:57.148Z"
   },
   {
    "duration": 9,
    "start_time": "2024-11-06T18:43:57.158Z"
   },
   {
    "duration": 4,
    "start_time": "2024-11-06T18:43:57.169Z"
   },
   {
    "duration": 8,
    "start_time": "2024-11-06T18:43:57.175Z"
   },
   {
    "duration": 4,
    "start_time": "2024-11-06T18:43:57.185Z"
   },
   {
    "duration": 39,
    "start_time": "2024-11-06T18:43:57.191Z"
   },
   {
    "duration": 305,
    "start_time": "2024-11-06T18:43:57.232Z"
   },
   {
    "duration": 9,
    "start_time": "2024-11-06T18:43:57.539Z"
   },
   {
    "duration": 9,
    "start_time": "2024-11-06T18:43:57.550Z"
   },
   {
    "duration": 8,
    "start_time": "2024-11-06T18:43:57.561Z"
   },
   {
    "duration": 3,
    "start_time": "2024-11-06T18:43:57.571Z"
   },
   {
    "duration": 4,
    "start_time": "2024-11-06T18:43:57.579Z"
   },
   {
    "duration": 9,
    "start_time": "2024-11-06T18:43:57.585Z"
   },
   {
    "duration": 29,
    "start_time": "2024-11-06T18:43:57.595Z"
   },
   {
    "duration": 9,
    "start_time": "2024-11-06T18:43:57.625Z"
   },
   {
    "duration": 9,
    "start_time": "2024-11-06T18:43:57.635Z"
   },
   {
    "duration": 5,
    "start_time": "2024-11-06T18:43:57.646Z"
   },
   {
    "duration": 4,
    "start_time": "2024-11-06T18:43:57.654Z"
   },
   {
    "duration": 8,
    "start_time": "2024-11-06T18:43:57.659Z"
   },
   {
    "duration": 4,
    "start_time": "2024-11-06T18:43:57.669Z"
   },
   {
    "duration": 177,
    "start_time": "2024-11-06T18:43:57.675Z"
   },
   {
    "duration": 3,
    "start_time": "2024-11-06T18:43:57.854Z"
   },
   {
    "duration": 104,
    "start_time": "2024-11-06T18:43:57.858Z"
   },
   {
    "duration": 2,
    "start_time": "2024-11-06T18:43:57.964Z"
   },
   {
    "duration": 6,
    "start_time": "2024-11-06T18:43:57.967Z"
   },
   {
    "duration": 6,
    "start_time": "2024-11-06T18:43:57.974Z"
   },
   {
    "duration": 8,
    "start_time": "2024-11-06T18:43:57.982Z"
   },
   {
    "duration": 186,
    "start_time": "2024-11-06T18:43:57.991Z"
   },
   {
    "duration": 251,
    "start_time": "2024-11-06T18:43:58.179Z"
   },
   {
    "duration": 272,
    "start_time": "2024-11-06T18:43:58.432Z"
   },
   {
    "duration": 3,
    "start_time": "2024-11-06T18:43:58.706Z"
   },
   {
    "duration": 18,
    "start_time": "2024-11-06T18:43:58.711Z"
   },
   {
    "duration": 177,
    "start_time": "2024-11-06T18:43:58.731Z"
   },
   {
    "duration": 587,
    "start_time": "2024-11-06T18:43:58.909Z"
   },
   {
    "duration": 0,
    "start_time": "2024-11-06T18:43:59.498Z"
   },
   {
    "duration": 162,
    "start_time": "2024-11-07T00:16:30.501Z"
   },
   {
    "duration": 2154,
    "start_time": "2024-11-07T00:16:36.093Z"
   },
   {
    "duration": 9,
    "start_time": "2024-11-07T00:16:38.249Z"
   },
   {
    "duration": 8,
    "start_time": "2024-11-07T00:16:38.260Z"
   },
   {
    "duration": 10,
    "start_time": "2024-11-07T00:16:38.270Z"
   },
   {
    "duration": 4,
    "start_time": "2024-11-07T00:16:38.282Z"
   },
   {
    "duration": 8,
    "start_time": "2024-11-07T00:16:38.287Z"
   },
   {
    "duration": 28,
    "start_time": "2024-11-07T00:16:38.297Z"
   },
   {
    "duration": 8,
    "start_time": "2024-11-07T00:16:38.327Z"
   },
   {
    "duration": 308,
    "start_time": "2024-11-07T00:16:38.337Z"
   },
   {
    "duration": 13,
    "start_time": "2024-11-07T00:16:38.647Z"
   },
   {
    "duration": 11,
    "start_time": "2024-11-07T00:16:38.661Z"
   },
   {
    "duration": 8,
    "start_time": "2024-11-07T00:16:38.674Z"
   },
   {
    "duration": 3,
    "start_time": "2024-11-07T00:16:38.684Z"
   },
   {
    "duration": 5,
    "start_time": "2024-11-07T00:16:38.691Z"
   },
   {
    "duration": 9,
    "start_time": "2024-11-07T00:16:38.698Z"
   },
   {
    "duration": 18,
    "start_time": "2024-11-07T00:16:38.709Z"
   },
   {
    "duration": 7,
    "start_time": "2024-11-07T00:16:38.729Z"
   },
   {
    "duration": 8,
    "start_time": "2024-11-07T00:16:38.738Z"
   },
   {
    "duration": 5,
    "start_time": "2024-11-07T00:16:38.747Z"
   },
   {
    "duration": 3,
    "start_time": "2024-11-07T00:16:38.754Z"
   },
   {
    "duration": 8,
    "start_time": "2024-11-07T00:16:38.758Z"
   },
   {
    "duration": 4,
    "start_time": "2024-11-07T00:16:38.768Z"
   },
   {
    "duration": 177,
    "start_time": "2024-11-07T00:16:38.773Z"
   },
   {
    "duration": 2,
    "start_time": "2024-11-07T00:16:38.952Z"
   },
   {
    "duration": 98,
    "start_time": "2024-11-07T00:16:38.956Z"
   },
   {
    "duration": 3,
    "start_time": "2024-11-07T00:16:39.055Z"
   },
   {
    "duration": 5,
    "start_time": "2024-11-07T00:16:39.060Z"
   },
   {
    "duration": 7,
    "start_time": "2024-11-07T00:16:39.066Z"
   },
   {
    "duration": 7,
    "start_time": "2024-11-07T00:16:39.075Z"
   },
   {
    "duration": 220,
    "start_time": "2024-11-07T00:16:39.084Z"
   },
   {
    "duration": 320,
    "start_time": "2024-11-07T00:16:39.306Z"
   },
   {
    "duration": 289,
    "start_time": "2024-11-07T00:16:39.627Z"
   },
   {
    "duration": 4,
    "start_time": "2024-11-07T00:16:39.923Z"
   },
   {
    "duration": 8,
    "start_time": "2024-11-07T00:16:39.928Z"
   },
   {
    "duration": 188,
    "start_time": "2024-11-07T00:16:39.937Z"
   },
   {
    "duration": 171,
    "start_time": "2024-11-07T00:16:40.128Z"
   },
   {
    "duration": 575,
    "start_time": "2024-11-07T00:16:40.301Z"
   },
   {
    "duration": 0,
    "start_time": "2024-11-07T00:16:40.879Z"
   },
   {
    "duration": 11,
    "start_time": "2024-11-07T00:27:11.365Z"
   },
   {
    "duration": 136,
    "start_time": "2024-11-07T00:33:11.474Z"
   },
   {
    "duration": 158,
    "start_time": "2024-11-07T00:36:30.616Z"
   },
   {
    "duration": 9,
    "start_time": "2024-11-07T01:27:38.622Z"
   },
   {
    "duration": 141,
    "start_time": "2024-11-07T01:37:45.425Z"
   },
   {
    "duration": 215,
    "start_time": "2024-11-07T01:37:51.727Z"
   },
   {
    "duration": 271,
    "start_time": "2024-11-07T01:41:42.956Z"
   },
   {
    "duration": 475,
    "start_time": "2024-11-07T01:42:50.281Z"
   },
   {
    "duration": 37,
    "start_time": "2024-11-07T01:42:50.759Z"
   },
   {
    "duration": 9,
    "start_time": "2024-11-07T01:42:50.797Z"
   },
   {
    "duration": 21,
    "start_time": "2024-11-07T01:42:50.808Z"
   },
   {
    "duration": 4,
    "start_time": "2024-11-07T01:42:50.832Z"
   },
   {
    "duration": 9,
    "start_time": "2024-11-07T01:42:50.837Z"
   },
   {
    "duration": 3,
    "start_time": "2024-11-07T01:42:50.848Z"
   },
   {
    "duration": 9,
    "start_time": "2024-11-07T01:42:50.853Z"
   },
   {
    "duration": 332,
    "start_time": "2024-11-07T01:42:50.865Z"
   },
   {
    "duration": 16,
    "start_time": "2024-11-07T01:42:51.202Z"
   },
   {
    "duration": 10,
    "start_time": "2024-11-07T01:42:51.220Z"
   },
   {
    "duration": 8,
    "start_time": "2024-11-07T01:42:51.232Z"
   },
   {
    "duration": 3,
    "start_time": "2024-11-07T01:42:51.241Z"
   },
   {
    "duration": 4,
    "start_time": "2024-11-07T01:42:51.248Z"
   },
   {
    "duration": 9,
    "start_time": "2024-11-07T01:42:51.254Z"
   },
   {
    "duration": 5,
    "start_time": "2024-11-07T01:42:51.264Z"
   },
   {
    "duration": 7,
    "start_time": "2024-11-07T01:42:51.271Z"
   },
   {
    "duration": 7,
    "start_time": "2024-11-07T01:42:51.280Z"
   },
   {
    "duration": 34,
    "start_time": "2024-11-07T01:42:51.290Z"
   },
   {
    "duration": 4,
    "start_time": "2024-11-07T01:42:51.326Z"
   },
   {
    "duration": 8,
    "start_time": "2024-11-07T01:42:51.332Z"
   },
   {
    "duration": 5,
    "start_time": "2024-11-07T01:42:51.342Z"
   },
   {
    "duration": 179,
    "start_time": "2024-11-07T01:42:51.348Z"
   },
   {
    "duration": 3,
    "start_time": "2024-11-07T01:42:51.529Z"
   },
   {
    "duration": 103,
    "start_time": "2024-11-07T01:42:51.534Z"
   },
   {
    "duration": 3,
    "start_time": "2024-11-07T01:42:51.639Z"
   },
   {
    "duration": 6,
    "start_time": "2024-11-07T01:42:51.643Z"
   },
   {
    "duration": 7,
    "start_time": "2024-11-07T01:42:51.651Z"
   },
   {
    "duration": 9,
    "start_time": "2024-11-07T01:42:51.659Z"
   },
   {
    "duration": 182,
    "start_time": "2024-11-07T01:42:51.669Z"
   },
   {
    "duration": 271,
    "start_time": "2024-11-07T01:42:51.855Z"
   },
   {
    "duration": 291,
    "start_time": "2024-11-07T01:42:52.127Z"
   },
   {
    "duration": 6,
    "start_time": "2024-11-07T01:42:52.420Z"
   },
   {
    "duration": 7,
    "start_time": "2024-11-07T01:42:52.427Z"
   },
   {
    "duration": 205,
    "start_time": "2024-11-07T01:42:52.436Z"
   },
   {
    "duration": 178,
    "start_time": "2024-11-07T01:42:52.643Z"
   },
   {
    "duration": 8,
    "start_time": "2024-11-07T01:42:52.826Z"
   },
   {
    "duration": 142,
    "start_time": "2024-11-07T01:42:52.836Z"
   },
   {
    "duration": 130,
    "start_time": "2024-11-07T01:43:48.436Z"
   },
   {
    "duration": 129,
    "start_time": "2024-11-07T01:43:59.008Z"
   },
   {
    "duration": 406,
    "start_time": "2024-11-07T01:44:38.102Z"
   },
   {
    "duration": 42,
    "start_time": "2024-11-07T01:44:38.510Z"
   },
   {
    "duration": 11,
    "start_time": "2024-11-07T01:44:38.553Z"
   },
   {
    "duration": 9,
    "start_time": "2024-11-07T01:44:38.565Z"
   },
   {
    "duration": 4,
    "start_time": "2024-11-07T01:44:38.576Z"
   },
   {
    "duration": 10,
    "start_time": "2024-11-07T01:44:38.582Z"
   },
   {
    "duration": 4,
    "start_time": "2024-11-07T01:44:38.593Z"
   },
   {
    "duration": 33,
    "start_time": "2024-11-07T01:44:38.598Z"
   },
   {
    "duration": 319,
    "start_time": "2024-11-07T01:44:38.633Z"
   },
   {
    "duration": 10,
    "start_time": "2024-11-07T01:44:38.954Z"
   },
   {
    "duration": 11,
    "start_time": "2024-11-07T01:44:38.966Z"
   },
   {
    "duration": 9,
    "start_time": "2024-11-07T01:44:38.978Z"
   },
   {
    "duration": 3,
    "start_time": "2024-11-07T01:44:38.988Z"
   },
   {
    "duration": 5,
    "start_time": "2024-11-07T01:44:38.995Z"
   },
   {
    "duration": 24,
    "start_time": "2024-11-07T01:44:39.001Z"
   },
   {
    "duration": 6,
    "start_time": "2024-11-07T01:44:39.027Z"
   },
   {
    "duration": 9,
    "start_time": "2024-11-07T01:44:39.035Z"
   },
   {
    "duration": 8,
    "start_time": "2024-11-07T01:44:39.047Z"
   },
   {
    "duration": 5,
    "start_time": "2024-11-07T01:44:39.057Z"
   },
   {
    "duration": 3,
    "start_time": "2024-11-07T01:44:39.065Z"
   },
   {
    "duration": 9,
    "start_time": "2024-11-07T01:44:39.070Z"
   },
   {
    "duration": 43,
    "start_time": "2024-11-07T01:44:39.081Z"
   },
   {
    "duration": 146,
    "start_time": "2024-11-07T01:44:39.126Z"
   },
   {
    "duration": 3,
    "start_time": "2024-11-07T01:44:39.274Z"
   },
   {
    "duration": 96,
    "start_time": "2024-11-07T01:44:39.278Z"
   },
   {
    "duration": 3,
    "start_time": "2024-11-07T01:44:39.376Z"
   },
   {
    "duration": 6,
    "start_time": "2024-11-07T01:44:39.380Z"
   },
   {
    "duration": 7,
    "start_time": "2024-11-07T01:44:39.387Z"
   },
   {
    "duration": 29,
    "start_time": "2024-11-07T01:44:39.395Z"
   },
   {
    "duration": 168,
    "start_time": "2024-11-07T01:44:39.425Z"
   },
   {
    "duration": 285,
    "start_time": "2024-11-07T01:44:39.595Z"
   },
   {
    "duration": 262,
    "start_time": "2024-11-07T01:44:39.882Z"
   },
   {
    "duration": 3,
    "start_time": "2024-11-07T01:44:40.146Z"
   },
   {
    "duration": 7,
    "start_time": "2024-11-07T01:44:40.152Z"
   },
   {
    "duration": 187,
    "start_time": "2024-11-07T01:44:40.160Z"
   },
   {
    "duration": 177,
    "start_time": "2024-11-07T01:44:40.348Z"
   },
   {
    "duration": 10,
    "start_time": "2024-11-07T01:44:40.527Z"
   },
   {
    "duration": 147,
    "start_time": "2024-11-07T01:44:40.539Z"
   },
   {
    "duration": 8,
    "start_time": "2024-11-07T01:51:15.501Z"
   },
   {
    "duration": 455,
    "start_time": "2024-11-07T02:20:07.730Z"
   },
   {
    "duration": 350,
    "start_time": "2024-11-07T02:22:56.590Z"
   },
   {
    "duration": 121,
    "start_time": "2024-11-07T02:23:10.241Z"
   },
   {
    "duration": 766,
    "start_time": "2024-11-07T02:24:08.997Z"
   },
   {
    "duration": 8,
    "start_time": "2024-11-07T02:24:09.767Z"
   },
   {
    "duration": 9,
    "start_time": "2024-11-07T02:24:09.777Z"
   },
   {
    "duration": 9,
    "start_time": "2024-11-07T02:24:09.788Z"
   },
   {
    "duration": 4,
    "start_time": "2024-11-07T02:24:09.800Z"
   },
   {
    "duration": 8,
    "start_time": "2024-11-07T02:24:09.824Z"
   },
   {
    "duration": 3,
    "start_time": "2024-11-07T02:24:09.834Z"
   },
   {
    "duration": 8,
    "start_time": "2024-11-07T02:24:09.838Z"
   },
   {
    "duration": 300,
    "start_time": "2024-11-07T02:24:09.848Z"
   },
   {
    "duration": 10,
    "start_time": "2024-11-07T02:24:10.150Z"
   },
   {
    "duration": 9,
    "start_time": "2024-11-07T02:24:10.162Z"
   },
   {
    "duration": 8,
    "start_time": "2024-11-07T02:24:10.172Z"
   },
   {
    "duration": 2,
    "start_time": "2024-11-07T02:24:10.183Z"
   },
   {
    "duration": 4,
    "start_time": "2024-11-07T02:24:10.190Z"
   },
   {
    "duration": 9,
    "start_time": "2024-11-07T02:24:10.196Z"
   },
   {
    "duration": 5,
    "start_time": "2024-11-07T02:24:10.224Z"
   },
   {
    "duration": 8,
    "start_time": "2024-11-07T02:24:10.230Z"
   },
   {
    "duration": 8,
    "start_time": "2024-11-07T02:24:10.239Z"
   },
   {
    "duration": 5,
    "start_time": "2024-11-07T02:24:10.249Z"
   },
   {
    "duration": 3,
    "start_time": "2024-11-07T02:24:10.255Z"
   },
   {
    "duration": 8,
    "start_time": "2024-11-07T02:24:10.260Z"
   },
   {
    "duration": 4,
    "start_time": "2024-11-07T02:24:10.270Z"
   },
   {
    "duration": 178,
    "start_time": "2024-11-07T02:24:10.275Z"
   },
   {
    "duration": 3,
    "start_time": "2024-11-07T02:24:10.455Z"
   },
   {
    "duration": 98,
    "start_time": "2024-11-07T02:24:10.459Z"
   },
   {
    "duration": 2,
    "start_time": "2024-11-07T02:24:10.559Z"
   },
   {
    "duration": 12,
    "start_time": "2024-11-07T02:24:10.563Z"
   },
   {
    "duration": 8,
    "start_time": "2024-11-07T02:24:10.576Z"
   },
   {
    "duration": 7,
    "start_time": "2024-11-07T02:24:10.585Z"
   },
   {
    "duration": 178,
    "start_time": "2024-11-07T02:24:10.593Z"
   },
   {
    "duration": 265,
    "start_time": "2024-11-07T02:24:10.773Z"
   },
   {
    "duration": 302,
    "start_time": "2024-11-07T02:24:11.040Z"
   },
   {
    "duration": 3,
    "start_time": "2024-11-07T02:24:11.344Z"
   },
   {
    "duration": 7,
    "start_time": "2024-11-07T02:24:11.349Z"
   },
   {
    "duration": 184,
    "start_time": "2024-11-07T02:24:11.357Z"
   },
   {
    "duration": 177,
    "start_time": "2024-11-07T02:24:11.543Z"
   },
   {
    "duration": 10,
    "start_time": "2024-11-07T02:24:11.721Z"
   },
   {
    "duration": 150,
    "start_time": "2024-11-07T02:24:11.732Z"
   },
   {
    "duration": 10,
    "start_time": "2024-11-07T02:24:11.884Z"
   },
   {
    "duration": 140,
    "start_time": "2024-11-07T02:24:11.895Z"
   },
   {
    "duration": 801,
    "start_time": "2024-11-07T02:25:03.423Z"
   },
   {
    "duration": 6,
    "start_time": "2024-11-07T02:25:04.227Z"
   },
   {
    "duration": 8,
    "start_time": "2024-11-07T02:25:04.235Z"
   },
   {
    "duration": 9,
    "start_time": "2024-11-07T02:25:04.244Z"
   },
   {
    "duration": 4,
    "start_time": "2024-11-07T02:25:04.256Z"
   },
   {
    "duration": 7,
    "start_time": "2024-11-07T02:25:04.262Z"
   },
   {
    "duration": 5,
    "start_time": "2024-11-07T02:25:04.271Z"
   },
   {
    "duration": 9,
    "start_time": "2024-11-07T02:25:04.277Z"
   },
   {
    "duration": 288,
    "start_time": "2024-11-07T02:25:04.324Z"
   },
   {
    "duration": 9,
    "start_time": "2024-11-07T02:25:04.614Z"
   },
   {
    "duration": 11,
    "start_time": "2024-11-07T02:25:04.625Z"
   },
   {
    "duration": 10,
    "start_time": "2024-11-07T02:25:04.638Z"
   },
   {
    "duration": 3,
    "start_time": "2024-11-07T02:25:04.650Z"
   },
   {
    "duration": 6,
    "start_time": "2024-11-07T02:25:04.657Z"
   },
   {
    "duration": 10,
    "start_time": "2024-11-07T02:25:04.664Z"
   },
   {
    "duration": 7,
    "start_time": "2024-11-07T02:25:04.676Z"
   },
   {
    "duration": 43,
    "start_time": "2024-11-07T02:25:04.685Z"
   },
   {
    "duration": 8,
    "start_time": "2024-11-07T02:25:04.729Z"
   },
   {
    "duration": 4,
    "start_time": "2024-11-07T02:25:04.739Z"
   },
   {
    "duration": 4,
    "start_time": "2024-11-07T02:25:04.744Z"
   },
   {
    "duration": 9,
    "start_time": "2024-11-07T02:25:04.749Z"
   },
   {
    "duration": 4,
    "start_time": "2024-11-07T02:25:04.760Z"
   },
   {
    "duration": 168,
    "start_time": "2024-11-07T02:25:04.766Z"
   },
   {
    "duration": 3,
    "start_time": "2024-11-07T02:25:04.936Z"
   },
   {
    "duration": 98,
    "start_time": "2024-11-07T02:25:04.941Z"
   },
   {
    "duration": 3,
    "start_time": "2024-11-07T02:25:05.041Z"
   },
   {
    "duration": 7,
    "start_time": "2024-11-07T02:25:05.045Z"
   },
   {
    "duration": 7,
    "start_time": "2024-11-07T02:25:05.053Z"
   },
   {
    "duration": 7,
    "start_time": "2024-11-07T02:25:05.061Z"
   },
   {
    "duration": 194,
    "start_time": "2024-11-07T02:25:05.070Z"
   },
   {
    "duration": 270,
    "start_time": "2024-11-07T02:25:05.266Z"
   },
   {
    "duration": 293,
    "start_time": "2024-11-07T02:25:05.538Z"
   },
   {
    "duration": 3,
    "start_time": "2024-11-07T02:25:05.833Z"
   },
   {
    "duration": 7,
    "start_time": "2024-11-07T02:25:05.838Z"
   },
   {
    "duration": 185,
    "start_time": "2024-11-07T02:25:05.847Z"
   },
   {
    "duration": 178,
    "start_time": "2024-11-07T02:25:06.035Z"
   },
   {
    "duration": 15,
    "start_time": "2024-11-07T02:25:06.215Z"
   },
   {
    "duration": 140,
    "start_time": "2024-11-07T02:25:06.232Z"
   },
   {
    "duration": 8,
    "start_time": "2024-11-07T02:25:06.373Z"
   },
   {
    "duration": 124,
    "start_time": "2024-11-07T02:25:06.383Z"
   },
   {
    "duration": 7,
    "start_time": "2024-11-07T02:27:46.460Z"
   },
   {
    "duration": 9,
    "start_time": "2024-11-07T02:29:25.021Z"
   },
   {
    "duration": 122,
    "start_time": "2024-11-07T02:48:25.927Z"
   },
   {
    "duration": 10,
    "start_time": "2024-11-07T02:59:36.848Z"
   },
   {
    "duration": 802,
    "start_time": "2024-11-07T03:40:10.648Z"
   },
   {
    "duration": 7,
    "start_time": "2024-11-07T03:40:11.453Z"
   },
   {
    "duration": 9,
    "start_time": "2024-11-07T03:40:11.461Z"
   },
   {
    "duration": 9,
    "start_time": "2024-11-07T03:40:11.472Z"
   },
   {
    "duration": 4,
    "start_time": "2024-11-07T03:40:11.482Z"
   },
   {
    "duration": 8,
    "start_time": "2024-11-07T03:40:11.488Z"
   },
   {
    "duration": 28,
    "start_time": "2024-11-07T03:40:11.498Z"
   },
   {
    "duration": 8,
    "start_time": "2024-11-07T03:40:11.528Z"
   },
   {
    "duration": 292,
    "start_time": "2024-11-07T03:40:11.537Z"
   },
   {
    "duration": 10,
    "start_time": "2024-11-07T03:40:11.833Z"
   },
   {
    "duration": 10,
    "start_time": "2024-11-07T03:40:11.844Z"
   },
   {
    "duration": 9,
    "start_time": "2024-11-07T03:40:11.855Z"
   },
   {
    "duration": 3,
    "start_time": "2024-11-07T03:40:11.865Z"
   },
   {
    "duration": 5,
    "start_time": "2024-11-07T03:40:11.870Z"
   },
   {
    "duration": 9,
    "start_time": "2024-11-07T03:40:11.877Z"
   },
   {
    "duration": 4,
    "start_time": "2024-11-07T03:40:11.888Z"
   },
   {
    "duration": 37,
    "start_time": "2024-11-07T03:40:11.894Z"
   },
   {
    "duration": 8,
    "start_time": "2024-11-07T03:40:11.933Z"
   },
   {
    "duration": 5,
    "start_time": "2024-11-07T03:40:11.942Z"
   },
   {
    "duration": 4,
    "start_time": "2024-11-07T03:40:11.949Z"
   },
   {
    "duration": 8,
    "start_time": "2024-11-07T03:40:11.954Z"
   },
   {
    "duration": 4,
    "start_time": "2024-11-07T03:40:11.963Z"
   },
   {
    "duration": 170,
    "start_time": "2024-11-07T03:40:11.969Z"
   },
   {
    "duration": 2,
    "start_time": "2024-11-07T03:40:12.141Z"
   },
   {
    "duration": 104,
    "start_time": "2024-11-07T03:40:12.145Z"
   },
   {
    "duration": 3,
    "start_time": "2024-11-07T03:40:12.251Z"
   },
   {
    "duration": 5,
    "start_time": "2024-11-07T03:40:12.255Z"
   },
   {
    "duration": 7,
    "start_time": "2024-11-07T03:40:12.266Z"
   },
   {
    "duration": 7,
    "start_time": "2024-11-07T03:40:12.275Z"
   },
   {
    "duration": 184,
    "start_time": "2024-11-07T03:40:12.284Z"
   },
   {
    "duration": 3,
    "start_time": "2024-11-07T03:40:12.470Z"
   },
   {
    "duration": 7,
    "start_time": "2024-11-07T03:40:12.475Z"
   },
   {
    "duration": 267,
    "start_time": "2024-11-07T03:40:12.484Z"
   },
   {
    "duration": 3,
    "start_time": "2024-11-07T03:40:12.753Z"
   },
   {
    "duration": 8,
    "start_time": "2024-11-07T03:40:12.758Z"
   },
   {
    "duration": 3,
    "start_time": "2024-11-07T03:40:12.768Z"
   },
   {
    "duration": 341,
    "start_time": "2024-11-07T03:40:12.772Z"
   },
   {
    "duration": 9,
    "start_time": "2024-11-07T03:40:13.115Z"
   },
   {
    "duration": 7,
    "start_time": "2024-11-07T03:40:13.126Z"
   },
   {
    "duration": 190,
    "start_time": "2024-11-07T03:40:13.135Z"
   },
   {
    "duration": 6,
    "start_time": "2024-11-07T03:40:13.326Z"
   },
   {
    "duration": 182,
    "start_time": "2024-11-07T03:40:13.333Z"
   },
   {
    "duration": 8,
    "start_time": "2024-11-07T03:40:13.516Z"
   },
   {
    "duration": 6,
    "start_time": "2024-11-07T03:40:13.526Z"
   },
   {
    "duration": 3,
    "start_time": "2024-11-07T03:40:13.534Z"
   },
   {
    "duration": 145,
    "start_time": "2024-11-07T03:40:13.538Z"
   },
   {
    "duration": 3,
    "start_time": "2024-11-07T03:40:13.685Z"
   },
   {
    "duration": 8,
    "start_time": "2024-11-07T03:40:13.689Z"
   },
   {
    "duration": 142,
    "start_time": "2024-11-07T03:40:13.698Z"
   },
   {
    "duration": 7,
    "start_time": "2024-11-07T03:40:13.842Z"
   },
   {
    "duration": 21,
    "start_time": "2024-11-07T03:40:13.850Z"
   },
   {
    "duration": 9,
    "start_time": "2024-11-07T03:40:13.873Z"
   },
   {
    "duration": 4,
    "start_time": "2024-11-07T03:40:13.884Z"
   },
   {
    "duration": 140,
    "start_time": "2024-11-07T03:40:13.891Z"
   },
   {
    "duration": 7,
    "start_time": "2024-11-07T03:40:14.032Z"
   },
   {
    "duration": 14,
    "start_time": "2024-11-07T03:40:14.042Z"
   },
   {
    "duration": 9,
    "start_time": "2024-11-07T03:40:14.058Z"
   }
  ],
  "kernelspec": {
   "display_name": "Python 3 (ipykernel)",
   "language": "python",
   "name": "python3"
  },
  "language_info": {
   "codemirror_mode": {
    "name": "ipython",
    "version": 3
   },
   "file_extension": ".py",
   "mimetype": "text/x-python",
   "name": "python",
   "nbconvert_exporter": "python",
   "pygments_lexer": "ipython3",
   "version": "3.9.19"
  },
  "toc": {
   "base_numbering": 1,
   "nav_menu": {},
   "number_sections": true,
   "sideBar": true,
   "skip_h1_title": true,
   "title_cell": "Table of Contents",
   "title_sidebar": "Contents",
   "toc_cell": false,
   "toc_position": {},
   "toc_section_display": true,
   "toc_window_display": false
  }
 },
 "nbformat": 4,
 "nbformat_minor": 2
}
