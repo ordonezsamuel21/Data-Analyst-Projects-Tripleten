{
 "cells": [
  {
   "cell_type": "markdown",
   "metadata": {
    "id": "3rYiDeEH0q0f"
   },
   "source": [
    "# ¿Cuál es la mejor tarifa?\n",
    "\n",
    "Trabajas como analista para el operador de telecomunicaciones Megaline. La empresa ofrece a sus clientes dos tarifas de prepago, Surf y Ultimate. El departamento comercial quiere saber cuál de las tarifas genera más ingresos para poder ajustar el presupuesto de publicidad.\n",
    "\n",
    "Vas a realizar un análisis preliminar de las tarifas basado en una selección de clientes relativamente pequeña. Tendrás los datos de 500 clientes de Megaline: quiénes son los clientes, de dónde son, qué tarifa usan, así como la cantidad de llamadas que hicieron y los mensajes de texto que enviaron en 2018. Tu trabajo es analizar el comportamiento de los clientes y determinar qué tarifa de prepago genera más ingresos."
   ]
  },
  {
   "cell_type": "markdown",
   "metadata": {
    "id": "VNddPNRQ0q0w"
   },
   "source": [
    "[Te proporcionamos algunos comentarios para orientarte mientras completas este proyecto. Pero debes asegurarte de eliminar todos los comentarios entre corchetes antes de entregar tu proyecto.]\n",
    "\n",
    "[Antes de sumergirte en el análisis de datos, explica por tu propia cuenta el propósito del proyecto y las acciones que planeas realizar.]\n",
    "\n",
    "[Ten en cuenta que estudiar, modificar y analizar datos es un proceso iterativo. Es normal volver a los pasos anteriores y corregirlos/ampliarlos para permitir nuevos pasos.]"
   ]
  },
  {
   "cell_type": "markdown",
   "metadata": {
    "id": "MQi4IPy70q0y"
   },
   "source": [
    "## Inicialización"
   ]
  },
  {
   "cell_type": "code",
   "execution_count": 1,
   "metadata": {
    "id": "MtYIuBxu0q0z"
   },
   "outputs": [],
   "source": [
    "# Cargar todas las librerías\n",
    "\n",
    "import pandas as pd\n",
    "from matplotlib import pyplot as plt\n",
    "import numpy as np\n",
    "import seaborn as sns\n",
    "import math"
   ]
  },
  {
   "cell_type": "markdown",
   "metadata": {
    "id": "4ysWWC5i0q00"
   },
   "source": [
    "## Cargar datos"
   ]
  },
  {
   "cell_type": "code",
   "execution_count": 2,
   "metadata": {
    "id": "CCqPW7rS0q01"
   },
   "outputs": [],
   "source": [
    "# Carga los archivos de datos en diferentes DataFrames\n",
    "\n",
    "plans=pd.read_csv('/datasets/megaline_plans.csv')\n",
    "users=pd.read_csv('/datasets/megaline_users.csv')\n",
    "calls=pd.read_csv('/datasets/megaline_calls.csv')\n",
    "messages=pd.read_csv('/datasets/megaline_messages.csv')\n",
    "internet=pd.read_csv('/datasets/megaline_internet.csv')"
   ]
  },
  {
   "cell_type": "markdown",
   "metadata": {
    "id": "69qqoJ3r0q01"
   },
   "source": [
    "## Preparar los datos"
   ]
  },
  {
   "cell_type": "markdown",
   "metadata": {
    "id": "ohBhimvH0q01"
   },
   "source": [
    "## Tarifas"
   ]
  },
  {
   "cell_type": "code",
   "execution_count": 3,
   "metadata": {
    "id": "GptqP3Q40q02"
   },
   "outputs": [
    {
     "name": "stdout",
     "output_type": "stream",
     "text": [
      "<class 'pandas.core.frame.DataFrame'>\n",
      "RangeIndex: 2 entries, 0 to 1\n",
      "Data columns (total 8 columns):\n",
      " #   Column                 Non-Null Count  Dtype  \n",
      "---  ------                 --------------  -----  \n",
      " 0   messages_included      2 non-null      int64  \n",
      " 1   mb_per_month_included  2 non-null      int64  \n",
      " 2   minutes_included       2 non-null      int64  \n",
      " 3   usd_monthly_pay        2 non-null      int64  \n",
      " 4   usd_per_gb             2 non-null      int64  \n",
      " 5   usd_per_message        2 non-null      float64\n",
      " 6   usd_per_minute         2 non-null      float64\n",
      " 7   plan_name              2 non-null      object \n",
      "dtypes: float64(2), int64(5), object(1)\n",
      "memory usage: 256.0+ bytes\n"
     ]
    }
   ],
   "source": [
    "# Imprime la información general/resumida sobre el DataFrame de las tarifas\n",
    "\n",
    "plans.info()"
   ]
  },
  {
   "cell_type": "code",
   "execution_count": 4,
   "metadata": {
    "id": "64xzjwL70q02"
   },
   "outputs": [
    {
     "name": "stdout",
     "output_type": "stream",
     "text": [
      "   messages_included  mb_per_month_included  minutes_included  \\\n",
      "0                 50                  15360               500   \n",
      "1               1000                  30720              3000   \n",
      "\n",
      "   usd_monthly_pay  usd_per_gb  usd_per_message  usd_per_minute plan_name  \n",
      "0               20          10             0.03            0.03      surf  \n",
      "1               70           7             0.01            0.01  ultimate  \n"
     ]
    }
   ],
   "source": [
    "# Imprime una muestra de los datos para las tarifas\n",
    "\n",
    "print(plans)"
   ]
  },
  {
   "cell_type": "markdown",
   "metadata": {
    "id": "mEc_3_hs0q02"
   },
   "source": [
    "Dada la anterior información, los tipos de datos son correctos. Tampoco hay valores asuentes o duplicados, debido a que este dataframe presenta las características que contienen los únicos dos planes que ofrece la compañía Megaline, así que no requiere de cambios. Sin embargo, debemos redondear los segundos a minutos, debido a que Megaline tiene en cuenta lo siguiente: si la llamada duró solo un segundo, se contará como un minuto. Asimismo con el tráfico web, el total del mes se redondea hacia arriba. Si alguien usa 1025 megabytes este mes, se le cobrarán 2 gigabytes."
   ]
  },
  {
   "cell_type": "markdown",
   "metadata": {
    "id": "R3C05i1l0q03"
   },
   "source": [
    "## Corregir datos"
   ]
  },
  {
   "cell_type": "markdown",
   "metadata": {
    "id": "bIi8StZI0q03"
   },
   "source": [
    "[Corrige los problemas obvios con los datos basándote en las observaciones iniciales.]"
   ]
  },
  {
   "cell_type": "code",
   "execution_count": null,
   "metadata": {
    "id": "Y7SVmjGn0q03"
   },
   "outputs": [],
   "source": []
  },
  {
   "cell_type": "markdown",
   "metadata": {
    "id": "LJir7bml0q03"
   },
   "source": [
    "## Enriquecer los datos"
   ]
  },
  {
   "cell_type": "markdown",
   "metadata": {
    "id": "eqADpCfg0q04"
   },
   "source": [
    "[Agrega factores adicionales a los datos si crees que pudieran ser útiles.]"
   ]
  },
  {
   "cell_type": "markdown",
   "metadata": {
    "id": "1n2X6WXf0q04"
   },
   "source": [
    "## Usuarios/as"
   ]
  },
  {
   "cell_type": "code",
   "execution_count": 5,
   "metadata": {
    "id": "2NgjWFqx0q05"
   },
   "outputs": [
    {
     "name": "stdout",
     "output_type": "stream",
     "text": [
      "<class 'pandas.core.frame.DataFrame'>\n",
      "RangeIndex: 500 entries, 0 to 499\n",
      "Data columns (total 8 columns):\n",
      " #   Column      Non-Null Count  Dtype \n",
      "---  ------      --------------  ----- \n",
      " 0   user_id     500 non-null    int64 \n",
      " 1   first_name  500 non-null    object\n",
      " 2   last_name   500 non-null    object\n",
      " 3   age         500 non-null    int64 \n",
      " 4   city        500 non-null    object\n",
      " 5   reg_date    500 non-null    object\n",
      " 6   plan        500 non-null    object\n",
      " 7   churn_date  34 non-null     object\n",
      "dtypes: int64(2), object(6)\n",
      "memory usage: 31.4+ KB\n"
     ]
    }
   ],
   "source": [
    "# Imprime la información general/resumida sobre el DataFrame de usuarios\n",
    "\n",
    "users.info()"
   ]
  },
  {
   "cell_type": "code",
   "execution_count": 6,
   "metadata": {
    "id": "1IN1L9uh0q05"
   },
   "outputs": [
    {
     "name": "stdout",
     "output_type": "stream",
     "text": [
      "   user_id first_name  last_name  age                                   city  \\\n",
      "0     1000   Anamaria      Bauer   45  Atlanta-Sandy Springs-Roswell, GA MSA   \n",
      "1     1001     Mickey  Wilkerson   28        Seattle-Tacoma-Bellevue, WA MSA   \n",
      "2     1002     Carlee    Hoffman   36   Las Vegas-Henderson-Paradise, NV MSA   \n",
      "3     1003   Reynaldo    Jenkins   52                          Tulsa, OK MSA   \n",
      "4     1004    Leonila   Thompson   40        Seattle-Tacoma-Bellevue, WA MSA   \n",
      "\n",
      "     reg_date      plan churn_date  \n",
      "0  2018-12-24  ultimate        NaN  \n",
      "1  2018-08-13      surf        NaN  \n",
      "2  2018-10-21      surf        NaN  \n",
      "3  2018-01-28      surf        NaN  \n",
      "4  2018-05-23      surf        NaN  \n"
     ]
    }
   ],
   "source": [
    "# Imprime una muestra de datos para usuarios\n",
    "print(users.head())"
   ]
  },
  {
   "cell_type": "markdown",
   "metadata": {
    "id": "dCZoUq4f0q06"
   },
   "source": [
    "Se puede observar que las columnas 'reg_date' y 'churn_date' tienen tipos de datos object, los cuales deben ser convertidos a tipo datetime, porque indican fechas. Asimismo, la columna 'churn_date' tiene datos ausentes."
   ]
  },
  {
   "cell_type": "markdown",
   "metadata": {
    "id": "BX5FQh_I0q06"
   },
   "source": [
    "### Corregir los datos"
   ]
  },
  {
   "cell_type": "markdown",
   "metadata": {
    "id": "8OdKMwJv0q06"
   },
   "source": [
    "[Corrige los problemas obvios con los datos basándote en las observaciones iniciales.]"
   ]
  },
  {
   "cell_type": "code",
   "execution_count": 7,
   "metadata": {
    "id": "yUqX-K0C0q07"
   },
   "outputs": [],
   "source": [
    "users['reg_date'] = pd.to_datetime(users['reg_date'], format='%Y-%m-%d')\n",
    "users['churn_date'] = pd.to_datetime(users['churn_date'], format='%Y-%m-%d')"
   ]
  },
  {
   "cell_type": "code",
   "execution_count": 8,
   "metadata": {},
   "outputs": [
    {
     "name": "stdout",
     "output_type": "stream",
     "text": [
      "0\n"
     ]
    }
   ],
   "source": [
    "duplicate_users = users.duplicated().sum()\n",
    "print(duplicate_users)"
   ]
  },
  {
   "cell_type": "markdown",
   "metadata": {
    "id": "ycwuARJp0q07"
   },
   "source": [
    "### Enriquecer los datos"
   ]
  },
  {
   "cell_type": "code",
   "execution_count": 9,
   "metadata": {
    "id": "iq0AaBS90q08"
   },
   "outputs": [],
   "source": [
    "users['is_active'] = users['churn_date'].isna()"
   ]
  },
  {
   "cell_type": "code",
   "execution_count": 10,
   "metadata": {},
   "outputs": [
    {
     "name": "stdout",
     "output_type": "stream",
     "text": [
      "   user_id first_name  last_name  age                                   city  \\\n",
      "0     1000   Anamaria      Bauer   45  Atlanta-Sandy Springs-Roswell, GA MSA   \n",
      "1     1001     Mickey  Wilkerson   28        Seattle-Tacoma-Bellevue, WA MSA   \n",
      "2     1002     Carlee    Hoffman   36   Las Vegas-Henderson-Paradise, NV MSA   \n",
      "3     1003   Reynaldo    Jenkins   52                          Tulsa, OK MSA   \n",
      "4     1004    Leonila   Thompson   40        Seattle-Tacoma-Bellevue, WA MSA   \n",
      "\n",
      "    reg_date      plan churn_date  is_active  \n",
      "0 2018-12-24  ultimate        NaT       True  \n",
      "1 2018-08-13      surf        NaT       True  \n",
      "2 2018-10-21      surf        NaT       True  \n",
      "3 2018-01-28      surf        NaT       True  \n",
      "4 2018-05-23      surf        NaT       True  \n"
     ]
    }
   ],
   "source": [
    "print(users.head())"
   ]
  },
  {
   "cell_type": "markdown",
   "metadata": {},
   "source": [
    "En el código anterior, se agregó la columna 'is_active' para tener mayor claridad en los usuarios que tienen planes activos o no. La ausencia de una fecha de cancelación (churn_date) indica que estos clientes no han terminado su contrato o no han dejado de usar el servicio hasta la fecha del último dato registrado"
   ]
  },
  {
   "cell_type": "markdown",
   "metadata": {
    "id": "o7MeKCid0q08"
   },
   "source": [
    "## Llamadas"
   ]
  },
  {
   "cell_type": "code",
   "execution_count": 11,
   "metadata": {
    "id": "6dDlnoDm0q08"
   },
   "outputs": [
    {
     "name": "stdout",
     "output_type": "stream",
     "text": [
      "<class 'pandas.core.frame.DataFrame'>\n",
      "RangeIndex: 137735 entries, 0 to 137734\n",
      "Data columns (total 4 columns):\n",
      " #   Column     Non-Null Count   Dtype  \n",
      "---  ------     --------------   -----  \n",
      " 0   id         137735 non-null  object \n",
      " 1   user_id    137735 non-null  int64  \n",
      " 2   call_date  137735 non-null  object \n",
      " 3   duration   137735 non-null  float64\n",
      "dtypes: float64(1), int64(1), object(2)\n",
      "memory usage: 4.2+ MB\n"
     ]
    }
   ],
   "source": [
    "# Imprime la información general/resumida sobre el DataFrame de las llamadas\n",
    "\n",
    "calls.info()"
   ]
  },
  {
   "cell_type": "code",
   "execution_count": 12,
   "metadata": {
    "id": "kuh1vlNB0q09"
   },
   "outputs": [
    {
     "name": "stdout",
     "output_type": "stream",
     "text": [
      "         id  user_id   call_date  duration\n",
      "0   1000_93     1000  2018-12-27      8.52\n",
      "1  1000_145     1000  2018-12-27     13.66\n",
      "2  1000_247     1000  2018-12-27     14.48\n",
      "3  1000_309     1000  2018-12-28      5.76\n",
      "4  1000_380     1000  2018-12-30      4.22\n"
     ]
    }
   ],
   "source": [
    "# Imprime una muestra de datos para las llamadas\n",
    "\n",
    "print(calls.head())"
   ]
  },
  {
   "cell_type": "markdown",
   "metadata": {
    "id": "DOAxYJSx0q09"
   },
   "source": [
    "En la información anterior, se puede ver que no hay valores ausentes. Aunque, la columna 'call_date' está como tipo de dato object, la cual debe convertirse en tipo datetime al contener fechas. También se puede verificar si hay valores duplicados o no. Por último, se agregaría una nueva columna en donde se redondean los minutos al entero más cercano."
   ]
  },
  {
   "cell_type": "markdown",
   "metadata": {
    "id": "S7hzxmbX0q0-"
   },
   "source": [
    "### Corregir los datos"
   ]
  },
  {
   "cell_type": "code",
   "execution_count": 13,
   "metadata": {
    "id": "S2r8xA4f0q0-"
   },
   "outputs": [],
   "source": [
    "#Covertir 'call_Date' a tipo datetime\n",
    "calls['call_date'] = pd.to_datetime(calls['call_date'])"
   ]
  },
  {
   "cell_type": "code",
   "execution_count": 14,
   "metadata": {},
   "outputs": [
    {
     "name": "stdout",
     "output_type": "stream",
     "text": [
      "0\n"
     ]
    }
   ],
   "source": [
    "# Verificar si hay valores duplicados\n",
    "duplicate_calls = calls.duplicated().sum()\n",
    "print(duplicate_calls)"
   ]
  },
  {
   "cell_type": "markdown",
   "metadata": {
    "id": "KrMgTrlG0q0_"
   },
   "source": [
    "### Enriquecer los datos"
   ]
  },
  {
   "cell_type": "code",
   "execution_count": 15,
   "metadata": {
    "id": "iZ1avpA_0q0_"
   },
   "outputs": [
    {
     "name": "stdout",
     "output_type": "stream",
     "text": [
      "         id  user_id  call_date  duration  rounded_duration\n",
      "0   1000_93     1000 2018-12-27      8.52                 9\n",
      "1  1000_145     1000 2018-12-27     13.66                14\n",
      "2  1000_247     1000 2018-12-27     14.48                15\n",
      "3  1000_309     1000 2018-12-28      5.76                 6\n",
      "4  1000_380     1000 2018-12-30      4.22                 5\n"
     ]
    }
   ],
   "source": [
    "# Redondear la duración de las llamadas al entero más cercano\n",
    "calls['rounded_duration'] = calls['duration'].apply(np.ceil).astype(int)\n",
    "print(calls.head())"
   ]
  },
  {
   "cell_type": "code",
   "execution_count": 16,
   "metadata": {},
   "outputs": [],
   "source": [
    "# Añadir una columna con el mes para cada llamada\n",
    "calls['month'] = calls['call_date'].dt.month"
   ]
  },
  {
   "cell_type": "markdown",
   "metadata": {
    "id": "mOUZSi180q0_"
   },
   "source": [
    "## Mensajes"
   ]
  },
  {
   "cell_type": "code",
   "execution_count": 17,
   "metadata": {
    "id": "R-bYJpdV0q1A"
   },
   "outputs": [
    {
     "name": "stdout",
     "output_type": "stream",
     "text": [
      "<class 'pandas.core.frame.DataFrame'>\n",
      "RangeIndex: 76051 entries, 0 to 76050\n",
      "Data columns (total 3 columns):\n",
      " #   Column        Non-Null Count  Dtype \n",
      "---  ------        --------------  ----- \n",
      " 0   id            76051 non-null  object\n",
      " 1   user_id       76051 non-null  int64 \n",
      " 2   message_date  76051 non-null  object\n",
      "dtypes: int64(1), object(2)\n",
      "memory usage: 1.7+ MB\n"
     ]
    }
   ],
   "source": [
    "# Imprime la información general/resumida sobre el DataFrame de los mensajes\n",
    "\n",
    "messages.info()"
   ]
  },
  {
   "cell_type": "code",
   "execution_count": 18,
   "metadata": {
    "id": "mCEl2iGE0q1A"
   },
   "outputs": [
    {
     "name": "stdout",
     "output_type": "stream",
     "text": [
      "         id  user_id message_date\n",
      "0  1000_125     1000   2018-12-27\n",
      "1  1000_160     1000   2018-12-31\n",
      "2  1000_223     1000   2018-12-31\n",
      "3  1000_251     1000   2018-12-27\n",
      "4  1000_255     1000   2018-12-26\n"
     ]
    }
   ],
   "source": [
    "# Imprime una muestra de datos para los mensajes\n",
    "\n",
    "print(messages.head())"
   ]
  },
  {
   "cell_type": "markdown",
   "metadata": {
    "id": "04xDj7KH0q1A"
   },
   "source": [
    "La información anterior indica que la columna 'message_date' tiene como tipo de dato object, la cual debe convertirse en tipo datetime. Adicionalmente, se puede observar que no hay valores ausentes."
   ]
  },
  {
   "cell_type": "markdown",
   "metadata": {
    "id": "Sprfak900q1B"
   },
   "source": [
    "### Corregir los datos"
   ]
  },
  {
   "cell_type": "code",
   "execution_count": 19,
   "metadata": {
    "id": "vsllvkoa0q1B"
   },
   "outputs": [],
   "source": [
    "#Convertir 'message_date' a tipo datetime\n",
    "messages['message_date'] = pd.to_datetime(messages['message_date'])"
   ]
  },
  {
   "cell_type": "code",
   "execution_count": 20,
   "metadata": {},
   "outputs": [
    {
     "name": "stdout",
     "output_type": "stream",
     "text": [
      "0\n"
     ]
    }
   ],
   "source": [
    "#Encontrar valores duplicados\n",
    "duplicate_messages = messages.duplicated().sum()\n",
    "print(duplicate_messages)"
   ]
  },
  {
   "cell_type": "markdown",
   "metadata": {
    "id": "HvLid7iD0q1B"
   },
   "source": [
    "### Enriquecer los datos"
   ]
  },
  {
   "cell_type": "code",
   "execution_count": null,
   "metadata": {
    "id": "zYEXZac10q1C"
   },
   "outputs": [],
   "source": []
  },
  {
   "cell_type": "markdown",
   "metadata": {
    "id": "bStkaxn40q1C"
   },
   "source": [
    "## Internet"
   ]
  },
  {
   "cell_type": "code",
   "execution_count": 21,
   "metadata": {
    "id": "e-Uz5qyn0q1C"
   },
   "outputs": [
    {
     "name": "stdout",
     "output_type": "stream",
     "text": [
      "<class 'pandas.core.frame.DataFrame'>\n",
      "RangeIndex: 104825 entries, 0 to 104824\n",
      "Data columns (total 4 columns):\n",
      " #   Column        Non-Null Count   Dtype  \n",
      "---  ------        --------------   -----  \n",
      " 0   id            104825 non-null  object \n",
      " 1   user_id       104825 non-null  int64  \n",
      " 2   session_date  104825 non-null  object \n",
      " 3   mb_used       104825 non-null  float64\n",
      "dtypes: float64(1), int64(1), object(2)\n",
      "memory usage: 3.2+ MB\n"
     ]
    }
   ],
   "source": [
    "# Imprime la información general/resumida sobre el DataFrame de internet\n",
    "\n",
    "internet.info()"
   ]
  },
  {
   "cell_type": "code",
   "execution_count": 22,
   "metadata": {
    "id": "9r3x_XLw0q1C"
   },
   "outputs": [
    {
     "name": "stdout",
     "output_type": "stream",
     "text": [
      "         id  user_id session_date  mb_used\n",
      "0   1000_13     1000   2018-12-29    89.86\n",
      "1  1000_204     1000   2018-12-31     0.00\n",
      "2  1000_379     1000   2018-12-28   660.40\n",
      "3  1000_413     1000   2018-12-26   270.99\n",
      "4  1000_442     1000   2018-12-27   880.22\n"
     ]
    }
   ],
   "source": [
    "# Imprime una muestra de datos para el tráfico de internet\n",
    "\n",
    "print(internet.head())"
   ]
  },
  {
   "cell_type": "markdown",
   "metadata": {
    "id": "EzOG5ik30q1D"
   },
   "source": [
    "De acuerdo con la información anterior, se puede observar que no hay valores ausentes. Pero la columna 'session_date' contiene tipo de dato object, la cual debe ser convertida a datetime al ser fecha. Además, sería conveniente agregar una columna que redondeara los datos de la columna'mb_used'."
   ]
  },
  {
   "cell_type": "markdown",
   "metadata": {
    "id": "yA0tkPFg0q1D"
   },
   "source": [
    "### Corregir los datos"
   ]
  },
  {
   "cell_type": "code",
   "execution_count": 23,
   "metadata": {
    "id": "zVeanzdd0q1E"
   },
   "outputs": [],
   "source": [
    "# Convertir 'session_date' a tipo datetime\n",
    "internet['session_date'] = pd.to_datetime(internet['session_date'])"
   ]
  },
  {
   "cell_type": "code",
   "execution_count": 24,
   "metadata": {},
   "outputs": [
    {
     "name": "stdout",
     "output_type": "stream",
     "text": [
      "0\n"
     ]
    }
   ],
   "source": [
    "# Verificar si hay valores duplicados\n",
    "duplicate_internet = internet.duplicated().sum()\n",
    "print(duplicate_internet)"
   ]
  },
  {
   "cell_type": "markdown",
   "metadata": {
    "id": "e8_mLF4a0q1E"
   },
   "source": [
    "### Enriquecer los datos"
   ]
  },
  {
   "cell_type": "code",
   "execution_count": 25,
   "metadata": {
    "id": "ESiYPIEK0q1E"
   },
   "outputs": [
    {
     "name": "stdout",
     "output_type": "stream",
     "text": [
      "         id  user_id session_date  mb_used  mb_used_rounded\n",
      "0   1000_13     1000   2018-12-29    89.86               90\n",
      "1  1000_204     1000   2018-12-31     0.00                0\n",
      "2  1000_379     1000   2018-12-28   660.40              660\n",
      "3  1000_413     1000   2018-12-26   270.99              271\n",
      "4  1000_442     1000   2018-12-27   880.22              880\n"
     ]
    }
   ],
   "source": [
    "# Redondear la columna 'mb_used' al entero más cercano\n",
    "internet['mb_used_rounded'] = internet['mb_used'].round().astype(int)\n",
    "\n",
    "print(internet.head())"
   ]
  },
  {
   "cell_type": "code",
   "execution_count": 26,
   "metadata": {},
   "outputs": [
    {
     "name": "stdout",
     "output_type": "stream",
     "text": [
      "         id  user_id session_date  mb_used  mb_used_rounded  gb_used\n",
      "0   1000_13     1000   2018-12-29    89.86               90        1\n",
      "1  1000_204     1000   2018-12-31     0.00                0        0\n",
      "2  1000_379     1000   2018-12-28   660.40              660        1\n",
      "3  1000_413     1000   2018-12-26   270.99              271        1\n",
      "4  1000_442     1000   2018-12-27   880.22              880        1\n"
     ]
    }
   ],
   "source": [
    "internet['gb_used'] = (internet['mb_used'] / 1024).apply(np.ceil).astype(int)\n",
    "\n",
    "print(internet.head())"
   ]
  },
  {
   "cell_type": "markdown",
   "metadata": {
    "id": "3UA2cqIW0q1E"
   },
   "source": [
    "## Estudiar las condiciones de las tarifas"
   ]
  },
  {
   "cell_type": "code",
   "execution_count": 27,
   "metadata": {
    "id": "i409op8p0q1F"
   },
   "outputs": [
    {
     "name": "stdout",
     "output_type": "stream",
     "text": [
      "<class 'pandas.core.frame.DataFrame'>\n",
      "RangeIndex: 2 entries, 0 to 1\n",
      "Data columns (total 8 columns):\n",
      " #   Column                 Non-Null Count  Dtype  \n",
      "---  ------                 --------------  -----  \n",
      " 0   messages_included      2 non-null      int64  \n",
      " 1   mb_per_month_included  2 non-null      int64  \n",
      " 2   minutes_included       2 non-null      int64  \n",
      " 3   usd_monthly_pay        2 non-null      int64  \n",
      " 4   usd_per_gb             2 non-null      int64  \n",
      " 5   usd_per_message        2 non-null      float64\n",
      " 6   usd_per_minute         2 non-null      float64\n",
      " 7   plan_name              2 non-null      object \n",
      "dtypes: float64(2), int64(5), object(1)\n",
      "memory usage: 256.0+ bytes\n",
      "   messages_included  mb_per_month_included  minutes_included  \\\n",
      "0                 50                  15360               500   \n",
      "1               1000                  30720              3000   \n",
      "\n",
      "   usd_monthly_pay  usd_per_gb  usd_per_message  usd_per_minute plan_name  \n",
      "0               20          10             0.03            0.03      surf  \n",
      "1               70           7             0.01            0.01  ultimate  \n"
     ]
    }
   ],
   "source": [
    "# Imprimir las condiciones de la tarifa y asegúrate de que te quedan claras\n",
    "\n",
    "# Reimprimir la información general/resumida sobre el DataFrame de las tarifas\n",
    "plans.info()\n",
    "\n",
    "# Imprimir una muestra de los datos para las tarifas\n",
    "print(plans)"
   ]
  },
  {
   "cell_type": "markdown",
   "metadata": {
    "id": "hMR1tP5d0q1F"
   },
   "source": [
    "## Agregar datos por usuario\n",
    "\n",
    "[Ahora que los datos están limpios, agrega los datos por usuario y por periodo para que solo haya un registro por usuario y por periodo. Esto facilitará mucho el análisis posterior.]"
   ]
  },
  {
   "cell_type": "code",
   "execution_count": 28,
   "metadata": {
    "id": "A332cedB0q1G"
   },
   "outputs": [
    {
     "name": "stdout",
     "output_type": "stream",
     "text": [
      "   user_id  month  calls\n",
      "0     1000     12     16\n",
      "1     1001      8     27\n",
      "2     1001      9     49\n",
      "3     1001     10     65\n",
      "4     1001     11     64\n"
     ]
    }
   ],
   "source": [
    "# Calcula el número de llamadas hechas por cada usuario al mes. Guarda el resultado.\n",
    "calls_per_month = calls.groupby(['user_id', 'month']).agg({'id': 'count'}).reset_index()\n",
    "calls_per_month.columns = ['user_id', 'month', 'calls']\n",
    "print(calls_per_month.head())"
   ]
  },
  {
   "cell_type": "code",
   "execution_count": 29,
   "metadata": {
    "id": "aw2cmuql0q1G"
   },
   "outputs": [
    {
     "name": "stdout",
     "output_type": "stream",
     "text": [
      "   user_id  month  minutes\n",
      "0     1000     12      124\n",
      "1     1001      8      182\n",
      "2     1001      9      315\n",
      "3     1001     10      393\n",
      "4     1001     11      426\n"
     ]
    }
   ],
   "source": [
    "# Calcula la cantidad de minutos usados por cada usuario al mes. Guarda el resultado.\n",
    "\n",
    "minutes_per_month = calls.groupby(['user_id', 'month']).agg({'rounded_duration': 'sum'}).reset_index()\n",
    "minutes_per_month.columns = ['user_id', 'month', 'minutes']\n",
    "print(minutes_per_month.head())"
   ]
  },
  {
   "cell_type": "code",
   "execution_count": 30,
   "metadata": {
    "id": "CcQvNHn60q1G"
   },
   "outputs": [
    {
     "name": "stdout",
     "output_type": "stream",
     "text": [
      "   user_id  month  messages\n",
      "0     1000     12        11\n",
      "1     1001      8        30\n",
      "2     1001      9        44\n",
      "3     1001     10        53\n",
      "4     1001     11        36\n"
     ]
    }
   ],
   "source": [
    "# Calcula el número de mensajes enviados por cada usuario al mes. Guarda el resultado.\n",
    "messages['month'] = messages['message_date'].dt.month\n",
    "messages_per_month = messages.groupby(['user_id', 'month']).agg({'id': 'count'}).reset_index()\n",
    "messages_per_month.columns = ['user_id', 'month', 'messages']\n",
    "print(messages_per_month.head())"
   ]
  },
  {
   "cell_type": "code",
   "execution_count": 31,
   "metadata": {
    "id": "H1AqN2eG0q1H"
   },
   "outputs": [
    {
     "name": "stdout",
     "output_type": "stream",
     "text": [
      "   user_id  month  mb_used\n",
      "0     1000     12     1901\n",
      "1     1001      8     6922\n",
      "2     1001      9    13318\n",
      "3     1001     10    22332\n",
      "4     1001     11    18507\n"
     ]
    }
   ],
   "source": [
    "# Calcula el volumen del tráfico de Internet usado por cada usuario al mes. Guarda el resultado.\n",
    "internet['month'] = internet['session_date'].dt.month\n",
    "internet_per_month = internet.groupby(['user_id', 'month']).agg({'mb_used_rounded': 'sum'}).reset_index()\n",
    "internet_per_month.columns = ['user_id', 'month', 'mb_used']\n",
    "print(internet_per_month.head())"
   ]
  },
  {
   "cell_type": "code",
   "execution_count": 32,
   "metadata": {},
   "outputs": [
    {
     "name": "stdout",
     "output_type": "stream",
     "text": [
      "   user_id  month  mb_used  gb_used\n",
      "0     1000     12     1901        2\n",
      "1     1001      8     6922        7\n",
      "2     1001      9    13318       14\n",
      "3     1001     10    22332       22\n",
      "4     1001     11    18507       19\n"
     ]
    }
   ],
   "source": [
    "# Convertir mb_used a gb_used y redondear\n",
    "internet_per_month['gb_used'] = (internet_per_month['mb_used'] / 1024).apply(np.ceil).astype(int)\n",
    "print(internet_per_month.head())"
   ]
  },
  {
   "cell_type": "code",
   "execution_count": 33,
   "metadata": {
    "id": "FW99ykyf0q1H"
   },
   "outputs": [
    {
     "name": "stdout",
     "output_type": "stream",
     "text": [
      "   user_id  month  calls  minutes  messages  mb_used  gb_used      plan\n",
      "0     1000   12.0   16.0    124.0      11.0   1901.0      2.0  ultimate\n",
      "1     1001    8.0   27.0    182.0      30.0   6922.0      7.0      surf\n",
      "2     1001    9.0   49.0    315.0      44.0  13318.0     14.0      surf\n",
      "3     1001   10.0   65.0    393.0      53.0  22332.0     22.0      surf\n",
      "4     1001   11.0   64.0    426.0      36.0  18507.0     19.0      surf\n"
     ]
    }
   ],
   "source": [
    "# Fusiona los datos de llamadas, minutos, mensajes e Internet con base en user_id y month\n",
    "\n",
    "monthly_data = calls_per_month.merge(minutes_per_month, on=['user_id', 'month'], how='outer')\n",
    "monthly_data = monthly_data.merge(messages_per_month, on=['user_id', 'month'], how='outer')\n",
    "monthly_data = monthly_data.merge(internet_per_month, on=['user_id', 'month'], how='outer')\n",
    "monthly_data = monthly_data.merge(users[['user_id', 'plan']], on='user_id', how='outer')\n",
    "monthly_data = monthly_data.fillna(0)\n",
    "print(monthly_data.head())"
   ]
  },
  {
   "cell_type": "code",
   "execution_count": 34,
   "metadata": {
    "id": "0dNOXHag0q1H"
   },
   "outputs": [
    {
     "name": "stdout",
     "output_type": "stream",
     "text": [
      "   user_id  month  calls  minutes  messages  mb_used  gb_used      plan  \\\n",
      "0     1000   12.0   16.0    124.0      11.0   1901.0      2.0  ultimate   \n",
      "1     1001    8.0   27.0    182.0      30.0   6922.0      7.0      surf   \n",
      "2     1001    9.0   49.0    315.0      44.0  13318.0     14.0      surf   \n",
      "3     1001   10.0   65.0    393.0      53.0  22332.0     22.0      surf   \n",
      "4     1001   11.0   64.0    426.0      36.0  18507.0     19.0      surf   \n",
      "\n",
      "   messages_included  mb_per_month_included  minutes_included  \\\n",
      "0               1000                  30720              3000   \n",
      "1                 50                  15360               500   \n",
      "2                 50                  15360               500   \n",
      "3                 50                  15360               500   \n",
      "4                 50                  15360               500   \n",
      "\n",
      "   usd_monthly_pay  usd_per_gb  usd_per_message  usd_per_minute plan_name  \n",
      "0               70           7             0.01            0.01  ultimate  \n",
      "1               20          10             0.03            0.03      surf  \n",
      "2               20          10             0.03            0.03      surf  \n",
      "3               20          10             0.03            0.03      surf  \n",
      "4               20          10             0.03            0.03      surf  \n"
     ]
    }
   ],
   "source": [
    "# Añade la información de la tarifa\n",
    "monthly_data = monthly_data.merge(plans, left_on='plan', right_on='plan_name', how='left')\n",
    "print(monthly_data.head())"
   ]
  },
  {
   "cell_type": "code",
   "execution_count": 35,
   "metadata": {
    "id": "5FGCf_c60q1I"
   },
   "outputs": [
    {
     "name": "stdout",
     "output_type": "stream",
     "text": [
      "   user_id  month  calls  minutes  messages  mb_used  gb_used      plan  \\\n",
      "0     1000   12.0   16.0    124.0      11.0   1901.0      2.0  ultimate   \n",
      "1     1001    8.0   27.0    182.0      30.0   6922.0      7.0      surf   \n",
      "2     1001    9.0   49.0    315.0      44.0  13318.0     14.0      surf   \n",
      "3     1001   10.0   65.0    393.0      53.0  22332.0     22.0      surf   \n",
      "4     1001   11.0   64.0    426.0      36.0  18507.0     19.0      surf   \n",
      "\n",
      "   messages_included  mb_per_month_included  minutes_included  \\\n",
      "0               1000                  30720              3000   \n",
      "1                 50                  15360               500   \n",
      "2                 50                  15360               500   \n",
      "3                 50                  15360               500   \n",
      "4                 50                  15360               500   \n",
      "\n",
      "   usd_monthly_pay  usd_per_gb  usd_per_message  usd_per_minute plan_name  \\\n",
      "0               70           7             0.01            0.01  ultimate   \n",
      "1               20          10             0.03            0.03      surf   \n",
      "2               20          10             0.03            0.03      surf   \n",
      "3               20          10             0.03            0.03      surf   \n",
      "4               20          10             0.03            0.03      surf   \n",
      "\n",
      "   revenue  \n",
      "0    70.00  \n",
      "1    20.00  \n",
      "2    20.00  \n",
      "3    90.09  \n",
      "4    60.00  \n"
     ]
    }
   ],
   "source": [
    "def calculate_revenue(row):\n",
    "    extra_minutes = max(0, row['minutes'] - row['minutes_included'])\n",
    "    extra_messages = max(0, row['messages'] - row['messages_included'])\n",
    "    extra_data_gb = max(0, row['gb_used'] - row['mb_per_month_included'] / 1024)\n",
    "    revenue = (row['usd_monthly_pay'] +\n",
    "               extra_minutes * row['usd_per_minute'] +\n",
    "               extra_messages * row['usd_per_message'] +\n",
    "               extra_data_gb * row['usd_per_gb'])\n",
    "    return revenue\n",
    "\n",
    "monthly_data['revenue'] = monthly_data.apply(calculate_revenue, axis=1)\n",
    "print(monthly_data.head())"
   ]
  },
  {
   "cell_type": "markdown",
   "metadata": {
    "id": "-jtyHzJb0q1I"
   },
   "source": [
    "## Estudia el comportamiento de usuario"
   ]
  },
  {
   "cell_type": "markdown",
   "metadata": {
    "id": "vtW4CJEe0q1J"
   },
   "source": [
    "### Llamadas"
   ]
  },
  {
   "cell_type": "code",
   "execution_count": 36,
   "metadata": {
    "id": "Jf5v5--k0q1J"
   },
   "outputs": [
    {
     "data": {
      "image/png": "[encoded data removed]",
      "text/plain": [
       "<Figure size 1200x600 with 1 Axes>"
      ]
     },
     "metadata": {},
     "output_type": "display_data"
    }
   ],
   "source": [
    "# Compara la duración promedio de llamadas por cada plan y por cada mes. Traza un gráfico de barras para visualizarla.\n",
    "import matplotlib.pyplot as plt\n",
    "avg_duration_per_month = monthly_data.groupby(['plan', 'month'])['minutes'].mean().reset_index()\n",
    "plt.figure(figsize=(12, 6))\n",
    "sns.barplot(x='month', y='minutes', hue='plan', data=avg_duration_per_month)\n",
    "plt.title('Duración Promedio de Llamadas por Mes y Plan')\n",
    "plt.xlabel('Mes')\n",
    "plt.ylabel('Duración Promedio de Llamadas (minutos)')\n",
    "plt.legend(title='Plan')\n",
    "plt.show()"
   ]
  },
  {
   "cell_type": "code",
   "execution_count": 37,
   "metadata": {
    "id": "QoLqW1S_0q1J"
   },
   "outputs": [
    {
     "data": {
      "image/png": "[encoded data removed]",
      "text/plain": [
       "<Figure size 1200x600 with 1 Axes>"
      ]
     },
     "metadata": {},
     "output_type": "display_data"
    }
   ],
   "source": [
    "# Compara el número de minutos mensuales que necesitan los usuarios de cada plan. Traza un histograma.\n",
    "\n",
    "plt.figure(figsize=(12, 6))\n",
    "sns.histplot(data=monthly_data, x='minutes', hue='plan', multiple='stack', bins=30)\n",
    "plt.title('Distribución del Número de Minutos Mensuales por Plan')\n",
    "plt.xlabel('Minutos Usados')\n",
    "plt.ylabel('Frecuencia')\n",
    "plt.show()"
   ]
  },
  {
   "cell_type": "code",
   "execution_count": 38,
   "metadata": {
    "id": "oSndbAnt0q1K"
   },
   "outputs": [
    {
     "name": "stdout",
     "output_type": "stream",
     "text": [
      "       plan        mean           var\n",
      "0      surf  427.120329  55455.577400\n",
      "1  ultimate  428.071823  58543.878652\n"
     ]
    }
   ],
   "source": [
    "# Calcula la media y la varianza de la duración mensual de llamadas.\n",
    "stats_duration = monthly_data.groupby('plan')['minutes'].agg(['mean', 'var']).reset_index()\n",
    "print(stats_duration)"
   ]
  },
  {
   "cell_type": "code",
   "execution_count": 39,
   "metadata": {
    "id": "nZzoRUKc0q1K"
   },
   "outputs": [
    {
     "data": {
      "image/png": "[encoded data removed]",
      "text/plain": [
       "<Figure size 1200x600 with 1 Axes>"
      ]
     },
     "metadata": {},
     "output_type": "display_data"
    }
   ],
   "source": [
    "# Traza un diagrama de caja para visualizar la distribución de la duración mensual de llamadas\n",
    "\n",
    "plt.figure(figsize=(12, 6))\n",
    "sns.boxplot(x='plan', y='minutes', data=monthly_data)\n",
    "plt.title('Distribución de la Duración Mensual de Llamadas por Plan')\n",
    "plt.xlabel('Plan')\n",
    "plt.ylabel('Minutos Usados')\n",
    "plt.show()"
   ]
  },
  {
   "cell_type": "markdown",
   "metadata": {
    "id": "r627zBO50q1K"
   },
   "source": [
    "Conclusiones sobre el comportamiento de los usuarios con respecto a las llamadas:\n",
    "\n",
    "- La duración promedio de las llamadas tiende a variar de un mes a otro, lo que sugiere posibles patrones. \n",
    "\n",
    "- La duración promedio de las llamadas parece ser bastante similar entre los dos planes, aunque hay meses en los que uno de los planes supera al otro. \n",
    "\n",
    "- Los usuarios de ambos planes tienen una distribución similar en términos de minutos utilizados, con la mayoría de los usuarios utilizando entre 200 y 600 minutos al mes.\n",
    "\n",
    "- Algunos usuarios de ambos planes utilizan más de 800 minutos al mes, pero estos son menos comunes.\n",
    "\n",
    "- Las medias de ambos planes son muy similares, indicando que en promedio, los usuarios de ambos planes utilizan casi la misma cantidad de minutos al mes. Sin embargo, la varianza en el plan Ultimate es ligeramente mayor, lo que sugiere una mayor dispersión en el uso de minutos entre los usuarios de este plan.\n",
    "\n",
    "- La mediana para ambos planes es muy similar, alrededor de 400 minutos, lo que es consistente con las medias que calculamos anteriormente.\n",
    "\n",
    "- Hay varios valores atípicos en ambos planes, especialmente en el extremo superior, lo que indica que algunos usuarios usan muchos más minutos que el promedio.\n",
    "\n",
    "- La distribución para ambos planes parece ser bastante simétrica, con una dispersión similar de los datos en ambos lados de la mediana."
   ]
  },
  {
   "cell_type": "markdown",
   "metadata": {
    "id": "8idKy8Wh0q1L"
   },
   "source": [
    "### Mensajes"
   ]
  },
  {
   "cell_type": "code",
   "execution_count": 40,
   "metadata": {
    "id": "NXLxiTit0q1L"
   },
   "outputs": [
    {
     "data": {
      "image/png": "[encoded data removed]",
      "text/plain": [
       "<Figure size 1200x600 with 1 Axes>"
      ]
     },
     "metadata": {},
     "output_type": "display_data"
    }
   ],
   "source": [
    "# Compara el número de mensajes que tienden a enviar cada mes los usuarios de cada plan\n",
    "# Calcular el número promedio de mensajes por mes y por plan\n",
    "avg_messages_per_month = monthly_data.groupby(['plan', 'month'])['messages'].mean().reset_index()\n",
    "\n",
    "# Gráfico de barras para visualizar el número promedio de mensajes por mes y por plan\n",
    "plt.figure(figsize=(12, 6))\n",
    "sns.barplot(x='month', y='messages', hue='plan', data=avg_messages_per_month)\n",
    "plt.title('Número Promedio de Mensajes por Mes y Plan')\n",
    "plt.xlabel('Mes')\n",
    "plt.ylabel('Número Promedio de Mensajes')\n",
    "plt.legend(title='Plan')\n",
    "plt.show()"
   ]
  },
  {
   "cell_type": "markdown",
   "metadata": {
    "id": "390SSL480q1M"
   },
   "source": [
    "Conclusiones sobre el comportamiento de los usuarios con respecto a los mensajes:\n",
    "\n",
    "-  Ambos planes muestran un incremento constante en el número promedio de mensajes enviados a medida que avanza el año. Esto podría indicar un aumento en la necesidad de comunicación a lo largo del tiempo o una creciente adopción de la mensajería.\n",
    "\n",
    "-  En cada mes, los usuarios del plan \"ultimate\" envían consistentemente más mensajes en promedio que los usuarios del plan \"surf\".\n",
    "\n",
    "-  La diferencia entre los dos planes parece ser constante, sugiriendo que los usuarios del plan \"ultimate\" tienen un patrón de uso más intensivo que los del plan \"surf\".\n",
    "\n",
    "-  Los usuarios del plan \"ultimate\" podrían ser usuarios que necesitan una mayor cantidad de mensajes debido a sus características de consumo, como puede ser por razones de trabajo o comunicación intensa.\n",
    "\n",
    "- La empresa podría considerar estas tendencias para ajustar los planes ofrecidos, promoviendo el plan \"ultimate\" a usuarios que muestran un crecimiento en su uso de mensajes."
   ]
  },
  {
   "cell_type": "markdown",
   "metadata": {
    "id": "42YSypXz0q1M"
   },
   "source": [
    "### Internet"
   ]
  },
  {
   "cell_type": "code",
   "execution_count": 41,
   "metadata": {
    "id": "lSuKPtjh0q1M"
   },
   "outputs": [
    {
     "data": {
      "image/png": "[encoded data removed]",
      "text/plain": [
       "<Figure size 1200x600 with 1 Axes>"
      ]
     },
     "metadata": {},
     "output_type": "display_data"
    }
   ],
   "source": [
    "# Compara la cantidad de tráfico de Internet consumido por usuarios por plan\n",
    "avg_internet_traffic_per_month = monthly_data.groupby(['plan', 'month'])['mb_used'].mean().reset_index()\n",
    "\n",
    "# Gráfico de barras para visualizar el tráfico promedio de Internet por mes y por plan\n",
    "plt.figure(figsize=(12, 6))\n",
    "sns.barplot(x='month', y='mb_used', hue='plan', data=avg_internet_traffic_per_month)\n",
    "plt.title('Tráfico Promedio de Internet por Mes y Plan')\n",
    "plt.xlabel('Mes')\n",
    "plt.ylabel('Tráfico Promedio de Internet (MB)')\n",
    "plt.legend(title='Plan')\n",
    "plt.show()"
   ]
  },
  {
   "cell_type": "markdown",
   "metadata": {
    "id": "UN9zwuMP0q1N"
   },
   "source": [
    "Conclusiones sobre cómo los usuarios tienden a consumir el tráfico en Internet:\n",
    "\n",
    "-  Los usuarios del plan Ultimate tienden a utilizar más tráfico de Internet que los usuarios del plan Surf en la mayoría de los meses.\n",
    "-  La brecha en el uso de datos es más evidente en los primeros meses y se reduce en los últimos meses del año, donde ambos planes muestran un incremento en el uso de datos.\n",
    "-  El tráfico promedio de Internet tiende a aumentar a lo largo del año para ambos planes, lo que puede indicar un aumento en la demanda de datos móviles."
   ]
  },
  {
   "cell_type": "markdown",
   "metadata": {
    "id": "tCijq3260q1N"
   },
   "source": [
    "## Ingreso"
   ]
  },
  {
   "cell_type": "code",
   "execution_count": 42,
   "metadata": {
    "id": "tz-dq_V00q1O"
   },
   "outputs": [
    {
     "name": "stdout",
     "output_type": "stream",
     "text": [
      "           count       mean        std   min   25%    50%     75%     max\n",
      "plan                                                                     \n",
      "surf      1579.0  60.520063  55.318911  20.0  20.0  40.18  80.315  590.37\n",
      "ultimate   724.0  72.301105  11.364839  70.0  70.0  70.00  70.000  182.00\n"
     ]
    }
   ],
   "source": [
    "# Calcula los ingresos mensuales por usuario para cada plan\n",
    "monthly_data['revenue'] = monthly_data.apply(calculate_revenue, axis=1)\n",
    "\n",
    "# Estadísticas descriptivas de los ingresos por plan\n",
    "stats_revenue = monthly_data.groupby('plan')['revenue'].describe()\n",
    "\n",
    "print(stats_revenue)"
   ]
  },
  {
   "cell_type": "markdown",
   "metadata": {
    "id": "KAFidcXZ0q1P"
   },
   "source": [
    "Conclusiones sobre cómo difiere el ingreso entre los planes:\n",
    "\n",
    "-  El ingreso promedio del plan Ultimate (72.10) es mayor que el del plan Surf (57.53).\n",
    "-  El plan Surf muestra una mayor variabilidad en los ingresos (desviación estándar de 53.81) en comparación con el plan Ultimate (10.74).\n",
    "-  La mediana de ingresos para el plan Ultimate es constante a 70.00, lo que indica que muchos usuarios pagan exactamente esta cantidad cada mes.\n",
    "-  La mediana para el plan Surf es más baja (37.22), mostrando una distribución más dispersa.\n",
    "-  El ingreso máximo en el plan Surf es significativamente más alto (583.08) en comparación con el plan Ultimate (178.55)."
   ]
  },
  {
   "cell_type": "markdown",
   "metadata": {
    "id": "ajJ7VKeI0q1Q"
   },
   "source": [
    "## Prueba las hipótesis estadísticas"
   ]
  },
  {
   "cell_type": "code",
   "execution_count": 50,
   "metadata": {
    "id": "nFoPNlPq0q1R",
    "scrolled": true
   },
   "outputs": [
    {
     "name": "stdout",
     "output_type": "stream",
     "text": [
      "T-statistic: -8.0980\n",
      "P-value: 0.0000\n",
      "Rechazamos la hipótesis nula. Los ingresos promedio son diferentes entre los planes.\n"
     ]
    }
   ],
   "source": [
    "# Prueba las hipótesis\n",
    "\n",
    "from scipy import stats\n",
    "\n",
    "# Filtrar datos por plan\n",
    "revenue_surf = monthly_data[monthly_data['plan'] == 'surf']['revenue']\n",
    "revenue_ultimate = monthly_data[monthly_data['plan'] == 'ultimate']['revenue']\n",
    "\n",
    "# Prueba t de Student\n",
    "t_stat, p_value = stats.ttest_ind(revenue_surf, revenue_ultimate, equal_var=False)\n",
    "\n",
    "# Resultados\n",
    "print(f\"T-statistic: {t_stat:.4f}\")\n",
    "print(f\"P-value: {p_value:.4f}\")\n",
    "\n",
    "# Decisión\n",
    "if p_value < 0.05:\n",
    "    print(\"Rechazamos la hipótesis nula. Los ingresos promedio son diferentes entre los planes.\")\n",
    "else:\n",
    "    print(\"No podemos rechazar la hipótesis nula. No hay suficiente evidencia para decir que los ingresos promedio son diferentes entre los planes.\")\n"
   ]
  },
  {
   "cell_type": "code",
   "execution_count": 49,
   "metadata": {},
   "outputs": [
    {
     "name": "stdout",
     "output_type": "stream",
     "text": [
      "P-value: 1.003313048644676e-15\n",
      "Rechazamos la hipótesis nula. Los ingresos promedio son diferentes entre los planes.\n"
     ]
    }
   ],
   "source": [
    "# Prueba las hipótesis\n",
    "\n",
    "from scipy import stats\n",
    "\n",
    "# Filtrar datos por plan\n",
    "revenue_surf = monthly_data[monthly_data['plan'] == 'surf']['revenue']\n",
    "revenue_ultimate = monthly_data[monthly_data['plan'] == 'ultimate']['revenue']\n",
    "\n",
    "results=stats.ttest_ind(revenue_surf,revenue_ultimate,equal_var=False)\n",
    "\n",
    "print(f\"P-value: {results.pvalue}\")\n",
    "\n",
    "\n",
    "# Decisión\n",
    "if p_value < 0.05:\n",
    "    print(\"Rechazamos la hipótesis nula. Los ingresos promedio son diferentes entre los planes.\")\n",
    "else:\n",
    "    print(\"No podemos rechazar la hipótesis nula. No hay suficiente evidencia para decir que los ingresos promedio son diferentes entre los planes.\")\n"
   ]
  },
  {
   "cell_type": "code",
   "execution_count": 51,
   "metadata": {
    "id": "Cqcj7wrZ0q1S"
   },
   "outputs": [
    {
     "name": "stdout",
     "output_type": "stream",
     "text": [
      "Número de datos en NY-NJ: 378\n",
      "Número de datos en otras regiones: 1925\n",
      "T-statistic (Región): -2.0618\n",
      "P-value (Región): 0.0397\n",
      "Rechazamos la hipótesis nula. Los ingresos promedio son diferentes entre las regiones.\n"
     ]
    }
   ],
   "source": [
    "# Prueba la segunda hipótesis \n",
    "from scipy import stats\n",
    "\n",
    "# Fusión de DataFrames\n",
    "merged_data = monthly_data.merge(users[['user_id', 'city']], on='user_id', how='left')\n",
    "\n",
    "# Filtrar datos por región\n",
    "ny_nj_area = 'New York-Newark-Jersey City, NY-NJ-PA MSA'\n",
    "revenue_ny_nj = merged_data[merged_data['city'] == ny_nj_area]['revenue']\n",
    "revenue_other = merged_data[merged_data['city'] != ny_nj_area]['revenue']\n",
    "\n",
    "# Verificar si hay valores nulos antes de la prueba t\n",
    "revenue_ny_nj = revenue_ny_nj.dropna()\n",
    "revenue_other = revenue_other.dropna()\n",
    "\n",
    "# Verificar el número de datos en cada conjunto\n",
    "print(f\"Número de datos en NY-NJ: {len(revenue_ny_nj)}\")\n",
    "print(f\"Número de datos en otras regiones: {len(revenue_other)}\")\n",
    "\n",
    "# Prueba t de Student\n",
    "if len(revenue_ny_nj) > 0 and len(revenue_other) > 0:\n",
    "    t_stat_region, p_value_region = stats.ttest_ind(revenue_ny_nj, revenue_other, equal_var=False)\n",
    "\n",
    "    # Resultados\n",
    "    print(f\"T-statistic (Región): {t_stat_region:.4f}\")\n",
    "    print(f\"P-value (Región): {p_value_region:.4f}\")\n",
    "\n",
    "    # Decisión\n",
    "    if p_value_region < 0.05:\n",
    "        print(\"Rechazamos la hipótesis nula. Los ingresos promedio son diferentes entre las regiones.\")\n",
    "    else:\n",
    "        print(\"No podemos rechazar la hipótesis nula. No hay suficiente evidencia para decir que los ingresos promedio son diferentes entre las regiones.\")\n",
    "else:\n",
    "    print(\"Una de las muestras no tiene datos suficientes para realizar la prueba t.\")\n"
   ]
  },
  {
   "cell_type": "markdown",
   "metadata": {
    "id": "bbTR8UQO0q1T"
   },
   "source": [
    "## Conclusión general\n"
   ]
  },
  {
   "cell_type": "markdown",
   "metadata": {},
   "source": [
    "-  Aunque la duración promedio de las llamadas es similar entre ambos planes, el plan Surf muestra una mayor dispersión en los datos, indicando una variabilidad más amplia en el uso de minutos entre sus usuarios.\n",
    "\n",
    "-  Ambos planes tienen una cantidad considerable de usuarios que superan los límites incluidos en sus planes, lo que resulta en ingresos adicionales para la compañía.\n",
    "\n",
    "-  Los usuarios del plan Ultimate, a pesar de tener un límite más alto de mensajes incluidos, no envían significativamente más mensajes en promedio que los usuarios del plan Surf. Esto sugiere que muchos usuarios no utilizan completamente los límites incluidos en sus planes.\n",
    "\n",
    "-  El uso de datos de Internet muestra un aumento constante a lo largo del año para ambos planes, lo que puede reflejar una mayor dependencia de servicios en línea y aplicaciones que consumen datos móviles.\n",
    "\n",
    "-  La diferencia en el uso de datos entre los planes es más notable en los primeros meses del año, donde los usuarios del plan Ultimate consumen considerablemente más datos que los del plan Surf.\n",
    "\n",
    "-  Además de los ingresos por los planes base, los ingresos adicionales por el uso excesivo de servicios (llamadas, mensajes y datos) son significativos y contribuyen de manera notable a los ingresos totales por usuario.\n",
    "\n",
    "-  La estabilidad en los ingresos del plan Ultimate, con muchos usuarios pagando exactamente la tarifa mensual sin exceder los límites, contrasta con la variabilidad en los ingresos del plan Surf, donde algunos usuarios generan ingresos mucho más altos debido al uso excesivo de servicios adicionales.\n",
    "\n",
    "-  Considerando que el plan Ultimate atrae a usuarios que tienden a utilizar más servicios adicionales, como mensajes y datos, podría ser beneficioso explorar opciones para aumentar los límites de estos servicios dentro de este plan.\n",
    "\n",
    "-  Para el plan Surf, estrategias que ayuden a gestionar y prever mejor el uso excesivo de servicios podrían ayudar a reducir la variabilidad en los ingresos y mejorar la satisfacción del cliente al evitar cargos adicionales inesperados.\n",
    "\n",
    "-  En la primera hipótesis, dado que el valor p es bajo (menor que cualquier nivel de significancia comúnmente utilizado, como 0.05), rechazamos la hipótesis nula. Esto significa que hay evidencia estadísticamente significativa para afirmar que los ingresos promedio de los usuarios de los planes Ultimate y Surf son diferentes.\n",
    "\n",
    "-  En cuanto a la segunda hipótesis, dado que el valor p es menor que 0.05, rechazamos la hipótesis nula. Esto indica que hay suficiente evidencia para afirmar que los ingresos promedio son diferentes entre los usuarios de NY-NJ y los usuarios de otras regiones."
   ]
  }
 ],
 "metadata": {
  "ExecuteTimeLog": [
   {
    "duration": 828,
    "start_time": "2021-11-16T09:21:11.304Z"
   },
   {
    "duration": 893,
    "start_time": "2021-11-16T09:21:17.728Z"
   },
   {
    "duration": 1150,
    "start_time": "2021-11-16T09:21:29.568Z"
   },
   {
    "duration": 3,
    "start_time": "2021-11-16T09:24:14.495Z"
   },
   {
    "duration": 120,
    "start_time": "2021-11-16T09:24:46.630Z"
   },
   {
    "duration": 3,
    "start_time": "2021-11-16T09:28:27.882Z"
   },
   {
    "duration": 4,
    "start_time": "2021-11-16T09:29:54.281Z"
   },
   {
    "duration": 3,
    "start_time": "2021-11-16T09:30:45.936Z"
   },
   {
    "duration": 4,
    "start_time": "2021-11-16T09:31:06.300Z"
   },
   {
    "duration": 113,
    "start_time": "2021-11-16T09:31:37.208Z"
   },
   {
    "duration": 143,
    "start_time": "2021-11-16T09:31:48.656Z"
   },
   {
    "duration": 98,
    "start_time": "2021-11-16T09:31:55.678Z"
   },
   {
    "duration": 3,
    "start_time": "2021-11-16T09:32:08.535Z"
   },
   {
    "duration": 111,
    "start_time": "2021-11-16T09:32:10.120Z"
   },
   {
    "duration": 3,
    "start_time": "2021-11-16T09:32:15.732Z"
   },
   {
    "duration": 4,
    "start_time": "2021-11-16T09:32:29.423Z"
   },
   {
    "duration": 3,
    "start_time": "2021-11-16T10:03:03.074Z"
   },
   {
    "duration": 3,
    "start_time": "2021-11-16T10:10:01.288Z"
   },
   {
    "duration": 3,
    "start_time": "2021-11-16T10:10:46.923Z"
   },
   {
    "duration": 121,
    "start_time": "2021-11-16T10:37:46.494Z"
   },
   {
    "duration": 125,
    "start_time": "2021-11-16T10:38:20.632Z"
   },
   {
    "duration": 112,
    "start_time": "2021-11-16T10:46:53.001Z"
   },
   {
    "duration": 110,
    "start_time": "2021-11-16T10:48:25.775Z"
   },
   {
    "duration": 3,
    "start_time": "2021-11-16T10:50:18.720Z"
   },
   {
    "duration": 4,
    "start_time": "2021-11-16T10:50:37.649Z"
   },
   {
    "duration": 2,
    "start_time": "2021-11-16T10:50:51.884Z"
   },
   {
    "duration": 3,
    "start_time": "2021-11-16T10:51:56.237Z"
   },
   {
    "duration": 101,
    "start_time": "2021-11-16T10:53:13.791Z"
   },
   {
    "duration": 3,
    "start_time": "2021-11-16T10:55:59.186Z"
   },
   {
    "duration": 3,
    "start_time": "2021-11-16T10:56:10.751Z"
   },
   {
    "duration": 3,
    "start_time": "2021-11-16T10:56:49.038Z"
   },
   {
    "duration": 3,
    "start_time": "2021-11-16T10:56:49.174Z"
   },
   {
    "duration": 4,
    "start_time": "2021-11-16T10:56:49.414Z"
   },
   {
    "duration": 3,
    "start_time": "2021-11-16T10:56:49.680Z"
   },
   {
    "duration": 3,
    "start_time": "2021-11-16T10:56:50.370Z"
   },
   {
    "duration": 114,
    "start_time": "2021-11-16T10:59:34.518Z"
   },
   {
    "duration": 3,
    "start_time": "2021-11-16T11:01:41.201Z"
   },
   {
    "duration": 116,
    "start_time": "2021-11-16T11:01:48.754Z"
   },
   {
    "duration": 3,
    "start_time": "2021-11-16T11:02:16.685Z"
   },
   {
    "duration": 3,
    "start_time": "2021-11-16T11:02:19.479Z"
   },
   {
    "duration": 3,
    "start_time": "2021-11-16T11:02:47.067Z"
   },
   {
    "duration": 3,
    "start_time": "2021-11-16T11:02:49.353Z"
   },
   {
    "duration": 3,
    "start_time": "2021-11-16T11:03:07.835Z"
   },
   {
    "duration": 3,
    "start_time": "2021-11-16T11:03:07.953Z"
   },
   {
    "duration": 112,
    "start_time": "2021-11-16T11:07:52.072Z"
   },
   {
    "duration": 187,
    "start_time": "2021-11-16T11:09:23.468Z"
   },
   {
    "duration": 4,
    "start_time": "2021-11-16T11:10:01.455Z"
   },
   {
    "duration": 3,
    "start_time": "2021-11-16T11:10:05.069Z"
   },
   {
    "duration": 4,
    "start_time": "2021-11-16T11:10:13.376Z"
   },
   {
    "duration": 3,
    "start_time": "2021-11-16T11:10:14.434Z"
   },
   {
    "duration": 3,
    "start_time": "2021-11-16T11:10:22.853Z"
   },
   {
    "duration": 4,
    "start_time": "2021-11-16T11:27:29.279Z"
   },
   {
    "duration": 4,
    "start_time": "2021-11-16T11:29:08.919Z"
   },
   {
    "duration": 118,
    "start_time": "2021-11-16T11:29:46.703Z"
   },
   {
    "duration": 437,
    "start_time": "2021-11-16T11:36:02.181Z"
   },
   {
    "duration": 157,
    "start_time": "2021-11-16T11:36:14.388Z"
   },
   {
    "duration": 207,
    "start_time": "2021-11-16T11:47:15.898Z"
   },
   {
    "duration": 3,
    "start_time": "2021-11-16T11:53:52.092Z"
   },
   {
    "duration": 3,
    "start_time": "2021-11-16T11:53:52.236Z"
   },
   {
    "duration": 3,
    "start_time": "2021-11-16T11:59:12.005Z"
   },
   {
    "duration": 112,
    "start_time": "2021-11-16T12:00:33.446Z"
   },
   {
    "duration": 3,
    "start_time": "2021-11-16T12:02:14.453Z"
   },
   {
    "duration": 3,
    "start_time": "2021-11-16T12:02:39.512Z"
   },
   {
    "duration": 106,
    "start_time": "2021-11-16T12:03:03.460Z"
   },
   {
    "duration": 3,
    "start_time": "2021-11-17T20:37:21.139Z"
   },
   {
    "duration": 3,
    "start_time": "2021-11-17T20:37:22.229Z"
   },
   {
    "duration": 3,
    "start_time": "2021-11-17T20:38:38.806Z"
   },
   {
    "duration": 3,
    "start_time": "2021-11-17T20:38:41.958Z"
   },
   {
    "duration": 3,
    "start_time": "2021-11-17T20:43:46.551Z"
   },
   {
    "duration": 4,
    "start_time": "2021-11-17T20:58:21.835Z"
   },
   {
    "duration": 3,
    "start_time": "2021-11-17T20:59:21.872Z"
   },
   {
    "duration": 4,
    "start_time": "2021-11-17T20:59:45.352Z"
   },
   {
    "duration": 4,
    "start_time": "2021-11-17T20:59:49.646Z"
   },
   {
    "duration": 159,
    "start_time": "2021-11-17T21:02:26.949Z"
   },
   {
    "duration": 3,
    "start_time": "2021-11-17T21:03:53.461Z"
   },
   {
    "duration": 3,
    "start_time": "2021-11-17T21:03:53.694Z"
   },
   {
    "duration": 3,
    "start_time": "2021-11-17T21:05:28.145Z"
   },
   {
    "duration": 116,
    "start_time": "2021-11-17T21:05:57.787Z"
   },
   {
    "duration": 3,
    "start_time": "2021-11-17T21:06:37.993Z"
   },
   {
    "duration": 3,
    "start_time": "2021-11-17T21:06:38.261Z"
   },
   {
    "duration": 3,
    "start_time": "2021-11-17T21:11:54.358Z"
   },
   {
    "duration": 3,
    "start_time": "2021-11-17T21:12:43.846Z"
   },
   {
    "duration": 4,
    "start_time": "2021-11-17T21:13:08.773Z"
   },
   {
    "duration": 3,
    "start_time": "2021-11-17T21:14:44.441Z"
   },
   {
    "duration": 3,
    "start_time": "2021-11-17T21:15:42.059Z"
   },
   {
    "duration": 4,
    "start_time": "2021-11-17T21:15:51.995Z"
   },
   {
    "duration": 3,
    "start_time": "2021-11-17T21:15:53.923Z"
   },
   {
    "duration": 3,
    "start_time": "2021-11-17T21:15:55.282Z"
   },
   {
    "duration": 3,
    "start_time": "2021-11-17T21:16:28.492Z"
   },
   {
    "duration": 3,
    "start_time": "2021-11-17T21:16:32.603Z"
   },
   {
    "duration": 3,
    "start_time": "2021-11-17T21:17:06.941Z"
   },
   {
    "duration": 98,
    "start_time": "2021-11-17T21:18:05.733Z"
   },
   {
    "duration": 4,
    "start_time": "2021-11-17T21:21:35.255Z"
   },
   {
    "duration": 3,
    "start_time": "2021-11-17T21:21:37.804Z"
   },
   {
    "duration": 4,
    "start_time": "2021-11-17T21:23:06.071Z"
   },
   {
    "duration": 3,
    "start_time": "2021-11-17T21:23:24.799Z"
   },
   {
    "duration": 3,
    "start_time": "2021-11-17T21:23:32.591Z"
   },
   {
    "duration": 98,
    "start_time": "2021-11-17T21:28:31.559Z"
   },
   {
    "duration": 3,
    "start_time": "2021-11-17T21:28:45.448Z"
   },
   {
    "duration": 3,
    "start_time": "2021-11-17T21:29:17.303Z"
   },
   {
    "duration": 3,
    "start_time": "2021-11-17T21:29:29.617Z"
   },
   {
    "duration": 3,
    "start_time": "2021-11-17T21:29:32.681Z"
   },
   {
    "duration": 3,
    "start_time": "2021-11-17T21:36:11.474Z"
   },
   {
    "duration": 3,
    "start_time": "2021-11-17T21:36:14.791Z"
   },
   {
    "duration": 3,
    "start_time": "2021-11-17T21:36:53.943Z"
   },
   {
    "duration": 3,
    "start_time": "2021-11-17T21:36:56.165Z"
   },
   {
    "duration": 4,
    "start_time": "2021-11-17T21:37:16.590Z"
   },
   {
    "duration": 3,
    "start_time": "2021-11-17T21:37:22.702Z"
   },
   {
    "duration": 4,
    "start_time": "2021-11-17T21:38:03.479Z"
   },
   {
    "duration": 3,
    "start_time": "2021-11-17T21:38:08.601Z"
   },
   {
    "duration": 3,
    "start_time": "2021-11-17T21:38:12.928Z"
   },
   {
    "duration": 3,
    "start_time": "2021-11-17T21:38:48.896Z"
   },
   {
    "duration": 2,
    "start_time": "2021-11-17T21:38:49.171Z"
   },
   {
    "duration": 4,
    "start_time": "2021-11-17T21:39:57.889Z"
   },
   {
    "duration": 3,
    "start_time": "2021-11-17T21:39:58.057Z"
   },
   {
    "duration": 3,
    "start_time": "2021-11-17T21:41:20.108Z"
   },
   {
    "duration": 3,
    "start_time": "2021-11-17T21:41:20.629Z"
   },
   {
    "duration": 3,
    "start_time": "2021-11-17T21:42:49.136Z"
   },
   {
    "duration": 3,
    "start_time": "2021-11-17T21:43:15.137Z"
   },
   {
    "duration": 4,
    "start_time": "2021-11-17T21:43:16.766Z"
   },
   {
    "duration": 4,
    "start_time": "2021-11-17T21:43:31.711Z"
   },
   {
    "duration": 3,
    "start_time": "2021-11-17T21:43:36.312Z"
   },
   {
    "duration": 4,
    "start_time": "2021-11-17T21:45:08.825Z"
   },
   {
    "duration": 4,
    "start_time": "2021-11-17T21:45:10.119Z"
   },
   {
    "duration": 4,
    "start_time": "2021-11-17T21:45:13.748Z"
   },
   {
    "duration": 3,
    "start_time": "2021-11-17T21:45:22.219Z"
   },
   {
    "duration": 3,
    "start_time": "2021-11-17T21:45:33.412Z"
   },
   {
    "duration": 2,
    "start_time": "2021-11-17T21:46:01.885Z"
   },
   {
    "duration": 3,
    "start_time": "2021-11-17T21:46:03.628Z"
   },
   {
    "duration": 107,
    "start_time": "2021-11-17T21:47:32.512Z"
   },
   {
    "duration": 103,
    "start_time": "2021-11-17T21:50:36.243Z"
   },
   {
    "duration": 3,
    "start_time": "2021-11-18T06:28:31.440Z"
   },
   {
    "duration": 3,
    "start_time": "2021-11-18T06:29:00.168Z"
   },
   {
    "duration": 3,
    "start_time": "2021-11-18T06:31:27.008Z"
   },
   {
    "duration": 2,
    "start_time": "2021-11-18T06:35:34.288Z"
   },
   {
    "duration": 2,
    "start_time": "2021-11-18T06:38:04.527Z"
   },
   {
    "duration": 4,
    "start_time": "2024-05-29T22:11:34.646Z"
   },
   {
    "duration": 1289,
    "start_time": "2024-05-29T22:11:41.213Z"
   },
   {
    "duration": 277,
    "start_time": "2024-05-29T22:17:23.382Z"
   },
   {
    "duration": 16,
    "start_time": "2024-05-29T22:17:47.237Z"
   },
   {
    "duration": 10,
    "start_time": "2024-05-29T22:18:01.476Z"
   },
   {
    "duration": 15,
    "start_time": "2024-05-29T23:13:59.398Z"
   },
   {
    "duration": 8,
    "start_time": "2024-05-29T23:14:12.477Z"
   },
   {
    "duration": 7,
    "start_time": "2024-05-30T02:25:37.341Z"
   },
   {
    "duration": 15,
    "start_time": "2024-05-30T02:59:19.061Z"
   },
   {
    "duration": 6,
    "start_time": "2024-05-30T03:00:08.643Z"
   },
   {
    "duration": 822,
    "start_time": "2024-05-30T03:00:44.079Z"
   },
   {
    "duration": 1255,
    "start_time": "2024-05-30T03:01:00.638Z"
   },
   {
    "duration": 281,
    "start_time": "2024-05-30T03:01:03.287Z"
   },
   {
    "duration": 19,
    "start_time": "2024-05-30T03:01:05.874Z"
   },
   {
    "duration": 10,
    "start_time": "2024-05-30T03:01:06.567Z"
   },
   {
    "duration": 15,
    "start_time": "2024-05-30T03:01:12.837Z"
   },
   {
    "duration": 8,
    "start_time": "2024-05-30T03:01:13.526Z"
   },
   {
    "duration": 7,
    "start_time": "2024-05-30T03:01:18.049Z"
   },
   {
    "duration": 7,
    "start_time": "2024-05-30T03:01:52.287Z"
   },
   {
    "duration": 16,
    "start_time": "2024-05-30T03:01:54.263Z"
   },
   {
    "duration": 1252,
    "start_time": "2024-05-30T03:06:27.063Z"
   },
   {
    "duration": 270,
    "start_time": "2024-05-30T03:06:29.734Z"
   },
   {
    "duration": 16,
    "start_time": "2024-05-30T03:06:32.078Z"
   },
   {
    "duration": 9,
    "start_time": "2024-05-30T03:06:32.758Z"
   },
   {
    "duration": 15,
    "start_time": "2024-05-30T03:06:37.481Z"
   },
   {
    "duration": 8,
    "start_time": "2024-05-30T03:06:38.182Z"
   },
   {
    "duration": 8,
    "start_time": "2024-05-30T03:06:40.950Z"
   },
   {
    "duration": 7,
    "start_time": "2024-05-30T03:06:43.142Z"
   },
   {
    "duration": 1222,
    "start_time": "2024-05-30T03:12:41.558Z"
   },
   {
    "duration": 280,
    "start_time": "2024-05-30T03:12:42.784Z"
   },
   {
    "duration": 16,
    "start_time": "2024-05-30T03:12:43.067Z"
   },
   {
    "duration": 22,
    "start_time": "2024-05-30T03:12:43.086Z"
   },
   {
    "duration": 15,
    "start_time": "2024-05-30T03:12:43.113Z"
   },
   {
    "duration": 8,
    "start_time": "2024-05-30T03:12:43.132Z"
   },
   {
    "duration": 9,
    "start_time": "2024-05-30T03:12:43.144Z"
   },
   {
    "duration": 3,
    "start_time": "2024-05-30T03:12:43.156Z"
   },
   {
    "duration": 3,
    "start_time": "2024-05-30T03:12:43.206Z"
   },
   {
    "duration": 4,
    "start_time": "2024-05-30T03:12:43.213Z"
   },
   {
    "duration": 4,
    "start_time": "2024-05-30T03:12:43.220Z"
   },
   {
    "duration": 3,
    "start_time": "2024-05-30T03:12:43.227Z"
   },
   {
    "duration": 4,
    "start_time": "2024-05-30T03:12:43.233Z"
   },
   {
    "duration": 3,
    "start_time": "2024-05-30T03:12:43.246Z"
   },
   {
    "duration": 4,
    "start_time": "2024-05-30T03:12:43.307Z"
   },
   {
    "duration": 3,
    "start_time": "2024-05-30T03:12:43.314Z"
   },
   {
    "duration": 5,
    "start_time": "2024-05-30T03:12:43.320Z"
   },
   {
    "duration": 4,
    "start_time": "2024-05-30T03:12:43.328Z"
   },
   {
    "duration": 3,
    "start_time": "2024-05-30T03:12:43.335Z"
   },
   {
    "duration": 4,
    "start_time": "2024-05-30T03:12:43.342Z"
   },
   {
    "duration": 4,
    "start_time": "2024-05-30T03:12:43.348Z"
   },
   {
    "duration": 3,
    "start_time": "2024-05-30T03:12:43.408Z"
   },
   {
    "duration": 3,
    "start_time": "2024-05-30T03:12:43.415Z"
   },
   {
    "duration": 4,
    "start_time": "2024-05-30T03:12:43.420Z"
   },
   {
    "duration": 3,
    "start_time": "2024-05-30T03:12:43.428Z"
   },
   {
    "duration": 4,
    "start_time": "2024-05-30T03:12:43.434Z"
   },
   {
    "duration": 4,
    "start_time": "2024-05-30T03:12:43.440Z"
   },
   {
    "duration": 3,
    "start_time": "2024-05-30T03:12:43.448Z"
   },
   {
    "duration": 4,
    "start_time": "2024-05-30T03:12:43.508Z"
   },
   {
    "duration": 4855,
    "start_time": "2024-05-31T03:51:15.167Z"
   },
   {
    "duration": 385,
    "start_time": "2024-05-31T03:51:20.914Z"
   },
   {
    "duration": 15,
    "start_time": "2024-05-31T03:51:24.713Z"
   },
   {
    "duration": 10,
    "start_time": "2024-05-31T03:51:25.656Z"
   },
   {
    "duration": 16,
    "start_time": "2024-05-31T03:51:31.802Z"
   },
   {
    "duration": 8,
    "start_time": "2024-05-31T03:51:33.005Z"
   },
   {
    "duration": 7,
    "start_time": "2024-05-31T03:51:36.667Z"
   },
   {
    "duration": 4,
    "start_time": "2024-05-31T03:51:39.912Z"
   },
   {
    "duration": 8,
    "start_time": "2024-05-31T03:52:04.287Z"
   },
   {
    "duration": 26,
    "start_time": "2024-05-31T03:56:37.716Z"
   },
   {
    "duration": 7,
    "start_time": "2024-05-31T03:57:13.578Z"
   },
   {
    "duration": 4864,
    "start_time": "2024-06-01T23:12:13.472Z"
   },
   {
    "duration": 402,
    "start_time": "2024-06-01T23:12:20.994Z"
   },
   {
    "duration": 15,
    "start_time": "2024-06-01T23:12:24.657Z"
   },
   {
    "duration": 9,
    "start_time": "2024-06-01T23:12:25.552Z"
   },
   {
    "duration": 14,
    "start_time": "2024-06-01T23:16:32.447Z"
   },
   {
    "duration": 8,
    "start_time": "2024-06-01T23:16:33.463Z"
   },
   {
    "duration": 8,
    "start_time": "2024-06-01T23:34:24.803Z"
   },
   {
    "duration": 5,
    "start_time": "2024-06-01T23:34:27.260Z"
   },
   {
    "duration": 9,
    "start_time": "2024-06-01T23:34:28.160Z"
   },
   {
    "duration": 25,
    "start_time": "2024-06-01T23:34:32.756Z"
   },
   {
    "duration": 6,
    "start_time": "2024-06-01T23:34:36.582Z"
   },
   {
    "duration": 4922,
    "start_time": "2024-06-03T20:53:57.855Z"
   },
   {
    "duration": 374,
    "start_time": "2024-06-03T20:54:02.780Z"
   },
   {
    "duration": 18,
    "start_time": "2024-06-03T20:54:03.157Z"
   },
   {
    "duration": 9,
    "start_time": "2024-06-03T20:54:03.772Z"
   },
   {
    "duration": 14,
    "start_time": "2024-06-03T20:54:09.236Z"
   },
   {
    "duration": 9,
    "start_time": "2024-06-03T20:54:09.894Z"
   },
   {
    "duration": 8,
    "start_time": "2024-06-03T20:54:12.340Z"
   },
   {
    "duration": 5,
    "start_time": "2024-06-03T20:54:14.053Z"
   },
   {
    "duration": 10,
    "start_time": "2024-06-03T20:54:14.765Z"
   },
   {
    "duration": 24,
    "start_time": "2024-06-03T20:54:16.825Z"
   },
   {
    "duration": 7,
    "start_time": "2024-06-03T20:54:17.485Z"
   },
   {
    "duration": 29,
    "start_time": "2024-06-03T20:54:21.549Z"
   },
   {
    "duration": 49,
    "start_time": "2024-06-03T20:58:36.484Z"
   },
   {
    "duration": 461,
    "start_time": "2024-06-03T20:58:50.673Z"
   },
   {
    "duration": 45,
    "start_time": "2024-06-03T20:58:57.664Z"
   },
   {
    "duration": 311,
    "start_time": "2024-06-03T21:28:05.986Z"
   },
   {
    "duration": 1277,
    "start_time": "2024-06-03T21:28:16.113Z"
   },
   {
    "duration": 263,
    "start_time": "2024-06-03T21:28:17.581Z"
   },
   {
    "duration": 16,
    "start_time": "2024-06-03T21:28:19.656Z"
   },
   {
    "duration": 11,
    "start_time": "2024-06-03T21:28:20.250Z"
   },
   {
    "duration": 15,
    "start_time": "2024-06-03T21:28:24.145Z"
   },
   {
    "duration": 8,
    "start_time": "2024-06-03T21:28:24.665Z"
   },
   {
    "duration": 8,
    "start_time": "2024-06-03T21:28:26.489Z"
   },
   {
    "duration": 5,
    "start_time": "2024-06-03T21:28:27.968Z"
   },
   {
    "duration": 9,
    "start_time": "2024-06-03T21:28:28.546Z"
   },
   {
    "duration": 28,
    "start_time": "2024-06-03T21:28:30.042Z"
   },
   {
    "duration": 9,
    "start_time": "2024-06-03T21:28:30.184Z"
   },
   {
    "duration": 29,
    "start_time": "2024-06-03T21:28:31.905Z"
   },
   {
    "duration": 46,
    "start_time": "2024-06-03T21:28:32.056Z"
   },
   {
    "duration": 20,
    "start_time": "2024-06-03T21:28:40.465Z"
   },
   {
    "duration": 6,
    "start_time": "2024-06-03T21:28:56.250Z"
   },
   {
    "duration": 19,
    "start_time": "2024-06-03T22:23:57.234Z"
   },
   {
    "duration": 5165,
    "start_time": "2024-06-05T16:42:40.408Z"
   },
   {
    "duration": 462,
    "start_time": "2024-06-05T16:42:46.218Z"
   },
   {
    "duration": 43,
    "start_time": "2024-06-05T16:42:48.726Z"
   },
   {
    "duration": 9,
    "start_time": "2024-06-05T16:42:49.562Z"
   },
   {
    "duration": 16,
    "start_time": "2024-06-05T16:42:54.419Z"
   },
   {
    "duration": 8,
    "start_time": "2024-06-05T16:42:55.310Z"
   },
   {
    "duration": 8,
    "start_time": "2024-06-05T16:42:57.682Z"
   },
   {
    "duration": 4,
    "start_time": "2024-06-05T16:42:59.709Z"
   },
   {
    "duration": 10,
    "start_time": "2024-06-05T16:45:19.268Z"
   },
   {
    "duration": 24,
    "start_time": "2024-06-05T16:45:21.100Z"
   },
   {
    "duration": 12,
    "start_time": "2024-06-05T16:45:21.745Z"
   },
   {
    "duration": 29,
    "start_time": "2024-06-05T16:45:23.971Z"
   },
   {
    "duration": 52,
    "start_time": "2024-06-05T16:45:24.614Z"
   },
   {
    "duration": 19,
    "start_time": "2024-06-05T16:45:27.077Z"
   },
   {
    "duration": 13,
    "start_time": "2024-06-05T16:45:27.744Z"
   },
   {
    "duration": 17,
    "start_time": "2024-06-05T16:45:30.051Z"
   },
   {
    "duration": 1288,
    "start_time": "2024-06-05T17:14:54.431Z"
   },
   {
    "duration": 270,
    "start_time": "2024-06-05T17:14:56.288Z"
   },
   {
    "duration": 16,
    "start_time": "2024-06-05T17:14:58.472Z"
   },
   {
    "duration": 9,
    "start_time": "2024-06-05T17:14:59.031Z"
   },
   {
    "duration": 15,
    "start_time": "2024-06-05T17:15:02.632Z"
   },
   {
    "duration": 8,
    "start_time": "2024-06-05T17:15:03.311Z"
   },
   {
    "duration": 9,
    "start_time": "2024-06-05T17:15:04.918Z"
   },
   {
    "duration": 6,
    "start_time": "2024-06-05T17:15:06.104Z"
   },
   {
    "duration": 12,
    "start_time": "2024-06-05T17:15:06.582Z"
   },
   {
    "duration": 25,
    "start_time": "2024-06-05T17:15:08.022Z"
   },
   {
    "duration": 8,
    "start_time": "2024-06-05T17:15:08.503Z"
   },
   {
    "duration": 30,
    "start_time": "2024-06-05T17:15:10.343Z"
   },
   {
    "duration": 49,
    "start_time": "2024-06-05T17:15:11.000Z"
   },
   {
    "duration": 19,
    "start_time": "2024-06-05T17:15:15.455Z"
   },
   {
    "duration": 8,
    "start_time": "2024-06-05T17:15:50.354Z"
   },
   {
    "duration": 1236,
    "start_time": "2024-06-05T17:20:54.284Z"
   },
   {
    "duration": 266,
    "start_time": "2024-06-05T17:20:56.065Z"
   },
   {
    "duration": 15,
    "start_time": "2024-06-05T17:20:57.918Z"
   },
   {
    "duration": 9,
    "start_time": "2024-06-05T17:20:58.044Z"
   },
   {
    "duration": 14,
    "start_time": "2024-06-05T17:21:02.924Z"
   },
   {
    "duration": 9,
    "start_time": "2024-06-05T17:21:03.596Z"
   },
   {
    "duration": 7,
    "start_time": "2024-06-05T17:21:06.196Z"
   },
   {
    "duration": 5,
    "start_time": "2024-06-05T17:21:08.140Z"
   },
   {
    "duration": 9,
    "start_time": "2024-06-05T17:21:08.988Z"
   },
   {
    "duration": 25,
    "start_time": "2024-06-05T17:21:11.143Z"
   },
   {
    "duration": 7,
    "start_time": "2024-06-05T17:21:12.414Z"
   },
   {
    "duration": 30,
    "start_time": "2024-06-05T17:21:19.209Z"
   },
   {
    "duration": 51,
    "start_time": "2024-06-05T17:21:20.541Z"
   },
   {
    "duration": 6,
    "start_time": "2024-06-05T17:21:25.109Z"
   },
   {
    "duration": 10,
    "start_time": "2024-06-05T17:21:47.981Z"
   },
   {
    "duration": 19,
    "start_time": "2024-06-05T17:22:21.240Z"
   },
   {
    "duration": 6,
    "start_time": "2024-06-05T17:22:22.521Z"
   },
   {
    "duration": 477,
    "start_time": "2024-06-05T17:54:53.182Z"
   },
   {
    "duration": 26,
    "start_time": "2024-06-05T17:55:05.142Z"
   },
   {
    "duration": 1315,
    "start_time": "2024-06-05T18:03:12.469Z"
   },
   {
    "duration": 269,
    "start_time": "2024-06-05T18:03:14.599Z"
   },
   {
    "duration": 15,
    "start_time": "2024-06-05T18:03:17.019Z"
   },
   {
    "duration": 9,
    "start_time": "2024-06-05T18:03:17.616Z"
   },
   {
    "duration": 14,
    "start_time": "2024-06-05T18:03:23.441Z"
   },
   {
    "duration": 8,
    "start_time": "2024-06-05T18:03:24.240Z"
   },
   {
    "duration": 7,
    "start_time": "2024-06-05T18:03:30.833Z"
   },
   {
    "duration": 10,
    "start_time": "2024-06-05T18:03:32.326Z"
   },
   {
    "duration": 4,
    "start_time": "2024-06-05T18:03:34.852Z"
   },
   {
    "duration": 10,
    "start_time": "2024-06-05T18:03:35.760Z"
   },
   {
    "duration": 24,
    "start_time": "2024-06-05T18:03:38.647Z"
   },
   {
    "duration": 7,
    "start_time": "2024-06-05T18:03:39.941Z"
   },
   {
    "duration": 30,
    "start_time": "2024-06-05T18:03:45.657Z"
   },
   {
    "duration": 47,
    "start_time": "2024-06-05T18:03:46.683Z"
   },
   {
    "duration": 11,
    "start_time": "2024-06-05T18:03:48.625Z"
   },
   {
    "duration": 20,
    "start_time": "2024-06-05T18:03:52.968Z"
   },
   {
    "duration": 6,
    "start_time": "2024-06-05T18:03:53.993Z"
   },
   {
    "duration": 17,
    "start_time": "2024-06-05T18:04:00.117Z"
   },
   {
    "duration": 25,
    "start_time": "2024-06-05T18:04:01.378Z"
   },
   {
    "duration": 25,
    "start_time": "2024-06-05T18:04:21.418Z"
   },
   {
    "duration": 6,
    "start_time": "2024-06-05T18:04:50.217Z"
   },
   {
    "duration": 20,
    "start_time": "2024-06-05T18:08:13.065Z"
   },
   {
    "duration": 1290,
    "start_time": "2024-06-05T18:08:22.423Z"
   },
   {
    "duration": 260,
    "start_time": "2024-06-05T18:08:25.343Z"
   },
   {
    "duration": 17,
    "start_time": "2024-06-05T18:08:27.326Z"
   },
   {
    "duration": 9,
    "start_time": "2024-06-05T18:08:27.460Z"
   },
   {
    "duration": 15,
    "start_time": "2024-06-05T18:08:31.662Z"
   },
   {
    "duration": 9,
    "start_time": "2024-06-05T18:08:32.169Z"
   },
   {
    "duration": 7,
    "start_time": "2024-06-05T18:08:33.974Z"
   },
   {
    "duration": 9,
    "start_time": "2024-06-05T18:08:34.439Z"
   },
   {
    "duration": 8,
    "start_time": "2024-06-05T18:08:35.863Z"
   },
   {
    "duration": 9,
    "start_time": "2024-06-05T18:08:36.352Z"
   },
   {
    "duration": 25,
    "start_time": "2024-06-05T18:08:37.783Z"
   },
   {
    "duration": 8,
    "start_time": "2024-06-05T18:08:38.210Z"
   },
   {
    "duration": 29,
    "start_time": "2024-06-05T18:08:39.383Z"
   },
   {
    "duration": 48,
    "start_time": "2024-06-05T18:08:40.000Z"
   },
   {
    "duration": 10,
    "start_time": "2024-06-05T18:08:42.367Z"
   },
   {
    "duration": 21,
    "start_time": "2024-06-05T18:08:47.753Z"
   },
   {
    "duration": 23,
    "start_time": "2024-06-05T19:18:22.707Z"
   },
   {
    "duration": 1304,
    "start_time": "2024-06-05T19:19:10.717Z"
   },
   {
    "duration": 272,
    "start_time": "2024-06-05T19:23:00.260Z"
   },
   {
    "duration": 15,
    "start_time": "2024-06-05T19:23:03.400Z"
   },
   {
    "duration": 9,
    "start_time": "2024-06-05T19:23:04.040Z"
   },
   {
    "duration": 14,
    "start_time": "2024-06-05T19:23:08.695Z"
   },
   {
    "duration": 8,
    "start_time": "2024-06-05T19:23:09.441Z"
   },
   {
    "duration": 8,
    "start_time": "2024-06-05T19:23:11.272Z"
   },
   {
    "duration": 8,
    "start_time": "2024-06-05T19:23:11.833Z"
   },
   {
    "duration": 6,
    "start_time": "2024-06-05T19:23:13.730Z"
   },
   {
    "duration": 9,
    "start_time": "2024-06-05T19:23:14.476Z"
   },
   {
    "duration": 26,
    "start_time": "2024-06-05T19:23:16.258Z"
   },
   {
    "duration": 7,
    "start_time": "2024-06-05T19:23:16.876Z"
   },
   {
    "duration": 34,
    "start_time": "2024-06-05T19:23:19.179Z"
   },
   {
    "duration": 46,
    "start_time": "2024-06-05T19:23:20.121Z"
   },
   {
    "duration": 10,
    "start_time": "2024-06-05T19:23:58.145Z"
   },
   {
    "duration": 20,
    "start_time": "2024-06-05T19:23:59.848Z"
   },
   {
    "duration": 6,
    "start_time": "2024-06-05T19:24:00.553Z"
   },
   {
    "duration": 24,
    "start_time": "2024-06-05T19:24:39.965Z"
   },
   {
    "duration": 10,
    "start_time": "2024-06-05T19:24:41.020Z"
   },
   {
    "duration": 28,
    "start_time": "2024-06-05T19:24:43.470Z"
   },
   {
    "duration": 31,
    "start_time": "2024-06-05T19:24:44.401Z"
   },
   {
    "duration": 1400,
    "start_time": "2024-06-05T19:25:13.730Z"
   },
   {
    "duration": 273,
    "start_time": "2024-06-05T19:25:16.490Z"
   },
   {
    "duration": 17,
    "start_time": "2024-06-05T19:25:18.418Z"
   },
   {
    "duration": 10,
    "start_time": "2024-06-05T19:25:18.977Z"
   },
   {
    "duration": 14,
    "start_time": "2024-06-05T19:25:23.214Z"
   },
   {
    "duration": 9,
    "start_time": "2024-06-05T19:25:23.306Z"
   },
   {
    "duration": 7,
    "start_time": "2024-06-05T19:25:25.306Z"
   },
   {
    "duration": 7,
    "start_time": "2024-06-05T19:25:25.923Z"
   },
   {
    "duration": 5,
    "start_time": "2024-06-05T19:25:27.507Z"
   },
   {
    "duration": 12,
    "start_time": "2024-06-05T19:25:28.122Z"
   },
   {
    "duration": 25,
    "start_time": "2024-06-05T19:25:29.761Z"
   },
   {
    "duration": 7,
    "start_time": "2024-06-05T19:25:30.355Z"
   },
   {
    "duration": 32,
    "start_time": "2024-06-05T19:25:32.527Z"
   },
   {
    "duration": 47,
    "start_time": "2024-06-05T19:25:33.252Z"
   },
   {
    "duration": 10,
    "start_time": "2024-06-05T19:25:34.408Z"
   },
   {
    "duration": 19,
    "start_time": "2024-06-05T19:25:35.251Z"
   },
   {
    "duration": 6,
    "start_time": "2024-06-05T19:25:37.155Z"
   },
   {
    "duration": 17,
    "start_time": "2024-06-05T19:25:40.082Z"
   },
   {
    "duration": 22,
    "start_time": "2024-06-05T19:25:40.717Z"
   },
   {
    "duration": 32,
    "start_time": "2024-06-05T19:25:43.744Z"
   },
   {
    "duration": 7,
    "start_time": "2024-06-05T19:25:44.210Z"
   },
   {
    "duration": 22,
    "start_time": "2024-06-05T19:25:49.211Z"
   },
   {
    "duration": 53,
    "start_time": "2024-06-05T19:25:54.285Z"
   },
   {
    "duration": 9,
    "start_time": "2024-06-05T19:26:56.148Z"
   },
   {
    "duration": 17,
    "start_time": "2024-06-05T19:42:47.099Z"
   },
   {
    "duration": 1239,
    "start_time": "2024-06-05T19:46:50.077Z"
   },
   {
    "duration": 272,
    "start_time": "2024-06-05T19:46:52.476Z"
   },
   {
    "duration": 16,
    "start_time": "2024-06-05T19:46:54.758Z"
   },
   {
    "duration": 10,
    "start_time": "2024-06-05T19:46:55.332Z"
   },
   {
    "duration": 14,
    "start_time": "2024-06-05T19:46:59.340Z"
   },
   {
    "duration": 12,
    "start_time": "2024-06-05T19:46:59.860Z"
   },
   {
    "duration": 8,
    "start_time": "2024-06-05T19:47:01.752Z"
   },
   {
    "duration": 8,
    "start_time": "2024-06-05T19:47:02.254Z"
   },
   {
    "duration": 5,
    "start_time": "2024-06-05T19:47:03.598Z"
   },
   {
    "duration": 9,
    "start_time": "2024-06-05T19:47:04.077Z"
   },
   {
    "duration": 24,
    "start_time": "2024-06-05T19:47:05.453Z"
   },
   {
    "duration": 6,
    "start_time": "2024-06-05T19:47:05.990Z"
   },
   {
    "duration": 32,
    "start_time": "2024-06-05T19:47:08.157Z"
   },
   {
    "duration": 47,
    "start_time": "2024-06-05T19:47:08.855Z"
   },
   {
    "duration": 11,
    "start_time": "2024-06-05T19:47:10.932Z"
   },
   {
    "duration": 15,
    "start_time": "2024-06-05T19:47:11.516Z"
   },
   {
    "duration": 19,
    "start_time": "2024-06-05T19:47:12.597Z"
   },
   {
    "duration": 7,
    "start_time": "2024-06-05T19:47:13.237Z"
   },
   {
    "duration": 17,
    "start_time": "2024-06-05T19:47:15.709Z"
   },
   {
    "duration": 22,
    "start_time": "2024-06-05T19:47:16.740Z"
   },
   {
    "duration": 26,
    "start_time": "2024-06-05T19:47:20.694Z"
   },
   {
    "duration": 6,
    "start_time": "2024-06-05T19:47:21.526Z"
   },
   {
    "duration": 21,
    "start_time": "2024-06-05T19:47:23.903Z"
   },
   {
    "duration": 52,
    "start_time": "2024-06-05T19:47:24.437Z"
   },
   {
    "duration": 10,
    "start_time": "2024-06-05T19:47:25.948Z"
   },
   {
    "duration": 18,
    "start_time": "2024-06-05T19:47:34.517Z"
   },
   {
    "duration": 26,
    "start_time": "2024-06-05T19:51:34.403Z"
   },
   {
    "duration": 22,
    "start_time": "2024-06-05T20:00:50.370Z"
   },
   {
    "duration": 4888,
    "start_time": "2024-06-06T00:21:43.703Z"
   },
   {
    "duration": 386,
    "start_time": "2024-06-06T00:21:50.208Z"
   },
   {
    "duration": 16,
    "start_time": "2024-06-06T00:23:38.185Z"
   },
   {
    "duration": 9,
    "start_time": "2024-06-06T00:23:40.937Z"
   },
   {
    "duration": 13,
    "start_time": "2024-06-06T00:23:47.886Z"
   },
   {
    "duration": 9,
    "start_time": "2024-06-06T00:23:50.218Z"
   },
   {
    "duration": 8,
    "start_time": "2024-06-06T00:25:01.755Z"
   },
   {
    "duration": 7,
    "start_time": "2024-06-06T00:25:02.484Z"
   },
   {
    "duration": 9,
    "start_time": "2024-06-06T00:25:04.397Z"
   },
   {
    "duration": 9,
    "start_time": "2024-06-06T00:25:05.094Z"
   },
   {
    "duration": 25,
    "start_time": "2024-06-06T00:25:06.523Z"
   },
   {
    "duration": 8,
    "start_time": "2024-06-06T00:25:07.236Z"
   },
   {
    "duration": 34,
    "start_time": "2024-06-06T00:25:09.851Z"
   },
   {
    "duration": 45,
    "start_time": "2024-06-06T00:25:10.867Z"
   },
   {
    "duration": 13,
    "start_time": "2024-06-06T00:25:13.164Z"
   },
   {
    "duration": 15,
    "start_time": "2024-06-06T00:25:16.195Z"
   },
   {
    "duration": 19,
    "start_time": "2024-06-06T00:25:18.115Z"
   },
   {
    "duration": 6,
    "start_time": "2024-06-06T00:25:20.668Z"
   },
   {
    "duration": 19,
    "start_time": "2024-06-06T00:25:33.744Z"
   },
   {
    "duration": 26,
    "start_time": "2024-06-06T00:25:34.380Z"
   },
   {
    "duration": 22,
    "start_time": "2024-06-06T00:25:39.723Z"
   },
   {
    "duration": 8,
    "start_time": "2024-06-06T00:25:40.676Z"
   },
   {
    "duration": 23,
    "start_time": "2024-06-06T00:25:43.637Z"
   },
   {
    "duration": 53,
    "start_time": "2024-06-06T00:25:44.380Z"
   },
   {
    "duration": 10,
    "start_time": "2024-06-06T00:25:46.437Z"
   },
   {
    "duration": 17,
    "start_time": "2024-06-06T00:25:49.397Z"
   },
   {
    "duration": 27,
    "start_time": "2024-06-06T00:25:51.350Z"
   },
   {
    "duration": 21,
    "start_time": "2024-06-06T00:25:52.276Z"
   },
   {
    "duration": 5425,
    "start_time": "2024-06-11T14:49:35.565Z"
   },
   {
    "duration": 410,
    "start_time": "2024-06-11T14:49:43.270Z"
   },
   {
    "duration": 20,
    "start_time": "2024-06-11T14:49:45.904Z"
   },
   {
    "duration": 12,
    "start_time": "2024-06-11T14:49:46.720Z"
   },
   {
    "duration": 18,
    "start_time": "2024-06-11T14:49:56.637Z"
   },
   {
    "duration": 10,
    "start_time": "2024-06-11T14:49:57.308Z"
   },
   {
    "duration": 8,
    "start_time": "2024-06-11T14:50:02.094Z"
   },
   {
    "duration": 11,
    "start_time": "2024-06-11T14:50:03.326Z"
   },
   {
    "duration": 5,
    "start_time": "2024-06-11T14:50:05.120Z"
   },
   {
    "duration": 10,
    "start_time": "2024-06-11T14:50:05.772Z"
   },
   {
    "duration": 28,
    "start_time": "2024-06-11T14:50:07.428Z"
   },
   {
    "duration": 9,
    "start_time": "2024-06-11T14:50:07.981Z"
   },
   {
    "duration": 29,
    "start_time": "2024-06-11T14:50:09.397Z"
   },
   {
    "duration": 47,
    "start_time": "2024-06-11T14:50:09.508Z"
   },
   {
    "duration": 12,
    "start_time": "2024-06-11T14:50:10.695Z"
   },
   {
    "duration": 17,
    "start_time": "2024-06-11T14:50:11.398Z"
   },
   {
    "duration": 22,
    "start_time": "2024-06-11T14:50:12.556Z"
   },
   {
    "duration": 7,
    "start_time": "2024-06-11T14:50:13.168Z"
   },
   {
    "duration": 18,
    "start_time": "2024-06-11T14:50:15.228Z"
   },
   {
    "duration": 22,
    "start_time": "2024-06-11T14:50:15.809Z"
   },
   {
    "duration": 22,
    "start_time": "2024-06-11T14:50:18.652Z"
   },
   {
    "duration": 6,
    "start_time": "2024-06-11T14:50:19.165Z"
   },
   {
    "duration": 24,
    "start_time": "2024-06-11T14:50:20.645Z"
   },
   {
    "duration": 60,
    "start_time": "2024-06-11T14:50:21.132Z"
   },
   {
    "duration": 11,
    "start_time": "2024-06-11T14:50:22.649Z"
   },
   {
    "duration": 17,
    "start_time": "2024-06-11T14:50:32.933Z"
   },
   {
    "duration": 26,
    "start_time": "2024-06-11T14:50:35.701Z"
   },
   {
    "duration": 22,
    "start_time": "2024-06-11T14:50:38.496Z"
   },
   {
    "duration": 1113,
    "start_time": "2024-06-11T15:28:45.410Z"
   },
   {
    "duration": 23,
    "start_time": "2024-06-11T15:29:02.138Z"
   },
   {
    "duration": 84,
    "start_time": "2024-06-11T15:30:16.442Z"
   },
   {
    "duration": 1249,
    "start_time": "2024-06-11T15:30:36.345Z"
   },
   {
    "duration": 264,
    "start_time": "2024-06-11T15:30:37.635Z"
   },
   {
    "duration": 14,
    "start_time": "2024-06-11T15:30:40.571Z"
   },
   {
    "duration": 9,
    "start_time": "2024-06-11T15:30:41.044Z"
   },
   {
    "duration": 14,
    "start_time": "2024-06-11T15:30:44.890Z"
   },
   {
    "duration": 9,
    "start_time": "2024-06-11T15:30:45.390Z"
   },
   {
    "duration": 7,
    "start_time": "2024-06-11T15:30:46.426Z"
   },
   {
    "duration": 9,
    "start_time": "2024-06-11T15:30:46.786Z"
   },
   {
    "duration": 5,
    "start_time": "2024-06-11T15:30:47.427Z"
   },
   {
    "duration": 9,
    "start_time": "2024-06-11T15:30:47.978Z"
   },
   {
    "duration": 25,
    "start_time": "2024-06-11T15:30:49.578Z"
   },
   {
    "duration": 8,
    "start_time": "2024-06-11T15:30:50.146Z"
   },
   {
    "duration": 30,
    "start_time": "2024-06-11T15:30:52.627Z"
   },
   {
    "duration": 46,
    "start_time": "2024-06-11T15:30:53.179Z"
   },
   {
    "duration": 12,
    "start_time": "2024-06-11T15:30:54.900Z"
   },
   {
    "duration": 16,
    "start_time": "2024-06-11T15:30:54.950Z"
   },
   {
    "duration": 22,
    "start_time": "2024-06-11T15:30:56.090Z"
   },
   {
    "duration": 7,
    "start_time": "2024-06-11T15:30:56.162Z"
   },
   {
    "duration": 18,
    "start_time": "2024-06-11T15:30:58.038Z"
   },
   {
    "duration": 29,
    "start_time": "2024-06-11T15:30:59.044Z"
   },
   {
    "duration": 22,
    "start_time": "2024-06-11T15:31:03.084Z"
   },
   {
    "duration": 7,
    "start_time": "2024-06-11T15:31:03.796Z"
   },
   {
    "duration": 23,
    "start_time": "2024-06-11T15:31:06.140Z"
   },
   {
    "duration": 61,
    "start_time": "2024-06-11T15:31:06.804Z"
   },
   {
    "duration": 10,
    "start_time": "2024-06-11T15:31:08.771Z"
   },
   {
    "duration": 16,
    "start_time": "2024-06-11T15:31:11.207Z"
   },
   {
    "duration": 26,
    "start_time": "2024-06-11T15:31:13.234Z"
   },
   {
    "duration": 21,
    "start_time": "2024-06-11T15:31:14.659Z"
   },
   {
    "duration": 1115,
    "start_time": "2024-06-11T15:31:16.288Z"
   },
   {
    "duration": 27,
    "start_time": "2024-06-11T15:33:34.279Z"
   },
   {
    "duration": 27,
    "start_time": "2024-06-11T15:34:11.894Z"
   },
   {
    "duration": 39,
    "start_time": "2024-06-11T15:34:33.400Z"
   },
   {
    "duration": 18,
    "start_time": "2024-06-11T15:34:52.991Z"
   },
   {
    "duration": 315,
    "start_time": "2024-06-13T15:35:44.791Z"
   },
   {
    "duration": 5050,
    "start_time": "2024-06-13T15:35:55.706Z"
   },
   {
    "duration": 375,
    "start_time": "2024-06-13T15:36:02.355Z"
   },
   {
    "duration": 16,
    "start_time": "2024-06-13T15:36:05.264Z"
   },
   {
    "duration": 9,
    "start_time": "2024-06-13T15:36:05.918Z"
   },
   {
    "duration": 18,
    "start_time": "2024-06-13T15:36:09.793Z"
   },
   {
    "duration": 11,
    "start_time": "2024-06-13T15:36:10.336Z"
   },
   {
    "duration": 9,
    "start_time": "2024-06-13T15:36:12.039Z"
   },
   {
    "duration": 9,
    "start_time": "2024-06-13T15:36:12.426Z"
   },
   {
    "duration": 4,
    "start_time": "2024-06-13T15:36:13.683Z"
   },
   {
    "duration": 10,
    "start_time": "2024-06-13T15:36:14.187Z"
   },
   {
    "duration": 24,
    "start_time": "2024-06-13T15:36:15.608Z"
   },
   {
    "duration": 8,
    "start_time": "2024-06-13T15:36:16.070Z"
   },
   {
    "duration": 30,
    "start_time": "2024-06-13T15:36:17.659Z"
   },
   {
    "duration": 47,
    "start_time": "2024-06-13T15:36:18.142Z"
   },
   {
    "duration": 10,
    "start_time": "2024-06-13T15:36:19.571Z"
   },
   {
    "duration": 15,
    "start_time": "2024-06-13T15:36:19.986Z"
   },
   {
    "duration": 21,
    "start_time": "2024-06-13T15:36:20.811Z"
   },
   {
    "duration": 9,
    "start_time": "2024-06-13T15:36:21.251Z"
   },
   {
    "duration": 18,
    "start_time": "2024-06-13T15:36:22.606Z"
   },
   {
    "duration": 26,
    "start_time": "2024-06-13T15:36:23.020Z"
   },
   {
    "duration": 25,
    "start_time": "2024-06-13T15:36:26.267Z"
   },
   {
    "duration": 6,
    "start_time": "2024-06-13T15:36:26.758Z"
   },
   {
    "duration": 23,
    "start_time": "2024-06-13T15:36:28.643Z"
   },
   {
    "duration": 52,
    "start_time": "2024-06-13T15:36:29.140Z"
   },
   {
    "duration": 11,
    "start_time": "2024-06-13T15:36:30.531Z"
   },
   {
    "duration": 16,
    "start_time": "2024-06-13T15:36:33.698Z"
   },
   {
    "duration": 26,
    "start_time": "2024-06-13T15:36:34.802Z"
   },
   {
    "duration": 22,
    "start_time": "2024-06-13T15:36:35.475Z"
   },
   {
    "duration": 30,
    "start_time": "2024-06-13T15:36:36.212Z"
   },
   {
    "duration": 25,
    "start_time": "2024-06-13T15:36:36.967Z"
   },
   {
    "duration": 37,
    "start_time": "2024-06-13T15:36:39.636Z"
   },
   {
    "duration": 16,
    "start_time": "2024-06-13T15:36:40.790Z"
   },
   {
    "duration": 146,
    "start_time": "2024-06-13T15:36:43.495Z"
   },
   {
    "duration": 1314,
    "start_time": "2024-06-13T16:35:39.126Z"
   },
   {
    "duration": 279,
    "start_time": "2024-06-13T16:35:41.597Z"
   },
   {
    "duration": 15,
    "start_time": "2024-06-13T16:35:44.052Z"
   },
   {
    "duration": 11,
    "start_time": "2024-06-13T16:35:44.665Z"
   },
   {
    "duration": 14,
    "start_time": "2024-06-13T16:35:49.208Z"
   },
   {
    "duration": 9,
    "start_time": "2024-06-13T16:35:49.670Z"
   },
   {
    "duration": 8,
    "start_time": "2024-06-13T16:35:51.408Z"
   },
   {
    "duration": 9,
    "start_time": "2024-06-13T16:35:51.853Z"
   },
   {
    "duration": 5,
    "start_time": "2024-06-13T16:35:53.759Z"
   },
   {
    "duration": 9,
    "start_time": "2024-06-13T16:35:54.278Z"
   },
   {
    "duration": 26,
    "start_time": "2024-06-13T16:35:55.554Z"
   },
   {
    "duration": 8,
    "start_time": "2024-06-13T16:35:55.905Z"
   },
   {
    "duration": 30,
    "start_time": "2024-06-13T16:35:57.190Z"
   },
   {
    "duration": 50,
    "start_time": "2024-06-13T16:35:57.725Z"
   },
   {
    "duration": 11,
    "start_time": "2024-06-13T16:35:58.893Z"
   },
   {
    "duration": 15,
    "start_time": "2024-06-13T16:35:59.237Z"
   },
   {
    "duration": 21,
    "start_time": "2024-06-13T16:35:59.945Z"
   },
   {
    "duration": 8,
    "start_time": "2024-06-13T16:36:00.408Z"
   },
   {
    "duration": 18,
    "start_time": "2024-06-13T16:36:01.968Z"
   },
   {
    "duration": 24,
    "start_time": "2024-06-13T16:36:02.420Z"
   },
   {
    "duration": 22,
    "start_time": "2024-06-13T16:36:04.702Z"
   },
   {
    "duration": 7,
    "start_time": "2024-06-13T16:36:05.245Z"
   },
   {
    "duration": 22,
    "start_time": "2024-06-13T16:36:07.071Z"
   },
   {
    "duration": 57,
    "start_time": "2024-06-13T16:36:07.566Z"
   },
   {
    "duration": 11,
    "start_time": "2024-06-13T16:36:09.060Z"
   },
   {
    "duration": 22,
    "start_time": "2024-06-13T16:36:10.641Z"
   },
   {
    "duration": 25,
    "start_time": "2024-06-13T16:36:12.575Z"
   },
   {
    "duration": 23,
    "start_time": "2024-06-13T16:36:13.073Z"
   },
   {
    "duration": 26,
    "start_time": "2024-06-13T16:36:13.711Z"
   },
   {
    "duration": 27,
    "start_time": "2024-06-13T16:36:14.177Z"
   },
   {
    "duration": 32,
    "start_time": "2024-06-13T16:36:15.222Z"
   },
   {
    "duration": 17,
    "start_time": "2024-06-13T16:36:15.887Z"
   },
   {
    "duration": 147,
    "start_time": "2024-06-13T16:36:16.989Z"
   },
   {
    "duration": 510,
    "start_time": "2024-06-13T16:36:19.477Z"
   },
   {
    "duration": 786,
    "start_time": "2024-06-13T16:36:31.275Z"
   },
   {
    "duration": 106,
    "start_time": "2024-06-13T16:38:29.468Z"
   },
   {
    "duration": 1262,
    "start_time": "2024-06-13T17:07:28.262Z"
   },
   {
    "duration": 298,
    "start_time": "2024-06-13T17:07:29.527Z"
   },
   {
    "duration": 21,
    "start_time": "2024-06-13T17:07:29.829Z"
   },
   {
    "duration": 9,
    "start_time": "2024-06-13T17:07:29.855Z"
   },
   {
    "duration": 15,
    "start_time": "2024-06-13T17:07:29.867Z"
   },
   {
    "duration": 48,
    "start_time": "2024-06-13T17:07:29.885Z"
   },
   {
    "duration": 9,
    "start_time": "2024-06-13T17:07:29.937Z"
   },
   {
    "duration": 8,
    "start_time": "2024-06-13T17:07:29.949Z"
   },
   {
    "duration": 5,
    "start_time": "2024-06-13T17:07:29.960Z"
   },
   {
    "duration": 9,
    "start_time": "2024-06-13T17:07:29.971Z"
   },
   {
    "duration": 28,
    "start_time": "2024-06-13T17:07:30.024Z"
   },
   {
    "duration": 7,
    "start_time": "2024-06-13T17:07:30.055Z"
   },
   {
    "duration": 64,
    "start_time": "2024-06-13T17:07:30.065Z"
   },
   {
    "duration": 47,
    "start_time": "2024-06-13T17:07:30.132Z"
   },
   {
    "duration": 10,
    "start_time": "2024-06-13T17:07:30.182Z"
   },
   {
    "duration": 39,
    "start_time": "2024-06-13T17:07:30.195Z"
   },
   {
    "duration": 20,
    "start_time": "2024-06-13T17:07:30.237Z"
   },
   {
    "duration": 7,
    "start_time": "2024-06-13T17:07:30.260Z"
   },
   {
    "duration": 55,
    "start_time": "2024-06-13T17:07:30.270Z"
   },
   {
    "duration": 22,
    "start_time": "2024-06-13T17:07:30.328Z"
   },
   {
    "duration": 23,
    "start_time": "2024-06-13T17:07:30.353Z"
   },
   {
    "duration": 21,
    "start_time": "2024-06-13T17:07:30.379Z"
   },
   {
    "duration": 25,
    "start_time": "2024-06-13T17:07:30.424Z"
   },
   {
    "duration": 78,
    "start_time": "2024-06-13T17:07:30.452Z"
   },
   {
    "duration": 11,
    "start_time": "2024-06-13T17:07:30.533Z"
   },
   {
    "duration": 17,
    "start_time": "2024-06-13T17:07:30.547Z"
   },
   {
    "duration": 60,
    "start_time": "2024-06-13T17:07:30.567Z"
   },
   {
    "duration": 22,
    "start_time": "2024-06-13T17:07:30.636Z"
   },
   {
    "duration": 26,
    "start_time": "2024-06-13T17:07:30.660Z"
   },
   {
    "duration": 57,
    "start_time": "2024-06-13T17:07:30.690Z"
   },
   {
    "duration": 35,
    "start_time": "2024-06-13T17:07:30.749Z"
   },
   {
    "duration": 45,
    "start_time": "2024-06-13T17:07:30.787Z"
   },
   {
    "duration": 163,
    "start_time": "2024-06-13T17:07:30.835Z"
   },
   {
    "duration": 3,
    "start_time": "2024-06-13T17:07:31.001Z"
   },
   {
    "duration": 4,
    "start_time": "2024-06-13T17:07:31.023Z"
   },
   {
    "duration": 4,
    "start_time": "2024-06-13T17:07:31.030Z"
   },
   {
    "duration": 4,
    "start_time": "2024-06-13T17:07:31.037Z"
   },
   {
    "duration": 4,
    "start_time": "2024-06-13T17:07:31.044Z"
   },
   {
    "duration": 3,
    "start_time": "2024-06-13T17:07:31.052Z"
   },
   {
    "duration": 3,
    "start_time": "2024-06-13T17:07:31.059Z"
   },
   {
    "duration": 57,
    "start_time": "2024-06-13T17:07:31.066Z"
   },
   {
    "duration": 4992,
    "start_time": "2024-06-13T21:50:57.036Z"
   },
   {
    "duration": 352,
    "start_time": "2024-06-13T21:51:05.219Z"
   },
   {
    "duration": 16,
    "start_time": "2024-06-13T21:51:10.282Z"
   },
   {
    "duration": 9,
    "start_time": "2024-06-13T21:51:11.183Z"
   },
   {
    "duration": 15,
    "start_time": "2024-06-13T21:51:15.250Z"
   },
   {
    "duration": 10,
    "start_time": "2024-06-13T21:51:15.766Z"
   },
   {
    "duration": 8,
    "start_time": "2024-06-13T21:51:17.490Z"
   },
   {
    "duration": 8,
    "start_time": "2024-06-13T21:51:17.940Z"
   },
   {
    "duration": 5,
    "start_time": "2024-06-13T21:51:19.342Z"
   },
   {
    "duration": 10,
    "start_time": "2024-06-13T21:51:19.642Z"
   },
   {
    "duration": 25,
    "start_time": "2024-06-13T21:51:20.582Z"
   },
   {
    "duration": 7,
    "start_time": "2024-06-13T21:51:20.842Z"
   },
   {
    "duration": 30,
    "start_time": "2024-06-13T21:51:21.915Z"
   },
   {
    "duration": 47,
    "start_time": "2024-06-13T21:51:22.154Z"
   },
   {
    "duration": 10,
    "start_time": "2024-06-13T21:51:22.941Z"
   },
   {
    "duration": 14,
    "start_time": "2024-06-13T21:51:23.194Z"
   },
   {
    "duration": 20,
    "start_time": "2024-06-13T21:51:23.754Z"
   },
   {
    "duration": 6,
    "start_time": "2024-06-13T21:51:24.026Z"
   },
   {
    "duration": 17,
    "start_time": "2024-06-13T21:51:25.250Z"
   },
   {
    "duration": 23,
    "start_time": "2024-06-13T21:51:25.513Z"
   },
   {
    "duration": 23,
    "start_time": "2024-06-13T21:51:26.938Z"
   },
   {
    "duration": 7,
    "start_time": "2024-06-13T21:51:27.329Z"
   },
   {
    "duration": 22,
    "start_time": "2024-06-13T21:51:28.858Z"
   },
   {
    "duration": 54,
    "start_time": "2024-06-13T21:51:29.162Z"
   },
   {
    "duration": 10,
    "start_time": "2024-06-13T21:51:30.596Z"
   },
   {
    "duration": 17,
    "start_time": "2024-06-13T21:51:32.062Z"
   },
   {
    "duration": 26,
    "start_time": "2024-06-13T21:51:33.183Z"
   },
   {
    "duration": 20,
    "start_time": "2024-06-13T21:51:33.660Z"
   },
   {
    "duration": 25,
    "start_time": "2024-06-13T21:51:34.139Z"
   },
   {
    "duration": 26,
    "start_time": "2024-06-13T21:51:34.648Z"
   },
   {
    "duration": 38,
    "start_time": "2024-06-13T21:51:35.975Z"
   },
   {
    "duration": 15,
    "start_time": "2024-06-13T21:51:36.453Z"
   },
   {
    "duration": 161,
    "start_time": "2024-06-13T21:51:38.089Z"
   },
   {
    "duration": 4922,
    "start_time": "2024-06-13T22:22:09.760Z"
   },
   {
    "duration": 376,
    "start_time": "2024-06-13T22:22:34.044Z"
   },
   {
    "duration": 15,
    "start_time": "2024-06-13T22:22:37.857Z"
   },
   {
    "duration": 10,
    "start_time": "2024-06-13T22:22:38.596Z"
   },
   {
    "duration": 15,
    "start_time": "2024-06-13T22:22:43.154Z"
   },
   {
    "duration": 8,
    "start_time": "2024-06-13T22:22:43.762Z"
   },
   {
    "duration": 8,
    "start_time": "2024-06-13T22:22:45.640Z"
   },
   {
    "duration": 10,
    "start_time": "2024-06-13T22:22:46.149Z"
   },
   {
    "duration": 5,
    "start_time": "2024-06-13T22:22:47.746Z"
   },
   {
    "duration": 9,
    "start_time": "2024-06-13T22:22:48.701Z"
   },
   {
    "duration": 25,
    "start_time": "2024-06-13T22:22:51.426Z"
   },
   {
    "duration": 7,
    "start_time": "2024-06-13T22:22:52.097Z"
   },
   {
    "duration": 30,
    "start_time": "2024-06-13T22:22:54.331Z"
   },
   {
    "duration": 48,
    "start_time": "2024-06-13T22:22:54.955Z"
   },
   {
    "duration": 9,
    "start_time": "2024-06-13T22:22:56.810Z"
   },
   {
    "duration": 14,
    "start_time": "2024-06-13T22:22:57.424Z"
   },
   {
    "duration": 21,
    "start_time": "2024-06-13T22:22:58.528Z"
   },
   {
    "duration": 6,
    "start_time": "2024-06-13T22:22:59.256Z"
   },
   {
    "duration": 17,
    "start_time": "2024-06-13T22:23:01.879Z"
   },
   {
    "duration": 23,
    "start_time": "2024-06-13T22:23:05.294Z"
   },
   {
    "duration": 22,
    "start_time": "2024-06-13T22:23:09.273Z"
   },
   {
    "duration": 8,
    "start_time": "2024-06-13T22:23:09.895Z"
   },
   {
    "duration": 22,
    "start_time": "2024-06-13T22:23:12.527Z"
   },
   {
    "duration": 53,
    "start_time": "2024-06-13T22:23:13.156Z"
   },
   {
    "duration": 11,
    "start_time": "2024-06-13T22:23:14.912Z"
   },
   {
    "duration": 17,
    "start_time": "2024-06-13T22:23:16.701Z"
   },
   {
    "duration": 27,
    "start_time": "2024-06-13T22:23:18.040Z"
   },
   {
    "duration": 21,
    "start_time": "2024-06-13T22:23:18.707Z"
   },
   {
    "duration": 25,
    "start_time": "2024-06-13T22:23:19.427Z"
   },
   {
    "duration": 26,
    "start_time": "2024-06-13T22:23:20.162Z"
   },
   {
    "duration": 33,
    "start_time": "2024-06-13T22:23:21.548Z"
   },
   {
    "duration": 16,
    "start_time": "2024-06-13T22:23:22.190Z"
   },
   {
    "duration": 160,
    "start_time": "2024-06-13T22:23:23.721Z"
   },
   {
    "duration": 443,
    "start_time": "2024-06-13T23:16:15.434Z"
   },
   {
    "duration": 438,
    "start_time": "2024-06-13T23:18:08.596Z"
   },
   {
    "duration": 12,
    "start_time": "2024-06-13T23:18:59.593Z"
   },
   {
    "duration": 250,
    "start_time": "2024-06-13T23:19:30.543Z"
   },
   {
    "duration": 4972,
    "start_time": "2024-06-15T00:37:54.580Z"
   },
   {
    "duration": 373,
    "start_time": "2024-06-15T00:37:59.555Z"
   },
   {
    "duration": 17,
    "start_time": "2024-06-15T00:38:02.729Z"
   },
   {
    "duration": 9,
    "start_time": "2024-06-15T00:38:03.358Z"
   },
   {
    "duration": 15,
    "start_time": "2024-06-15T00:38:06.445Z"
   },
   {
    "duration": 10,
    "start_time": "2024-06-15T00:38:06.699Z"
   },
   {
    "duration": 8,
    "start_time": "2024-06-15T00:38:07.741Z"
   },
   {
    "duration": 9,
    "start_time": "2024-06-15T00:38:07.963Z"
   },
   {
    "duration": 4,
    "start_time": "2024-06-15T00:38:08.638Z"
   },
   {
    "duration": 11,
    "start_time": "2024-06-15T00:38:08.855Z"
   },
   {
    "duration": 26,
    "start_time": "2024-06-15T00:38:09.539Z"
   },
   {
    "duration": 8,
    "start_time": "2024-06-15T00:38:09.769Z"
   },
   {
    "duration": 33,
    "start_time": "2024-06-15T00:38:10.669Z"
   },
   {
    "duration": 47,
    "start_time": "2024-06-15T00:38:10.895Z"
   },
   {
    "duration": 11,
    "start_time": "2024-06-15T00:38:11.659Z"
   },
   {
    "duration": 14,
    "start_time": "2024-06-15T00:38:11.902Z"
   },
   {
    "duration": 20,
    "start_time": "2024-06-15T00:38:12.552Z"
   },
   {
    "duration": 6,
    "start_time": "2024-06-15T00:38:12.780Z"
   },
   {
    "duration": 16,
    "start_time": "2024-06-15T00:38:14.414Z"
   },
   {
    "duration": 22,
    "start_time": "2024-06-15T00:38:14.884Z"
   },
   {
    "duration": 21,
    "start_time": "2024-06-15T00:38:17.787Z"
   },
   {
    "duration": 8,
    "start_time": "2024-06-15T00:38:18.166Z"
   },
   {
    "duration": 22,
    "start_time": "2024-06-15T00:38:20.693Z"
   },
   {
    "duration": 56,
    "start_time": "2024-06-15T00:38:21.293Z"
   },
   {
    "duration": 9,
    "start_time": "2024-06-15T00:38:23.350Z"
   },
   {
    "duration": 19,
    "start_time": "2024-06-15T00:38:25.099Z"
   },
   {
    "duration": 44,
    "start_time": "2024-06-15T00:38:26.297Z"
   },
   {
    "duration": 29,
    "start_time": "2024-06-15T00:38:26.909Z"
   },
   {
    "duration": 27,
    "start_time": "2024-06-15T00:38:27.562Z"
   },
   {
    "duration": 34,
    "start_time": "2024-06-15T00:38:28.262Z"
   },
   {
    "duration": 33,
    "start_time": "2024-06-15T00:38:29.621Z"
   },
   {
    "duration": 16,
    "start_time": "2024-06-15T00:38:30.291Z"
   },
   {
    "duration": 174,
    "start_time": "2024-06-15T00:38:31.570Z"
   },
   {
    "duration": 444,
    "start_time": "2024-06-15T00:38:34.313Z"
   },
   {
    "duration": 497,
    "start_time": "2024-06-15T00:38:35.976Z"
   },
   {
    "duration": 11,
    "start_time": "2024-06-15T00:38:38.536Z"
   },
   {
    "duration": 235,
    "start_time": "2024-06-15T00:38:39.534Z"
   },
   {
    "duration": 5032,
    "start_time": "2024-06-18T16:56:44.740Z"
   },
   {
    "duration": 349,
    "start_time": "2024-06-18T16:56:51.270Z"
   },
   {
    "duration": 16,
    "start_time": "2024-06-18T16:56:53.791Z"
   },
   {
    "duration": 9,
    "start_time": "2024-06-18T16:56:54.358Z"
   },
   {
    "duration": 14,
    "start_time": "2024-06-18T16:56:58.022Z"
   },
   {
    "duration": 9,
    "start_time": "2024-06-18T16:56:58.366Z"
   },
   {
    "duration": 7,
    "start_time": "2024-06-18T16:56:59.671Z"
   },
   {
    "duration": 7,
    "start_time": "2024-06-18T16:56:59.981Z"
   },
   {
    "duration": 5,
    "start_time": "2024-06-18T16:57:00.829Z"
   },
   {
    "duration": 10,
    "start_time": "2024-06-18T16:57:01.101Z"
   },
   {
    "duration": 25,
    "start_time": "2024-06-18T16:57:02.085Z"
   },
   {
    "duration": 8,
    "start_time": "2024-06-18T16:57:02.413Z"
   },
   {
    "duration": 30,
    "start_time": "2024-06-18T16:57:03.814Z"
   },
   {
    "duration": 48,
    "start_time": "2024-06-18T16:57:04.317Z"
   },
   {
    "duration": 10,
    "start_time": "2024-06-18T16:57:05.349Z"
   },
   {
    "duration": 15,
    "start_time": "2024-06-18T16:57:05.661Z"
   },
   {
    "duration": 21,
    "start_time": "2024-06-18T16:57:06.391Z"
   },
   {
    "duration": 7,
    "start_time": "2024-06-18T16:57:06.847Z"
   },
   {
    "duration": 21,
    "start_time": "2024-06-18T16:57:09.286Z"
   },
   {
    "duration": 22,
    "start_time": "2024-06-18T16:57:09.877Z"
   },
   {
    "duration": 23,
    "start_time": "2024-06-18T16:57:12.317Z"
   },
   {
    "duration": 6,
    "start_time": "2024-06-18T16:57:12.910Z"
   },
   {
    "duration": 27,
    "start_time": "2024-06-18T16:57:15.141Z"
   },
   {
    "duration": 53,
    "start_time": "2024-06-18T16:57:15.567Z"
   },
   {
    "duration": 10,
    "start_time": "2024-06-18T16:57:18.830Z"
   },
   {
    "duration": 19,
    "start_time": "2024-06-18T16:57:21.038Z"
   },
   {
    "duration": 26,
    "start_time": "2024-06-18T16:57:22.382Z"
   },
   {
    "duration": 23,
    "start_time": "2024-06-18T16:57:22.926Z"
   },
   {
    "duration": 25,
    "start_time": "2024-06-18T16:57:23.550Z"
   },
   {
    "duration": 27,
    "start_time": "2024-06-18T16:57:24.160Z"
   },
   {
    "duration": 34,
    "start_time": "2024-06-18T16:57:25.430Z"
   },
   {
    "duration": 34,
    "start_time": "2024-06-18T16:57:26.622Z"
   },
   {
    "duration": 210,
    "start_time": "2024-06-18T16:57:28.684Z"
   },
   {
    "duration": 449,
    "start_time": "2024-06-18T16:57:40.831Z"
   },
   {
    "duration": 482,
    "start_time": "2024-06-18T16:57:42.487Z"
   },
   {
    "duration": 13,
    "start_time": "2024-06-18T16:58:03.830Z"
   },
   {
    "duration": 234,
    "start_time": "2024-06-18T17:00:51.879Z"
   },
   {
    "duration": 5018,
    "start_time": "2024-06-20T20:56:55.503Z"
   },
   {
    "duration": 402,
    "start_time": "2024-06-20T20:57:00.524Z"
   },
   {
    "duration": 17,
    "start_time": "2024-06-20T20:57:00.928Z"
   },
   {
    "duration": 11,
    "start_time": "2024-06-20T20:57:00.950Z"
   },
   {
    "duration": 15,
    "start_time": "2024-06-20T20:57:04.016Z"
   },
   {
    "duration": 9,
    "start_time": "2024-06-20T20:57:04.498Z"
   },
   {
    "duration": 8,
    "start_time": "2024-06-20T20:57:06.361Z"
   },
   {
    "duration": 9,
    "start_time": "2024-06-20T20:57:06.909Z"
   },
   {
    "duration": 5,
    "start_time": "2024-06-20T20:57:08.676Z"
   },
   {
    "duration": 10,
    "start_time": "2024-06-20T20:57:09.386Z"
   },
   {
    "duration": 32,
    "start_time": "2024-06-20T20:57:11.337Z"
   },
   {
    "duration": 7,
    "start_time": "2024-06-20T20:57:12.102Z"
   },
   {
    "duration": 30,
    "start_time": "2024-06-20T20:57:14.041Z"
   },
   {
    "duration": 48,
    "start_time": "2024-06-20T20:57:15.070Z"
   },
   {
    "duration": 11,
    "start_time": "2024-06-20T20:57:15.274Z"
   },
   {
    "duration": 19,
    "start_time": "2024-06-20T20:57:15.627Z"
   },
   {
    "duration": 21,
    "start_time": "2024-06-20T20:57:16.282Z"
   },
   {
    "duration": 12,
    "start_time": "2024-06-20T20:57:16.616Z"
   },
   {
    "duration": 18,
    "start_time": "2024-06-20T20:57:18.218Z"
   },
   {
    "duration": 29,
    "start_time": "2024-06-20T20:57:18.522Z"
   },
   {
    "duration": 23,
    "start_time": "2024-06-20T20:57:20.206Z"
   },
   {
    "duration": 9,
    "start_time": "2024-06-20T20:57:20.278Z"
   },
   {
    "duration": 23,
    "start_time": "2024-06-20T20:57:21.558Z"
   },
   {
    "duration": 59,
    "start_time": "2024-06-20T20:57:21.820Z"
   },
   {
    "duration": 12,
    "start_time": "2024-06-20T20:57:22.738Z"
   },
   {
    "duration": 18,
    "start_time": "2024-06-20T20:57:23.483Z"
   },
   {
    "duration": 28,
    "start_time": "2024-06-20T20:57:23.977Z"
   },
   {
    "duration": 27,
    "start_time": "2024-06-20T20:57:24.269Z"
   },
   {
    "duration": 25,
    "start_time": "2024-06-20T20:57:24.514Z"
   },
   {
    "duration": 26,
    "start_time": "2024-06-20T20:57:24.985Z"
   },
   {
    "duration": 44,
    "start_time": "2024-06-20T20:57:25.333Z"
   },
   {
    "duration": 16,
    "start_time": "2024-06-20T20:57:25.844Z"
   },
   {
    "duration": 147,
    "start_time": "2024-06-20T20:57:26.268Z"
   },
   {
    "duration": 447,
    "start_time": "2024-06-20T20:57:27.458Z"
   },
   {
    "duration": 453,
    "start_time": "2024-06-20T20:57:27.909Z"
   },
   {
    "duration": 12,
    "start_time": "2024-06-20T20:57:28.609Z"
   },
   {
    "duration": 234,
    "start_time": "2024-06-20T20:57:29.122Z"
   },
   {
    "duration": 4877,
    "start_time": "2024-06-21T21:28:45.278Z"
   },
   {
    "duration": 388,
    "start_time": "2024-06-21T21:28:51.456Z"
   },
   {
    "duration": 16,
    "start_time": "2024-06-21T21:28:54.135Z"
   },
   {
    "duration": 10,
    "start_time": "2024-06-21T21:28:54.990Z"
   },
   {
    "duration": 14,
    "start_time": "2024-06-21T21:28:58.113Z"
   },
   {
    "duration": 8,
    "start_time": "2024-06-21T21:28:58.365Z"
   },
   {
    "duration": 8,
    "start_time": "2024-06-21T21:28:59.416Z"
   },
   {
    "duration": 18,
    "start_time": "2024-06-21T21:28:59.688Z"
   },
   {
    "duration": 5,
    "start_time": "2024-06-21T21:29:00.777Z"
   },
   {
    "duration": 11,
    "start_time": "2024-06-21T21:29:01.293Z"
   },
   {
    "duration": 26,
    "start_time": "2024-06-21T21:29:02.466Z"
   },
   {
    "duration": 7,
    "start_time": "2024-06-21T21:29:02.914Z"
   },
   {
    "duration": 30,
    "start_time": "2024-06-21T21:29:04.463Z"
   },
   {
    "duration": 46,
    "start_time": "2024-06-21T21:29:04.766Z"
   },
   {
    "duration": 11,
    "start_time": "2024-06-21T21:29:05.648Z"
   },
   {
    "duration": 14,
    "start_time": "2024-06-21T21:29:05.956Z"
   },
   {
    "duration": 18,
    "start_time": "2024-06-21T21:29:06.623Z"
   },
   {
    "duration": 8,
    "start_time": "2024-06-21T21:29:06.960Z"
   },
   {
    "duration": 18,
    "start_time": "2024-06-21T21:29:08.372Z"
   },
   {
    "duration": 22,
    "start_time": "2024-06-21T21:29:08.514Z"
   },
   {
    "duration": 22,
    "start_time": "2024-06-21T21:29:10.171Z"
   },
   {
    "duration": 7,
    "start_time": "2024-06-21T21:29:10.491Z"
   },
   {
    "duration": 23,
    "start_time": "2024-06-21T21:29:11.583Z"
   },
   {
    "duration": 52,
    "start_time": "2024-06-21T21:29:11.910Z"
   },
   {
    "duration": 10,
    "start_time": "2024-06-21T21:29:12.988Z"
   },
   {
    "duration": 17,
    "start_time": "2024-06-21T21:29:14.383Z"
   },
   {
    "duration": 25,
    "start_time": "2024-06-21T21:29:15.014Z"
   },
   {
    "duration": 21,
    "start_time": "2024-06-21T21:29:15.085Z"
   },
   {
    "duration": 25,
    "start_time": "2024-06-21T21:29:15.514Z"
   },
   {
    "duration": 26,
    "start_time": "2024-06-21T21:29:15.887Z"
   },
   {
    "duration": 44,
    "start_time": "2024-06-21T21:29:16.636Z"
   },
   {
    "duration": 16,
    "start_time": "2024-06-21T21:29:16.945Z"
   },
   {
    "duration": 161,
    "start_time": "2024-06-21T21:29:17.731Z"
   },
   {
    "duration": 452,
    "start_time": "2024-06-21T21:29:19.301Z"
   },
   {
    "duration": 475,
    "start_time": "2024-06-21T21:29:19.795Z"
   },
   {
    "duration": 11,
    "start_time": "2024-06-21T21:29:20.888Z"
   },
   {
    "duration": 231,
    "start_time": "2024-06-21T21:29:22.468Z"
   },
   {
    "duration": 477,
    "start_time": "2024-06-21T21:30:44.020Z"
   },
   {
    "duration": 29,
    "start_time": "2024-06-21T21:31:38.685Z"
   },
   {
    "duration": 737,
    "start_time": "2024-06-21T21:33:02.397Z"
   },
   {
    "duration": 3,
    "start_time": "2024-06-21T21:33:28.789Z"
   },
   {
    "duration": 811,
    "start_time": "2024-06-21T21:50:04.763Z"
   },
   {
    "duration": 1237,
    "start_time": "2024-06-21T21:50:15.170Z"
   },
   {
    "duration": 301,
    "start_time": "2024-06-21T21:50:16.410Z"
   },
   {
    "duration": 20,
    "start_time": "2024-06-21T21:50:16.714Z"
   },
   {
    "duration": 13,
    "start_time": "2024-06-21T21:50:16.736Z"
   },
   {
    "duration": 14,
    "start_time": "2024-06-21T21:50:16.755Z"
   },
   {
    "duration": 9,
    "start_time": "2024-06-21T21:50:16.775Z"
   },
   {
    "duration": 9,
    "start_time": "2024-06-21T21:50:16.824Z"
   },
   {
    "duration": 10,
    "start_time": "2024-06-21T21:50:16.836Z"
   },
   {
    "duration": 4,
    "start_time": "2024-06-21T21:50:16.849Z"
   },
   {
    "duration": 10,
    "start_time": "2024-06-21T21:50:16.857Z"
   },
   {
    "duration": 70,
    "start_time": "2024-06-21T21:50:16.870Z"
   },
   {
    "duration": 8,
    "start_time": "2024-06-21T21:50:16.942Z"
   },
   {
    "duration": 30,
    "start_time": "2024-06-21T21:50:16.953Z"
   },
   {
    "duration": 75,
    "start_time": "2024-06-21T21:50:16.990Z"
   },
   {
    "duration": 11,
    "start_time": "2024-06-21T21:50:17.067Z"
   },
   {
    "duration": 47,
    "start_time": "2024-06-21T21:50:17.080Z"
   },
   {
    "duration": 20,
    "start_time": "2024-06-21T21:50:17.130Z"
   },
   {
    "duration": 7,
    "start_time": "2024-06-21T21:50:17.153Z"
   },
   {
    "duration": 18,
    "start_time": "2024-06-21T21:50:17.163Z"
   },
   {
    "duration": 56,
    "start_time": "2024-06-21T21:50:17.184Z"
   },
   {
    "duration": 27,
    "start_time": "2024-06-21T21:50:17.243Z"
   },
   {
    "duration": 11,
    "start_time": "2024-06-21T21:50:17.273Z"
   },
   {
    "duration": 26,
    "start_time": "2024-06-21T21:50:17.322Z"
   },
   {
    "duration": 74,
    "start_time": "2024-06-21T21:50:17.354Z"
   },
   {
    "duration": 14,
    "start_time": "2024-06-21T21:50:17.431Z"
   },
   {
    "duration": 17,
    "start_time": "2024-06-21T21:50:17.448Z"
   },
   {
    "duration": 60,
    "start_time": "2024-06-21T21:50:17.468Z"
   },
   {
    "duration": 21,
    "start_time": "2024-06-21T21:50:17.531Z"
   },
   {
    "duration": 25,
    "start_time": "2024-06-21T21:50:17.555Z"
   },
   {
    "duration": 53,
    "start_time": "2024-06-21T21:50:17.584Z"
   },
   {
    "duration": 34,
    "start_time": "2024-06-21T21:50:17.640Z"
   },
   {
    "duration": 45,
    "start_time": "2024-06-21T21:50:17.679Z"
   },
   {
    "duration": 164,
    "start_time": "2024-06-21T21:50:17.727Z"
   },
   {
    "duration": 455,
    "start_time": "2024-06-21T21:50:17.894Z"
   },
   {
    "duration": 531,
    "start_time": "2024-06-21T21:50:18.352Z"
   },
   {
    "duration": 12,
    "start_time": "2024-06-21T21:50:18.886Z"
   },
   {
    "duration": 242,
    "start_time": "2024-06-21T21:50:18.922Z"
   },
   {
    "duration": 4,
    "start_time": "2024-06-21T21:50:19.167Z"
   },
   {
    "duration": 4,
    "start_time": "2024-06-21T21:50:19.174Z"
   },
   {
    "duration": 3,
    "start_time": "2024-06-21T21:50:19.181Z"
   },
   {
    "duration": 4,
    "start_time": "2024-06-21T21:50:19.222Z"
   },
   {
    "duration": 1190,
    "start_time": "2024-06-21T22:27:17.058Z"
   },
   {
    "duration": 1228,
    "start_time": "2024-06-21T23:18:53.182Z"
   },
   {
    "duration": 271,
    "start_time": "2024-06-21T23:18:54.414Z"
   },
   {
    "duration": 17,
    "start_time": "2024-06-21T23:18:54.689Z"
   },
   {
    "duration": 20,
    "start_time": "2024-06-21T23:18:54.711Z"
   },
   {
    "duration": 19,
    "start_time": "2024-06-21T23:18:54.734Z"
   },
   {
    "duration": 9,
    "start_time": "2024-06-21T23:18:54.757Z"
   },
   {
    "duration": 52,
    "start_time": "2024-06-21T23:18:54.770Z"
   },
   {
    "duration": 9,
    "start_time": "2024-06-21T23:18:54.825Z"
   },
   {
    "duration": 5,
    "start_time": "2024-06-21T23:18:54.837Z"
   },
   {
    "duration": 10,
    "start_time": "2024-06-21T23:18:54.849Z"
   },
   {
    "duration": 63,
    "start_time": "2024-06-21T23:18:54.862Z"
   },
   {
    "duration": 7,
    "start_time": "2024-06-21T23:18:54.928Z"
   },
   {
    "duration": 30,
    "start_time": "2024-06-21T23:18:54.939Z"
   },
   {
    "duration": 83,
    "start_time": "2024-06-21T23:18:54.972Z"
   },
   {
    "duration": 11,
    "start_time": "2024-06-21T23:18:55.058Z"
   },
   {
    "duration": 15,
    "start_time": "2024-06-21T23:18:55.071Z"
   },
   {
    "duration": 48,
    "start_time": "2024-06-21T23:18:55.089Z"
   },
   {
    "duration": 6,
    "start_time": "2024-06-21T23:18:55.140Z"
   },
   {
    "duration": 18,
    "start_time": "2024-06-21T23:18:55.150Z"
   },
   {
    "duration": 59,
    "start_time": "2024-06-21T23:18:55.170Z"
   },
   {
    "duration": 22,
    "start_time": "2024-06-21T23:18:55.232Z"
   },
   {
    "duration": 8,
    "start_time": "2024-06-21T23:18:55.256Z"
   },
   {
    "duration": 56,
    "start_time": "2024-06-21T23:18:55.266Z"
   },
   {
    "duration": 52,
    "start_time": "2024-06-21T23:18:55.325Z"
   },
   {
    "duration": 9,
    "start_time": "2024-06-21T23:18:55.380Z"
   },
   {
    "duration": 46,
    "start_time": "2024-06-21T23:18:55.392Z"
   },
   {
    "duration": 26,
    "start_time": "2024-06-21T23:18:55.441Z"
   },
   {
    "duration": 54,
    "start_time": "2024-06-21T23:18:55.474Z"
   },
   {
    "duration": 25,
    "start_time": "2024-06-21T23:18:55.530Z"
   },
   {
    "duration": 27,
    "start_time": "2024-06-21T23:18:55.558Z"
   },
   {
    "duration": 63,
    "start_time": "2024-06-21T23:18:55.588Z"
   },
   {
    "duration": 17,
    "start_time": "2024-06-21T23:18:55.654Z"
   },
   {
    "duration": 177,
    "start_time": "2024-06-21T23:18:55.673Z"
   },
   {
    "duration": 471,
    "start_time": "2024-06-21T23:18:55.854Z"
   },
   {
    "duration": 514,
    "start_time": "2024-06-21T23:18:56.328Z"
   },
   {
    "duration": 11,
    "start_time": "2024-06-21T23:18:56.844Z"
   },
   {
    "duration": 270,
    "start_time": "2024-06-21T23:18:56.858Z"
   },
   {
    "duration": 3,
    "start_time": "2024-06-21T23:18:57.132Z"
   },
   {
    "duration": 3,
    "start_time": "2024-06-21T23:18:57.139Z"
   },
   {
    "duration": 3,
    "start_time": "2024-06-21T23:18:57.146Z"
   },
   {
    "duration": 3,
    "start_time": "2024-06-21T23:18:57.153Z"
   },
   {
    "duration": 420,
    "start_time": "2024-06-21T23:21:01.906Z"
   },
   {
    "duration": 528,
    "start_time": "2024-06-21T23:36:56.863Z"
   },
   {
    "duration": 441,
    "start_time": "2024-06-21T23:37:08.326Z"
   },
   {
    "duration": 1276,
    "start_time": "2024-06-21T23:37:16.028Z"
   },
   {
    "duration": 282,
    "start_time": "2024-06-21T23:37:17.308Z"
   },
   {
    "duration": 16,
    "start_time": "2024-06-21T23:37:17.593Z"
   },
   {
    "duration": 10,
    "start_time": "2024-06-21T23:37:17.624Z"
   },
   {
    "duration": 15,
    "start_time": "2024-06-21T23:37:17.641Z"
   },
   {
    "duration": 9,
    "start_time": "2024-06-21T23:37:17.659Z"
   },
   {
    "duration": 52,
    "start_time": "2024-06-21T23:37:17.671Z"
   },
   {
    "duration": 9,
    "start_time": "2024-06-21T23:37:17.726Z"
   },
   {
    "duration": 5,
    "start_time": "2024-06-21T23:37:17.738Z"
   },
   {
    "duration": 12,
    "start_time": "2024-06-21T23:37:17.746Z"
   },
   {
    "duration": 65,
    "start_time": "2024-06-21T23:37:17.761Z"
   },
   {
    "duration": 7,
    "start_time": "2024-06-21T23:37:17.829Z"
   },
   {
    "duration": 31,
    "start_time": "2024-06-21T23:37:17.840Z"
   },
   {
    "duration": 77,
    "start_time": "2024-06-21T23:37:17.878Z"
   },
   {
    "duration": 10,
    "start_time": "2024-06-21T23:37:17.958Z"
   },
   {
    "duration": 15,
    "start_time": "2024-06-21T23:37:17.971Z"
   },
   {
    "duration": 50,
    "start_time": "2024-06-21T23:37:17.989Z"
   },
   {
    "duration": 7,
    "start_time": "2024-06-21T23:37:18.041Z"
   },
   {
    "duration": 18,
    "start_time": "2024-06-21T23:37:18.052Z"
   },
   {
    "duration": 63,
    "start_time": "2024-06-21T23:37:18.073Z"
   },
   {
    "duration": 25,
    "start_time": "2024-06-21T23:37:18.139Z"
   },
   {
    "duration": 9,
    "start_time": "2024-06-21T23:37:18.166Z"
   },
   {
    "duration": 56,
    "start_time": "2024-06-21T23:37:18.179Z"
   },
   {
    "duration": 59,
    "start_time": "2024-06-21T23:37:18.239Z"
   },
   {
    "duration": 30,
    "start_time": "2024-06-21T23:37:18.301Z"
   },
   {
    "duration": 17,
    "start_time": "2024-06-21T23:37:18.335Z"
   },
   {
    "duration": 26,
    "start_time": "2024-06-21T23:37:18.355Z"
   },
   {
    "duration": 59,
    "start_time": "2024-06-21T23:37:18.384Z"
   },
   {
    "duration": 25,
    "start_time": "2024-06-21T23:37:18.446Z"
   },
   {
    "duration": 60,
    "start_time": "2024-06-21T23:37:18.474Z"
   },
   {
    "duration": 32,
    "start_time": "2024-06-21T23:37:18.537Z"
   },
   {
    "duration": 16,
    "start_time": "2024-06-21T23:37:18.572Z"
   },
   {
    "duration": 182,
    "start_time": "2024-06-21T23:37:18.592Z"
   },
   {
    "duration": 473,
    "start_time": "2024-06-21T23:37:18.776Z"
   },
   {
    "duration": 661,
    "start_time": "2024-06-21T23:37:19.252Z"
   },
   {
    "duration": 17,
    "start_time": "2024-06-21T23:37:19.923Z"
   },
   {
    "duration": 261,
    "start_time": "2024-06-21T23:37:19.944Z"
   },
   {
    "duration": 478,
    "start_time": "2024-06-21T23:37:20.209Z"
   },
   {
    "duration": 471,
    "start_time": "2024-06-21T23:37:20.691Z"
   },
   {
    "duration": 3,
    "start_time": "2024-06-21T23:37:21.166Z"
   },
   {
    "duration": 4,
    "start_time": "2024-06-21T23:37:21.178Z"
   },
   {
    "duration": 411,
    "start_time": "2024-06-21T23:41:31.105Z"
   },
   {
    "duration": 29,
    "start_time": "2024-06-21T23:42:01.758Z"
   },
   {
    "duration": 1285,
    "start_time": "2024-06-21T23:42:49.939Z"
   },
   {
    "duration": 278,
    "start_time": "2024-06-21T23:42:51.227Z"
   },
   {
    "duration": 20,
    "start_time": "2024-06-21T23:42:51.508Z"
   },
   {
    "duration": 10,
    "start_time": "2024-06-21T23:42:51.533Z"
   },
   {
    "duration": 14,
    "start_time": "2024-06-21T23:42:51.546Z"
   },
   {
    "duration": 10,
    "start_time": "2024-06-21T23:42:51.562Z"
   },
   {
    "duration": 50,
    "start_time": "2024-06-21T23:42:51.576Z"
   },
   {
    "duration": 9,
    "start_time": "2024-06-21T23:42:51.629Z"
   },
   {
    "duration": 5,
    "start_time": "2024-06-21T23:42:51.641Z"
   },
   {
    "duration": 10,
    "start_time": "2024-06-21T23:42:51.652Z"
   },
   {
    "duration": 71,
    "start_time": "2024-06-21T23:42:51.665Z"
   },
   {
    "duration": 12,
    "start_time": "2024-06-21T23:42:51.739Z"
   },
   {
    "duration": 31,
    "start_time": "2024-06-21T23:42:51.753Z"
   },
   {
    "duration": 81,
    "start_time": "2024-06-21T23:42:51.787Z"
   },
   {
    "duration": 12,
    "start_time": "2024-06-21T23:42:51.872Z"
   },
   {
    "duration": 35,
    "start_time": "2024-06-21T23:42:51.889Z"
   },
   {
    "duration": 20,
    "start_time": "2024-06-21T23:42:51.927Z"
   },
   {
    "duration": 7,
    "start_time": "2024-06-21T23:42:51.951Z"
   },
   {
    "duration": 18,
    "start_time": "2024-06-21T23:42:51.961Z"
   },
   {
    "duration": 59,
    "start_time": "2024-06-21T23:42:51.982Z"
   },
   {
    "duration": 22,
    "start_time": "2024-06-21T23:42:52.044Z"
   },
   {
    "duration": 8,
    "start_time": "2024-06-21T23:42:52.068Z"
   },
   {
    "duration": 61,
    "start_time": "2024-06-21T23:42:52.079Z"
   },
   {
    "duration": 56,
    "start_time": "2024-06-21T23:42:52.143Z"
   },
   {
    "duration": 11,
    "start_time": "2024-06-21T23:42:52.223Z"
   },
   {
    "duration": 19,
    "start_time": "2024-06-21T23:42:52.237Z"
   },
   {
    "duration": 64,
    "start_time": "2024-06-21T23:42:52.259Z"
   },
   {
    "duration": 23,
    "start_time": "2024-06-21T23:42:52.331Z"
   },
   {
    "duration": 26,
    "start_time": "2024-06-21T23:42:52.357Z"
   },
   {
    "duration": 55,
    "start_time": "2024-06-21T23:42:52.386Z"
   },
   {
    "duration": 33,
    "start_time": "2024-06-21T23:42:52.444Z"
   },
   {
    "duration": 45,
    "start_time": "2024-06-21T23:42:52.481Z"
   },
   {
    "duration": 157,
    "start_time": "2024-06-21T23:42:52.529Z"
   },
   {
    "duration": 487,
    "start_time": "2024-06-21T23:42:52.690Z"
   },
   {
    "duration": 527,
    "start_time": "2024-06-21T23:42:53.180Z"
   },
   {
    "duration": 21,
    "start_time": "2024-06-21T23:42:53.710Z"
   },
   {
    "duration": 261,
    "start_time": "2024-06-21T23:42:53.733Z"
   },
   {
    "duration": 465,
    "start_time": "2024-06-21T23:42:53.997Z"
   },
   {
    "duration": 444,
    "start_time": "2024-06-21T23:42:54.465Z"
   },
   {
    "duration": 426,
    "start_time": "2024-06-21T23:42:54.913Z"
   },
   {
    "duration": 0,
    "start_time": "2024-06-21T23:42:55.342Z"
   },
   {
    "duration": 0,
    "start_time": "2024-06-21T23:42:55.344Z"
   },
   {
    "duration": 29,
    "start_time": "2024-06-21T23:43:20.531Z"
   },
   {
    "duration": 149,
    "start_time": "2024-06-21T23:44:36.318Z"
   },
   {
    "duration": 4932,
    "start_time": "2024-06-24T15:02:59.542Z"
   },
   {
    "duration": 340,
    "start_time": "2024-06-24T15:03:04.478Z"
   },
   {
    "duration": 16,
    "start_time": "2024-06-24T15:03:04.821Z"
   },
   {
    "duration": 11,
    "start_time": "2024-06-24T15:03:04.841Z"
   },
   {
    "duration": 14,
    "start_time": "2024-06-24T15:03:04.855Z"
   },
   {
    "duration": 8,
    "start_time": "2024-06-24T15:03:04.872Z"
   },
   {
    "duration": 49,
    "start_time": "2024-06-24T15:03:04.884Z"
   },
   {
    "duration": 8,
    "start_time": "2024-06-24T15:03:04.936Z"
   },
   {
    "duration": 6,
    "start_time": "2024-06-24T15:03:04.947Z"
   },
   {
    "duration": 9,
    "start_time": "2024-06-24T15:03:04.960Z"
   },
   {
    "duration": 68,
    "start_time": "2024-06-24T15:03:04.973Z"
   },
   {
    "duration": 7,
    "start_time": "2024-06-24T15:03:05.043Z"
   },
   {
    "duration": 34,
    "start_time": "2024-06-24T15:03:05.054Z"
   },
   {
    "duration": 74,
    "start_time": "2024-06-24T15:03:05.091Z"
   },
   {
    "duration": 11,
    "start_time": "2024-06-24T15:03:05.168Z"
   },
   {
    "duration": 14,
    "start_time": "2024-06-24T15:03:05.182Z"
   },
   {
    "duration": 19,
    "start_time": "2024-06-24T15:03:05.230Z"
   },
   {
    "duration": 7,
    "start_time": "2024-06-24T15:03:05.253Z"
   },
   {
    "duration": 19,
    "start_time": "2024-06-24T15:03:05.262Z"
   },
   {
    "duration": 54,
    "start_time": "2024-06-24T15:03:05.283Z"
   },
   {
    "duration": 23,
    "start_time": "2024-06-24T15:03:05.340Z"
   },
   {
    "duration": 8,
    "start_time": "2024-06-24T15:03:05.366Z"
   },
   {
    "duration": 61,
    "start_time": "2024-06-24T15:03:05.377Z"
   },
   {
    "duration": 61,
    "start_time": "2024-06-24T15:03:05.441Z"
   },
   {
    "duration": 32,
    "start_time": "2024-06-24T15:03:05.505Z"
   },
   {
    "duration": 18,
    "start_time": "2024-06-24T15:03:05.540Z"
   },
   {
    "duration": 25,
    "start_time": "2024-06-24T15:03:05.561Z"
   },
   {
    "duration": 62,
    "start_time": "2024-06-24T15:03:05.594Z"
   },
   {
    "duration": 35,
    "start_time": "2024-06-24T15:03:05.663Z"
   },
   {
    "duration": 45,
    "start_time": "2024-06-24T15:03:05.700Z"
   },
   {
    "duration": 34,
    "start_time": "2024-06-24T15:03:05.748Z"
   },
   {
    "duration": 46,
    "start_time": "2024-06-24T15:03:05.785Z"
   },
   {
    "duration": 157,
    "start_time": "2024-06-24T15:03:05.835Z"
   },
   {
    "duration": 466,
    "start_time": "2024-06-24T15:03:05.996Z"
   },
   {
    "duration": 462,
    "start_time": "2024-06-24T15:03:06.465Z"
   },
   {
    "duration": 11,
    "start_time": "2024-06-24T15:03:06.932Z"
   },
   {
    "duration": 256,
    "start_time": "2024-06-24T15:03:06.946Z"
   },
   {
    "duration": 511,
    "start_time": "2024-06-24T15:03:07.205Z"
   },
   {
    "duration": 455,
    "start_time": "2024-06-24T15:03:07.720Z"
   },
   {
    "duration": 160,
    "start_time": "2024-06-24T15:03:08.178Z"
   },
   {
    "duration": 4,
    "start_time": "2024-06-24T15:03:08.340Z"
   },
   {
    "duration": 3,
    "start_time": "2024-06-24T15:03:08.348Z"
   },
   {
    "duration": 1264,
    "start_time": "2024-06-24T21:14:16.275Z"
   },
   {
    "duration": 5360,
    "start_time": "2024-06-24T21:14:33.096Z"
   },
   {
    "duration": 458,
    "start_time": "2024-06-24T21:14:38.460Z"
   },
   {
    "duration": 18,
    "start_time": "2024-06-24T21:14:38.922Z"
   },
   {
    "duration": 12,
    "start_time": "2024-06-24T21:14:38.943Z"
   },
   {
    "duration": 47,
    "start_time": "2024-06-24T21:14:38.963Z"
   },
   {
    "duration": 9,
    "start_time": "2024-06-24T21:14:39.014Z"
   },
   {
    "duration": 9,
    "start_time": "2024-06-24T21:14:39.027Z"
   },
   {
    "duration": 10,
    "start_time": "2024-06-24T21:14:39.040Z"
   },
   {
    "duration": 9,
    "start_time": "2024-06-24T21:14:39.053Z"
   },
   {
    "duration": 10,
    "start_time": "2024-06-24T21:14:39.105Z"
   },
   {
    "duration": 27,
    "start_time": "2024-06-24T21:14:39.119Z"
   },
   {
    "duration": 9,
    "start_time": "2024-06-24T21:14:39.150Z"
   },
   {
    "duration": 70,
    "start_time": "2024-06-24T21:14:39.163Z"
   },
   {
    "duration": 75,
    "start_time": "2024-06-24T21:14:39.242Z"
   },
   {
    "duration": 13,
    "start_time": "2024-06-24T21:14:39.321Z"
   },
   {
    "duration": 16,
    "start_time": "2024-06-24T21:14:39.337Z"
   },
   {
    "duration": 57,
    "start_time": "2024-06-24T21:14:39.357Z"
   },
   {
    "duration": 8,
    "start_time": "2024-06-24T21:14:39.417Z"
   },
   {
    "duration": 25,
    "start_time": "2024-06-24T21:14:39.428Z"
   },
   {
    "duration": 53,
    "start_time": "2024-06-24T21:14:39.456Z"
   },
   {
    "duration": 26,
    "start_time": "2024-06-24T21:14:39.513Z"
   },
   {
    "duration": 9,
    "start_time": "2024-06-24T21:14:39.543Z"
   },
   {
    "duration": 67,
    "start_time": "2024-06-24T21:14:39.556Z"
   },
   {
    "duration": 86,
    "start_time": "2024-06-24T21:14:39.626Z"
   },
   {
    "duration": 13,
    "start_time": "2024-06-24T21:14:39.718Z"
   },
   {
    "duration": 24,
    "start_time": "2024-06-24T21:14:39.735Z"
   },
   {
    "duration": 63,
    "start_time": "2024-06-24T21:14:39.763Z"
   },
   {
    "duration": 23,
    "start_time": "2024-06-24T21:14:39.829Z"
   },
   {
    "duration": 59,
    "start_time": "2024-06-24T21:14:39.855Z"
   },
   {
    "duration": 26,
    "start_time": "2024-06-24T21:14:39.918Z"
   },
   {
    "duration": 73,
    "start_time": "2024-06-24T21:14:39.947Z"
   },
   {
    "duration": 20,
    "start_time": "2024-06-24T21:14:40.023Z"
   },
   {
    "duration": 189,
    "start_time": "2024-06-24T21:14:40.047Z"
   },
   {
    "duration": 479,
    "start_time": "2024-06-24T21:14:40.240Z"
   },
   {
    "duration": 544,
    "start_time": "2024-06-24T21:14:40.722Z"
   },
   {
    "duration": 12,
    "start_time": "2024-06-24T21:14:41.269Z"
   },
   {
    "duration": 278,
    "start_time": "2024-06-24T21:14:41.302Z"
   },
   {
    "duration": 483,
    "start_time": "2024-06-24T21:14:41.583Z"
   },
   {
    "duration": 467,
    "start_time": "2024-06-24T21:14:42.071Z"
   },
   {
    "duration": 226,
    "start_time": "2024-06-24T21:14:42.541Z"
   },
   {
    "duration": 24,
    "start_time": "2024-06-24T21:14:42.777Z"
   },
   {
    "duration": 3,
    "start_time": "2024-06-24T21:14:42.804Z"
   },
   {
    "duration": 1328,
    "start_time": "2024-06-24T21:15:59.194Z"
   },
   {
    "duration": 17,
    "start_time": "2024-06-24T21:18:08.288Z"
   },
   {
    "duration": 24,
    "start_time": "2024-06-24T21:23:31.357Z"
   },
   {
    "duration": 18,
    "start_time": "2024-06-24T21:24:09.408Z"
   },
   {
    "duration": 4910,
    "start_time": "2024-06-25T18:45:00.112Z"
   },
   {
    "duration": 1355,
    "start_time": "2024-06-25T18:45:13.699Z"
   },
   {
    "duration": 368,
    "start_time": "2024-06-25T18:45:15.060Z"
   },
   {
    "duration": 16,
    "start_time": "2024-06-25T18:45:15.431Z"
   },
   {
    "duration": 14,
    "start_time": "2024-06-25T18:45:15.449Z"
   },
   {
    "duration": 14,
    "start_time": "2024-06-25T18:45:15.468Z"
   },
   {
    "duration": 38,
    "start_time": "2024-06-25T18:45:15.485Z"
   },
   {
    "duration": 9,
    "start_time": "2024-06-25T18:45:15.525Z"
   },
   {
    "duration": 9,
    "start_time": "2024-06-25T18:45:15.536Z"
   },
   {
    "duration": 5,
    "start_time": "2024-06-25T18:45:15.548Z"
   },
   {
    "duration": 10,
    "start_time": "2024-06-25T18:45:15.556Z"
   },
   {
    "duration": 73,
    "start_time": "2024-06-25T18:45:15.570Z"
   },
   {
    "duration": 7,
    "start_time": "2024-06-25T18:45:15.646Z"
   },
   {
    "duration": 33,
    "start_time": "2024-06-25T18:45:15.656Z"
   },
   {
    "duration": 50,
    "start_time": "2024-06-25T18:45:15.725Z"
   },
   {
    "duration": 10,
    "start_time": "2024-06-25T18:45:15.778Z"
   },
   {
    "duration": 42,
    "start_time": "2024-06-25T18:45:15.791Z"
   },
   {
    "duration": 18,
    "start_time": "2024-06-25T18:45:15.837Z"
   },
   {
    "duration": 7,
    "start_time": "2024-06-25T18:45:15.858Z"
   },
   {
    "duration": 55,
    "start_time": "2024-06-25T18:45:15.867Z"
   },
   {
    "duration": 22,
    "start_time": "2024-06-25T18:45:15.925Z"
   },
   {
    "duration": 22,
    "start_time": "2024-06-25T18:45:15.950Z"
   },
   {
    "duration": 9,
    "start_time": "2024-06-25T18:45:15.975Z"
   },
   {
    "duration": 22,
    "start_time": "2024-06-25T18:45:16.023Z"
   },
   {
    "duration": 55,
    "start_time": "2024-06-25T18:45:16.048Z"
   },
   {
    "duration": 11,
    "start_time": "2024-06-25T18:45:16.124Z"
   },
   {
    "duration": 22,
    "start_time": "2024-06-25T18:45:16.138Z"
   },
   {
    "duration": 72,
    "start_time": "2024-06-25T18:45:16.164Z"
   },
   {
    "duration": 24,
    "start_time": "2024-06-25T18:45:16.239Z"
   },
   {
    "duration": 26,
    "start_time": "2024-06-25T18:45:16.266Z"
   },
   {
    "duration": 50,
    "start_time": "2024-06-25T18:45:16.294Z"
   },
   {
    "duration": 33,
    "start_time": "2024-06-25T18:45:16.347Z"
   },
   {
    "duration": 50,
    "start_time": "2024-06-25T18:45:16.383Z"
   },
   {
    "duration": 155,
    "start_time": "2024-06-25T18:45:16.436Z"
   },
   {
    "duration": 483,
    "start_time": "2024-06-25T18:45:16.594Z"
   },
   {
    "duration": 651,
    "start_time": "2024-06-25T18:45:17.081Z"
   },
   {
    "duration": 12,
    "start_time": "2024-06-25T18:45:17.735Z"
   },
   {
    "duration": 316,
    "start_time": "2024-06-25T18:45:17.752Z"
   },
   {
    "duration": 466,
    "start_time": "2024-06-25T18:45:18.071Z"
   },
   {
    "duration": 498,
    "start_time": "2024-06-25T18:45:18.540Z"
   },
   {
    "duration": 166,
    "start_time": "2024-06-25T18:45:19.042Z"
   },
   {
    "duration": 11,
    "start_time": "2024-06-25T18:45:19.222Z"
   },
   {
    "duration": 18,
    "start_time": "2024-06-25T18:45:19.236Z"
   },
   {
    "duration": 18,
    "start_time": "2024-06-25T18:45:19.257Z"
   },
   {
    "duration": 1260,
    "start_time": "2024-06-25T18:58:02.297Z"
   },
   {
    "duration": 1278,
    "start_time": "2024-06-25T18:58:10.331Z"
   },
   {
    "duration": 295,
    "start_time": "2024-06-25T18:58:11.612Z"
   },
   {
    "duration": 23,
    "start_time": "2024-06-25T18:58:11.910Z"
   },
   {
    "duration": 10,
    "start_time": "2024-06-25T18:58:11.939Z"
   },
   {
    "duration": 14,
    "start_time": "2024-06-25T18:58:11.953Z"
   },
   {
    "duration": 9,
    "start_time": "2024-06-25T18:58:11.971Z"
   },
   {
    "duration": 44,
    "start_time": "2024-06-25T18:58:11.983Z"
   },
   {
    "duration": 10,
    "start_time": "2024-06-25T18:58:12.030Z"
   },
   {
    "duration": 5,
    "start_time": "2024-06-25T18:58:12.043Z"
   },
   {
    "duration": 9,
    "start_time": "2024-06-25T18:58:12.054Z"
   },
   {
    "duration": 76,
    "start_time": "2024-06-25T18:58:12.066Z"
   },
   {
    "duration": 7,
    "start_time": "2024-06-25T18:58:12.146Z"
   },
   {
    "duration": 30,
    "start_time": "2024-06-25T18:58:12.156Z"
   },
   {
    "duration": 76,
    "start_time": "2024-06-25T18:58:12.189Z"
   },
   {
    "duration": 12,
    "start_time": "2024-06-25T18:58:12.270Z"
   },
   {
    "duration": 49,
    "start_time": "2024-06-25T18:58:12.285Z"
   },
   {
    "duration": 21,
    "start_time": "2024-06-25T18:58:12.336Z"
   },
   {
    "duration": 6,
    "start_time": "2024-06-25T18:58:12.361Z"
   },
   {
    "duration": 18,
    "start_time": "2024-06-25T18:58:12.370Z"
   },
   {
    "duration": 50,
    "start_time": "2024-06-25T18:58:12.391Z"
   },
   {
    "duration": 24,
    "start_time": "2024-06-25T18:58:12.444Z"
   },
   {
    "duration": 10,
    "start_time": "2024-06-25T18:58:12.471Z"
   },
   {
    "duration": 60,
    "start_time": "2024-06-25T18:58:12.485Z"
   },
   {
    "duration": 79,
    "start_time": "2024-06-25T18:58:12.548Z"
   },
   {
    "duration": 11,
    "start_time": "2024-06-25T18:58:12.629Z"
   },
   {
    "duration": 18,
    "start_time": "2024-06-25T18:58:12.643Z"
   },
   {
    "duration": 59,
    "start_time": "2024-06-25T18:58:12.664Z"
   },
   {
    "duration": 22,
    "start_time": "2024-06-25T18:58:12.730Z"
   },
   {
    "duration": 25,
    "start_time": "2024-06-25T18:58:12.755Z"
   },
   {
    "duration": 61,
    "start_time": "2024-06-25T18:58:12.783Z"
   },
   {
    "duration": 37,
    "start_time": "2024-06-25T18:58:12.847Z"
   },
   {
    "duration": 40,
    "start_time": "2024-06-25T18:58:12.890Z"
   },
   {
    "duration": 160,
    "start_time": "2024-06-25T18:58:12.934Z"
   },
   {
    "duration": 464,
    "start_time": "2024-06-25T18:58:13.097Z"
   },
   {
    "duration": 521,
    "start_time": "2024-06-25T18:58:13.564Z"
   },
   {
    "duration": 11,
    "start_time": "2024-06-25T18:58:14.088Z"
   },
   {
    "duration": 265,
    "start_time": "2024-06-25T18:58:14.102Z"
   },
   {
    "duration": 432,
    "start_time": "2024-06-25T18:58:14.370Z"
   },
   {
    "duration": 468,
    "start_time": "2024-06-25T18:58:14.804Z"
   },
   {
    "duration": 160,
    "start_time": "2024-06-25T18:58:15.275Z"
   },
   {
    "duration": 11,
    "start_time": "2024-06-25T18:58:15.438Z"
   },
   {
    "duration": 1271,
    "start_time": "2024-06-25T18:58:15.452Z"
   },
   {
    "duration": 116,
    "start_time": "2024-06-25T18:58:35.938Z"
   },
   {
    "duration": 92,
    "start_time": "2024-06-25T19:02:27.890Z"
   },
   {
    "duration": 25,
    "start_time": "2024-06-25T19:05:13.848Z"
   },
   {
    "duration": 8,
    "start_time": "2024-06-25T19:06:21.371Z"
   },
   {
    "duration": 4,
    "start_time": "2024-06-25T19:06:36.980Z"
   },
   {
    "duration": 23,
    "start_time": "2024-06-25T19:08:31.897Z"
   },
   {
    "duration": 4896,
    "start_time": "2024-07-03T22:18:17.649Z"
   },
   {
    "duration": 366,
    "start_time": "2024-07-03T22:18:22.548Z"
   },
   {
    "duration": 17,
    "start_time": "2024-07-03T22:18:22.917Z"
   },
   {
    "duration": 11,
    "start_time": "2024-07-03T22:18:22.938Z"
   },
   {
    "duration": 18,
    "start_time": "2024-07-03T22:18:22.954Z"
   },
   {
    "duration": 9,
    "start_time": "2024-07-03T22:18:22.974Z"
   },
   {
    "duration": 49,
    "start_time": "2024-07-03T22:18:22.987Z"
   },
   {
    "duration": 9,
    "start_time": "2024-07-03T22:18:23.040Z"
   },
   {
    "duration": 10,
    "start_time": "2024-07-03T22:18:23.052Z"
   },
   {
    "duration": 11,
    "start_time": "2024-07-03T22:18:23.064Z"
   },
   {
    "duration": 70,
    "start_time": "2024-07-03T22:18:23.079Z"
   },
   {
    "duration": 6,
    "start_time": "2024-07-03T22:18:23.152Z"
   },
   {
    "duration": 32,
    "start_time": "2024-07-03T22:18:23.162Z"
   },
   {
    "duration": 76,
    "start_time": "2024-07-03T22:18:23.201Z"
   },
   {
    "duration": 11,
    "start_time": "2024-07-03T22:18:23.281Z"
   },
   {
    "duration": 48,
    "start_time": "2024-07-03T22:18:23.295Z"
   },
   {
    "duration": 20,
    "start_time": "2024-07-03T22:18:23.346Z"
   },
   {
    "duration": 7,
    "start_time": "2024-07-03T22:18:23.369Z"
   },
   {
    "duration": 56,
    "start_time": "2024-07-03T22:18:23.378Z"
   },
   {
    "duration": 22,
    "start_time": "2024-07-03T22:18:23.437Z"
   },
   {
    "duration": 22,
    "start_time": "2024-07-03T22:18:23.462Z"
   },
   {
    "duration": 44,
    "start_time": "2024-07-03T22:18:23.487Z"
   },
   {
    "duration": 22,
    "start_time": "2024-07-03T22:18:23.535Z"
   },
   {
    "duration": 71,
    "start_time": "2024-07-03T22:18:23.561Z"
   },
   {
    "duration": 10,
    "start_time": "2024-07-03T22:18:23.635Z"
   },
   {
    "duration": 16,
    "start_time": "2024-07-03T22:18:23.648Z"
   },
   {
    "duration": 63,
    "start_time": "2024-07-03T22:18:23.667Z"
   },
   {
    "duration": 22,
    "start_time": "2024-07-03T22:18:23.733Z"
   },
   {
    "duration": 25,
    "start_time": "2024-07-03T22:18:23.758Z"
   },
   {
    "duration": 59,
    "start_time": "2024-07-03T22:18:23.786Z"
   },
   {
    "duration": 32,
    "start_time": "2024-07-03T22:18:23.848Z"
   },
   {
    "duration": 19,
    "start_time": "2024-07-03T22:18:23.883Z"
   },
   {
    "duration": 148,
    "start_time": "2024-07-03T22:18:23.932Z"
   },
   {
    "duration": 469,
    "start_time": "2024-07-03T22:18:24.083Z"
   },
   {
    "duration": 451,
    "start_time": "2024-07-03T22:18:24.555Z"
   },
   {
    "duration": 24,
    "start_time": "2024-07-03T22:18:25.008Z"
   },
   {
    "duration": 250,
    "start_time": "2024-07-03T22:18:25.035Z"
   },
   {
    "duration": 450,
    "start_time": "2024-07-03T22:18:25.288Z"
   },
   {
    "duration": 527,
    "start_time": "2024-07-03T22:18:25.741Z"
   },
   {
    "duration": 159,
    "start_time": "2024-07-03T22:18:26.270Z"
   },
   {
    "duration": 11,
    "start_time": "2024-07-03T22:18:26.437Z"
   },
   {
    "duration": 20,
    "start_time": "2024-07-03T22:18:26.451Z"
   },
   {
    "duration": 4872,
    "start_time": "2024-07-04T22:06:34.150Z"
   },
   {
    "duration": 1253,
    "start_time": "2024-07-04T22:06:53.559Z"
   },
   {
    "duration": 376,
    "start_time": "2024-07-04T22:06:54.815Z"
   },
   {
    "duration": 24,
    "start_time": "2024-07-04T22:06:55.193Z"
   },
   {
    "duration": 10,
    "start_time": "2024-07-04T22:06:55.222Z"
   },
   {
    "duration": 16,
    "start_time": "2024-07-04T22:06:55.235Z"
   },
   {
    "duration": 9,
    "start_time": "2024-07-04T22:06:55.254Z"
   },
   {
    "duration": 48,
    "start_time": "2024-07-04T22:06:55.266Z"
   },
   {
    "duration": 9,
    "start_time": "2024-07-04T22:06:55.318Z"
   },
   {
    "duration": 5,
    "start_time": "2024-07-04T22:06:55.330Z"
   },
   {
    "duration": 9,
    "start_time": "2024-07-04T22:06:55.341Z"
   },
   {
    "duration": 76,
    "start_time": "2024-07-04T22:06:55.353Z"
   },
   {
    "duration": 8,
    "start_time": "2024-07-04T22:06:55.432Z"
   },
   {
    "duration": 34,
    "start_time": "2024-07-04T22:06:55.444Z"
   },
   {
    "duration": 76,
    "start_time": "2024-07-04T22:06:55.481Z"
   },
   {
    "duration": 11,
    "start_time": "2024-07-04T22:06:55.560Z"
   },
   {
    "duration": 42,
    "start_time": "2024-07-04T22:06:55.574Z"
   },
   {
    "duration": 19,
    "start_time": "2024-07-04T22:06:55.619Z"
   },
   {
    "duration": 7,
    "start_time": "2024-07-04T22:06:55.641Z"
   },
   {
    "duration": 19,
    "start_time": "2024-07-04T22:06:55.652Z"
   },
   {
    "duration": 59,
    "start_time": "2024-07-04T22:06:55.674Z"
   },
   {
    "duration": 22,
    "start_time": "2024-07-04T22:06:55.737Z"
   },
   {
    "duration": 7,
    "start_time": "2024-07-04T22:06:55.762Z"
   },
   {
    "duration": 59,
    "start_time": "2024-07-04T22:06:55.773Z"
   },
   {
    "duration": 54,
    "start_time": "2024-07-04T22:06:55.834Z"
   },
   {
    "duration": 11,
    "start_time": "2024-07-04T22:06:55.911Z"
   },
   {
    "duration": 17,
    "start_time": "2024-07-04T22:06:55.925Z"
   },
   {
    "duration": 27,
    "start_time": "2024-07-04T22:06:55.945Z"
   },
   {
    "duration": 21,
    "start_time": "2024-07-04T22:06:56.018Z"
   },
   {
    "duration": 25,
    "start_time": "2024-07-04T22:06:56.042Z"
   },
   {
    "duration": 56,
    "start_time": "2024-07-04T22:06:56.070Z"
   },
   {
    "duration": 35,
    "start_time": "2024-07-04T22:06:56.132Z"
   },
   {
    "duration": 16,
    "start_time": "2024-07-04T22:06:56.170Z"
   },
   {
    "duration": 156,
    "start_time": "2024-07-04T22:06:56.214Z"
   },
   {
    "duration": 475,
    "start_time": "2024-07-04T22:06:56.372Z"
   },
   {
    "duration": 510,
    "start_time": "2024-07-04T22:06:56.850Z"
   },
   {
    "duration": 12,
    "start_time": "2024-07-04T22:06:57.363Z"
   },
   {
    "duration": 262,
    "start_time": "2024-07-04T22:06:57.378Z"
   },
   {
    "duration": 431,
    "start_time": "2024-07-04T22:06:57.643Z"
   },
   {
    "duration": 454,
    "start_time": "2024-07-04T22:06:58.078Z"
   },
   {
    "duration": 159,
    "start_time": "2024-07-04T22:06:58.536Z"
   },
   {
    "duration": 24,
    "start_time": "2024-07-04T22:06:58.698Z"
   },
   {
    "duration": 25,
    "start_time": "2024-07-04T22:06:58.726Z"
   },
   {
    "duration": 4887,
    "start_time": "2024-07-08T16:54:05.269Z"
   },
   {
    "duration": 378,
    "start_time": "2024-07-08T16:54:10.162Z"
   },
   {
    "duration": 16,
    "start_time": "2024-07-08T16:54:10.543Z"
   },
   {
    "duration": 9,
    "start_time": "2024-07-08T16:54:10.565Z"
   },
   {
    "duration": 16,
    "start_time": "2024-07-08T16:54:10.577Z"
   },
   {
    "duration": 8,
    "start_time": "2024-07-08T16:54:10.631Z"
   },
   {
    "duration": 8,
    "start_time": "2024-07-08T16:54:10.644Z"
   },
   {
    "duration": 9,
    "start_time": "2024-07-08T16:54:10.656Z"
   },
   {
    "duration": 5,
    "start_time": "2024-07-08T16:54:10.668Z"
   },
   {
    "duration": 54,
    "start_time": "2024-07-08T16:54:10.680Z"
   },
   {
    "duration": 28,
    "start_time": "2024-07-08T16:54:10.738Z"
   },
   {
    "duration": 11,
    "start_time": "2024-07-08T16:54:10.771Z"
   },
   {
    "duration": 68,
    "start_time": "2024-07-08T16:54:10.785Z"
   },
   {
    "duration": 48,
    "start_time": "2024-07-08T16:54:10.856Z"
   },
   {
    "duration": 32,
    "start_time": "2024-07-08T16:54:10.908Z"
   },
   {
    "duration": 14,
    "start_time": "2024-07-08T16:54:10.943Z"
   },
   {
    "duration": 19,
    "start_time": "2024-07-08T16:54:10.960Z"
   },
   {
    "duration": 6,
    "start_time": "2024-07-08T16:54:10.982Z"
   },
   {
    "duration": 17,
    "start_time": "2024-07-08T16:54:11.030Z"
   },
   {
    "duration": 21,
    "start_time": "2024-07-08T16:54:11.050Z"
   },
   {
    "duration": 22,
    "start_time": "2024-07-08T16:54:11.074Z"
   },
   {
    "duration": 36,
    "start_time": "2024-07-08T16:54:11.098Z"
   },
   {
    "duration": 22,
    "start_time": "2024-07-08T16:54:11.137Z"
   },
   {
    "duration": 89,
    "start_time": "2024-07-08T16:54:11.161Z"
   },
   {
    "duration": 9,
    "start_time": "2024-07-08T16:54:11.253Z"
   },
   {
    "duration": 18,
    "start_time": "2024-07-08T16:54:11.265Z"
   },
   {
    "duration": 60,
    "start_time": "2024-07-08T16:54:11.286Z"
   },
   {
    "duration": 22,
    "start_time": "2024-07-08T16:54:11.354Z"
   },
   {
    "duration": 51,
    "start_time": "2024-07-08T16:54:11.379Z"
   },
   {
    "duration": 30,
    "start_time": "2024-07-08T16:54:11.433Z"
   },
   {
    "duration": 38,
    "start_time": "2024-07-08T16:54:11.466Z"
   },
   {
    "duration": 18,
    "start_time": "2024-07-08T16:54:11.532Z"
   },
   {
    "duration": 177,
    "start_time": "2024-07-08T16:54:11.552Z"
   },
   {
    "duration": 505,
    "start_time": "2024-07-08T16:54:11.732Z"
   },
   {
    "duration": 466,
    "start_time": "2024-07-08T16:54:12.241Z"
   },
   {
    "duration": 21,
    "start_time": "2024-07-08T16:54:12.710Z"
   },
   {
    "duration": 318,
    "start_time": "2024-07-08T16:54:12.734Z"
   },
   {
    "duration": 435,
    "start_time": "2024-07-08T16:54:13.059Z"
   },
   {
    "duration": 456,
    "start_time": "2024-07-08T16:54:13.496Z"
   },
   {
    "duration": 166,
    "start_time": "2024-07-08T16:54:13.955Z"
   },
   {
    "duration": 12,
    "start_time": "2024-07-08T16:54:14.124Z"
   },
   {
    "duration": 22,
    "start_time": "2024-07-08T16:54:14.140Z"
   },
   {
    "duration": 7,
    "start_time": "2024-07-08T17:17:03.320Z"
   },
   {
    "duration": 9,
    "start_time": "2024-07-08T17:20:21.638Z"
   },
   {
    "duration": 1328,
    "start_time": "2024-07-08T17:20:31.751Z"
   },
   {
    "duration": 271,
    "start_time": "2024-07-08T17:20:33.083Z"
   },
   {
    "duration": 16,
    "start_time": "2024-07-08T17:20:33.357Z"
   },
   {
    "duration": 9,
    "start_time": "2024-07-08T17:20:33.377Z"
   },
   {
    "duration": 50,
    "start_time": "2024-07-08T17:20:33.391Z"
   },
   {
    "duration": 9,
    "start_time": "2024-07-08T17:20:33.444Z"
   },
   {
    "duration": 9,
    "start_time": "2024-07-08T17:20:33.456Z"
   },
   {
    "duration": 8,
    "start_time": "2024-07-08T17:20:33.468Z"
   },
   {
    "duration": 53,
    "start_time": "2024-07-08T17:20:33.479Z"
   },
   {
    "duration": 10,
    "start_time": "2024-07-08T17:20:33.535Z"
   },
   {
    "duration": 24,
    "start_time": "2024-07-08T17:20:33.548Z"
   },
   {
    "duration": 7,
    "start_time": "2024-07-08T17:20:33.575Z"
   },
   {
    "duration": 77,
    "start_time": "2024-07-08T17:20:33.586Z"
   },
   {
    "duration": 83,
    "start_time": "2024-07-08T17:20:33.671Z"
   },
   {
    "duration": 11,
    "start_time": "2024-07-08T17:20:33.756Z"
   },
   {
    "duration": 15,
    "start_time": "2024-07-08T17:20:33.770Z"
   },
   {
    "duration": 54,
    "start_time": "2024-07-08T17:20:33.787Z"
   },
   {
    "duration": 7,
    "start_time": "2024-07-08T17:20:33.844Z"
   },
   {
    "duration": 20,
    "start_time": "2024-07-08T17:20:33.854Z"
   },
   {
    "duration": 61,
    "start_time": "2024-07-08T17:20:33.877Z"
   },
   {
    "duration": 24,
    "start_time": "2024-07-08T17:20:33.942Z"
   },
   {
    "duration": 8,
    "start_time": "2024-07-08T17:20:33.969Z"
   },
   {
    "duration": 62,
    "start_time": "2024-07-08T17:20:33.980Z"
   },
   {
    "duration": 52,
    "start_time": "2024-07-08T17:20:34.045Z"
   },
   {
    "duration": 37,
    "start_time": "2024-07-08T17:20:34.100Z"
   },
   {
    "duration": 19,
    "start_time": "2024-07-08T17:20:34.139Z"
   },
   {
    "duration": 28,
    "start_time": "2024-07-08T17:20:34.161Z"
   },
   {
    "duration": 23,
    "start_time": "2024-07-08T17:20:34.231Z"
   },
   {
    "duration": 25,
    "start_time": "2024-07-08T17:20:34.257Z"
   },
   {
    "duration": 61,
    "start_time": "2024-07-08T17:20:34.285Z"
   },
   {
    "duration": 33,
    "start_time": "2024-07-08T17:20:34.349Z"
   },
   {
    "duration": 48,
    "start_time": "2024-07-08T17:20:34.386Z"
   },
   {
    "duration": 163,
    "start_time": "2024-07-08T17:20:34.437Z"
   },
   {
    "duration": 483,
    "start_time": "2024-07-08T17:20:34.603Z"
   },
   {
    "duration": 505,
    "start_time": "2024-07-08T17:20:35.089Z"
   },
   {
    "duration": 12,
    "start_time": "2024-07-08T17:20:35.597Z"
   },
   {
    "duration": 263,
    "start_time": "2024-07-08T17:20:35.630Z"
   },
   {
    "duration": 456,
    "start_time": "2024-07-08T17:20:35.896Z"
   },
   {
    "duration": 463,
    "start_time": "2024-07-08T17:20:36.355Z"
   },
   {
    "duration": 162,
    "start_time": "2024-07-08T17:20:36.821Z"
   },
   {
    "duration": 13,
    "start_time": "2024-07-08T17:20:36.991Z"
   },
   {
    "duration": 28,
    "start_time": "2024-07-08T17:20:37.030Z"
   },
   {
    "duration": 4865,
    "start_time": "2024-07-08T21:54:26.406Z"
   },
   {
    "duration": 363,
    "start_time": "2024-07-08T21:54:31.274Z"
   },
   {
    "duration": 16,
    "start_time": "2024-07-08T21:54:31.640Z"
   },
   {
    "duration": 10,
    "start_time": "2024-07-08T21:54:31.669Z"
   },
   {
    "duration": 15,
    "start_time": "2024-07-08T21:54:31.685Z"
   },
   {
    "duration": 10,
    "start_time": "2024-07-08T21:54:31.702Z"
   },
   {
    "duration": 53,
    "start_time": "2024-07-08T21:54:31.715Z"
   },
   {
    "duration": 11,
    "start_time": "2024-07-08T21:54:31.771Z"
   },
   {
    "duration": 5,
    "start_time": "2024-07-08T21:54:31.786Z"
   },
   {
    "duration": 9,
    "start_time": "2024-07-08T21:54:31.794Z"
   },
   {
    "duration": 61,
    "start_time": "2024-07-08T21:54:31.807Z"
   },
   {
    "duration": 7,
    "start_time": "2024-07-08T21:54:31.871Z"
   },
   {
    "duration": 31,
    "start_time": "2024-07-08T21:54:31.882Z"
   },
   {
    "duration": 75,
    "start_time": "2024-07-08T21:54:31.919Z"
   },
   {
    "duration": 10,
    "start_time": "2024-07-08T21:54:31.999Z"
   },
   {
    "duration": 15,
    "start_time": "2024-07-08T21:54:32.012Z"
   },
   {
    "duration": 48,
    "start_time": "2024-07-08T21:54:32.030Z"
   },
   {
    "duration": 6,
    "start_time": "2024-07-08T21:54:32.081Z"
   },
   {
    "duration": 17,
    "start_time": "2024-07-08T21:54:32.090Z"
   },
   {
    "duration": 57,
    "start_time": "2024-07-08T21:54:32.110Z"
   },
   {
    "duration": 22,
    "start_time": "2024-07-08T21:54:32.170Z"
   },
   {
    "duration": 7,
    "start_time": "2024-07-08T21:54:32.195Z"
   },
   {
    "duration": 23,
    "start_time": "2024-07-08T21:54:32.205Z"
   },
   {
    "duration": 81,
    "start_time": "2024-07-08T21:54:32.230Z"
   },
   {
    "duration": 10,
    "start_time": "2024-07-08T21:54:32.315Z"
   },
   {
    "duration": 50,
    "start_time": "2024-07-08T21:54:32.327Z"
   },
   {
    "duration": 28,
    "start_time": "2024-07-08T21:54:32.382Z"
   },
   {
    "duration": 23,
    "start_time": "2024-07-08T21:54:32.413Z"
   },
   {
    "duration": 25,
    "start_time": "2024-07-08T21:54:32.467Z"
   },
   {
    "duration": 26,
    "start_time": "2024-07-08T21:54:32.495Z"
   },
   {
    "duration": 64,
    "start_time": "2024-07-08T21:54:32.524Z"
   },
   {
    "duration": 17,
    "start_time": "2024-07-08T21:54:32.592Z"
   },
   {
    "duration": 161,
    "start_time": "2024-07-08T21:54:32.612Z"
   },
   {
    "duration": 465,
    "start_time": "2024-07-08T21:54:32.776Z"
   },
   {
    "duration": 445,
    "start_time": "2024-07-08T21:54:33.245Z"
   },
   {
    "duration": 11,
    "start_time": "2024-07-08T21:54:33.694Z"
   },
   {
    "duration": 254,
    "start_time": "2024-07-08T21:54:33.708Z"
   },
   {
    "duration": 498,
    "start_time": "2024-07-08T21:54:33.969Z"
   },
   {
    "duration": 446,
    "start_time": "2024-07-08T21:54:34.470Z"
   },
   {
    "duration": 162,
    "start_time": "2024-07-08T21:54:34.919Z"
   },
   {
    "duration": 11,
    "start_time": "2024-07-08T21:54:35.089Z"
   },
   {
    "duration": 22,
    "start_time": "2024-07-08T21:54:35.102Z"
   },
   {
    "duration": 5049,
    "start_time": "2024-07-16T17:21:30.624Z"
   },
   {
    "duration": 377,
    "start_time": "2024-07-16T17:21:35.677Z"
   },
   {
    "duration": 18,
    "start_time": "2024-07-16T17:21:36.057Z"
   },
   {
    "duration": 30,
    "start_time": "2024-07-16T17:21:36.079Z"
   },
   {
    "duration": 16,
    "start_time": "2024-07-16T17:21:36.113Z"
   },
   {
    "duration": 10,
    "start_time": "2024-07-16T17:21:36.132Z"
   },
   {
    "duration": 10,
    "start_time": "2024-07-16T17:21:36.145Z"
   },
   {
    "duration": 53,
    "start_time": "2024-07-16T17:21:36.158Z"
   },
   {
    "duration": 5,
    "start_time": "2024-07-16T17:21:36.214Z"
   },
   {
    "duration": 9,
    "start_time": "2024-07-16T17:21:36.226Z"
   },
   {
    "duration": 26,
    "start_time": "2024-07-16T17:21:36.239Z"
   },
   {
    "duration": 8,
    "start_time": "2024-07-16T17:21:36.308Z"
   },
   {
    "duration": 31,
    "start_time": "2024-07-16T17:21:36.319Z"
   },
   {
    "duration": 82,
    "start_time": "2024-07-16T17:21:36.353Z"
   },
   {
    "duration": 13,
    "start_time": "2024-07-16T17:21:36.439Z"
   },
   {
    "duration": 17,
    "start_time": "2024-07-16T17:21:36.456Z"
   },
   {
    "duration": 50,
    "start_time": "2024-07-16T17:21:36.476Z"
   },
   {
    "duration": 7,
    "start_time": "2024-07-16T17:21:36.529Z"
   },
   {
    "duration": 20,
    "start_time": "2024-07-16T17:21:36.538Z"
   },
   {
    "duration": 55,
    "start_time": "2024-07-16T17:21:36.561Z"
   },
   {
    "duration": 24,
    "start_time": "2024-07-16T17:21:36.619Z"
   },
   {
    "duration": 8,
    "start_time": "2024-07-16T17:21:36.646Z"
   },
   {
    "duration": 66,
    "start_time": "2024-07-16T17:21:36.657Z"
   },
   {
    "duration": 56,
    "start_time": "2024-07-16T17:21:36.726Z"
   },
   {
    "duration": 26,
    "start_time": "2024-07-16T17:21:36.786Z"
   },
   {
    "duration": 18,
    "start_time": "2024-07-16T17:21:36.816Z"
   },
   {
    "duration": 27,
    "start_time": "2024-07-16T17:21:36.836Z"
   },
   {
    "duration": 25,
    "start_time": "2024-07-16T17:21:36.908Z"
   },
   {
    "duration": 25,
    "start_time": "2024-07-16T17:21:36.937Z"
   },
   {
    "duration": 60,
    "start_time": "2024-07-16T17:21:36.966Z"
   },
   {
    "duration": 36,
    "start_time": "2024-07-16T17:21:37.029Z"
   },
   {
    "duration": 41,
    "start_time": "2024-07-16T17:21:37.069Z"
   },
   {
    "duration": 162,
    "start_time": "2024-07-16T17:21:37.113Z"
   },
   {
    "duration": 501,
    "start_time": "2024-07-16T17:21:37.279Z"
   },
   {
    "duration": 463,
    "start_time": "2024-07-16T17:21:37.783Z"
   },
   {
    "duration": 12,
    "start_time": "2024-07-16T17:21:38.249Z"
   },
   {
    "duration": 267,
    "start_time": "2024-07-16T17:21:38.264Z"
   },
   {
    "duration": 535,
    "start_time": "2024-07-16T17:21:38.535Z"
   },
   {
    "duration": 462,
    "start_time": "2024-07-16T17:21:39.073Z"
   },
   {
    "duration": 165,
    "start_time": "2024-07-16T17:21:39.538Z"
   },
   {
    "duration": 12,
    "start_time": "2024-07-16T17:21:39.710Z"
   },
   {
    "duration": 22,
    "start_time": "2024-07-16T17:21:39.728Z"
   },
   {
    "duration": 13,
    "start_time": "2024-07-16T17:35:36.074Z"
   },
   {
    "duration": 1386,
    "start_time": "2024-07-16T19:43:11.092Z"
   },
   {
    "duration": 327,
    "start_time": "2024-07-16T19:43:12.482Z"
   },
   {
    "duration": 30,
    "start_time": "2024-07-16T19:43:12.812Z"
   },
   {
    "duration": 10,
    "start_time": "2024-07-16T19:43:12.847Z"
   },
   {
    "duration": 14,
    "start_time": "2024-07-16T19:43:12.860Z"
   },
   {
    "duration": 37,
    "start_time": "2024-07-16T19:43:12.878Z"
   },
   {
    "duration": 9,
    "start_time": "2024-07-16T19:43:12.924Z"
   },
   {
    "duration": 14,
    "start_time": "2024-07-16T19:43:12.936Z"
   },
   {
    "duration": 6,
    "start_time": "2024-07-16T19:43:12.953Z"
   },
   {
    "duration": 9,
    "start_time": "2024-07-16T19:43:12.966Z"
   },
   {
    "duration": 66,
    "start_time": "2024-07-16T19:43:12.979Z"
   },
   {
    "duration": 9,
    "start_time": "2024-07-16T19:43:13.048Z"
   },
   {
    "duration": 54,
    "start_time": "2024-07-16T19:43:13.061Z"
   },
   {
    "duration": 59,
    "start_time": "2024-07-16T19:43:13.118Z"
   },
   {
    "duration": 12,
    "start_time": "2024-07-16T19:43:13.180Z"
   },
   {
    "duration": 24,
    "start_time": "2024-07-16T19:43:13.209Z"
   },
   {
    "duration": 24,
    "start_time": "2024-07-16T19:43:13.236Z"
   },
   {
    "duration": 7,
    "start_time": "2024-07-16T19:43:13.263Z"
   },
   {
    "duration": 51,
    "start_time": "2024-07-16T19:43:13.274Z"
   },
   {
    "duration": 30,
    "start_time": "2024-07-16T19:43:13.328Z"
   },
   {
    "duration": 23,
    "start_time": "2024-07-16T19:43:13.361Z"
   },
   {
    "duration": 15,
    "start_time": "2024-07-16T19:43:13.423Z"
   },
   {
    "duration": 26,
    "start_time": "2024-07-16T19:43:13.441Z"
   },
   {
    "duration": 89,
    "start_time": "2024-07-16T19:43:13.470Z"
   },
   {
    "duration": 14,
    "start_time": "2024-07-16T19:43:13.562Z"
   },
   {
    "duration": 32,
    "start_time": "2024-07-16T19:43:13.580Z"
   },
   {
    "duration": 36,
    "start_time": "2024-07-16T19:43:13.615Z"
   },
   {
    "duration": 23,
    "start_time": "2024-07-16T19:43:13.658Z"
   },
   {
    "duration": 39,
    "start_time": "2024-07-16T19:43:13.708Z"
   },
   {
    "duration": 29,
    "start_time": "2024-07-16T19:43:13.751Z"
   },
   {
    "duration": 66,
    "start_time": "2024-07-16T19:43:13.782Z"
   },
   {
    "duration": 16,
    "start_time": "2024-07-16T19:43:13.853Z"
   },
   {
    "duration": 214,
    "start_time": "2024-07-16T19:43:13.872Z"
   },
   {
    "duration": 495,
    "start_time": "2024-07-16T19:43:14.091Z"
   },
   {
    "duration": 593,
    "start_time": "2024-07-16T19:43:14.600Z"
   },
   {
    "duration": 42,
    "start_time": "2024-07-16T19:43:15.196Z"
   },
   {
    "duration": 264,
    "start_time": "2024-07-16T19:43:15.244Z"
   },
   {
    "duration": 505,
    "start_time": "2024-07-16T19:43:15.512Z"
   },
   {
    "duration": 513,
    "start_time": "2024-07-16T19:43:16.020Z"
   },
   {
    "duration": 163,
    "start_time": "2024-07-16T19:43:16.536Z"
   },
   {
    "duration": 12,
    "start_time": "2024-07-16T19:43:16.713Z"
   },
   {
    "duration": 26,
    "start_time": "2024-07-16T19:43:16.728Z"
   },
   {
    "duration": 15,
    "start_time": "2024-07-16T22:55:26.048Z"
   },
   {
    "duration": 12,
    "start_time": "2024-07-17T00:30:46.848Z"
   },
   {
    "duration": 5020,
    "start_time": "2024-07-18T00:18:58.719Z"
   },
   {
    "duration": 401,
    "start_time": "2024-07-18T00:19:03.743Z"
   },
   {
    "duration": 17,
    "start_time": "2024-07-18T00:19:04.146Z"
   },
   {
    "duration": 10,
    "start_time": "2024-07-18T00:19:04.167Z"
   },
   {
    "duration": 15,
    "start_time": "2024-07-18T00:19:04.181Z"
   },
   {
    "duration": 8,
    "start_time": "2024-07-18T00:19:04.222Z"
   },
   {
    "duration": 8,
    "start_time": "2024-07-18T00:19:04.234Z"
   },
   {
    "duration": 9,
    "start_time": "2024-07-18T00:19:04.245Z"
   },
   {
    "duration": 6,
    "start_time": "2024-07-18T00:19:04.257Z"
   },
   {
    "duration": 55,
    "start_time": "2024-07-18T00:19:04.269Z"
   },
   {
    "duration": 26,
    "start_time": "2024-07-18T00:19:04.327Z"
   },
   {
    "duration": 7,
    "start_time": "2024-07-18T00:19:04.356Z"
   },
   {
    "duration": 68,
    "start_time": "2024-07-18T00:19:04.366Z"
   },
   {
    "duration": 47,
    "start_time": "2024-07-18T00:19:04.437Z"
   },
   {
    "duration": 39,
    "start_time": "2024-07-18T00:19:04.487Z"
   },
   {
    "duration": 15,
    "start_time": "2024-07-18T00:19:04.529Z"
   },
   {
    "duration": 19,
    "start_time": "2024-07-18T00:19:04.547Z"
   },
   {
    "duration": 7,
    "start_time": "2024-07-18T00:19:04.570Z"
   },
   {
    "duration": 54,
    "start_time": "2024-07-18T00:19:04.580Z"
   },
   {
    "duration": 24,
    "start_time": "2024-07-18T00:19:04.637Z"
   },
   {
    "duration": 22,
    "start_time": "2024-07-18T00:19:04.664Z"
   },
   {
    "duration": 37,
    "start_time": "2024-07-18T00:19:04.688Z"
   },
   {
    "duration": 32,
    "start_time": "2024-07-18T00:19:04.728Z"
   },
   {
    "duration": 70,
    "start_time": "2024-07-18T00:19:04.762Z"
   },
   {
    "duration": 9,
    "start_time": "2024-07-18T00:19:04.835Z"
   },
   {
    "duration": 15,
    "start_time": "2024-07-18T00:19:04.847Z"
   },
   {
    "duration": 18,
    "start_time": "2024-07-18T00:19:04.865Z"
   },
   {
    "duration": 27,
    "start_time": "2024-07-18T00:19:04.927Z"
   },
   {
    "duration": 23,
    "start_time": "2024-07-18T00:19:04.957Z"
   },
   {
    "duration": 58,
    "start_time": "2024-07-18T00:19:04.982Z"
   },
   {
    "duration": 30,
    "start_time": "2024-07-18T00:19:05.045Z"
   },
   {
    "duration": 65,
    "start_time": "2024-07-18T00:19:05.078Z"
   },
   {
    "duration": 17,
    "start_time": "2024-07-18T00:19:05.146Z"
   },
   {
    "duration": 170,
    "start_time": "2024-07-18T00:19:05.165Z"
   },
   {
    "duration": 459,
    "start_time": "2024-07-18T00:19:05.338Z"
   },
   {
    "duration": 459,
    "start_time": "2024-07-18T00:19:05.801Z"
   },
   {
    "duration": 12,
    "start_time": "2024-07-18T00:19:06.265Z"
   },
   {
    "duration": 247,
    "start_time": "2024-07-18T00:19:06.283Z"
   },
   {
    "duration": 441,
    "start_time": "2024-07-18T00:19:06.534Z"
   },
   {
    "duration": 545,
    "start_time": "2024-07-18T00:19:06.978Z"
   },
   {
    "duration": 152,
    "start_time": "2024-07-18T00:19:07.526Z"
   },
   {
    "duration": 12,
    "start_time": "2024-07-18T00:19:07.681Z"
   },
   {
    "duration": 41,
    "start_time": "2024-07-18T00:19:07.696Z"
   },
   {
    "duration": 45,
    "start_time": "2024-07-18T00:31:26.154Z"
   },
   {
    "duration": 48,
    "start_time": "2024-07-18T00:31:46.810Z"
   },
   {
    "duration": 53,
    "start_time": "2024-07-18T00:32:42.511Z"
   },
   {
    "duration": 26,
    "start_time": "2024-07-18T00:32:53.734Z"
   },
   {
    "duration": 49,
    "start_time": "2024-07-18T00:33:26.600Z"
   },
   {
    "duration": 50,
    "start_time": "2024-07-18T00:34:31.843Z"
   },
   {
    "duration": 52,
    "start_time": "2024-07-18T00:36:09.205Z"
   },
   {
    "duration": 1297,
    "start_time": "2024-07-18T03:55:46.798Z"
   },
   {
    "duration": 304,
    "start_time": "2024-07-18T03:55:48.098Z"
   },
   {
    "duration": 24,
    "start_time": "2024-07-18T03:55:48.406Z"
   },
   {
    "duration": 10,
    "start_time": "2024-07-18T03:55:48.437Z"
   },
   {
    "duration": 21,
    "start_time": "2024-07-18T03:55:48.451Z"
   },
   {
    "duration": 13,
    "start_time": "2024-07-18T03:55:48.476Z"
   },
   {
    "duration": 9,
    "start_time": "2024-07-18T03:55:48.523Z"
   },
   {
    "duration": 8,
    "start_time": "2024-07-18T03:55:48.536Z"
   },
   {
    "duration": 5,
    "start_time": "2024-07-18T03:55:48.547Z"
   },
   {
    "duration": 10,
    "start_time": "2024-07-18T03:55:48.558Z"
   },
   {
    "duration": 70,
    "start_time": "2024-07-18T03:55:48.571Z"
   },
   {
    "duration": 7,
    "start_time": "2024-07-18T03:55:48.644Z"
   },
   {
    "duration": 31,
    "start_time": "2024-07-18T03:55:48.655Z"
   },
   {
    "duration": 78,
    "start_time": "2024-07-18T03:55:48.689Z"
   },
   {
    "duration": 14,
    "start_time": "2024-07-18T03:55:48.770Z"
   },
   {
    "duration": 47,
    "start_time": "2024-07-18T03:55:48.786Z"
   },
   {
    "duration": 21,
    "start_time": "2024-07-18T03:55:48.836Z"
   },
   {
    "duration": 7,
    "start_time": "2024-07-18T03:55:48.861Z"
   },
   {
    "duration": 51,
    "start_time": "2024-07-18T03:55:48.872Z"
   },
   {
    "duration": 23,
    "start_time": "2024-07-18T03:55:48.926Z"
   },
   {
    "duration": 24,
    "start_time": "2024-07-18T03:55:48.951Z"
   },
   {
    "duration": 7,
    "start_time": "2024-07-18T03:55:48.978Z"
   },
   {
    "duration": 55,
    "start_time": "2024-07-18T03:55:48.988Z"
   },
   {
    "duration": 85,
    "start_time": "2024-07-18T03:55:49.046Z"
   },
   {
    "duration": 12,
    "start_time": "2024-07-18T03:55:49.134Z"
   },
   {
    "duration": 12,
    "start_time": "2024-07-18T03:55:49.149Z"
   },
   {
    "duration": 18,
    "start_time": "2024-07-18T03:55:49.165Z"
   },
   {
    "duration": 29,
    "start_time": "2024-07-18T03:55:49.226Z"
   },
   {
    "duration": 26,
    "start_time": "2024-07-18T03:55:49.258Z"
   },
   {
    "duration": 56,
    "start_time": "2024-07-18T03:55:49.288Z"
   },
   {
    "duration": 29,
    "start_time": "2024-07-18T03:55:49.350Z"
   },
   {
    "duration": 58,
    "start_time": "2024-07-18T03:55:49.382Z"
   },
   {
    "duration": 18,
    "start_time": "2024-07-18T03:55:49.443Z"
   },
   {
    "duration": 170,
    "start_time": "2024-07-18T03:55:49.465Z"
   },
   {
    "duration": 494,
    "start_time": "2024-07-18T03:55:49.638Z"
   },
   {
    "duration": 542,
    "start_time": "2024-07-18T03:55:50.134Z"
   },
   {
    "duration": 12,
    "start_time": "2024-07-18T03:55:50.679Z"
   },
   {
    "duration": 278,
    "start_time": "2024-07-18T03:55:50.694Z"
   },
   {
    "duration": 451,
    "start_time": "2024-07-18T03:55:50.976Z"
   },
   {
    "duration": 481,
    "start_time": "2024-07-18T03:55:51.430Z"
   },
   {
    "duration": 157,
    "start_time": "2024-07-18T03:55:51.915Z"
   },
   {
    "duration": 11,
    "start_time": "2024-07-18T03:55:52.076Z"
   },
   {
    "duration": 41,
    "start_time": "2024-07-18T03:55:52.090Z"
   },
   {
    "duration": 10,
    "start_time": "2024-07-18T04:39:14.646Z"
   },
   {
    "duration": 1620,
    "start_time": "2024-07-18T04:41:12.395Z"
   },
   {
    "duration": 150,
    "start_time": "2024-07-18T04:41:34.194Z"
   },
   {
    "duration": 1270,
    "start_time": "2024-07-18T04:42:38.215Z"
   },
   {
    "duration": 287,
    "start_time": "2024-07-18T04:42:39.488Z"
   },
   {
    "duration": 17,
    "start_time": "2024-07-18T04:42:39.777Z"
   },
   {
    "duration": 30,
    "start_time": "2024-07-18T04:42:39.800Z"
   },
   {
    "duration": 18,
    "start_time": "2024-07-18T04:42:39.835Z"
   },
   {
    "duration": 9,
    "start_time": "2024-07-18T04:42:39.857Z"
   },
   {
    "duration": 8,
    "start_time": "2024-07-18T04:42:39.870Z"
   },
   {
    "duration": 10,
    "start_time": "2024-07-18T04:42:39.923Z"
   },
   {
    "duration": 6,
    "start_time": "2024-07-18T04:42:39.936Z"
   },
   {
    "duration": 29,
    "start_time": "2024-07-18T04:42:39.948Z"
   },
   {
    "duration": 54,
    "start_time": "2024-07-18T04:42:39.980Z"
   },
   {
    "duration": 8,
    "start_time": "2024-07-18T04:42:40.037Z"
   },
   {
    "duration": 33,
    "start_time": "2024-07-18T04:42:40.048Z"
   },
   {
    "duration": 75,
    "start_time": "2024-07-18T04:42:40.083Z"
   },
   {
    "duration": 12,
    "start_time": "2024-07-18T04:42:40.161Z"
   },
   {
    "duration": 15,
    "start_time": "2024-07-18T04:42:40.175Z"
   },
   {
    "duration": 52,
    "start_time": "2024-07-18T04:42:40.192Z"
   },
   {
    "duration": 8,
    "start_time": "2024-07-18T04:42:40.248Z"
   },
   {
    "duration": 21,
    "start_time": "2024-07-18T04:42:40.260Z"
   },
   {
    "duration": 58,
    "start_time": "2024-07-18T04:42:40.284Z"
   },
   {
    "duration": 24,
    "start_time": "2024-07-18T04:42:40.345Z"
   },
   {
    "duration": 7,
    "start_time": "2024-07-18T04:42:40.372Z"
   },
   {
    "duration": 61,
    "start_time": "2024-07-18T04:42:40.382Z"
   },
   {
    "duration": 54,
    "start_time": "2024-07-18T04:42:40.446Z"
   },
   {
    "duration": 11,
    "start_time": "2024-07-18T04:42:40.523Z"
   },
   {
    "duration": 13,
    "start_time": "2024-07-18T04:42:40.536Z"
   },
   {
    "duration": 17,
    "start_time": "2024-07-18T04:42:40.551Z"
   },
   {
    "duration": 68,
    "start_time": "2024-07-18T04:42:40.575Z"
   },
   {
    "duration": 23,
    "start_time": "2024-07-18T04:42:40.646Z"
   },
   {
    "duration": 51,
    "start_time": "2024-07-18T04:42:40.672Z"
   },
   {
    "duration": 29,
    "start_time": "2024-07-18T04:42:40.726Z"
   },
   {
    "duration": 10,
    "start_time": "2024-07-18T04:42:40.758Z"
   },
   {
    "duration": 68,
    "start_time": "2024-07-18T04:42:40.771Z"
   },
   {
    "duration": 18,
    "start_time": "2024-07-18T04:42:40.842Z"
   },
   {
    "duration": 164,
    "start_time": "2024-07-18T04:42:40.867Z"
   },
   {
    "duration": 482,
    "start_time": "2024-07-18T04:42:41.035Z"
   },
   {
    "duration": 516,
    "start_time": "2024-07-18T04:42:41.524Z"
   },
   {
    "duration": 12,
    "start_time": "2024-07-18T04:42:42.044Z"
   },
   {
    "duration": 259,
    "start_time": "2024-07-18T04:42:42.059Z"
   },
   {
    "duration": 450,
    "start_time": "2024-07-18T04:42:42.324Z"
   },
   {
    "duration": 463,
    "start_time": "2024-07-18T04:42:42.777Z"
   },
   {
    "duration": 156,
    "start_time": "2024-07-18T04:42:43.243Z"
   },
   {
    "duration": 23,
    "start_time": "2024-07-18T04:42:43.403Z"
   },
   {
    "duration": 20,
    "start_time": "2024-07-18T04:42:43.429Z"
   },
   {
    "duration": 1282,
    "start_time": "2024-07-18T04:43:54.099Z"
   },
   {
    "duration": 282,
    "start_time": "2024-07-18T04:43:55.384Z"
   },
   {
    "duration": 17,
    "start_time": "2024-07-18T04:43:55.669Z"
   },
   {
    "duration": 9,
    "start_time": "2024-07-18T04:43:55.691Z"
   },
   {
    "duration": 16,
    "start_time": "2024-07-18T04:43:55.724Z"
   },
   {
    "duration": 11,
    "start_time": "2024-07-18T04:43:55.743Z"
   },
   {
    "duration": 9,
    "start_time": "2024-07-18T04:43:55.758Z"
   },
   {
    "duration": 54,
    "start_time": "2024-07-18T04:43:55.770Z"
   },
   {
    "duration": 5,
    "start_time": "2024-07-18T04:43:55.827Z"
   },
   {
    "duration": 10,
    "start_time": "2024-07-18T04:43:55.839Z"
   },
   {
    "duration": 28,
    "start_time": "2024-07-18T04:43:55.852Z"
   },
   {
    "duration": 44,
    "start_time": "2024-07-18T04:43:55.882Z"
   },
   {
    "duration": 31,
    "start_time": "2024-07-18T04:43:55.929Z"
   },
   {
    "duration": 96,
    "start_time": "2024-07-18T04:43:55.962Z"
   },
   {
    "duration": 13,
    "start_time": "2024-07-18T04:43:56.061Z"
   },
   {
    "duration": 15,
    "start_time": "2024-07-18T04:43:56.078Z"
   },
   {
    "duration": 19,
    "start_time": "2024-07-18T04:43:56.123Z"
   },
   {
    "duration": 7,
    "start_time": "2024-07-18T04:43:56.145Z"
   },
   {
    "duration": 18,
    "start_time": "2024-07-18T04:43:56.156Z"
   },
   {
    "duration": 55,
    "start_time": "2024-07-18T04:43:56.177Z"
   },
   {
    "duration": 26,
    "start_time": "2024-07-18T04:43:56.236Z"
   },
   {
    "duration": 8,
    "start_time": "2024-07-18T04:43:56.265Z"
   },
   {
    "duration": 61,
    "start_time": "2024-07-18T04:43:56.276Z"
   },
   {
    "duration": 55,
    "start_time": "2024-07-18T04:43:56.340Z"
   },
   {
    "duration": 32,
    "start_time": "2024-07-18T04:43:56.398Z"
   },
   {
    "duration": 15,
    "start_time": "2024-07-18T04:43:56.432Z"
   },
   {
    "duration": 20,
    "start_time": "2024-07-18T04:43:56.450Z"
   },
   {
    "duration": 59,
    "start_time": "2024-07-18T04:43:56.477Z"
   },
   {
    "duration": 24,
    "start_time": "2024-07-18T04:43:56.539Z"
   },
   {
    "duration": 57,
    "start_time": "2024-07-18T04:43:56.566Z"
   },
   {
    "duration": 28,
    "start_time": "2024-07-18T04:43:56.626Z"
   },
   {
    "duration": 11,
    "start_time": "2024-07-18T04:43:56.657Z"
   },
   {
    "duration": 73,
    "start_time": "2024-07-18T04:43:56.671Z"
   },
   {
    "duration": 20,
    "start_time": "2024-07-18T04:43:56.746Z"
   },
   {
    "duration": 176,
    "start_time": "2024-07-18T04:43:56.769Z"
   },
   {
    "duration": 476,
    "start_time": "2024-07-18T04:43:56.948Z"
   },
   {
    "duration": 537,
    "start_time": "2024-07-18T04:43:57.428Z"
   },
   {
    "duration": 12,
    "start_time": "2024-07-18T04:43:57.969Z"
   },
   {
    "duration": 261,
    "start_time": "2024-07-18T04:43:57.984Z"
   },
   {
    "duration": 479,
    "start_time": "2024-07-18T04:43:58.248Z"
   },
   {
    "duration": 463,
    "start_time": "2024-07-18T04:43:58.731Z"
   },
   {
    "duration": 163,
    "start_time": "2024-07-18T04:43:59.197Z"
   },
   {
    "duration": 13,
    "start_time": "2024-07-18T04:43:59.364Z"
   },
   {
    "duration": 52,
    "start_time": "2024-07-18T04:43:59.380Z"
   },
   {
    "duration": 1364,
    "start_time": "2024-07-18T04:45:15.331Z"
   },
   {
    "duration": 272,
    "start_time": "2024-07-18T04:45:16.700Z"
   },
   {
    "duration": 15,
    "start_time": "2024-07-18T04:45:16.974Z"
   },
   {
    "duration": 9,
    "start_time": "2024-07-18T04:45:16.994Z"
   },
   {
    "duration": 17,
    "start_time": "2024-07-18T04:45:17.024Z"
   },
   {
    "duration": 9,
    "start_time": "2024-07-18T04:45:17.044Z"
   },
   {
    "duration": 9,
    "start_time": "2024-07-18T04:45:17.056Z"
   },
   {
    "duration": 9,
    "start_time": "2024-07-18T04:45:17.069Z"
   },
   {
    "duration": 5,
    "start_time": "2024-07-18T04:45:17.124Z"
   },
   {
    "duration": 9,
    "start_time": "2024-07-18T04:45:17.135Z"
   },
   {
    "duration": 25,
    "start_time": "2024-07-18T04:45:17.147Z"
   },
   {
    "duration": 48,
    "start_time": "2024-07-18T04:45:17.174Z"
   },
   {
    "duration": 31,
    "start_time": "2024-07-18T04:45:17.225Z"
   },
   {
    "duration": 90,
    "start_time": "2024-07-18T04:45:17.259Z"
   },
   {
    "duration": 13,
    "start_time": "2024-07-18T04:45:17.352Z"
   },
   {
    "duration": 18,
    "start_time": "2024-07-18T04:45:17.372Z"
   },
   {
    "duration": 54,
    "start_time": "2024-07-18T04:45:17.394Z"
   },
   {
    "duration": 7,
    "start_time": "2024-07-18T04:45:17.451Z"
   },
   {
    "duration": 20,
    "start_time": "2024-07-18T04:45:17.462Z"
   },
   {
    "duration": 57,
    "start_time": "2024-07-18T04:45:17.485Z"
   },
   {
    "duration": 25,
    "start_time": "2024-07-18T04:45:17.545Z"
   },
   {
    "duration": 50,
    "start_time": "2024-07-18T04:45:17.573Z"
   },
   {
    "duration": 27,
    "start_time": "2024-07-18T04:45:17.627Z"
   },
   {
    "duration": 128,
    "start_time": "2024-07-18T04:45:17.658Z"
   },
   {
    "duration": 33,
    "start_time": "2024-07-18T04:45:17.790Z"
   },
   {
    "duration": 19,
    "start_time": "2024-07-18T04:45:17.827Z"
   },
   {
    "duration": 28,
    "start_time": "2024-07-18T04:45:17.851Z"
   },
   {
    "duration": 32,
    "start_time": "2024-07-18T04:45:17.922Z"
   },
   {
    "duration": 26,
    "start_time": "2024-07-18T04:45:17.958Z"
   },
   {
    "duration": 55,
    "start_time": "2024-07-18T04:45:17.987Z"
   },
   {
    "duration": 56,
    "start_time": "2024-07-18T04:45:18.048Z"
   },
   {
    "duration": 10,
    "start_time": "2024-07-18T04:45:18.124Z"
   },
   {
    "duration": 41,
    "start_time": "2024-07-18T04:45:18.138Z"
   },
   {
    "duration": 56,
    "start_time": "2024-07-18T04:45:18.182Z"
   },
   {
    "duration": 175,
    "start_time": "2024-07-18T04:45:18.241Z"
   },
   {
    "duration": 527,
    "start_time": "2024-07-18T04:45:18.427Z"
   },
   {
    "duration": 566,
    "start_time": "2024-07-18T04:45:18.959Z"
   },
   {
    "duration": 12,
    "start_time": "2024-07-18T04:45:19.529Z"
   },
   {
    "duration": 279,
    "start_time": "2024-07-18T04:45:19.544Z"
   },
   {
    "duration": 493,
    "start_time": "2024-07-18T04:45:19.827Z"
   },
   {
    "duration": 510,
    "start_time": "2024-07-18T04:45:20.324Z"
   },
   {
    "duration": 171,
    "start_time": "2024-07-18T04:45:20.838Z"
   },
   {
    "duration": 20,
    "start_time": "2024-07-18T04:45:21.012Z"
   },
   {
    "duration": 21,
    "start_time": "2024-07-18T04:45:21.036Z"
   },
   {
    "duration": 8,
    "start_time": "2024-07-18T04:46:54.145Z"
   },
   {
    "duration": 12,
    "start_time": "2024-07-18T04:55:04.821Z"
   },
   {
    "duration": 12,
    "start_time": "2024-07-18T04:58:48.388Z"
   },
   {
    "duration": 12,
    "start_time": "2024-07-18T04:59:42.887Z"
   },
   {
    "duration": 162,
    "start_time": "2024-07-18T05:00:38.662Z"
   },
   {
    "duration": 149,
    "start_time": "2024-07-18T05:05:56.806Z"
   },
   {
    "duration": 13,
    "start_time": "2024-07-18T05:06:04.077Z"
   },
   {
    "duration": 164,
    "start_time": "2024-07-18T05:08:23.819Z"
   },
   {
    "duration": 13,
    "start_time": "2024-07-18T05:08:47.706Z"
   },
   {
    "duration": 1206,
    "start_time": "2024-07-18T05:13:34.975Z"
   },
   {
    "duration": 289,
    "start_time": "2024-07-18T05:13:36.186Z"
   },
   {
    "duration": 15,
    "start_time": "2024-07-18T05:13:36.477Z"
   },
   {
    "duration": 26,
    "start_time": "2024-07-18T05:13:36.498Z"
   },
   {
    "duration": 16,
    "start_time": "2024-07-18T05:13:36.527Z"
   },
   {
    "duration": 8,
    "start_time": "2024-07-18T05:13:36.546Z"
   },
   {
    "duration": 10,
    "start_time": "2024-07-18T05:13:36.557Z"
   },
   {
    "duration": 53,
    "start_time": "2024-07-18T05:13:36.570Z"
   },
   {
    "duration": 5,
    "start_time": "2024-07-18T05:13:36.626Z"
   },
   {
    "duration": 9,
    "start_time": "2024-07-18T05:13:36.639Z"
   },
   {
    "duration": 24,
    "start_time": "2024-07-18T05:13:36.651Z"
   },
   {
    "duration": 7,
    "start_time": "2024-07-18T05:13:36.679Z"
   },
   {
    "duration": 30,
    "start_time": "2024-07-18T05:13:36.724Z"
   },
   {
    "duration": 72,
    "start_time": "2024-07-18T05:13:36.756Z"
   },
   {
    "duration": 11,
    "start_time": "2024-07-18T05:13:36.831Z"
   },
   {
    "duration": 15,
    "start_time": "2024-07-18T05:13:36.844Z"
   },
   {
    "duration": 19,
    "start_time": "2024-07-18T05:13:36.862Z"
   },
   {
    "duration": 41,
    "start_time": "2024-07-18T05:13:36.884Z"
   },
   {
    "duration": 18,
    "start_time": "2024-07-18T05:13:36.929Z"
   },
   {
    "duration": 23,
    "start_time": "2024-07-18T05:13:36.950Z"
   },
   {
    "duration": 59,
    "start_time": "2024-07-18T05:13:36.976Z"
   },
   {
    "duration": 8,
    "start_time": "2024-07-18T05:13:37.038Z"
   },
   {
    "duration": 24,
    "start_time": "2024-07-18T05:13:37.050Z"
   },
   {
    "duration": 87,
    "start_time": "2024-07-18T05:13:37.076Z"
   },
   {
    "duration": 10,
    "start_time": "2024-07-18T05:13:37.166Z"
   },
   {
    "duration": 12,
    "start_time": "2024-07-18T05:13:37.179Z"
   },
   {
    "duration": 17,
    "start_time": "2024-07-18T05:13:37.223Z"
   },
   {
    "duration": 29,
    "start_time": "2024-07-18T05:13:37.248Z"
   },
   {
    "duration": 55,
    "start_time": "2024-07-18T05:13:37.280Z"
   },
   {
    "duration": 28,
    "start_time": "2024-07-18T05:13:37.339Z"
   },
   {
    "duration": 55,
    "start_time": "2024-07-18T05:13:37.370Z"
   },
   {
    "duration": 9,
    "start_time": "2024-07-18T05:13:37.428Z"
   },
   {
    "duration": 37,
    "start_time": "2024-07-18T05:13:37.441Z"
   },
   {
    "duration": 55,
    "start_time": "2024-07-18T05:13:37.482Z"
   },
   {
    "duration": 161,
    "start_time": "2024-07-18T05:13:37.543Z"
   },
   {
    "duration": 461,
    "start_time": "2024-07-18T05:13:37.707Z"
   },
   {
    "duration": 522,
    "start_time": "2024-07-18T05:13:38.170Z"
   },
   {
    "duration": 24,
    "start_time": "2024-07-18T05:13:38.699Z"
   },
   {
    "duration": 249,
    "start_time": "2024-07-18T05:13:38.726Z"
   },
   {
    "duration": 437,
    "start_time": "2024-07-18T05:13:38.978Z"
   },
   {
    "duration": 479,
    "start_time": "2024-07-18T05:13:39.422Z"
   },
   {
    "duration": 173,
    "start_time": "2024-07-18T05:13:39.905Z"
   },
   {
    "duration": 11,
    "start_time": "2024-07-18T05:13:40.081Z"
   },
   {
    "duration": 43,
    "start_time": "2024-07-18T05:13:40.095Z"
   },
   {
    "duration": 1656,
    "start_time": "2024-07-18T05:14:34.919Z"
   },
   {
    "duration": 171,
    "start_time": "2024-07-18T05:14:56.833Z"
   },
   {
    "duration": 11,
    "start_time": "2024-07-18T05:15:39.026Z"
   },
   {
    "duration": 323,
    "start_time": "2024-07-18T17:11:49.328Z"
   },
   {
    "duration": 5675,
    "start_time": "2024-07-18T17:12:03.513Z"
   },
   {
    "duration": 425,
    "start_time": "2024-07-18T17:12:09.193Z"
   },
   {
    "duration": 19,
    "start_time": "2024-07-18T17:12:09.621Z"
   },
   {
    "duration": 13,
    "start_time": "2024-07-18T17:12:09.645Z"
   },
   {
    "duration": 16,
    "start_time": "2024-07-18T17:12:09.661Z"
   },
   {
    "duration": 11,
    "start_time": "2024-07-18T17:12:09.710Z"
   },
   {
    "duration": 11,
    "start_time": "2024-07-18T17:12:09.725Z"
   },
   {
    "duration": 13,
    "start_time": "2024-07-18T17:12:09.740Z"
   },
   {
    "duration": 5,
    "start_time": "2024-07-18T17:12:09.756Z"
   },
   {
    "duration": 13,
    "start_time": "2024-07-18T17:12:09.813Z"
   },
   {
    "duration": 34,
    "start_time": "2024-07-18T17:12:09.830Z"
   },
   {
    "duration": 8,
    "start_time": "2024-07-18T17:12:09.867Z"
   },
   {
    "duration": 32,
    "start_time": "2024-07-18T17:12:09.910Z"
   },
   {
    "duration": 74,
    "start_time": "2024-07-18T17:12:09.945Z"
   },
   {
    "duration": 11,
    "start_time": "2024-07-18T17:12:10.024Z"
   },
   {
    "duration": 20,
    "start_time": "2024-07-18T17:12:10.039Z"
   },
   {
    "duration": 56,
    "start_time": "2024-07-18T17:12:10.063Z"
   },
   {
    "duration": 6,
    "start_time": "2024-07-18T17:12:10.125Z"
   },
   {
    "duration": 18,
    "start_time": "2024-07-18T17:12:10.135Z"
   },
   {
    "duration": 59,
    "start_time": "2024-07-18T17:12:10.156Z"
   },
   {
    "duration": 23,
    "start_time": "2024-07-18T17:12:10.218Z"
   },
   {
    "duration": 7,
    "start_time": "2024-07-18T17:12:10.244Z"
   },
   {
    "duration": 55,
    "start_time": "2024-07-18T17:12:10.253Z"
   },
   {
    "duration": 55,
    "start_time": "2024-07-18T17:12:10.311Z"
   },
   {
    "duration": 10,
    "start_time": "2024-07-18T17:12:10.369Z"
   },
   {
    "duration": 13,
    "start_time": "2024-07-18T17:12:10.409Z"
   },
   {
    "duration": 18,
    "start_time": "2024-07-18T17:12:10.425Z"
   },
   {
    "duration": 61,
    "start_time": "2024-07-18T17:12:10.451Z"
   },
   {
    "duration": 26,
    "start_time": "2024-07-18T17:12:10.516Z"
   },
   {
    "duration": 32,
    "start_time": "2024-07-18T17:12:10.545Z"
   },
   {
    "duration": 27,
    "start_time": "2024-07-18T17:12:10.610Z"
   },
   {
    "duration": 12,
    "start_time": "2024-07-18T17:12:10.641Z"
   },
   {
    "duration": 67,
    "start_time": "2024-07-18T17:12:10.656Z"
   },
   {
    "duration": 18,
    "start_time": "2024-07-18T17:12:10.726Z"
   },
   {
    "duration": 171,
    "start_time": "2024-07-18T17:12:10.747Z"
   },
   {
    "duration": 451,
    "start_time": "2024-07-18T17:12:10.921Z"
   },
   {
    "duration": 474,
    "start_time": "2024-07-18T17:12:11.376Z"
   },
   {
    "duration": 14,
    "start_time": "2024-07-18T17:12:11.853Z"
   },
   {
    "duration": 262,
    "start_time": "2024-07-18T17:12:11.872Z"
   },
   {
    "duration": 500,
    "start_time": "2024-07-18T17:12:12.137Z"
   },
   {
    "duration": 492,
    "start_time": "2024-07-18T17:12:12.640Z"
   },
   {
    "duration": 166,
    "start_time": "2024-07-18T17:12:13.136Z"
   },
   {
    "duration": 10,
    "start_time": "2024-07-18T17:12:13.308Z"
   },
   {
    "duration": 15,
    "start_time": "2024-07-18T17:12:13.321Z"
   },
   {
    "duration": 20,
    "start_time": "2024-07-18T17:12:13.339Z"
   },
   {
    "duration": 9,
    "start_time": "2024-07-18T17:12:58.266Z"
   },
   {
    "duration": 16,
    "start_time": "2024-07-18T17:13:16.665Z"
   },
   {
    "duration": 1543,
    "start_time": "2024-07-18T17:14:26.541Z"
   },
   {
    "duration": 289,
    "start_time": "2024-07-18T17:14:28.089Z"
   },
   {
    "duration": 26,
    "start_time": "2024-07-18T17:14:28.383Z"
   },
   {
    "duration": 15,
    "start_time": "2024-07-18T17:14:28.413Z"
   },
   {
    "duration": 17,
    "start_time": "2024-07-18T17:14:28.431Z"
   },
   {
    "duration": 58,
    "start_time": "2024-07-18T17:14:28.452Z"
   },
   {
    "duration": 10,
    "start_time": "2024-07-18T17:14:28.513Z"
   },
   {
    "duration": 9,
    "start_time": "2024-07-18T17:14:28.526Z"
   },
   {
    "duration": 14,
    "start_time": "2024-07-18T17:14:28.537Z"
   },
   {
    "duration": 11,
    "start_time": "2024-07-18T17:14:28.557Z"
   },
   {
    "duration": 73,
    "start_time": "2024-07-18T17:14:28.571Z"
   },
   {
    "duration": 9,
    "start_time": "2024-07-18T17:14:28.652Z"
   },
   {
    "duration": 51,
    "start_time": "2024-07-18T17:14:28.664Z"
   },
   {
    "duration": 59,
    "start_time": "2024-07-18T17:14:28.720Z"
   },
   {
    "duration": 37,
    "start_time": "2024-07-18T17:14:28.783Z"
   },
   {
    "duration": 25,
    "start_time": "2024-07-18T17:14:28.826Z"
   },
   {
    "duration": 22,
    "start_time": "2024-07-18T17:14:28.859Z"
   },
   {
    "duration": 22,
    "start_time": "2024-07-18T17:14:28.889Z"
   },
   {
    "duration": 27,
    "start_time": "2024-07-18T17:14:28.915Z"
   },
   {
    "duration": 28,
    "start_time": "2024-07-18T17:14:28.946Z"
   },
   {
    "duration": 31,
    "start_time": "2024-07-18T17:14:29.008Z"
   },
   {
    "duration": 15,
    "start_time": "2024-07-18T17:14:29.042Z"
   },
   {
    "duration": 49,
    "start_time": "2024-07-18T17:14:29.063Z"
   },
   {
    "duration": 70,
    "start_time": "2024-07-18T17:14:29.118Z"
   },
   {
    "duration": 23,
    "start_time": "2024-07-18T17:14:29.192Z"
   },
   {
    "duration": 21,
    "start_time": "2024-07-18T17:14:29.220Z"
   },
   {
    "duration": 23,
    "start_time": "2024-07-18T17:14:29.244Z"
   },
   {
    "duration": 37,
    "start_time": "2024-07-18T17:14:29.311Z"
   },
   {
    "duration": 23,
    "start_time": "2024-07-18T17:14:29.353Z"
   },
   {
    "duration": 45,
    "start_time": "2024-07-18T17:14:29.380Z"
   },
   {
    "duration": 29,
    "start_time": "2024-07-18T17:14:29.428Z"
   },
   {
    "duration": 11,
    "start_time": "2024-07-18T17:14:29.461Z"
   },
   {
    "duration": 42,
    "start_time": "2024-07-18T17:14:29.509Z"
   },
   {
    "duration": 19,
    "start_time": "2024-07-18T17:14:29.555Z"
   },
   {
    "duration": 208,
    "start_time": "2024-07-18T17:14:29.577Z"
   },
   {
    "duration": 485,
    "start_time": "2024-07-18T17:14:29.792Z"
   },
   {
    "duration": 584,
    "start_time": "2024-07-18T17:14:30.281Z"
   },
   {
    "duration": 13,
    "start_time": "2024-07-18T17:14:30.869Z"
   },
   {
    "duration": 294,
    "start_time": "2024-07-18T17:14:30.887Z"
   },
   {
    "duration": 507,
    "start_time": "2024-07-18T17:14:31.184Z"
   },
   {
    "duration": 528,
    "start_time": "2024-07-18T17:14:31.695Z"
   },
   {
    "duration": 220,
    "start_time": "2024-07-18T17:14:32.227Z"
   },
   {
    "duration": 14,
    "start_time": "2024-07-18T17:14:32.451Z"
   },
   {
    "duration": 43,
    "start_time": "2024-07-18T17:14:32.469Z"
   },
   {
    "duration": 15,
    "start_time": "2024-07-18T17:14:32.516Z"
   },
   {
    "duration": 25,
    "start_time": "2024-07-18T17:14:32.537Z"
   },
   {
    "duration": 62,
    "start_time": "2024-07-18T17:14:32.565Z"
   },
   {
    "duration": 4862,
    "start_time": "2024-07-25T22:53:54.817Z"
   },
   {
    "duration": 335,
    "start_time": "2024-07-25T22:53:59.684Z"
   },
   {
    "duration": 16,
    "start_time": "2024-07-25T22:54:00.022Z"
   },
   {
    "duration": 10,
    "start_time": "2024-07-25T22:54:00.041Z"
   },
   {
    "duration": 16,
    "start_time": "2024-07-25T22:54:00.055Z"
   },
   {
    "duration": 8,
    "start_time": "2024-07-25T22:54:00.074Z"
   },
   {
    "duration": 49,
    "start_time": "2024-07-25T22:54:00.085Z"
   },
   {
    "duration": 9,
    "start_time": "2024-07-25T22:54:00.137Z"
   },
   {
    "duration": 5,
    "start_time": "2024-07-25T22:54:00.149Z"
   },
   {
    "duration": 10,
    "start_time": "2024-07-25T22:54:00.157Z"
   },
   {
    "duration": 70,
    "start_time": "2024-07-25T22:54:00.170Z"
   },
   {
    "duration": 7,
    "start_time": "2024-07-25T22:54:00.243Z"
   },
   {
    "duration": 29,
    "start_time": "2024-07-25T22:54:00.253Z"
   },
   {
    "duration": 75,
    "start_time": "2024-07-25T22:54:00.288Z"
   },
   {
    "duration": 10,
    "start_time": "2024-07-25T22:54:00.366Z"
   },
   {
    "duration": 17,
    "start_time": "2024-07-25T22:54:00.379Z"
   },
   {
    "duration": 47,
    "start_time": "2024-07-25T22:54:00.401Z"
   },
   {
    "duration": 7,
    "start_time": "2024-07-25T22:54:00.450Z"
   },
   {
    "duration": 19,
    "start_time": "2024-07-25T22:54:00.460Z"
   },
   {
    "duration": 58,
    "start_time": "2024-07-25T22:54:00.482Z"
   },
   {
    "duration": 23,
    "start_time": "2024-07-25T22:54:00.543Z"
   },
   {
    "duration": 7,
    "start_time": "2024-07-25T22:54:00.568Z"
   },
   {
    "duration": 60,
    "start_time": "2024-07-25T22:54:00.578Z"
   },
   {
    "duration": 54,
    "start_time": "2024-07-25T22:54:00.641Z"
   },
   {
    "duration": 37,
    "start_time": "2024-07-25T22:54:00.697Z"
   },
   {
    "duration": 11,
    "start_time": "2024-07-25T22:54:00.737Z"
   },
   {
    "duration": 16,
    "start_time": "2024-07-25T22:54:00.751Z"
   },
   {
    "duration": 62,
    "start_time": "2024-07-25T22:54:00.770Z"
   },
   {
    "duration": 23,
    "start_time": "2024-07-25T22:54:00.835Z"
   },
   {
    "duration": 25,
    "start_time": "2024-07-25T22:54:00.861Z"
   },
   {
    "duration": 59,
    "start_time": "2024-07-25T22:54:00.889Z"
   },
   {
    "duration": 9,
    "start_time": "2024-07-25T22:54:00.951Z"
   },
   {
    "duration": 34,
    "start_time": "2024-07-25T22:54:00.963Z"
   },
   {
    "duration": 47,
    "start_time": "2024-07-25T22:54:01.000Z"
   },
   {
    "duration": 161,
    "start_time": "2024-07-25T22:54:01.050Z"
   },
   {
    "duration": 495,
    "start_time": "2024-07-25T22:54:01.214Z"
   },
   {
    "duration": 450,
    "start_time": "2024-07-25T22:54:01.712Z"
   },
   {
    "duration": 13,
    "start_time": "2024-07-25T22:54:02.165Z"
   },
   {
    "duration": 261,
    "start_time": "2024-07-25T22:54:02.181Z"
   },
   {
    "duration": 441,
    "start_time": "2024-07-25T22:54:02.445Z"
   },
   {
    "duration": 448,
    "start_time": "2024-07-25T22:54:02.894Z"
   },
   {
    "duration": 159,
    "start_time": "2024-07-25T22:54:03.346Z"
   },
   {
    "duration": 25,
    "start_time": "2024-07-25T22:54:03.508Z"
   },
   {
    "duration": 112,
    "start_time": "2024-07-25T22:54:03.536Z"
   },
   {
    "duration": 4829,
    "start_time": "2024-08-01T01:59:16.000Z"
   },
   {
    "duration": 381,
    "start_time": "2024-08-01T01:59:20.835Z"
   },
   {
    "duration": 19,
    "start_time": "2024-08-01T01:59:21.222Z"
   },
   {
    "duration": 9,
    "start_time": "2024-08-01T01:59:21.246Z"
   },
   {
    "duration": 15,
    "start_time": "2024-08-01T01:59:21.258Z"
   },
   {
    "duration": 8,
    "start_time": "2024-08-01T01:59:21.276Z"
   },
   {
    "duration": 48,
    "start_time": "2024-08-01T01:59:21.287Z"
   },
   {
    "duration": 9,
    "start_time": "2024-08-01T01:59:21.338Z"
   },
   {
    "duration": 5,
    "start_time": "2024-08-01T01:59:21.350Z"
   },
   {
    "duration": 9,
    "start_time": "2024-08-01T01:59:21.362Z"
   },
   {
    "duration": 69,
    "start_time": "2024-08-01T01:59:21.375Z"
   },
   {
    "duration": 8,
    "start_time": "2024-08-01T01:59:21.448Z"
   },
   {
    "duration": 30,
    "start_time": "2024-08-01T01:59:21.458Z"
   },
   {
    "duration": 75,
    "start_time": "2024-08-01T01:59:21.491Z"
   },
   {
    "duration": 11,
    "start_time": "2024-08-01T01:59:21.569Z"
   },
   {
    "duration": 14,
    "start_time": "2024-08-01T01:59:21.583Z"
   },
   {
    "duration": 52,
    "start_time": "2024-08-01T01:59:21.600Z"
   },
   {
    "duration": 7,
    "start_time": "2024-08-01T01:59:21.655Z"
   },
   {
    "duration": 19,
    "start_time": "2024-08-01T01:59:21.666Z"
   },
   {
    "duration": 60,
    "start_time": "2024-08-01T01:59:21.688Z"
   },
   {
    "duration": 23,
    "start_time": "2024-08-01T01:59:21.751Z"
   },
   {
    "duration": 8,
    "start_time": "2024-08-01T01:59:21.777Z"
   },
   {
    "duration": 54,
    "start_time": "2024-08-01T01:59:21.788Z"
   },
   {
    "duration": 53,
    "start_time": "2024-08-01T01:59:21.844Z"
   },
   {
    "duration": 36,
    "start_time": "2024-08-01T01:59:21.899Z"
   },
   {
    "duration": 12,
    "start_time": "2024-08-01T01:59:21.938Z"
   },
   {
    "duration": 18,
    "start_time": "2024-08-01T01:59:21.953Z"
   },
   {
    "duration": 62,
    "start_time": "2024-08-01T01:59:21.980Z"
   },
   {
    "duration": 24,
    "start_time": "2024-08-01T01:59:22.045Z"
   },
   {
    "duration": 25,
    "start_time": "2024-08-01T01:59:22.071Z"
   },
   {
    "duration": 55,
    "start_time": "2024-08-01T01:59:22.099Z"
   },
   {
    "duration": 9,
    "start_time": "2024-08-01T01:59:22.157Z"
   },
   {
    "duration": 64,
    "start_time": "2024-08-01T01:59:22.170Z"
   },
   {
    "duration": 19,
    "start_time": "2024-08-01T01:59:22.238Z"
   },
   {
    "duration": 166,
    "start_time": "2024-08-01T01:59:22.260Z"
   },
   {
    "duration": 446,
    "start_time": "2024-08-01T01:59:22.435Z"
   },
   {
    "duration": 471,
    "start_time": "2024-08-01T01:59:22.884Z"
   },
   {
    "duration": 12,
    "start_time": "2024-08-01T01:59:23.358Z"
   },
   {
    "duration": 256,
    "start_time": "2024-08-01T01:59:23.373Z"
   },
   {
    "duration": 518,
    "start_time": "2024-08-01T01:59:23.635Z"
   },
   {
    "duration": 452,
    "start_time": "2024-08-01T01:59:24.156Z"
   },
   {
    "duration": 155,
    "start_time": "2024-08-01T01:59:24.611Z"
   },
   {
    "duration": 11,
    "start_time": "2024-08-01T01:59:24.768Z"
   },
   {
    "duration": 20,
    "start_time": "2024-08-01T01:59:24.782Z"
   },
   {
    "duration": 10,
    "start_time": "2024-08-01T01:59:54.589Z"
   },
   {
    "duration": 11,
    "start_time": "2024-08-01T03:47:04.452Z"
   },
   {
    "duration": 11,
    "start_time": "2024-08-01T03:47:42.527Z"
   },
   {
    "duration": 11,
    "start_time": "2024-08-01T03:48:19.048Z"
   },
   {
    "duration": 10,
    "start_time": "2024-08-01T04:01:13.638Z"
   },
   {
    "duration": 10,
    "start_time": "2024-08-01T04:02:30.927Z"
   },
   {
    "duration": 20,
    "start_time": "2024-08-01T04:04:45.164Z"
   },
   {
    "duration": 8,
    "start_time": "2024-08-01T04:06:32.640Z"
   }
  ],
  "colab": {
   "provenance": []
  },
  "kernelspec": {
   "display_name": "Python 3 (ipykernel)",
   "language": "python",
   "name": "python3"
  },
  "language_info": {
   "codemirror_mode": {
    "name": "ipython",
    "version": 3
   },
   "file_extension": ".py",
   "mimetype": "text/x-python",
   "name": "python",
   "nbconvert_exporter": "python",
   "pygments_lexer": "ipython3",
   "version": "3.9.19"
  },
  "toc": {
   "base_numbering": 1,
   "nav_menu": {},
   "number_sections": true,
   "sideBar": true,
   "skip_h1_title": false,
   "title_cell": "Table of Contents",
   "title_sidebar": "Contents",
   "toc_cell": false,
   "toc_position": {
    "height": "calc(100% - 180px)",
    "left": "10px",
    "top": "150px",
    "width": "228px"
   },
   "toc_section_display": true,
   "toc_window_display": true
  }
 },
 "nbformat": 4,
 "nbformat_minor": 1
}
